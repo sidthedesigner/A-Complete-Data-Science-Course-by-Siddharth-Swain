{
 "cells": [
  {
   "cell_type": "markdown",
   "id": "66c8a02a",
   "metadata": {
    "id": "PWbJJ-3Jtu0n"
   },
   "source": [
    "## Python Function\n",
    "\n",
    "A function is a block of code which only runs when it is called.\n",
    "\n",
    "You can pass data, known as parameters, into a function.\n",
    "\n",
    "A function can return data as a result."
   ]
  },
  {
   "cell_type": "markdown",
   "id": "ed4815b5",
   "metadata": {
    "id": "-q6b5KpluMEV"
   },
   "source": [
    "## Creating a Function\n",
    "In Python a function is defined using the def keyword.\n",
    "\n",
    "## Calling a Function\n",
    "To call a function, use the function name followed by parenthesis."
   ]
  },
  {
   "cell_type": "code",
   "execution_count": null,
   "id": "6a8adae7",
   "metadata": {
    "colab": {
     "base_uri": "https://localhost:8080/"
    },
    "executionInfo": {
     "elapsed": 372,
     "status": "ok",
     "timestamp": 1626580168350,
     "user": {
      "displayName": "Siddharth Swain",
      "photoUrl": "",
      "userId": "12055456511825659152"
     },
     "user_tz": -330
    },
    "id": "BVf1t7cgtMQz",
    "outputId": "ad53930c-b87d-4c1f-8d71-9090c79bec5c"
   },
   "outputs": [
    {
     "name": "stdout",
     "output_type": "stream",
     "text": [
      "Hello from a function\n"
     ]
    }
   ],
   "source": [
    "def my_function():\n",
    "  print(\"Hello from a function\")\n",
    "\n",
    "my_function()"
   ]
  },
  {
   "cell_type": "code",
   "execution_count": null,
   "id": "ca4ef1c8",
   "metadata": {
    "colab": {
     "base_uri": "https://localhost:8080/"
    },
    "executionInfo": {
     "elapsed": 4713,
     "status": "ok",
     "timestamp": 1626580152986,
     "user": {
      "displayName": "Siddharth Swain",
      "photoUrl": "",
      "userId": "12055456511825659152"
     },
     "user_tz": -330
    },
    "id": "Ucev84f7uRQd",
    "outputId": "56be8f3d-7a8b-46f4-e74d-8cc5e3d634ce"
   },
   "outputs": [
    {
     "name": "stdout",
     "output_type": "stream",
     "text": [
      "Enter value of a: 10\n",
      "Enter value of b: 5\n",
      "The sum of a and b is 15.\n"
     ]
    }
   ],
   "source": [
    "def sum(a,b):\n",
    "  return a+b\n",
    "\n",
    "a = int(input(\"Enter value of a: \"))\n",
    "b = int(input(\"Enter value of b: \"))\n",
    "\n",
    "print(\"The sum of a and b is {0}.\".format(sum(a,b))) "
   ]
  },
  {
   "cell_type": "markdown",
   "id": "6cd7921c",
   "metadata": {
    "id": "LFEFrAWwvHQv"
   },
   "source": [
    "## Arguments\n",
    "\n",
    "Information can be passed into functions as arguments. \n",
    "\n",
    "Arguments are specified after the function name, inside the parentheses. You can add as many arguments as you want, just separate them with a comma.\n",
    "\n",
    "The following example has a function with one argument (fname). \n",
    "\n",
    "When the function is called, we pass along a first name, which is used inside the function to print the full name."
   ]
  },
  {
   "cell_type": "code",
   "execution_count": null,
   "id": "64892130",
   "metadata": {
    "colab": {
     "base_uri": "https://localhost:8080/"
    },
    "executionInfo": {
     "elapsed": 379,
     "status": "ok",
     "timestamp": 1626580248109,
     "user": {
      "displayName": "Siddharth Swain",
      "photoUrl": "",
      "userId": "12055456511825659152"
     },
     "user_tz": -330
    },
    "id": "oS-xwVTMut79",
    "outputId": "fbe75b67-05f0-430b-8526-40516c34ebea"
   },
   "outputs": [
    {
     "name": "stdout",
     "output_type": "stream",
     "text": [
      "Emil Refsnes\n",
      "Tobias Refsnes\n",
      "Linus Refsnes\n"
     ]
    }
   ],
   "source": [
    "def my_function(fname):\n",
    "  print(fname + \" Refsnes\")\n",
    "\n",
    "my_function(\"Emil\")\n",
    "my_function(\"Tobias\")\n",
    "my_function(\"Linus\")"
   ]
  },
  {
   "cell_type": "markdown",
   "id": "dc897533",
   "metadata": {
    "id": "0QUVOqFIva-m"
   },
   "source": [
    "## Parameters or Arguments?\n",
    "\n",
    "The terms parameter and argument can be used for the same thing: information that are passed into a function."
   ]
  },
  {
   "cell_type": "markdown",
   "id": "abfe7712",
   "metadata": {
    "id": "NfNj0ekOvhrV"
   },
   "source": [
    "## Number of Arguments\n",
    "\n",
    "By default, a function must be called with the correct number of arguments. \n",
    "\n",
    "Meaning that if your function expects 2 arguments, you have to call the function with 2 arguments, not more, and not less."
   ]
  },
  {
   "cell_type": "code",
   "execution_count": null,
   "id": "796a1f97",
   "metadata": {
    "colab": {
     "base_uri": "https://localhost:8080/"
    },
    "executionInfo": {
     "elapsed": 387,
     "status": "ok",
     "timestamp": 1626580398731,
     "user": {
      "displayName": "Siddharth Swain",
      "photoUrl": "",
      "userId": "12055456511825659152"
     },
     "user_tz": -330
    },
    "id": "URcFk_QtvOI8",
    "outputId": "850dc20e-67cc-4833-e9a0-39d86cc89eec"
   },
   "outputs": [
    {
     "name": "stdout",
     "output_type": "stream",
     "text": [
      "Emil Refsnes\n"
     ]
    }
   ],
   "source": [
    "# This function expects 2 arguments, and gets 2 arguments.\n",
    "\n",
    "# If you try to call the function with 1 or 3 arguments, you will get an error.\n",
    "\n",
    "def my_function(fname, lname):\n",
    "  print(fname + \" \" + lname)\n",
    "\n",
    "my_function(\"Emil\", \"Refsnes\")"
   ]
  },
  {
   "cell_type": "code",
   "execution_count": null,
   "id": "df2bd3eb",
   "metadata": {
    "colab": {
     "base_uri": "https://localhost:8080/",
     "height": 197
    },
    "executionInfo": {
     "elapsed": 385,
     "status": "error",
     "timestamp": 1626580442070,
     "user": {
      "displayName": "Siddharth Swain",
      "photoUrl": "",
      "userId": "12055456511825659152"
     },
     "user_tz": -330
    },
    "id": "kxvcazkFvp4l",
    "outputId": "e9d0f229-0e2e-4f44-e425-81998b173560"
   },
   "outputs": [
    {
     "ename": "TypeError",
     "evalue": "ignored",
     "output_type": "error",
     "traceback": [
      "\u001b[0;31m---------------------------------------------------------------------------\u001b[0m",
      "\u001b[0;31mTypeError\u001b[0m                                 Traceback (most recent call last)",
      "\u001b[0;32m<ipython-input-9-b94d27533b54>\u001b[0m in \u001b[0;36m<module>\u001b[0;34m()\u001b[0m\n\u001b[1;32m      4\u001b[0m   \u001b[0mprint\u001b[0m\u001b[0;34m(\u001b[0m\u001b[0mfname\u001b[0m \u001b[0;34m+\u001b[0m \u001b[0;34m\" \"\u001b[0m \u001b[0;34m+\u001b[0m \u001b[0mlname\u001b[0m\u001b[0;34m)\u001b[0m\u001b[0;34m\u001b[0m\u001b[0;34m\u001b[0m\u001b[0m\n\u001b[1;32m      5\u001b[0m \u001b[0;34m\u001b[0m\u001b[0m\n\u001b[0;32m----> 6\u001b[0;31m \u001b[0mmy_function\u001b[0m\u001b[0;34m(\u001b[0m\u001b[0;34m\"Emil\"\u001b[0m\u001b[0;34m)\u001b[0m\u001b[0;34m\u001b[0m\u001b[0;34m\u001b[0m\u001b[0m\n\u001b[0m",
      "\u001b[0;31mTypeError\u001b[0m: my_function() missing 1 required positional argument: 'lname'"
     ]
    }
   ],
   "source": [
    "# This function expects 2 arguments, but gets only 1, hence it gives an error.\n",
    "\n",
    "def my_function(fname, lname):\n",
    "  print(fname + \" \" + lname)\n",
    "\n",
    "my_function(\"Emil\")"
   ]
  },
  {
   "cell_type": "markdown",
   "id": "cc95db44",
   "metadata": {
    "id": "hlBDfM8-waO-"
   },
   "source": [
    "## Arbitrary Arguments (*args)\n",
    "\n",
    "If you do not know how many arguments that will be passed into your function, add (*) before the parameter name in the function definition.\n",
    "\n",
    "This way the function will receive a tuple of arguments, and can access the items accordingly."
   ]
  },
  {
   "cell_type": "code",
   "execution_count": null,
   "id": "ba1a6479",
   "metadata": {
    "colab": {
     "base_uri": "https://localhost:8080/"
    },
    "executionInfo": {
     "elapsed": 369,
     "status": "ok",
     "timestamp": 1626580545109,
     "user": {
      "displayName": "Siddharth Swain",
      "photoUrl": "",
      "userId": "12055456511825659152"
     },
     "user_tz": -330
    },
    "id": "dhIApgIsv9VM",
    "outputId": "1bfdeffb-459c-44cb-a96c-75e545132280"
   },
   "outputs": [
    {
     "name": "stdout",
     "output_type": "stream",
     "text": [
      "The youngest child is Emil\n"
     ]
    }
   ],
   "source": [
    "def my_function(*kids):\n",
    "  print(\"The youngest child is \" + kids[0])\n",
    "\n",
    "my_function(\"Emil\", \"Tobias\", \"Linus\")"
   ]
  },
  {
   "cell_type": "code",
   "execution_count": null,
   "id": "6c9091b3",
   "metadata": {
    "colab": {
     "base_uri": "https://localhost:8080/"
    },
    "executionInfo": {
     "elapsed": 369,
     "status": "ok",
     "timestamp": 1626580596069,
     "user": {
      "displayName": "Siddharth Swain",
      "photoUrl": "",
      "userId": "12055456511825659152"
     },
     "user_tz": -330
    },
    "id": "RHqwLW3UwQWc",
    "outputId": "586ad480-8e51-4e9c-cde1-3222916cd297"
   },
   "outputs": [
    {
     "name": "stdout",
     "output_type": "stream",
     "text": [
      "The youngest child is Tobias\n"
     ]
    }
   ],
   "source": [
    "def my_function(*kids):\n",
    "  print(\"The youngest child is \" + kids[1])\n",
    "\n",
    "my_function(\"Emil\", \"Tobias\", \"Linus\")"
   ]
  },
  {
   "cell_type": "code",
   "execution_count": null,
   "id": "e6e9c81e",
   "metadata": {
    "colab": {
     "base_uri": "https://localhost:8080/"
    },
    "executionInfo": {
     "elapsed": 373,
     "status": "ok",
     "timestamp": 1626580601124,
     "user": {
      "displayName": "Siddharth Swain",
      "photoUrl": "",
      "userId": "12055456511825659152"
     },
     "user_tz": -330
    },
    "id": "5FknKz07wjF8",
    "outputId": "cffea143-1309-452b-e461-547e724b8286"
   },
   "outputs": [
    {
     "name": "stdout",
     "output_type": "stream",
     "text": [
      "The youngest child is Linus\n"
     ]
    }
   ],
   "source": [
    "def my_function(*kids):\n",
    "  print(\"The youngest child is \" + kids[2])\n",
    "\n",
    "my_function(\"Emil\", \"Tobias\", \"Linus\")"
   ]
  },
  {
   "cell_type": "markdown",
   "id": "44be506d",
   "metadata": {
    "id": "Q9vcZ5B9xBEV"
   },
   "source": [
    "## Keyword Arguments\n",
    "\n",
    "You can also send arguments with the key = value syntax.\n",
    "\n",
    "This way the order of the arguments does not matter."
   ]
  },
  {
   "cell_type": "code",
   "execution_count": null,
   "id": "ee3a93e4",
   "metadata": {
    "colab": {
     "base_uri": "https://localhost:8080/"
    },
    "executionInfo": {
     "elapsed": 394,
     "status": "ok",
     "timestamp": 1626580740041,
     "user": {
      "displayName": "Siddharth Swain",
      "photoUrl": "",
      "userId": "12055456511825659152"
     },
     "user_tz": -330
    },
    "id": "QpNVZhgQwkU8",
    "outputId": "6391b8e6-6562-49b2-ad2d-06914ae820fb"
   },
   "outputs": [
    {
     "name": "stdout",
     "output_type": "stream",
     "text": [
      "The youngest child is Linus\n"
     ]
    }
   ],
   "source": [
    "def my_function(child3, child2, child1):\n",
    "  print(\"The youngest child is \" + child3)\n",
    "\n",
    "my_function(child1 = \"Emil\", child2 = \"Tobias\", child3 = \"Linus\")"
   ]
  },
  {
   "cell_type": "markdown",
   "id": "1c9dc7b1",
   "metadata": {
    "id": "lf-GEZd6xNgn"
   },
   "source": [
    "## Arbitrary Keyword Arguments (**kwargs)\n",
    "\n",
    "If you do not know how many keyword arguments that will be passed into your function, add two asterisk: ** before the parameter name in the function definition.\n",
    "\n",
    "This way the function will receive a dictionary of arguments, and can access the items accordingly."
   ]
  },
  {
   "cell_type": "code",
   "execution_count": null,
   "id": "d18689ab",
   "metadata": {
    "colab": {
     "base_uri": "https://localhost:8080/"
    },
    "executionInfo": {
     "elapsed": 377,
     "status": "ok",
     "timestamp": 1626580796382,
     "user": {
      "displayName": "Siddharth Swain",
      "photoUrl": "",
      "userId": "12055456511825659152"
     },
     "user_tz": -330
    },
    "id": "rG-0-rBAxGO8",
    "outputId": "145de19b-a971-4a64-8ae8-bdcd05bf361a"
   },
   "outputs": [
    {
     "name": "stdout",
     "output_type": "stream",
     "text": [
      "His last name is Refsnes\n"
     ]
    }
   ],
   "source": [
    "def my_function(**kid):\n",
    "  print(\"His last name is \" + kid[\"lname\"])\n",
    "\n",
    "my_function(fname = \"Tobias\", lname = \"Refsnes\")"
   ]
  },
  {
   "cell_type": "markdown",
   "id": "0ff003f4",
   "metadata": {
    "id": "aHhy9jrKxgo1"
   },
   "source": [
    "## Default Parameter Value\n",
    "\n",
    "The following example shows how to use a default parameter value.\n",
    "\n",
    "If we call the function without argument, it uses the default value."
   ]
  },
  {
   "cell_type": "code",
   "execution_count": 1,
   "id": "5407080f",
   "metadata": {
    "colab": {
     "base_uri": "https://localhost:8080/"
    },
    "executionInfo": {
     "elapsed": 391,
     "status": "ok",
     "timestamp": 1626580867370,
     "user": {
      "displayName": "Siddharth Swain",
      "photoUrl": "",
      "userId": "12055456511825659152"
     },
     "user_tz": -330
    },
    "id": "aZf--v5MxT_s",
    "outputId": "e8726357-6edb-4490-89de-191d6405f0fb"
   },
   "outputs": [
    {
     "name": "stdout",
     "output_type": "stream",
     "text": [
      "I am from Sweden\n",
      "I am from India\n",
      "I am from Norway\n",
      "I am from Brazil\n"
     ]
    }
   ],
   "source": [
    "def my_function(country = \"Norway\"):\n",
    "  print(\"I am from \" + country)\n",
    "\n",
    "my_function(\"Sweden\")\n",
    "\n",
    "my_function(\"India\")\n",
    "\n",
    "my_function()\n",
    "\n",
    "my_function(\"Brazil\")"
   ]
  },
  {
   "cell_type": "markdown",
   "id": "61ef2f33",
   "metadata": {
    "id": "g-LXV7OvxoyN"
   },
   "source": [
    "## Passing a List as an Argument\n",
    "\n",
    "You can send any data types of argument to a function (string, number, list, dictionary etc.), and it will be treated as the same data type inside the function.\n",
    "\n",
    "Eg. if you send a List as an argument, it will still be a List when it reaches the function."
   ]
  },
  {
   "cell_type": "code",
   "execution_count": null,
   "id": "ce83c192",
   "metadata": {
    "colab": {
     "base_uri": "https://localhost:8080/"
    },
    "executionInfo": {
     "elapsed": 369,
     "status": "ok",
     "timestamp": 1626580899845,
     "user": {
      "displayName": "Siddharth Swain",
      "photoUrl": "",
      "userId": "12055456511825659152"
     },
     "user_tz": -330
    },
    "id": "EjDhSEONxlUs",
    "outputId": "dbf36473-a869-46de-e155-795527f5f346"
   },
   "outputs": [
    {
     "name": "stdout",
     "output_type": "stream",
     "text": [
      "apple\n",
      "banana\n",
      "cherry\n"
     ]
    }
   ],
   "source": [
    "def my_function(food):\n",
    "  for x in food:\n",
    "    print(x)\n",
    "\n",
    "fruits = [\"apple\", \"banana\", \"cherry\"]\n",
    "\n",
    "my_function(fruits)"
   ]
  },
  {
   "cell_type": "markdown",
   "id": "95e2b4e9",
   "metadata": {
    "id": "px9y-0aZxwoc"
   },
   "source": [
    "## Return Values\n",
    "\n",
    "To let a function return a value, use the return statement."
   ]
  },
  {
   "cell_type": "code",
   "execution_count": null,
   "id": "29a88a30",
   "metadata": {
    "colab": {
     "base_uri": "https://localhost:8080/"
    },
    "executionInfo": {
     "elapsed": 373,
     "status": "ok",
     "timestamp": 1626580928921,
     "user": {
      "displayName": "Siddharth Swain",
      "photoUrl": "",
      "userId": "12055456511825659152"
     },
     "user_tz": -330
    },
    "id": "5Yh4hBoBxtQr",
    "outputId": "c5346c03-04af-4f06-dd11-4f99dca404e5"
   },
   "outputs": [
    {
     "name": "stdout",
     "output_type": "stream",
     "text": [
      "15\n",
      "25\n",
      "45\n"
     ]
    }
   ],
   "source": [
    "def my_function(x):\n",
    "  return 5 * x\n",
    "\n",
    "print(my_function(3))\n",
    "\n",
    "print(my_function(5))\n",
    "\n",
    "print(my_function(9))"
   ]
  },
  {
   "cell_type": "markdown",
   "id": "0190097b",
   "metadata": {
    "id": "bgjpmik5x3fF"
   },
   "source": [
    "## The pass Statement\n",
    "\n",
    "Function definitions cannot be empty, but if you for some reason have a function definition with no content, put in the pass statement to avoid getting an error."
   ]
  },
  {
   "cell_type": "code",
   "execution_count": null,
   "id": "4c4bd947",
   "metadata": {
    "id": "DS1BrhPux0Wr"
   },
   "outputs": [],
   "source": [
    "def myfunction():\n",
    "  pass\n",
    "\n",
    "myfunction()"
   ]
  },
  {
   "cell_type": "markdown",
   "id": "43bfac63",
   "metadata": {
    "id": "uHdVPCBYyFPV"
   },
   "source": [
    "## Recursion\n",
    "\n",
    "Recursion is a common mathematical and programming concept. **It means that a function calls itself.** This has the benefit of meaning that you can loop through data to reach a result.\n",
    "\n",
    "The developer should be very careful with recursion as it can be quite easy to slip into writing a function which never terminates, or one that uses excess amounts of memory or processor power. However, when written correctly recursion can be a very efficient and mathematically-elegant approach to programming.\n",
    "\n",
    "In this example, tri_recursion() is a function that we have defined to call itself (\"recurse\"). We use the k variable as the data, which decrements (-1) every time we recurse. The recursion ends when the condition is not greater than 0 (i.e. when it is 0).\n",
    "\n",
    "To a new developer it can take some time to work out how exactly this works, best way to find out is by testing and modifying it."
   ]
  },
  {
   "cell_type": "code",
   "execution_count": null,
   "id": "c2143ace",
   "metadata": {
    "colab": {
     "base_uri": "https://localhost:8080/"
    },
    "executionInfo": {
     "elapsed": 381,
     "status": "ok",
     "timestamp": 1626581015274,
     "user": {
      "displayName": "Siddharth Swain",
      "photoUrl": "",
      "userId": "12055456511825659152"
     },
     "user_tz": -330
    },
    "id": "_i9bMHjtyAVD",
    "outputId": "f33d55cd-cd13-4ee8-f52f-39cb17431d3b"
   },
   "outputs": [
    {
     "name": "stdout",
     "output_type": "stream",
     "text": [
      "\n",
      "\n",
      "Recursion Example Results\n",
      "1\n",
      "3\n",
      "6\n",
      "10\n",
      "15\n",
      "21\n"
     ]
    },
    {
     "data": {
      "text/plain": [
       "21"
      ]
     },
     "execution_count": 20,
     "metadata": {
      "tags": []
     },
     "output_type": "execute_result"
    }
   ],
   "source": [
    "def tri_recursion(k):\n",
    "  if(k > 0):\n",
    "    result = k + tri_recursion(k - 1)\n",
    "    print(result)\n",
    "  else:\n",
    "    result = 0\n",
    "  return result\n",
    "\n",
    "print(\"\\n\\nRecursion Example Results\")\n",
    "tri_recursion(6)"
   ]
  },
  {
   "cell_type": "markdown",
   "id": "6c3203d7",
   "metadata": {
    "id": "kOVn9ypEy9ds"
   },
   "source": [
    "## Practice"
   ]
  },
  {
   "cell_type": "code",
   "execution_count": null,
   "id": "416daaac",
   "metadata": {
    "id": "SztkuscsyJb7"
   },
   "outputs": [],
   "source": [
    "def test1(x,y):\n",
    "  print(x+y)"
   ]
  },
  {
   "cell_type": "code",
   "execution_count": null,
   "id": "db5fffee",
   "metadata": {
    "colab": {
     "base_uri": "https://localhost:8080/"
    },
    "executionInfo": {
     "elapsed": 12,
     "status": "ok",
     "timestamp": 1626581620593,
     "user": {
      "displayName": "Siddharth Swain",
      "photoUrl": "",
      "userId": "12055456511825659152"
     },
     "user_tz": -330
    },
    "id": "B84B5MgrzHBb",
    "outputId": "b1d02721-845b-40e8-a99d-d180373dd55b"
   },
   "outputs": [
    {
     "name": "stdout",
     "output_type": "stream",
     "text": [
      "50\n"
     ]
    }
   ],
   "source": [
    "test1(20,30)"
   ]
  },
  {
   "cell_type": "markdown",
   "id": "c1b243d7",
   "metadata": {},
   "source": [
    "**Note:**\n",
    "\n",
    "- A print function always returns a None Type.\n",
    "\n",
    "- A return statement always returns the exact data type of the operation."
   ]
  },
  {
   "cell_type": "code",
   "execution_count": null,
   "id": "7bee31f1",
   "metadata": {
    "colab": {
     "base_uri": "https://localhost:8080/"
    },
    "executionInfo": {
     "elapsed": 11,
     "status": "ok",
     "timestamp": 1626581620594,
     "user": {
      "displayName": "Siddharth Swain",
      "photoUrl": "",
      "userId": "12055456511825659152"
     },
     "user_tz": -330
    },
    "id": "_jCA2uvxzMb7",
    "outputId": "ae4863e3-2578-4311-a2a1-0af4d5003b3b"
   },
   "outputs": [
    {
     "name": "stdout",
     "output_type": "stream",
     "text": [
      "50\n"
     ]
    },
    {
     "data": {
      "text/plain": [
       "NoneType"
      ]
     },
     "execution_count": 31,
     "metadata": {
      "tags": []
     },
     "output_type": "execute_result"
    }
   ],
   "source": [
    "type(test1(20,30))"
   ]
  },
  {
   "cell_type": "code",
   "execution_count": null,
   "id": "7f366c5e",
   "metadata": {
    "colab": {
     "base_uri": "https://localhost:8080/",
     "height": 214
    },
    "executionInfo": {
     "elapsed": 10,
     "status": "error",
     "timestamp": 1626581620595,
     "user": {
      "displayName": "Siddharth Swain",
      "photoUrl": "",
      "userId": "12055456511825659152"
     },
     "user_tz": -330
    },
    "id": "mTnQxO6DzOfT",
    "outputId": "d8a6bbc2-a9d5-498f-f0eb-d9ca13a6f7f0"
   },
   "outputs": [
    {
     "name": "stdout",
     "output_type": "stream",
     "text": [
      "50\n"
     ]
    },
    {
     "ename": "TypeError",
     "evalue": "ignored",
     "output_type": "error",
     "traceback": [
      "\u001b[0;31m---------------------------------------------------------------------------\u001b[0m",
      "\u001b[0;31mTypeError\u001b[0m                                 Traceback (most recent call last)",
      "\u001b[0;32m<ipython-input-32-295901c68830>\u001b[0m in \u001b[0;36m<module>\u001b[0;34m()\u001b[0m\n\u001b[1;32m      1\u001b[0m \u001b[0;31m# unsupported operand type(s) for +: 'int' and 'NoneType'\u001b[0m\u001b[0;34m\u001b[0m\u001b[0;34m\u001b[0m\u001b[0;34m\u001b[0m\u001b[0m\n\u001b[1;32m      2\u001b[0m \u001b[0;34m\u001b[0m\u001b[0m\n\u001b[0;32m----> 3\u001b[0;31m \u001b[0;36m10\u001b[0m \u001b[0;34m+\u001b[0m \u001b[0mtest1\u001b[0m\u001b[0;34m(\u001b[0m\u001b[0;36m20\u001b[0m\u001b[0;34m,\u001b[0m\u001b[0;36m30\u001b[0m\u001b[0;34m)\u001b[0m\u001b[0;34m\u001b[0m\u001b[0;34m\u001b[0m\u001b[0m\n\u001b[0m",
      "\u001b[0;31mTypeError\u001b[0m: unsupported operand type(s) for +: 'int' and 'NoneType'"
     ]
    }
   ],
   "source": [
    "# Unsupported operand type(s) for +: 'int' and 'NoneType'.\n",
    "\n",
    "10 + test1(20,30)"
   ]
  },
  {
   "cell_type": "code",
   "execution_count": null,
   "id": "e4129d80",
   "metadata": {
    "colab": {
     "base_uri": "https://localhost:8080/"
    },
    "executionInfo": {
     "elapsed": 7,
     "status": "ok",
     "timestamp": 1626581621077,
     "user": {
      "displayName": "Siddharth Swain",
      "photoUrl": "",
      "userId": "12055456511825659152"
     },
     "user_tz": -330
    },
    "id": "uyu4iCnnzyXb",
    "outputId": "405d2529-7fc9-4807-891a-9dcfd69114fc"
   },
   "outputs": [
    {
     "data": {
      "text/plain": [
       "30"
      ]
     },
     "execution_count": 33,
     "metadata": {
      "tags": []
     },
     "output_type": "execute_result"
    }
   ],
   "source": [
    "def add(x,y):\n",
    "  return x+y\n",
    "\n",
    "10 + add(10,10)"
   ]
  },
  {
   "cell_type": "markdown",
   "id": "bb74213e",
   "metadata": {
    "id": "pp3yxn4o0L3Q"
   },
   "source": [
    "## Practice"
   ]
  },
  {
   "cell_type": "code",
   "execution_count": null,
   "id": "a99f94d0",
   "metadata": {
    "id": "MTmj5ctP0KFy"
   },
   "outputs": [],
   "source": [
    "def test2(t,n,m):\n",
    "  return t + n"
   ]
  },
  {
   "cell_type": "code",
   "execution_count": null,
   "id": "8e5745f7",
   "metadata": {
    "colab": {
     "base_uri": "https://localhost:8080/",
     "height": 163
    },
    "executionInfo": {
     "elapsed": 372,
     "status": "error",
     "timestamp": 1626581667876,
     "user": {
      "displayName": "Siddharth Swain",
      "photoUrl": "",
      "userId": "12055456511825659152"
     },
     "user_tz": -330
    },
    "id": "sfo5oH2i0kpa",
    "outputId": "f41630b9-0f94-458d-d196-0c9778c14480"
   },
   "outputs": [
    {
     "ename": "TypeError",
     "evalue": "ignored",
     "output_type": "error",
     "traceback": [
      "\u001b[0;31m---------------------------------------------------------------------------\u001b[0m",
      "\u001b[0;31mTypeError\u001b[0m                                 Traceback (most recent call last)",
      "\u001b[0;32m<ipython-input-36-04455cddd6be>\u001b[0m in \u001b[0;36m<module>\u001b[0;34m()\u001b[0m\n\u001b[0;32m----> 1\u001b[0;31m \u001b[0mtest2\u001b[0m\u001b[0;34m(\u001b[0m\u001b[0;36m2\u001b[0m\u001b[0;34m,\u001b[0m\u001b[0;36m3\u001b[0m\u001b[0;34m)\u001b[0m\u001b[0;34m\u001b[0m\u001b[0;34m\u001b[0m\u001b[0m\n\u001b[0m",
      "\u001b[0;31mTypeError\u001b[0m: test2() missing 1 required positional argument: 'm'"
     ]
    }
   ],
   "source": [
    "# If your function expects 3 arguments, you have to call the function with 3 arguments, \n",
    "# not more, and not less.\n",
    "\n",
    "test2(2,3)"
   ]
  },
  {
   "cell_type": "code",
   "execution_count": null,
   "id": "c7ec63c7",
   "metadata": {
    "colab": {
     "base_uri": "https://localhost:8080/"
    },
    "executionInfo": {
     "elapsed": 366,
     "status": "ok",
     "timestamp": 1626581679004,
     "user": {
      "displayName": "Siddharth Swain",
      "photoUrl": "",
      "userId": "12055456511825659152"
     },
     "user_tz": -330
    },
    "id": "we7pWs7s0mdi",
    "outputId": "ddfebb06-b90b-4c74-fa8d-0af7de7e4ab9"
   },
   "outputs": [
    {
     "data": {
      "text/plain": [
       "11"
      ]
     },
     "execution_count": 37,
     "metadata": {
      "tags": []
     },
     "output_type": "execute_result"
    }
   ],
   "source": [
    "test2(5,6,7)"
   ]
  },
  {
   "cell_type": "markdown",
   "id": "dc742c89",
   "metadata": {
    "id": "gA6a8YZQ07qt"
   },
   "source": [
    "## Practice"
   ]
  },
  {
   "cell_type": "code",
   "execution_count": null,
   "id": "4b7aa7c5",
   "metadata": {
    "colab": {
     "base_uri": "https://localhost:8080/"
    },
    "executionInfo": {
     "elapsed": 376,
     "status": "ok",
     "timestamp": 1626581820251,
     "user": {
      "displayName": "Siddharth Swain",
      "photoUrl": "",
      "userId": "12055456511825659152"
     },
     "user_tz": -330
    },
    "id": "GfTM5rhc0rfC",
    "outputId": "70b715fa-b4dc-4259-a19b-96dec47f4f1a"
   },
   "outputs": [
    {
     "name": "stdout",
     "output_type": "stream",
     "text": [
      "The values for x and y are 30 and 40 respectively.\n"
     ]
    }
   ],
   "source": [
    "def test3(n,m):\n",
    "  return n*10,m*10\n",
    "\n",
    "x , y = test3(3,4)\n",
    "\n",
    "print(\"The values for x and y are {0} and {1} respectively.\".format(x,y))"
   ]
  },
  {
   "cell_type": "code",
   "execution_count": null,
   "id": "f002e275",
   "metadata": {
    "colab": {
     "base_uri": "https://localhost:8080/"
    },
    "executionInfo": {
     "elapsed": 381,
     "status": "ok",
     "timestamp": 1626590153931,
     "user": {
      "displayName": "Siddharth Swain",
      "photoUrl": "",
      "userId": "12055456511825659152"
     },
     "user_tz": -330
    },
    "id": "UyqtDUhdU9_k",
    "outputId": "b63224d7-150b-4bcd-dc4a-6ee9056bf785"
   },
   "outputs": [
    {
     "data": {
      "text/plain": [
       "tuple"
      ]
     },
     "execution_count": 5,
     "metadata": {
      "tags": []
     },
     "output_type": "execute_result"
    }
   ],
   "source": [
    "type(test3(3,4))"
   ]
  },
  {
   "cell_type": "code",
   "execution_count": null,
   "id": "e79ff862",
   "metadata": {
    "colab": {
     "base_uri": "https://localhost:8080/"
    },
    "executionInfo": {
     "elapsed": 382,
     "status": "ok",
     "timestamp": 1626590111928,
     "user": {
      "displayName": "Siddharth Swain",
      "photoUrl": "",
      "userId": "12055456511825659152"
     },
     "user_tz": -330
    },
    "id": "rAv1X_tu1N96",
    "outputId": "3cd01d95-2e01-4b9e-edab-b47d59a829e8"
   },
   "outputs": [
    {
     "name": "stdout",
     "output_type": "stream",
     "text": [
      "The values for x and y and z are 30, 40 and 7 respectively.\n"
     ]
    }
   ],
   "source": [
    "def test3(n,m):\n",
    "  return n*10,m*10,n+m\n",
    "\n",
    "x , y , z = test3(3,4)\n",
    "\n",
    "print(\"The values for x and y and z are {0}, {1} and {2} respectively.\".format(x,y,z))"
   ]
  },
  {
   "cell_type": "code",
   "execution_count": null,
   "id": "afa61a3f",
   "metadata": {
    "colab": {
     "base_uri": "https://localhost:8080/"
    },
    "executionInfo": {
     "elapsed": 391,
     "status": "ok",
     "timestamp": 1626590131380,
     "user": {
      "displayName": "Siddharth Swain",
      "photoUrl": "",
      "userId": "12055456511825659152"
     },
     "user_tz": -330
    },
    "id": "ZGAGtgceUxsv",
    "outputId": "c398eaef-5f3e-4921-f363-32132dc12383"
   },
   "outputs": [
    {
     "data": {
      "text/plain": [
       "tuple"
      ]
     },
     "execution_count": 4,
     "metadata": {
      "tags": []
     },
     "output_type": "execute_result"
    }
   ],
   "source": [
    "type(test3(3,4))"
   ]
  },
  {
   "cell_type": "markdown",
   "id": "98e1edc9",
   "metadata": {
    "id": "lPauW6eiVLXi"
   },
   "source": [
    "## Practice"
   ]
  },
  {
   "cell_type": "code",
   "execution_count": null,
   "id": "dafb93ec",
   "metadata": {
    "colab": {
     "base_uri": "https://localhost:8080/",
     "height": 163
    },
    "executionInfo": {
     "elapsed": 19,
     "status": "error",
     "timestamp": 1626590322509,
     "user": {
      "displayName": "Siddharth Swain",
      "photoUrl": "",
      "userId": "12055456511825659152"
     },
     "user_tz": -330
    },
    "id": "jlVtZk3gVm4l",
    "outputId": "6ddb36d3-8092-4d09-f228-17c89f8ef863"
   },
   "outputs": [
    {
     "ename": "ValueError",
     "evalue": "ignored",
     "output_type": "error",
     "traceback": [
      "\u001b[0;31m---------------------------------------------------------------------------\u001b[0m",
      "\u001b[0;31mValueError\u001b[0m                                Traceback (most recent call last)",
      "\u001b[0;32m<ipython-input-11-eca27e3409c8>\u001b[0m in \u001b[0;36m<module>\u001b[0;34m()\u001b[0m\n\u001b[0;32m----> 1\u001b[0;31m \u001b[0mc\u001b[0m\u001b[0;34m,\u001b[0m \u001b[0mx\u001b[0m \u001b[0;34m=\u001b[0m \u001b[0mtest3\u001b[0m\u001b[0;34m(\u001b[0m\u001b[0;36m2\u001b[0m\u001b[0;34m,\u001b[0m\u001b[0;36m7\u001b[0m\u001b[0;34m)\u001b[0m\u001b[0;34m\u001b[0m\u001b[0;34m\u001b[0m\u001b[0m\n\u001b[0m",
      "\u001b[0;31mValueError\u001b[0m: too many values to unpack (expected 2)"
     ]
    }
   ],
   "source": [
    "c, x = test3(2,7)"
   ]
  },
  {
   "cell_type": "code",
   "execution_count": null,
   "id": "7a049c6c",
   "metadata": {
    "id": "OkOqvLGgU7C3"
   },
   "outputs": [],
   "source": [
    "def test3(n,m):\n",
    "  return n*10,m*10,n*m\n",
    "\n",
    "c, x, _ = test3(2,7)"
   ]
  },
  {
   "cell_type": "code",
   "execution_count": null,
   "id": "37124855",
   "metadata": {
    "colab": {
     "base_uri": "https://localhost:8080/"
    },
    "executionInfo": {
     "elapsed": 2,
     "status": "ok",
     "timestamp": 1626590377453,
     "user": {
      "displayName": "Siddharth Swain",
      "photoUrl": "",
      "userId": "12055456511825659152"
     },
     "user_tz": -330
    },
    "id": "VQ89pU1tVRjY",
    "outputId": "331b6414-3e4c-4d42-976d-123c87b9ca5d"
   },
   "outputs": [
    {
     "data": {
      "text/plain": [
       "20"
      ]
     },
     "execution_count": 17,
     "metadata": {
      "tags": []
     },
     "output_type": "execute_result"
    }
   ],
   "source": [
    "c"
   ]
  },
  {
   "cell_type": "code",
   "execution_count": null,
   "id": "46cae01d",
   "metadata": {
    "colab": {
     "base_uri": "https://localhost:8080/"
    },
    "executionInfo": {
     "elapsed": 7,
     "status": "ok",
     "timestamp": 1626590377896,
     "user": {
      "displayName": "Siddharth Swain",
      "photoUrl": "",
      "userId": "12055456511825659152"
     },
     "user_tz": -330
    },
    "id": "bnoOYCCEVS9Q",
    "outputId": "7163e8a6-f20c-444b-f315-726cf1d03fc9"
   },
   "outputs": [
    {
     "data": {
      "text/plain": [
       "70"
      ]
     },
     "execution_count": 18,
     "metadata": {
      "tags": []
     },
     "output_type": "execute_result"
    }
   ],
   "source": [
    "x"
   ]
  },
  {
   "cell_type": "markdown",
   "id": "813999ab",
   "metadata": {
    "id": "PizbAPxFVZNW"
   },
   "source": [
    "## Underscore (_) in Python\n",
    "\n",
    "Following are different places where _ is used in Python:\n",
    "\n",
    "1. Single Underscore:\n",
    "- In Interpreter\n",
    "- After a name\n",
    "- Before a name\n",
    "\n",
    "2. Double Underscore:\n",
    "- __leading_double_underscore\n",
    "- __before_after__"
   ]
  },
  {
   "cell_type": "markdown",
   "id": "03e55c5a",
   "metadata": {},
   "source": [
    "## Single Underscore\n",
    "\n",
    "**In Interpreter :** \n",
    "\n",
    "_ returns the value of last executed expression value in Python Prompt/Interpreter."
   ]
  },
  {
   "cell_type": "code",
   "execution_count": 1,
   "id": "06124478",
   "metadata": {},
   "outputs": [],
   "source": [
    "a = 10\n",
    "b = 10"
   ]
  },
  {
   "cell_type": "code",
   "execution_count": 2,
   "id": "ffeeaf3b",
   "metadata": {},
   "outputs": [
    {
     "data": {
      "text/plain": [
       "''"
      ]
     },
     "execution_count": 2,
     "metadata": {},
     "output_type": "execute_result"
    }
   ],
   "source": [
    "_"
   ]
  },
  {
   "cell_type": "code",
   "execution_count": 3,
   "id": "eeb80b61",
   "metadata": {},
   "outputs": [
    {
     "data": {
      "text/plain": [
       "20"
      ]
     },
     "execution_count": 3,
     "metadata": {},
     "output_type": "execute_result"
    }
   ],
   "source": [
    "a+b"
   ]
  },
  {
   "cell_type": "code",
   "execution_count": 4,
   "id": "d01ca52d",
   "metadata": {},
   "outputs": [
    {
     "data": {
      "text/plain": [
       "20"
      ]
     },
     "execution_count": 4,
     "metadata": {},
     "output_type": "execute_result"
    }
   ],
   "source": [
    "_"
   ]
  },
  {
   "cell_type": "code",
   "execution_count": 5,
   "id": "43e56d6f",
   "metadata": {},
   "outputs": [
    {
     "data": {
      "text/plain": [
       "40"
      ]
     },
     "execution_count": 5,
     "metadata": {},
     "output_type": "execute_result"
    }
   ],
   "source": [
    "_*2"
   ]
  },
  {
   "cell_type": "code",
   "execution_count": 6,
   "id": "2493cef3",
   "metadata": {},
   "outputs": [
    {
     "data": {
      "text/plain": [
       "40"
      ]
     },
     "execution_count": 6,
     "metadata": {},
     "output_type": "execute_result"
    }
   ],
   "source": [
    "_"
   ]
  },
  {
   "cell_type": "code",
   "execution_count": 7,
   "id": "b139acba",
   "metadata": {},
   "outputs": [
    {
     "data": {
      "text/plain": [
       "20.0"
      ]
     },
     "execution_count": 7,
     "metadata": {},
     "output_type": "execute_result"
    }
   ],
   "source": [
    "_/2"
   ]
  },
  {
   "cell_type": "markdown",
   "id": "21032a9b",
   "metadata": {},
   "source": [
    "**For ignoring values :**\n",
    "\n",
    "Multiple time we do not want return values at that time to assign those values to Underscore. It used as throwaway variable."
   ]
  },
  {
   "cell_type": "code",
   "execution_count": null,
   "id": "b39e9320",
   "metadata": {},
   "outputs": [],
   "source": [
    "# Ignore a value of specific location/index\n",
    "for _ in range(10)\n",
    "    print (\"Test\")\n",
    "  \n",
    "# Ignore a value when unpacking\n",
    "a,b,_,_ = my_method(var1)"
   ]
  },
  {
   "cell_type": "markdown",
   "id": "10e0b62a",
   "metadata": {},
   "source": [
    "**After a name :**\n",
    "\n",
    "Python has their by default keywords which we can not use as the variable name. To avoid such conflict between python keyword and variable we use underscore after name.\n",
    "\n",
    "Example:"
   ]
  },
  {
   "cell_type": "code",
   "execution_count": 10,
   "id": "583f35b5",
   "metadata": {},
   "outputs": [],
   "source": [
    "class MyClass():\n",
    "    def __init__(self):\n",
    "        print (\"OWK\")"
   ]
  },
  {
   "cell_type": "code",
   "execution_count": 11,
   "id": "d85b0f7b",
   "metadata": {},
   "outputs": [],
   "source": [
    "def my_defination(var1 = 1, class_ = MyClass):\n",
    "    print (var1)\n",
    "    print (class_)"
   ]
  },
  {
   "cell_type": "code",
   "execution_count": 12,
   "id": "db80d50a",
   "metadata": {},
   "outputs": [
    {
     "name": "stdout",
     "output_type": "stream",
     "text": [
      "1\n",
      "<class '__main__.MyClass'>\n"
     ]
    }
   ],
   "source": [
    "my_defination()"
   ]
  },
  {
   "attachments": {
    "image-2.png": {
     "image/png": "[encoded data removed]"
    },
    "image.png": {
     "image/png": "[encoded data removed]"
    }
   },
   "cell_type": "markdown",
   "id": "c97fb883",
   "metadata": {},
   "source": [
    "**Before a name :**\n",
    "\n",
    "Leading Underscore before variable/function/method name indicates to programmer that It is for internal use only, that can be modified whenever class want.\n",
    "\n",
    "Here name prefix by underscore is treated as non-public. If specify from Import * all the name starts with _ will not import. \n",
    "\n",
    "Python does not specify truly private so this ones can be call directly from other modules if it is specified in __all__, We also call it weak Private.\n",
    "\n",
    "![image.png](attachment:image.png)\n",
    "![image-2.png](attachment:image-2.png)"
   ]
  },
  {
   "attachments": {
    "image-2.png": {
     "image/png": "[encoded data removed]"
    },
    "image-4.png": {
     "image/png": "[encoded data removed]"
    },
    "image.png": {
     "image/png": "[encoded data removed]"
    }
   },
   "cell_type": "markdown",
   "id": "3870d9f1",
   "metadata": {},
   "source": [
    "## Double Underscore(__)\n",
    "\n",
    "**__leading_double_underscore :**\n",
    "\n",
    "Leading double underscore tell python interpreter to rewrite name in order to avoid conflict in subclass.\n",
    "\n",
    "Interpreter changes variable name with class extension and that feature known as the Mangling.\n",
    "\n",
    "![image.png](attachment:image.png)\n",
    "\n",
    "In Mangling python interpreter modify variable name with ___. So Multiple time It use as the Private member because another class can not access that variable directly. Main purpose for __ is to use variable/method in class only If you want to use it outside of the class you can make public api.\n",
    "\n",
    "![image-2.png](attachment:image-2.png)\n",
    "\n",
    "**__BEFORE_AFTER__ :**\n",
    "\n",
    "Name with start with __ and ends with same considers special methods in Python. Python provides these methods to use it as the operator overloading depending on the user.\n",
    "\n",
    "Python provides this convention to differentiate between the user-defined function with the module’s function.\n",
    "\n",
    "![image-4.png](attachment:image-4.png)"
   ]
  },
  {
   "cell_type": "markdown",
   "id": "f6b1e78d",
   "metadata": {
    "id": "_9qpXrCyWNaS"
   },
   "source": [
    "## Practice"
   ]
  },
  {
   "cell_type": "code",
   "execution_count": 1,
   "id": "dfe93db4",
   "metadata": {
    "colab": {
     "base_uri": "https://localhost:8080/"
    },
    "executionInfo": {
     "elapsed": 4,
     "status": "ok",
     "timestamp": 1628146277437,
     "user": {
      "displayName": "Siddharth Swain",
      "photoUrl": "",
      "userId": "12055456511825659152"
     },
     "user_tz": -330
    },
    "id": "r827V-IcWID_",
    "outputId": "ee0dcf47-069a-4f87-bcd1-e2f445dcc8e7"
   },
   "outputs": [
    {
     "data": {
      "text/plain": [
       "2"
      ]
     },
     "execution_count": 1,
     "metadata": {
      "tags": []
     },
     "output_type": "execute_result"
    }
   ],
   "source": [
    "def test3(n,m):\n",
    "  return n      # This value is getting returned.\n",
    "  return m      # This is not getting evaluated.\n",
    "\n",
    "a = test3(2,7)\n",
    "a"
   ]
  },
  {
   "cell_type": "code",
   "execution_count": null,
   "id": "5c038585",
   "metadata": {
    "id": "ajBzdNOHWcKn"
   },
   "outputs": [],
   "source": [
    "def test():\n",
    "  print(\"Hello\")"
   ]
  },
  {
   "cell_type": "code",
   "execution_count": null,
   "id": "459910df",
   "metadata": {
    "colab": {
     "base_uri": "https://localhost:8080/"
    },
    "executionInfo": {
     "elapsed": 7,
     "status": "ok",
     "timestamp": 1626590650759,
     "user": {
      "displayName": "Siddharth Swain",
      "photoUrl": "",
      "userId": "12055456511825659152"
     },
     "user_tz": -330
    },
    "id": "KTcSJIAzWpp_",
    "outputId": "fa857def-f530-4551-aad6-ea3687758d51"
   },
   "outputs": [
    {
     "name": "stdout",
     "output_type": "stream",
     "text": [
      "Hello\n"
     ]
    }
   ],
   "source": [
    "m = test()"
   ]
  },
  {
   "cell_type": "code",
   "execution_count": null,
   "id": "4070e776",
   "metadata": {
    "colab": {
     "base_uri": "https://localhost:8080/"
    },
    "executionInfo": {
     "elapsed": 6,
     "status": "ok",
     "timestamp": 1626590650760,
     "user": {
      "displayName": "Siddharth Swain",
      "photoUrl": "",
      "userId": "12055456511825659152"
     },
     "user_tz": -330
    },
    "id": "x-T9WemUWw_f",
    "outputId": "776113f2-b793-4532-e50d-681755a989ea"
   },
   "outputs": [
    {
     "data": {
      "text/plain": [
       "NoneType"
      ]
     },
     "execution_count": 29,
     "metadata": {
      "tags": []
     },
     "output_type": "execute_result"
    }
   ],
   "source": [
    "type(m)"
   ]
  },
  {
   "cell_type": "markdown",
   "id": "bb9f5204",
   "metadata": {
    "id": "ERkk1j4yWzXR"
   },
   "source": [
    "## Practice"
   ]
  },
  {
   "cell_type": "code",
   "execution_count": null,
   "id": "6c512269",
   "metadata": {
    "id": "Ppgp6m4-WxwR"
   },
   "outputs": [],
   "source": [
    "def test():\n",
    "  return \"Hello\""
   ]
  },
  {
   "cell_type": "code",
   "execution_count": null,
   "id": "a7f8598b",
   "metadata": {
    "id": "te8iCqZbXAtP"
   },
   "outputs": [],
   "source": [
    "m = test()"
   ]
  },
  {
   "cell_type": "code",
   "execution_count": null,
   "id": "dd147761",
   "metadata": {
    "colab": {
     "base_uri": "https://localhost:8080/"
    },
    "executionInfo": {
     "elapsed": 412,
     "status": "ok",
     "timestamp": 1626590691487,
     "user": {
      "displayName": "Siddharth Swain",
      "photoUrl": "",
      "userId": "12055456511825659152"
     },
     "user_tz": -330
    },
    "id": "pdK5nAtiXBrX",
    "outputId": "a0b823b2-7866-4cef-9f19-ddf62b286eea"
   },
   "outputs": [
    {
     "data": {
      "text/plain": [
       "str"
      ]
     },
     "execution_count": 32,
     "metadata": {
      "tags": []
     },
     "output_type": "execute_result"
    }
   ],
   "source": [
    "type(m)"
   ]
  },
  {
   "cell_type": "code",
   "execution_count": null,
   "id": "34b22ebd",
   "metadata": {
    "colab": {
     "base_uri": "https://localhost:8080/",
     "height": 35
    },
    "executionInfo": {
     "elapsed": 454,
     "status": "ok",
     "timestamp": 1626590707473,
     "user": {
      "displayName": "Siddharth Swain",
      "photoUrl": "",
      "userId": "12055456511825659152"
     },
     "user_tz": -330
    },
    "id": "JjjVFPioXDnn",
    "outputId": "29fe1000-02ab-483a-d644-b2aa5a3871cb"
   },
   "outputs": [
    {
     "data": {
      "application/vnd.google.colaboratory.intrinsic+json": {
       "type": "string"
      },
      "text/plain": [
       "'Hellofdfdfdfdfdfdfdfdf'"
      ]
     },
     "execution_count": 33,
     "metadata": {
      "tags": []
     },
     "output_type": "execute_result"
    }
   ],
   "source": [
    "m + \"fdfdfdfdfdfdfdfdf\""
   ]
  },
  {
   "cell_type": "markdown",
   "id": "5fecc903",
   "metadata": {
    "id": "VH61AGNuXLV6"
   },
   "source": [
    "## Practice"
   ]
  },
  {
   "cell_type": "code",
   "execution_count": null,
   "id": "fee459d8",
   "metadata": {
    "id": "bMS2W8MeXHpG"
   },
   "outputs": [],
   "source": [
    "def test8(n):\n",
    "  return n*2"
   ]
  },
  {
   "cell_type": "code",
   "execution_count": null,
   "id": "492b80e1",
   "metadata": {
    "colab": {
     "base_uri": "https://localhost:8080/"
    },
    "executionInfo": {
     "elapsed": 388,
     "status": "ok",
     "timestamp": 1626590753103,
     "user": {
      "displayName": "Siddharth Swain",
      "photoUrl": "",
      "userId": "12055456511825659152"
     },
     "user_tz": -330
    },
    "id": "AP8PSjtKXQim",
    "outputId": "18583882-08a3-41d3-90ef-63e0cadd6ca4"
   },
   "outputs": [
    {
     "data": {
      "text/plain": [
       "[3, 4, 5, 6, 7, 3, 4, 5, 6, 7]"
      ]
     },
     "execution_count": 35,
     "metadata": {
      "tags": []
     },
     "output_type": "execute_result"
    }
   ],
   "source": [
    "test8([3,4,5,6,7])"
   ]
  },
  {
   "cell_type": "code",
   "execution_count": null,
   "id": "51f40ced",
   "metadata": {
    "colab": {
     "base_uri": "https://localhost:8080/"
    },
    "executionInfo": {
     "elapsed": 406,
     "status": "ok",
     "timestamp": 1626590767209,
     "user": {
      "displayName": "Siddharth Swain",
      "photoUrl": "",
      "userId": "12055456511825659152"
     },
     "user_tz": -330
    },
    "id": "SImlGjHaXS1G",
    "outputId": "2d852b95-35e3-4eec-e7e6-fb568ed0b81a"
   },
   "outputs": [
    {
     "data": {
      "text/plain": [
       "134"
      ]
     },
     "execution_count": 36,
     "metadata": {
      "tags": []
     },
     "output_type": "execute_result"
    }
   ],
   "source": [
    "test8(67)"
   ]
  },
  {
   "cell_type": "markdown",
   "id": "ffdd2396",
   "metadata": {
    "id": "ZMdTQU4IXZuq"
   },
   "source": [
    "## Practice"
   ]
  },
  {
   "cell_type": "code",
   "execution_count": null,
   "id": "e447c5a0",
   "metadata": {
    "id": "nIOTIFTGXWRO"
   },
   "outputs": [],
   "source": [
    "def test9(n):\n",
    "  return n,n*7"
   ]
  },
  {
   "cell_type": "code",
   "execution_count": null,
   "id": "9665cd32",
   "metadata": {
    "colab": {
     "base_uri": "https://localhost:8080/"
    },
    "executionInfo": {
     "elapsed": 5,
     "status": "ok",
     "timestamp": 1626590841323,
     "user": {
      "displayName": "Siddharth Swain",
      "photoUrl": "",
      "userId": "12055456511825659152"
     },
     "user_tz": -330
    },
    "id": "Wo_OetUkXf4m",
    "outputId": "d8046580-baeb-422c-84e8-f8cdc1222631"
   },
   "outputs": [
    {
     "data": {
      "text/plain": [
       "([3, 4, 5], [3, 4, 5, 3, 4, 5, 3, 4, 5, 3, 4, 5, 3, 4, 5, 3, 4, 5, 3, 4, 5])"
      ]
     },
     "execution_count": 41,
     "metadata": {
      "tags": []
     },
     "output_type": "execute_result"
    }
   ],
   "source": [
    "test9([3,4,5])"
   ]
  },
  {
   "cell_type": "code",
   "execution_count": null,
   "id": "82567c8d",
   "metadata": {
    "id": "J_hIAvIlXhhe"
   },
   "outputs": [],
   "source": [
    "b = test9([3,4,5])"
   ]
  },
  {
   "cell_type": "code",
   "execution_count": null,
   "id": "c42c7dfa",
   "metadata": {
    "colab": {
     "base_uri": "https://localhost:8080/"
    },
    "executionInfo": {
     "elapsed": 391,
     "status": "ok",
     "timestamp": 1626590910071,
     "user": {
      "displayName": "Siddharth Swain",
      "photoUrl": "",
      "userId": "12055456511825659152"
     },
     "user_tz": -330
    },
    "id": "Yrm0TZR_X4Le",
    "outputId": "1faa9629-2a77-42ee-d1a1-5fb5878d6f06"
   },
   "outputs": [
    {
     "data": {
      "text/plain": [
       "tuple"
      ]
     },
     "execution_count": 43,
     "metadata": {
      "tags": []
     },
     "output_type": "execute_result"
    }
   ],
   "source": [
    "type(b)"
   ]
  },
  {
   "cell_type": "code",
   "execution_count": null,
   "id": "63dfd2d7",
   "metadata": {
    "colab": {
     "base_uri": "https://localhost:8080/"
    },
    "executionInfo": {
     "elapsed": 5,
     "status": "ok",
     "timestamp": 1626590913122,
     "user": {
      "displayName": "Siddharth Swain",
      "photoUrl": "",
      "userId": "12055456511825659152"
     },
     "user_tz": -330
    },
    "id": "IJFTVTluX5Im",
    "outputId": "37b16be0-5d81-4436-c8db-fa1efc562adb"
   },
   "outputs": [
    {
     "data": {
      "text/plain": [
       "[3, 4, 5]"
      ]
     },
     "execution_count": 44,
     "metadata": {
      "tags": []
     },
     "output_type": "execute_result"
    }
   ],
   "source": [
    "b[0]"
   ]
  },
  {
   "cell_type": "code",
   "execution_count": null,
   "id": "dc841946",
   "metadata": {
    "colab": {
     "base_uri": "https://localhost:8080/"
    },
    "executionInfo": {
     "elapsed": 7,
     "status": "ok",
     "timestamp": 1626590915677,
     "user": {
      "displayName": "Siddharth Swain",
      "photoUrl": "",
      "userId": "12055456511825659152"
     },
     "user_tz": -330
    },
    "id": "z0bQOCanX5tP",
    "outputId": "5b6d5350-af4b-4941-fb2f-58a99e1730e7"
   },
   "outputs": [
    {
     "data": {
      "text/plain": [
       "[3, 4, 5, 3, 4, 5, 3, 4, 5, 3, 4, 5, 3, 4, 5, 3, 4, 5, 3, 4, 5]"
      ]
     },
     "execution_count": 45,
     "metadata": {
      "tags": []
     },
     "output_type": "execute_result"
    }
   ],
   "source": [
    "b[1]"
   ]
  },
  {
   "cell_type": "markdown",
   "id": "c31cb2d6",
   "metadata": {
    "id": "G3Psi_E-XtwU"
   },
   "source": [
    "## Practice"
   ]
  },
  {
   "cell_type": "code",
   "execution_count": null,
   "id": "e98c4251",
   "metadata": {
    "id": "qs4rLpAhX7ae"
   },
   "outputs": [],
   "source": [
    "def test10(n , m = 90):\n",
    "  return n+m"
   ]
  },
  {
   "cell_type": "code",
   "execution_count": null,
   "id": "ba6ff722",
   "metadata": {
    "colab": {
     "base_uri": "https://localhost:8080/"
    },
    "executionInfo": {
     "elapsed": 8,
     "status": "ok",
     "timestamp": 1626595312776,
     "user": {
      "displayName": "Siddharth Swain",
      "photoUrl": "",
      "userId": "12055456511825659152"
     },
     "user_tz": -330
    },
    "id": "fiNsB2jQok2y",
    "outputId": "bf7f3294-f211-4fd3-e60d-2e6850f011b4"
   },
   "outputs": [
    {
     "data": {
      "text/plain": [
       "90"
      ]
     },
     "execution_count": 50,
     "metadata": {
      "tags": []
     },
     "output_type": "execute_result"
    }
   ],
   "source": [
    "test10(30,60)"
   ]
  },
  {
   "cell_type": "code",
   "execution_count": null,
   "id": "bc2c5f22",
   "metadata": {
    "colab": {
     "base_uri": "https://localhost:8080/"
    },
    "executionInfo": {
     "elapsed": 379,
     "status": "ok",
     "timestamp": 1626595352883,
     "user": {
      "displayName": "Siddharth Swain",
      "photoUrl": "",
      "userId": "12055456511825659152"
     },
     "user_tz": -330
    },
    "id": "Fom2MJDxomd6",
    "outputId": "8310ba3c-20f5-4252-8cee-0598e1b8bfd9"
   },
   "outputs": [
    {
     "data": {
      "text/plain": [
       "120"
      ]
     },
     "execution_count": 54,
     "metadata": {
      "tags": []
     },
     "output_type": "execute_result"
    }
   ],
   "source": [
    "test10(30)"
   ]
  },
  {
   "cell_type": "markdown",
   "id": "653d3532",
   "metadata": {
    "id": "YEPxOumvpWuP"
   },
   "source": [
    "## Practice"
   ]
  },
  {
   "cell_type": "code",
   "execution_count": null,
   "id": "ffd5708f",
   "metadata": {
    "id": "KGmaioVIotly"
   },
   "outputs": [],
   "source": [
    "def boolx(x = True, y = False):\n",
    "  return x + y"
   ]
  },
  {
   "cell_type": "code",
   "execution_count": null,
   "id": "57300892",
   "metadata": {
    "colab": {
     "base_uri": "https://localhost:8080/"
    },
    "executionInfo": {
     "elapsed": 8,
     "status": "ok",
     "timestamp": 1626595524272,
     "user": {
      "displayName": "Siddharth Swain",
      "photoUrl": "",
      "userId": "12055456511825659152"
     },
     "user_tz": -330
    },
    "id": "EeSsTClgpeBB",
    "outputId": "464f3bad-81ef-4ebf-f4dc-e2bfb2754c35"
   },
   "outputs": [
    {
     "data": {
      "text/plain": [
       "1"
      ]
     },
     "execution_count": 56,
     "metadata": {
      "tags": []
     },
     "output_type": "execute_result"
    }
   ],
   "source": [
    "boolx()"
   ]
  },
  {
   "cell_type": "code",
   "execution_count": null,
   "id": "118cce11",
   "metadata": {
    "id": "iA1xVAEppe_x"
   },
   "outputs": [],
   "source": [
    "def boolx(x = True, y = True):\n",
    "  return x + y"
   ]
  },
  {
   "cell_type": "code",
   "execution_count": null,
   "id": "90ae3d17",
   "metadata": {
    "colab": {
     "base_uri": "https://localhost:8080/"
    },
    "executionInfo": {
     "elapsed": 9,
     "status": "ok",
     "timestamp": 1626595554660,
     "user": {
      "displayName": "Siddharth Swain",
      "photoUrl": "",
      "userId": "12055456511825659152"
     },
     "user_tz": -330
    },
    "id": "c4P4BmS8pk25",
    "outputId": "b83cdb3d-42b3-48c4-d853-cd9b0fabb9fa"
   },
   "outputs": [
    {
     "data": {
      "text/plain": [
       "2"
      ]
     },
     "execution_count": 58,
     "metadata": {
      "tags": []
     },
     "output_type": "execute_result"
    }
   ],
   "source": [
    "boolx()"
   ]
  },
  {
   "cell_type": "code",
   "execution_count": null,
   "id": "c8d5dcb4",
   "metadata": {
    "colab": {
     "base_uri": "https://localhost:8080/"
    },
    "executionInfo": {
     "elapsed": 386,
     "status": "ok",
     "timestamp": 1626595580136,
     "user": {
      "displayName": "Siddharth Swain",
      "photoUrl": "",
      "userId": "12055456511825659152"
     },
     "user_tz": -330
    },
    "id": "A8pcRQP6pnFB",
    "outputId": "4baf9ebc-fee6-4889-ac03-11147d2e6196"
   },
   "outputs": [
    {
     "data": {
      "text/plain": [
       "1"
      ]
     },
     "execution_count": 59,
     "metadata": {
      "tags": []
     },
     "output_type": "execute_result"
    }
   ],
   "source": [
    "boolx(False)"
   ]
  },
  {
   "cell_type": "code",
   "execution_count": null,
   "id": "9b600298",
   "metadata": {
    "colab": {
     "base_uri": "https://localhost:8080/"
    },
    "executionInfo": {
     "elapsed": 397,
     "status": "ok",
     "timestamp": 1626595592830,
     "user": {
      "displayName": "Siddharth Swain",
      "photoUrl": "",
      "userId": "12055456511825659152"
     },
     "user_tz": -330
    },
    "id": "BhnJgVclptTZ",
    "outputId": "080f1d4c-4013-493e-eb6d-fe42d2824698"
   },
   "outputs": [
    {
     "data": {
      "text/plain": [
       "0"
      ]
     },
     "execution_count": 60,
     "metadata": {
      "tags": []
     },
     "output_type": "execute_result"
    }
   ],
   "source": [
    "boolx(False,0)"
   ]
  },
  {
   "cell_type": "code",
   "execution_count": null,
   "id": "bfaf0598",
   "metadata": {
    "colab": {
     "base_uri": "https://localhost:8080/"
    },
    "executionInfo": {
     "elapsed": 389,
     "status": "ok",
     "timestamp": 1626595680863,
     "user": {
      "displayName": "Siddharth Swain",
      "photoUrl": "",
      "userId": "12055456511825659152"
     },
     "user_tz": -330
    },
    "id": "7RCCUF7jpwZp",
    "outputId": "d350bd0a-2a50-4cd3-f090-37f8f6a02d47"
   },
   "outputs": [
    {
     "data": {
      "text/plain": [
       "1"
      ]
     },
     "execution_count": 61,
     "metadata": {
      "tags": []
     },
     "output_type": "execute_result"
    }
   ],
   "source": [
    "True + False"
   ]
  },
  {
   "cell_type": "code",
   "execution_count": null,
   "id": "7c9c852e",
   "metadata": {
    "colab": {
     "base_uri": "https://localhost:8080/"
    },
    "executionInfo": {
     "elapsed": 385,
     "status": "ok",
     "timestamp": 1626595688123,
     "user": {
      "displayName": "Siddharth Swain",
      "photoUrl": "",
      "userId": "12055456511825659152"
     },
     "user_tz": -330
    },
    "id": "AvhmLRC6qF3q",
    "outputId": "f2cae32d-f88a-4d2d-f8a4-64cd9e1f11c4"
   },
   "outputs": [
    {
     "data": {
      "text/plain": [
       "2"
      ]
     },
     "execution_count": 62,
     "metadata": {
      "tags": []
     },
     "output_type": "execute_result"
    }
   ],
   "source": [
    "True + True"
   ]
  },
  {
   "cell_type": "markdown",
   "id": "6e14df30",
   "metadata": {
    "id": "wDFXfqlMq7PC"
   },
   "source": [
    "## Practice"
   ]
  },
  {
   "cell_type": "code",
   "execution_count": null,
   "id": "30708f91",
   "metadata": {
    "id": "I6aZrMinqHqZ"
   },
   "outputs": [],
   "source": [
    "def travel(bike = True, car = False):\n",
    "  plan_travel = bike or car\n",
    "  return bike, car, plan_travel"
   ]
  },
  {
   "cell_type": "code",
   "execution_count": null,
   "id": "392d34d5",
   "metadata": {
    "colab": {
     "base_uri": "https://localhost:8080/"
    },
    "executionInfo": {
     "elapsed": 6,
     "status": "ok",
     "timestamp": 1626595970982,
     "user": {
      "displayName": "Siddharth Swain",
      "photoUrl": "",
      "userId": "12055456511825659152"
     },
     "user_tz": -330
    },
    "id": "cIsvKnITrFkZ",
    "outputId": "bfe9adf5-e214-4410-94b4-3495f56e9f01"
   },
   "outputs": [
    {
     "data": {
      "text/plain": [
       "(True, False, True)"
      ]
     },
     "execution_count": 67,
     "metadata": {
      "tags": []
     },
     "output_type": "execute_result"
    }
   ],
   "source": [
    "travel()"
   ]
  },
  {
   "cell_type": "code",
   "execution_count": null,
   "id": "25c18e86",
   "metadata": {
    "colab": {
     "base_uri": "https://localhost:8080/"
    },
    "executionInfo": {
     "elapsed": 644,
     "status": "ok",
     "timestamp": 1626596045564,
     "user": {
      "displayName": "Siddharth Swain",
      "photoUrl": "",
      "userId": "12055456511825659152"
     },
     "user_tz": -330
    },
    "id": "GCqY_7vkrGaR",
    "outputId": "26292e63-7237-4d18-d949-d7794f705bf8"
   },
   "outputs": [
    {
     "data": {
      "text/plain": [
       "(False, False, False)"
      ]
     },
     "execution_count": 69,
     "metadata": {
      "tags": []
     },
     "output_type": "execute_result"
    }
   ],
   "source": [
    "travel(False)"
   ]
  },
  {
   "cell_type": "code",
   "execution_count": null,
   "id": "282a0782",
   "metadata": {
    "colab": {
     "base_uri": "https://localhost:8080/"
    },
    "executionInfo": {
     "elapsed": 405,
     "status": "ok",
     "timestamp": 1626596051258,
     "user": {
      "displayName": "Siddharth Swain",
      "photoUrl": "",
      "userId": "12055456511825659152"
     },
     "user_tz": -330
    },
    "id": "D0mVgLo5rddR",
    "outputId": "e5179262-9523-4a79-a2e3-9bd4ba7dc7cd"
   },
   "outputs": [
    {
     "data": {
      "text/plain": [
       "(True, True, True)"
      ]
     },
     "execution_count": 70,
     "metadata": {
      "tags": []
     },
     "output_type": "execute_result"
    }
   ],
   "source": [
    "travel(True, True)"
   ]
  },
  {
   "cell_type": "code",
   "execution_count": null,
   "id": "dd9e0602",
   "metadata": {
    "colab": {
     "base_uri": "https://localhost:8080/"
    },
    "executionInfo": {
     "elapsed": 388,
     "status": "ok",
     "timestamp": 1626596098371,
     "user": {
      "displayName": "Siddharth Swain",
      "photoUrl": "",
      "userId": "12055456511825659152"
     },
     "user_tz": -330
    },
    "id": "k-DWxjk7rgRB",
    "outputId": "091e694a-8755-46a2-9536-646a017be686"
   },
   "outputs": [
    {
     "data": {
      "text/plain": [
       "(True, True, True)"
      ]
     },
     "execution_count": 71,
     "metadata": {
      "tags": []
     },
     "output_type": "execute_result"
    }
   ],
   "source": [
    "# This will override the car variable.\n",
    "\n",
    "travel(car = True)"
   ]
  },
  {
   "cell_type": "code",
   "execution_count": null,
   "id": "4a043f44",
   "metadata": {
    "colab": {
     "base_uri": "https://localhost:8080/"
    },
    "executionInfo": {
     "elapsed": 402,
     "status": "ok",
     "timestamp": 1626596251582,
     "user": {
      "displayName": "Siddharth Swain",
      "photoUrl": "",
      "userId": "12055456511825659152"
     },
     "user_tz": -330
    },
    "id": "RBoACI7FrrxZ",
    "outputId": "d3ba3f7b-ac9d-4a8e-f20c-9b22e07b651a"
   },
   "outputs": [
    {
     "data": {
      "text/plain": [
       "(True, True, True)"
      ]
     },
     "execution_count": 72,
     "metadata": {
      "tags": []
     },
     "output_type": "execute_result"
    }
   ],
   "source": [
    "_"
   ]
  },
  {
   "cell_type": "markdown",
   "id": "5df69d76",
   "metadata": {
    "id": "xCoOwodJsUtv"
   },
   "source": [
    "## Practice"
   ]
  },
  {
   "cell_type": "code",
   "execution_count": null,
   "id": "a1cc80ba",
   "metadata": {
    "id": "6qzpK-7ZsRKA"
   },
   "outputs": [],
   "source": [
    "def test11(*args):\n",
    "  return args"
   ]
  },
  {
   "cell_type": "code",
   "execution_count": null,
   "id": "85574848",
   "metadata": {
    "colab": {
     "base_uri": "https://localhost:8080/"
    },
    "executionInfo": {
     "elapsed": 6,
     "status": "ok",
     "timestamp": 1626596471068,
     "user": {
      "displayName": "Siddharth Swain",
      "photoUrl": "",
      "userId": "12055456511825659152"
     },
     "user_tz": -330
    },
    "id": "5XbxeC0bs8Bw",
    "outputId": "ee3b96f3-6d15-48f0-ab86-2a4d515ffbd2"
   },
   "outputs": [
    {
     "data": {
      "text/plain": [
       "('sudahsnh', 'kumar', 34, [4, 5, 6, 7, 8])"
      ]
     },
     "execution_count": 76,
     "metadata": {
      "tags": []
     },
     "output_type": "execute_result"
    }
   ],
   "source": [
    "test11(\"sudahsnh\",\"kumar\",34,[4,5,6,7,8])"
   ]
  },
  {
   "cell_type": "markdown",
   "id": "5fa76e0c",
   "metadata": {
    "id": "lBHdA0sQ6Wup"
   },
   "source": [
    "## Practice"
   ]
  },
  {
   "cell_type": "code",
   "execution_count": null,
   "id": "d3ad14cf",
   "metadata": {
    "id": "QI7VirGVtBPH"
   },
   "outputs": [],
   "source": [
    "def testing(*args):\n",
    "  list = []\n",
    "  for i in args:\n",
    "    list = list + i\n",
    "  return list"
   ]
  },
  {
   "cell_type": "code",
   "execution_count": null,
   "id": "ddbc0fa6",
   "metadata": {
    "colab": {
     "base_uri": "https://localhost:8080/"
    },
    "executionInfo": {
     "elapsed": 4,
     "status": "ok",
     "timestamp": 1626617146630,
     "user": {
      "displayName": "Siddharth Swain",
      "photoUrl": "",
      "userId": "12055456511825659152"
     },
     "user_tz": -330
    },
    "id": "GX4WNLUr6qS2",
    "outputId": "86036322-c10c-4e37-c609-c43f6992281e"
   },
   "outputs": [
    {
     "data": {
      "text/plain": [
       "[3, 4, 5, 6, 2, 3, 4, 5, 6, 10, 11, 12, 13, 14, 55, 666, 777, 888]"
      ]
     },
     "execution_count": 7,
     "metadata": {
      "tags": []
     },
     "output_type": "execute_result"
    }
   ],
   "source": [
    "testing([3,4,5,6],[2,3,4,5,6],[10,11,12,13,14],[55,666,777,888])"
   ]
  },
  {
   "cell_type": "code",
   "execution_count": null,
   "id": "e0af6381",
   "metadata": {
    "colab": {
     "base_uri": "https://localhost:8080/",
     "height": 299
    },
    "executionInfo": {
     "elapsed": 383,
     "status": "error",
     "timestamp": 1626617470267,
     "user": {
      "displayName": "Siddharth Swain",
      "photoUrl": "",
      "userId": "12055456511825659152"
     },
     "user_tz": -330
    },
    "id": "gXFwozgK6wu8",
    "outputId": "8f087544-edb4-45dd-e6f9-2613e5fd97a1"
   },
   "outputs": [
    {
     "ename": "TypeError",
     "evalue": "ignored",
     "output_type": "error",
     "traceback": [
      "\u001b[0;31m---------------------------------------------------------------------------\u001b[0m",
      "\u001b[0;31mTypeError\u001b[0m                                 Traceback (most recent call last)",
      "\u001b[0;32m<ipython-input-9-8ad93dde1895>\u001b[0m in \u001b[0;36m<module>\u001b[0;34m()\u001b[0m\n\u001b[1;32m      1\u001b[0m \u001b[0;31m# concatenation works only if data type is same\u001b[0m\u001b[0;34m\u001b[0m\u001b[0;34m\u001b[0m\u001b[0;34m\u001b[0m\u001b[0m\n\u001b[1;32m      2\u001b[0m \u001b[0;34m\u001b[0m\u001b[0m\n\u001b[0;32m----> 3\u001b[0;31m \u001b[0mtesting\u001b[0m\u001b[0;34m(\u001b[0m\u001b[0;32mTrue\u001b[0m\u001b[0;34m,\u001b[0m\u001b[0;36m1\u001b[0m\u001b[0;34m,\u001b[0m\u001b[0;34m\"sudh\"\u001b[0m\u001b[0;34m)\u001b[0m\u001b[0;34m\u001b[0m\u001b[0;34m\u001b[0m\u001b[0m\n\u001b[0m",
      "\u001b[0;32m<ipython-input-6-7a73cdae3a5f>\u001b[0m in \u001b[0;36mtesting\u001b[0;34m(*args)\u001b[0m\n\u001b[1;32m      2\u001b[0m   \u001b[0mlist\u001b[0m \u001b[0;34m=\u001b[0m \u001b[0;34m[\u001b[0m\u001b[0;34m]\u001b[0m\u001b[0;34m\u001b[0m\u001b[0;34m\u001b[0m\u001b[0m\n\u001b[1;32m      3\u001b[0m   \u001b[0;32mfor\u001b[0m \u001b[0mi\u001b[0m \u001b[0;32min\u001b[0m \u001b[0margs\u001b[0m\u001b[0;34m:\u001b[0m\u001b[0;34m\u001b[0m\u001b[0;34m\u001b[0m\u001b[0m\n\u001b[0;32m----> 4\u001b[0;31m     \u001b[0mlist\u001b[0m \u001b[0;34m=\u001b[0m \u001b[0mlist\u001b[0m \u001b[0;34m+\u001b[0m \u001b[0mi\u001b[0m\u001b[0;34m\u001b[0m\u001b[0;34m\u001b[0m\u001b[0m\n\u001b[0m\u001b[1;32m      5\u001b[0m   \u001b[0;32mreturn\u001b[0m \u001b[0mlist\u001b[0m\u001b[0;34m\u001b[0m\u001b[0;34m\u001b[0m\u001b[0m\n",
      "\u001b[0;31mTypeError\u001b[0m: can only concatenate list (not \"bool\") to list"
     ]
    }
   ],
   "source": [
    "# Concatenation works only if data type is same.\n",
    "\n",
    "testing(True,1,\"sudh\")"
   ]
  },
  {
   "cell_type": "code",
   "execution_count": null,
   "id": "4262aa56",
   "metadata": {
    "id": "LGbGMwQS80H0"
   },
   "outputs": [],
   "source": [
    "def testing(*args):\n",
    "  l = []\n",
    "  for i in args:\n",
    "    if type(i)== list:\n",
    "      l = l + i\n",
    "  return l"
   ]
  },
  {
   "cell_type": "code",
   "execution_count": null,
   "id": "9ce249e2",
   "metadata": {
    "colab": {
     "base_uri": "https://localhost:8080/"
    },
    "executionInfo": {
     "elapsed": 10,
     "status": "ok",
     "timestamp": 1626617651869,
     "user": {
      "displayName": "Siddharth Swain",
      "photoUrl": "",
      "userId": "12055456511825659152"
     },
     "user_tz": -330
    },
    "id": "xmfd74G99YVM",
    "outputId": "170ed5a5-22e3-42ab-ad7d-fe9cb0e15042"
   },
   "outputs": [
    {
     "data": {
      "text/plain": [
       "[2, 3, 4, 5, 666, 777, 888, 1001]"
      ]
     },
     "execution_count": 20,
     "metadata": {
      "tags": []
     },
     "output_type": "execute_result"
    }
   ],
   "source": [
    "testing(\"hello\",[2,3,4,5],[666,777,888],[1001])"
   ]
  },
  {
   "cell_type": "markdown",
   "id": "30ed2c3c",
   "metadata": {
    "id": "imGzySlv-H75"
   },
   "source": [
    "## Practice"
   ]
  },
  {
   "cell_type": "code",
   "execution_count": null,
   "id": "05caa6e5",
   "metadata": {
    "id": "KTttyiEW9ioZ"
   },
   "outputs": [],
   "source": [
    "def test16(**kwargs):\n",
    "  return kwargs"
   ]
  },
  {
   "cell_type": "code",
   "execution_count": null,
   "id": "581f925b",
   "metadata": {
    "colab": {
     "base_uri": "https://localhost:8080/",
     "height": 163
    },
    "executionInfo": {
     "elapsed": 403,
     "status": "error",
     "timestamp": 1626617952216,
     "user": {
      "displayName": "Siddharth Swain",
      "photoUrl": "",
      "userId": "12055456511825659152"
     },
     "user_tz": -330
    },
    "id": "3lyThY9c-_bz",
    "outputId": "f69c7ce9-08a1-46aa-e1f2-c129a3ea52c5"
   },
   "outputs": [
    {
     "ename": "TypeError",
     "evalue": "ignored",
     "output_type": "error",
     "traceback": [
      "\u001b[0;31m---------------------------------------------------------------------------\u001b[0m",
      "\u001b[0;31mTypeError\u001b[0m                                 Traceback (most recent call last)",
      "\u001b[0;32m<ipython-input-22-9fdf3b93d92e>\u001b[0m in \u001b[0;36m<module>\u001b[0;34m()\u001b[0m\n\u001b[0;32m----> 1\u001b[0;31m \u001b[0mtest16\u001b[0m\u001b[0;34m(\u001b[0m\u001b[0;36m4\u001b[0m\u001b[0;34m,\u001b[0m\u001b[0;36m56\u001b[0m\u001b[0;34m,\u001b[0m\u001b[0;36m56\u001b[0m\u001b[0;34m)\u001b[0m\u001b[0;34m\u001b[0m\u001b[0;34m\u001b[0m\u001b[0m\n\u001b[0m",
      "\u001b[0;31mTypeError\u001b[0m: test16() takes 0 positional arguments but 3 were given"
     ]
    }
   ],
   "source": [
    "test16(4,56,56)"
   ]
  },
  {
   "cell_type": "code",
   "execution_count": null,
   "id": "a82e015c",
   "metadata": {
    "id": "ZAELwgQf_DPg"
   },
   "outputs": [],
   "source": [
    "def test16(**kwargs):\n",
    "  return kwargs"
   ]
  },
  {
   "cell_type": "code",
   "execution_count": null,
   "id": "e9eb7c5d",
   "metadata": {
    "colab": {
     "base_uri": "https://localhost:8080/"
    },
    "executionInfo": {
     "elapsed": 485,
     "status": "ok",
     "timestamp": 1626618026439,
     "user": {
      "displayName": "Siddharth Swain",
      "photoUrl": "",
      "userId": "12055456511825659152"
     },
     "user_tz": -330
    },
    "id": "6u9a8yGe_KDb",
    "outputId": "8792b2e8-60ee-4d8a-f8cc-2fae1acdbb3d"
   },
   "outputs": [
    {
     "data": {
      "text/plain": [
       "{'a': 8, 'b': 8, 'c': 7, 'd': 78}"
      ]
     },
     "execution_count": 27,
     "metadata": {
      "tags": []
     },
     "output_type": "execute_result"
    }
   ],
   "source": [
    "test16(a = 8, b = 8, c = 7, d = 78)"
   ]
  },
  {
   "cell_type": "code",
   "execution_count": null,
   "id": "db44de24",
   "metadata": {
    "colab": {
     "base_uri": "https://localhost:8080/"
    },
    "executionInfo": {
     "elapsed": 377,
     "status": "ok",
     "timestamp": 1626618119536,
     "user": {
      "displayName": "Siddharth Swain",
      "photoUrl": "",
      "userId": "12055456511825659152"
     },
     "user_tz": -330
    },
    "id": "q-_FXW8g_Qwz",
    "outputId": "64add359-f7b0-42ad-fee6-265ae311f3b7"
   },
   "outputs": [
    {
     "data": {
      "text/plain": [
       "dict"
      ]
     },
     "execution_count": 28,
     "metadata": {
      "tags": []
     },
     "output_type": "execute_result"
    }
   ],
   "source": [
    "type(test16(a = 8, b = 8, c = 7, d = 78))"
   ]
  },
  {
   "cell_type": "code",
   "execution_count": null,
   "id": "836f0c94",
   "metadata": {
    "colab": {
     "base_uri": "https://localhost:8080/"
    },
    "executionInfo": {
     "elapsed": 391,
     "status": "ok",
     "timestamp": 1626618176159,
     "user": {
      "displayName": "Siddharth Swain",
      "photoUrl": "",
      "userId": "12055456511825659152"
     },
     "user_tz": -330
    },
    "id": "SmOZ6mxb_sGS",
    "outputId": "b4e785b7-585f-4b31-c021-abc73c496855"
   },
   "outputs": [
    {
     "data": {
      "text/plain": [
       "{'a': 8, 'b': True, 'c': [44, 55, 66, 77], 'd': 'sudh'}"
      ]
     },
     "execution_count": 29,
     "metadata": {
      "tags": []
     },
     "output_type": "execute_result"
    }
   ],
   "source": [
    "test16(a = 8, b = True, c = [44,55,66,77], d = \"sudh\")"
   ]
  },
  {
   "cell_type": "markdown",
   "id": "4335a7fc",
   "metadata": {
    "id": "sIaO2EZ2AEvi"
   },
   "source": [
    "## Practice"
   ]
  },
  {
   "cell_type": "code",
   "execution_count": null,
   "id": "b87944cf",
   "metadata": {
    "id": "9luOifR3_56z"
   },
   "outputs": [],
   "source": [
    "def test17(*args):\n",
    "  return args"
   ]
  },
  {
   "cell_type": "code",
   "execution_count": null,
   "id": "001bb8e0",
   "metadata": {
    "colab": {
     "base_uri": "https://localhost:8080/"
    },
    "executionInfo": {
     "elapsed": 13,
     "status": "ok",
     "timestamp": 1626620682168,
     "user": {
      "displayName": "Siddharth Swain",
      "photoUrl": "",
      "userId": "12055456511825659152"
     },
     "user_tz": -330
    },
    "id": "hbSmlEg5ALCa",
    "outputId": "e2f442ae-5a1c-4236-8e0e-3da6c6886afc"
   },
   "outputs": [
    {
     "data": {
      "text/plain": [
       "(4, 5, 6, 7, 'sudh', [4, 5, 66, 888])"
      ]
     },
     "execution_count": 50,
     "metadata": {
      "tags": []
     },
     "output_type": "execute_result"
    }
   ],
   "source": [
    "test17(4,5,6,7,\"sudh\",[4,5,66,888])"
   ]
  },
  {
   "cell_type": "code",
   "execution_count": null,
   "id": "d5ad723f",
   "metadata": {
    "colab": {
     "base_uri": "https://localhost:8080/"
    },
    "executionInfo": {
     "elapsed": 9,
     "status": "ok",
     "timestamp": 1626620682170,
     "user": {
      "displayName": "Siddharth Swain",
      "photoUrl": "",
      "userId": "12055456511825659152"
     },
     "user_tz": -330
    },
    "id": "Bcv3be1_AOAS",
    "outputId": "33f0ccf4-8b1b-4e5a-f4cc-c115b95d1531"
   },
   "outputs": [
    {
     "data": {
      "text/plain": [
       "tuple"
      ]
     },
     "execution_count": 51,
     "metadata": {
      "tags": []
     },
     "output_type": "execute_result"
    }
   ],
   "source": [
    "type(test17(4,5,6,7,\"sudh\",[4,5,66,888]))"
   ]
  },
  {
   "cell_type": "markdown",
   "id": "2ebf4dfa",
   "metadata": {
    "id": "hpDHQ01TAnKH"
   },
   "source": [
    "## Questions\n",
    "\n",
    "- Create a function to take any number of mixed data and try to create a list of seperate data based on data type and return multiple result.\n",
    "\n",
    "- Create a function which will be able to use args and kwargs and it will be able to do all the list value concatenation and return a list."
   ]
  },
  {
   "cell_type": "code",
   "execution_count": null,
   "id": "4ffffd61",
   "metadata": {
    "id": "XaK-uZp4DXzB"
   },
   "outputs": [],
   "source": [
    "#1\n",
    "\n",
    "def func1(*args):\n",
    "  a,b,c,d = [], [], [], []\n",
    "\n",
    "  for i in args:\n",
    "    if type(i) == int:\n",
    "      a.append(i)\n",
    "    if type(i) == str:\n",
    "      b.append(i)\n",
    "    if type(i) == list:\n",
    "      c.append(i)\n",
    "    if type(i) == dict:\n",
    "      d.append(i)\n",
    "  return a,b,c,d"
   ]
  },
  {
   "cell_type": "code",
   "execution_count": null,
   "id": "aaf8a415",
   "metadata": {
    "colab": {
     "base_uri": "https://localhost:8080/"
    },
    "executionInfo": {
     "elapsed": 376,
     "status": "ok",
     "timestamp": 1626619354893,
     "user": {
      "displayName": "Siddharth Swain",
      "photoUrl": "",
      "userId": "12055456511825659152"
     },
     "user_tz": -330
    },
    "id": "30weU1fOECUo",
    "outputId": "e076c7d7-4986-4efb-b2a6-935e1b9fa058"
   },
   "outputs": [
    {
     "data": {
      "text/plain": [
       "([5, 5, 6, 7],\n",
       " ['gfgfgfgfgf', 'wow'],\n",
       " [[4, 5, 6, 7, 8], [5, 6, 7, 8, 9, 0]],\n",
       " [{'a': 1, 'b': 2}])"
      ]
     },
     "execution_count": 43,
     "metadata": {
      "tags": []
     },
     "output_type": "execute_result"
    }
   ],
   "source": [
    "func1([4,5,6,7,8],[5,6,7,8,9,0],5,5,6,7,\"gfgfgfgfgf\",\"wow\",{'a':1,'b':2})"
   ]
  },
  {
   "cell_type": "code",
   "execution_count": 5,
   "id": "6482289b",
   "metadata": {
    "colab": {
     "base_uri": "https://localhost:8080/"
    },
    "executionInfo": {
     "elapsed": 356,
     "status": "ok",
     "timestamp": 1626620453918,
     "user": {
      "displayName": "Siddharth Swain",
      "photoUrl": "",
      "userId": "12055456511825659152"
     },
     "user_tz": -330
    },
    "id": "ov1ZquiLHq1S",
    "outputId": "8fe017b4-8c48-454c-9dc2-5da5a1701c7c"
   },
   "outputs": [
    {
     "data": {
      "text/plain": [
       "{int: [1, 2, 3],\n",
       " list: [[5, 6], [888, 55, 7777]],\n",
       " str: ['hi', 'bye'],\n",
       " complex: [(6+7j), (2+10j)]}"
      ]
     },
     "execution_count": 5,
     "metadata": {},
     "output_type": "execute_result"
    }
   ],
   "source": [
    "#1 (Alternative Method)\n",
    "\n",
    "def func1(*args):\n",
    "  dt = {}\n",
    "  for i in args:\n",
    "    if type(i) in dt:\n",
    "      dt[type(i)].append(i)\n",
    "    else:\n",
    "      dt[type(i)] = [i]\n",
    "  return dt\n",
    "\n",
    "func1(1,2,3,[5,6],[888,55,7777],'hi','bye',6+7j,2+10j)"
   ]
  },
  {
   "cell_type": "code",
   "execution_count": null,
   "id": "5ee9a5c8",
   "metadata": {
    "id": "S6pV2HLqAfDC"
   },
   "outputs": [],
   "source": [
    "#2\n",
    "\n",
    "def fun2(*args,**kwargs):\n",
    "  l = [i for i in args if type(i) == list]\n",
    "  d = [i[1] for i in kwargs.items() if type(i[1]) == list]\n",
    "  return l,d"
   ]
  },
  {
   "cell_type": "code",
   "execution_count": null,
   "id": "997c537b",
   "metadata": {
    "colab": {
     "base_uri": "https://localhost:8080/"
    },
    "executionInfo": {
     "elapsed": 354,
     "status": "ok",
     "timestamp": 1626619084953,
     "user": {
      "displayName": "Siddharth Swain",
      "photoUrl": "",
      "userId": "12055456511825659152"
     },
     "user_tz": -330
    },
    "id": "Ej9pHSybDLe3",
    "outputId": "c221dcf6-7b97-4d16-f872-c3b7d197be68"
   },
   "outputs": [
    {
     "data": {
      "text/plain": [
       "([[4, 5, 6, 7, 8], [5, 6, 7, 8, 9, 0]], [[4, 5, 6, 7]])"
      ]
     },
     "execution_count": 35,
     "metadata": {
      "tags": []
     },
     "output_type": "execute_result"
    }
   ],
   "source": [
    "fun2([4,5,6,7,8],[5,6,7,8,9,0],5,5,6,7,a=5,b=\"gfgfgfgfgf\",m = [4,5,6,7])"
   ]
  },
  {
   "cell_type": "markdown",
   "id": "f025e95c",
   "metadata": {
    "id": "uMqSlOYNEcJ9"
   },
   "source": [
    "## Practice"
   ]
  },
  {
   "cell_type": "code",
   "execution_count": null,
   "id": "8037384e",
   "metadata": {
    "id": "w4Rjm8AQEeLT"
   },
   "outputs": [],
   "source": [
    "def test18(**kwargs):\n",
    "  for i in kwargs.items():\n",
    "    if type(i[1]) == list:\n",
    "      if \"sudh\" in i[1]:\n",
    "        print(\"I am able to find your name in the input data\")\n",
    "        print(i[1])\n",
    "  return kwargs"
   ]
  },
  {
   "cell_type": "code",
   "execution_count": null,
   "id": "cdebb1fe",
   "metadata": {
    "colab": {
     "base_uri": "https://localhost:8080/"
    },
    "executionInfo": {
     "elapsed": 372,
     "status": "ok",
     "timestamp": 1626620569251,
     "user": {
      "displayName": "Siddharth Swain",
      "photoUrl": "",
      "userId": "12055456511825659152"
     },
     "user_tz": -330
    },
    "id": "9pVMXK-dGkZ4",
    "outputId": "d5c09bcc-4188-49a3-8d6d-55507a368ca4"
   },
   "outputs": [
    {
     "name": "stdout",
     "output_type": "stream",
     "text": [
      "I am able to find your name in the input data\n",
      "['sudh', 'kumar', 5.67]\n"
     ]
    },
    {
     "data": {
      "text/plain": [
       "{'b': 6, 'c': [4, 5, 6, 7], 'd': ['sudh', 'kumar', 5.67], 'n': (6+7j)}"
      ]
     },
     "execution_count": 48,
     "metadata": {
      "tags": []
     },
     "output_type": "execute_result"
    }
   ],
   "source": [
    "test18(b=6,c=[4,5,6,7],d=[\"sudh\",\"kumar\",5.67],n=6+7j)"
   ]
  },
  {
   "cell_type": "markdown",
   "id": "f0498227",
   "metadata": {
    "id": "GC52_WuapIyg"
   },
   "source": [
    "## Practice"
   ]
  },
  {
   "cell_type": "code",
   "execution_count": 6,
   "id": "a3d807c1",
   "metadata": {
    "executionInfo": {
     "elapsed": 353,
     "status": "ok",
     "timestamp": 1627199707024,
     "user": {
      "displayName": "Siddharth Swain",
      "photoUrl": "",
      "userId": "12055456511825659152"
     },
     "user_tz": -330
    },
    "id": "W02V9rOCeZWI"
   },
   "outputs": [],
   "source": [
    "def test(*args):\n",
    "  pass\n",
    "\n",
    "test(\"sudh\", 56, 45,67)"
   ]
  },
  {
   "cell_type": "code",
   "execution_count": 9,
   "id": "039298d5",
   "metadata": {
    "colab": {
     "base_uri": "https://localhost:8080/",
     "height": 197
    },
    "executionInfo": {
     "elapsed": 364,
     "status": "error",
     "timestamp": 1627199748069,
     "user": {
      "displayName": "Siddharth Swain",
      "photoUrl": "",
      "userId": "12055456511825659152"
     },
     "user_tz": -330
    },
    "id": "AnpARMr7pcq-",
    "outputId": "037cc455-5143-4b01-8489-5e1171fdb3fd"
   },
   "outputs": [
    {
     "ename": "TypeError",
     "evalue": "ignored",
     "output_type": "error",
     "traceback": [
      "\u001b[0;31m---------------------------------------------------------------------------\u001b[0m",
      "\u001b[0;31mTypeError\u001b[0m                                 Traceback (most recent call last)",
      "\u001b[0;32m<ipython-input-9-2ada4fceef49>\u001b[0m in \u001b[0;36m<module>\u001b[0;34m()\u001b[0m\n\u001b[1;32m      2\u001b[0m   \u001b[0;32mpass\u001b[0m\u001b[0;34m\u001b[0m\u001b[0;34m\u001b[0m\u001b[0m\n\u001b[1;32m      3\u001b[0m \u001b[0;34m\u001b[0m\u001b[0m\n\u001b[0;32m----> 4\u001b[0;31m \u001b[0mtest\u001b[0m\u001b[0;34m(\u001b[0m\u001b[0;34m\"sudh\"\u001b[0m\u001b[0;34m,\u001b[0m \u001b[0;36m56\u001b[0m\u001b[0;34m,\u001b[0m \u001b[0;36m45.67\u001b[0m\u001b[0;34m)\u001b[0m\u001b[0;34m\u001b[0m\u001b[0;34m\u001b[0m\u001b[0m\n\u001b[0m",
      "\u001b[0;31mTypeError\u001b[0m: test() takes 0 positional arguments but 3 were given"
     ]
    }
   ],
   "source": [
    "def test(**kwargs):\n",
    "  pass\n",
    "\n",
    "test(\"sudh\", 56, 45.67)"
   ]
  },
  {
   "cell_type": "code",
   "execution_count": 11,
   "id": "b29134cb",
   "metadata": {
    "colab": {
     "base_uri": "https://localhost:8080/"
    },
    "executionInfo": {
     "elapsed": 356,
     "status": "ok",
     "timestamp": 1627199765224,
     "user": {
      "displayName": "Siddharth Swain",
      "photoUrl": "",
      "userId": "12055456511825659152"
     },
     "user_tz": -330
    },
    "id": "v5D7ojY-qUXN",
    "outputId": "a694fb60-fb8c-45ff-95dc-830c5b81d589"
   },
   "outputs": [
    {
     "name": "stdout",
     "output_type": "stream",
     "text": [
      "dict_values(['sudh', 56, 45.67])\n"
     ]
    }
   ],
   "source": [
    "def test(**kwargs):\n",
    "  print(kwargs.values())\n",
    "\n",
    "test(x = \"sudh\", y = 56, z = 45.67)"
   ]
  },
  {
   "cell_type": "code",
   "execution_count": 12,
   "id": "277dd07b",
   "metadata": {
    "colab": {
     "base_uri": "https://localhost:8080/"
    },
    "executionInfo": {
     "elapsed": 573,
     "status": "ok",
     "timestamp": 1627199799661,
     "user": {
      "displayName": "Siddharth Swain",
      "photoUrl": "",
      "userId": "12055456511825659152"
     },
     "user_tz": -330
    },
    "id": "VMugEd3CqZb2",
    "outputId": "95923481-0263-41db-d70e-04f9090b868d"
   },
   "outputs": [
    {
     "name": "stdout",
     "output_type": "stream",
     "text": [
      "dict_keys(['x', 'y', 'z'])\n"
     ]
    }
   ],
   "source": [
    "def test(**kwargs):\n",
    "  print(kwargs.keys())\n",
    "\n",
    "test(x = \"sudh\", y = 56, z = 45.67)"
   ]
  },
  {
   "cell_type": "code",
   "execution_count": 13,
   "id": "59b18b92",
   "metadata": {
    "colab": {
     "base_uri": "https://localhost:8080/"
    },
    "executionInfo": {
     "elapsed": 4,
     "status": "ok",
     "timestamp": 1627199805644,
     "user": {
      "displayName": "Siddharth Swain",
      "photoUrl": "",
      "userId": "12055456511825659152"
     },
     "user_tz": -330
    },
    "id": "9I-sZ98IqnzM",
    "outputId": "98c0c156-3a53-4f7c-cdc7-aa08daea666b"
   },
   "outputs": [
    {
     "name": "stdout",
     "output_type": "stream",
     "text": [
      "dict_items([('x', 'sudh'), ('y', 56), ('z', 45.67)])\n"
     ]
    }
   ],
   "source": [
    "def test(**kwargs):\n",
    "  print(kwargs.items())\n",
    "\n",
    "test(x = \"sudh\", y = 56, z = 45.67)"
   ]
  },
  {
   "cell_type": "markdown",
   "id": "6429a4d7",
   "metadata": {},
   "source": [
    "## Lamba Function\n",
    "\n",
    "A lambda function is a small anonymous function. A lambda function can take any number of arguments, but can only have one expression.\n",
    "\n",
    "**Syntax :** lambda arguments : expression\n",
    "\n",
    "The expression is executed and the result is returned."
   ]
  },
  {
   "cell_type": "code",
   "execution_count": 105,
   "id": "37077014",
   "metadata": {},
   "outputs": [
    {
     "name": "stdout",
     "output_type": "stream",
     "text": [
      "15\n"
     ]
    }
   ],
   "source": [
    "# Add 10 to argument a, and return the result.\n",
    "\n",
    "x = lambda a : a + 10\n",
    "print(x(5))"
   ]
  },
  {
   "cell_type": "code",
   "execution_count": 106,
   "id": "d083c363",
   "metadata": {},
   "outputs": [
    {
     "name": "stdout",
     "output_type": "stream",
     "text": [
      "30\n"
     ]
    }
   ],
   "source": [
    "# Lambda functions can take any number of arguments.\n",
    "\n",
    "# Multiply argument a with argument b and return the result.\n",
    "\n",
    "x = lambda a, b : a * b\n",
    "print(x(5, 6))"
   ]
  },
  {
   "cell_type": "code",
   "execution_count": 107,
   "id": "5545926d",
   "metadata": {},
   "outputs": [
    {
     "name": "stdout",
     "output_type": "stream",
     "text": [
      "13\n"
     ]
    }
   ],
   "source": [
    "# Summarize argument a, b, and c and return the result.\n",
    "\n",
    "x = lambda a, b, c : a + b + c\n",
    "print(x(5, 6, 2))"
   ]
  },
  {
   "attachments": {
    "image.png": {
     "image/png": "[encoded data removed]"
    }
   },
   "cell_type": "markdown",
   "id": "f72f58f5",
   "metadata": {},
   "source": [
    "## Why Use Lambda Functions?\n",
    "\n",
    "The power of lambda is better shown when you use them as an anonymous function inside another function.\n",
    "\n",
    "Say you have a function definition that takes one argument, and that argument will be multiplied with an unknown number.\n",
    "\n",
    "![image.png](attachment:image.png)"
   ]
  },
  {
   "cell_type": "code",
   "execution_count": 110,
   "id": "3a0e9474",
   "metadata": {},
   "outputs": [
    {
     "name": "stdout",
     "output_type": "stream",
     "text": [
      "22\n"
     ]
    }
   ],
   "source": [
    "# Use that function definition to make a function that always doubles the number you send in.\n",
    "\n",
    "def myfunc(n):\n",
    "  return lambda a : a * n\n",
    "\n",
    "mydoubler = myfunc(2)\n",
    "\n",
    "print(mydoubler(11))"
   ]
  },
  {
   "cell_type": "code",
   "execution_count": 109,
   "id": "53d8c78e",
   "metadata": {},
   "outputs": [
    {
     "name": "stdout",
     "output_type": "stream",
     "text": [
      "33\n"
     ]
    }
   ],
   "source": [
    "# Or, use the same function definition to make a function that always triples the number you send in.\n",
    "\n",
    "def myfunc(n):\n",
    "  return lambda a : a * n\n",
    "\n",
    "mytripler = myfunc(3)\n",
    "\n",
    "print(mytripler(11))"
   ]
  },
  {
   "cell_type": "code",
   "execution_count": 112,
   "id": "bf740051",
   "metadata": {},
   "outputs": [
    {
     "name": "stdout",
     "output_type": "stream",
     "text": [
      "22\n",
      "33\n"
     ]
    }
   ],
   "source": [
    "# Or, use the same function definition to make both functions, in the same program.\n",
    "\n",
    "def myfunc(n):\n",
    "  return lambda a : a * n\n",
    "\n",
    "mydoubler = myfunc(2)\n",
    "mytripler = myfunc(3)\n",
    "\n",
    "print(mydoubler(11))\n",
    "print(mytripler(11))\n",
    "\n",
    "# Use lambda functions when an anonymous function is required for a short period of time."
   ]
  },
  {
   "cell_type": "markdown",
   "id": "3d978569",
   "metadata": {},
   "source": [
    "## Practice"
   ]
  },
  {
   "cell_type": "code",
   "execution_count": 14,
   "id": "ad94b952",
   "metadata": {
    "colab": {
     "base_uri": "https://localhost:8080/"
    },
    "executionInfo": {
     "elapsed": 366,
     "status": "ok",
     "timestamp": 1627199959842,
     "user": {
      "displayName": "Siddharth Swain",
      "photoUrl": "",
      "userId": "12055456511825659152"
     },
     "user_tz": -330
    },
    "id": "T2ZSAsIRqpMd",
    "outputId": "b468bad1-d816-447e-ec86-2b1680e5a219"
   },
   "outputs": [
    {
     "data": {
      "text/plain": [
       "('sudh@gmail.com', 'sudh')"
      ]
     },
     "execution_count": 14,
     "metadata": {
      "tags": []
     },
     "output_type": "execute_result"
    }
   ],
   "source": [
    "def test1 (name,mail_id):\n",
    "  return mail_id,name\n",
    "\n",
    "test1(\"sudh\",\"sudh@gmail.com\")"
   ]
  },
  {
   "cell_type": "code",
   "execution_count": 15,
   "id": "6429f060",
   "metadata": {
    "colab": {
     "base_uri": "https://localhost:8080/"
    },
    "executionInfo": {
     "elapsed": 365,
     "status": "ok",
     "timestamp": 1627199990486,
     "user": {
      "displayName": "Siddharth Swain",
      "photoUrl": "",
      "userId": "12055456511825659152"
     },
     "user_tz": -330
    },
    "id": "arTseLF7rO9V",
    "outputId": "e70b796b-2eab-4bec-e124-726e297c6388"
   },
   "outputs": [
    {
     "data": {
      "text/plain": [
       "('sudh@gmail.com', 'sudh', 'sudhsudh@gmail.com')"
      ]
     },
     "execution_count": 15,
     "metadata": {
      "tags": []
     },
     "output_type": "execute_result"
    }
   ],
   "source": [
    "def test1 (name,mail_id):\n",
    "  con = name + mail_id\n",
    "  return mail_id,name,con\n",
    "\n",
    "test1(\"sudh\",\"sudh@gmail.com\")"
   ]
  },
  {
   "cell_type": "code",
   "execution_count": 16,
   "id": "a5320ed6",
   "metadata": {
    "colab": {
     "base_uri": "https://localhost:8080/"
    },
    "executionInfo": {
     "elapsed": 366,
     "status": "ok",
     "timestamp": 1627200194818,
     "user": {
      "displayName": "Siddharth Swain",
      "photoUrl": "",
      "userId": "12055456511825659152"
     },
     "user_tz": -330
    },
    "id": "8y0aEuN7rWcE",
    "outputId": "6c077247-0c81-4ecd-8cc1-d1c9f11dcc7e"
   },
   "outputs": [
    {
     "data": {
      "text/plain": [
       "30"
      ]
     },
     "execution_count": 16,
     "metadata": {
      "tags": []
     },
     "output_type": "execute_result"
    }
   ],
   "source": [
    "a = 10\n",
    "b = 20\n",
    "\n",
    "def test1(x,y):\n",
    "  return x+y\n",
    "\n",
    "test1(a,b)"
   ]
  },
  {
   "cell_type": "code",
   "execution_count": 17,
   "id": "e937415e",
   "metadata": {
    "executionInfo": {
     "elapsed": 359,
     "status": "ok",
     "timestamp": 1627200271916,
     "user": {
      "displayName": "Siddharth Swain",
      "photoUrl": "",
      "userId": "12055456511825659152"
     },
     "user_tz": -330
    },
    "id": "gjmkbSOxsIRb"
   },
   "outputs": [],
   "source": [
    "# Anonymous function, or a function without any name.\n",
    "\n",
    "m = lambda x,y : x + y"
   ]
  },
  {
   "cell_type": "code",
   "execution_count": 18,
   "id": "afee2dfe",
   "metadata": {
    "colab": {
     "base_uri": "https://localhost:8080/"
    },
    "executionInfo": {
     "elapsed": 392,
     "status": "ok",
     "timestamp": 1627200275153,
     "user": {
      "displayName": "Siddharth Swain",
      "photoUrl": "",
      "userId": "12055456511825659152"
     },
     "user_tz": -330
    },
    "id": "XbIUewWYsbJc",
    "outputId": "e35a42f8-683a-49f0-a192-30abde81cf81"
   },
   "outputs": [
    {
     "data": {
      "text/plain": [
       "<function __main__.<lambda>>"
      ]
     },
     "execution_count": 18,
     "metadata": {
      "tags": []
     },
     "output_type": "execute_result"
    }
   ],
   "source": [
    "m"
   ]
  },
  {
   "cell_type": "code",
   "execution_count": 20,
   "id": "b00abe68",
   "metadata": {
    "colab": {
     "base_uri": "https://localhost:8080/"
    },
    "executionInfo": {
     "elapsed": 342,
     "status": "ok",
     "timestamp": 1627200354060,
     "user": {
      "displayName": "Siddharth Swain",
      "photoUrl": "",
      "userId": "12055456511825659152"
     },
     "user_tz": -330
    },
    "id": "sp3DYm60smM8",
    "outputId": "e2d04706-5b19-48b7-e18d-45d5402f77f0"
   },
   "outputs": [
    {
     "data": {
      "text/plain": [
       "30"
      ]
     },
     "execution_count": 20,
     "metadata": {
      "tags": []
     },
     "output_type": "execute_result"
    }
   ],
   "source": [
    "n = m(10,20)\n",
    "n"
   ]
  },
  {
   "cell_type": "markdown",
   "id": "8ab2c9ac",
   "metadata": {
    "id": "q-g5NqZ3tL2F"
   },
   "source": [
    "## Practice"
   ]
  },
  {
   "cell_type": "code",
   "execution_count": 25,
   "id": "801022ef",
   "metadata": {
    "executionInfo": {
     "elapsed": 405,
     "status": "ok",
     "timestamp": 1627200626427,
     "user": {
      "displayName": "Siddharth Swain",
      "photoUrl": "",
      "userId": "12055456511825659152"
     },
     "user_tz": -330
    },
    "id": "cyJUUAklsu9c"
   },
   "outputs": [],
   "source": [
    "b = \"sudh\"\n",
    "c = \"test\"\n",
    "\n",
    "n = lambda arg1 , arg2 : print(arg1,arg2)"
   ]
  },
  {
   "cell_type": "code",
   "execution_count": 26,
   "id": "cc5fe79e",
   "metadata": {
    "colab": {
     "base_uri": "https://localhost:8080/"
    },
    "executionInfo": {
     "elapsed": 348,
     "status": "ok",
     "timestamp": 1627200629977,
     "user": {
      "displayName": "Siddharth Swain",
      "photoUrl": "",
      "userId": "12055456511825659152"
     },
     "user_tz": -330
    },
    "id": "kOxsPel-tfJT",
    "outputId": "0e6f1101-cc96-40a3-9f4c-59a4a598f83d"
   },
   "outputs": [
    {
     "name": "stdout",
     "output_type": "stream",
     "text": [
      "sudh test\n"
     ]
    }
   ],
   "source": [
    "n(b,c)"
   ]
  },
  {
   "cell_type": "code",
   "execution_count": 1,
   "id": "d9a57e08",
   "metadata": {
    "colab": {
     "base_uri": "https://localhost:8080/"
    },
    "executionInfo": {
     "elapsed": 358,
     "status": "ok",
     "timestamp": 1627200871950,
     "user": {
      "displayName": "Siddharth Swain",
      "photoUrl": "",
      "userId": "12055456511825659152"
     },
     "user_tz": -330
    },
    "id": "eIvtV-entvP7",
    "outputId": "b5b1d472-3e9b-49a4-90f9-871544b8b4ad"
   },
   "outputs": [
    {
     "data": {
      "text/plain": [
       "50.0"
      ]
     },
     "execution_count": 1,
     "metadata": {},
     "output_type": "execute_result"
    }
   ],
   "source": [
    "c = 10              # Scope of Variable c is global.\n",
    "\n",
    "def test3(a,b):\n",
    "  c = a / b\n",
    "  return c          # Scope of Variable c is local.\n",
    "\n",
    "test3(100,2)"
   ]
  },
  {
   "cell_type": "code",
   "execution_count": 30,
   "id": "36917c72",
   "metadata": {
    "colab": {
     "base_uri": "https://localhost:8080/"
    },
    "executionInfo": {
     "elapsed": 343,
     "status": "ok",
     "timestamp": 1627200874045,
     "user": {
      "displayName": "Siddharth Swain",
      "photoUrl": "",
      "userId": "12055456511825659152"
     },
     "user_tz": -330
    },
    "id": "kf1fRlhyuja7",
    "outputId": "f35c21b2-191f-422b-b586-65c64af7ca54"
   },
   "outputs": [
    {
     "data": {
      "text/plain": [
       "1.0"
      ]
     },
     "execution_count": 30,
     "metadata": {
      "tags": []
     },
     "output_type": "execute_result"
    }
   ],
   "source": [
    "test3(10,10)"
   ]
  },
  {
   "cell_type": "markdown",
   "id": "e353ebb1",
   "metadata": {
    "id": "nH1n8TJ0vTkt"
   },
   "source": [
    "## Python Docstring\n",
    "\n",
    "Python docstrings are the string literals that appear right after the definition of a function, method, class, or module. Let's take an example.\n",
    "\n",
    "**Example 1 : Docstrings**"
   ]
  },
  {
   "cell_type": "code",
   "execution_count": 1,
   "id": "ee75f48f",
   "metadata": {},
   "outputs": [],
   "source": [
    "def square(n):\n",
    "    '''Takes in a number n, returns the square of n'''\n",
    "    return n**2"
   ]
  },
  {
   "cell_type": "markdown",
   "id": "81d82618",
   "metadata": {},
   "source": [
    "Here, the string literal: '''Takes in a number n, returns the square of n'''\n",
    "\n",
    "Inside the triple quotation marks is the docstring of the function square() as it appears right after its definition.\n",
    "\n",
    "**Note : We can also use triple \"\"\" quotations to create docstrings.**"
   ]
  },
  {
   "cell_type": "markdown",
   "id": "3e58d2d7",
   "metadata": {},
   "source": [
    "## Python doc attribute\n",
    "\n",
    "Whenever string literals are present just after the definition of a function, module, class or method, they are associated with the object as their __doc__ attribute. We can later use this attribute to retrieve this docstring.\n",
    "\n",
    "**Example 2 : Printing docstring**"
   ]
  },
  {
   "cell_type": "code",
   "execution_count": 2,
   "id": "55b19335",
   "metadata": {},
   "outputs": [
    {
     "name": "stdout",
     "output_type": "stream",
     "text": [
      "Takes in a number n, returns the square of n\n"
     ]
    }
   ],
   "source": [
    "def square(n):\n",
    "    '''Takes in a number n, returns the square of n'''\n",
    "    return n**2\n",
    "\n",
    "print(square.__doc__)"
   ]
  },
  {
   "cell_type": "markdown",
   "id": "87685ffb",
   "metadata": {},
   "source": [
    "Here, the documentation of our square() function can be accessed using the __doc__ attribute.\n",
    "\n",
    "Now, let's look at docstrings for the built-in function print():\n",
    "\n",
    "**Example 3 : Docstrings for the built-in print() function**"
   ]
  },
  {
   "cell_type": "code",
   "execution_count": 3,
   "id": "d76bc6c0",
   "metadata": {},
   "outputs": [
    {
     "name": "stdout",
     "output_type": "stream",
     "text": [
      "print(value, ..., sep=' ', end='\\n', file=sys.stdout, flush=False)\n",
      "\n",
      "Prints the values to a stream, or to sys.stdout by default.\n",
      "Optional keyword arguments:\n",
      "file:  a file-like object (stream); defaults to the current sys.stdout.\n",
      "sep:   string inserted between values, default a space.\n",
      "end:   string appended after the last value, default a newline.\n",
      "flush: whether to forcibly flush the stream.\n"
     ]
    }
   ],
   "source": [
    "print(print.__doc__)"
   ]
  },
  {
   "cell_type": "markdown",
   "id": "ba49ace3",
   "metadata": {},
   "source": [
    "Here, we can see that the documentation of the print() function is present as the __doc__ attribute of this function."
   ]
  },
  {
   "cell_type": "markdown",
   "id": "283bb2c7",
   "metadata": {},
   "source": [
    "## Practice"
   ]
  },
  {
   "cell_type": "code",
   "execution_count": 113,
   "id": "bff501b6",
   "metadata": {
    "executionInfo": {
     "elapsed": 354,
     "status": "ok",
     "timestamp": 1627201148315,
     "user": {
      "displayName": "Siddharth Swain",
      "photoUrl": "",
      "userId": "12055456511825659152"
     },
     "user_tz": -330
    },
    "id": "FXxqUozaumbD"
   },
   "outputs": [],
   "source": [
    "def test4():\n",
    "  \"\"\"\n",
    "  This is my test function with the\n",
    "  help of this function you will be able to see the docstring description\n",
    "  of this function\n",
    "  \"\"\"\n",
    "  print(\"My name is Siddharth.\")"
   ]
  },
  {
   "cell_type": "code",
   "execution_count": 114,
   "id": "1c675793",
   "metadata": {
    "colab": {
     "base_uri": "https://localhost:8080/"
    },
    "executionInfo": {
     "elapsed": 362,
     "status": "ok",
     "timestamp": 1627201198563,
     "user": {
      "displayName": "Siddharth Swain",
      "photoUrl": "",
      "userId": "12055456511825659152"
     },
     "user_tz": -330
    },
    "id": "ot-j7g-nvy5y",
    "outputId": "5a74e891-2cc1-4080-8624-c9cbe156944a"
   },
   "outputs": [
    {
     "name": "stdout",
     "output_type": "stream",
     "text": [
      "My name is Siddharth.\n"
     ]
    }
   ],
   "source": [
    "test4()"
   ]
  },
  {
   "cell_type": "code",
   "execution_count": 115,
   "id": "7edc779d",
   "metadata": {
    "colab": {
     "base_uri": "https://localhost:8080/"
    },
    "executionInfo": {
     "elapsed": 343,
     "status": "ok",
     "timestamp": 1627201232566,
     "user": {
      "displayName": "Siddharth Swain",
      "photoUrl": "",
      "userId": "12055456511825659152"
     },
     "user_tz": -330
    },
    "id": "X32jboa_v9Yb",
    "outputId": "586d86ca-d870-448c-be67-c3101eb75c7e"
   },
   "outputs": [
    {
     "name": "stdout",
     "output_type": "stream",
     "text": [
      "Help on built-in function print in module builtins:\n",
      "\n",
      "print(...)\n",
      "    print(value, ..., sep=' ', end='\\n', file=sys.stdout, flush=False)\n",
      "    \n",
      "    Prints the values to a stream, or to sys.stdout by default.\n",
      "    Optional keyword arguments:\n",
      "    file:  a file-like object (stream); defaults to the current sys.stdout.\n",
      "    sep:   string inserted between values, default a space.\n",
      "    end:   string appended after the last value, default a newline.\n",
      "    flush: whether to forcibly flush the stream.\n",
      "\n"
     ]
    }
   ],
   "source": [
    "help(print)"
   ]
  },
  {
   "cell_type": "code",
   "execution_count": 116,
   "id": "06af34b0",
   "metadata": {
    "colab": {
     "base_uri": "https://localhost:8080/"
    },
    "executionInfo": {
     "elapsed": 368,
     "status": "ok",
     "timestamp": 1627201237783,
     "user": {
      "displayName": "Siddharth Swain",
      "photoUrl": "",
      "userId": "12055456511825659152"
     },
     "user_tz": -330
    },
    "id": "4rre0C4VwFr7",
    "outputId": "c1f2cf1d-0ab8-41dd-c380-c4b40f55cf4d"
   },
   "outputs": [
    {
     "name": "stdout",
     "output_type": "stream",
     "text": [
      "Help on function test4 in module __main__:\n",
      "\n",
      "test4()\n",
      "    This is my test function with the\n",
      "    help of this function you will be able to see the docstring description\n",
      "    of this function\n",
      "\n"
     ]
    }
   ],
   "source": [
    "help(test4)"
   ]
  },
  {
   "cell_type": "code",
   "execution_count": 117,
   "id": "2a4ab5d4",
   "metadata": {},
   "outputs": [
    {
     "name": "stdout",
     "output_type": "stream",
     "text": [
      "\n",
      "  This is my test function with the\n",
      "  help of this function you will be able to see the docstring description\n",
      "  of this function\n",
      "  \n"
     ]
    }
   ],
   "source": [
    "print(test4.__doc__)"
   ]
  },
  {
   "cell_type": "markdown",
   "id": "785803f4",
   "metadata": {
    "id": "vlJACC_TwfDH"
   },
   "source": [
    "## Iterable and Iterator\n",
    "\n",
    "Iterable is an object, which one can iterate over. It generates an Iterator when passed to iter() method. Iterator is an object, which is used to iterate over an iterable object using __next__() method. Iterators have __next__() method, which returns the next item of the object.\n",
    "\n",
    "Note that every iterator is also an iterable, but not every iterable is an iterator. For example, a list is iterable but a list is not an iterator. An iterator can be created from an iterable by using the function iter(). To make this possible, the class of an object needs either a method __iter__, which returns an iterator, or a __getitem__ method with sequential indexes starting with 0.\n",
    "\n",
    "When a for loop is executed, for statement calls iter() on the object, which it is supposed to loop over. If this call is successful, the iter call will return an iterator object that defines the method __next__(), which accesses elements of the object one at a time. The __next__() method will raise a StopIteration exception, if there are no further elements available. The for loop will terminate as soon as it catches a StopIteration exception.\n",
    "\n"
   ]
  },
  {
   "cell_type": "code",
   "execution_count": 37,
   "id": "e9835200",
   "metadata": {
    "colab": {
     "base_uri": "https://localhost:8080/",
     "height": 214
    },
    "executionInfo": {
     "elapsed": 377,
     "status": "error",
     "timestamp": 1627201373600,
     "user": {
      "displayName": "Siddharth Swain",
      "photoUrl": "",
      "userId": "12055456511825659152"
     },
     "user_tz": -330
    },
    "id": "0DGHDrX6wG4z",
    "outputId": "ebda7db9-f7de-4d5e-97c9-093fe566e6d5"
   },
   "outputs": [
    {
     "ename": "TypeError",
     "evalue": "ignored",
     "output_type": "error",
     "traceback": [
      "\u001b[0;31m---------------------------------------------------------------------------\u001b[0m",
      "\u001b[0;31mTypeError\u001b[0m                                 Traceback (most recent call last)",
      "\u001b[0;32m<ipython-input-37-86f7b0aa985d>\u001b[0m in \u001b[0;36m<module>\u001b[0;34m()\u001b[0m\n\u001b[1;32m      1\u001b[0m \u001b[0ma\u001b[0m \u001b[0;34m=\u001b[0m \u001b[0;36m10\u001b[0m\u001b[0;34m\u001b[0m\u001b[0;34m\u001b[0m\u001b[0m\n\u001b[1;32m      2\u001b[0m \u001b[0;34m\u001b[0m\u001b[0m\n\u001b[0;32m----> 3\u001b[0;31m \u001b[0;32mfor\u001b[0m \u001b[0mi\u001b[0m \u001b[0;32min\u001b[0m \u001b[0ma\u001b[0m\u001b[0;34m:\u001b[0m\u001b[0;34m\u001b[0m\u001b[0;34m\u001b[0m\u001b[0m\n\u001b[0m\u001b[1;32m      4\u001b[0m   \u001b[0mprint\u001b[0m\u001b[0;34m(\u001b[0m\u001b[0mi\u001b[0m\u001b[0;34m)\u001b[0m\u001b[0;34m\u001b[0m\u001b[0;34m\u001b[0m\u001b[0m\n",
      "\u001b[0;31mTypeError\u001b[0m: 'int' object is not iterable"
     ]
    }
   ],
   "source": [
    "a = 10\n",
    "\n",
    "for i in a:\n",
    "  print(i)"
   ]
  },
  {
   "cell_type": "code",
   "execution_count": 39,
   "id": "37ec7127",
   "metadata": {
    "colab": {
     "base_uri": "https://localhost:8080/"
    },
    "executionInfo": {
     "elapsed": 340,
     "status": "ok",
     "timestamp": 1627208515507,
     "user": {
      "displayName": "Siddharth Swain",
      "photoUrl": "",
      "userId": "12055456511825659152"
     },
     "user_tz": -330
    },
    "id": "mCLyLzl1woGK",
    "outputId": "4a8a2d89-9879-45d6-f4dd-846179ad995d"
   },
   "outputs": [
    {
     "name": "stdout",
     "output_type": "stream",
     "text": [
      "s\n",
      "u\n",
      "d\n",
      "h\n"
     ]
    }
   ],
   "source": [
    "for i in \"sudh\":\n",
    "  print(i)"
   ]
  },
  {
   "cell_type": "code",
   "execution_count": 43,
   "id": "c52a81e9",
   "metadata": {
    "colab": {
     "base_uri": "https://localhost:8080/",
     "height": 180
    },
    "executionInfo": {
     "elapsed": 354,
     "status": "error",
     "timestamp": 1627208614055,
     "user": {
      "displayName": "Siddharth Swain",
      "photoUrl": "",
      "userId": "12055456511825659152"
     },
     "user_tz": -330
    },
    "id": "WJbjZ1-cL1CW",
    "outputId": "55fadf52-b94a-4c26-c83a-6fefc253c06c"
   },
   "outputs": [
    {
     "ename": "TypeError",
     "evalue": "ignored",
     "output_type": "error",
     "traceback": [
      "\u001b[0;31m---------------------------------------------------------------------------\u001b[0m",
      "\u001b[0;31mTypeError\u001b[0m                                 Traceback (most recent call last)",
      "\u001b[0;32m<ipython-input-43-e8880650468e>\u001b[0m in \u001b[0;36m<module>\u001b[0;34m()\u001b[0m\n\u001b[1;32m      1\u001b[0m \u001b[0ms\u001b[0m \u001b[0;34m=\u001b[0m \u001b[0;34m\"sudh\"\u001b[0m\u001b[0;34m\u001b[0m\u001b[0;34m\u001b[0m\u001b[0m\n\u001b[0;32m----> 2\u001b[0;31m \u001b[0mnext\u001b[0m\u001b[0;34m(\u001b[0m\u001b[0ms\u001b[0m\u001b[0;34m)\u001b[0m\u001b[0;34m\u001b[0m\u001b[0;34m\u001b[0m\u001b[0m\n\u001b[0m",
      "\u001b[0;31mTypeError\u001b[0m: 'str' object is not an iterator"
     ]
    }
   ],
   "source": [
    "s = \"sudh\"\n",
    "next(s)"
   ]
  },
  {
   "cell_type": "code",
   "execution_count": 54,
   "id": "0c155ea8",
   "metadata": {
    "colab": {
     "base_uri": "https://localhost:8080/",
     "height": 35
    },
    "executionInfo": {
     "elapsed": 407,
     "status": "ok",
     "timestamp": 1627209154824,
     "user": {
      "displayName": "Siddharth Swain",
      "photoUrl": "",
      "userId": "12055456511825659152"
     },
     "user_tz": -330
    },
    "id": "_IjibEQBMIjG",
    "outputId": "a660d839-ebcd-4ece-817b-4bda1707c7dd"
   },
   "outputs": [
    {
     "data": {
      "application/vnd.google.colaboratory.intrinsic+json": {
       "type": "string"
      },
      "text/plain": [
       "'s'"
      ]
     },
     "execution_count": 54,
     "metadata": {
      "tags": []
     },
     "output_type": "execute_result"
    }
   ],
   "source": [
    "\"\"\"\n",
    "If an object is iterable, it means that \n",
    "you can convert that object into interator \n",
    "Eg. string object can be converted to iterator\n",
    "\n",
    "By default string object is iterable but not an iterator.\n",
    "So need to convert this into an interator.\n",
    "Then we can go through it.\n",
    "\"\"\"\n",
    "\n",
    "\n",
    "s1 = \"sudh\"\n",
    "s2 = iter(s)\n",
    "next(s2)"
   ]
  },
  {
   "cell_type": "code",
   "execution_count": 55,
   "id": "7f792963",
   "metadata": {
    "colab": {
     "base_uri": "https://localhost:8080/",
     "height": 35
    },
    "executionInfo": {
     "elapsed": 5,
     "status": "ok",
     "timestamp": 1627209155449,
     "user": {
      "displayName": "Siddharth Swain",
      "photoUrl": "",
      "userId": "12055456511825659152"
     },
     "user_tz": -330
    },
    "id": "16M0BROfNa9W",
    "outputId": "c2d3c6cb-d233-4aeb-ae87-ae4e300d13fe"
   },
   "outputs": [
    {
     "data": {
      "application/vnd.google.colaboratory.intrinsic+json": {
       "type": "string"
      },
      "text/plain": [
       "'u'"
      ]
     },
     "execution_count": 55,
     "metadata": {
      "tags": []
     },
     "output_type": "execute_result"
    }
   ],
   "source": [
    "next(s2)"
   ]
  },
  {
   "cell_type": "code",
   "execution_count": 56,
   "id": "70ba8667",
   "metadata": {
    "colab": {
     "base_uri": "https://localhost:8080/",
     "height": 35
    },
    "executionInfo": {
     "elapsed": 7,
     "status": "ok",
     "timestamp": 1627209155813,
     "user": {
      "displayName": "Siddharth Swain",
      "photoUrl": "",
      "userId": "12055456511825659152"
     },
     "user_tz": -330
    },
    "id": "Z6xynhFVNdue",
    "outputId": "8c153cfb-04b6-48b6-da7e-a654a7db57ff"
   },
   "outputs": [
    {
     "data": {
      "application/vnd.google.colaboratory.intrinsic+json": {
       "type": "string"
      },
      "text/plain": [
       "'d'"
      ]
     },
     "execution_count": 56,
     "metadata": {
      "tags": []
     },
     "output_type": "execute_result"
    }
   ],
   "source": [
    "next(s2)"
   ]
  },
  {
   "cell_type": "code",
   "execution_count": 57,
   "id": "52047aef",
   "metadata": {
    "colab": {
     "base_uri": "https://localhost:8080/",
     "height": 35
    },
    "executionInfo": {
     "elapsed": 7,
     "status": "ok",
     "timestamp": 1627209155814,
     "user": {
      "displayName": "Siddharth Swain",
      "photoUrl": "",
      "userId": "12055456511825659152"
     },
     "user_tz": -330
    },
    "id": "ds-uJC9YNe--",
    "outputId": "b051f909-9ad7-4695-8539-5ffe78e41d11"
   },
   "outputs": [
    {
     "data": {
      "application/vnd.google.colaboratory.intrinsic+json": {
       "type": "string"
      },
      "text/plain": [
       "'h'"
      ]
     },
     "execution_count": 57,
     "metadata": {
      "tags": []
     },
     "output_type": "execute_result"
    }
   ],
   "source": [
    "next(s2)"
   ]
  },
  {
   "cell_type": "code",
   "execution_count": 58,
   "id": "aac15996",
   "metadata": {
    "colab": {
     "base_uri": "https://localhost:8080/",
     "height": 163
    },
    "executionInfo": {
     "elapsed": 529,
     "status": "error",
     "timestamp": 1627209164172,
     "user": {
      "displayName": "Siddharth Swain",
      "photoUrl": "",
      "userId": "12055456511825659152"
     },
     "user_tz": -330
    },
    "id": "lgCGWtS2OVBo",
    "outputId": "a6b7faee-4a83-40fc-8f51-7a1ed880aa20"
   },
   "outputs": [
    {
     "ename": "StopIteration",
     "evalue": "ignored",
     "output_type": "error",
     "traceback": [
      "\u001b[0;31m---------------------------------------------------------------------------\u001b[0m",
      "\u001b[0;31mStopIteration\u001b[0m                             Traceback (most recent call last)",
      "\u001b[0;32m<ipython-input-58-b5d041f6280f>\u001b[0m in \u001b[0;36m<module>\u001b[0;34m()\u001b[0m\n\u001b[0;32m----> 1\u001b[0;31m \u001b[0mnext\u001b[0m\u001b[0;34m(\u001b[0m\u001b[0ms2\u001b[0m\u001b[0;34m)\u001b[0m\u001b[0;34m\u001b[0m\u001b[0;34m\u001b[0m\u001b[0m\n\u001b[0m",
      "\u001b[0;31mStopIteration\u001b[0m: "
     ]
    }
   ],
   "source": [
    "next(s2)"
   ]
  },
  {
   "cell_type": "markdown",
   "id": "283eea57",
   "metadata": {
    "id": "nVfK0fZFONCr"
   },
   "source": [
    "## Practice"
   ]
  },
  {
   "cell_type": "code",
   "execution_count": 1,
   "id": "f89836e3",
   "metadata": {},
   "outputs": [
    {
     "ename": "TypeError",
     "evalue": "'int' object is not iterable",
     "output_type": "error",
     "traceback": [
      "\u001b[1;31m---------------------------------------------------------------------------\u001b[0m",
      "\u001b[1;31mTypeError\u001b[0m                                 Traceback (most recent call last)",
      "\u001b[1;32m<ipython-input-1-293e06c9879f>\u001b[0m in \u001b[0;36m<module>\u001b[1;34m\u001b[0m\n\u001b[0;32m      1\u001b[0m \u001b[0ma1\u001b[0m \u001b[1;33m=\u001b[0m \u001b[1;36m10\u001b[0m\u001b[1;33m\u001b[0m\u001b[1;33m\u001b[0m\u001b[0m\n\u001b[1;32m----> 2\u001b[1;33m \u001b[0ma2\u001b[0m \u001b[1;33m=\u001b[0m \u001b[0miter\u001b[0m\u001b[1;33m(\u001b[0m\u001b[0ma1\u001b[0m\u001b[1;33m)\u001b[0m\u001b[1;33m\u001b[0m\u001b[1;33m\u001b[0m\u001b[0m\n\u001b[0m",
      "\u001b[1;31mTypeError\u001b[0m: 'int' object is not iterable"
     ]
    }
   ],
   "source": [
    "a1 = 10\n",
    "a2 = iter(a1)"
   ]
  },
  {
   "cell_type": "code",
   "execution_count": 2,
   "id": "30e8ea2c",
   "metadata": {},
   "outputs": [
    {
     "data": {
      "text/plain": [
       "'s'"
      ]
     },
     "execution_count": 2,
     "metadata": {},
     "output_type": "execute_result"
    }
   ],
   "source": [
    "a1 = \"string\"\n",
    "a2 = iter(a1)\n",
    "next(a2)"
   ]
  },
  {
   "cell_type": "code",
   "execution_count": 59,
   "id": "a8cb727c",
   "metadata": {
    "colab": {
     "base_uri": "https://localhost:8080/"
    },
    "executionInfo": {
     "elapsed": 360,
     "status": "ok",
     "timestamp": 1627209185716,
     "user": {
      "displayName": "Siddharth Swain",
      "photoUrl": "",
      "userId": "12055456511825659152"
     },
     "user_tz": -330
    },
    "id": "2VRXz1ViNicW",
    "outputId": "c75be5c6-9a2e-4ae2-f100-d58588cba389"
   },
   "outputs": [
    {
     "name": "stdout",
     "output_type": "stream",
     "text": [
      "s\n",
      "u\n",
      "d\n",
      "h\n"
     ]
    }
   ],
   "source": [
    "for i in \"sudh\":\n",
    "  print(i)"
   ]
  },
  {
   "cell_type": "code",
   "execution_count": 3,
   "id": "454c9c79",
   "metadata": {
    "executionInfo": {
     "elapsed": 612,
     "status": "ok",
     "timestamp": 1627209289863,
     "user": {
      "displayName": "Siddharth Swain",
      "photoUrl": "",
      "userId": "12055456511825659152"
     },
     "user_tz": -330
    },
    "id": "y_L7zkZFOOI1"
   },
   "outputs": [
    {
     "data": {
      "text/plain": [
       "<list_iterator at 0x26c11769b20>"
      ]
     },
     "execution_count": 3,
     "metadata": {},
     "output_type": "execute_result"
    }
   ],
   "source": [
    "l1 = [1,2,3,4,5]\n",
    "l2 = iter(l1)\n",
    "l2"
   ]
  },
  {
   "cell_type": "code",
   "execution_count": 65,
   "id": "f258dbf9",
   "metadata": {
    "colab": {
     "base_uri": "https://localhost:8080/"
    },
    "executionInfo": {
     "elapsed": 4,
     "status": "ok",
     "timestamp": 1627209289864,
     "user": {
      "displayName": "Siddharth Swain",
      "photoUrl": "",
      "userId": "12055456511825659152"
     },
     "user_tz": -330
    },
    "id": "wW0Zh0IQOu0t",
    "outputId": "c6fedf87-069b-4020-b8f9-b65c1b0a48aa"
   },
   "outputs": [
    {
     "name": "stdout",
     "output_type": "stream",
     "text": [
      "1\n",
      "2\n",
      "3\n",
      "4\n",
      "5\n"
     ]
    }
   ],
   "source": [
    "for i in l2:\n",
    "  print(i)"
   ]
  },
  {
   "cell_type": "code",
   "execution_count": 66,
   "id": "dda9a8be",
   "metadata": {
    "executionInfo": {
     "elapsed": 341,
     "status": "ok",
     "timestamp": 1627209343010,
     "user": {
      "displayName": "Siddharth Swain",
      "photoUrl": "",
      "userId": "12055456511825659152"
     },
     "user_tz": -330
    },
    "id": "5NypdLrMOx5d"
   },
   "outputs": [],
   "source": [
    "t1 = (4,5,6,7)\n",
    "t2 = iter(t1)"
   ]
  },
  {
   "cell_type": "code",
   "execution_count": 67,
   "id": "334e2ae3",
   "metadata": {
    "colab": {
     "base_uri": "https://localhost:8080/"
    },
    "executionInfo": {
     "elapsed": 340,
     "status": "ok",
     "timestamp": 1627209351827,
     "user": {
      "displayName": "Siddharth Swain",
      "photoUrl": "",
      "userId": "12055456511825659152"
     },
     "user_tz": -330
    },
    "id": "KiRxDBobPBx1",
    "outputId": "0e5d32ca-5287-4b06-c4be-5839097103b7"
   },
   "outputs": [
    {
     "name": "stdout",
     "output_type": "stream",
     "text": [
      "4\n",
      "5\n",
      "6\n",
      "7\n"
     ]
    }
   ],
   "source": [
    "for i in t2:\n",
    "  print(i)"
   ]
  },
  {
   "cell_type": "code",
   "execution_count": 68,
   "id": "4441b2ae",
   "metadata": {
    "executionInfo": {
     "elapsed": 359,
     "status": "ok",
     "timestamp": 1627209480694,
     "user": {
      "displayName": "Siddharth Swain",
      "photoUrl": "",
      "userId": "12055456511825659152"
     },
     "user_tz": -330
    },
    "id": "nku2RjrnPD0s"
   },
   "outputs": [],
   "source": [
    "l1 = [1,2,3,4]\n",
    "l2 = iter(l1)"
   ]
  },
  {
   "cell_type": "code",
   "execution_count": 69,
   "id": "19395e6d",
   "metadata": {
    "colab": {
     "base_uri": "https://localhost:8080/"
    },
    "executionInfo": {
     "elapsed": 350,
     "status": "ok",
     "timestamp": 1627209488357,
     "user": {
      "displayName": "Siddharth Swain",
      "photoUrl": "",
      "userId": "12055456511825659152"
     },
     "user_tz": -330
    },
    "id": "iFTLC6GGPjX9",
    "outputId": "7df602e4-3a63-4e9a-edcb-9a65714fe461"
   },
   "outputs": [
    {
     "data": {
      "text/plain": [
       "1"
      ]
     },
     "execution_count": 69,
     "metadata": {
      "tags": []
     },
     "output_type": "execute_result"
    }
   ],
   "source": [
    "next(l2)"
   ]
  },
  {
   "cell_type": "markdown",
   "id": "6baac65b",
   "metadata": {
    "id": "LBavRXoEQUky"
   },
   "source": [
    "## Generators in Python\n",
    "\n",
    "There are two terms involved when we discuss generators.\n",
    "\n",
    "## Generator Function\n",
    "\n",
    "A generator-function is defined like a normal function, but whenever it needs to generate a value, it does so with the yield keyword rather than return. \n",
    "\n",
    "If the body of a def contains yield, the function automatically becomes a generator function."
   ]
  },
  {
   "cell_type": "code",
   "execution_count": 4,
   "id": "fb0e1930",
   "metadata": {},
   "outputs": [
    {
     "name": "stdout",
     "output_type": "stream",
     "text": [
      "1\n",
      "2\n",
      "3\n"
     ]
    }
   ],
   "source": [
    "# A generator function that yields 1 for first time,\n",
    "# 2 second time and 3 third time\n",
    "\n",
    "def simpleGeneratorFun():\n",
    "    yield 1            \n",
    "    yield 2            \n",
    "    yield 3            \n",
    "   \n",
    "# Driver code to check above generator function\n",
    "for value in simpleGeneratorFun(): \n",
    "    print(value)"
   ]
  },
  {
   "cell_type": "markdown",
   "id": "984c6d7e",
   "metadata": {},
   "source": [
    "## Generator Object\n",
    "\n",
    "Generator functions return a generator object. Generator objects are used either by calling the next method on the generator object or using the generator object in a “for in” loop (as shown in the above program)."
   ]
  },
  {
   "cell_type": "code",
   "execution_count": 6,
   "id": "16c0c103",
   "metadata": {},
   "outputs": [
    {
     "name": "stdout",
     "output_type": "stream",
     "text": [
      "1\n",
      "2\n",
      "3\n"
     ]
    }
   ],
   "source": [
    "# A Python program to demonstrate use of \n",
    "# generator object with next() \n",
    "  \n",
    "# A generator function\n",
    "def simpleGeneratorFun():\n",
    "    yield 1\n",
    "    yield 2\n",
    "    yield 3\n",
    "   \n",
    "# x is a generator object\n",
    "x = simpleGeneratorFun()\n",
    "  \n",
    "# Iterating over the generator object using next\n",
    "print(x.__next__()) # In Python 3, __next__()\n",
    "print(x.__next__())\n",
    "print(x.__next__())"
   ]
  },
  {
   "cell_type": "markdown",
   "id": "2f620d32",
   "metadata": {},
   "source": [
    "So a generator function returns an generator object that is iterable, i.e., can be used as an Iterators .\n",
    "\n",
    "As another example, below is a generator for Fibonacci Numbers."
   ]
  },
  {
   "cell_type": "code",
   "execution_count": 7,
   "id": "9a4dc299",
   "metadata": {},
   "outputs": [
    {
     "name": "stdout",
     "output_type": "stream",
     "text": [
      "0\n",
      "1\n",
      "1\n",
      "2\n",
      "3\n",
      "\n",
      "Using for in loop\n",
      "0\n",
      "1\n",
      "1\n",
      "2\n",
      "3\n"
     ]
    }
   ],
   "source": [
    "# A simple generator for Fibonacci Numbers\n",
    "def fib(limit):\n",
    "      \n",
    "    # Initialize first two Fibonacci Numbers \n",
    "    a, b = 0, 1\n",
    "  \n",
    "    # One by one yield next Fibonacci Number\n",
    "    while a < limit:\n",
    "        yield a\n",
    "        a, b = b, a + b\n",
    "  \n",
    "# Create a generator object\n",
    "x = fib(5)\n",
    "  \n",
    "# Iterating over the generator object using next\n",
    "print(x.__next__()) # In Python 3, __next__()\n",
    "print(x.__next__())\n",
    "print(x.__next__())\n",
    "print(x.__next__())\n",
    "print(x.__next__())\n",
    "  \n",
    "# Iterating over the generator object using for\n",
    "# in loop.\n",
    "print(\"\\nUsing for in loop\")\n",
    "for i in fib(5): \n",
    "    print(i)"
   ]
  },
  {
   "cell_type": "markdown",
   "id": "2456ba24",
   "metadata": {},
   "source": [
    "## Applications\n",
    "\n",
    "Suppose we to create a stream of Fibonacci numbers, adopting the generator approach makes it trivial; we just have to call next(x) to get the next Fibonacci number without bothering about where or when the stream of numbers ends.\n",
    "\n",
    "A more practical type of stream processing is handling large data files such as log files. Generators provide a space efficient method for such data processing as only parts of the file are handled at one given point in time. We can also use Iterators for these purposes, but Generator provides a quick way (We don’t need to write __next__ and __iter__ methods here)."
   ]
  },
  {
   "attachments": {
    "image.png": {
     "image/png": "[encoded data removed]"
    }
   },
   "cell_type": "markdown",
   "id": "6c2b2d3c",
   "metadata": {},
   "source": [
    "![image.png](attachment:image.png)"
   ]
  },
  {
   "cell_type": "markdown",
   "id": "8e04fb5e",
   "metadata": {},
   "source": [
    "## Practice"
   ]
  },
  {
   "cell_type": "code",
   "execution_count": 2,
   "id": "a03b83cb",
   "metadata": {
    "executionInfo": {
     "elapsed": 361,
     "status": "ok",
     "timestamp": 1627210490630,
     "user": {
      "displayName": "Siddharth Swain",
      "photoUrl": "",
      "userId": "12055456511825659152"
     },
     "user_tz": -330
    },
    "id": "bDvLX8JgPlPt"
   },
   "outputs": [],
   "source": [
    "def test4(n):\n",
    "  l = []\n",
    "  for i in range(n):\n",
    "    l.append(i**3)\n",
    "  return l"
   ]
  },
  {
   "cell_type": "code",
   "execution_count": 3,
   "id": "f7aec7e1",
   "metadata": {
    "colab": {
     "base_uri": "https://localhost:8080/"
    },
    "executionInfo": {
     "elapsed": 3,
     "status": "ok",
     "timestamp": 1627210491245,
     "user": {
      "displayName": "Siddharth Swain",
      "photoUrl": "",
      "userId": "12055456511825659152"
     },
     "user_tz": -330
    },
    "id": "gsTZfLaGQl9c",
    "outputId": "e8fdcc06-16c0-4ec9-d1b6-a2b3520ca41e"
   },
   "outputs": [
    {
     "data": {
      "text/plain": [
       "[0, 1, 8, 27, 64, 125]"
      ]
     },
     "execution_count": 3,
     "metadata": {
      "tags": []
     },
     "output_type": "execute_result"
    }
   ],
   "source": [
    "test4(6)"
   ]
  },
  {
   "cell_type": "code",
   "execution_count": 7,
   "id": "a4b491e8",
   "metadata": {
    "executionInfo": {
     "elapsed": 358,
     "status": "ok",
     "timestamp": 1627210551568,
     "user": {
      "displayName": "Siddharth Swain",
      "photoUrl": "",
      "userId": "12055456511825659152"
     },
     "user_tz": -330
    },
    "id": "DKGGkLl4RtXb"
   },
   "outputs": [],
   "source": [
    "def test5(n):\n",
    "  for i in range(n):\n",
    "    yield i**3"
   ]
  },
  {
   "cell_type": "code",
   "execution_count": 8,
   "id": "8d29fb87",
   "metadata": {
    "colab": {
     "base_uri": "https://localhost:8080/"
    },
    "executionInfo": {
     "elapsed": 2,
     "status": "ok",
     "timestamp": 1627210552180,
     "user": {
      "displayName": "Siddharth Swain",
      "photoUrl": "",
      "userId": "12055456511825659152"
     },
     "user_tz": -330
    },
    "id": "ijvC2Z9iTg77",
    "outputId": "964c6933-d9f6-4976-d6ce-037cc08e94ed"
   },
   "outputs": [
    {
     "data": {
      "text/plain": [
       "<generator object test5 at 0x7f4e41262ed0>"
      ]
     },
     "execution_count": 8,
     "metadata": {
      "tags": []
     },
     "output_type": "execute_result"
    }
   ],
   "source": [
    "test5(30)"
   ]
  },
  {
   "cell_type": "code",
   "execution_count": 14,
   "id": "fec22cea",
   "metadata": {
    "colab": {
     "base_uri": "https://localhost:8080/"
    },
    "executionInfo": {
     "elapsed": 378,
     "status": "ok",
     "timestamp": 1627210640114,
     "user": {
      "displayName": "Siddharth Swain",
      "photoUrl": "",
      "userId": "12055456511825659152"
     },
     "user_tz": -330
    },
    "id": "XHPYq4l_Tkqj",
    "outputId": "0d6714a8-dfa6-4c0f-f8df-817c53f4bd51"
   },
   "outputs": [
    {
     "data": {
      "text/plain": [
       "range(0, 5)"
      ]
     },
     "execution_count": 14,
     "metadata": {
      "tags": []
     },
     "output_type": "execute_result"
    }
   ],
   "source": [
    "range(5)"
   ]
  },
  {
   "cell_type": "code",
   "execution_count": 1,
   "id": "d4147735",
   "metadata": {},
   "outputs": [
    {
     "data": {
      "text/plain": [
       "range"
      ]
     },
     "execution_count": 1,
     "metadata": {},
     "output_type": "execute_result"
    }
   ],
   "source": [
    "type(range(5))"
   ]
  },
  {
   "cell_type": "code",
   "execution_count": 12,
   "id": "bef86cf2",
   "metadata": {
    "colab": {
     "base_uri": "https://localhost:8080/"
    },
    "executionInfo": {
     "elapsed": 348,
     "status": "ok",
     "timestamp": 1627210630929,
     "user": {
      "displayName": "Siddharth Swain",
      "photoUrl": "",
      "userId": "12055456511825659152"
     },
     "user_tz": -330
    },
    "id": "uezgKxOqTtg7",
    "outputId": "ba85dd81-2afa-4b89-81c7-a332eec730c7"
   },
   "outputs": [
    {
     "data": {
      "text/plain": [
       "[0, 1, 2, 3, 4]"
      ]
     },
     "execution_count": 12,
     "metadata": {
      "tags": []
     },
     "output_type": "execute_result"
    }
   ],
   "source": [
    "list(range(5))"
   ]
  },
  {
   "cell_type": "code",
   "execution_count": 13,
   "id": "9d7dab56",
   "metadata": {
    "colab": {
     "base_uri": "https://localhost:8080/"
    },
    "executionInfo": {
     "elapsed": 356,
     "status": "ok",
     "timestamp": 1627210633977,
     "user": {
      "displayName": "Siddharth Swain",
      "photoUrl": "",
      "userId": "12055456511825659152"
     },
     "user_tz": -330
    },
    "id": "v1tCHI-TT3wy",
    "outputId": "c2a56116-d2ca-4ae7-951b-060ed34d59a0"
   },
   "outputs": [
    {
     "name": "stdout",
     "output_type": "stream",
     "text": [
      "0\n",
      "1\n",
      "2\n",
      "3\n",
      "4\n"
     ]
    }
   ],
   "source": [
    "for i in range(5):\n",
    "  print(i)"
   ]
  },
  {
   "cell_type": "code",
   "execution_count": 118,
   "id": "a3fa7022",
   "metadata": {
    "executionInfo": {
     "elapsed": 366,
     "status": "ok",
     "timestamp": 1627210740636,
     "user": {
      "displayName": "Siddharth Swain",
      "photoUrl": "",
      "userId": "12055456511825659152"
     },
     "user_tz": -330
    },
    "id": "R07BpCA2T6Q8"
   },
   "outputs": [],
   "source": [
    "# Created our own function similar to range function.\n",
    "\n",
    "def test5(n):\n",
    "  for i in range(n):\n",
    "    yield i**3"
   ]
  },
  {
   "cell_type": "code",
   "execution_count": 17,
   "id": "50093180",
   "metadata": {
    "colab": {
     "base_uri": "https://localhost:8080/"
    },
    "executionInfo": {
     "elapsed": 396,
     "status": "ok",
     "timestamp": 1627210851295,
     "user": {
      "displayName": "Siddharth Swain",
      "photoUrl": "",
      "userId": "12055456511825659152"
     },
     "user_tz": -330
    },
    "id": "HGwbEB91UW_b",
    "outputId": "92f2dac1-0d26-4952-ce74-fabbcbdf02e2"
   },
   "outputs": [
    {
     "name": "stdout",
     "output_type": "stream",
     "text": [
      "0\n",
      "1\n",
      "8\n",
      "27\n",
      "64\n",
      "125\n",
      "216\n",
      "343\n",
      "512\n",
      "729\n"
     ]
    }
   ],
   "source": [
    "for i in test5(10):\n",
    "  print(i)"
   ]
  },
  {
   "cell_type": "markdown",
   "id": "c4db0066",
   "metadata": {
    "id": "LN7F0kxHU4T_"
   },
   "source": [
    "## Practice"
   ]
  },
  {
   "cell_type": "code",
   "execution_count": 25,
   "id": "c1f9d7a0",
   "metadata": {
    "executionInfo": {
     "elapsed": 337,
     "status": "ok",
     "timestamp": 1627211363119,
     "user": {
      "displayName": "Siddharth Swain",
      "photoUrl": "",
      "userId": "12055456511825659152"
     },
     "user_tz": -330
    },
    "id": "fpgM5gRaU8ZS"
   },
   "outputs": [],
   "source": [
    "def genfib(n):\n",
    "  a = 1\n",
    "  b = 1\n",
    "  output = []\n",
    "  for i in range(n):\n",
    "    output.append(a)\n",
    "    a , b = b , a + b\n",
    "  return output"
   ]
  },
  {
   "cell_type": "code",
   "execution_count": 28,
   "id": "52360f8d",
   "metadata": {
    "colab": {
     "base_uri": "https://localhost:8080/"
    },
    "executionInfo": {
     "elapsed": 645,
     "status": "ok",
     "timestamp": 1627211387439,
     "user": {
      "displayName": "Siddharth Swain",
      "photoUrl": "",
      "userId": "12055456511825659152"
     },
     "user_tz": -330
    },
    "id": "AA6H5KFsWGsa",
    "outputId": "cef39e74-85b3-4179-9a07-4b53b6c83bd1"
   },
   "outputs": [
    {
     "data": {
      "text/plain": [
       "[1,\n",
       " 1,\n",
       " 2,\n",
       " 3,\n",
       " 5,\n",
       " 8,\n",
       " 13,\n",
       " 21,\n",
       " 34,\n",
       " 55,\n",
       " 89,\n",
       " 144,\n",
       " 233,\n",
       " 377,\n",
       " 610,\n",
       " 987,\n",
       " 1597,\n",
       " 2584,\n",
       " 4181,\n",
       " 6765]"
      ]
     },
     "execution_count": 28,
     "metadata": {
      "tags": []
     },
     "output_type": "execute_result"
    }
   ],
   "source": [
    "genfib(20)"
   ]
  },
  {
   "cell_type": "code",
   "execution_count": 33,
   "id": "5dd00e66",
   "metadata": {
    "executionInfo": {
     "elapsed": 360,
     "status": "ok",
     "timestamp": 1627211567095,
     "user": {
      "displayName": "Siddharth Swain",
      "photoUrl": "",
      "userId": "12055456511825659152"
     },
     "user_tz": -330
    },
    "id": "mKeNg-cLWJk6"
   },
   "outputs": [],
   "source": [
    "def genfib(n):\n",
    "  a = 1\n",
    "  b = 1\n",
    "  output = []\n",
    "  for i in range(n):\n",
    "    yield a\n",
    "    a , b = b , a + b"
   ]
  },
  {
   "cell_type": "code",
   "execution_count": 34,
   "id": "d5686c65",
   "metadata": {
    "colab": {
     "base_uri": "https://localhost:8080/"
    },
    "executionInfo": {
     "elapsed": 2,
     "status": "ok",
     "timestamp": 1627211568344,
     "user": {
      "displayName": "Siddharth Swain",
      "photoUrl": "",
      "userId": "12055456511825659152"
     },
     "user_tz": -330
    },
    "id": "Ep1P4wRLW8hJ",
    "outputId": "b43cb20f-7e84-42ae-a8cb-ab528e27abdc"
   },
   "outputs": [
    {
     "data": {
      "text/plain": [
       "<generator object genfib at 0x7f4e3d186d50>"
      ]
     },
     "execution_count": 34,
     "metadata": {
      "tags": []
     },
     "output_type": "execute_result"
    }
   ],
   "source": [
    "genfib(6)"
   ]
  },
  {
   "cell_type": "code",
   "execution_count": 35,
   "id": "4cb595b2",
   "metadata": {
    "colab": {
     "base_uri": "https://localhost:8080/"
    },
    "executionInfo": {
     "elapsed": 2,
     "status": "ok",
     "timestamp": 1627211568838,
     "user": {
      "displayName": "Siddharth Swain",
      "photoUrl": "",
      "userId": "12055456511825659152"
     },
     "user_tz": -330
    },
    "id": "IGMP7nn-W95R",
    "outputId": "395bba23-1973-48fc-acac-63c8ba0a71e4"
   },
   "outputs": [
    {
     "name": "stdout",
     "output_type": "stream",
     "text": [
      "1\n",
      "1\n",
      "2\n",
      "3\n",
      "5\n",
      "8\n",
      "13\n",
      "21\n",
      "34\n",
      "55\n",
      "89\n",
      "144\n",
      "233\n",
      "377\n",
      "610\n",
      "987\n",
      "1597\n",
      "2584\n",
      "4181\n",
      "6765\n"
     ]
    }
   ],
   "source": [
    "for i in genfib(20):\n",
    "  print(i)"
   ]
  },
  {
   "cell_type": "markdown",
   "id": "3492c7e2",
   "metadata": {},
   "source": [
    "## id() Function\n",
    "\n",
    "**The id function returns a unique id for the specified object.** All objects in Python has its own unique id. The id is assigned to the object when it is created.\n",
    "\n",
    "The id is the object's memory address, and will be different for each time you run the program. (except for some object that has a constant unique id, like integers from -5 to 256).\n",
    "\n",
    "This identity has to be unique and constant for this object during the lifetime. Two objects with non-overlapping lifetimes may have the same id() value. \n",
    "\n",
    "If we relate this to C, then they are actually the memory address, here in Python it is the unique id. This function is generally used internally in Python."
   ]
  },
  {
   "cell_type": "code",
   "execution_count": 2,
   "id": "fec4c47e",
   "metadata": {},
   "outputs": [
    {
     "name": "stdout",
     "output_type": "stream",
     "text": [
      "2095326912192\n"
     ]
    }
   ],
   "source": [
    "x = ('apple', 'banana', 'cherry')\n",
    "y = id(x)\n",
    "print(y)"
   ]
  },
  {
   "cell_type": "code",
   "execution_count": 3,
   "id": "24cd63ca",
   "metadata": {},
   "outputs": [
    {
     "name": "stdout",
     "output_type": "stream",
     "text": [
      "140713467327376\n",
      "140713467327056\n"
     ]
    }
   ],
   "source": [
    "a = 100\n",
    "b = 90\n",
    "print(id(a))\n",
    "print(id(b))"
   ]
  }
 ],
 "metadata": {
  "kernelspec": {
   "display_name": "Python 3",
   "language": "python",
   "name": "python3"
  },
  "language_info": {
   "codemirror_mode": {
    "name": "ipython",
    "version": 3
   },
   "file_extension": ".py",
   "mimetype": "text/x-python",
   "name": "python",
   "nbconvert_exporter": "python",
   "pygments_lexer": "ipython3",
   "version": "3.8.8"
  }
 },
 "nbformat": 4,
 "nbformat_minor": 5
}
