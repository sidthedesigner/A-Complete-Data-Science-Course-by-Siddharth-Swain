{
 "cells": [
  {
   "cell_type": "markdown",
   "id": "4ae317b7",
   "metadata": {},
   "source": [
    "# 1. Syntax\n",
    "\n",
    "Python syntax can be executed by writing directly in the Command Line."
   ]
  },
  {
   "cell_type": "code",
   "execution_count": 1,
   "id": "431dc3bf",
   "metadata": {},
   "outputs": [
    {
     "name": "stdout",
     "output_type": "stream",
     "text": [
      "Hello, World!\n"
     ]
    }
   ],
   "source": [
    "print(\"Hello, World!\")"
   ]
  },
  {
   "cell_type": "markdown",
   "id": "fc802652",
   "metadata": {},
   "source": [
    "Or by creating a python file on the server, using the .py file extension, and running it in the Command Line :\n",
    "\n",
    "C:\\Users\\Your Name>python myfile.py"
   ]
  },
  {
   "cell_type": "markdown",
   "id": "b1648f80",
   "metadata": {},
   "source": [
    "# 2. Indentation\n",
    "\n",
    "**Indentation refers to the spaces at the beginning of a code line.**\n",
    "\n",
    "Where in other programming languages the indentation in code is for readability only, the indentation in Python is very important. Python uses indentation to indicate a block of code."
   ]
  },
  {
   "cell_type": "code",
   "execution_count": 2,
   "id": "0db22340",
   "metadata": {},
   "outputs": [
    {
     "name": "stdout",
     "output_type": "stream",
     "text": [
      "Five is greater than two!\n"
     ]
    }
   ],
   "source": [
    "if 5 > 2:\n",
    "  print(\"Five is greater than two!\")"
   ]
  },
  {
   "cell_type": "code",
   "execution_count": 3,
   "id": "40d3304d",
   "metadata": {},
   "outputs": [
    {
     "ename": "IndentationError",
     "evalue": "expected an indented block (Temp/ipykernel_13212/3156362470.py, line 4)",
     "output_type": "error",
     "traceback": [
      "\u001b[1;36m  File \u001b[1;32m\"C:\\Users\\SIDDHA~1\\AppData\\Local\\Temp/ipykernel_13212/3156362470.py\"\u001b[1;36m, line \u001b[1;32m4\u001b[0m\n\u001b[1;33m    print(\"Five is greater than two!\")\u001b[0m\n\u001b[1;37m    ^\u001b[0m\n\u001b[1;31mIndentationError\u001b[0m\u001b[1;31m:\u001b[0m expected an indented block\n"
     ]
    }
   ],
   "source": [
    "# Python gives you an error if you skip the indentation.\n",
    "\n",
    "if 5 > 2:\n",
    "print(\"Five is greater than two!\")"
   ]
  },
  {
   "cell_type": "code",
   "execution_count": 4,
   "id": "dd941072",
   "metadata": {},
   "outputs": [
    {
     "name": "stdout",
     "output_type": "stream",
     "text": [
      "Five is greater than two!\n",
      "Six is greater than two!\n"
     ]
    }
   ],
   "source": [
    "# The number of spaces is up to you as a programmer, but it has to be at least one.\n",
    "\n",
    "if 5 > 2:\n",
    " print(\"Five is greater than two!\") \n",
    "if 6 > 2:\n",
    "        print(\"Six is greater than two!\") "
   ]
  },
  {
   "cell_type": "code",
   "execution_count": 5,
   "id": "c4ece046",
   "metadata": {},
   "outputs": [
    {
     "ename": "IndentationError",
     "evalue": "unexpected indent (Temp/ipykernel_13212/2833499869.py, line 5)",
     "output_type": "error",
     "traceback": [
      "\u001b[1;36m  File \u001b[1;32m\"C:\\Users\\SIDDHA~1\\AppData\\Local\\Temp/ipykernel_13212/2833499869.py\"\u001b[1;36m, line \u001b[1;32m5\u001b[0m\n\u001b[1;33m    print(\"Five is greater than two!\")\u001b[0m\n\u001b[1;37m    ^\u001b[0m\n\u001b[1;31mIndentationError\u001b[0m\u001b[1;31m:\u001b[0m unexpected indent\n"
     ]
    }
   ],
   "source": [
    "# The same number of spaces have to be used in the same block of code, otherwise Python gives you an error.\n",
    "\n",
    "if 5 > 2:\n",
    "    print(\"Five is greater than two!\")\n",
    "     print(\"Five is greater than two!\")"
   ]
  },
  {
   "cell_type": "code",
   "execution_count": 6,
   "id": "07c3767b",
   "metadata": {},
   "outputs": [
    {
     "name": "stdout",
     "output_type": "stream",
     "text": [
      "Five is greater than two!\n",
      "Six is greater than two!\n"
     ]
    }
   ],
   "source": [
    "# No error.\n",
    "\n",
    "if 5 > 2:\n",
    "    print(\"Five is greater than two!\")\n",
    "    print(\"Six is greater than two!\")"
   ]
  },
  {
   "cell_type": "markdown",
   "id": "cbce1da0",
   "metadata": {},
   "source": [
    "# 3. Variables\n",
    "\n",
    "In Python, variables are created when you assign a value to it."
   ]
  },
  {
   "cell_type": "code",
   "execution_count": 7,
   "id": "7bad6925",
   "metadata": {},
   "outputs": [],
   "source": [
    "# Creating Variables.\n",
    "\n",
    "x = 5\n",
    "y = \"Hello, World!\""
   ]
  },
  {
   "cell_type": "markdown",
   "id": "d8456504",
   "metadata": {},
   "source": [
    "Python has no command for declaring a variable.\n",
    "\n",
    "# 4. Comments\n",
    "\n",
    "Python has commenting capability for the purpose of in-code documentation.\n",
    "\n",
    "Comments start with a #, and Python will render the rest of the line as a comment."
   ]
  },
  {
   "cell_type": "code",
   "execution_count": 8,
   "id": "9ae283b4",
   "metadata": {},
   "outputs": [
    {
     "name": "stdout",
     "output_type": "stream",
     "text": [
      "Hello, World!\n"
     ]
    }
   ],
   "source": [
    "# Comments in Python.\n",
    "\n",
    "#This is a comment.\n",
    "print(\"Hello, World!\")"
   ]
  },
  {
   "cell_type": "markdown",
   "id": "45d45a59",
   "metadata": {},
   "source": [
    "# 5. Built-in Functions\n",
    "\n",
    "Python has several functions that are readily available for use. These functions are called built-in functions."
   ]
  },
  {
   "cell_type": "markdown",
   "id": "1a0ee689",
   "metadata": {},
   "source": [
    "## 5.1 Help Function\n",
    "\n",
    "The Python help function is used to display the documentation of modules, functions, classes, keywords, etc. \n",
    "\n",
    "The help function has the following syntax: help([object])"
   ]
  },
  {
   "cell_type": "code",
   "execution_count": 9,
   "id": "a4faf7a6",
   "metadata": {},
   "outputs": [
    {
     "name": "stdout",
     "output_type": "stream",
     "text": [
      "Help on built-in function print in module builtins:\n",
      "\n",
      "print(...)\n",
      "    print(value, ..., sep=' ', end='\\n', file=sys.stdout, flush=False)\n",
      "    \n",
      "    Prints the values to a stream, or to sys.stdout by default.\n",
      "    Optional keyword arguments:\n",
      "    file:  a file-like object (stream); defaults to the current sys.stdout.\n",
      "    sep:   string inserted between values, default a space.\n",
      "    end:   string appended after the last value, default a newline.\n",
      "    flush: whether to forcibly flush the stream.\n",
      "\n"
     ]
    }
   ],
   "source": [
    "# Displays the documentation of the predefined print function in Python.\n",
    "\n",
    "help(print)"
   ]
  },
  {
   "cell_type": "markdown",
   "id": "7b32b3c4",
   "metadata": {},
   "source": [
    "## 5.2 Print Function\n",
    "\n",
    "The print() function prints the specified message to the screen, or other standard output device.\n",
    "\n",
    "The message can be a string, or any other object, the object will be converted into a string before written to the screen.\n",
    "\n",
    "**Syntax :** print(object(s), sep=separator, end=end, file=file, flush=flush)"
   ]
  },
  {
   "cell_type": "code",
   "execution_count": 13,
   "id": "c8fa620a",
   "metadata": {},
   "outputs": [
    {
     "name": "stdout",
     "output_type": "stream",
     "text": [
      "Help on built-in function print in module builtins:\n",
      "\n",
      "print(...)\n",
      "    print(value, ..., sep=' ', end='\\n', file=sys.stdout, flush=False)\n",
      "    \n",
      "    Prints the values to a stream, or to sys.stdout by default.\n",
      "    Optional keyword arguments:\n",
      "    file:  a file-like object (stream); defaults to the current sys.stdout.\n",
      "    sep:   string inserted between values, default a space.\n",
      "    end:   string appended after the last value, default a newline.\n",
      "    flush: whether to forcibly flush the stream.\n",
      "\n"
     ]
    }
   ],
   "source": [
    "help(print)"
   ]
  },
  {
   "cell_type": "code",
   "execution_count": 14,
   "id": "4b100b96",
   "metadata": {},
   "outputs": [
    {
     "name": "stdout",
     "output_type": "stream",
     "text": [
      "Hello World\n"
     ]
    }
   ],
   "source": [
    "# No error.\n",
    "\n",
    "print(\"Hello World\")"
   ]
  },
  {
   "cell_type": "code",
   "execution_count": 15,
   "id": "646e2279",
   "metadata": {},
   "outputs": [
    {
     "ename": "SyntaxError",
     "evalue": "EOL while scanning string literal (Temp/ipykernel_13212/2415817643.py, line 2)",
     "output_type": "error",
     "traceback": [
      "\u001b[1;36m  File \u001b[1;32m\"C:\\Users\\SIDDHA~1\\AppData\\Local\\Temp/ipykernel_13212/2415817643.py\"\u001b[1;36m, line \u001b[1;32m2\u001b[0m\n\u001b[1;33m    print(\"Hello World)\u001b[0m\n\u001b[1;37m                       ^\u001b[0m\n\u001b[1;31mSyntaxError\u001b[0m\u001b[1;31m:\u001b[0m EOL while scanning string literal\n"
     ]
    }
   ],
   "source": [
    "# Closing \" is missing. Hence, Python gives you an error.\n",
    "\n",
    "print(\"Hello World)"
   ]
  },
  {
   "cell_type": "code",
   "execution_count": 16,
   "id": "1a239bfd",
   "metadata": {},
   "outputs": [
    {
     "name": "stdout",
     "output_type": "stream",
     "text": [
      "Hello World\n"
     ]
    }
   ],
   "source": [
    "# No error.\n",
    "\n",
    "print('Hello World')"
   ]
  },
  {
   "cell_type": "code",
   "execution_count": 17,
   "id": "830132f0",
   "metadata": {},
   "outputs": [
    {
     "ename": "SyntaxError",
     "evalue": "Missing parentheses in call to 'print'. Did you mean print(\"This is my first program\")? (Temp/ipykernel_13212/2298930810.py, line 3)",
     "output_type": "error",
     "traceback": [
      "\u001b[1;36m  File \u001b[1;32m\"C:\\Users\\SIDDHA~1\\AppData\\Local\\Temp/ipykernel_13212/2298930810.py\"\u001b[1;36m, line \u001b[1;32m3\u001b[0m\n\u001b[1;33m    print \"This is my first program\"\u001b[0m\n\u001b[1;37m          ^\u001b[0m\n\u001b[1;31mSyntaxError\u001b[0m\u001b[1;31m:\u001b[0m Missing parentheses in call to 'print'. Did you mean print(\"This is my first program\")?\n"
     ]
    }
   ],
   "source": [
    "# This code is valid in Python 2.x, however it will not work in Python 3.x version.\n",
    "\n",
    "print \"This is my first program\""
   ]
  },
  {
   "cell_type": "code",
   "execution_count": 18,
   "id": "eaac6168",
   "metadata": {},
   "outputs": [
    {
     "name": "stdout",
     "output_type": "stream",
     "text": [
      "Hello how are you?\n"
     ]
    }
   ],
   "source": [
    "# Print more than one object.\n",
    "\n",
    "print(\"Hello\", \"how are you?\")"
   ]
  },
  {
   "cell_type": "code",
   "execution_count": 19,
   "id": "32bab68e",
   "metadata": {},
   "outputs": [
    {
     "name": "stdout",
     "output_type": "stream",
     "text": [
      "('apple', 'banana', 'cherry')\n"
     ]
    }
   ],
   "source": [
    "# Print a tuple.\n",
    "\n",
    "x = (\"apple\", \"banana\", \"cherry\")\n",
    "print(x)"
   ]
  },
  {
   "cell_type": "code",
   "execution_count": 20,
   "id": "dfae17f8",
   "metadata": {},
   "outputs": [
    {
     "name": "stdout",
     "output_type": "stream",
     "text": [
      "Hello---how are you?\n"
     ]
    }
   ],
   "source": [
    "# Print two messages, and specify the separator.\n",
    "\n",
    "print(\"Hello\", \"how are you?\", sep=\"---\")"
   ]
  },
  {
   "cell_type": "markdown",
   "id": "8ec55140",
   "metadata": {},
   "source": [
    "# 6. Checking GPU Version\n",
    "\n",
    "The NVIDIA System Management Interface (nvidia-smi) is a command line utility, based on top of the NVIDIA Management Library (NVML), intended to aid in the management and monitoring of NVIDIA GPU devices. \n",
    "\n",
    "This utility allows administrators to query GPU device state and with the appropriate privileges, permits administrators to modify GPU device state.  It is targeted at the TeslaTM, GRIDTM, QuadroTM and Titan X product, though limited support is also available on other NVIDIA GPUs."
   ]
  },
  {
   "cell_type": "code",
   "execution_count": 10,
   "id": "aaf2c0e8",
   "metadata": {},
   "outputs": [
    {
     "name": "stdout",
     "output_type": "stream",
     "text": [
      "Thu Mar 24 16:14:43 2022       \n",
      "+-----------------------------------------------------------------------------+\n",
      "| NVIDIA-SMI 497.17       Driver Version: 497.17       CUDA Version: 11.5     |\n",
      "|-------------------------------+----------------------+----------------------+\n",
      "| GPU  Name            TCC/WDDM | Bus-Id        Disp.A | Volatile Uncorr. ECC |\n",
      "| Fan  Temp  Perf  Pwr:Usage/Cap|         Memory-Usage | GPU-Util  Compute M. |\n",
      "|                               |                      |               MIG M. |\n",
      "|===============================+======================+======================|\n",
      "|   0  NVIDIA GeForce ... WDDM  | 00000000:01:00.0 Off |                  N/A |\n",
      "| N/A   42C    P0    20W /  N/A |    121MiB /  6144MiB |      0%      Default |\n",
      "|                               |                      |                  N/A |\n",
      "+-------------------------------+----------------------+----------------------+\n",
      "                                                                               \n",
      "+-----------------------------------------------------------------------------+\n",
      "| Processes:                                                                  |\n",
      "|  GPU   GI   CI        PID   Type   Process name                  GPU Memory |\n",
      "|        ID   ID                                                   Usage      |\n",
      "|=============================================================================|\n",
      "|  No running processes found                                                 |\n",
      "+-----------------------------------------------------------------------------+\n"
     ]
    }
   ],
   "source": [
    "!nvidia-smi"
   ]
  },
  {
   "cell_type": "markdown",
   "id": "31234b71",
   "metadata": {},
   "source": [
    "# 7. Present Working Directory\n",
    "\n",
    "The pwd command shows you the present working directory."
   ]
  },
  {
   "cell_type": "code",
   "execution_count": 1,
   "id": "944e1064",
   "metadata": {},
   "outputs": [
    {
     "data": {
      "text/plain": [
       "'D:\\\\SIDDHARTHSWAINDATASCIENCE'"
      ]
     },
     "execution_count": 1,
     "metadata": {},
     "output_type": "execute_result"
    }
   ],
   "source": [
    "pwd"
   ]
  },
  {
   "cell_type": "markdown",
   "id": "8f120e00",
   "metadata": {},
   "source": [
    "# 8. Ls Command\n",
    "\n",
    "The ls command lets you see the content of your current working directory."
   ]
  },
  {
   "cell_type": "code",
   "execution_count": 2,
   "id": "d4cc57d2",
   "metadata": {},
   "outputs": [
    {
     "name": "stdout",
     "output_type": "stream",
     "text": [
      " Volume in drive D is Data\n",
      " Volume Serial Number is F011-FDD9\n",
      "\n",
      " Directory of D:\\SIDDHARTHSWAINDATASCIENCE\n",
      "\n",
      "04/12/2022  12:54 AM    <DIR>          .\n",
      "04/12/2022  12:54 AM    <DIR>          ..\n",
      "04/11/2022  07:48 PM    <DIR>          .ipynb_checkpoints\n",
      "03/16/2022  04:15 AM            19,969 000_Table of Contents.ipynb\n",
      "04/11/2022  07:29 PM         2,328,675 001_Python Introduction.ipynb\n",
      "04/12/2022  12:38 AM         1,088,433 002_Getting Started.ipynb\n",
      "04/12/2022  12:54 AM            15,885 003_Python Syntax.ipynb\n",
      "03/28/2022  01:57 AM             6,164 004_Python Comments.ipynb\n",
      "03/28/2022  01:57 AM            15,197 005_Python Variables.ipynb\n",
      "03/28/2022  01:57 AM           161,964 006_Python Data Types.ipynb\n",
      "03/28/2022  01:57 AM             9,686 007_Python Numbers.ipynb\n",
      "03/28/2022  01:57 AM             3,178 008_Python Casting.ipynb\n",
      "03/28/2022  01:57 AM            12,273 009_Python Booleans.ipynb\n",
      "03/28/2022  01:57 AM           208,329 010_Python Operators.ipynb\n",
      "03/28/2022  01:57 AM             5,111 011_Python User Input.ipynb\n",
      "03/28/2022  01:57 AM            19,534 012_Python If Else.ipynb\n",
      "03/28/2022  01:57 AM             8,680 013_Python While Loops.ipynb\n",
      "03/28/2022  01:57 AM             9,528 014_Python For Loops.ipynb\n",
      "03/28/2022  01:57 AM           283,063 015_Python Strings.ipynb\n",
      "03/28/2022  01:57 AM           235,399 016_Python Lists.ipynb\n",
      "03/28/2022  01:57 AM            75,500 017_Python Tuples.ipynb\n",
      "03/28/2022  01:57 AM           133,298 018_Python Sets.ipynb\n",
      "03/28/2022  01:57 AM           139,086 019_Python Dictionaries.ipynb\n",
      "03/28/2022  01:57 AM           218,896 020_Python Functions.ipynb\n",
      "03/28/2022  01:57 AM            99,209 021_Python File Handling.ipynb\n",
      "03/28/2022  01:57 AM         1,028,089 022_Python Logging and Debugging.ipynb\n",
      "03/28/2022  01:57 AM           214,229 023_Python Modules.ipynb\n",
      "03/28/2022  01:57 AM            67,268 024_Python Error Handling.ipynb\n",
      "03/28/2022  01:57 AM            21,007 025_Python Object Oriented Programming.ipynb\n",
      "03/28/2022  01:57 AM           208,890 026_Python Classes and Objects.ipynb\n",
      "03/28/2022  01:57 AM           377,798 027_Python Access Modifiers, Inheritance, Method Overriding, Method Resolution Order and Encapsulation.ipynb\n",
      "03/28/2022  01:57 AM         2,469,031 028_Python MySQL.ipynb\n",
      "03/28/2022  01:57 AM           134,756 029_Python MongoDB.ipynb\n",
      "03/28/2022  01:57 AM         2,290,956 030_Python Flask, API & Debugging.ipynb\n",
      "03/28/2022  01:57 AM         2,661,343 031_Python Pandas.ipynb\n",
      "03/28/2022  01:57 AM           547,614 032_Python Numpy.ipynb\n",
      "03/28/2022  01:57 AM        12,202,704 033_Data Visualization using Matplotlib, Seaborn and Plotly.ipynb\n",
      "04/10/2022  10:06 AM    <DIR>          PyCharm\n",
      "04/10/2022  10:06 AM    <DIR>          References\n",
      "04/10/2022  10:06 AM    <DIR>          Temp\n",
      "              34 File(s)     27,320,742 bytes\n",
      "               6 Dir(s)  588,087,386,112 bytes free\n"
     ]
    }
   ],
   "source": [
    "ls"
   ]
  }
 ],
 "metadata": {
  "kernelspec": {
   "display_name": "Python 3",
   "language": "python",
   "name": "python3"
  },
  "language_info": {
   "codemirror_mode": {
    "name": "ipython",
    "version": 3
   },
   "file_extension": ".py",
   "mimetype": "text/x-python",
   "name": "python",
   "nbconvert_exporter": "python",
   "pygments_lexer": "ipython3",
   "version": "3.8.8"
  }
 },
 "nbformat": 4,
 "nbformat_minor": 5
}
