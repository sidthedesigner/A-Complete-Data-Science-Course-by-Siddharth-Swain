{
 "cells": [
  {
   "cell_type": "markdown",
   "id": "4ae317b7",
   "metadata": {},
   "source": [
    "# 1. Syntax\n",
    "\n",
    "Python syntax can be executed by writing directly in the command line."
   ]
  },
  {
   "cell_type": "code",
   "execution_count": 2,
   "id": "431dc3bf",
   "metadata": {},
   "outputs": [
    {
     "name": "stdout",
     "output_type": "stream",
     "text": [
      "Hello, World!\n"
     ]
    }
   ],
   "source": [
    "print(\"Hello, World!\")"
   ]
  },
  {
   "cell_type": "markdown",
   "id": "fc802652",
   "metadata": {},
   "source": [
    "Or by creating a python file on the server, using the .py file extension, and running it in the Command Line:\n",
    "\n",
    "C:\\Users\\Your Name>python myfile.py"
   ]
  },
  {
   "cell_type": "markdown",
   "id": "b1648f80",
   "metadata": {},
   "source": [
    "# 2. Indentation\n",
    "\n",
    "Indentation refers to the spaces at the beginning of a code line. Where in other programming languages, the indentation in code is for readability only, the indentation in Python is very important. Python uses indentation to show a block of code."
   ]
  },
  {
   "cell_type": "code",
   "execution_count": 3,
   "id": "0db22340",
   "metadata": {},
   "outputs": [
    {
     "name": "stdout",
     "output_type": "stream",
     "text": [
      "Five is greater than two!\n"
     ]
    }
   ],
   "source": [
    "if 5 > 2:\n",
    "  print(\"Five is greater than two!\")"
   ]
  },
  {
   "cell_type": "code",
   "execution_count": 4,
   "id": "40d3304d",
   "metadata": {},
   "outputs": [
    {
     "ename": "IndentationError",
     "evalue": "expected an indented block (3156362470.py, line 4)",
     "output_type": "error",
     "traceback": [
      "\u001b[1;36m  File \u001b[1;32m\"C:\\Users\\siddharth\\AppData\\Local\\Temp\\ipykernel_15288\\3156362470.py\"\u001b[1;36m, line \u001b[1;32m4\u001b[0m\n\u001b[1;33m    print(\"Five is greater than two!\")\u001b[0m\n\u001b[1;37m    ^\u001b[0m\n\u001b[1;31mIndentationError\u001b[0m\u001b[1;31m:\u001b[0m expected an indented block\n"
     ]
    }
   ],
   "source": [
    "# Python gives you an error if you skip the indentation.\n",
    "\n",
    "if 5 > 2:\n",
    "print(\"Five is greater than two!\")"
   ]
  },
  {
   "cell_type": "code",
   "execution_count": 5,
   "id": "dd941072",
   "metadata": {},
   "outputs": [
    {
     "name": "stdout",
     "output_type": "stream",
     "text": [
      "Five is greater than two!\n",
      "Six is greater than two!\n"
     ]
    }
   ],
   "source": [
    "# The number of spaces is up to you as a programmer, but it has to be at least one.\n",
    "\n",
    "if 5 > 2:\n",
    " print(\"Five is greater than two!\") \n",
    "if 6 > 2:\n",
    "        print(\"Six is greater than two!\") "
   ]
  },
  {
   "cell_type": "code",
   "execution_count": 6,
   "id": "c4ece046",
   "metadata": {},
   "outputs": [
    {
     "ename": "IndentationError",
     "evalue": "unexpected indent (2833499869.py, line 5)",
     "output_type": "error",
     "traceback": [
      "\u001b[1;36m  File \u001b[1;32m\"C:\\Users\\siddharth\\AppData\\Local\\Temp\\ipykernel_15288\\2833499869.py\"\u001b[1;36m, line \u001b[1;32m5\u001b[0m\n\u001b[1;33m    print(\"Five is greater than two!\")\u001b[0m\n\u001b[1;37m    ^\u001b[0m\n\u001b[1;31mIndentationError\u001b[0m\u001b[1;31m:\u001b[0m unexpected indent\n"
     ]
    }
   ],
   "source": [
    "# The same number of spaces has to be used in the same block of code, otherwise Python gives you an error.\n",
    "\n",
    "if 5 > 2:\n",
    "    print(\"Five is greater than two!\")\n",
    "     print(\"Five is greater than two!\")"
   ]
  },
  {
   "cell_type": "code",
   "execution_count": 7,
   "id": "07c3767b",
   "metadata": {},
   "outputs": [
    {
     "name": "stdout",
     "output_type": "stream",
     "text": [
      "Five is greater than two!\n",
      "Six is greater than two!\n"
     ]
    }
   ],
   "source": [
    "# No error.\n",
    "\n",
    "if 5 > 2:\n",
    "    print(\"Five is greater than two!\")\n",
    "    print(\"Six is greater than two!\")"
   ]
  },
  {
   "cell_type": "markdown",
   "id": "cbce1da0",
   "metadata": {},
   "source": [
    "# 3. Variables\n",
    "\n",
    "In Python, variables are created when you assign a value to it."
   ]
  },
  {
   "cell_type": "code",
   "execution_count": 8,
   "id": "7bad6925",
   "metadata": {},
   "outputs": [],
   "source": [
    "# Creating Variables.\n",
    "\n",
    "x = 5\n",
    "y = \"Hello, World!\""
   ]
  },
  {
   "cell_type": "markdown",
   "id": "d8456504",
   "metadata": {},
   "source": [
    "Python has no command to declare a variable.\n",
    "\n",
    "# 4. Comments\n",
    "\n",
    "Python has commenting capability for in-code documentation. Comments start with a #, and Python will render the rest of the line as a comment."
   ]
  },
  {
   "cell_type": "code",
   "execution_count": 9,
   "id": "9ae283b4",
   "metadata": {},
   "outputs": [
    {
     "name": "stdout",
     "output_type": "stream",
     "text": [
      "Hello, World!\n"
     ]
    }
   ],
   "source": [
    "# Comments in Python.\n",
    "\n",
    "# This is a comment.\n",
    "\n",
    "print(\"Hello, World!\")"
   ]
  },
  {
   "cell_type": "markdown",
   "id": "45d45a59",
   "metadata": {},
   "source": [
    "# 5. Built-in Functions\n",
    "\n",
    "Python has several functions that are readily available for use. These functions are called built-in functions."
   ]
  },
  {
   "cell_type": "markdown",
   "id": "1a0ee689",
   "metadata": {},
   "source": [
    "## 5.1 Help Function\n",
    "\n",
    "The Python help function is used to display the documentation of modules, functions, classes, keywords, etc. \n",
    "\n",
    "The help function has the following syntax: help([object])"
   ]
  },
  {
   "cell_type": "code",
   "execution_count": 10,
   "id": "a4faf7a6",
   "metadata": {},
   "outputs": [
    {
     "name": "stdout",
     "output_type": "stream",
     "text": [
      "Help on built-in function print in module builtins:\n",
      "\n",
      "print(...)\n",
      "    print(value, ..., sep=' ', end='\\n', file=sys.stdout, flush=False)\n",
      "    \n",
      "    Prints the values to a stream, or to sys.stdout by default.\n",
      "    Optional keyword arguments:\n",
      "    file:  a file-like object (stream); defaults to the current sys.stdout.\n",
      "    sep:   string inserted between values, default a space.\n",
      "    end:   string appended after the last value, default a newline.\n",
      "    flush: whether to forcibly flush the stream.\n",
      "\n"
     ]
    }
   ],
   "source": [
    "# Displays the documentation of the predefined print function in Python.\n",
    "\n",
    "help(print)"
   ]
  },
  {
   "cell_type": "markdown",
   "id": "7b32b3c4",
   "metadata": {},
   "source": [
    "## 5.2 Print Function\n",
    "\n",
    "The print() function prints the specified message to the screen, or other standard output device. The message can be a string, or any other object, the object will be converted into a string before written to the screen.\n",
    "\n",
    "**Syntax :** print(object(s), sep=separator, end=end, file=file, flush=flush)"
   ]
  },
  {
   "cell_type": "code",
   "execution_count": 11,
   "id": "c8fa620a",
   "metadata": {},
   "outputs": [
    {
     "name": "stdout",
     "output_type": "stream",
     "text": [
      "Help on built-in function print in module builtins:\n",
      "\n",
      "print(...)\n",
      "    print(value, ..., sep=' ', end='\\n', file=sys.stdout, flush=False)\n",
      "    \n",
      "    Prints the values to a stream, or to sys.stdout by default.\n",
      "    Optional keyword arguments:\n",
      "    file:  a file-like object (stream); defaults to the current sys.stdout.\n",
      "    sep:   string inserted between values, default a space.\n",
      "    end:   string appended after the last value, default a newline.\n",
      "    flush: whether to forcibly flush the stream.\n",
      "\n"
     ]
    }
   ],
   "source": [
    "help(print)"
   ]
  },
  {
   "cell_type": "code",
   "execution_count": 12,
   "id": "4b100b96",
   "metadata": {},
   "outputs": [
    {
     "name": "stdout",
     "output_type": "stream",
     "text": [
      "Hello World\n"
     ]
    }
   ],
   "source": [
    "# No error.\n",
    "\n",
    "print(\"Hello World\")"
   ]
  },
  {
   "cell_type": "code",
   "execution_count": 13,
   "id": "646e2279",
   "metadata": {},
   "outputs": [
    {
     "ename": "SyntaxError",
     "evalue": "EOL while scanning string literal (114264252.py, line 3)",
     "output_type": "error",
     "traceback": [
      "\u001b[1;36m  File \u001b[1;32m\"C:\\Users\\siddharth\\AppData\\Local\\Temp\\ipykernel_15288\\114264252.py\"\u001b[1;36m, line \u001b[1;32m3\u001b[0m\n\u001b[1;33m    print(\"Hello World)\u001b[0m\n\u001b[1;37m                       ^\u001b[0m\n\u001b[1;31mSyntaxError\u001b[0m\u001b[1;31m:\u001b[0m EOL while scanning string literal\n"
     ]
    }
   ],
   "source": [
    "# Closing \" is missing. Hence, Python gives you an error.\n",
    "\n",
    "print(\"Hello World)"
   ]
  },
  {
   "cell_type": "code",
   "execution_count": 14,
   "id": "1a239bfd",
   "metadata": {},
   "outputs": [
    {
     "name": "stdout",
     "output_type": "stream",
     "text": [
      "Hello World\n"
     ]
    }
   ],
   "source": [
    "# No error.\n",
    "\n",
    "print('Hello World')"
   ]
  },
  {
   "cell_type": "code",
   "execution_count": 15,
   "id": "830132f0",
   "metadata": {},
   "outputs": [
    {
     "ename": "SyntaxError",
     "evalue": "Missing parentheses in call to 'print'. Did you mean print(\"This is my first program\")? (2298930810.py, line 3)",
     "output_type": "error",
     "traceback": [
      "\u001b[1;36m  File \u001b[1;32m\"C:\\Users\\siddharth\\AppData\\Local\\Temp\\ipykernel_15288\\2298930810.py\"\u001b[1;36m, line \u001b[1;32m3\u001b[0m\n\u001b[1;33m    print \"This is my first program\"\u001b[0m\n\u001b[1;37m          ^\u001b[0m\n\u001b[1;31mSyntaxError\u001b[0m\u001b[1;31m:\u001b[0m Missing parentheses in call to 'print'. Did you mean print(\"This is my first program\")?\n"
     ]
    }
   ],
   "source": [
    "# This code is valid in Python 2.x, however, it will not work in Python 3.x version.\n",
    "\n",
    "print \"This is my first program\""
   ]
  },
  {
   "cell_type": "code",
   "execution_count": 16,
   "id": "eaac6168",
   "metadata": {},
   "outputs": [
    {
     "name": "stdout",
     "output_type": "stream",
     "text": [
      "Hello how are you?\n"
     ]
    }
   ],
   "source": [
    "# Print more than one object.\n",
    "\n",
    "print(\"Hello\", \"how are you?\")"
   ]
  },
  {
   "cell_type": "code",
   "execution_count": 17,
   "id": "32bab68e",
   "metadata": {},
   "outputs": [
    {
     "name": "stdout",
     "output_type": "stream",
     "text": [
      "('apple', 'banana', 'cherry')\n"
     ]
    }
   ],
   "source": [
    "# Print a tuple.\n",
    "\n",
    "x = (\"apple\", \"banana\", \"cherry\")\n",
    "print(x)"
   ]
  },
  {
   "cell_type": "code",
   "execution_count": 18,
   "id": "dfae17f8",
   "metadata": {},
   "outputs": [
    {
     "name": "stdout",
     "output_type": "stream",
     "text": [
      "Hello---how are you?\n"
     ]
    }
   ],
   "source": [
    "# Print two messages, and specify the separator.\n",
    "\n",
    "print(\"Hello\", \"how are you?\", sep=\"---\")"
   ]
  },
  {
   "cell_type": "code",
   "execution_count": 19,
   "id": "e39cc80d",
   "metadata": {
    "scrolled": true
   },
   "outputs": [
    {
     "name": "stdout",
     "output_type": "stream",
     "text": [
      "Welcome\n",
      "to\n",
      "India!\n"
     ]
    }
   ],
   "source": [
    "print('Welcome')\n",
    "print('to')\n",
    "print('India!')"
   ]
  },
  {
   "cell_type": "markdown",
   "id": "8ec55140",
   "metadata": {},
   "source": [
    "# 6. Checking GPU Version\n",
    "\n",
    "The NVIDIA System Management Interface (nvidia-smi) is a command line utility, based on top of the NVIDIA Management Library (NVML), intended to aid in the management and monitoring of NVIDIA GPU devices.\n",
    "\n",
    "This utility allows administrators to query GPU device state and, with the appropriate privileges, permits administrators to change GPU device state. They targeted it at the TeslaTM, GRIDTM, QuadroTM and Titan X products, though limited support is also available on other NVIDIA GPUs."
   ]
  },
  {
   "cell_type": "code",
   "execution_count": 20,
   "id": "aaf2c0e8",
   "metadata": {},
   "outputs": [
    {
     "name": "stdout",
     "output_type": "stream",
     "text": [
      "Thu Oct 27 11:20:29 2022       \n",
      "+-----------------------------------------------------------------------------+\n",
      "| NVIDIA-SMI 522.25       Driver Version: 522.25       CUDA Version: 11.8     |\n",
      "|-------------------------------+----------------------+----------------------+\n",
      "| GPU  Name            TCC/WDDM | Bus-Id        Disp.A | Volatile Uncorr. ECC |\n",
      "| Fan  Temp  Perf  Pwr:Usage/Cap|         Memory-Usage | GPU-Util  Compute M. |\n",
      "|                               |                      |               MIG M. |\n",
      "|===============================+======================+======================|\n",
      "|   0  NVIDIA GeForce ... WDDM  | 00000000:0A:00.0  On |                  N/A |\n",
      "|  0%   51C    P8    34W / 250W |    646MiB /  8192MiB |      3%      Default |\n",
      "|                               |                      |                  N/A |\n",
      "+-------------------------------+----------------------+----------------------+\n",
      "                                                                               \n",
      "+-----------------------------------------------------------------------------+\n",
      "| Processes:                                                                  |\n",
      "|  GPU   GI   CI        PID   Type   Process name                  GPU Memory |\n",
      "|        ID   ID                                                   Usage      |\n",
      "|=============================================================================|\n",
      "|    0   N/A  N/A      1572    C+G   ...me\\Application\\chrome.exe    N/A      |\n",
      "|    0   N/A  N/A      1640    C+G   ...bbwe\\Microsoft.Photos.exe    N/A      |\n",
      "|    0   N/A  N/A      3160    C+G   ...e\\PhoneExperienceHost.exe    N/A      |\n",
      "|    0   N/A  N/A      3756    C+G   ...lPanel\\SystemSettings.exe    N/A      |\n",
      "|    0   N/A  N/A      6632    C+G   C:\\Windows\\explorer.exe         N/A      |\n",
      "|    0   N/A  N/A      8344    C+G   ...ram Files\\LGHUB\\lghub.exe    N/A      |\n",
      "|    0   N/A  N/A      8680    C+G   ...artMenuExperienceHost.exe    N/A      |\n",
      "|    0   N/A  N/A      9424    C+G   ...5n1h2txyewy\\SearchApp.exe    N/A      |\n",
      "|    0   N/A  N/A     10756    C+G   ...2txyewy\\TextInputHost.exe    N/A      |\n",
      "|    0   N/A  N/A     12840    C+G   ...y\\ShellExperienceHost.exe    N/A      |\n",
      "|    0   N/A  N/A     13676    C+G   ...5n1h2txyewy\\SearchApp.exe    N/A      |\n",
      "+-----------------------------------------------------------------------------+\n"
     ]
    }
   ],
   "source": [
    "!nvidia-smi"
   ]
  },
  {
   "cell_type": "markdown",
   "id": "31234b71",
   "metadata": {},
   "source": [
    "# 7. Present Working Directory\n",
    "\n",
    "The pwd command shows you the present working directory."
   ]
  },
  {
   "cell_type": "code",
   "execution_count": 21,
   "id": "944e1064",
   "metadata": {},
   "outputs": [
    {
     "data": {
      "text/plain": [
       "'D:\\\\Sonu\\\\1001'"
      ]
     },
     "execution_count": 21,
     "metadata": {},
     "output_type": "execute_result"
    }
   ],
   "source": [
    "pwd"
   ]
  },
  {
   "cell_type": "markdown",
   "id": "8f120e00",
   "metadata": {},
   "source": [
    "# 8. Ls Command\n",
    "\n",
    "The ls command lets you see the content of your current working directory."
   ]
  },
  {
   "cell_type": "code",
   "execution_count": 22,
   "id": "d4cc57d2",
   "metadata": {},
   "outputs": [
    {
     "name": "stdout",
     "output_type": "stream",
     "text": [
      " Volume in drive D has no label.\n",
      " Volume Serial Number is 4235-14E8\n",
      "\n",
      " Directory of D:\\Sonu\\1001\n",
      "\n",
      "27-10-2022  11:20    <DIR>          .\n",
      "27-10-2022  11:20    <DIR>          ..\n",
      "27-10-2022  09:24    <DIR>          .ipynb_checkpoints\n",
      "25-10-2022  10:19        20,173,710 001_Introduction.ipynb\n",
      "27-10-2022  08:37        10,756,704 002_Getting Started.ipynb\n",
      "27-10-2022  11:20            19,523 003_Syntax.ipynb\n",
      "27-10-2022  11:16             6,685 004_Comments.ipynb\n",
      "27-10-2022  09:24            15,333 005_Variables.ipynb\n",
      "27-10-2022  09:24           355,054 006_Data Types.ipynb\n",
      "02-08-2022  03:59             9,709 007_Numbers.ipynb\n",
      "02-08-2022  03:59             8,892 008_Type Conversion _ Type Casting.ipynb\n",
      "02-08-2022  04:08            12,284 009_Booleans.ipynb\n",
      "02-08-2022  04:08           208,273 010_Operators.ipynb\n",
      "02-08-2022  04:11             5,107 011_User Input.ipynb\n",
      "02-08-2022  04:11            19,585 012_If Else.ipynb\n",
      "02-08-2022  04:19             8,648 013_While Loops.ipynb\n",
      "02-08-2022  04:19             9,415 014_For Loops.ipynb\n",
      "02-08-2022  07:03           282,469 015_Strings.ipynb\n",
      "02-08-2022  07:03           236,202 016_Lists.ipynb\n",
      "02-08-2022  07:44            75,887 017_Tuples.ipynb\n",
      "02-08-2022  07:44           133,582 018_Sets.ipynb\n",
      "02-08-2022  12:07           139,497 019_Dictionaries.ipynb\n",
      "02-08-2022  12:07           634,364 020_Functions.ipynb\n",
      "02-08-2022  13:28           325,052 021_File Handling.ipynb\n",
      "02-08-2022  13:28         2,042,826 022_Logging _ Debugging.ipynb\n",
      "02-08-2022  14:01           216,782 023_Modules.ipynb\n",
      "02-08-2022  14:01           145,734 024_Error Handling.ipynb\n",
      "02-08-2022  21:17            20,919 025_OOPS (Part 1).ipynb\n",
      "02-08-2022  21:17           208,851 026_OOPS (Part 2).ipynb\n",
      "02-08-2022  21:17           377,709 027_OOPS (Part 3).ipynb\n",
      "03-08-2022  07:30         2,469,209 028_MySQL.ipynb\n",
      "04-08-2022  11:45         2,355,775 029_MongoDB _ Cassandra.ipynb\n",
      "06-08-2022  13:25         4,114,733 030_API, Flask, _ Django.ipynb\n",
      "06-08-2022  17:16         3,625,343 031_Pandas.ipynb\n",
      "07-08-2022  03:33           190,356 032_Pandas Exercises (Getting _ Knowing Your Data).ipynb\n",
      "07-08-2022  03:33           337,027 033_Pandas Exercises (Filtering and Sorting Data).ipynb\n",
      "10-08-2022  07:32           548,611 043_Numpy.ipynb\n",
      "10-08-2022  20:52        11,972,279 044_Data Visualization.ipynb\n",
      "10-08-2022  13:09        23,498,497 045_Exploratory Data Analysis (Part 1).ipynb\n",
      "10-08-2022  13:09         9,001,414 046_Exploratory Data Analysis (Part 2).ipynb\n",
      "10-08-2022  12:52        10,342,674 047_Machine Learning.ipynb\n",
      "28-09-2022  09:33        13,063,386 048_Linear Regression.ipynb\n",
      "23-08-2022  05:53               576 049_Logistic Regression.ipynb\n",
      "              40 File(s)    117,968,676 bytes\n",
      "               3 Dir(s)  998,816,354,304 bytes free\n"
     ]
    }
   ],
   "source": [
    "ls"
   ]
  }
 ],
 "metadata": {
  "kernelspec": {
   "display_name": "Python 3 (ipykernel)",
   "language": "python",
   "name": "python3"
  },
  "language_info": {
   "codemirror_mode": {
    "name": "ipython",
    "version": 3
   },
   "file_extension": ".py",
   "mimetype": "text/x-python",
   "name": "python",
   "nbconvert_exporter": "python",
   "pygments_lexer": "ipython3",
   "version": "3.9.13"
  }
 },
 "nbformat": 4,
 "nbformat_minor": 5
}
