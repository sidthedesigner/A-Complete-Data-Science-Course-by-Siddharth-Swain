{
 "cells": [
  {
   "cell_type": "markdown",
   "id": "a1ba38a2",
   "metadata": {},
   "source": [
    "# 1. Type Conversion\n",
    "\n",
    "The process of converting the value of one data type (integer, string, float, etc.) to another data type is called type conversion. Python has two types of type conversion.\n",
    "\n",
    "- Implicit Type Conversion\n",
    "- Explicit Type Conversion"
   ]
  },
  {
   "cell_type": "markdown",
   "id": "8759951a",
   "metadata": {},
   "source": [
    "# 2. Implicit Type Conversion\n",
    "\n",
    "In Implicit type conversion, Python automatically converts one data type to another data type. This process doesn't need any user involvement. This type of conversion or type casting is called **upcasting.** \n",
    "\n",
    "Let's see an example where Python promotes the conversion of the lower data type (integer) to the higher data type (float) to avoid data loss.\n",
    "\n",
    "**Example 1: Converting Integer to Float**"
   ]
  },
  {
   "cell_type": "code",
   "execution_count": 1,
   "id": "2e1b0829",
   "metadata": {},
   "outputs": [
    {
     "name": "stdout",
     "output_type": "stream",
     "text": [
      "datatype of num_int: <class 'int'>\n",
      "datatype of num_flo: <class 'float'>\n",
      "Value of num_new: 124.23\n",
      "datatype of num_new: <class 'float'>\n"
     ]
    }
   ],
   "source": [
    "num_int = 123\n",
    "num_flo = 1.23\n",
    "\n",
    "num_new = num_int + num_flo\n",
    "\n",
    "print(\"datatype of num_int:\",type(num_int))\n",
    "print(\"datatype of num_flo:\",type(num_flo))\n",
    "\n",
    "print(\"Value of num_new:\",num_new)\n",
    "print(\"datatype of num_new:\",type(num_new))"
   ]
  },
  {
   "cell_type": "markdown",
   "id": "0dec888c",
   "metadata": {},
   "source": [
    "In the above program,\n",
    "\n",
    "- We add two variables num_int and num_flo, storing the value in num_new.\n",
    "\n",
    "- We will look at the data type of all three objects, respectively.\n",
    "\n",
    "- In the output, we can see the data type of num_int is an integer, while the data type of num_flo is a float.\n",
    "\n",
    "- Also, we can see the num_new has a float data type because Python always converts smaller data types to larger data types to avoid the loss of data.\n",
    "\n",
    "Now, let’s try adding a string and an integer, and see how Python deals with it.\n",
    "\n",
    "**Example 2: Addition of String (Higher) Data Type and Integer (Lower) Datatype**"
   ]
  },
  {
   "cell_type": "code",
   "execution_count": 2,
   "id": "e73f597f",
   "metadata": {},
   "outputs": [
    {
     "name": "stdout",
     "output_type": "stream",
     "text": [
      "Data type of num_int: <class 'int'>\n",
      "Data type of num_str: <class 'str'>\n"
     ]
    },
    {
     "ename": "TypeError",
     "evalue": "unsupported operand type(s) for +: 'int' and 'str'",
     "output_type": "error",
     "traceback": [
      "\u001b[1;31m---------------------------------------------------------------------------\u001b[0m",
      "\u001b[1;31mTypeError\u001b[0m                                 Traceback (most recent call last)",
      "\u001b[1;32m<ipython-input-2-6e3c0f0ba491>\u001b[0m in \u001b[0;36m<module>\u001b[1;34m\u001b[0m\n\u001b[0;32m      5\u001b[0m \u001b[0mprint\u001b[0m\u001b[1;33m(\u001b[0m\u001b[1;34m\"Data type of num_str:\"\u001b[0m\u001b[1;33m,\u001b[0m\u001b[0mtype\u001b[0m\u001b[1;33m(\u001b[0m\u001b[0mnum_str\u001b[0m\u001b[1;33m)\u001b[0m\u001b[1;33m)\u001b[0m\u001b[1;33m\u001b[0m\u001b[1;33m\u001b[0m\u001b[0m\n\u001b[0;32m      6\u001b[0m \u001b[1;33m\u001b[0m\u001b[0m\n\u001b[1;32m----> 7\u001b[1;33m \u001b[0mprint\u001b[0m\u001b[1;33m(\u001b[0m\u001b[0mnum_int\u001b[0m\u001b[1;33m+\u001b[0m\u001b[0mnum_str\u001b[0m\u001b[1;33m)\u001b[0m\u001b[1;33m\u001b[0m\u001b[1;33m\u001b[0m\u001b[0m\n\u001b[0m",
      "\u001b[1;31mTypeError\u001b[0m: unsupported operand type(s) for +: 'int' and 'str'"
     ]
    }
   ],
   "source": [
    "num_int = 123\n",
    "num_str = \"456\"\n",
    "\n",
    "print(\"Data type of num_int:\",type(num_int))\n",
    "print(\"Data type of num_str:\",type(num_str))\n",
    "\n",
    "print(num_int+num_str)"
   ]
  },
  {
   "cell_type": "markdown",
   "id": "c9808fd1",
   "metadata": {},
   "source": [
    "In the above program,\n",
    "\n",
    "- We add two variables num_int and num_str.\n",
    "\n",
    "- As we can see from the output, we got a TypeError. Python cannot use Implicit Conversion in such conditions.\n",
    "\n",
    "- However, Python has a solution for these types of situations, which is known as Explicit Conversion."
   ]
  },
  {
   "cell_type": "markdown",
   "id": "6a522988",
   "metadata": {},
   "source": [
    "# 3. Explicit Type Conversion\n",
    "\n",
    "In Explicit Type Conversion, users convert the data type of an object to the required data type. We use the predefined functions like int(), float(), str(), etc to perform explicit type conversion.\n",
    "\n",
    "This type of conversion is also called **typecasting** because the user casts (changes) the data type of the objects. We can do typecasting by assigning the required data type function to the expression.\n",
    "\n",
    "**Example 3: Addition of String and Integer Using Explicit Conversion**"
   ]
  },
  {
   "cell_type": "code",
   "execution_count": 3,
   "id": "e28bfc30",
   "metadata": {},
   "outputs": [
    {
     "name": "stdout",
     "output_type": "stream",
     "text": [
      "Data type of num_int: <class 'int'>\n",
      "Data type of num_str before Type Casting: <class 'str'>\n",
      "Data type of num_str after Type Casting: <class 'int'>\n",
      "Sum of num_int and num_str: 579\n",
      "Data type of the sum: <class 'int'>\n"
     ]
    }
   ],
   "source": [
    "num_int = 123\n",
    "num_str = \"456\"\n",
    "\n",
    "print(\"Data type of num_int:\",type(num_int))\n",
    "print(\"Data type of num_str before Type Casting:\",type(num_str))\n",
    "\n",
    "num_str = int(num_str)\n",
    "print(\"Data type of num_str after Type Casting:\",type(num_str))\n",
    "\n",
    "num_sum = num_int + num_str\n",
    "\n",
    "print(\"Sum of num_int and num_str:\",num_sum)\n",
    "print(\"Data type of the sum:\",type(num_sum))"
   ]
  },
  {
   "cell_type": "markdown",
   "id": "144689f8",
   "metadata": {},
   "source": [
    "In the above program,\n",
    "\n",
    "- We add num_str and num_int variable.\n",
    "- We converted num_str from string(higher) to integer(lower) type using int() function to perform the addition.\n",
    "- After converting num_str to an integer value, Python is able to add these two variables.\n",
    "- We got the num_sum value and data type to be an integer."
   ]
  },
  {
   "cell_type": "markdown",
   "id": "34d6faf7",
   "metadata": {},
   "source": [
    "## Practice"
   ]
  },
  {
   "cell_type": "code",
   "execution_count": 1,
   "id": "0650c663",
   "metadata": {},
   "outputs": [],
   "source": [
    "# Integers.\n",
    "\n",
    "x = int(1)       # x will be 1\n",
    "y = int(2.8)     # y will be 2\n",
    "z = int(\"3\")     # z will be 3"
   ]
  },
  {
   "cell_type": "code",
   "execution_count": 2,
   "id": "bd46d9a6",
   "metadata": {},
   "outputs": [],
   "source": [
    "# Floats.\n",
    "\n",
    "x = float(1)     # x will be 1.0\n",
    "y = float(2.8)   # y will be 2.8\n",
    "z = float(\"3\")   # z will be 3.0\n",
    "w = float(\"4.2\") # w will be 4.2"
   ]
  },
  {
   "cell_type": "code",
   "execution_count": 3,
   "id": "f9793d0a",
   "metadata": {},
   "outputs": [],
   "source": [
    "# Strings.\n",
    "\n",
    "x = str(\"s1\")    # x will be 's1'\n",
    "y = str(2)       # y will be '2'\n",
    "z = str(3.0)     # z will be '3.0'"
   ]
  },
  {
   "cell_type": "markdown",
   "id": "b56def4c",
   "metadata": {},
   "source": [
    "# 4. Key Points\n",
    "\n",
    "- Type Conversion is the conversion of object from one data type to another data type.\n",
    "\n",
    "- Implicit Type Conversion is automatically performed by the Python interpreter.\n",
    "\n",
    "- Python avoids the loss of data in Implicit Type Conversion.\n",
    "\n",
    "- Explicit Type Conversion is also called Type Casting, the data types of objects are converted using predefined functions by the user.\n",
    "\n",
    "- In Type Casting, loss of data may occur as we enforce the object to a specific data type."
   ]
  }
 ],
 "metadata": {
  "kernelspec": {
   "display_name": "Python 3 (ipykernel)",
   "language": "python",
   "name": "python3"
  },
  "language_info": {
   "codemirror_mode": {
    "name": "ipython",
    "version": 3
   },
   "file_extension": ".py",
   "mimetype": "text/x-python",
   "name": "python",
   "nbconvert_exporter": "python",
   "pygments_lexer": "ipython3",
   "version": "3.9.13"
  }
 },
 "nbformat": 4,
 "nbformat_minor": 5
}
