{
 "cells": [
  {
   "cell_type": "markdown",
   "id": "956b0000",
   "metadata": {},
   "source": [
    "## Specify a Variable Type\n",
    "\n",
    "There may be times when you want to specify a type on to a variable. This can be done with casting. Python is an object-orientated language, and as such it uses classes to define data types, including its primitive types.\n",
    "\n",
    "**Casting in python is therefore done using constructor functions.**\n",
    "\n",
    "int() - constructs an integer number from an integer literal, a float literal (by removing all decimals), or a string literal (providing the string represents a whole number).\n",
    "\n",
    "float() - constructs a float number from an integer literal, a float literal or a string literal (providing the string represents a float or an integer).\n",
    "\n",
    "str() - constructs a string from a wide variety of data types, including strings, integer literals and float literals."
   ]
  },
  {
   "cell_type": "code",
   "execution_count": 1,
   "id": "0650c663",
   "metadata": {},
   "outputs": [],
   "source": [
    "# Integers.\n",
    "\n",
    "x = int(1)   # x will be 1\n",
    "y = int(2.8) # y will be 2\n",
    "z = int(\"3\") # z will be 3"
   ]
  },
  {
   "cell_type": "code",
   "execution_count": 2,
   "id": "bd46d9a6",
   "metadata": {},
   "outputs": [],
   "source": [
    "# Floats.\n",
    "\n",
    "x = float(1)     # x will be 1.0\n",
    "y = float(2.8)   # y will be 2.8\n",
    "z = float(\"3\")   # z will be 3.0\n",
    "w = float(\"4.2\") # w will be 4.2"
   ]
  },
  {
   "cell_type": "code",
   "execution_count": 3,
   "id": "f9793d0a",
   "metadata": {},
   "outputs": [],
   "source": [
    "# Strings.\n",
    "\n",
    "x = str(\"s1\") # x will be 's1'\n",
    "y = str(2)    # y will be '2'\n",
    "z = str(3.0)  # z will be '3.0'"
   ]
  },
  {
   "cell_type": "markdown",
   "id": "8903f2c9",
   "metadata": {},
   "source": [
    "## Upcasting\n",
    "\n",
    "Implicit type conversion is performed automatically by the interpreter, without user intervention. \n",
    "\n",
    "Python automatically converts one data type to another data type. \n",
    "\n",
    "This process doesn’t need any user involvement. Python promotes the conversion of lower data type, for example, integer to higher data type says float to avoid data loss. \n",
    "\n",
    "**This type of conversion or type casting is called UpCasting.**"
   ]
  },
  {
   "cell_type": "code",
   "execution_count": 4,
   "id": "3a668fdf",
   "metadata": {},
   "outputs": [
    {
     "data": {
      "text/plain": [
       "3.34567"
      ]
     },
     "execution_count": 4,
     "metadata": {},
     "output_type": "execute_result"
    }
   ],
   "source": [
    "1 + 2.34567"
   ]
  }
 ],
 "metadata": {
  "kernelspec": {
   "display_name": "Python 3 (ipykernel)",
   "language": "python",
   "name": "python3"
  },
  "language_info": {
   "codemirror_mode": {
    "name": "ipython",
    "version": 3
   },
   "file_extension": ".py",
   "mimetype": "text/x-python",
   "name": "python",
   "nbconvert_exporter": "python",
   "pygments_lexer": "ipython3",
   "version": "3.9.7"
  }
 },
 "nbformat": 4,
 "nbformat_minor": 5
}
