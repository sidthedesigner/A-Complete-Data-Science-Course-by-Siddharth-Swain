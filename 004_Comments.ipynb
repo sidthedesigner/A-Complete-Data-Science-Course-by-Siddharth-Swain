{
 "cells": [
  {
   "cell_type": "markdown",
   "id": "7ee96eb7",
   "metadata": {},
   "source": [
    "# 1. Comments\n",
    "\n",
    "Comments in Python are the lines in the code that are ignored by the compiler during the execution of the program. Comments enhance the readability of the code and help the programmers to understand the code very carefully.\n",
    "\n",
    "There are three types of comments in Python:\n",
    "\n",
    "- **Single line Comments**\n",
    "- **Multiline Comments**\n",
    "- **Docstring Comments**\n",
    "\n",
    "# 2. Examples"
   ]
  },
  {
   "cell_type": "code",
   "execution_count": 1,
   "id": "cbb70be7",
   "metadata": {},
   "outputs": [
    {
     "name": "stdout",
     "output_type": "stream",
     "text": [
      "geeksforgeeks\n"
     ]
    }
   ],
   "source": [
    "# Python program to demonstrate comments.\n",
    " \n",
    "# sample comment\n",
    "\n",
    "name = \"geeksforgeeks\"\n",
    "print(name)"
   ]
  },
  {
   "cell_type": "markdown",
   "id": "a8471612",
   "metadata": {},
   "source": [
    "In the above example, it can be seen that comments are ignored by the compiler during the execution of the program.\n",
    "\n",
    "Comments are generally used for the following purposes: \n",
    "\n",
    "- **Code Readability**\n",
    "- **Explanation of the Code or Metadata of the Project**\n",
    "- **Prevent Execution of Code**\n",
    "- **To include Resources**\n",
    "\n",
    "# 3. Types\n",
    "\n",
    "There are three main kinds of comments in Python.\n",
    "\n",
    "## 3.1 Single-Line Comments\n",
    "\n",
    "Python single line comment starts with the hashtag symbol (#) with no white spaces and lasts till the end of the line. If the comment exceeds one line then put a hashtag on the next line and continue the comment. \n",
    "\n",
    "Python’s single-line comments are proved useful for supplying short explanations for variables, function declarations, and expressions. See the following code snippet demonstrating single line comment:"
   ]
  },
  {
   "cell_type": "code",
   "execution_count": 2,
   "id": "a3ae9f68",
   "metadata": {},
   "outputs": [
    {
     "name": "stdout",
     "output_type": "stream",
     "text": [
      "GeeksforGeeks\n"
     ]
    }
   ],
   "source": [
    "# Print “GeeksforGeeks !” to console.\n",
    "\n",
    "print(\"GeeksforGeeks\")"
   ]
  },
  {
   "cell_type": "markdown",
   "id": "29ed0481",
   "metadata": {},
   "source": [
    "## 3.2 Multi-Line Comments\n",
    "\n",
    "Python does not provide the option for multiline comments. However, there are different ways through which we can write multiline comments.\n",
    "\n",
    "### 3.2.1 Using Multiple Hashtags (#)\n",
    "\n",
    "We can multiple hashtags (#) to write multiline comments in Python. Each and every line will be considered as a single line comment."
   ]
  },
  {
   "cell_type": "code",
   "execution_count": 3,
   "id": "b55949b7",
   "metadata": {},
   "outputs": [
    {
     "name": "stdout",
     "output_type": "stream",
     "text": [
      "Multiline comments\n"
     ]
    }
   ],
   "source": [
    "# Multiline comments using multiple hashtags (#).\n",
    "\n",
    "# Python program to demonstrate\n",
    "# multiline comments.\n",
    "\n",
    "print(\"Multiline comments\")"
   ]
  },
  {
   "cell_type": "markdown",
   "id": "3851daa2",
   "metadata": {},
   "source": [
    "### 3.2.2 Using String Literals\n",
    "\n",
    "Python ignores the string literals that are not assigned to a variable so we can use these string literals as a comment. "
   ]
  },
  {
   "cell_type": "code",
   "execution_count": 4,
   "id": "b223ed35",
   "metadata": {},
   "outputs": [
    {
     "data": {
      "text/plain": [
       "'This will be ignored by Python'"
      ]
     },
     "execution_count": 4,
     "metadata": {},
     "output_type": "execute_result"
    }
   ],
   "source": [
    "# Example 1.\n",
    "\n",
    "'This will be ignored by Python'"
   ]
  },
  {
   "cell_type": "markdown",
   "id": "70885486",
   "metadata": {},
   "source": [
    "On executing the above code we can see that there will not be any output so we use the strings with triple quotes(“””) as multiline comments."
   ]
  },
  {
   "cell_type": "code",
   "execution_count": 5,
   "id": "66d437b4",
   "metadata": {},
   "outputs": [
    {
     "name": "stdout",
     "output_type": "stream",
     "text": [
      "Multiline comments\n"
     ]
    }
   ],
   "source": [
    "# Example 2: Multiline comments using string literals.\n",
    "\n",
    "\"\"\" Python program to demonstrate\n",
    " multiline comments\"\"\"\n",
    "\n",
    "print(\"Multiline comments\")"
   ]
  },
  {
   "cell_type": "markdown",
   "id": "3c263c77",
   "metadata": {},
   "source": [
    "## 3.3 Docstring Comments\n",
    "\n",
    "Python docstring is the string literals with triple quotes that are appeared right after the function. It is used to associate documentation that has been written with Python modules, functions, classes, and methods. \n",
    "\n",
    "It is added right below the functions, modules, or classes to describe what they do. In Python, the docstring is then made available via the __doc__ attribute."
   ]
  },
  {
   "cell_type": "code",
   "execution_count": 6,
   "id": "c925e8f1",
   "metadata": {},
   "outputs": [
    {
     "name": "stdout",
     "output_type": "stream",
     "text": [
      "Multiplies the value of a and b\n"
     ]
    }
   ],
   "source": [
    "def multiply(a, b):\n",
    "    \"\"\"Multiplies the value of a and b\"\"\"\n",
    "    return a*b\n",
    " \n",
    "# Print the docstring of multiply function.\n",
    "\n",
    "print(multiply.__doc__)"
   ]
  },
  {
   "cell_type": "markdown",
   "id": "0a418e68",
   "metadata": {},
   "source": [
    "# 4. Writing Better Comments\n",
    "\n",
    "- Use comments to describe what a function does and not the specific details on how the function does it.\n",
    "- Try to remove as many redundant comments as possible. Try writing code that can explain itself, using better function/variable name choice.\n",
    "- Try to make the comments as short and concise as possible."
   ]
  }
 ],
 "metadata": {
  "kernelspec": {
   "display_name": "Python 3 (ipykernel)",
   "language": "python",
   "name": "python3"
  },
  "language_info": {
   "codemirror_mode": {
    "name": "ipython",
    "version": 3
   },
   "file_extension": ".py",
   "mimetype": "text/x-python",
   "name": "python",
   "nbconvert_exporter": "python",
   "pygments_lexer": "ipython3",
   "version": "3.9.13"
  }
 },
 "nbformat": 4,
 "nbformat_minor": 5
}
