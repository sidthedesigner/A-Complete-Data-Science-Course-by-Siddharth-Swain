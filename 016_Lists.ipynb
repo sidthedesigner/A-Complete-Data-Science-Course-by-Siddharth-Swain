{
 "cells": [
  {
   "cell_type": "markdown",
   "id": "8ca5a9b9",
   "metadata": {},
   "source": [
    "# 1. Lists\n",
    "\n",
    "## 1.1 Introduction\n",
    "\n",
    "Lists are used to store multiple items in a single variable. They are one of 4 built-in data types in Python used to store collections of data, the other 3 are Tuple, Set, and Dictionary, all with different qualities and usage. We create them using square brackets.\n",
    "\n",
    "**Syntax:** \n",
    "\n",
    "mylist = [\"apple\", \"banana\", \"cherry\"]"
   ]
  },
  {
   "cell_type": "code",
   "execution_count": 4,
   "id": "20ad28e2",
   "metadata": {},
   "outputs": [
    {
     "name": "stdout",
     "output_type": "stream",
     "text": [
      "['apple', 'banana', 'cherry']\n"
     ]
    }
   ],
   "source": [
    "# Create a List.\n",
    "\n",
    "thislist = [\"apple\", \"banana\", \"cherry\"]\n",
    "\n",
    "print(thislist)"
   ]
  },
  {
   "cell_type": "markdown",
   "id": "2035c229",
   "metadata": {},
   "source": [
    "## 1.2 List Items\n",
    "\n",
    "List items are ordered, changeable, and allow duplicate values.\n",
    "\n",
    "List items are indexed, the first item has index [0], the second item has index [1] etc.\n",
    "\n",
    "## 1.3 Ordered\n",
    "\n",
    "When we say that lists are ordered, it means that the items have a defined order, and that order will not change.\n",
    "\n",
    "If you add new items to a list, the new items will be placed at the end of the list.\n",
    "\n",
    "## 1.4 Changeable\n",
    "\n",
    "The list is changeable, meaning that we can change, add, and remove items in a list after it has been created.\n",
    "\n",
    "## 1.5 Allowing Duplicates\n",
    "\n",
    "Since lists are indexed, lists can have items with the same value."
   ]
  },
  {
   "cell_type": "code",
   "execution_count": 5,
   "id": "ab047cd5",
   "metadata": {},
   "outputs": [
    {
     "name": "stdout",
     "output_type": "stream",
     "text": [
      "['apple', 'banana', 'cherry', 'apple', 'cherry']\n"
     ]
    }
   ],
   "source": [
    "# Lists allow duplicate values.\n",
    "\n",
    "thislist = [\"apple\", \"banana\", \"cherry\", \"apple\", \"cherry\"]\n",
    "\n",
    "print(thislist)"
   ]
  },
  {
   "cell_type": "markdown",
   "id": "b84eb825",
   "metadata": {},
   "source": [
    "## 1.6 List Length\n",
    "\n",
    "To determine how many items a list has, use the len() function."
   ]
  },
  {
   "cell_type": "code",
   "execution_count": 6,
   "id": "a74989ff",
   "metadata": {},
   "outputs": [
    {
     "name": "stdout",
     "output_type": "stream",
     "text": [
      "3\n"
     ]
    }
   ],
   "source": [
    "# Print the number of items in the list.\n",
    "\n",
    "thislist = [\"apple\", \"banana\", \"cherry\"]\n",
    "\n",
    "print(len(thislist))"
   ]
  },
  {
   "cell_type": "markdown",
   "id": "32e2327f",
   "metadata": {},
   "source": [
    "## 1.7 List Items - Data Types\n",
    "\n",
    "List items can be of any data type."
   ]
  },
  {
   "cell_type": "code",
   "execution_count": 7,
   "id": "49db4ab8",
   "metadata": {},
   "outputs": [],
   "source": [
    "# String, int and boolean data types.\n",
    "\n",
    "list1 = [\"apple\", \"banana\", \"cherry\"]\n",
    "\n",
    "list2 = [1, 5, 7, 9, 3]\n",
    "\n",
    "list3 = [True, False, False]"
   ]
  },
  {
   "cell_type": "markdown",
   "id": "b82e8b94",
   "metadata": {},
   "source": [
    "A list can contain different data types."
   ]
  },
  {
   "cell_type": "code",
   "execution_count": 8,
   "id": "d5dcdf1c",
   "metadata": {},
   "outputs": [],
   "source": [
    "# A list with strings, integers and boolean values.\n",
    "\n",
    "list1 = [\"abc\", 34, True, 40, \"male\"]"
   ]
  },
  {
   "cell_type": "markdown",
   "id": "52f9c819",
   "metadata": {},
   "source": [
    "## 1.8 type()\n",
    "\n",
    "From Python's perspective, lists are defined as objects with the data type 'list'."
   ]
  },
  {
   "cell_type": "code",
   "execution_count": 9,
   "id": "647735f4",
   "metadata": {},
   "outputs": [
    {
     "name": "stdout",
     "output_type": "stream",
     "text": [
      "<class 'list'>\n"
     ]
    }
   ],
   "source": [
    "# What is the data type of a list?\n",
    "\n",
    "mylist = [\"apple\", \"banana\", \"cherry\"]\n",
    "\n",
    "print(type(mylist))"
   ]
  },
  {
   "cell_type": "markdown",
   "id": "827db5c4",
   "metadata": {},
   "source": [
    "## 1.9 The list() Constructor\n",
    "\n",
    "It is also possible to use the list() constructor when creating a new list."
   ]
  },
  {
   "cell_type": "code",
   "execution_count": 10,
   "id": "e669d862",
   "metadata": {},
   "outputs": [
    {
     "name": "stdout",
     "output_type": "stream",
     "text": [
      "['apple', 'banana', 'cherry']\n"
     ]
    }
   ],
   "source": [
    "# Using the list() constructor to make a List.\n",
    "\n",
    "thislist = list((\"apple\", \"banana\", \"cherry\")) # Note the double round-brackets.\n",
    "\n",
    "print(thislist)"
   ]
  },
  {
   "cell_type": "markdown",
   "id": "c7e002a2",
   "metadata": {},
   "source": [
    "## 1.10 Python Collections\n",
    "\n",
    "There are four collection data types in the Python programming language:\n",
    "\n",
    "- **List** is a collection which is ordered and changeable. Allows duplicate members.\n",
    "- **Tuple** is a collection which is ordered and unchangeable. Allows duplicate members.\n",
    "- **Set** is a collection which is unordered, unchangeable*, and unindexed. No duplicate members.\n",
    "- **Dictionary** is a collection which is ordered** and changeable. No duplicate members.\n",
    "\n",
    "**Note:**\n",
    "\n",
    "- *Set items are unchangeable, but you can remove and/or add items whenever you like.\n",
    "\n",
    "- **As of Python version 3.7, dictionaries are ordered. In Python 3.6 and earlier, dictionaries are unordered.\n",
    "\n",
    "When choosing a collection type, it is useful to understand the properties of that type. Choosing the right type for a particular data set could mean retention of meaning, and it could mean an increase in efficiency or security."
   ]
  },
  {
   "cell_type": "markdown",
   "id": "3722dfbe",
   "metadata": {},
   "source": [
    "# 2. Accessing List Items"
   ]
  },
  {
   "cell_type": "markdown",
   "id": "2f935405",
   "metadata": {},
   "source": [
    "## 2.1 Accessing Items\n",
    "\n",
    "List items are indexed and you can access them by referring to the index number."
   ]
  },
  {
   "cell_type": "code",
   "execution_count": 12,
   "id": "2edbe30e",
   "metadata": {},
   "outputs": [
    {
     "name": "stdout",
     "output_type": "stream",
     "text": [
      "banana\n"
     ]
    }
   ],
   "source": [
    "# Print the second item of the list.\n",
    "\n",
    "thislist = [\"apple\", \"banana\", \"cherry\"]\n",
    "print(thislist[1])\n",
    "\n",
    "# Note: The first item has index 0."
   ]
  },
  {
   "cell_type": "markdown",
   "id": "7147c7dc",
   "metadata": {},
   "source": [
    "### 2.1.1 Negative Indexing\n",
    "\n",
    "Negative indexing means start from the end.\n",
    "\n",
    "-1 refers to the last item, -2 refers to the second last item, etc."
   ]
  },
  {
   "cell_type": "code",
   "execution_count": 13,
   "id": "fde8cd05",
   "metadata": {},
   "outputs": [
    {
     "name": "stdout",
     "output_type": "stream",
     "text": [
      "cherry\n"
     ]
    }
   ],
   "source": [
    "# Print the last item of the list.\n",
    "\n",
    "thislist = [\"apple\", \"banana\", \"cherry\"]\n",
    "\n",
    "print(thislist[-1])"
   ]
  },
  {
   "cell_type": "markdown",
   "id": "f68e90d3",
   "metadata": {},
   "source": [
    "### 2.1.2 Range of Indexes\n",
    "\n",
    "You can specify a range of indexes by specifying where to start and where to end the range.\n",
    "\n",
    "When specifying a range, the return value will be a new list with the specified items."
   ]
  },
  {
   "cell_type": "code",
   "execution_count": 14,
   "id": "63a316e1",
   "metadata": {
    "scrolled": true
   },
   "outputs": [
    {
     "name": "stdout",
     "output_type": "stream",
     "text": [
      "['cherry', 'orange', 'kiwi']\n"
     ]
    }
   ],
   "source": [
    "# Return the third, fourth, and fifth item.\n",
    "\n",
    "thislist = [\"apple\", \"banana\", \"cherry\", \"orange\", \"kiwi\", \"melon\", \"mango\"]\n",
    "\n",
    "print(thislist[2:5])"
   ]
  },
  {
   "cell_type": "markdown",
   "id": "c4daa590",
   "metadata": {},
   "source": [
    "**Note:** The search will start at index 2 (included) and end at index 5 (not included).\n",
    "\n",
    "Remember that the first item has an index 0.\n",
    "\n",
    "By leaving out the start value, the range will start at the first item:"
   ]
  },
  {
   "cell_type": "code",
   "execution_count": 15,
   "id": "922d8890",
   "metadata": {},
   "outputs": [
    {
     "name": "stdout",
     "output_type": "stream",
     "text": [
      "['apple', 'banana', 'cherry', 'orange']\n"
     ]
    }
   ],
   "source": [
    "# This example returns the items from the beginning to, but NOT including, \"kiwi\".\n",
    "\n",
    "thislist = [\"apple\", \"banana\", \"cherry\", \"orange\", \"kiwi\", \"melon\", \"mango\"]\n",
    "\n",
    "print(thislist[:4])"
   ]
  },
  {
   "cell_type": "markdown",
   "id": "c895274c",
   "metadata": {},
   "source": [
    "By leaving out the end value, the range will go on to the end of the list."
   ]
  },
  {
   "cell_type": "code",
   "execution_count": 16,
   "id": "09deec86",
   "metadata": {},
   "outputs": [
    {
     "name": "stdout",
     "output_type": "stream",
     "text": [
      "['cherry', 'orange', 'kiwi', 'melon', 'mango']\n"
     ]
    }
   ],
   "source": [
    "# This example returns the items from \"cherry\" to the end.\n",
    "\n",
    "thislist = [\"apple\", \"banana\", \"cherry\", \"orange\", \"kiwi\", \"melon\", \"mango\"]\n",
    "\n",
    "print(thislist[2:])"
   ]
  },
  {
   "cell_type": "markdown",
   "id": "dcf54e3d",
   "metadata": {},
   "source": [
    "### 2.1.3 Range of Negative Indexes\n",
    "\n",
    "Specify negative indexes if you want to start the search from the end of the list."
   ]
  },
  {
   "cell_type": "code",
   "execution_count": 17,
   "id": "755267c8",
   "metadata": {},
   "outputs": [
    {
     "name": "stdout",
     "output_type": "stream",
     "text": [
      "['orange', 'kiwi', 'melon']\n"
     ]
    }
   ],
   "source": [
    "# This example returns the items from \"orange\" (-4) to, but NOT including \"mango\" (-1).\n",
    "\n",
    "thislist = [\"apple\", \"banana\", \"cherry\", \"orange\", \"kiwi\", \"melon\", \"mango\"]\n",
    "\n",
    "print(thislist[-4:-1])"
   ]
  },
  {
   "cell_type": "markdown",
   "id": "84850e5b",
   "metadata": {},
   "source": [
    "## 2.2 Checking if Item Exists\n",
    "\n",
    "To determine if a specified item is present in a list, use the in keyword."
   ]
  },
  {
   "cell_type": "code",
   "execution_count": 1,
   "id": "3d0d02db",
   "metadata": {},
   "outputs": [
    {
     "name": "stdout",
     "output_type": "stream",
     "text": [
      "Yes, 'apple' is in the fruits list\n"
     ]
    }
   ],
   "source": [
    "# Check if \"apple\" is present in the list.\n",
    "\n",
    "thislist = [\"apple\", \"banana\", \"cherry\"]\n",
    "\n",
    "if \"apple\" in thislist:\n",
    "  print(\"Yes, 'apple' is in the fruits list\")"
   ]
  },
  {
   "cell_type": "markdown",
   "id": "8240018c",
   "metadata": {},
   "source": [
    "# 3. Changing List Items"
   ]
  },
  {
   "cell_type": "markdown",
   "id": "24d8d70c",
   "metadata": {},
   "source": [
    "## 3.1 Changing Item Value\n",
    "\n",
    "To change the value of a specific item, refer to the index number."
   ]
  },
  {
   "cell_type": "code",
   "execution_count": 19,
   "id": "3a960412",
   "metadata": {},
   "outputs": [
    {
     "name": "stdout",
     "output_type": "stream",
     "text": [
      "['apple', 'blackcurrant', 'cherry']\n"
     ]
    }
   ],
   "source": [
    "# Change the second item.\n",
    "\n",
    "thislist = [\"apple\", \"banana\", \"cherry\"]\n",
    "\n",
    "thislist[1] = \"blackcurrant\"\n",
    "\n",
    "print(thislist)"
   ]
  },
  {
   "cell_type": "markdown",
   "id": "a1ad1fa5",
   "metadata": {},
   "source": [
    "## 3.2 Changing a Range of Item Values\n",
    "\n",
    "To change the value of items within a specific range, define a list with the new values, and refer to the range of index numbers where you want to insert the new values."
   ]
  },
  {
   "cell_type": "code",
   "execution_count": 20,
   "id": "bb1ded74",
   "metadata": {},
   "outputs": [
    {
     "name": "stdout",
     "output_type": "stream",
     "text": [
      "['apple', 'blackcurrant', 'watermelon', 'orange', 'kiwi', 'mango']\n"
     ]
    }
   ],
   "source": [
    "# Change the values \"banana\" and \"cherry\" with the values \"blackcurrant\" and \"watermelon\".\n",
    "\n",
    "thislist = [\"apple\", \"banana\", \"cherry\", \"orange\", \"kiwi\", \"mango\"]\n",
    "\n",
    "thislist[1:3] = [\"blackcurrant\", \"watermelon\"]\n",
    "\n",
    "print(thislist)"
   ]
  },
  {
   "cell_type": "markdown",
   "id": "9973b8ca",
   "metadata": {},
   "source": [
    "If you insert more items than you replace, the new items will be inserted where you specified, and the remaining items will move accordingly."
   ]
  },
  {
   "cell_type": "code",
   "execution_count": 21,
   "id": "36133271",
   "metadata": {},
   "outputs": [
    {
     "name": "stdout",
     "output_type": "stream",
     "text": [
      "['apple', 'blackcurrant', 'watermelon', 'cherry']\n"
     ]
    }
   ],
   "source": [
    "# Change the second value by replacing it with two new values.\n",
    "\n",
    "thislist = [\"apple\", \"banana\", \"cherry\"]\n",
    "\n",
    "thislist[1:2] = [\"blackcurrant\", \"watermelon\"]\n",
    "\n",
    "print(thislist)"
   ]
  },
  {
   "cell_type": "markdown",
   "id": "0b2a7836",
   "metadata": {},
   "source": [
    "**Note:** The length of the list will change when the number of items inserted does not match the number of items replaced.\n",
    "\n",
    "If you insert less items than you replace, the new items will be inserted where you specified, and the remaining items will move accordingly:"
   ]
  },
  {
   "cell_type": "code",
   "execution_count": 22,
   "id": "8ecaf7be",
   "metadata": {},
   "outputs": [
    {
     "name": "stdout",
     "output_type": "stream",
     "text": [
      "['apple', 'watermelon']\n"
     ]
    }
   ],
   "source": [
    "# Change the second and third value by replacing it with one value.\n",
    "\n",
    "thislist = [\"apple\", \"banana\", \"cherry\"]\n",
    "\n",
    "thislist[1:3] = [\"watermelon\"]\n",
    "\n",
    "print(thislist)"
   ]
  },
  {
   "cell_type": "markdown",
   "id": "13d7694a",
   "metadata": {},
   "source": [
    "## 3.3 Inserting Items\n",
    "\n",
    "To insert a new list item, without replacing any of the existing values, we can use the insert() method.\n",
    "\n",
    "The insert() method inserts an item at the specified index."
   ]
  },
  {
   "cell_type": "code",
   "execution_count": 24,
   "id": "38ff5350",
   "metadata": {},
   "outputs": [
    {
     "name": "stdout",
     "output_type": "stream",
     "text": [
      "['apple', 'banana', 'watermelon', 'cherry']\n"
     ]
    }
   ],
   "source": [
    "# Insert \"watermelon\" as the third item.\n",
    "\n",
    "thislist = [\"apple\", \"banana\", \"cherry\"]\n",
    "\n",
    "thislist.insert(2, \"watermelon\")\n",
    "\n",
    "print(thislist)\n",
    "\n",
    "# Note: As a result of the example above, the list will now contain 4 items."
   ]
  },
  {
   "cell_type": "markdown",
   "id": "2103f08a",
   "metadata": {},
   "source": [
    "# 4. Adding List Items\n",
    "\n",
    "## 4.1 Appending Items\n",
    "\n",
    "To add an item to the end of the list, use the append() method."
   ]
  },
  {
   "cell_type": "code",
   "execution_count": 25,
   "id": "e97e5d2b",
   "metadata": {},
   "outputs": [
    {
     "name": "stdout",
     "output_type": "stream",
     "text": [
      "['apple', 'banana', 'cherry', 'orange']\n"
     ]
    }
   ],
   "source": [
    "# Using the append() method to append an item.\n",
    "\n",
    "thislist = [\"apple\", \"banana\", \"cherry\"]\n",
    "\n",
    "thislist.append(\"orange\")\n",
    "\n",
    "print(thislist)"
   ]
  },
  {
   "cell_type": "markdown",
   "id": "28eef91c",
   "metadata": {},
   "source": [
    "## 4.2 Inserting Items\n",
    "\n",
    "To insert a list item at a specified index, use the insert() method.\n",
    "\n",
    "The insert() method inserts an item at the specified index."
   ]
  },
  {
   "cell_type": "code",
   "execution_count": 27,
   "id": "28902fbb",
   "metadata": {},
   "outputs": [
    {
     "name": "stdout",
     "output_type": "stream",
     "text": [
      "['apple', 'orange', 'banana', 'cherry']\n"
     ]
    }
   ],
   "source": [
    "# Insert an item as the second position.\n",
    "\n",
    "thislist = [\"apple\", \"banana\", \"cherry\"]\n",
    "\n",
    "thislist.insert(1, \"orange\")\n",
    "\n",
    "print(thislist)\n",
    "\n",
    "# Note: As a result of the examples above, the lists will now contain 4 items."
   ]
  },
  {
   "cell_type": "markdown",
   "id": "71e333ae",
   "metadata": {},
   "source": [
    "## 4.3 Extending List\n",
    "\n",
    "To append elements from another list to the current list, use the extend() method."
   ]
  },
  {
   "cell_type": "code",
   "execution_count": 29,
   "id": "f3191859",
   "metadata": {},
   "outputs": [
    {
     "name": "stdout",
     "output_type": "stream",
     "text": [
      "['apple', 'banana', 'cherry', 'mango', 'pineapple', 'papaya']\n"
     ]
    }
   ],
   "source": [
    "# Add the elements of tropical to this list.\n",
    "\n",
    "thislist = [\"apple\", \"banana\", \"cherry\"]\n",
    "\n",
    "tropical = [\"mango\", \"pineapple\", \"papaya\"]\n",
    "\n",
    "thislist.extend(tropical)\n",
    "\n",
    "print(thislist)\n",
    "\n",
    "# The elements will be added to the end of the list."
   ]
  },
  {
   "cell_type": "markdown",
   "id": "12bff4a9",
   "metadata": {},
   "source": [
    "## 4.4 Adding Any Iterable\n",
    "\n",
    "The extend() method does not have to append lists, you can add any iterable object (tuples, sets, dictionaries etc.)."
   ]
  },
  {
   "cell_type": "code",
   "execution_count": 30,
   "id": "e46bc956",
   "metadata": {},
   "outputs": [
    {
     "name": "stdout",
     "output_type": "stream",
     "text": [
      "['apple', 'banana', 'cherry', 'kiwi', 'orange']\n"
     ]
    }
   ],
   "source": [
    "# Add elements of a tuple to a list.\n",
    "\n",
    "thislist = [\"apple\", \"banana\", \"cherry\"]\n",
    "\n",
    "thistuple = (\"kiwi\", \"orange\")\n",
    "\n",
    "thislist.extend(thistuple)\n",
    "\n",
    "print(thislist)"
   ]
  },
  {
   "cell_type": "markdown",
   "id": "48686680",
   "metadata": {},
   "source": [
    "# 5. Removing List Items\n",
    "\n",
    "## 5.1 Removing Specified Item\n",
    "\n",
    "The remove() method removes the specified item."
   ]
  },
  {
   "cell_type": "code",
   "execution_count": 31,
   "id": "6195b643",
   "metadata": {},
   "outputs": [
    {
     "name": "stdout",
     "output_type": "stream",
     "text": [
      "['apple', 'cherry']\n"
     ]
    }
   ],
   "source": [
    "# Remove \"banana\".\n",
    "\n",
    "thislist = [\"apple\", \"banana\", \"cherry\"]\n",
    "\n",
    "thislist.remove(\"banana\")\n",
    "\n",
    "print(thislist)"
   ]
  },
  {
   "cell_type": "markdown",
   "id": "2dae85ee",
   "metadata": {},
   "source": [
    "## 5.2 Removing Specified Index\n",
    "\n",
    "The pop() method removes the specified index."
   ]
  },
  {
   "cell_type": "code",
   "execution_count": 33,
   "id": "b6c2e778",
   "metadata": {},
   "outputs": [
    {
     "name": "stdout",
     "output_type": "stream",
     "text": [
      "['apple', 'cherry']\n"
     ]
    }
   ],
   "source": [
    "# Remove the second item.\n",
    "\n",
    "thislist = [\"apple\", \"banana\", \"cherry\"]\n",
    "\n",
    "thislist.pop(1)\n",
    "\n",
    "print(thislist)\n",
    "\n",
    "# If you do not specify the index, the pop() method removes the last item."
   ]
  },
  {
   "cell_type": "code",
   "execution_count": 37,
   "id": "dc1fa48d",
   "metadata": {},
   "outputs": [
    {
     "name": "stdout",
     "output_type": "stream",
     "text": [
      "['apple', 'banana']\n"
     ]
    }
   ],
   "source": [
    "# Remove the last item.\n",
    "\n",
    "thislist = [\"apple\", \"banana\", \"cherry\"]\n",
    "\n",
    "thislist.pop()\n",
    "\n",
    "print(thislist)"
   ]
  },
  {
   "cell_type": "markdown",
   "id": "a9979e89",
   "metadata": {},
   "source": [
    "The del keyword also removes the specified index."
   ]
  },
  {
   "cell_type": "code",
   "execution_count": 38,
   "id": "dd23d7c9",
   "metadata": {
    "scrolled": true
   },
   "outputs": [
    {
     "name": "stdout",
     "output_type": "stream",
     "text": [
      "['banana', 'cherry']\n"
     ]
    }
   ],
   "source": [
    "# Remove the first item.\n",
    "\n",
    "thislist = [\"apple\", \"banana\", \"cherry\"]\n",
    "\n",
    "del thislist[0]\n",
    "\n",
    "print(thislist)"
   ]
  },
  {
   "cell_type": "markdown",
   "id": "9a0492f1",
   "metadata": {},
   "source": [
    "The del keyword can also delete the list completely."
   ]
  },
  {
   "cell_type": "code",
   "execution_count": 39,
   "id": "f783e634",
   "metadata": {},
   "outputs": [],
   "source": [
    "# Delete the entire list.\n",
    "\n",
    "thislist = [\"apple\", \"banana\", \"cherry\"]\n",
    "\n",
    "del thislist"
   ]
  },
  {
   "cell_type": "markdown",
   "id": "f4dbcf33",
   "metadata": {},
   "source": [
    "## 5.3 Clearing the List\n",
    "\n",
    "The clear() method empties the list.\n",
    "\n",
    "The list still remains, but it has no content."
   ]
  },
  {
   "cell_type": "code",
   "execution_count": 40,
   "id": "97b794fe",
   "metadata": {},
   "outputs": [
    {
     "name": "stdout",
     "output_type": "stream",
     "text": [
      "[]\n"
     ]
    }
   ],
   "source": [
    "# Clear the list content.\n",
    "\n",
    "thislist = [\"apple\", \"banana\", \"cherry\"]\n",
    "\n",
    "thislist.clear()\n",
    "\n",
    "print(thislist)"
   ]
  },
  {
   "cell_type": "markdown",
   "id": "f13c6992",
   "metadata": {},
   "source": [
    "# 6. Looping Lists\n",
    "\n",
    "## 6.1 Looping Through a List\n",
    "\n",
    "You can loop through the list items by using a for loop."
   ]
  },
  {
   "cell_type": "code",
   "execution_count": 41,
   "id": "075e9a30",
   "metadata": {},
   "outputs": [
    {
     "name": "stdout",
     "output_type": "stream",
     "text": [
      "apple\n",
      "banana\n",
      "cherry\n"
     ]
    }
   ],
   "source": [
    "# Print all items in the list, one by one.\n",
    "\n",
    "thislist = [\"apple\", \"banana\", \"cherry\"]\n",
    "\n",
    "for x in thislist:\n",
    "  print(x)"
   ]
  },
  {
   "cell_type": "markdown",
   "id": "9e3120bd",
   "metadata": {},
   "source": [
    "## 6.2 Looping Through the Index Numbers\n",
    "\n",
    "You can also loop through the list items by referring to their index number.\n",
    "\n",
    "Use the range() and len() functions to create a suitable iterable."
   ]
  },
  {
   "cell_type": "code",
   "execution_count": 44,
   "id": "e046eb3d",
   "metadata": {},
   "outputs": [
    {
     "name": "stdout",
     "output_type": "stream",
     "text": [
      "apple\n",
      "banana\n",
      "cherry\n"
     ]
    }
   ],
   "source": [
    "# Print all items by referring to their index number.\n",
    "\n",
    "thislist = [\"apple\", \"banana\", \"cherry\"]\n",
    "\n",
    "for i in range(len(thislist)):\n",
    "  print(thislist[i])\n",
    "\n",
    "# The iterable created in the example above is [0, 1, 2]."
   ]
  },
  {
   "cell_type": "markdown",
   "id": "391c6236",
   "metadata": {},
   "source": [
    "## 6.3 Using a While Loop\n",
    "\n",
    "You can loop through the list items by using a while loop. \n",
    "\n",
    "Use the len() function to determine the length of the list, then start at 0 and loop your way through the list items by referring to their indexes. Remember to increase the index by 1 after each iteration."
   ]
  },
  {
   "cell_type": "code",
   "execution_count": 45,
   "id": "4a73efd3",
   "metadata": {},
   "outputs": [
    {
     "name": "stdout",
     "output_type": "stream",
     "text": [
      "apple\n",
      "banana\n",
      "cherry\n"
     ]
    }
   ],
   "source": [
    "# Print all items, using a while loop to go through all the index numbers.\n",
    "\n",
    "thislist = [\"apple\", \"banana\", \"cherry\"]\n",
    "\n",
    "i = 0\n",
    "\n",
    "while i < len(thislist):\n",
    "  print(thislist[i])\n",
    "  i = i + 1"
   ]
  },
  {
   "cell_type": "markdown",
   "id": "bd749af8",
   "metadata": {},
   "source": [
    "## 6.4 Looping Using List Comprehension\n",
    "\n",
    "List comprehension offers the shortest syntax for looping through lists."
   ]
  },
  {
   "cell_type": "code",
   "execution_count": 46,
   "id": "1cbf87db",
   "metadata": {},
   "outputs": [
    {
     "name": "stdout",
     "output_type": "stream",
     "text": [
      "apple\n",
      "banana\n",
      "cherry\n"
     ]
    },
    {
     "data": {
      "text/plain": [
       "[None, None, None]"
      ]
     },
     "execution_count": 46,
     "metadata": {},
     "output_type": "execute_result"
    }
   ],
   "source": [
    "# A short hand for loop that will print all items in a list.\n",
    "\n",
    "thislist = [\"apple\", \"banana\", \"cherry\"]\n",
    "\n",
    "[print(x) for x in thislist]"
   ]
  },
  {
   "cell_type": "markdown",
   "id": "97733f77",
   "metadata": {},
   "source": [
    "# 7. List Comprehension\n",
    "\n",
    "List comprehension offers a shorter syntax when you want to create a new list based on the values of an existing list.\n",
    "\n",
    "**Example:**\n",
    "\n",
    "Based on a list of fruits, you want a new list, containing only the fruits with the letter \"a\" in the name.\n",
    "\n",
    "Without list comprehension, you will have to write a for statement with a conditional test inside."
   ]
  },
  {
   "cell_type": "code",
   "execution_count": 47,
   "id": "243b1d6d",
   "metadata": {},
   "outputs": [
    {
     "name": "stdout",
     "output_type": "stream",
     "text": [
      "['apple', 'banana', 'mango']\n"
     ]
    }
   ],
   "source": [
    "fruits = [\"apple\", \"banana\", \"cherry\", \"kiwi\", \"mango\"]\n",
    "newlist = []\n",
    "\n",
    "for x in fruits:\n",
    "  if \"a\" in x:\n",
    "    newlist.append(x)\n",
    "\n",
    "print(newlist)"
   ]
  },
  {
   "cell_type": "markdown",
   "id": "277a6457",
   "metadata": {},
   "source": [
    "With list comprehension, you can do all that with only one line of code."
   ]
  },
  {
   "cell_type": "code",
   "execution_count": 48,
   "id": "c8784677",
   "metadata": {},
   "outputs": [
    {
     "name": "stdout",
     "output_type": "stream",
     "text": [
      "['apple', 'banana', 'mango']\n"
     ]
    }
   ],
   "source": [
    "fruits = [\"apple\", \"banana\", \"cherry\", \"kiwi\", \"mango\"]\n",
    "\n",
    "newlist = [x for x in fruits if \"a\" in x]\n",
    "\n",
    "print(newlist)"
   ]
  },
  {
   "attachments": {
    "image-2.png": {
     "image/png": "[encoded data removed]"
    }
   },
   "cell_type": "markdown",
   "id": "ced2a72e",
   "metadata": {},
   "source": [
    "**Syntax:**\n",
    "\n",
    "![image-2.png](attachment:image-2.png)\n",
    "\n",
    "The return value is a new list, leaving the old list unchanged.\n",
    "\n",
    "**Condition:**\n",
    "\n",
    "The condition is like a filter that only accepts the items that valuate to True."
   ]
  },
  {
   "cell_type": "code",
   "execution_count": 49,
   "id": "fbda782e",
   "metadata": {},
   "outputs": [],
   "source": [
    "# Only accept items that are not \"apple\".\n",
    "\n",
    "newlist = [x for x in fruits if x != \"apple\"]"
   ]
  },
  {
   "cell_type": "markdown",
   "id": "e634a255",
   "metadata": {},
   "source": [
    "The condition if x != \"apple\"  will return True for all elements other than \"apple\", making the new list contain all fruits except \"apple\".\n",
    "\n",
    "The condition is optional and can be omitted."
   ]
  },
  {
   "cell_type": "code",
   "execution_count": 50,
   "id": "e2ab6138",
   "metadata": {},
   "outputs": [],
   "source": [
    "# With no if statement.\n",
    "\n",
    "newlist = [x for x in fruits]"
   ]
  },
  {
   "cell_type": "markdown",
   "id": "9f8d70ed",
   "metadata": {},
   "source": [
    "**Iterable**\n",
    "\n",
    "The iterable can be any iterable object, like a list, tuple, set, etc."
   ]
  },
  {
   "cell_type": "code",
   "execution_count": 51,
   "id": "54dd93de",
   "metadata": {},
   "outputs": [],
   "source": [
    "# You can use the range() function to create an iterable.\n",
    "\n",
    "newlist = [x for x in range(10)]"
   ]
  },
  {
   "cell_type": "markdown",
   "id": "191e4f24",
   "metadata": {},
   "source": [
    "Same example, but with a condition."
   ]
  },
  {
   "cell_type": "code",
   "execution_count": 52,
   "id": "e206098e",
   "metadata": {},
   "outputs": [],
   "source": [
    "# Accept only numbers lower than 5.\n",
    "\n",
    "newlist = [x for x in range(10) if x < 5]"
   ]
  },
  {
   "cell_type": "markdown",
   "id": "fa7cac97",
   "metadata": {},
   "source": [
    "**Expression**\n",
    "\n",
    "The expression is the current item in the iteration, but it is also the outcome, which you can manipulate before it ends up like a list item in the new list."
   ]
  },
  {
   "cell_type": "code",
   "execution_count": 53,
   "id": "79e6641d",
   "metadata": {},
   "outputs": [],
   "source": [
    "# Set the values in the new list to upper case.\n",
    "\n",
    "newlist = [x.upper() for x in fruits]"
   ]
  },
  {
   "cell_type": "markdown",
   "id": "bf68a3b1",
   "metadata": {},
   "source": [
    "You can set the outcome to whatever you like."
   ]
  },
  {
   "cell_type": "code",
   "execution_count": 54,
   "id": "7cd32adb",
   "metadata": {},
   "outputs": [],
   "source": [
    "# Set all values in the new list to 'hello'.\n",
    "\n",
    "newlist = ['hello' for x in fruits]"
   ]
  },
  {
   "cell_type": "markdown",
   "id": "f5c8c2c1",
   "metadata": {},
   "source": [
    "The expression can also contain conditions, not like a filter, but as a way to manipulate the outcome."
   ]
  },
  {
   "cell_type": "code",
   "execution_count": null,
   "id": "d9b8d402",
   "metadata": {},
   "outputs": [],
   "source": [
    "# Return \"orange\" instead of \"banana\".\n",
    "\n",
    "newlist = [x if x != \"banana\" else \"orange\" for x in fruits]"
   ]
  },
  {
   "cell_type": "markdown",
   "id": "f57d6933",
   "metadata": {},
   "source": [
    "The expression in the example above says.\n",
    "\n",
    "\"Return the item if it is not a banana, if it is banana return orange\"."
   ]
  },
  {
   "cell_type": "markdown",
   "id": "4d4544c7",
   "metadata": {},
   "source": [
    "# 8. Sorting Lists\n",
    "\n",
    "## 8.1 Sorting List Alphanumerically\n",
    "\n",
    "List objects have a sort() method that will sort the list alphanumerically, ascending, by default."
   ]
  },
  {
   "cell_type": "code",
   "execution_count": 55,
   "id": "d2b77a09",
   "metadata": {},
   "outputs": [
    {
     "name": "stdout",
     "output_type": "stream",
     "text": [
      "['banana', 'kiwi', 'mango', 'orange', 'pineapple']\n"
     ]
    }
   ],
   "source": [
    "# Sort the list alphabetically.\n",
    "\n",
    "thislist = [\"orange\", \"mango\", \"kiwi\", \"pineapple\", \"banana\"]\n",
    "thislist.sort()\n",
    "print(thislist)"
   ]
  },
  {
   "cell_type": "code",
   "execution_count": 56,
   "id": "d955d45f",
   "metadata": {},
   "outputs": [
    {
     "name": "stdout",
     "output_type": "stream",
     "text": [
      "[23, 50, 65, 82, 100]\n"
     ]
    }
   ],
   "source": [
    "# Sort the list numerically.\n",
    "\n",
    "thislist = [100, 50, 65, 82, 23]\n",
    "thislist.sort()\n",
    "print(thislist)"
   ]
  },
  {
   "cell_type": "markdown",
   "id": "51d90b0d",
   "metadata": {},
   "source": [
    "## 8.2 Sorting in Descending Order\n",
    "\n",
    "To sort descending, use the keyword argument reverse = True."
   ]
  },
  {
   "cell_type": "code",
   "execution_count": 57,
   "id": "b9e9732d",
   "metadata": {},
   "outputs": [
    {
     "name": "stdout",
     "output_type": "stream",
     "text": [
      "['pineapple', 'orange', 'mango', 'kiwi', 'banana']\n"
     ]
    }
   ],
   "source": [
    "# Sort the list descending.\n",
    "\n",
    "thislist = [\"orange\", \"mango\", \"kiwi\", \"pineapple\", \"banana\"]\n",
    "thislist.sort(reverse = True)\n",
    "print(thislist)"
   ]
  },
  {
   "cell_type": "code",
   "execution_count": 58,
   "id": "2d4112f0",
   "metadata": {},
   "outputs": [
    {
     "name": "stdout",
     "output_type": "stream",
     "text": [
      "[100, 82, 65, 50, 23]\n"
     ]
    }
   ],
   "source": [
    "# Sort the list descending.\n",
    "\n",
    "thislist = [100, 50, 65, 82, 23]\n",
    "thislist.sort(reverse = True)\n",
    "print(thislist)"
   ]
  },
  {
   "cell_type": "markdown",
   "id": "34ff26c4",
   "metadata": {},
   "source": [
    "## 8.3 Customizing Sort Function\n",
    "\n",
    "You can also customize your own function by using the keyword argument key = function.\n",
    "\n",
    "The function will return a number that will be used to sort the list (the lowest number first)."
   ]
  },
  {
   "cell_type": "code",
   "execution_count": 59,
   "id": "bb2b4ecf",
   "metadata": {},
   "outputs": [
    {
     "name": "stdout",
     "output_type": "stream",
     "text": [
      "[50, 65, 23, 82, 100]\n"
     ]
    }
   ],
   "source": [
    "# Sort the list based on how close the number is to 50.\n",
    "\n",
    "def myfunc(n):\n",
    "  return abs(n - 50)\n",
    "\n",
    "thislist = [100, 50, 65, 82, 23]\n",
    "\n",
    "thislist.sort(key = myfunc)\n",
    "\n",
    "print(thislist)"
   ]
  },
  {
   "cell_type": "markdown",
   "id": "78b40dda",
   "metadata": {},
   "source": [
    "## 8.4 Case Insensitive Sort\n",
    "\n",
    "By default, the sort() method is case sensitive, resulting in all capital letters being sorted before lowercase letters."
   ]
  },
  {
   "cell_type": "code",
   "execution_count": 60,
   "id": "9c33018e",
   "metadata": {},
   "outputs": [
    {
     "name": "stdout",
     "output_type": "stream",
     "text": [
      "['Kiwi', 'Orange', 'banana', 'cherry']\n"
     ]
    }
   ],
   "source": [
    "# Case sensitive sorting can give an unexpected result.\n",
    "\n",
    "thislist = [\"banana\", \"Orange\", \"Kiwi\", \"cherry\"]\n",
    "\n",
    "thislist.sort()\n",
    "\n",
    "print(thislist)"
   ]
  },
  {
   "cell_type": "markdown",
   "id": "ea941acc",
   "metadata": {},
   "source": [
    "Luckily, we can use built-in functions as key functions when sorting a list.\n",
    "\n",
    "So if you want a case-insensitive sort function, use str.lower as a key function."
   ]
  },
  {
   "cell_type": "code",
   "execution_count": 61,
   "id": "10783f73",
   "metadata": {},
   "outputs": [
    {
     "name": "stdout",
     "output_type": "stream",
     "text": [
      "['banana', 'cherry', 'Kiwi', 'Orange']\n"
     ]
    }
   ],
   "source": [
    "# Perform a case-insensitive sort of the list.\n",
    "\n",
    "thislist = [\"banana\", \"Orange\", \"Kiwi\", \"cherry\"]\n",
    "\n",
    "thislist.sort(key = str.lower)\n",
    "\n",
    "print(thislist)"
   ]
  },
  {
   "cell_type": "markdown",
   "id": "ffaaa019",
   "metadata": {},
   "source": [
    "## 8.5 Reversing Order\n",
    "\n",
    "What if you want to reverse the order of a list, regardless of the alphabet?\n",
    "\n",
    "The reverse() method reverses the current sorting order of the elements."
   ]
  },
  {
   "cell_type": "code",
   "execution_count": 62,
   "id": "99c16a76",
   "metadata": {},
   "outputs": [
    {
     "name": "stdout",
     "output_type": "stream",
     "text": [
      "['cherry', 'Kiwi', 'Orange', 'banana']\n"
     ]
    }
   ],
   "source": [
    "# Reverse the order of the list items.\n",
    "\n",
    "thislist = [\"banana\", \"Orange\", \"Kiwi\", \"cherry\"]\n",
    "\n",
    "thislist.reverse()\n",
    "\n",
    "print(thislist)"
   ]
  },
  {
   "cell_type": "markdown",
   "id": "ce01397d",
   "metadata": {},
   "source": [
    "# 9. Copying Lists\n",
    "\n",
    "You cannot copy a list simply by typing list 2 = list 1, because list 2 will only be a reference to list1, and changes made in list 1 will automatically also be made in list 2.\n",
    "\n",
    "There are ways to make a copy. One way is to use the built-in List method copy()."
   ]
  },
  {
   "cell_type": "code",
   "execution_count": 63,
   "id": "4a8aad66",
   "metadata": {},
   "outputs": [
    {
     "name": "stdout",
     "output_type": "stream",
     "text": [
      "['apple', 'banana', 'cherry']\n"
     ]
    }
   ],
   "source": [
    "# Make a copy of a list with the copy() method.\n",
    "\n",
    "thislist = [\"apple\", \"banana\", \"cherry\"]\n",
    "\n",
    "mylist = thislist.copy()\n",
    "\n",
    "print(mylist)"
   ]
  },
  {
   "cell_type": "markdown",
   "id": "9d1c94d3",
   "metadata": {},
   "source": [
    "Another way to make a copy is to use the built-in method list()."
   ]
  },
  {
   "cell_type": "code",
   "execution_count": 64,
   "id": "7fe19d6f",
   "metadata": {},
   "outputs": [
    {
     "name": "stdout",
     "output_type": "stream",
     "text": [
      "['apple', 'banana', 'cherry']\n"
     ]
    }
   ],
   "source": [
    "# Make a copy of a list with the list() method.\n",
    "\n",
    "thislist = [\"apple\", \"banana\", \"cherry\"]\n",
    "\n",
    "mylist = list(thislist)\n",
    "\n",
    "print(mylist)"
   ]
  },
  {
   "cell_type": "markdown",
   "id": "c2b98147",
   "metadata": {},
   "source": [
    "# 10. Joining Two Lists\n",
    "\n",
    "There are several ways to join, or concatenate, two or more lists in Python.\n",
    "\n",
    "One of the easiest ways is by using the + operator."
   ]
  },
  {
   "cell_type": "code",
   "execution_count": 65,
   "id": "629dd5df",
   "metadata": {},
   "outputs": [
    {
     "name": "stdout",
     "output_type": "stream",
     "text": [
      "['a', 'b', 'c', 1, 2, 3]\n"
     ]
    }
   ],
   "source": [
    "# Join two lists.\n",
    "\n",
    "list1 = [\"a\", \"b\", \"c\"]\n",
    "\n",
    "list2 = [1, 2, 3]\n",
    "\n",
    "list3 = list1 + list2\n",
    "\n",
    "print(list3)"
   ]
  },
  {
   "cell_type": "markdown",
   "id": "13f64b66",
   "metadata": {},
   "source": [
    "Another way to join two lists is by appending all the items from list 2 into list 1, one by one."
   ]
  },
  {
   "cell_type": "code",
   "execution_count": 66,
   "id": "82ab12bc",
   "metadata": {},
   "outputs": [
    {
     "name": "stdout",
     "output_type": "stream",
     "text": [
      "['a', 'b', 'c', 1, 2, 3]\n"
     ]
    }
   ],
   "source": [
    "# Append list 2 into list 1.\n",
    "\n",
    "list1 = [\"a\", \"b\" , \"c\"]\n",
    "\n",
    "list2 = [1, 2, 3]\n",
    "\n",
    "for x in list2:\n",
    "  list1.append(x)\n",
    "\n",
    "print(list1)"
   ]
  },
  {
   "cell_type": "markdown",
   "id": "cd6a5f8c",
   "metadata": {},
   "source": [
    "Or you can use the extend() method, which purpose is to add elements from one list to another list."
   ]
  },
  {
   "cell_type": "code",
   "execution_count": 67,
   "id": "66fe87d1",
   "metadata": {},
   "outputs": [
    {
     "name": "stdout",
     "output_type": "stream",
     "text": [
      "['a', 'b', 'c', 1, 2, 3]\n"
     ]
    }
   ],
   "source": [
    "# Use the extend() method to add list 2 at the end of list 1.\n",
    "\n",
    "list1 = [\"a\", \"b\" , \"c\"]\n",
    "\n",
    "list2 = [1, 2, 3]\n",
    "\n",
    "list1.extend(list2)\n",
    "\n",
    "print(list1)"
   ]
  },
  {
   "attachments": {
    "image-2.png": {
     "image/png": "[encoded data removed]"
    }
   },
   "cell_type": "markdown",
   "id": "2ffce8dd",
   "metadata": {},
   "source": [
    "# 11. List Methods\n",
    "\n",
    "![image-2.png](attachment:image-2.png)"
   ]
  },
  {
   "cell_type": "markdown",
   "id": "a9ccdb71",
   "metadata": {},
   "source": [
    "# Practice"
   ]
  },
  {
   "cell_type": "code",
   "execution_count": 68,
   "id": "744e069c",
   "metadata": {},
   "outputs": [
    {
     "data": {
      "text/plain": [
       "['sudh', 34343434, 'sfsfsfsfsfsf']"
      ]
     },
     "execution_count": 68,
     "metadata": {},
     "output_type": "execute_result"
    }
   ],
   "source": [
    "l = [\"sudh\", 34343434, \"sfsfsfsfsfsf\"]\n",
    "l"
   ]
  },
  {
   "cell_type": "code",
   "execution_count": 69,
   "id": "cd821ca8",
   "metadata": {},
   "outputs": [
    {
     "data": {
      "text/plain": [
       "list"
      ]
     },
     "execution_count": 69,
     "metadata": {},
     "output_type": "execute_result"
    }
   ],
   "source": [
    "type(l)"
   ]
  },
  {
   "cell_type": "code",
   "execution_count": 70,
   "id": "058b70b8",
   "metadata": {},
   "outputs": [
    {
     "data": {
      "text/plain": [
       "'sudh'"
      ]
     },
     "execution_count": 70,
     "metadata": {},
     "output_type": "execute_result"
    }
   ],
   "source": [
    "l[0]"
   ]
  },
  {
   "cell_type": "code",
   "execution_count": 71,
   "id": "cccba0d3",
   "metadata": {},
   "outputs": [
    {
     "data": {
      "text/plain": [
       "34343434"
      ]
     },
     "execution_count": 71,
     "metadata": {},
     "output_type": "execute_result"
    }
   ],
   "source": [
    "l[1]"
   ]
  },
  {
   "cell_type": "code",
   "execution_count": 72,
   "id": "2a549c13",
   "metadata": {},
   "outputs": [
    {
     "data": {
      "text/plain": [
       "'sfsfsfsfsfsf'"
      ]
     },
     "execution_count": 72,
     "metadata": {},
     "output_type": "execute_result"
    }
   ],
   "source": [
    "l[2]"
   ]
  },
  {
   "cell_type": "code",
   "execution_count": 73,
   "id": "694cc7fe",
   "metadata": {},
   "outputs": [
    {
     "data": {
      "text/plain": [
       "list"
      ]
     },
     "execution_count": 73,
     "metadata": {},
     "output_type": "execute_result"
    }
   ],
   "source": [
    "l1 = []\n",
    "type(l1)"
   ]
  },
  {
   "cell_type": "code",
   "execution_count": 74,
   "id": "470996b8",
   "metadata": {},
   "outputs": [],
   "source": [
    "l2 = list()"
   ]
  },
  {
   "cell_type": "code",
   "execution_count": 75,
   "id": "ca27555d",
   "metadata": {},
   "outputs": [
    {
     "data": {
      "text/plain": [
       "[]"
      ]
     },
     "execution_count": 75,
     "metadata": {},
     "output_type": "execute_result"
    }
   ],
   "source": [
    "l1"
   ]
  },
  {
   "cell_type": "code",
   "execution_count": 76,
   "id": "62219dae",
   "metadata": {},
   "outputs": [
    {
     "data": {
      "text/plain": [
       "[]"
      ]
     },
     "execution_count": 76,
     "metadata": {},
     "output_type": "execute_result"
    }
   ],
   "source": [
    "l2"
   ]
  },
  {
   "cell_type": "markdown",
   "id": "a422c51b",
   "metadata": {},
   "source": [
    "# Practice"
   ]
  },
  {
   "cell_type": "code",
   "execution_count": 77,
   "id": "6ead91dc",
   "metadata": {},
   "outputs": [],
   "source": [
    "l = [\"sudh\", 343434343, \"dfdfdfdfdfdfdfd\", True, 5 + 7j , [3,4,5,\"fgfgfgfgfgfg\"], 6.77]"
   ]
  },
  {
   "cell_type": "code",
   "execution_count": 78,
   "id": "d0a4d7a1",
   "metadata": {},
   "outputs": [
    {
     "data": {
      "text/plain": [
       "['sudh',\n",
       " 343434343,\n",
       " 'dfdfdfdfdfdfdfd',\n",
       " True,\n",
       " (5+7j),\n",
       " [3, 4, 5, 'fgfgfgfgfgfg'],\n",
       " 6.77]"
      ]
     },
     "execution_count": 78,
     "metadata": {},
     "output_type": "execute_result"
    }
   ],
   "source": [
    "l"
   ]
  },
  {
   "cell_type": "code",
   "execution_count": 79,
   "id": "0d01610d",
   "metadata": {},
   "outputs": [
    {
     "data": {
      "text/plain": [
       "'sudh'"
      ]
     },
     "execution_count": 79,
     "metadata": {},
     "output_type": "execute_result"
    }
   ],
   "source": [
    "l[0]"
   ]
  },
  {
   "cell_type": "code",
   "execution_count": 80,
   "id": "6c39d2d9",
   "metadata": {},
   "outputs": [
    {
     "data": {
      "text/plain": [
       "[3, 4, 5, 'fgfgfgfgfgfg']"
      ]
     },
     "execution_count": 80,
     "metadata": {},
     "output_type": "execute_result"
    }
   ],
   "source": [
    "l[5]"
   ]
  },
  {
   "cell_type": "code",
   "execution_count": 81,
   "id": "ecec7214",
   "metadata": {},
   "outputs": [
    {
     "data": {
      "text/plain": [
       "3"
      ]
     },
     "execution_count": 81,
     "metadata": {},
     "output_type": "execute_result"
    }
   ],
   "source": [
    "l[5][0]"
   ]
  },
  {
   "cell_type": "markdown",
   "id": "2e7a61e8",
   "metadata": {},
   "source": [
    "# Practice"
   ]
  },
  {
   "cell_type": "code",
   "execution_count": 82,
   "id": "2c438e3b",
   "metadata": {},
   "outputs": [],
   "source": [
    "l = [\"sudh\", 343434343, \"dfdfdfdfdfdfdfd\", True, 5 + 7j , [3,5,6,\"fgfgfgfgfgfg\"], 6.77]"
   ]
  },
  {
   "cell_type": "code",
   "execution_count": 83,
   "id": "5419c90c",
   "metadata": {},
   "outputs": [
    {
     "name": "stdout",
     "output_type": "stream",
     "text": [
      "<class 'str'>\n",
      "<class 'int'>\n",
      "<class 'str'>\n",
      "<class 'bool'>\n",
      "<class 'complex'>\n",
      "<class 'list'>\n",
      "<class 'float'>\n"
     ]
    }
   ],
   "source": [
    "for i in l:\n",
    "  print(type(i))"
   ]
  },
  {
   "cell_type": "code",
   "execution_count": 84,
   "id": "6a7e9284",
   "metadata": {},
   "outputs": [
    {
     "name": "stdout",
     "output_type": "stream",
     "text": [
      "<class 'int'>\n",
      "<class 'int'>\n",
      "<class 'int'>\n",
      "<class 'str'>\n"
     ]
    }
   ],
   "source": [
    "for i in l:\n",
    "  if type(i) == list:\n",
    "    for j in i:\n",
    "      print(type(j))"
   ]
  },
  {
   "cell_type": "code",
   "execution_count": 85,
   "id": "d73811ea",
   "metadata": {},
   "outputs": [
    {
     "name": "stdout",
     "output_type": "stream",
     "text": [
      "14\n"
     ]
    }
   ],
   "source": [
    "for i in l:\n",
    "  if type(i) == list:\n",
    "    n = 0\n",
    "    for j in i:\n",
    "      if type(j) == int:\n",
    "        n = n + j\n",
    "print(n)"
   ]
  },
  {
   "cell_type": "markdown",
   "id": "cca381ae",
   "metadata": {},
   "source": [
    "# Practice"
   ]
  },
  {
   "cell_type": "code",
   "execution_count": 86,
   "id": "c5a27546",
   "metadata": {},
   "outputs": [],
   "source": [
    "l = [\"sudh\", 343434343, \"dfdfdfdfdfdfdfd\", True, 5 + 7j , [3,5,6,\"fgfgfgfgfgfg\"], 6.77]"
   ]
  },
  {
   "cell_type": "code",
   "execution_count": 87,
   "id": "e0dfe197",
   "metadata": {},
   "outputs": [
    {
     "data": {
      "text/plain": [
       "'sudh'"
      ]
     },
     "execution_count": 87,
     "metadata": {},
     "output_type": "execute_result"
    }
   ],
   "source": [
    "l[0]"
   ]
  },
  {
   "cell_type": "code",
   "execution_count": 88,
   "id": "9c172bc4",
   "metadata": {},
   "outputs": [
    {
     "data": {
      "text/plain": [
       "['sudh', 343434343, 'dfdfdfdfdfdfdfd', True, (5+7j)]"
      ]
     },
     "execution_count": 88,
     "metadata": {},
     "output_type": "execute_result"
    }
   ],
   "source": [
    "l[0:5]"
   ]
  },
  {
   "cell_type": "code",
   "execution_count": 89,
   "id": "ce86f69c",
   "metadata": {},
   "outputs": [
    {
     "data": {
      "text/plain": [
       "[]"
      ]
     },
     "execution_count": 89,
     "metadata": {},
     "output_type": "execute_result"
    }
   ],
   "source": [
    "l[8:3]"
   ]
  },
  {
   "cell_type": "code",
   "execution_count": 90,
   "id": "557095ef",
   "metadata": {},
   "outputs": [
    {
     "data": {
      "text/plain": [
       "[6.77, [3, 5, 6, 'fgfgfgfgfgfg'], (5+7j)]"
      ]
     },
     "execution_count": 90,
     "metadata": {},
     "output_type": "execute_result"
    }
   ],
   "source": [
    "l[8:3:-1]"
   ]
  },
  {
   "cell_type": "code",
   "execution_count": 91,
   "id": "a5d5127b",
   "metadata": {},
   "outputs": [
    {
     "data": {
      "text/plain": [
       "[0, 1, 2, 3, 4, 5, 6, 7, 8, 9, 10]"
      ]
     },
     "execution_count": 91,
     "metadata": {},
     "output_type": "execute_result"
    }
   ],
   "source": [
    "list(range(11))"
   ]
  },
  {
   "cell_type": "markdown",
   "id": "13705696",
   "metadata": {},
   "source": [
    "# Practice"
   ]
  },
  {
   "cell_type": "code",
   "execution_count": 198,
   "id": "41b7c9bd",
   "metadata": {},
   "outputs": [],
   "source": [
    "l = [\"sudh\", 34, 34, 45, [34,45]]"
   ]
  },
  {
   "cell_type": "code",
   "execution_count": 199,
   "id": "0f05d010",
   "metadata": {},
   "outputs": [
    {
     "data": {
      "text/plain": [
       "'sudh'"
      ]
     },
     "execution_count": 199,
     "metadata": {},
     "output_type": "execute_result"
    }
   ],
   "source": [
    "l[0]"
   ]
  },
  {
   "cell_type": "code",
   "execution_count": 200,
   "id": "c735d07c",
   "metadata": {},
   "outputs": [
    {
     "data": {
      "text/plain": [
       "45"
      ]
     },
     "execution_count": 200,
     "metadata": {},
     "output_type": "execute_result"
    }
   ],
   "source": [
    "l[3]"
   ]
  },
  {
   "cell_type": "code",
   "execution_count": 201,
   "id": "4bb77ddb",
   "metadata": {},
   "outputs": [
    {
     "data": {
      "text/plain": [
       "['sudh', 34, 34]"
      ]
     },
     "execution_count": 201,
     "metadata": {},
     "output_type": "execute_result"
    }
   ],
   "source": [
    "l[0:3]"
   ]
  },
  {
   "cell_type": "code",
   "execution_count": 202,
   "id": "3f7c3e05",
   "metadata": {},
   "outputs": [
    {
     "data": {
      "text/plain": [
       "['sudh', 34, 34]"
      ]
     },
     "execution_count": 202,
     "metadata": {},
     "output_type": "execute_result"
    }
   ],
   "source": [
    "l[0:3:1]"
   ]
  },
  {
   "cell_type": "code",
   "execution_count": 203,
   "id": "2f440297",
   "metadata": {},
   "outputs": [
    {
     "data": {
      "text/plain": [
       "[45, 34, 34]"
      ]
     },
     "execution_count": 203,
     "metadata": {},
     "output_type": "execute_result"
    }
   ],
   "source": [
    "l[3:0:-1]"
   ]
  },
  {
   "cell_type": "code",
   "execution_count": 204,
   "id": "0bdb9e10",
   "metadata": {},
   "outputs": [
    {
     "data": {
      "text/plain": [
       "[[34, 45], 45, 34, 34, 'sudh']"
      ]
     },
     "execution_count": 204,
     "metadata": {},
     "output_type": "execute_result"
    }
   ],
   "source": [
    "l[::-1]"
   ]
  },
  {
   "cell_type": "code",
   "execution_count": 205,
   "id": "de184868",
   "metadata": {},
   "outputs": [
    {
     "data": {
      "text/plain": [
       "['sudh', 34, 34, 45, [34, 45]]"
      ]
     },
     "execution_count": 205,
     "metadata": {},
     "output_type": "execute_result"
    }
   ],
   "source": [
    "l"
   ]
  },
  {
   "cell_type": "code",
   "execution_count": 206,
   "id": "398489b9",
   "metadata": {},
   "outputs": [],
   "source": [
    "s = \"string\""
   ]
  },
  {
   "cell_type": "code",
   "execution_count": 207,
   "id": "e2d5cd7f",
   "metadata": {},
   "outputs": [
    {
     "ename": "TypeError",
     "evalue": "can only concatenate list (not \"str\") to list",
     "output_type": "error",
     "traceback": [
      "\u001b[1;31m---------------------------------------------------------------------------\u001b[0m",
      "\u001b[1;31mTypeError\u001b[0m                                 Traceback (most recent call last)",
      "\u001b[1;32m<ipython-input-207-922b9b913798>\u001b[0m in \u001b[0;36m<module>\u001b[1;34m\u001b[0m\n\u001b[0;32m      3\u001b[0m \u001b[1;31m# You can only concatenate similar data types\u001b[0m\u001b[1;33m\u001b[0m\u001b[1;33m\u001b[0m\u001b[1;33m\u001b[0m\u001b[0m\n\u001b[0;32m      4\u001b[0m \u001b[1;33m\u001b[0m\u001b[0m\n\u001b[1;32m----> 5\u001b[1;33m \u001b[0ml\u001b[0m \u001b[1;33m+\u001b[0m \u001b[0ms\u001b[0m\u001b[1;33m\u001b[0m\u001b[1;33m\u001b[0m\u001b[0m\n\u001b[0m",
      "\u001b[1;31mTypeError\u001b[0m: can only concatenate list (not \"str\") to list"
     ]
    }
   ],
   "source": [
    "# l is a list.\n",
    "# s is a string.\n",
    "# You can only concatenate similar data types.\n",
    "\n",
    "l + s"
   ]
  },
  {
   "cell_type": "code",
   "execution_count": 208,
   "id": "c8d249fd",
   "metadata": {},
   "outputs": [
    {
     "data": {
      "text/plain": [
       "['sudh', 34, 34, 45, [34, 45]]"
      ]
     },
     "execution_count": 208,
     "metadata": {},
     "output_type": "execute_result"
    }
   ],
   "source": [
    "l"
   ]
  },
  {
   "cell_type": "code",
   "execution_count": 209,
   "id": "3c1b2796",
   "metadata": {},
   "outputs": [
    {
     "data": {
      "text/plain": [
       "'string'"
      ]
     },
     "execution_count": 209,
     "metadata": {},
     "output_type": "execute_result"
    }
   ],
   "source": [
    "s"
   ]
  },
  {
   "cell_type": "code",
   "execution_count": 210,
   "id": "d1f9bace",
   "metadata": {},
   "outputs": [],
   "source": [
    "s1 = list(s)"
   ]
  },
  {
   "cell_type": "code",
   "execution_count": 212,
   "id": "e1047dff",
   "metadata": {},
   "outputs": [],
   "source": [
    "l = ['sudh', 34, 34, 45, [34, 45], ['s', 't', 'r', 'i', 'n', 'g']]"
   ]
  },
  {
   "cell_type": "code",
   "execution_count": 213,
   "id": "5979a4d5",
   "metadata": {},
   "outputs": [
    {
     "data": {
      "text/plain": [
       "['sudh', 34, 34, 45, [34, 45], ['s', 't', 'r', 'i', 'n', 'g']]"
      ]
     },
     "execution_count": 213,
     "metadata": {},
     "output_type": "execute_result"
    }
   ],
   "source": [
    "l"
   ]
  },
  {
   "cell_type": "code",
   "execution_count": 214,
   "id": "0eef9b1d",
   "metadata": {},
   "outputs": [],
   "source": [
    "s = ['sudh']"
   ]
  },
  {
   "cell_type": "code",
   "execution_count": 215,
   "id": "f9ab0f91",
   "metadata": {},
   "outputs": [
    {
     "data": {
      "text/plain": [
       "['sudh']"
      ]
     },
     "execution_count": 215,
     "metadata": {},
     "output_type": "execute_result"
    }
   ],
   "source": [
    "s"
   ]
  },
  {
   "cell_type": "code",
   "execution_count": 216,
   "id": "a4f1fcaf",
   "metadata": {},
   "outputs": [
    {
     "data": {
      "text/plain": [
       "['sudh',\n",
       " 34,\n",
       " 34,\n",
       " 45,\n",
       " [34, 45],\n",
       " ['s', 't', 'r', 'i', 'n', 'g'],\n",
       " 's',\n",
       " 't',\n",
       " 'r',\n",
       " 'i',\n",
       " 'n',\n",
       " 'g']"
      ]
     },
     "execution_count": 216,
     "metadata": {},
     "output_type": "execute_result"
    }
   ],
   "source": [
    "l + s1"
   ]
  },
  {
   "cell_type": "code",
   "execution_count": 217,
   "id": "a2ca3091",
   "metadata": {},
   "outputs": [
    {
     "data": {
      "text/plain": [
       "['sudh', 34, 34, 45, [34, 45], ['s', 't', 'r', 'i', 'n', 'g'], 'sudh']"
      ]
     },
     "execution_count": 217,
     "metadata": {},
     "output_type": "execute_result"
    }
   ],
   "source": [
    "l + s"
   ]
  },
  {
   "cell_type": "code",
   "execution_count": 218,
   "id": "92834369",
   "metadata": {},
   "outputs": [
    {
     "data": {
      "text/plain": [
       "['sudh', 34, 34, 45, [34, 45], ['s', 't', 'r', 'i', 'n', 'g']]"
      ]
     },
     "execution_count": 218,
     "metadata": {},
     "output_type": "execute_result"
    }
   ],
   "source": [
    "l"
   ]
  },
  {
   "cell_type": "code",
   "execution_count": 219,
   "id": "bcb22bad",
   "metadata": {},
   "outputs": [
    {
     "data": {
      "text/plain": [
       "['sudh',\n",
       " 34,\n",
       " 34,\n",
       " 45,\n",
       " [34, 45],\n",
       " ['s', 't', 'r', 'i', 'n', 'g'],\n",
       " 'sudh',\n",
       " 34,\n",
       " 34,\n",
       " 45,\n",
       " [34, 45],\n",
       " ['s', 't', 'r', 'i', 'n', 'g'],\n",
       " 'sudh',\n",
       " 34,\n",
       " 34,\n",
       " 45,\n",
       " [34, 45],\n",
       " ['s', 't', 'r', 'i', 'n', 'g'],\n",
       " 'sudh',\n",
       " 34,\n",
       " 34,\n",
       " 45,\n",
       " [34, 45],\n",
       " ['s', 't', 'r', 'i', 'n', 'g']]"
      ]
     },
     "execution_count": 219,
     "metadata": {},
     "output_type": "execute_result"
    }
   ],
   "source": [
    "l*4"
   ]
  },
  {
   "cell_type": "code",
   "execution_count": 220,
   "id": "23094efc",
   "metadata": {},
   "outputs": [
    {
     "data": {
      "text/plain": [
       "['sudh']"
      ]
     },
     "execution_count": 220,
     "metadata": {},
     "output_type": "execute_result"
    }
   ],
   "source": [
    "s"
   ]
  },
  {
   "cell_type": "code",
   "execution_count": 221,
   "id": "d1216e51",
   "metadata": {},
   "outputs": [
    {
     "data": {
      "text/plain": [
       "1"
      ]
     },
     "execution_count": 221,
     "metadata": {},
     "output_type": "execute_result"
    }
   ],
   "source": [
    "len(s)"
   ]
  },
  {
   "cell_type": "code",
   "execution_count": 222,
   "id": "5144eb29",
   "metadata": {},
   "outputs": [
    {
     "data": {
      "text/plain": [
       "6"
      ]
     },
     "execution_count": 222,
     "metadata": {},
     "output_type": "execute_result"
    }
   ],
   "source": [
    "len(l)"
   ]
  },
  {
   "cell_type": "code",
   "execution_count": 223,
   "id": "c9d0a2e0",
   "metadata": {},
   "outputs": [
    {
     "data": {
      "text/plain": [
       "['sudh', 34, 34, 45, [34, 45], ['s', 't', 'r', 'i', 'n', 'g']]"
      ]
     },
     "execution_count": 223,
     "metadata": {},
     "output_type": "execute_result"
    }
   ],
   "source": [
    "l"
   ]
  },
  {
   "cell_type": "code",
   "execution_count": 224,
   "id": "5f5f5dad",
   "metadata": {},
   "outputs": [
    {
     "data": {
      "text/plain": [
       "True"
      ]
     },
     "execution_count": 224,
     "metadata": {},
     "output_type": "execute_result"
    }
   ],
   "source": [
    "'sudh' in l"
   ]
  },
  {
   "cell_type": "code",
   "execution_count": 225,
   "id": "89e198a8",
   "metadata": {},
   "outputs": [
    {
     "data": {
      "text/plain": [
       "True"
      ]
     },
     "execution_count": 225,
     "metadata": {},
     "output_type": "execute_result"
    }
   ],
   "source": [
    "34 in l"
   ]
  },
  {
   "cell_type": "code",
   "execution_count": 226,
   "id": "7f230f3d",
   "metadata": {},
   "outputs": [
    {
     "data": {
      "text/plain": [
       "True"
      ]
     },
     "execution_count": 226,
     "metadata": {},
     "output_type": "execute_result"
    }
   ],
   "source": [
    "[34,45] in l"
   ]
  },
  {
   "cell_type": "markdown",
   "id": "38cc34d7",
   "metadata": {
    "id": "8F6-qBmaB5D3"
   },
   "source": [
    "# Practice"
   ]
  },
  {
   "cell_type": "code",
   "execution_count": 1,
   "id": "93e7231f",
   "metadata": {
    "id": "U5t4E1w-9ml2"
   },
   "outputs": [],
   "source": [
    "l = [\"sudh\", 234, 45.56, [45,56,6,\"c\"],True]"
   ]
  },
  {
   "cell_type": "code",
   "execution_count": 3,
   "id": "bd592aec",
   "metadata": {},
   "outputs": [
    {
     "data": {
      "text/plain": [
       "2"
      ]
     },
     "execution_count": 3,
     "metadata": {},
     "output_type": "execute_result"
    }
   ],
   "source": [
    "l.index(45.56)"
   ]
  },
  {
   "cell_type": "code",
   "execution_count": null,
   "id": "86609411",
   "metadata": {
    "colab": {
     "base_uri": "https://localhost:8080/"
    },
    "executionInfo": {
     "elapsed": 4,
     "status": "ok",
     "timestamp": 1626887206337,
     "user": {
      "displayName": "Siddharth Swain",
      "photoUrl": "",
      "userId": "12055456511825659152"
     },
     "user_tz": -330
    },
    "id": "ZqL6iL6RCBOs",
    "outputId": "b93160ce-462b-4f69-9dbf-0a3bfb09a706"
   },
   "outputs": [
    {
     "name": "stdout",
     "output_type": "stream",
     "text": [
      "sudh\n",
      "234\n",
      "45.56\n",
      "[45, 56, 6, 'c']\n",
      "True\n"
     ]
    }
   ],
   "source": [
    "for i in l:\n",
    "  print(i)"
   ]
  },
  {
   "cell_type": "code",
   "execution_count": null,
   "id": "1cae1d8b",
   "metadata": {
    "colab": {
     "base_uri": "https://localhost:8080/",
     "height": 35
    },
    "executionInfo": {
     "elapsed": 9,
     "status": "ok",
     "timestamp": 1626887635154,
     "user": {
      "displayName": "Siddharth Swain",
      "photoUrl": "",
      "userId": "12055456511825659152"
     },
     "user_tz": -330
    },
    "id": "JScAIuCICC-D",
    "outputId": "2507cadc-d461-4739-e5de-5b23bfbedeab"
   },
   "outputs": [
    {
     "data": {
      "application/vnd.google.colaboratory.intrinsic+json": {
       "type": "string"
      },
      "text/plain": [
       "'sudh'"
      ]
     },
     "execution_count": 4,
     "metadata": {
      "tags": []
     },
     "output_type": "execute_result"
    }
   ],
   "source": [
    "l[0]"
   ]
  },
  {
   "cell_type": "code",
   "execution_count": null,
   "id": "44bb4e78",
   "metadata": {
    "colab": {
     "base_uri": "https://localhost:8080/"
    },
    "executionInfo": {
     "elapsed": 391,
     "status": "ok",
     "timestamp": 1626887646551,
     "user": {
      "displayName": "Siddharth Swain",
      "photoUrl": "",
      "userId": "12055456511825659152"
     },
     "user_tz": -330
    },
    "id": "M4xI6miWDzzE",
    "outputId": "98445740-fbf5-4aa6-daf6-f7e4844cfdd4"
   },
   "outputs": [
    {
     "data": {
      "text/plain": [
       "45"
      ]
     },
     "execution_count": 5,
     "metadata": {
      "tags": []
     },
     "output_type": "execute_result"
    }
   ],
   "source": [
    "l[3][0]"
   ]
  },
  {
   "cell_type": "code",
   "execution_count": null,
   "id": "f4de886c",
   "metadata": {
    "colab": {
     "base_uri": "https://localhost:8080/"
    },
    "executionInfo": {
     "elapsed": 380,
     "status": "ok",
     "timestamp": 1626887661607,
     "user": {
      "displayName": "Siddharth Swain",
      "photoUrl": "",
      "userId": "12055456511825659152"
     },
     "user_tz": -330
    },
    "id": "kYpZvZsmD2Xq",
    "outputId": "a9319b43-e3c3-4f35-ff5e-433fa25fc908"
   },
   "outputs": [
    {
     "data": {
      "text/plain": [
       "[True, [45, 56, 6, 'c'], 45.56, 234, 'sudh']"
      ]
     },
     "execution_count": 8,
     "metadata": {
      "tags": []
     },
     "output_type": "execute_result"
    }
   ],
   "source": [
    "l[::-1]"
   ]
  },
  {
   "cell_type": "code",
   "execution_count": null,
   "id": "876f9e2d",
   "metadata": {
    "colab": {
     "base_uri": "https://localhost:8080/"
    },
    "executionInfo": {
     "elapsed": 360,
     "status": "ok",
     "timestamp": 1626887720691,
     "user": {
      "displayName": "Siddharth Swain",
      "photoUrl": "",
      "userId": "12055456511825659152"
     },
     "user_tz": -330
    },
    "id": "xRH4kjkQD3Uy",
    "outputId": "daa1eb4b-54b2-432c-c174-ee6b8dfd425f"
   },
   "outputs": [
    {
     "name": "stdout",
     "output_type": "stream",
     "text": [
      "sudh is not a list.\n",
      "234 is not a list.\n",
      "45.56 is not a list.\n",
      "[45, 56, 6, 'c'] is a list.\n",
      "True is not a list.\n"
     ]
    }
   ],
   "source": [
    "for i in l:\n",
    "  if type(i) == list:\n",
    "    print(\"{} is a list.\".format(i))\n",
    "  else:\n",
    "    print(\"{} is not a list.\".format(i))"
   ]
  },
  {
   "cell_type": "code",
   "execution_count": null,
   "id": "c16c43c8",
   "metadata": {
    "id": "QdWjKb2tEIgC"
   },
   "outputs": [],
   "source": [
    "l1 = [345,3456,\"ineuron\",\"tech\"]"
   ]
  },
  {
   "cell_type": "code",
   "execution_count": null,
   "id": "3a93012b",
   "metadata": {
    "colab": {
     "base_uri": "https://localhost:8080/"
    },
    "executionInfo": {
     "elapsed": 3,
     "status": "ok",
     "timestamp": 1626887774437,
     "user": {
      "displayName": "Siddharth Swain",
      "photoUrl": "",
      "userId": "12055456511825659152"
     },
     "user_tz": -330
    },
    "id": "9E2ouA2nEVgK",
    "outputId": "74144527-f876-420e-c0b3-c6b89e7a35f8"
   },
   "outputs": [
    {
     "data": {
      "text/plain": [
       "['sudh', 234, 45.56, [45, 56, 6, 'c'], True]"
      ]
     },
     "execution_count": 11,
     "metadata": {
      "tags": []
     },
     "output_type": "execute_result"
    }
   ],
   "source": [
    "l"
   ]
  },
  {
   "cell_type": "code",
   "execution_count": null,
   "id": "7d5e768c",
   "metadata": {
    "colab": {
     "base_uri": "https://localhost:8080/"
    },
    "executionInfo": {
     "elapsed": 533,
     "status": "ok",
     "timestamp": 1626887779481,
     "user": {
      "displayName": "Siddharth Swain",
      "photoUrl": "",
      "userId": "12055456511825659152"
     },
     "user_tz": -330
    },
    "id": "hw28ClZ7EVwS",
    "outputId": "1305e81e-09b1-4b92-e746-f0d68598b8b7"
   },
   "outputs": [
    {
     "data": {
      "text/plain": [
       "['sudh', 234, 45.56, [45, 56, 6, 'c'], True, 345, 3456, 'ineuron', 'tech']"
      ]
     },
     "execution_count": 12,
     "metadata": {
      "tags": []
     },
     "output_type": "execute_result"
    }
   ],
   "source": [
    "l + l1"
   ]
  },
  {
   "cell_type": "code",
   "execution_count": null,
   "id": "8e43ed0b",
   "metadata": {
    "colab": {
     "base_uri": "https://localhost:8080/"
    },
    "executionInfo": {
     "elapsed": 354,
     "status": "ok",
     "timestamp": 1626887801894,
     "user": {
      "displayName": "Siddharth Swain",
      "photoUrl": "",
      "userId": "12055456511825659152"
     },
     "user_tz": -330
    },
    "id": "Iku8aIDTEW2z",
    "outputId": "ce1a29a6-4250-4ead-fd19-036634e1493d"
   },
   "outputs": [
    {
     "data": {
      "text/plain": [
       "[345, 3456, 'ineuron', 'tech', 345, 3456, 'ineuron', 'tech']"
      ]
     },
     "execution_count": 14,
     "metadata": {
      "tags": []
     },
     "output_type": "execute_result"
    }
   ],
   "source": [
    "l1 * 2"
   ]
  },
  {
   "cell_type": "code",
   "execution_count": null,
   "id": "f8defea2",
   "metadata": {
    "colab": {
     "base_uri": "https://localhost:8080/"
    },
    "executionInfo": {
     "elapsed": 363,
     "status": "ok",
     "timestamp": 1626887808976,
     "user": {
      "displayName": "Siddharth Swain",
      "photoUrl": "",
      "userId": "12055456511825659152"
     },
     "user_tz": -330
    },
    "id": "ZfP8loCUEa0a",
    "outputId": "6730196c-fa5f-4f8a-a447-b4d5452dfbf1"
   },
   "outputs": [
    {
     "data": {
      "text/plain": [
       "4"
      ]
     },
     "execution_count": 15,
     "metadata": {
      "tags": []
     },
     "output_type": "execute_result"
    }
   ],
   "source": [
    "len(l1)"
   ]
  },
  {
   "cell_type": "code",
   "execution_count": null,
   "id": "c23ad942",
   "metadata": {
    "colab": {
     "base_uri": "https://localhost:8080/"
    },
    "executionInfo": {
     "elapsed": 386,
     "status": "ok",
     "timestamp": 1626887813638,
     "user": {
      "displayName": "Siddharth Swain",
      "photoUrl": "",
      "userId": "12055456511825659152"
     },
     "user_tz": -330
    },
    "id": "L1Wa37ALEeEk",
    "outputId": "b2cb1158-29d6-4932-a8bd-73b72caeac12"
   },
   "outputs": [
    {
     "data": {
      "text/plain": [
       "True"
      ]
     },
     "execution_count": 16,
     "metadata": {
      "tags": []
     },
     "output_type": "execute_result"
    }
   ],
   "source": [
    "True in l"
   ]
  },
  {
   "cell_type": "code",
   "execution_count": null,
   "id": "727b4216",
   "metadata": {
    "colab": {
     "base_uri": "https://localhost:8080/"
    },
    "executionInfo": {
     "elapsed": 364,
     "status": "ok",
     "timestamp": 1626887819138,
     "user": {
      "displayName": "Siddharth Swain",
      "photoUrl": "",
      "userId": "12055456511825659152"
     },
     "user_tz": -330
    },
    "id": "2oh8beiUEfVq",
    "outputId": "f74fed23-e830-455a-d0ad-3d3beb7a8a8e"
   },
   "outputs": [
    {
     "data": {
      "text/plain": [
       "False"
      ]
     },
     "execution_count": 17,
     "metadata": {
      "tags": []
     },
     "output_type": "execute_result"
    }
   ],
   "source": [
    "False in l"
   ]
  },
  {
   "cell_type": "code",
   "execution_count": null,
   "id": "96aa3724",
   "metadata": {
    "colab": {
     "base_uri": "https://localhost:8080/"
    },
    "executionInfo": {
     "elapsed": 355,
     "status": "ok",
     "timestamp": 1626887822637,
     "user": {
      "displayName": "Siddharth Swain",
      "photoUrl": "",
      "userId": "12055456511825659152"
     },
     "user_tz": -330
    },
    "id": "2s2BTuGuEggC",
    "outputId": "99358695-5d4b-436c-d1f3-f83e1989714b"
   },
   "outputs": [
    {
     "data": {
      "text/plain": [
       "False"
      ]
     },
     "execution_count": 18,
     "metadata": {
      "tags": []
     },
     "output_type": "execute_result"
    }
   ],
   "source": [
    "345 in l"
   ]
  },
  {
   "cell_type": "code",
   "execution_count": null,
   "id": "e2fa7e0b",
   "metadata": {
    "colab": {
     "base_uri": "https://localhost:8080/"
    },
    "executionInfo": {
     "elapsed": 373,
     "status": "ok",
     "timestamp": 1626887825847,
     "user": {
      "displayName": "Siddharth Swain",
      "photoUrl": "",
      "userId": "12055456511825659152"
     },
     "user_tz": -330
    },
    "id": "EA-E4ON0EhVB",
    "outputId": "f3e91e90-03eb-49b0-9c5a-ede895439100"
   },
   "outputs": [
    {
     "data": {
      "text/plain": [
       "False"
      ]
     },
     "execution_count": 19,
     "metadata": {
      "tags": []
     },
     "output_type": "execute_result"
    }
   ],
   "source": [
    "333 in l"
   ]
  },
  {
   "cell_type": "code",
   "execution_count": null,
   "id": "7742e204",
   "metadata": {
    "colab": {
     "base_uri": "https://localhost:8080/"
    },
    "executionInfo": {
     "elapsed": 359,
     "status": "ok",
     "timestamp": 1626887836362,
     "user": {
      "displayName": "Siddharth Swain",
      "photoUrl": "",
      "userId": "12055456511825659152"
     },
     "user_tz": -330
    },
    "id": "RKNvwsjNEiOB",
    "outputId": "fdd84827-191c-40f1-91f9-1eebc0949776"
   },
   "outputs": [
    {
     "data": {
      "text/plain": [
       "False"
      ]
     },
     "execution_count": 21,
     "metadata": {
      "tags": []
     },
     "output_type": "execute_result"
    }
   ],
   "source": [
    "555 in l1"
   ]
  },
  {
   "cell_type": "markdown",
   "id": "5825c525",
   "metadata": {
    "id": "2EDsL3OqEnZX"
   },
   "source": [
    "# Practice"
   ]
  },
  {
   "cell_type": "code",
   "execution_count": null,
   "id": "7d4188fd",
   "metadata": {
    "colab": {
     "base_uri": "https://localhost:8080/"
    },
    "executionInfo": {
     "elapsed": 369,
     "status": "ok",
     "timestamp": 1626887872452,
     "user": {
      "displayName": "Siddharth Swain",
      "photoUrl": "",
      "userId": "12055456511825659152"
     },
     "user_tz": -330
    },
    "id": "Z2L3ELuvEjjS",
    "outputId": "a9161057-c410-4c5e-f216-9f8cc4842448"
   },
   "outputs": [
    {
     "data": {
      "text/plain": [
       "['sudh', 234, 45.56, [45, 56, 6, 'c'], True]"
      ]
     },
     "execution_count": 22,
     "metadata": {
      "tags": []
     },
     "output_type": "execute_result"
    }
   ],
   "source": [
    "l"
   ]
  },
  {
   "cell_type": "code",
   "execution_count": null,
   "id": "d468cf8e",
   "metadata": {
    "colab": {
     "base_uri": "https://localhost:8080/",
     "height": 162
    },
    "executionInfo": {
     "elapsed": 360,
     "status": "error",
     "timestamp": 1626887876596,
     "user": {
      "displayName": "Siddharth Swain",
      "photoUrl": "",
      "userId": "12055456511825659152"
     },
     "user_tz": -330
    },
    "id": "KdhcKdeDEtvp",
    "outputId": "29ca1f0b-0d7d-4ac6-fb62-0b099c2865a4"
   },
   "outputs": [
    {
     "ename": "TypeError",
     "evalue": "ignored",
     "output_type": "error",
     "traceback": [
      "\u001b[0;31m---------------------------------------------------------------------------\u001b[0m",
      "\u001b[0;31mTypeError\u001b[0m                                 Traceback (most recent call last)",
      "\u001b[0;32m<ipython-input-23-fd8eeca349cc>\u001b[0m in \u001b[0;36m<module>\u001b[0;34m()\u001b[0m\n\u001b[0;32m----> 1\u001b[0;31m \u001b[0mmax\u001b[0m\u001b[0;34m(\u001b[0m\u001b[0ml\u001b[0m\u001b[0;34m)\u001b[0m\u001b[0;34m\u001b[0m\u001b[0;34m\u001b[0m\u001b[0m\n\u001b[0m",
      "\u001b[0;31mTypeError\u001b[0m: '>' not supported between instances of 'int' and 'str'"
     ]
    }
   ],
   "source": [
    "max(l)"
   ]
  },
  {
   "cell_type": "code",
   "execution_count": null,
   "id": "78862f17",
   "metadata": {
    "id": "Gkfxa9OaEuux"
   },
   "outputs": [],
   "source": [
    "l1 = [3,4,5,9999999999999999]"
   ]
  },
  {
   "cell_type": "code",
   "execution_count": null,
   "id": "464896c1",
   "metadata": {
    "colab": {
     "base_uri": "https://localhost:8080/"
    },
    "executionInfo": {
     "elapsed": 381,
     "status": "ok",
     "timestamp": 1626887896244,
     "user": {
      "displayName": "Siddharth Swain",
      "photoUrl": "",
      "userId": "12055456511825659152"
     },
     "user_tz": -330
    },
    "id": "YKugBOh6EyBS",
    "outputId": "329b9aef-b965-457c-e279-086a4df8a180"
   },
   "outputs": [
    {
     "data": {
      "text/plain": [
       "9999999999999999"
      ]
     },
     "execution_count": 25,
     "metadata": {
      "tags": []
     },
     "output_type": "execute_result"
    }
   ],
   "source": [
    "max(l1)"
   ]
  },
  {
   "cell_type": "code",
   "execution_count": null,
   "id": "efdc21a8",
   "metadata": {
    "id": "kaALdw6hEzey"
   },
   "outputs": [],
   "source": [
    "l2 = [\"s\",\"ss\",\"sss\",\"SSS\"]"
   ]
  },
  {
   "cell_type": "code",
   "execution_count": null,
   "id": "fa02877b",
   "metadata": {
    "colab": {
     "base_uri": "https://localhost:8080/",
     "height": 35
    },
    "executionInfo": {
     "elapsed": 515,
     "status": "ok",
     "timestamp": 1626887916100,
     "user": {
      "displayName": "Siddharth Swain",
      "photoUrl": "",
      "userId": "12055456511825659152"
     },
     "user_tz": -330
    },
    "id": "k-pIsWfCE3di",
    "outputId": "366dd283-ddfa-4f0e-eb39-9172071ee4bf"
   },
   "outputs": [
    {
     "data": {
      "application/vnd.google.colaboratory.intrinsic+json": {
       "type": "string"
      },
      "text/plain": [
       "'sss'"
      ]
     },
     "execution_count": 27,
     "metadata": {
      "tags": []
     },
     "output_type": "execute_result"
    }
   ],
   "source": [
    "max(l2)"
   ]
  },
  {
   "cell_type": "code",
   "execution_count": 1,
   "id": "8a3ebdbc",
   "metadata": {
    "colab": {
     "base_uri": "https://localhost:8080/"
    },
    "executionInfo": {
     "elapsed": 7,
     "status": "ok",
     "timestamp": 1626949717270,
     "user": {
      "displayName": "Siddharth Swain",
      "photoUrl": "",
      "userId": "12055456511825659152"
     },
     "user_tz": -330
    },
    "id": "Pnma9vSIE4Hy",
    "outputId": "08b84090-c21e-410e-fe2d-54827ad626e0"
   },
   "outputs": [
    {
     "name": "stdout",
     "output_type": "stream",
     "text": [
      "77\n"
     ]
    }
   ],
   "source": [
    "print(max([2,3,4,6,77]))"
   ]
  },
  {
   "cell_type": "code",
   "execution_count": 2,
   "id": "e50ec487",
   "metadata": {
    "colab": {
     "base_uri": "https://localhost:8080/",
     "height": 35
    },
    "executionInfo": {
     "elapsed": 1163,
     "status": "ok",
     "timestamp": 1626949759230,
     "user": {
      "displayName": "Siddharth Swain",
      "photoUrl": "",
      "userId": "12055456511825659152"
     },
     "user_tz": -330
    },
    "id": "IX8mM_4ywkAl",
    "outputId": "7e48baf5-60f0-4bbf-840f-babf64305865"
   },
   "outputs": [
    {
     "data": {
      "application/vnd.google.colaboratory.intrinsic+json": {
       "type": "string"
      },
      "text/plain": [
       "'z'"
      ]
     },
     "execution_count": 2,
     "metadata": {
      "tags": []
     },
     "output_type": "execute_result"
    }
   ],
   "source": [
    "max(\"sudh\",\"z\",\"AIIIIIIIIIIIIII\")"
   ]
  },
  {
   "cell_type": "code",
   "execution_count": 3,
   "id": "dffb6a2b",
   "metadata": {
    "colab": {
     "base_uri": "https://localhost:8080/",
     "height": 35
    },
    "executionInfo": {
     "elapsed": 5,
     "status": "ok",
     "timestamp": 1626949775495,
     "user": {
      "displayName": "Siddharth Swain",
      "photoUrl": "",
      "userId": "12055456511825659152"
     },
     "user_tz": -330
    },
    "id": "njEMIlqpwyXU",
    "outputId": "a70b97b2-df8a-4098-81a8-bb7330815aad"
   },
   "outputs": [
    {
     "data": {
      "application/vnd.google.colaboratory.intrinsic+json": {
       "type": "string"
      },
      "text/plain": [
       "'z'"
      ]
     },
     "execution_count": 3,
     "metadata": {
      "tags": []
     },
     "output_type": "execute_result"
    }
   ],
   "source": [
    "max(\"sudh\",\"z\",\"ZZZZZ\",\"AIIIIIIIIIIIIII\")"
   ]
  },
  {
   "cell_type": "code",
   "execution_count": 227,
   "id": "f0fb7cfd",
   "metadata": {},
   "outputs": [
    {
     "data": {
      "text/plain": [
       "True"
      ]
     },
     "execution_count": 227,
     "metadata": {},
     "output_type": "execute_result"
    }
   ],
   "source": [
    "45 in l"
   ]
  },
  {
   "cell_type": "code",
   "execution_count": 228,
   "id": "40d50209",
   "metadata": {},
   "outputs": [
    {
     "data": {
      "text/plain": [
       "True"
      ]
     },
     "execution_count": 228,
     "metadata": {},
     "output_type": "execute_result"
    }
   ],
   "source": [
    "['s', 't', 'r', 'i', 'n', 'g'] in l"
   ]
  },
  {
   "cell_type": "markdown",
   "id": "c744a083",
   "metadata": {
    "id": "q-KiOAx3w4en"
   },
   "source": [
    "# Practice"
   ]
  },
  {
   "cell_type": "code",
   "execution_count": 4,
   "id": "714a329c",
   "metadata": {
    "colab": {
     "base_uri": "https://localhost:8080/",
     "height": 35
    },
    "executionInfo": {
     "elapsed": 442,
     "status": "ok",
     "timestamp": 1626949818686,
     "user": {
      "displayName": "Siddharth Swain",
      "photoUrl": "",
      "userId": "12055456511825659152"
     },
     "user_tz": -330
    },
    "id": "SS-WZMvkw2Ks",
    "outputId": "7933f308-1b5d-49d6-d9c6-962ca1200e12"
   },
   "outputs": [
    {
     "data": {
      "application/vnd.google.colaboratory.intrinsic+json": {
       "type": "string"
      },
      "text/plain": [
       "'FFDDDDDDD'"
      ]
     },
     "execution_count": 4,
     "metadata": {
      "tags": []
     },
     "output_type": "execute_result"
    }
   ],
   "source": [
    "min([\"fd\",\"FFDDDDDDD\",\"zzzzzzzzzzzzzzzzzzzzzzzzz\"])"
   ]
  },
  {
   "cell_type": "code",
   "execution_count": 5,
   "id": "2c78d67d",
   "metadata": {
    "colab": {
     "base_uri": "https://localhost:8080/"
    },
    "executionInfo": {
     "elapsed": 425,
     "status": "ok",
     "timestamp": 1626949841118,
     "user": {
      "displayName": "Siddharth Swain",
      "photoUrl": "",
      "userId": "12055456511825659152"
     },
     "user_tz": -330
    },
    "id": "xeXeGkJbxBS8",
    "outputId": "d4e1180e-79db-4845-da9f-9c84c4a93446"
   },
   "outputs": [
    {
     "data": {
      "text/plain": [
       "2"
      ]
     },
     "execution_count": 5,
     "metadata": {
      "tags": []
     },
     "output_type": "execute_result"
    }
   ],
   "source": [
    "min([2,3,4,5,99,100])"
   ]
  },
  {
   "cell_type": "code",
   "execution_count": 6,
   "id": "7a882246",
   "metadata": {
    "colab": {
     "base_uri": "https://localhost:8080/",
     "height": 163
    },
    "executionInfo": {
     "elapsed": 436,
     "status": "error",
     "timestamp": 1626949851709,
     "user": {
      "displayName": "Siddharth Swain",
      "photoUrl": "",
      "userId": "12055456511825659152"
     },
     "user_tz": -330
    },
    "id": "KdNop6ToxGyM",
    "outputId": "fa7c92b4-2b4e-4bcd-b8d9-8bb0e5d2871d"
   },
   "outputs": [
    {
     "ename": "TypeError",
     "evalue": "ignored",
     "output_type": "error",
     "traceback": [
      "\u001b[0;31m---------------------------------------------------------------------------\u001b[0m",
      "\u001b[0;31mTypeError\u001b[0m                                 Traceback (most recent call last)",
      "\u001b[0;32m<ipython-input-6-118cbb1926c4>\u001b[0m in \u001b[0;36m<module>\u001b[0;34m()\u001b[0m\n\u001b[0;32m----> 1\u001b[0;31m \u001b[0mmin\u001b[0m\u001b[0;34m(\u001b[0m\u001b[0;34m[\u001b[0m\u001b[0;34m\"strrrrr\"\u001b[0m\u001b[0;34m,\u001b[0m \u001b[0;36m99\u001b[0m\u001b[0;34m,\u001b[0m \u001b[0;36m100\u001b[0m\u001b[0;34m]\u001b[0m\u001b[0;34m)\u001b[0m\u001b[0;34m\u001b[0m\u001b[0;34m\u001b[0m\u001b[0m\n\u001b[0m",
      "\u001b[0;31mTypeError\u001b[0m: '<' not supported between instances of 'int' and 'str'"
     ]
    }
   ],
   "source": [
    "min([\"strrrrr\", 99, 100])"
   ]
  },
  {
   "cell_type": "code",
   "execution_count": 1,
   "id": "622712c4",
   "metadata": {
    "executionInfo": {
     "elapsed": 411,
     "status": "ok",
     "timestamp": 1626950004478,
     "user": {
      "displayName": "Siddharth Swain",
      "photoUrl": "",
      "userId": "12055456511825659152"
     },
     "user_tz": -330
    },
    "id": "_qD96yNFxJXc"
   },
   "outputs": [],
   "source": [
    "l = [1,2,3,4]"
   ]
  },
  {
   "cell_type": "code",
   "execution_count": 8,
   "id": "30fe5601",
   "metadata": {
    "executionInfo": {
     "elapsed": 408,
     "status": "ok",
     "timestamp": 1626950011923,
     "user": {
      "displayName": "Siddharth Swain",
      "photoUrl": "",
      "userId": "12055456511825659152"
     },
     "user_tz": -330
    },
    "id": "5kD1litBxuq8"
   },
   "outputs": [],
   "source": [
    "l.append([1,2,3,4])"
   ]
  },
  {
   "cell_type": "code",
   "execution_count": 9,
   "id": "e386bd46",
   "metadata": {
    "colab": {
     "base_uri": "https://localhost:8080/"
    },
    "executionInfo": {
     "elapsed": 3,
     "status": "ok",
     "timestamp": 1626950015898,
     "user": {
      "displayName": "Siddharth Swain",
      "photoUrl": "",
      "userId": "12055456511825659152"
     },
     "user_tz": -330
    },
    "id": "x_NOaPOBxwfM",
    "outputId": "81949d55-32c6-44ce-9a73-6c288597d016"
   },
   "outputs": [
    {
     "data": {
      "text/plain": [
       "[1, 2, 3, 4, [1, 2, 3, 4]]"
      ]
     },
     "execution_count": 9,
     "metadata": {
      "tags": []
     },
     "output_type": "execute_result"
    }
   ],
   "source": [
    "l"
   ]
  },
  {
   "cell_type": "code",
   "execution_count": 10,
   "id": "bed8f244",
   "metadata": {
    "colab": {
     "base_uri": "https://localhost:8080/"
    },
    "executionInfo": {
     "elapsed": 418,
     "status": "ok",
     "timestamp": 1626950024786,
     "user": {
      "displayName": "Siddharth Swain",
      "photoUrl": "",
      "userId": "12055456511825659152"
     },
     "user_tz": -330
    },
    "id": "toAhldfFxxS0",
    "outputId": "93d335ae-775c-438b-d9f6-935f711c32a0"
   },
   "outputs": [
    {
     "data": {
      "text/plain": [
       "[1, 2, 3, 4, [1, 2, 3, 4], (6+4j)]"
      ]
     },
     "execution_count": 10,
     "metadata": {
      "tags": []
     },
     "output_type": "execute_result"
    }
   ],
   "source": [
    "l.append(6+4j)\n",
    "l"
   ]
  },
  {
   "cell_type": "code",
   "execution_count": 11,
   "id": "bbda9e17",
   "metadata": {
    "colab": {
     "base_uri": "https://localhost:8080/",
     "height": 163
    },
    "executionInfo": {
     "elapsed": 429,
     "status": "error",
     "timestamp": 1626950041551,
     "user": {
      "displayName": "Siddharth Swain",
      "photoUrl": "",
      "userId": "12055456511825659152"
     },
     "user_tz": -330
    },
    "id": "1-vgWejgxzck",
    "outputId": "1cc02155-fafd-400d-c9b0-b86abc2c6e04"
   },
   "outputs": [
    {
     "ename": "TypeError",
     "evalue": "ignored",
     "output_type": "error",
     "traceback": [
      "\u001b[0;31m---------------------------------------------------------------------------\u001b[0m",
      "\u001b[0;31mTypeError\u001b[0m                                 Traceback (most recent call last)",
      "\u001b[0;32m<ipython-input-11-c2dbfee94b38>\u001b[0m in \u001b[0;36m<module>\u001b[0;34m()\u001b[0m\n\u001b[0;32m----> 1\u001b[0;31m \u001b[0ml\u001b[0m \u001b[0;34m+\u001b[0m \u001b[0;34m\"sudh\"\u001b[0m\u001b[0;34m\u001b[0m\u001b[0;34m\u001b[0m\u001b[0m\n\u001b[0m",
      "\u001b[0;31mTypeError\u001b[0m: can only concatenate list (not \"str\") to list"
     ]
    }
   ],
   "source": [
    "l + \"sudh\""
   ]
  },
  {
   "cell_type": "code",
   "execution_count": 2,
   "id": "d315df9b",
   "metadata": {},
   "outputs": [
    {
     "data": {
      "text/plain": [
       "[1, 2, 3, 4, 'sudh']"
      ]
     },
     "execution_count": 2,
     "metadata": {},
     "output_type": "execute_result"
    }
   ],
   "source": [
    "l + [\"sudh\"]"
   ]
  },
  {
   "cell_type": "code",
   "execution_count": 12,
   "id": "cd7a1da7",
   "metadata": {
    "colab": {
     "base_uri": "https://localhost:8080/"
    },
    "executionInfo": {
     "elapsed": 416,
     "status": "ok",
     "timestamp": 1626950070765,
     "user": {
      "displayName": "Siddharth Swain",
      "photoUrl": "",
      "userId": "12055456511825659152"
     },
     "user_tz": -330
    },
    "id": "qWOnzdXWx3tr",
    "outputId": "ccfd533d-e97e-4aa4-9e6a-c1ad395a4b2c"
   },
   "outputs": [
    {
     "data": {
      "text/plain": [
       "[1, 2, 3, 4, [1, 2, 3, 4], (6+4j)]"
      ]
     },
     "execution_count": 12,
     "metadata": {
      "tags": []
     },
     "output_type": "execute_result"
    }
   ],
   "source": [
    "l"
   ]
  },
  {
   "cell_type": "code",
   "execution_count": 13,
   "id": "34319881",
   "metadata": {
    "colab": {
     "base_uri": "https://localhost:8080/"
    },
    "executionInfo": {
     "elapsed": 419,
     "status": "ok",
     "timestamp": 1626950094857,
     "user": {
      "displayName": "Siddharth Swain",
      "photoUrl": "",
      "userId": "12055456511825659152"
     },
     "user_tz": -330
    },
    "id": "vF0ZbmeHx-sD",
    "outputId": "141d60b7-53b4-4ff5-ed5b-e8e6c58364ac"
   },
   "outputs": [
    {
     "data": {
      "text/plain": [
       "['11111111111', 1, 2, 3, 4, [1, 2, 3, 4], (6+4j)]"
      ]
     },
     "execution_count": 13,
     "metadata": {
      "tags": []
     },
     "output_type": "execute_result"
    }
   ],
   "source": [
    "l.insert(0,\"11111111111\")\n",
    "l"
   ]
  },
  {
   "cell_type": "code",
   "execution_count": 14,
   "id": "47b4937b",
   "metadata": {
    "executionInfo": {
     "elapsed": 407,
     "status": "ok",
     "timestamp": 1626950114170,
     "user": {
      "displayName": "Siddharth Swain",
      "photoUrl": "",
      "userId": "12055456511825659152"
     },
     "user_tz": -330
    },
    "id": "XBw981CvyEkc"
   },
   "outputs": [],
   "source": [
    "l.insert(1,[\"wow\"])"
   ]
  },
  {
   "cell_type": "code",
   "execution_count": 15,
   "id": "0c155033",
   "metadata": {
    "colab": {
     "base_uri": "https://localhost:8080/"
    },
    "executionInfo": {
     "elapsed": 436,
     "status": "ok",
     "timestamp": 1626950118172,
     "user": {
      "displayName": "Siddharth Swain",
      "photoUrl": "",
      "userId": "12055456511825659152"
     },
     "user_tz": -330
    },
    "id": "qivFmM6HyJc8",
    "outputId": "202f9715-5404-4613-a10b-266cfc01c19f"
   },
   "outputs": [
    {
     "data": {
      "text/plain": [
       "['11111111111', ['wow'], 1, 2, 3, 4, [1, 2, 3, 4], (6+4j)]"
      ]
     },
     "execution_count": 15,
     "metadata": {
      "tags": []
     },
     "output_type": "execute_result"
    }
   ],
   "source": [
    "l"
   ]
  },
  {
   "cell_type": "code",
   "execution_count": 16,
   "id": "b4de3900",
   "metadata": {
    "colab": {
     "base_uri": "https://localhost:8080/"
    },
    "executionInfo": {
     "elapsed": 429,
     "status": "ok",
     "timestamp": 1626951065623,
     "user": {
      "displayName": "Siddharth Swain",
      "photoUrl": "",
      "userId": "12055456511825659152"
     },
     "user_tz": -330
    },
    "id": "mMR2v4STyKU0",
    "outputId": "10b37260-c8b7-4dc0-b433-044c76ba814c"
   },
   "outputs": [
    {
     "data": {
      "text/plain": [
       "['11111111111', ['wow'], 1, 2, 3, 4, [1, 2, 3, 4], 'does this work', (6+4j)]"
      ]
     },
     "execution_count": 16,
     "metadata": {
      "tags": []
     },
     "output_type": "execute_result"
    }
   ],
   "source": [
    "l.insert(-1,\"does this work\")\n",
    "l"
   ]
  },
  {
   "cell_type": "code",
   "execution_count": 17,
   "id": "d0ee36be",
   "metadata": {
    "executionInfo": {
     "elapsed": 530,
     "status": "ok",
     "timestamp": 1626951304460,
     "user": {
      "displayName": "Siddharth Swain",
      "photoUrl": "",
      "userId": "12055456511825659152"
     },
     "user_tz": -330
    },
    "id": "aVq0eXpa1xo7"
   },
   "outputs": [],
   "source": [
    "l.insert(1,\"count count\")"
   ]
  },
  {
   "cell_type": "code",
   "execution_count": 18,
   "id": "51b07475",
   "metadata": {
    "colab": {
     "base_uri": "https://localhost:8080/"
    },
    "executionInfo": {
     "elapsed": 2,
     "status": "ok",
     "timestamp": 1626951306075,
     "user": {
      "displayName": "Siddharth Swain",
      "photoUrl": "",
      "userId": "12055456511825659152"
     },
     "user_tz": -330
    },
    "id": "1twHc-mU2sBC",
    "outputId": "a68ba3ab-f5fb-4b6e-e986-37152f0ffb67"
   },
   "outputs": [
    {
     "data": {
      "text/plain": [
       "['11111111111',\n",
       " 'count count',\n",
       " ['wow'],\n",
       " 1,\n",
       " 2,\n",
       " 3,\n",
       " 4,\n",
       " [1, 2, 3, 4],\n",
       " 'does this work',\n",
       " (6+4j)]"
      ]
     },
     "execution_count": 18,
     "metadata": {
      "tags": []
     },
     "output_type": "execute_result"
    }
   ],
   "source": [
    "l"
   ]
  },
  {
   "cell_type": "code",
   "execution_count": 19,
   "id": "93e2d34f",
   "metadata": {
    "colab": {
     "base_uri": "https://localhost:8080/"
    },
    "executionInfo": {
     "elapsed": 451,
     "status": "ok",
     "timestamp": 1626951321742,
     "user": {
      "displayName": "Siddharth Swain",
      "photoUrl": "",
      "userId": "12055456511825659152"
     },
     "user_tz": -330
    },
    "id": "n8xtKI-b2sXi",
    "outputId": "a19e5c91-06f2-4d62-e210-407d6ef5bf38"
   },
   "outputs": [
    {
     "data": {
      "text/plain": [
       "0"
      ]
     },
     "execution_count": 19,
     "metadata": {
      "tags": []
     },
     "output_type": "execute_result"
    }
   ],
   "source": [
    "l.count(\"test\")"
   ]
  },
  {
   "cell_type": "code",
   "execution_count": 21,
   "id": "e96a561f",
   "metadata": {
    "colab": {
     "base_uri": "https://localhost:8080/"
    },
    "executionInfo": {
     "elapsed": 421,
     "status": "ok",
     "timestamp": 1626951341083,
     "user": {
      "displayName": "Siddharth Swain",
      "photoUrl": "",
      "userId": "12055456511825659152"
     },
     "user_tz": -330
    },
    "id": "4J5nh9ki2wQa",
    "outputId": "6c140fba-b258-45da-d017-8c209605574e"
   },
   "outputs": [
    {
     "data": {
      "text/plain": [
       "1"
      ]
     },
     "execution_count": 21,
     "metadata": {
      "tags": []
     },
     "output_type": "execute_result"
    }
   ],
   "source": [
    "l.count([\"wow\"])"
   ]
  },
  {
   "cell_type": "markdown",
   "id": "0232fee2",
   "metadata": {
    "id": "5YjwVzEj221l"
   },
   "source": [
    "# Practice "
   ]
  },
  {
   "cell_type": "code",
   "execution_count": 1,
   "id": "b9756a4c",
   "metadata": {
    "executionInfo": {
     "elapsed": 659,
     "status": "ok",
     "timestamp": 1626952375650,
     "user": {
      "displayName": "Siddharth Swain",
      "photoUrl": "",
      "userId": "12055456511825659152"
     },
     "user_tz": -330
    },
    "id": "DJIQzTfa2zOK"
   },
   "outputs": [],
   "source": [
    "# Append vs Extend.\n",
    "\n",
    "l = [1,2,3,4]"
   ]
  },
  {
   "cell_type": "code",
   "execution_count": 34,
   "id": "e79394a2",
   "metadata": {
    "colab": {
     "base_uri": "https://localhost:8080/"
    },
    "executionInfo": {
     "elapsed": 8,
     "status": "ok",
     "timestamp": 1626952376118,
     "user": {
      "displayName": "Siddharth Swain",
      "photoUrl": "",
      "userId": "12055456511825659152"
     },
     "user_tz": -330
    },
    "id": "Oig8Cy7Q6FL5",
    "outputId": "6be15169-893a-46db-9105-837032e539bd"
   },
   "outputs": [
    {
     "data": {
      "text/plain": [
       "[1, 2, 3, 4, 'sudh']"
      ]
     },
     "execution_count": 34,
     "metadata": {
      "tags": []
     },
     "output_type": "execute_result"
    }
   ],
   "source": [
    "l.append(\"sudh\")\n",
    "l"
   ]
  },
  {
   "cell_type": "code",
   "execution_count": 35,
   "id": "35c23142",
   "metadata": {
    "colab": {
     "base_uri": "https://localhost:8080/"
    },
    "executionInfo": {
     "elapsed": 7,
     "status": "ok",
     "timestamp": 1626952376119,
     "user": {
      "displayName": "Siddharth Swain",
      "photoUrl": "",
      "userId": "12055456511825659152"
     },
     "user_tz": -330
    },
    "id": "rhxm7FVP6Gro",
    "outputId": "bb178932-4843-4229-ee9f-02957be60f46"
   },
   "outputs": [
    {
     "data": {
      "text/plain": [
       "[1, 2, 3, 4, 'sudh', [1, 2, 4, 56]]"
      ]
     },
     "execution_count": 35,
     "metadata": {
      "tags": []
     },
     "output_type": "execute_result"
    }
   ],
   "source": [
    "l.append([1,2,4,56])\n",
    "l"
   ]
  },
  {
   "cell_type": "code",
   "execution_count": 36,
   "id": "e9aba238",
   "metadata": {
    "colab": {
     "base_uri": "https://localhost:8080/"
    },
    "executionInfo": {
     "elapsed": 6,
     "status": "ok",
     "timestamp": 1626952376120,
     "user": {
      "displayName": "Siddharth Swain",
      "photoUrl": "",
      "userId": "12055456511825659152"
     },
     "user_tz": -330
    },
    "id": "SVHPi2jJ6J0Y",
    "outputId": "c320af5e-e04a-4ad9-acf2-948e7d6f13f5"
   },
   "outputs": [
    {
     "data": {
      "text/plain": [
       "[1, 2, 3, 4, 'sudh', [1, 2, 4, 56], 't', 'e', 's', 't', '1']"
      ]
     },
     "execution_count": 36,
     "metadata": {
      "tags": []
     },
     "output_type": "execute_result"
    }
   ],
   "source": [
    "l.extend(\"test1\")\n",
    "l"
   ]
  },
  {
   "cell_type": "code",
   "execution_count": 37,
   "id": "31f9114e",
   "metadata": {
    "colab": {
     "base_uri": "https://localhost:8080/"
    },
    "executionInfo": {
     "elapsed": 3,
     "status": "ok",
     "timestamp": 1626952377071,
     "user": {
      "displayName": "Siddharth Swain",
      "photoUrl": "",
      "userId": "12055456511825659152"
     },
     "user_tz": -330
    },
    "id": "0bLZ92iv6SBg",
    "outputId": "a263ea96-cf44-472a-be6c-0af007c86950"
   },
   "outputs": [
    {
     "data": {
      "text/plain": [
       "['t', 'e', 's', 't']"
      ]
     },
     "execution_count": 37,
     "metadata": {
      "tags": []
     },
     "output_type": "execute_result"
    }
   ],
   "source": [
    "s = \"test\"\n",
    "list(s)"
   ]
  },
  {
   "cell_type": "code",
   "execution_count": 39,
   "id": "a402c153",
   "metadata": {
    "colab": {
     "base_uri": "https://localhost:8080/",
     "height": 197
    },
    "executionInfo": {
     "elapsed": 434,
     "status": "error",
     "timestamp": 1626952409965,
     "user": {
      "displayName": "Siddharth Swain",
      "photoUrl": "",
      "userId": "12055456511825659152"
     },
     "user_tz": -330
    },
    "id": "CoF3lsL96jXo",
    "outputId": "af795ae5-9924-4dbc-af6e-b911c3a0636b"
   },
   "outputs": [
    {
     "ename": "TypeError",
     "evalue": "ignored",
     "output_type": "error",
     "traceback": [
      "\u001b[0;31m---------------------------------------------------------------------------\u001b[0m",
      "\u001b[0;31mTypeError\u001b[0m                                 Traceback (most recent call last)",
      "\u001b[0;32m<ipython-input-39-08e9c8ef38fc>\u001b[0m in \u001b[0;36m<module>\u001b[0;34m()\u001b[0m\n\u001b[1;32m      1\u001b[0m \u001b[0;31m# Extend always expects an iterable object\u001b[0m\u001b[0;34m\u001b[0m\u001b[0;34m\u001b[0m\u001b[0;34m\u001b[0m\u001b[0m\n\u001b[1;32m      2\u001b[0m \u001b[0;34m\u001b[0m\u001b[0m\n\u001b[0;32m----> 3\u001b[0;31m \u001b[0ml\u001b[0m\u001b[0;34m.\u001b[0m\u001b[0mextend\u001b[0m\u001b[0;34m(\u001b[0m\u001b[0;36m1001\u001b[0m\u001b[0;34m)\u001b[0m\u001b[0;34m\u001b[0m\u001b[0;34m\u001b[0m\u001b[0m\n\u001b[0m",
      "\u001b[0;31mTypeError\u001b[0m: 'int' object is not iterable"
     ]
    }
   ],
   "source": [
    "# Extend always expects an iterable object.\n",
    "\n",
    "l.extend(1001)"
   ]
  },
  {
   "cell_type": "markdown",
   "id": "8e681461",
   "metadata": {
    "id": "hQfmsNWn8B0_"
   },
   "source": [
    "# Practice"
   ]
  },
  {
   "cell_type": "code",
   "execution_count": 1,
   "id": "0eb6e6c9",
   "metadata": {
    "executionInfo": {
     "elapsed": 722,
     "status": "ok",
     "timestamp": 1626969517705,
     "user": {
      "displayName": "Siddharth Swain",
      "photoUrl": "",
      "userId": "12055456511825659152"
     },
     "user_tz": -330
    },
    "id": "tSQD0SPi62aw"
   },
   "outputs": [],
   "source": [
    "l = [2,3,4,5,6,7]"
   ]
  },
  {
   "cell_type": "code",
   "execution_count": 2,
   "id": "333ec99e",
   "metadata": {
    "colab": {
     "base_uri": "https://localhost:8080/"
    },
    "executionInfo": {
     "elapsed": 547,
     "status": "ok",
     "timestamp": 1626969526105,
     "user": {
      "displayName": "Siddharth Swain",
      "photoUrl": "",
      "userId": "12055456511825659152"
     },
     "user_tz": -330
    },
    "id": "53u_rKOk8J3F",
    "outputId": "ec0ac7d3-869a-4c26-dd2b-d4f97840bd22"
   },
   "outputs": [
    {
     "data": {
      "text/plain": [
       "[2, 3, 4, 5, 6]"
      ]
     },
     "execution_count": 2,
     "metadata": {
      "tags": []
     },
     "output_type": "execute_result"
    }
   ],
   "source": [
    "l.pop()\n",
    "l"
   ]
  },
  {
   "cell_type": "code",
   "execution_count": 4,
   "id": "0e1844cb",
   "metadata": {
    "colab": {
     "base_uri": "https://localhost:8080/"
    },
    "executionInfo": {
     "elapsed": 548,
     "status": "ok",
     "timestamp": 1626969549215,
     "user": {
      "displayName": "Siddharth Swain",
      "photoUrl": "",
      "userId": "12055456511825659152"
     },
     "user_tz": -330
    },
    "id": "91I2kkVl8MZM",
    "outputId": "238b087a-fa98-4998-db03-5478c0c56557"
   },
   "outputs": [
    {
     "data": {
      "text/plain": [
       "[3, 4, 5, 6]"
      ]
     },
     "execution_count": 4,
     "metadata": {
      "tags": []
     },
     "output_type": "execute_result"
    }
   ],
   "source": [
    "l.pop(0)\n",
    "l"
   ]
  },
  {
   "cell_type": "code",
   "execution_count": 5,
   "id": "fda6f161",
   "metadata": {
    "colab": {
     "base_uri": "https://localhost:8080/"
    },
    "executionInfo": {
     "elapsed": 539,
     "status": "ok",
     "timestamp": 1626969615626,
     "user": {
      "displayName": "Siddharth Swain",
      "photoUrl": "",
      "userId": "12055456511825659152"
     },
     "user_tz": -330
    },
    "id": "B9hRfGuX8PG-",
    "outputId": "37c5f7a8-a41a-473c-d155-472f52e2b273"
   },
   "outputs": [
    {
     "data": {
      "text/plain": [
       "[3, 4, 5]"
      ]
     },
     "execution_count": 5,
     "metadata": {
      "tags": []
     },
     "output_type": "execute_result"
    }
   ],
   "source": [
    "l.pop(3)\n",
    "l"
   ]
  },
  {
   "cell_type": "code",
   "execution_count": 8,
   "id": "77781244",
   "metadata": {
    "executionInfo": {
     "elapsed": 548,
     "status": "ok",
     "timestamp": 1626969687526,
     "user": {
      "displayName": "Siddharth Swain",
      "photoUrl": "",
      "userId": "12055456511825659152"
     },
     "user_tz": -330
    },
    "id": "jcIQ05Wc8iS8"
   },
   "outputs": [],
   "source": [
    "l = [2,3,4,5,4,4,4,6,7,8,9]"
   ]
  },
  {
   "cell_type": "code",
   "execution_count": 9,
   "id": "d09d7eee",
   "metadata": {
    "colab": {
     "base_uri": "https://localhost:8080/"
    },
    "executionInfo": {
     "elapsed": 3,
     "status": "ok",
     "timestamp": 1626969688083,
     "user": {
      "displayName": "Siddharth Swain",
      "photoUrl": "",
      "userId": "12055456511825659152"
     },
     "user_tz": -330
    },
    "id": "sGglyIz48vh8",
    "outputId": "522d978f-d304-4183-b1ac-68d200a41a21"
   },
   "outputs": [
    {
     "data": {
      "text/plain": [
       "[2, 3, 5, 4, 4, 4, 6, 7, 8, 9]"
      ]
     },
     "execution_count": 9,
     "metadata": {
      "tags": []
     },
     "output_type": "execute_result"
    }
   ],
   "source": [
    "l.remove(4)\n",
    "l"
   ]
  },
  {
   "cell_type": "code",
   "execution_count": 10,
   "id": "1a18e3d5",
   "metadata": {
    "colab": {
     "base_uri": "https://localhost:8080/"
    },
    "executionInfo": {
     "elapsed": 598,
     "status": "ok",
     "timestamp": 1626969698966,
     "user": {
      "displayName": "Siddharth Swain",
      "photoUrl": "",
      "userId": "12055456511825659152"
     },
     "user_tz": -330
    },
    "id": "UmeRHRRo8xIk",
    "outputId": "ba63b4e0-7dac-4eda-a8e3-6c1cc3429574"
   },
   "outputs": [
    {
     "data": {
      "text/plain": [
       "[2, 3, 5, 4, 4, 6, 7, 8, 9]"
      ]
     },
     "execution_count": 10,
     "metadata": {
      "tags": []
     },
     "output_type": "execute_result"
    }
   ],
   "source": [
    "l.remove(4)\n",
    "l"
   ]
  },
  {
   "cell_type": "code",
   "execution_count": 14,
   "id": "7214fe00",
   "metadata": {
    "colab": {
     "base_uri": "https://localhost:8080/"
    },
    "executionInfo": {
     "elapsed": 554,
     "status": "ok",
     "timestamp": 1626969763150,
     "user": {
      "displayName": "Siddharth Swain",
      "photoUrl": "",
      "userId": "12055456511825659152"
     },
     "user_tz": -330
    },
    "id": "rJQUBZbS8200",
    "outputId": "be7916f6-bad8-4ead-e31f-d9cc8d859d78"
   },
   "outputs": [
    {
     "data": {
      "text/plain": [
       "[9, 8, 7, 6, 4, 4, 5, 3, 2]"
      ]
     },
     "execution_count": 14,
     "metadata": {
      "tags": []
     },
     "output_type": "execute_result"
    }
   ],
   "source": [
    "l.reverse()\n",
    "l"
   ]
  },
  {
   "cell_type": "code",
   "execution_count": 15,
   "id": "1209b0a9",
   "metadata": {
    "colab": {
     "base_uri": "https://localhost:8080/"
    },
    "executionInfo": {
     "elapsed": 544,
     "status": "ok",
     "timestamp": 1626969773640,
     "user": {
      "displayName": "Siddharth Swain",
      "photoUrl": "",
      "userId": "12055456511825659152"
     },
     "user_tz": -330
    },
    "id": "Mctt3ewJ9CyE",
    "outputId": "7ab728ba-e960-4bc5-e28d-12666f16c9a4"
   },
   "outputs": [
    {
     "data": {
      "text/plain": [
       "[2, 3, 4, 4, 5, 6, 7, 8, 9]"
      ]
     },
     "execution_count": 15,
     "metadata": {
      "tags": []
     },
     "output_type": "execute_result"
    }
   ],
   "source": [
    "l.sort()\n",
    "l"
   ]
  },
  {
   "cell_type": "code",
   "execution_count": 16,
   "id": "ea454573",
   "metadata": {
    "executionInfo": {
     "elapsed": 586,
     "status": "ok",
     "timestamp": 1626969810306,
     "user": {
      "displayName": "Siddharth Swain",
      "photoUrl": "",
      "userId": "12055456511825659152"
     },
     "user_tz": -330
    },
    "id": "aEGlfQPx9I0j"
   },
   "outputs": [],
   "source": [
    "l = [3,4,5,6,78,\"sudh\",\"ineuron\",45.67]"
   ]
  },
  {
   "cell_type": "code",
   "execution_count": 17,
   "id": "561cd29f",
   "metadata": {
    "colab": {
     "base_uri": "https://localhost:8080/",
     "height": 163
    },
    "executionInfo": {
     "elapsed": 13,
     "status": "error",
     "timestamp": 1626969813389,
     "user": {
      "displayName": "Siddharth Swain",
      "photoUrl": "",
      "userId": "12055456511825659152"
     },
     "user_tz": -330
    },
    "id": "IjH29SOT9R_c",
    "outputId": "eee5f190-2c9d-4de4-8b40-756ebc8588e1"
   },
   "outputs": [
    {
     "ename": "TypeError",
     "evalue": "ignored",
     "output_type": "error",
     "traceback": [
      "\u001b[0;31m---------------------------------------------------------------------------\u001b[0m",
      "\u001b[0;31mTypeError\u001b[0m                                 Traceback (most recent call last)",
      "\u001b[0;32m<ipython-input-17-fb07ac7c73ab>\u001b[0m in \u001b[0;36m<module>\u001b[0;34m()\u001b[0m\n\u001b[0;32m----> 1\u001b[0;31m \u001b[0ml\u001b[0m\u001b[0;34m.\u001b[0m\u001b[0msort\u001b[0m\u001b[0;34m(\u001b[0m\u001b[0;34m)\u001b[0m\u001b[0;34m\u001b[0m\u001b[0;34m\u001b[0m\u001b[0m\n\u001b[0m",
      "\u001b[0;31mTypeError\u001b[0m: '<' not supported between instances of 'str' and 'int'"
     ]
    }
   ],
   "source": [
    "l.sort()"
   ]
  },
  {
   "cell_type": "code",
   "execution_count": 19,
   "id": "c1c5245f",
   "metadata": {
    "colab": {
     "base_uri": "https://localhost:8080/"
    },
    "executionInfo": {
     "elapsed": 724,
     "status": "ok",
     "timestamp": 1626969835760,
     "user": {
      "displayName": "Siddharth Swain",
      "photoUrl": "",
      "userId": "12055456511825659152"
     },
     "user_tz": -330
    },
    "id": "VT5MsHVk9Sok",
    "outputId": "b9df3e57-956b-4c66-b405-7cbf4d098e6a"
   },
   "outputs": [
    {
     "data": {
      "text/plain": [
       "[3, 4, 6, 45, 54.2, 67, 67]"
      ]
     },
     "execution_count": 19,
     "metadata": {
      "tags": []
     },
     "output_type": "execute_result"
    }
   ],
   "source": [
    "l = [3,4,54.2,6,67,45,67]\n",
    "l.sort()\n",
    "l"
   ]
  },
  {
   "cell_type": "markdown",
   "id": "880de15a",
   "metadata": {
    "id": "-icpDAi59e0w"
   },
   "source": [
    "# Questions\n",
    "\n",
    "1. Append 2-3 more lists and one complex number in between an exisiting list.\n",
    "\n",
    "2. Nested list contain string then find out its index in the nested list and print it and remove the string.\n",
    "\n",
    "3. Extract 2nd element of each nested list."
   ]
  },
  {
   "cell_type": "code",
   "execution_count": 34,
   "id": "0f82a156",
   "metadata": {
    "executionInfo": {
     "elapsed": 512,
     "status": "ok",
     "timestamp": 1626970852127,
     "user": {
      "displayName": "Siddharth Swain",
      "photoUrl": "",
      "userId": "12055456511825659152"
     },
     "user_tz": -330
    },
    "id": "MbsTS8-D9VF8"
   },
   "outputs": [],
   "source": [
    "l = [ [2,3,4,5] , [4,5,6,7] , [22,33,44,55,66,77] , 45, 67, 55, 55, 100, 202 ]"
   ]
  },
  {
   "cell_type": "code",
   "execution_count": 35,
   "id": "98d282ea",
   "metadata": {
    "colab": {
     "base_uri": "https://localhost:8080/"
    },
    "executionInfo": {
     "elapsed": 3,
     "status": "ok",
     "timestamp": 1626970852634,
     "user": {
      "displayName": "Siddharth Swain",
      "photoUrl": "",
      "userId": "12055456511825659152"
     },
     "user_tz": -330
    },
    "id": "hsIQSBs69f8L",
    "outputId": "89aa9e51-bc76-4765-e199-d81dc72ff29d"
   },
   "outputs": [
    {
     "data": {
      "text/plain": [
       "[[2, 3, 4, 5],\n",
       " [100, 101, 102, 103, 104],\n",
       " [4, 5, 6, 7],\n",
       " ['this', 'is', 'second', 'list'],\n",
       " [22, 33, 44, 55, 66, 77],\n",
       " (4+10j),\n",
       " 45,\n",
       " 67,\n",
       " 55,\n",
       " 55,\n",
       " 100,\n",
       " 202]"
      ]
     },
     "execution_count": 35,
     "metadata": {
      "tags": []
     },
     "output_type": "execute_result"
    }
   ],
   "source": [
    "#1\n",
    "\n",
    "a = [100,101,102,103,104]\n",
    "b = [\"this\",\"is\",\"second\",\"list\"]\n",
    "c = 4 + 10j\n",
    "l.insert(1,a)\n",
    "l.insert(3,b)\n",
    "l.insert(5,c)\n",
    "l"
   ]
  },
  {
   "cell_type": "code",
   "execution_count": 44,
   "id": "a339b6a5",
   "metadata": {
    "executionInfo": {
     "elapsed": 524,
     "status": "ok",
     "timestamp": 1626971364935,
     "user": {
      "displayName": "Siddharth Swain",
      "photoUrl": "",
      "userId": "12055456511825659152"
     },
     "user_tz": -330
    },
    "id": "bi9CZ4arDJuE"
   },
   "outputs": [],
   "source": [
    " l = [[1,2,3],[11,12,'b','b','b'],[21,'t',223],[4,5,6],[7,8,9],'demo',12.5]"
   ]
  },
  {
   "cell_type": "code",
   "execution_count": 62,
   "id": "1695885e",
   "metadata": {
    "colab": {
     "base_uri": "https://localhost:8080/"
    },
    "executionInfo": {
     "elapsed": 516,
     "status": "ok",
     "timestamp": 1626972106690,
     "user": {
      "displayName": "Siddharth Swain",
      "photoUrl": "",
      "userId": "12055456511825659152"
     },
     "user_tz": -330
    },
    "id": "2BgNONCx-F-r",
    "outputId": "7103ac5c-f2f0-47f5-c7ac-982771a84e05"
   },
   "outputs": [
    {
     "name": "stdout",
     "output_type": "stream",
     "text": [
      "Index of string 'this' is 0.\n",
      "Index of string 'is' is 0.\n",
      "Index of string 'second' is 0.\n",
      "Index of string 'list' is 0.\n",
      "Index of string 'aaaaaaaa' is 0.\n",
      "Index of string 'ffggggg' is 3.\n",
      "Index of string 'this' is 0.\n",
      "Index of string 'is' is 0.\n",
      "Index of string 'second' is 0.\n",
      "Index of string 'list' is 0.\n"
     ]
    },
    {
     "data": {
      "text/plain": [
       "[[2, 3, 4, 5],\n",
       " [100, 101, 102, 103, 104],\n",
       " [4, 5, 6, 7],\n",
       " [],\n",
       " [22, 33, 44, 55, 66, 77],\n",
       " [40, 404, 40404040404],\n",
       " (4+10j),\n",
       " [100, 101, 102, 103, 104],\n",
       " [],\n",
       " (4+10j)]"
      ]
     },
     "execution_count": 62,
     "metadata": {
      "tags": []
     },
     "output_type": "execute_result"
    }
   ],
   "source": [
    "#2\n",
    "\n",
    "l = [[2, 3, 4, 5],\n",
    " [100, 101, 102, 103, 104],\n",
    " [4, 5, 6, 7],\n",
    " ['this', 'is', 'second', 'list'],\n",
    " [22, 33, 44, 55, 66, 77],\n",
    " [\"aaaaaaaa\",40,404,40404040404,\"ffggggg\"],\n",
    " (4+10j),\n",
    "     \n",
    "     \n",
    " [100, 101, 102, 103, 104],\n",
    " ['this', 'is', 'second', 'list'],\n",
    " (4+10j)]\n",
    "\n",
    "for i in l:\n",
    "  if type(i) == list:\n",
    "    j = 0\n",
    "    while j < len(i):\n",
    "      if type(i[j]) == str:\n",
    "        print(\"Index of string '{0}' is {1}.\".format(i[j],j))\n",
    "        i.remove(i[j])\n",
    "        continue\n",
    "      j = j + 1\n",
    "\n",
    "l    "
   ]
  },
  {
   "cell_type": "code",
   "execution_count": 64,
   "id": "fc1518e6",
   "metadata": {
    "colab": {
     "base_uri": "https://localhost:8080/"
    },
    "executionInfo": {
     "elapsed": 555,
     "status": "ok",
     "timestamp": 1626972319194,
     "user": {
      "displayName": "Siddharth Swain",
      "photoUrl": "",
      "userId": "12055456511825659152"
     },
     "user_tz": -330
    },
    "id": "3OgbSeUfAOeD",
    "outputId": "4641ccc4-aa77-45eb-f18a-7471c1ab7952"
   },
   "outputs": [
    {
     "name": "stdout",
     "output_type": "stream",
     "text": [
      "3\n",
      "101\n",
      "5\n",
      "is\n",
      "33\n",
      "hello\n",
      "101\n",
      "is\n"
     ]
    }
   ],
   "source": [
    "#3\n",
    "\n",
    "l = [ [2,3,4,5] , [4,\"str\",6,7] , [22,33,44,55,66,77] , 45, 67, 55, [\"hi\",\"bye\"], 55, 100, 202 ]\n",
    "\n",
    "l = [[2, 3, 4, 5],\n",
    " [100, 101, 102, 103, 104],\n",
    " [4, 5, 6, 7],\n",
    " ['this', 'is', 'second', 'list'],\n",
    " [22, 33, 44, 55, 66, 77],\n",
    " [\"aaaaaaaa\",\"hello\",404,40404040404,\"ffggggg\"],\n",
    " (4+10j),\n",
    " [100, 101, 102, 103, 104],\n",
    " ['this', 'is', 'second', 'list'],\n",
    " (4+10j)]\n",
    "\n",
    "for i in l:\n",
    "  if type(i) == list:\n",
    "    count = 0\n",
    "    for j in i:\n",
    "      if count == 1:\n",
    "        print(j)\n",
    "      count = count + 1"
   ]
  },
  {
   "cell_type": "markdown",
   "id": "67829448",
   "metadata": {
    "id": "938SmvkEHJ08"
   },
   "source": [
    "# Practice"
   ]
  },
  {
   "cell_type": "code",
   "execution_count": 2,
   "id": "dd2b1ff8",
   "metadata": {
    "executionInfo": {
     "elapsed": 505,
     "status": "ok",
     "timestamp": 1626972430413,
     "user": {
      "displayName": "Siddharth Swain",
      "photoUrl": "",
      "userId": "12055456511825659152"
     },
     "user_tz": -330
    },
    "id": "f6vmTpbWDBWx"
   },
   "outputs": [],
   "source": [
    "# List Comprehension.\n",
    "\n",
    "l = [1,2,3,4,5,]"
   ]
  },
  {
   "cell_type": "code",
   "execution_count": 66,
   "id": "a53eefc7",
   "metadata": {
    "executionInfo": {
     "elapsed": 588,
     "status": "ok",
     "timestamp": 1626972435462,
     "user": {
      "displayName": "Siddharth Swain",
      "photoUrl": "",
      "userId": "12055456511825659152"
     },
     "user_tz": -330
    },
    "id": "QiJxTuuiHRtX"
   },
   "outputs": [],
   "source": [
    "l1 = []"
   ]
  },
  {
   "cell_type": "code",
   "execution_count": 67,
   "id": "d2349977",
   "metadata": {
    "colab": {
     "base_uri": "https://localhost:8080/"
    },
    "executionInfo": {
     "elapsed": 505,
     "status": "ok",
     "timestamp": 1626972452048,
     "user": {
      "displayName": "Siddharth Swain",
      "photoUrl": "",
      "userId": "12055456511825659152"
     },
     "user_tz": -330
    },
    "id": "zbw8uaZsHS6v",
    "outputId": "5999c6be-0ee0-4a84-87b5-85069623cd6c"
   },
   "outputs": [
    {
     "data": {
      "text/plain": [
       "['s', 'u', 'd', 'h']"
      ]
     },
     "execution_count": 67,
     "metadata": {
      "tags": []
     },
     "output_type": "execute_result"
    }
   ],
   "source": [
    "for i in \"sudh\":\n",
    "  l1.append(i)\n",
    "l1"
   ]
  },
  {
   "cell_type": "code",
   "execution_count": 3,
   "id": "afcc4a8c",
   "metadata": {
    "colab": {
     "base_uri": "https://localhost:8080/"
    },
    "executionInfo": {
     "elapsed": 1275,
     "status": "ok",
     "timestamp": 1626981127481,
     "user": {
      "displayName": "Siddharth Swain",
      "photoUrl": "",
      "userId": "12055456511825659152"
     },
     "user_tz": -330
    },
    "id": "8Es8iur_HWzQ",
    "outputId": "70904436-69c1-4018-d8df-cf9258b234c3"
   },
   "outputs": [
    {
     "data": {
      "text/plain": [
       "['s', 'u', 'd', 'h']"
      ]
     },
     "execution_count": 3,
     "metadata": {
      "tags": []
     },
     "output_type": "execute_result"
    }
   ],
   "source": [
    "# List Comprehension Operation.\n",
    "\n",
    "[i for i in \"sudh\"]"
   ]
  },
  {
   "cell_type": "code",
   "execution_count": 4,
   "id": "b6ce7a38",
   "metadata": {
    "colab": {
     "base_uri": "https://localhost:8080/"
    },
    "executionInfo": {
     "elapsed": 6,
     "status": "ok",
     "timestamp": 1626983167035,
     "user": {
      "displayName": "Siddharth Swain",
      "photoUrl": "",
      "userId": "12055456511825659152"
     },
     "user_tz": -330
    },
    "id": "AbVg6_s_oPER",
    "outputId": "3d27b0a7-029d-46d7-c204-bc6ffd885c19"
   },
   "outputs": [
    {
     "data": {
      "text/plain": [
       "[['s'], ['u'], ['d'], ['h']]"
      ]
     },
     "execution_count": 4,
     "metadata": {
      "tags": []
     },
     "output_type": "execute_result"
    }
   ],
   "source": [
    "[[i] for i in \"sudh\"]"
   ]
  },
  {
   "cell_type": "code",
   "execution_count": 5,
   "id": "cc9f8fdd",
   "metadata": {
    "executionInfo": {
     "elapsed": 400,
     "status": "ok",
     "timestamp": 1626983194519,
     "user": {
      "displayName": "Siddharth Swain",
      "photoUrl": "",
      "userId": "12055456511825659152"
     },
     "user_tz": -330
    },
    "id": "Dijpz7dSwO2G"
   },
   "outputs": [],
   "source": [
    "l = []"
   ]
  },
  {
   "cell_type": "code",
   "execution_count": 6,
   "id": "40089fb0",
   "metadata": {
    "executionInfo": {
     "elapsed": 436,
     "status": "ok",
     "timestamp": 1626983223840,
     "user": {
      "displayName": "Siddharth Swain",
      "photoUrl": "",
      "userId": "12055456511825659152"
     },
     "user_tz": -330
    },
    "id": "K77Qk7tkwVnu"
   },
   "outputs": [],
   "source": [
    "for i in range(10):\n",
    "  if i % 2 == 0:\n",
    "    l.append(i)"
   ]
  },
  {
   "cell_type": "code",
   "execution_count": 7,
   "id": "eab3be6a",
   "metadata": {
    "colab": {
     "base_uri": "https://localhost:8080/"
    },
    "executionInfo": {
     "elapsed": 437,
     "status": "ok",
     "timestamp": 1626983227722,
     "user": {
      "displayName": "Siddharth Swain",
      "photoUrl": "",
      "userId": "12055456511825659152"
     },
     "user_tz": -330
    },
    "id": "IbZtXYVpwc3W",
    "outputId": "cfc24e59-2ba2-4576-ed69-c215768f664f"
   },
   "outputs": [
    {
     "data": {
      "text/plain": [
       "[0, 2, 4, 6, 8]"
      ]
     },
     "execution_count": 7,
     "metadata": {
      "tags": []
     },
     "output_type": "execute_result"
    }
   ],
   "source": [
    "l"
   ]
  },
  {
   "cell_type": "code",
   "execution_count": 8,
   "id": "fac973cc",
   "metadata": {
    "colab": {
     "base_uri": "https://localhost:8080/"
    },
    "executionInfo": {
     "elapsed": 3,
     "status": "ok",
     "timestamp": 1626983256281,
     "user": {
      "displayName": "Siddharth Swain",
      "photoUrl": "",
      "userId": "12055456511825659152"
     },
     "user_tz": -330
    },
    "id": "6K48BnuawdsG",
    "outputId": "c8fb39da-bf9b-486a-e75f-a149ec7960e8"
   },
   "outputs": [
    {
     "data": {
      "text/plain": [
       "[0, 2, 4, 6, 8]"
      ]
     },
     "execution_count": 8,
     "metadata": {
      "tags": []
     },
     "output_type": "execute_result"
    }
   ],
   "source": [
    "[l for i in range(10) if i % 2 == 0]\n",
    "l"
   ]
  },
  {
   "cell_type": "markdown",
   "id": "1fff1286",
   "metadata": {
    "id": "UpYwLkt-y3gB"
   },
   "source": [
    "# Practice"
   ]
  },
  {
   "cell_type": "code",
   "execution_count": 9,
   "id": "c210718a",
   "metadata": {
    "colab": {
     "base_uri": "https://localhost:8080/"
    },
    "executionInfo": {
     "elapsed": 417,
     "status": "ok",
     "timestamp": 1626983916753,
     "user": {
      "displayName": "Siddharth Swain",
      "photoUrl": "",
      "userId": "12055456511825659152"
     },
     "user_tz": -330
    },
    "id": "HFGORlEYwktu",
    "outputId": "ffcea122-54dd-4fc9-bf6d-cd4e09b68dfd"
   },
   "outputs": [
    {
     "data": {
      "text/plain": [
       "['even', 'odd', 'even', 'odd', 'even', 'odd', 'even', 'odd', 'even', 'odd']"
      ]
     },
     "execution_count": 9,
     "metadata": {
      "tags": []
     },
     "output_type": "execute_result"
    }
   ],
   "source": [
    "l = []\n",
    "for i in range(10):\n",
    "  if i % 2 != 0:\n",
    "    l.append(\"odd\")\n",
    "  else:\n",
    "    l.append(\"even\")\n",
    "l"
   ]
  },
  {
   "cell_type": "code",
   "execution_count": 11,
   "id": "78343aa6",
   "metadata": {
    "colab": {
     "base_uri": "https://localhost:8080/"
    },
    "executionInfo": {
     "elapsed": 503,
     "status": "ok",
     "timestamp": 1626984080199,
     "user": {
      "displayName": "Siddharth Swain",
      "photoUrl": "",
      "userId": "12055456511825659152"
     },
     "user_tz": -330
    },
    "id": "hbKrOygczGCV",
    "outputId": "d83eb0ff-53d0-4576-f835-be623bfb1e74"
   },
   "outputs": [
    {
     "data": {
      "text/plain": [
       "['even', 'odd', 'even', 'odd', 'even', 'odd', 'even', 'odd', 'even', 'odd']"
      ]
     },
     "execution_count": 11,
     "metadata": {
      "tags": []
     },
     "output_type": "execute_result"
    }
   ],
   "source": [
    "[ \"odd\" if i % 2 != 0 else \"even\" for i in range(10) ]"
   ]
  },
  {
   "cell_type": "markdown",
   "id": "88b7c2d5",
   "metadata": {
    "id": "Zb7Wnp4O0CqD"
   },
   "source": [
    "# Practice"
   ]
  },
  {
   "cell_type": "code",
   "execution_count": 12,
   "id": "a86f1c3f",
   "metadata": {
    "colab": {
     "base_uri": "https://localhost:8080/"
    },
    "executionInfo": {
     "elapsed": 403,
     "status": "ok",
     "timestamp": 1626984222973,
     "user": {
      "displayName": "Siddharth Swain",
      "photoUrl": "",
      "userId": "12055456511825659152"
     },
     "user_tz": -330
    },
    "id": "O7X_-YFrzYf8",
    "outputId": "6424a184-8020-499d-ebb2-dcd6ac63fbb4"
   },
   "outputs": [
    {
     "data": {
      "text/plain": [
       "[[0, 1, 2], [0, 1, 2], [0, 1, 2]]"
      ]
     },
     "execution_count": 12,
     "metadata": {
      "tags": []
     },
     "output_type": "execute_result"
    }
   ],
   "source": [
    "mat = []\n",
    "for i in range(3):\n",
    "  mat.append([])\n",
    "  for j in range(3):\n",
    "    mat[i].append(j)\n",
    "mat"
   ]
  },
  {
   "cell_type": "code",
   "execution_count": 13,
   "id": "6aa4789c",
   "metadata": {
    "colab": {
     "base_uri": "https://localhost:8080/"
    },
    "executionInfo": {
     "elapsed": 416,
     "status": "ok",
     "timestamp": 1626984266864,
     "user": {
      "displayName": "Siddharth Swain",
      "photoUrl": "",
      "userId": "12055456511825659152"
     },
     "user_tz": -330
    },
    "id": "rzHgqp9E0QvM",
    "outputId": "a04b435b-c736-41d5-a7ee-eebe66daa116"
   },
   "outputs": [
    {
     "data": {
      "text/plain": [
       "[[0, 1, 2], [0, 1, 2], [0, 1, 2]]"
      ]
     },
     "execution_count": 13,
     "metadata": {
      "tags": []
     },
     "output_type": "execute_result"
    }
   ],
   "source": [
    "[ [j for j in range(3)] for i in range(3) ]"
   ]
  },
  {
   "cell_type": "markdown",
   "id": "16f7c13e",
   "metadata": {
    "id": "al8Z8KgN0ilJ"
   },
   "source": [
    "# Practice"
   ]
  },
  {
   "cell_type": "code",
   "execution_count": 14,
   "id": "5f0c49bd",
   "metadata": {
    "colab": {
     "base_uri": "https://localhost:8080/"
    },
    "executionInfo": {
     "elapsed": 442,
     "status": "ok",
     "timestamp": 1626984412201,
     "user": {
      "displayName": "Siddharth Swain",
      "photoUrl": "",
      "userId": "12055456511825659152"
     },
     "user_tz": -330
    },
    "id": "5-OtcAs80bhE",
    "outputId": "3325a314-8a73-4a05-8073-2a2049463034"
   },
   "outputs": [
    {
     "data": {
      "text/plain": [
       "[0, 6]"
      ]
     },
     "execution_count": 14,
     "metadata": {
      "tags": []
     },
     "output_type": "execute_result"
    }
   ],
   "source": [
    "l = []\n",
    "for i in range(8):\n",
    "  if i % 2 == 0:\n",
    "    if i % 3 == 0:\n",
    "      l.append(i)\n",
    "l"
   ]
  },
  {
   "cell_type": "code",
   "execution_count": 15,
   "id": "c9301408",
   "metadata": {
    "colab": {
     "base_uri": "https://localhost:8080/"
    },
    "executionInfo": {
     "elapsed": 406,
     "status": "ok",
     "timestamp": 1626984434900,
     "user": {
      "displayName": "Siddharth Swain",
      "photoUrl": "",
      "userId": "12055456511825659152"
     },
     "user_tz": -330
    },
    "id": "Sm0RPppD0-5c",
    "outputId": "c47f3b30-b90e-46eb-9ce8-28c4ab3907da"
   },
   "outputs": [
    {
     "data": {
      "text/plain": [
       "[0, 1, 2, 3, 4, 5, 6, 7, 8, 9]"
      ]
     },
     "execution_count": 15,
     "metadata": {
      "tags": []
     },
     "output_type": "execute_result"
    }
   ],
   "source": [
    "l = []\n",
    "for i in range(10):\n",
    "  l.append(i)\n",
    "l"
   ]
  },
  {
   "cell_type": "code",
   "execution_count": 18,
   "id": "c8417860",
   "metadata": {
    "colab": {
     "base_uri": "https://localhost:8080/"
    },
    "executionInfo": {
     "elapsed": 404,
     "status": "ok",
     "timestamp": 1626984501359,
     "user": {
      "displayName": "Siddharth Swain",
      "photoUrl": "",
      "userId": "12055456511825659152"
     },
     "user_tz": -330
    },
    "id": "0M8ma8Bu1EYU",
    "outputId": "d4971dcb-c8f0-4db7-a98a-c9e2dd118f2e"
   },
   "outputs": [
    {
     "data": {
      "text/plain": [
       "['test', 'yes', 'no', 'test', 'test', 'test', 'test', 'test', 'test', 'test']"
      ]
     },
     "execution_count": 18,
     "metadata": {
      "tags": []
     },
     "output_type": "execute_result"
    }
   ],
   "source": [
    "[\"yes\" if i==1 else \"no\" if i ==2 else \"test\" for i in l]"
   ]
  },
  {
   "cell_type": "code",
   "execution_count": 19,
   "id": "c898aeea",
   "metadata": {
    "colab": {
     "base_uri": "https://localhost:8080/"
    },
    "executionInfo": {
     "elapsed": 416,
     "status": "ok",
     "timestamp": 1626984575773,
     "user": {
      "displayName": "Siddharth Swain",
      "photoUrl": "",
      "userId": "12055456511825659152"
     },
     "user_tz": -330
    },
    "id": "boH7ahmV1OJc",
    "outputId": "1fff58ff-5a92-4437-d85e-42dba892031d"
   },
   "outputs": [
    {
     "data": {
      "text/plain": [
       "['test', 'yes', 'no', 'test', 'test', 'test', 'test', 'test', 'test', 'test']"
      ]
     },
     "execution_count": 19,
     "metadata": {
      "tags": []
     },
     "output_type": "execute_result"
    }
   ],
   "source": [
    "res = []\n",
    "for i in l:\n",
    "  if i == 1:\n",
    "    res.append(\"yes\")\n",
    "  elif i == 2:\n",
    "    res.append(\"no\")\n",
    "  else:\n",
    "    res.append(\"test\")\n",
    "res"
   ]
  }
 ],
 "metadata": {
  "kernelspec": {
   "display_name": "Python 3 (ipykernel)",
   "language": "python",
   "name": "python3"
  },
  "language_info": {
   "codemirror_mode": {
    "name": "ipython",
    "version": 3
   },
   "file_extension": ".py",
   "mimetype": "text/x-python",
   "name": "python",
   "nbconvert_exporter": "python",
   "pygments_lexer": "ipython3",
   "version": "3.9.13"
  }
 },
 "nbformat": 4,
 "nbformat_minor": 5
}
