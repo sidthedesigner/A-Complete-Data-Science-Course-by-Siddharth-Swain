{
 "cells": [
  {
   "cell_type": "markdown",
   "id": "d32c5611",
   "metadata": {},
   "source": [
    "## Python User Input\n",
    "\n",
    "Python allows for user input. That means we are able to ask the user for input.\n",
    "\n",
    "The method is a bit different in Python 3.6 than Python 2.7.\n",
    "\n",
    "- Python 3.6 uses the input() method. \n",
    "\n",
    "- Python 2.7 uses the raw_input() method.\n",
    "\n",
    "The following example asks for the username, and when you entered the username, it gets printed on the screen."
   ]
  },
  {
   "cell_type": "code",
   "execution_count": 1,
   "id": "3951e170",
   "metadata": {},
   "outputs": [
    {
     "name": "stdout",
     "output_type": "stream",
     "text": [
      "Enter username:Siddharth Swain\n",
      "Username is: Siddharth Swain\n"
     ]
    }
   ],
   "source": [
    "# Python 3.6\n",
    "\n",
    "username = input(\"Enter username:\")\n",
    "\n",
    "print(\"Username is: \" + username)"
   ]
  },
  {
   "cell_type": "code",
   "execution_count": 3,
   "id": "22aabd60",
   "metadata": {},
   "outputs": [
    {
     "ename": "NameError",
     "evalue": "name 'raw_input' is not defined",
     "output_type": "error",
     "traceback": [
      "\u001b[1;31m---------------------------------------------------------------------------\u001b[0m",
      "\u001b[1;31mNameError\u001b[0m                                 Traceback (most recent call last)",
      "\u001b[1;32m<ipython-input-3-b7bd4a78f00b>\u001b[0m in \u001b[0;36m<module>\u001b[1;34m\u001b[0m\n\u001b[0;32m      1\u001b[0m \u001b[1;31m# Python 2.7\u001b[0m\u001b[1;33m\u001b[0m\u001b[1;33m\u001b[0m\u001b[1;33m\u001b[0m\u001b[0m\n\u001b[0;32m      2\u001b[0m \u001b[1;33m\u001b[0m\u001b[0m\n\u001b[1;32m----> 3\u001b[1;33m \u001b[0musername\u001b[0m \u001b[1;33m=\u001b[0m \u001b[0mraw_input\u001b[0m\u001b[1;33m(\u001b[0m\u001b[1;34m\"Enter username:\"\u001b[0m\u001b[1;33m)\u001b[0m\u001b[1;33m\u001b[0m\u001b[1;33m\u001b[0m\u001b[0m\n\u001b[0m\u001b[0;32m      4\u001b[0m \u001b[0mprint\u001b[0m\u001b[1;33m(\u001b[0m\u001b[1;34m\"Username is: \"\u001b[0m \u001b[1;33m+\u001b[0m \u001b[0musername\u001b[0m\u001b[1;33m)\u001b[0m\u001b[1;33m\u001b[0m\u001b[1;33m\u001b[0m\u001b[0m\n",
      "\u001b[1;31mNameError\u001b[0m: name 'raw_input' is not defined"
     ]
    }
   ],
   "source": [
    "# Python 2.7\n",
    "\n",
    "username = raw_input(\"Enter username:\")\n",
    "\n",
    "print(\"Username is: \" + username)"
   ]
  },
  {
   "cell_type": "markdown",
   "id": "04ebb406",
   "metadata": {},
   "source": [
    "## Python Input() Function\n",
    "\n",
    "The input() function allows for user input."
   ]
  },
  {
   "cell_type": "code",
   "execution_count": 92,
   "id": "55e4660e",
   "metadata": {},
   "outputs": [
    {
     "name": "stdout",
     "output_type": "stream",
     "text": [
      "Enter your name:\n",
      "Siddharth Swain\n",
      "Hello, Siddharth Swain\n"
     ]
    }
   ],
   "source": [
    "# Ask for the user's name and print it.\n",
    "\n",
    "print('Enter your name:')\n",
    "\n",
    "x = input()\n",
    "\n",
    "print('Hello, ' + x)"
   ]
  },
  {
   "cell_type": "code",
   "execution_count": 1,
   "id": "f4a8e40b",
   "metadata": {},
   "outputs": [
    {
     "name": "stdout",
     "output_type": "stream",
     "text": [
      "Enter your name:Sid\n"
     ]
    },
    {
     "data": {
      "text/plain": [
       "str"
      ]
     },
     "execution_count": 1,
     "metadata": {},
     "output_type": "execute_result"
    }
   ],
   "source": [
    "x = input('Enter your name:')\n",
    "\n",
    "type(x)"
   ]
  },
  {
   "cell_type": "markdown",
   "id": "95624619",
   "metadata": {},
   "source": [
    "## Question\n",
    "\n",
    "Take three inputs a,b & c from the user.\n",
    "\n",
    "- Store (a+b)/c in variable d. \n",
    "- Store the sum of d and a complex number in variable e. \n",
    "- Calculate the sum of your name and e (concatenate it) and display the output."
   ]
  },
  {
   "cell_type": "code",
   "execution_count": 4,
   "id": "1a1ec5d6",
   "metadata": {},
   "outputs": [
    {
     "name": "stdout",
     "output_type": "stream",
     "text": [
      "Enter a:10\n",
      "Enter b:5\n",
      "Enter c:2\n",
      "7.5\n",
      "(12.5+3j)\n",
      "Siddharth Swain(12.5+3j)\n"
     ]
    }
   ],
   "source": [
    "a = int(input(\"Enter a:\"))\n",
    "b = int(input(\"Enter b:\"))\n",
    "c = int(input(\"Enter c:\"))\n",
    "\n",
    "d = (a+b)/c\n",
    "\n",
    "e = d + (5 + 3j)\n",
    "\n",
    "print(d)\n",
    "print(e)\n",
    "print(\"Siddharth Swain\"+str(e))"
   ]
  }
 ],
 "metadata": {
  "kernelspec": {
   "display_name": "Python 3 (ipykernel)",
   "language": "python",
   "name": "python3"
  },
  "language_info": {
   "codemirror_mode": {
    "name": "ipython",
    "version": 3
   },
   "file_extension": ".py",
   "mimetype": "text/x-python",
   "name": "python",
   "nbconvert_exporter": "python",
   "pygments_lexer": "ipython3",
   "version": "3.9.7"
  }
 },
 "nbformat": 4,
 "nbformat_minor": 5
}
