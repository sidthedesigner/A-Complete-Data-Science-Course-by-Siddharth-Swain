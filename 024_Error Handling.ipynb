{
 "cells": [
  {
   "cell_type": "markdown",
   "id": "f411e177",
   "metadata": {},
   "source": [
    "# 1. Introduction\n",
    "\n",
    "Error in Python can be of two types i.e. **Syntax Errors** and **Exceptions**. \n",
    "\n",
    "Errors are the problems in a program due to which the program will stop the execution. \n",
    "\n",
    "On the other hand, exceptions are raised when some internal events occur which changes the normal flow of the program."
   ]
  },
  {
   "cell_type": "markdown",
   "id": "ab287ded",
   "metadata": {},
   "source": [
    "# 2. Difference between Syntax Error and Exceptions\n",
    "\n",
    "**Syntax Error :** As the name suggests this error is caused by the wrong syntax in the code. It leads to the termination of the program. "
   ]
  },
  {
   "cell_type": "code",
   "execution_count": 1,
   "id": "cc8afe4e",
   "metadata": {},
   "outputs": [
    {
     "ename": "SyntaxError",
     "evalue": "invalid syntax (Temp/ipykernel_10796/3990467112.py, line 6)",
     "output_type": "error",
     "traceback": [
      "\u001b[1;36m  File \u001b[1;32m\"C:\\Users\\SIDDHA~1\\AppData\\Local\\Temp/ipykernel_10796/3990467112.py\"\u001b[1;36m, line \u001b[1;32m6\u001b[0m\n\u001b[1;33m    if(amount > 2999)\u001b[0m\n\u001b[1;37m                     ^\u001b[0m\n\u001b[1;31mSyntaxError\u001b[0m\u001b[1;31m:\u001b[0m invalid syntax\n"
     ]
    }
   ],
   "source": [
    "# initialize the amount variable\n",
    "amount = 10000\n",
    " \n",
    "# check that You are eligible to\n",
    "#  purchase Dsa Self Paced or not\n",
    "\n",
    "if(amount > 2999)\n",
    "print(\"You are eligible to purchase Dsa Self Paced\")"
   ]
  },
  {
   "cell_type": "markdown",
   "id": "97b080f5",
   "metadata": {},
   "source": [
    "**Exceptions :** Exceptions are raised when the program is syntactically correct, but the code resulted in an error. This error does not stop the execution of the program, however, it changes the normal flow of the program."
   ]
  },
  {
   "cell_type": "code",
   "execution_count": 2,
   "id": "cb608c1a",
   "metadata": {},
   "outputs": [
    {
     "ename": "ZeroDivisionError",
     "evalue": "division by zero",
     "output_type": "error",
     "traceback": [
      "\u001b[1;31m---------------------------------------------------------------------------\u001b[0m",
      "\u001b[1;31mZeroDivisionError\u001b[0m                         Traceback (most recent call last)",
      "\u001b[1;32mC:\\Users\\SIDDHA~1\\AppData\\Local\\Temp/ipykernel_10796/4267448164.py\u001b[0m in \u001b[0;36m<module>\u001b[1;34m\u001b[0m\n\u001b[0;32m      3\u001b[0m \u001b[1;33m\u001b[0m\u001b[0m\n\u001b[0;32m      4\u001b[0m \u001b[1;31m# perform division with 0\u001b[0m\u001b[1;33m\u001b[0m\u001b[1;33m\u001b[0m\u001b[0m\n\u001b[1;32m----> 5\u001b[1;33m \u001b[0ma\u001b[0m \u001b[1;33m=\u001b[0m \u001b[0mmarks\u001b[0m \u001b[1;33m/\u001b[0m \u001b[1;36m0\u001b[0m\u001b[1;33m\u001b[0m\u001b[1;33m\u001b[0m\u001b[0m\n\u001b[0m\u001b[0;32m      6\u001b[0m \u001b[0mprint\u001b[0m\u001b[1;33m(\u001b[0m\u001b[0ma\u001b[0m\u001b[1;33m)\u001b[0m\u001b[1;33m\u001b[0m\u001b[1;33m\u001b[0m\u001b[0m\n",
      "\u001b[1;31mZeroDivisionError\u001b[0m: division by zero"
     ]
    }
   ],
   "source": [
    "# initialize the amount variable\n",
    "\n",
    "marks = 10000\n",
    " \n",
    "# perform division with 0\n",
    "\n",
    "a = marks / 0\n",
    "\n",
    "print(a)"
   ]
  },
  {
   "cell_type": "markdown",
   "id": "6d320943",
   "metadata": {},
   "source": [
    "In the above example raised the ZeroDivisionError as we are trying to divide a number by 0.\n",
    "\n",
    "**Note :** Exception is the base class for all the exceptions in Python."
   ]
  },
  {
   "cell_type": "markdown",
   "id": "d6430afa",
   "metadata": {},
   "source": [
    "# 3. Try and Except Statement – Catching Exceptions\n",
    "\n",
    "Try and except statements are used to catch and handle exceptions in Python. Statements that can raise exceptions are kept inside the try clause and the statements that handle the exception are written inside except clause.\n",
    "\n",
    "**Example :** Let us try to access the array element whose index is out of bound and handle the corresponding exception."
   ]
  },
  {
   "cell_type": "code",
   "execution_count": 3,
   "id": "786269f0",
   "metadata": {},
   "outputs": [
    {
     "name": "stdout",
     "output_type": "stream",
     "text": [
      "Second element = 2\n",
      "An error occurred\n"
     ]
    }
   ],
   "source": [
    "# Python program to handle simple runtime error\n",
    "\n",
    "# Python 3\n",
    " \n",
    "a = [1, 2, 3]\n",
    "try:\n",
    "    print (\"Second element = %d\" %(a[1]))\n",
    " \n",
    "    # Throws error since there are only 3 elements in array\n",
    "    print (\"Fourth element = %d\" %(a[3]))\n",
    " \n",
    "except:\n",
    "    print (\"An error occurred\")"
   ]
  },
  {
   "cell_type": "markdown",
   "id": "b9e69d28",
   "metadata": {},
   "source": [
    "In the above example, the statements that can cause the error are placed inside the try statement (second print statement in our case). The second print statement tries to access the fourth element of the list which is not there and this throws an exception. This exception is then caught by the except statement."
   ]
  },
  {
   "cell_type": "markdown",
   "id": "1072f15a",
   "metadata": {},
   "source": [
    "# 4. Catching Specific Exception\n",
    "\n",
    "A try statement can have more than one except clause, to specify handlers for different exceptions. Please note that at most one handler will be executed. For example, we can add IndexError in the above code. The general syntax for adding specific exceptions are – "
   ]
  },
  {
   "cell_type": "code",
   "execution_count": null,
   "id": "bd7b37c6",
   "metadata": {},
   "outputs": [],
   "source": [
    "try:\n",
    "    # statement(s)\n",
    "except IndexError:\n",
    "    # statement(s)\n",
    "except ValueError:\n",
    "    # statement(s)"
   ]
  },
  {
   "cell_type": "code",
   "execution_count": 5,
   "id": "ff7e3da1",
   "metadata": {},
   "outputs": [
    {
     "name": "stdout",
     "output_type": "stream",
     "text": [
      "ZeroDivisionError Occurred and Handled\n"
     ]
    }
   ],
   "source": [
    "# Program to handle multiple errors with one\n",
    "# except statement\n",
    "# Python 3\n",
    " \n",
    "def fun(a):\n",
    "    if a < 4:\n",
    " \n",
    "        # throws ZeroDivisionError for a = 3\n",
    "        b = a/(a-3)\n",
    " \n",
    "    # throws NameError if a >= 4\n",
    "    print(\"Value of b = \", b)\n",
    "     \n",
    "try:\n",
    "    fun(3)\n",
    "    fun(5)\n",
    " \n",
    "# note that braces () are necessary here for\n",
    "# multiple exceptions\n",
    "except ZeroDivisionError:\n",
    "    print(\"ZeroDivisionError Occurred and Handled\")\n",
    "except NameError:\n",
    "    print(\"NameError Occurred and Handled\")"
   ]
  },
  {
   "cell_type": "code",
   "execution_count": 6,
   "id": "8fb80f1f",
   "metadata": {},
   "outputs": [
    {
     "name": "stdout",
     "output_type": "stream",
     "text": [
      "NameError Occurred and Handled\n"
     ]
    }
   ],
   "source": [
    "# Program to handle multiple errors with one\n",
    "# except statement\n",
    "# Python 3\n",
    " \n",
    "def fun(a):\n",
    "    if a < 4:\n",
    " \n",
    "        # throws ZeroDivisionError for a = 3\n",
    "        b = a/(a-3)\n",
    " \n",
    "    # throws NameError if a >= 4\n",
    "    print(\"Value of b = \", b)\n",
    "     \n",
    "try:\n",
    "    #fun(3)\n",
    "    fun(5)\n",
    " \n",
    "# note that braces () are necessary here for\n",
    "# multiple exceptions\n",
    "except ZeroDivisionError:\n",
    "    print(\"ZeroDivisionError Occurred and Handled\")\n",
    "except NameError:\n",
    "    print(\"NameError Occurred and Handled\")"
   ]
  },
  {
   "cell_type": "markdown",
   "id": "a8f437e4",
   "metadata": {},
   "source": [
    "The output above is so because as soon as python tries to access the value of b, NameError occurs. "
   ]
  },
  {
   "cell_type": "markdown",
   "id": "14819a46",
   "metadata": {},
   "source": [
    "# 5. Try with Else Clause\n",
    "\n",
    "In python, you can also use the else clause on the try-except block which must be present after all the except clauses. The code enters the else block only if the try clause does not raise an exception.\n",
    "\n",
    "**Example :** Try with else clause"
   ]
  },
  {
   "cell_type": "code",
   "execution_count": 7,
   "id": "6fff541a",
   "metadata": {},
   "outputs": [
    {
     "name": "stdout",
     "output_type": "stream",
     "text": [
      "-5.0\n",
      "a/b result in 0\n"
     ]
    }
   ],
   "source": [
    "# Program to depict else clause with try-except\n",
    "# Python 3\n",
    "# Function which returns a/b\n",
    "\n",
    "def AbyB(a , b):\n",
    "    try:\n",
    "        c = ((a+b) / (a-b))\n",
    "    except ZeroDivisionError:\n",
    "        print (\"a/b result in 0\")\n",
    "    else:\n",
    "        print (c)\n",
    " \n",
    "# Driver program to test above function\n",
    "\n",
    "AbyB(2.0, 3.0)\n",
    "AbyB(3.0, 3.0)"
   ]
  },
  {
   "cell_type": "markdown",
   "id": "e2767405",
   "metadata": {},
   "source": [
    "# 6. Finally Keyword\n",
    "\n",
    "Python provides a keyword finally, which is always executed after the try and except blocks. The final block always executes after normal termination of try block or after try block terminates due to some exception.\n",
    "\n",
    "**Syntax :**"
   ]
  },
  {
   "cell_type": "code",
   "execution_count": null,
   "id": "9a393376",
   "metadata": {},
   "outputs": [],
   "source": [
    "try:\n",
    "    # Some Code.... \n",
    "\n",
    "except:\n",
    "    # optional block\n",
    "    # Handling of exception (if required)\n",
    "\n",
    "else:\n",
    "    # execute if no exception\n",
    "\n",
    "finally:\n",
    "    # Some code .....(always executed)"
   ]
  },
  {
   "cell_type": "code",
   "execution_count": 8,
   "id": "ab07f200",
   "metadata": {},
   "outputs": [
    {
     "name": "stdout",
     "output_type": "stream",
     "text": [
      "Can't divide by zero\n",
      "This is always executed\n"
     ]
    }
   ],
   "source": [
    "# Python program to demonstrate finally\n",
    " \n",
    "# No exception Exception raised in try block\n",
    "try:\n",
    "    k = 5//0  # raises divide by zero exception.\n",
    "    print(k)\n",
    " \n",
    "# handles zerodivision exception\n",
    "except ZeroDivisionError:\n",
    "    print(\"Can't divide by zero\")\n",
    " \n",
    "finally:\n",
    "    # this block is always executed\n",
    "    # regardless of exception generation.\n",
    "    print('This is always executed')"
   ]
  },
  {
   "cell_type": "markdown",
   "id": "6d78d30f",
   "metadata": {},
   "source": [
    "# 7. Raising Exception\n",
    "\n",
    "The **raise statement** allows the programmer to force a specific exception to occur. The sole argument in raise indicates the exception to be raised. This must be either an exception instance or an exception class (a class that derives from Exception)."
   ]
  },
  {
   "cell_type": "code",
   "execution_count": 9,
   "id": "5e583d12",
   "metadata": {},
   "outputs": [
    {
     "name": "stdout",
     "output_type": "stream",
     "text": [
      "An exception\n"
     ]
    },
    {
     "ename": "NameError",
     "evalue": "Hi there",
     "output_type": "error",
     "traceback": [
      "\u001b[1;31m---------------------------------------------------------------------------\u001b[0m",
      "\u001b[1;31mNameError\u001b[0m                                 Traceback (most recent call last)",
      "\u001b[1;32mC:\\Users\\SIDDHA~1\\AppData\\Local\\Temp/ipykernel_10796/4104770865.py\u001b[0m in \u001b[0;36m<module>\u001b[1;34m\u001b[0m\n\u001b[0;32m      2\u001b[0m \u001b[1;33m\u001b[0m\u001b[0m\n\u001b[0;32m      3\u001b[0m \u001b[1;32mtry\u001b[0m\u001b[1;33m:\u001b[0m\u001b[1;33m\u001b[0m\u001b[1;33m\u001b[0m\u001b[0m\n\u001b[1;32m----> 4\u001b[1;33m     \u001b[1;32mraise\u001b[0m \u001b[0mNameError\u001b[0m\u001b[1;33m(\u001b[0m\u001b[1;34m\"Hi there\"\u001b[0m\u001b[1;33m)\u001b[0m  \u001b[1;31m# Raise Error\u001b[0m\u001b[1;33m\u001b[0m\u001b[1;33m\u001b[0m\u001b[0m\n\u001b[0m\u001b[0;32m      5\u001b[0m \u001b[1;32mexcept\u001b[0m \u001b[0mNameError\u001b[0m\u001b[1;33m:\u001b[0m\u001b[1;33m\u001b[0m\u001b[1;33m\u001b[0m\u001b[0m\n\u001b[0;32m      6\u001b[0m     \u001b[0mprint\u001b[0m \u001b[1;33m(\u001b[0m\u001b[1;34m\"An exception\"\u001b[0m\u001b[1;33m)\u001b[0m\u001b[1;33m\u001b[0m\u001b[1;33m\u001b[0m\u001b[0m\n",
      "\u001b[1;31mNameError\u001b[0m: Hi there"
     ]
    }
   ],
   "source": [
    "# Program to depict Raising Exception\n",
    " \n",
    "try:\n",
    "    raise NameError(\"Hi there\")  # Raise Error\n",
    "except NameError:\n",
    "    print (\"An exception\")\n",
    "    raise  # To determine whether the exception was raised or not"
   ]
  },
  {
   "cell_type": "markdown",
   "id": "1fa0680c",
   "metadata": {},
   "source": [
    "The output of the above code will simply line printed as “An exception” but a Runtime error will also occur in the last due to the raise statement in the last line. So, the output on your command line will look like. "
   ]
  },
  {
   "cell_type": "code",
   "execution_count": null,
   "id": "f46c94a7",
   "metadata": {},
   "outputs": [],
   "source": [
    "Traceback (most recent call last):\n",
    "  File \"/home/d6ec14ca595b97bff8d8034bbf212a9f.py\", line 5, in <module>\n",
    "    raise NameError(\"Hi there\")  # Raise Error\n",
    "NameError: Hi there"
   ]
  },
  {
   "cell_type": "markdown",
   "id": "adbf66bb",
   "metadata": {},
   "source": [
    "## Practice\n",
    "\n",
    "- Try: This tests whether the excepted error will occur.\n",
    "- Except:  This handles the error.\n",
    "- Else: This executes, if there is no exception.\n",
    "- Finally: This always executes irrespective of whether an exception is generated or not."
   ]
  },
  {
   "cell_type": "code",
   "execution_count": 1,
   "id": "4c74069d",
   "metadata": {
    "colab": {
     "base_uri": "https://localhost:8080/",
     "height": 129
    },
    "executionInfo": {
     "elapsed": 458,
     "status": "error",
     "timestamp": 1627743100019,
     "user": {
      "displayName": "Siddharth Swain",
      "photoUrl": "",
      "userId": "12055456511825659152"
     },
     "user_tz": -330
    },
    "id": "9cfMjJXiuCcd",
    "outputId": "23182a77-174f-4fde-8ea1-b195bc1d1389"
   },
   "outputs": [
    {
     "ename": "SyntaxError",
     "evalue": "ignored",
     "output_type": "error",
     "traceback": [
      "\u001b[0;36m  File \u001b[0;32m\"<ipython-input-1-a30f09cebbdd>\"\u001b[0;36m, line \u001b[0;32m1\u001b[0m\n\u001b[0;31m    print(\"fsfsfsfsd)\u001b[0m\n\u001b[0m                     ^\u001b[0m\n\u001b[0;31mSyntaxError\u001b[0m\u001b[0;31m:\u001b[0m EOL while scanning string literal\n"
     ]
    }
   ],
   "source": [
    "print(\"fsfsfsfsd)"
   ]
  },
  {
   "cell_type": "code",
   "execution_count": 2,
   "id": "7bbe7dc7",
   "metadata": {
    "executionInfo": {
     "elapsed": 2,
     "status": "ok",
     "timestamp": 1627743117526,
     "user": {
      "displayName": "Siddharth Swain",
      "photoUrl": "",
      "userId": "12055456511825659152"
     },
     "user_tz": -330
    },
    "id": "V19P3mIBDJQD"
   },
   "outputs": [],
   "source": [
    "def test():\n",
    "  return 5/0"
   ]
  },
  {
   "cell_type": "code",
   "execution_count": 3,
   "id": "d2b32004",
   "metadata": {
    "colab": {
     "base_uri": "https://localhost:8080/",
     "height": 231
    },
    "executionInfo": {
     "elapsed": 12,
     "status": "error",
     "timestamp": 1627743121065,
     "user": {
      "displayName": "Siddharth Swain",
      "photoUrl": "",
      "userId": "12055456511825659152"
     },
     "user_tz": -330
    },
    "id": "geeNWwEjDNTJ",
    "outputId": "56118bb6-a9fa-421c-b70c-737c88b463a2"
   },
   "outputs": [
    {
     "ename": "ZeroDivisionError",
     "evalue": "ignored",
     "output_type": "error",
     "traceback": [
      "\u001b[0;31m---------------------------------------------------------------------------\u001b[0m",
      "\u001b[0;31mZeroDivisionError\u001b[0m                         Traceback (most recent call last)",
      "\u001b[0;32m<ipython-input-3-fbd55f77ab7c>\u001b[0m in \u001b[0;36m<module>\u001b[0;34m()\u001b[0m\n\u001b[0;32m----> 1\u001b[0;31m \u001b[0mtest\u001b[0m\u001b[0;34m(\u001b[0m\u001b[0;34m)\u001b[0m\u001b[0;34m\u001b[0m\u001b[0;34m\u001b[0m\u001b[0m\n\u001b[0m",
      "\u001b[0;32m<ipython-input-2-d819d92adf9a>\u001b[0m in \u001b[0;36mtest\u001b[0;34m()\u001b[0m\n\u001b[1;32m      1\u001b[0m \u001b[0;32mdef\u001b[0m \u001b[0mtest\u001b[0m\u001b[0;34m(\u001b[0m\u001b[0;34m)\u001b[0m\u001b[0;34m:\u001b[0m\u001b[0;34m\u001b[0m\u001b[0;34m\u001b[0m\u001b[0m\n\u001b[0;32m----> 2\u001b[0;31m   \u001b[0;32mreturn\u001b[0m \u001b[0;36m5\u001b[0m\u001b[0;34m/\u001b[0m\u001b[0;36m0\u001b[0m\u001b[0;34m\u001b[0m\u001b[0;34m\u001b[0m\u001b[0m\n\u001b[0m",
      "\u001b[0;31mZeroDivisionError\u001b[0m: division by zero"
     ]
    }
   ],
   "source": [
    "test()"
   ]
  },
  {
   "cell_type": "code",
   "execution_count": 4,
   "id": "ced6c34a",
   "metadata": {
    "colab": {
     "base_uri": "https://localhost:8080/",
     "height": 163
    },
    "executionInfo": {
     "elapsed": 471,
     "status": "error",
     "timestamp": 1627743766261,
     "user": {
      "displayName": "Siddharth Swain",
      "photoUrl": "",
      "userId": "12055456511825659152"
     },
     "user_tz": -330
    },
    "id": "uzXmEZsnDN2p",
    "outputId": "df4d8298-96ad-40d7-8d45-b1d4027f85e6"
   },
   "outputs": [
    {
     "ename": "FileNotFoundError",
     "evalue": "ignored",
     "output_type": "error",
     "traceback": [
      "\u001b[0;31m---------------------------------------------------------------------------\u001b[0m",
      "\u001b[0;31mFileNotFoundError\u001b[0m                         Traceback (most recent call last)",
      "\u001b[0;32m<ipython-input-4-157b76ae4ba1>\u001b[0m in \u001b[0;36m<module>\u001b[0;34m()\u001b[0m\n\u001b[0;32m----> 1\u001b[0;31m \u001b[0ma\u001b[0m \u001b[0;34m=\u001b[0m \u001b[0mopen\u001b[0m\u001b[0;34m(\u001b[0m\u001b[0;34m\"test.txt\"\u001b[0m\u001b[0;34m,\u001b[0m \u001b[0;34m'r'\u001b[0m\u001b[0;34m)\u001b[0m\u001b[0;34m\u001b[0m\u001b[0;34m\u001b[0m\u001b[0m\n\u001b[0m",
      "\u001b[0;31mFileNotFoundError\u001b[0m: [Errno 2] No such file or directory: 'test.txt'"
     ]
    }
   ],
   "source": [
    "a = open(\"test.txt\", 'r')"
   ]
  },
  {
   "cell_type": "code",
   "execution_count": 1,
   "id": "0f2fae2b",
   "metadata": {
    "colab": {
     "base_uri": "https://localhost:8080/"
    },
    "executionInfo": {
     "elapsed": 457,
     "status": "ok",
     "timestamp": 1627743812593,
     "user": {
      "displayName": "Siddharth Swain",
      "photoUrl": "",
      "userId": "12055456511825659152"
     },
     "user_tz": -330
    },
    "id": "ECMYKyezFsJi",
    "outputId": "4454438b-7079-4480-a1b2-baaab69023e7"
   },
   "outputs": [
    {
     "name": "stdout",
     "output_type": "stream",
     "text": [
      "Sorry the text file does not exist in the system.\n"
     ]
    }
   ],
   "source": [
    "try:\n",
    "  a = open(\"test.txt\", 'r')\n",
    "except:\n",
    "  print(\"Sorry the text file does not exist in the system.\")"
   ]
  },
  {
   "cell_type": "code",
   "execution_count": 2,
   "id": "cb195dfe",
   "metadata": {
    "colab": {
     "base_uri": "https://localhost:8080/"
    },
    "executionInfo": {
     "elapsed": 453,
     "status": "ok",
     "timestamp": 1627743982139,
     "user": {
      "displayName": "Siddharth Swain",
      "photoUrl": "",
      "userId": "12055456511825659152"
     },
     "user_tz": -330
    },
    "id": "i_beGqijF2FX",
    "outputId": "34a8a55b-dc59-4ef2-9130-5b397c052117"
   },
   "outputs": [
    {
     "name": "stdout",
     "output_type": "stream",
     "text": [
      "Sorry the text file does not exist in the system.\n"
     ]
    }
   ],
   "source": [
    "try:\n",
    "  a = 5/0\n",
    "except ArithmeticError:\n",
    "  print(\"Sorry the text file does not exist in the system.\")"
   ]
  },
  {
   "cell_type": "code",
   "execution_count": 12,
   "id": "e28347c2",
   "metadata": {
    "colab": {
     "base_uri": "https://localhost:8080/",
     "height": 214
    },
    "executionInfo": {
     "elapsed": 458,
     "status": "error",
     "timestamp": 1627743996866,
     "user": {
      "displayName": "Siddharth Swain",
      "photoUrl": "",
      "userId": "12055456511825659152"
     },
     "user_tz": -330
    },
    "id": "NefL1G5WGJ1n",
    "outputId": "94c75fc9-5660-4bdd-d62e-6880647fc6b0"
   },
   "outputs": [
    {
     "ename": "ZeroDivisionError",
     "evalue": "ignored",
     "output_type": "error",
     "traceback": [
      "\u001b[0;31m---------------------------------------------------------------------------\u001b[0m",
      "\u001b[0;31mZeroDivisionError\u001b[0m                         Traceback (most recent call last)",
      "\u001b[0;32m<ipython-input-12-6a4c68d02d5a>\u001b[0m in \u001b[0;36m<module>\u001b[0;34m()\u001b[0m\n\u001b[1;32m      1\u001b[0m \u001b[0;32mtry\u001b[0m\u001b[0;34m:\u001b[0m\u001b[0;34m\u001b[0m\u001b[0;34m\u001b[0m\u001b[0m\n\u001b[0;32m----> 2\u001b[0;31m   \u001b[0ma\u001b[0m \u001b[0;34m=\u001b[0m \u001b[0;36m5\u001b[0m\u001b[0;34m/\u001b[0m\u001b[0;36m0\u001b[0m\u001b[0;34m\u001b[0m\u001b[0;34m\u001b[0m\u001b[0m\n\u001b[0m\u001b[1;32m      3\u001b[0m \u001b[0;32mexcept\u001b[0m \u001b[0mIOError\u001b[0m\u001b[0;34m:\u001b[0m\u001b[0;34m\u001b[0m\u001b[0;34m\u001b[0m\u001b[0m\n\u001b[1;32m      4\u001b[0m   \u001b[0mprint\u001b[0m\u001b[0;34m(\u001b[0m\u001b[0;34m\"Sorry the text file does not exist in the system.\"\u001b[0m\u001b[0;34m)\u001b[0m\u001b[0;34m\u001b[0m\u001b[0;34m\u001b[0m\u001b[0m\n",
      "\u001b[0;31mZeroDivisionError\u001b[0m: division by zero"
     ]
    }
   ],
   "source": [
    "try:\n",
    "  a = 5/0\n",
    "except IOError:\n",
    "  print(\"Sorry the text file does not exist in the system.\")"
   ]
  },
  {
   "cell_type": "code",
   "execution_count": 14,
   "id": "4b8f68e5",
   "metadata": {
    "colab": {
     "base_uri": "https://localhost:8080/"
    },
    "executionInfo": {
     "elapsed": 443,
     "status": "ok",
     "timestamp": 1627744074253,
     "user": {
      "displayName": "Siddharth Swain",
      "photoUrl": "",
      "userId": "12055456511825659152"
     },
     "user_tz": -330
    },
    "id": "X01527P1Gkcn",
    "outputId": "5f7533fa-905b-4074-ae5b-de20fbfe36d3"
   },
   "outputs": [
    {
     "name": "stdout",
     "output_type": "stream",
     "text": [
      "Sorry the text file does not exist in the system. division by zero\n"
     ]
    }
   ],
   "source": [
    "try:\n",
    "  a = 5/0\n",
    "except ArithmeticError as e:\n",
    "  print(\"Sorry the text file does not exist in the system.\",e)"
   ]
  },
  {
   "cell_type": "code",
   "execution_count": 15,
   "id": "81a13bf7",
   "metadata": {
    "colab": {
     "base_uri": "https://localhost:8080/"
    },
    "executionInfo": {
     "elapsed": 495,
     "status": "ok",
     "timestamp": 1627744161288,
     "user": {
      "displayName": "Siddharth Swain",
      "photoUrl": "",
      "userId": "12055456511825659152"
     },
     "user_tz": -330
    },
    "id": "wC0CXIwcG2Hf",
    "outputId": "cd3437d5-18e4-4561-b77c-32e1588f805c"
   },
   "outputs": [
    {
     "name": "stdout",
     "output_type": "stream",
     "text": [
      "This will execute once try gets executed.\n"
     ]
    }
   ],
   "source": [
    "try:\n",
    "  a = 5/4\n",
    "except ArithmeticError as e:\n",
    "  print(\"Sorry the text file does not exist in the system.\",e)\n",
    "else:\n",
    "  print(\"This will execute once try gets executed.\")"
   ]
  },
  {
   "cell_type": "code",
   "execution_count": 16,
   "id": "6de7c332",
   "metadata": {
    "colab": {
     "base_uri": "https://localhost:8080/"
    },
    "executionInfo": {
     "elapsed": 442,
     "status": "ok",
     "timestamp": 1627744207101,
     "user": {
      "displayName": "Siddharth Swain",
      "photoUrl": "",
      "userId": "12055456511825659152"
     },
     "user_tz": -330
    },
    "id": "-M6YZrCFHMlX",
    "outputId": "a6da2d0e-1015-4521-c313-39adcc0f9138"
   },
   "outputs": [
    {
     "name": "stdout",
     "output_type": "stream",
     "text": [
      "Sorry the text file does not exist in the system. division by zero\n"
     ]
    }
   ],
   "source": [
    "try:\n",
    "  a = 5/0\n",
    "except ArithmeticError as e:\n",
    "  print(\"Sorry the text file does not exist in the system.\",e)\n",
    "else:\n",
    "  print(\"This will execute once try gets executed.\")"
   ]
  },
  {
   "cell_type": "code",
   "execution_count": 17,
   "id": "beece1a7",
   "metadata": {
    "colab": {
     "base_uri": "https://localhost:8080/",
     "height": 214
    },
    "executionInfo": {
     "elapsed": 485,
     "status": "error",
     "timestamp": 1627744275222,
     "user": {
      "displayName": "Siddharth Swain",
      "photoUrl": "",
      "userId": "12055456511825659152"
     },
     "user_tz": -330
    },
    "id": "jYqPfJOgHXxf",
    "outputId": "c4eb2d94-e58a-4d21-8a39-8c58de055e87"
   },
   "outputs": [
    {
     "name": "stdout",
     "output_type": "stream",
     "text": [
      "This will execute once try gets executed.\n"
     ]
    },
    {
     "ename": "FileNotFoundError",
     "evalue": "ignored",
     "output_type": "error",
     "traceback": [
      "\u001b[0;31m---------------------------------------------------------------------------\u001b[0m",
      "\u001b[0;31mFileNotFoundError\u001b[0m                         Traceback (most recent call last)",
      "\u001b[0;32m<ipython-input-17-638ad74c6269>\u001b[0m in \u001b[0;36m<module>\u001b[0;34m()\u001b[0m\n\u001b[1;32m      5\u001b[0m \u001b[0;32melse\u001b[0m\u001b[0;34m:\u001b[0m\u001b[0;34m\u001b[0m\u001b[0;34m\u001b[0m\u001b[0m\n\u001b[1;32m      6\u001b[0m   \u001b[0mprint\u001b[0m\u001b[0;34m(\u001b[0m\u001b[0;34m\"This will execute once try gets executed.\"\u001b[0m\u001b[0;34m)\u001b[0m\u001b[0;34m\u001b[0m\u001b[0;34m\u001b[0m\u001b[0m\n\u001b[0;32m----> 7\u001b[0;31m   \u001b[0mf\u001b[0m \u001b[0;34m=\u001b[0m \u001b[0mopen\u001b[0m\u001b[0;34m(\u001b[0m\u001b[0;34m\"test.txt\"\u001b[0m\u001b[0;34m,\u001b[0m\u001b[0;34m\"r\"\u001b[0m\u001b[0;34m)\u001b[0m\u001b[0;34m\u001b[0m\u001b[0;34m\u001b[0m\u001b[0m\n\u001b[0m",
      "\u001b[0;31mFileNotFoundError\u001b[0m: [Errno 2] No such file or directory: 'test.txt'"
     ]
    }
   ],
   "source": [
    "try:\n",
    "  a = 5/4\n",
    "except ArithmeticError as e:\n",
    "  print(\"Sorry the text file does not exist in the system.\",e)\n",
    "else:\n",
    "  print(\"This will execute once try gets executed.\")\n",
    "  f = open(\"test.txt\",\"r\")"
   ]
  },
  {
   "cell_type": "code",
   "execution_count": 18,
   "id": "a4dfb047",
   "metadata": {
    "colab": {
     "base_uri": "https://localhost:8080/"
    },
    "executionInfo": {
     "elapsed": 452,
     "status": "ok",
     "timestamp": 1627744329292,
     "user": {
      "displayName": "Siddharth Swain",
      "photoUrl": "",
      "userId": "12055456511825659152"
     },
     "user_tz": -330
    },
    "id": "9vD1ea2dHoZn",
    "outputId": "79378740-5487-466f-f1b1-c2aedc3ca7ec"
   },
   "outputs": [
    {
     "name": "stdout",
     "output_type": "stream",
     "text": [
      "This will execute once try gets executed.\n",
      "There is no file to open.\n"
     ]
    }
   ],
   "source": [
    "try:\n",
    "  a = 5/4\n",
    "except ArithmeticError as e:\n",
    "  print(\"Sorry the text file does not exist in the system.\",e)\n",
    "else:\n",
    "  print(\"This will execute once try gets executed.\")\n",
    "  try:\n",
    "    f = open(\"test.txt\",\"r\")\n",
    "  except:\n",
    "    print(\"There is no file to open.\")"
   ]
  },
  {
   "cell_type": "code",
   "execution_count": 19,
   "id": "8fea4082",
   "metadata": {
    "colab": {
     "base_uri": "https://localhost:8080/"
    },
    "executionInfo": {
     "elapsed": 461,
     "status": "ok",
     "timestamp": 1627744379992,
     "user": {
      "displayName": "Siddharth Swain",
      "photoUrl": "",
      "userId": "12055456511825659152"
     },
     "user_tz": -330
    },
    "id": "MYYuMlu2H1mv",
    "outputId": "46ee92a4-bc28-4959-bbed-7a69f8da490c"
   },
   "outputs": [
    {
     "name": "stdout",
     "output_type": "stream",
     "text": [
      "Sorry the text file does not exist in the system. division by zero\n",
      "There is no file to open.\n"
     ]
    }
   ],
   "source": [
    "try:\n",
    "  a = 5/0\n",
    "except ArithmeticError as e:\n",
    "  print(\"Sorry the text file does not exist in the system.\",e)\n",
    "  try:\n",
    "    f = open(\"test.txt\",\"r\")\n",
    "  except:\n",
    "    print(\"There is no file to open.\")\n",
    "else:\n",
    "  print(\"This will execute once try gets executed.\")\n",
    "  try:\n",
    "    f = open(\"test.txt\",\"r\")\n",
    "  except:\n",
    "    print(\"There is no file to open.\")"
   ]
  },
  {
   "cell_type": "markdown",
   "id": "e76713a6",
   "metadata": {
    "id": "GhM8uP9oJCJt"
   },
   "source": [
    "## Practice"
   ]
  },
  {
   "cell_type": "code",
   "execution_count": 25,
   "id": "70769973",
   "metadata": {
    "colab": {
     "base_uri": "https://localhost:8080/"
    },
    "executionInfo": {
     "elapsed": 448,
     "status": "ok",
     "timestamp": 1627744896778,
     "user": {
      "displayName": "Siddharth Swain",
      "photoUrl": "",
      "userId": "12055456511825659152"
     },
     "user_tz": -330
    },
    "id": "THnv5ZJRIB--",
    "outputId": "603dd972-ac4a-41db-eec7-ec314067152a"
   },
   "outputs": [
    {
     "name": "stdout",
     "output_type": "stream",
     "text": [
      "(4, 5, 6, 7, 7, 8, 9)\n"
     ]
    }
   ],
   "source": [
    "try:\n",
    "  l = [4,5,6,7,8,9]\n",
    "  l[1]\n",
    "except:\n",
    "  print(\"List out of range error!\")\n",
    "  t = (4,5,6,7,7,8,9)\n",
    "  print(t)\n",
    "else:\n",
    "  t = (4,5,6,7,7,8,9)\n",
    "  print(t)"
   ]
  },
  {
   "cell_type": "code",
   "execution_count": 26,
   "id": "c5bb4800",
   "metadata": {
    "colab": {
     "base_uri": "https://localhost:8080/"
    },
    "executionInfo": {
     "elapsed": 454,
     "status": "ok",
     "timestamp": 1627744906140,
     "user": {
      "displayName": "Siddharth Swain",
      "photoUrl": "",
      "userId": "12055456511825659152"
     },
     "user_tz": -330
    },
    "id": "lv_sJMJMJMiW",
    "outputId": "6579313a-578b-4db9-8887-6d2a614ddc82"
   },
   "outputs": [
    {
     "name": "stdout",
     "output_type": "stream",
     "text": [
      "List out of range error!\n",
      "(4, 5, 6, 7, 7, 8, 9)\n"
     ]
    }
   ],
   "source": [
    "try:\n",
    "  l = [4,5,6,7,8,9]\n",
    "  l[100]\n",
    "except:\n",
    "  print(\"List out of range error!\")\n",
    "  t = (4,5,6,7,7,8,9)\n",
    "  print(t)\n",
    "else:\n",
    "  t = (4,5,6,7,7,8,9)\n",
    "  print(t)"
   ]
  },
  {
   "cell_type": "code",
   "execution_count": 27,
   "id": "4f7d66f4",
   "metadata": {
    "colab": {
     "base_uri": "https://localhost:8080/"
    },
    "executionInfo": {
     "elapsed": 455,
     "status": "ok",
     "timestamp": 1627744988633,
     "user": {
      "displayName": "Siddharth Swain",
      "photoUrl": "",
      "userId": "12055456511825659152"
     },
     "user_tz": -330
    },
    "id": "tlthzvSYKCcO",
    "outputId": "d9cac309-1a64-491e-f40e-a5eaf6218ade"
   },
   "outputs": [
    {
     "name": "stdout",
     "output_type": "stream",
     "text": [
      "There is no issue with this code.\n"
     ]
    }
   ],
   "source": [
    "try:\n",
    "  l = [4,5,6,7,8,9]\n",
    "  l[1]\n",
    "except:\n",
    "  print(\"List out of range error!\")\n",
    "  t = (4,5,6,7,7,8,9)\n",
    "  print(t)\n",
    "  try:\n",
    "    t[0] = \"sudh\"\n",
    "  except:\n",
    "    print(\"Tuples are immutable!\")\n",
    "else:\n",
    "  print(\"There is no issue with this code.\")"
   ]
  },
  {
   "cell_type": "code",
   "execution_count": 28,
   "id": "d9047f8c",
   "metadata": {
    "colab": {
     "base_uri": "https://localhost:8080/"
    },
    "executionInfo": {
     "elapsed": 445,
     "status": "ok",
     "timestamp": 1627744999830,
     "user": {
      "displayName": "Siddharth Swain",
      "photoUrl": "",
      "userId": "12055456511825659152"
     },
     "user_tz": -330
    },
    "id": "osgxmIKOKWlV",
    "outputId": "ea7b973e-614f-41f9-9d64-765d32225b50"
   },
   "outputs": [
    {
     "name": "stdout",
     "output_type": "stream",
     "text": [
      "List out of range error!\n",
      "(4, 5, 6, 7, 7, 8, 9)\n",
      "Tuples are immutable!\n"
     ]
    }
   ],
   "source": [
    "try:\n",
    "  l = [4,5,6,7,8,9]\n",
    "  l[10]\n",
    "except:\n",
    "  print(\"List out of range error!\")\n",
    "  t = (4,5,6,7,7,8,9)\n",
    "  print(t)\n",
    "  try:\n",
    "    t[0] = \"sudh\"\n",
    "  except:\n",
    "    print(\"Tuples are immutable!\")\n",
    "else:\n",
    "  print(\"There is no issue with this code.\")"
   ]
  },
  {
   "cell_type": "markdown",
   "id": "81228b1f",
   "metadata": {
    "id": "bUd8-getK9nO"
   },
   "source": [
    "## Practice"
   ]
  },
  {
   "cell_type": "code",
   "execution_count": 32,
   "id": "e00f8685",
   "metadata": {
    "colab": {
     "base_uri": "https://localhost:8080/"
    },
    "executionInfo": {
     "elapsed": 457,
     "status": "ok",
     "timestamp": 1627745310100,
     "user": {
      "displayName": "Siddharth Swain",
      "photoUrl": "",
      "userId": "12055456511825659152"
     },
     "user_tz": -330
    },
    "id": "3GFThznMKZUN",
    "outputId": "e82a9755-5816-48ce-eb52-58938fe0d2ce"
   },
   "outputs": [
    {
     "name": "stdout",
     "output_type": "stream",
     "text": [
      "No file found!\n",
      "Finally I will execute in any case.\n"
     ]
    }
   ],
   "source": [
    "try:\n",
    "  f = open(\"new.txt\",'r')\n",
    "except:\n",
    "  print(\"No file found!\")\n",
    "finally:\n",
    "  print(\"Finally I will execute in any case.\")"
   ]
  },
  {
   "cell_type": "code",
   "execution_count": 33,
   "id": "79836d33",
   "metadata": {
    "colab": {
     "base_uri": "https://localhost:8080/"
    },
    "executionInfo": {
     "elapsed": 458,
     "status": "ok",
     "timestamp": 1627745413395,
     "user": {
      "displayName": "Siddharth Swain",
      "photoUrl": "",
      "userId": "12055456511825659152"
     },
     "user_tz": -330
    },
    "id": "j9ZkFf8jLlEF",
    "outputId": "c5dd14d6-05ae-486a-f1b2-115b9f705a8e"
   },
   "outputs": [
    {
     "name": "stdout",
     "output_type": "stream",
     "text": [
      "No file found!\n",
      "Finally I will execute in any case.\n"
     ]
    }
   ],
   "source": [
    "try:\n",
    "  f = open(\"new.txt\",'r')\n",
    "except:\n",
    "  print(\"No file found!\")\n",
    "finally:\n",
    "  print(\"Finally I will execute in any case.\")\n",
    "  l = [4,5,6,7]\n",
    "  try:\n",
    "    print(l[10])\n",
    "  except:\n",
    "    pass"
   ]
  },
  {
   "cell_type": "code",
   "execution_count": 34,
   "id": "23c10938",
   "metadata": {
    "colab": {
     "base_uri": "https://localhost:8080/"
    },
    "executionInfo": {
     "elapsed": 557,
     "status": "ok",
     "timestamp": 1627745493254,
     "user": {
      "displayName": "Siddharth Swain",
      "photoUrl": "",
      "userId": "12055456511825659152"
     },
     "user_tz": -330
    },
    "id": "x93eo73ZL-SN",
    "outputId": "ebf9c9e6-45ae-4726-ae2f-5285e3f416b7"
   },
   "outputs": [
    {
     "name": "stdout",
     "output_type": "stream",
     "text": [
      "No file found!\n",
      "Finally I will execute in any case.\n"
     ]
    }
   ],
   "source": [
    "try:\n",
    "  f = open(\"new.txt\",'r')\n",
    "except:\n",
    "  print(\"No file found!\")\n",
    "else:\n",
    "  print(\"No file found!\")\n",
    "finally:\n",
    "  print(\"Finally I will execute in any case.\")"
   ]
  },
  {
   "cell_type": "code",
   "execution_count": 35,
   "id": "d49e9fa0",
   "metadata": {
    "colab": {
     "base_uri": "https://localhost:8080/",
     "height": 384
    },
    "executionInfo": {
     "elapsed": 15,
     "status": "error",
     "timestamp": 1627745609619,
     "user": {
      "displayName": "Siddharth Swain",
      "photoUrl": "",
      "userId": "12055456511825659152"
     },
     "user_tz": -330
    },
    "id": "CAeL-hk3MRwN",
    "outputId": "e6479154-b503-4eea-8a96-0dfb608593c2"
   },
   "outputs": [
    {
     "ename": "NameError",
     "evalue": "ignored",
     "output_type": "error",
     "traceback": [
      "\u001b[0;31m---------------------------------------------------------------------------\u001b[0m",
      "\u001b[0;31mFileNotFoundError\u001b[0m                         Traceback (most recent call last)",
      "\u001b[0;32m<ipython-input-35-d20ca786a7fe>\u001b[0m in \u001b[0;36m<module>\u001b[0;34m()\u001b[0m\n\u001b[1;32m      1\u001b[0m \u001b[0;32mtry\u001b[0m\u001b[0;34m:\u001b[0m\u001b[0;34m\u001b[0m\u001b[0;34m\u001b[0m\u001b[0m\n\u001b[0;32m----> 2\u001b[0;31m   \u001b[0mf\u001b[0m \u001b[0;34m=\u001b[0m \u001b[0mopen\u001b[0m\u001b[0;34m(\u001b[0m\u001b[0;34m\"test1.txt\"\u001b[0m\u001b[0;34m,\u001b[0m\u001b[0;34m\"r\"\u001b[0m\u001b[0;34m)\u001b[0m\u001b[0;34m\u001b[0m\u001b[0;34m\u001b[0m\u001b[0m\n\u001b[0m\u001b[1;32m      3\u001b[0m \u001b[0;32mexcept\u001b[0m \u001b[0mIOerror\u001b[0m \u001b[0;32mas\u001b[0m \u001b[0me\u001b[0m\u001b[0;34m:\u001b[0m\u001b[0;34m\u001b[0m\u001b[0;34m\u001b[0m\u001b[0m\n",
      "\u001b[0;31mFileNotFoundError\u001b[0m: [Errno 2] No such file or directory: 'test1.txt'",
      "\nDuring handling of the above exception, another exception occurred:\n",
      "\u001b[0;31mNameError\u001b[0m                                 Traceback (most recent call last)",
      "\u001b[0;32m<ipython-input-35-d20ca786a7fe>\u001b[0m in \u001b[0;36m<module>\u001b[0;34m()\u001b[0m\n\u001b[1;32m      1\u001b[0m \u001b[0;32mtry\u001b[0m\u001b[0;34m:\u001b[0m\u001b[0;34m\u001b[0m\u001b[0;34m\u001b[0m\u001b[0m\n\u001b[1;32m      2\u001b[0m   \u001b[0mf\u001b[0m \u001b[0;34m=\u001b[0m \u001b[0mopen\u001b[0m\u001b[0;34m(\u001b[0m\u001b[0;34m\"test1.txt\"\u001b[0m\u001b[0;34m,\u001b[0m\u001b[0;34m\"r\"\u001b[0m\u001b[0;34m)\u001b[0m\u001b[0;34m\u001b[0m\u001b[0;34m\u001b[0m\u001b[0m\n\u001b[0;32m----> 3\u001b[0;31m \u001b[0;32mexcept\u001b[0m \u001b[0mIOerror\u001b[0m \u001b[0;32mas\u001b[0m \u001b[0me\u001b[0m\u001b[0;34m:\u001b[0m\u001b[0;34m\u001b[0m\u001b[0;34m\u001b[0m\u001b[0m\n\u001b[0m\u001b[1;32m      4\u001b[0m   \u001b[0mprint\u001b[0m\u001b[0;34m(\u001b[0m\u001b[0;34m\"this is my error\"\u001b[0m\u001b[0;34m,\u001b[0m\u001b[0me\u001b[0m\u001b[0;34m)\u001b[0m\u001b[0;34m\u001b[0m\u001b[0;34m\u001b[0m\u001b[0m\n",
      "\u001b[0;31mNameError\u001b[0m: name 'IOerror' is not defined"
     ]
    }
   ],
   "source": [
    "try:\n",
    "  f = open(\"test1.txt\",\"r\")\n",
    "except IOerror as e:\n",
    "  print(\"this is my error\",e)"
   ]
  },
  {
   "cell_type": "markdown",
   "id": "8aa71824",
   "metadata": {
    "id": "x5YkFjH4OEoG"
   },
   "source": [
    "## Practice"
   ]
  },
  {
   "cell_type": "code",
   "execution_count": 11,
   "id": "5b5eb766",
   "metadata": {
    "executionInfo": {
     "elapsed": 368,
     "status": "ok",
     "timestamp": 1627793438355,
     "user": {
      "displayName": "Siddharth Swain",
      "photoUrl": "",
      "userId": "12055456511825659152"
     },
     "user_tz": -330
    },
    "id": "KjKFqW7OMt-E"
   },
   "outputs": [],
   "source": [
    "def askforint():\n",
    "  while True:\n",
    "    try:\n",
    "      a = int(input(\"enter an integer:\"))\n",
    "    except Exception as e:\n",
    "      print(\"Please enter a valid input!\",e)\n",
    "    else:\n",
    "      print(\"You have entered a valid integer.\")\n",
    "      break"
   ]
  },
  {
   "cell_type": "code",
   "execution_count": 12,
   "id": "0433c3cb",
   "metadata": {
    "colab": {
     "base_uri": "https://localhost:8080/",
     "height": 561
    },
    "executionInfo": {
     "elapsed": 261089,
     "status": "error",
     "timestamp": 1627793699885,
     "user": {
      "displayName": "Siddharth Swain",
      "photoUrl": "",
      "userId": "12055456511825659152"
     },
     "user_tz": -330
    },
    "id": "tUJZWptVNFTc",
    "outputId": "c2f9366c-43c4-40f1-89bd-3f5a6b2f5d37"
   },
   "outputs": [
    {
     "name": "stdout",
     "output_type": "stream",
     "text": [
      "enter an integer:2d\n",
      "Please enter a valid input! invalid literal for int() with base 10: '2d'\n"
     ]
    },
    {
     "ename": "KeyboardInterrupt",
     "evalue": "ignored",
     "output_type": "error",
     "traceback": [
      "\u001b[0;31m---------------------------------------------------------------------------\u001b[0m",
      "\u001b[0;31mKeyboardInterrupt\u001b[0m                         Traceback (most recent call last)",
      "\u001b[0;32m/usr/local/lib/python3.7/dist-packages/ipykernel/kernelbase.py\u001b[0m in \u001b[0;36m_input_request\u001b[0;34m(self, prompt, ident, parent, password)\u001b[0m\n\u001b[1;32m    728\u001b[0m             \u001b[0;32mtry\u001b[0m\u001b[0;34m:\u001b[0m\u001b[0;34m\u001b[0m\u001b[0;34m\u001b[0m\u001b[0m\n\u001b[0;32m--> 729\u001b[0;31m                 \u001b[0mident\u001b[0m\u001b[0;34m,\u001b[0m \u001b[0mreply\u001b[0m \u001b[0;34m=\u001b[0m \u001b[0mself\u001b[0m\u001b[0;34m.\u001b[0m\u001b[0msession\u001b[0m\u001b[0;34m.\u001b[0m\u001b[0mrecv\u001b[0m\u001b[0;34m(\u001b[0m\u001b[0mself\u001b[0m\u001b[0;34m.\u001b[0m\u001b[0mstdin_socket\u001b[0m\u001b[0;34m,\u001b[0m \u001b[0;36m0\u001b[0m\u001b[0;34m)\u001b[0m\u001b[0;34m\u001b[0m\u001b[0;34m\u001b[0m\u001b[0m\n\u001b[0m\u001b[1;32m    730\u001b[0m             \u001b[0;32mexcept\u001b[0m \u001b[0mException\u001b[0m\u001b[0;34m:\u001b[0m\u001b[0;34m\u001b[0m\u001b[0;34m\u001b[0m\u001b[0m\n",
      "\u001b[0;32m/usr/local/lib/python3.7/dist-packages/jupyter_client/session.py\u001b[0m in \u001b[0;36mrecv\u001b[0;34m(self, socket, mode, content, copy)\u001b[0m\n\u001b[1;32m    802\u001b[0m         \u001b[0;32mtry\u001b[0m\u001b[0;34m:\u001b[0m\u001b[0;34m\u001b[0m\u001b[0;34m\u001b[0m\u001b[0m\n\u001b[0;32m--> 803\u001b[0;31m             \u001b[0mmsg_list\u001b[0m \u001b[0;34m=\u001b[0m \u001b[0msocket\u001b[0m\u001b[0;34m.\u001b[0m\u001b[0mrecv_multipart\u001b[0m\u001b[0;34m(\u001b[0m\u001b[0mmode\u001b[0m\u001b[0;34m,\u001b[0m \u001b[0mcopy\u001b[0m\u001b[0;34m=\u001b[0m\u001b[0mcopy\u001b[0m\u001b[0;34m)\u001b[0m\u001b[0;34m\u001b[0m\u001b[0;34m\u001b[0m\u001b[0m\n\u001b[0m\u001b[1;32m    804\u001b[0m         \u001b[0;32mexcept\u001b[0m \u001b[0mzmq\u001b[0m\u001b[0;34m.\u001b[0m\u001b[0mZMQError\u001b[0m \u001b[0;32mas\u001b[0m \u001b[0me\u001b[0m\u001b[0;34m:\u001b[0m\u001b[0;34m\u001b[0m\u001b[0;34m\u001b[0m\u001b[0m\n",
      "\u001b[0;32m/usr/local/lib/python3.7/dist-packages/zmq/sugar/socket.py\u001b[0m in \u001b[0;36mrecv_multipart\u001b[0;34m(self, flags, copy, track)\u001b[0m\n\u001b[1;32m    582\u001b[0m         \"\"\"\n\u001b[0;32m--> 583\u001b[0;31m         \u001b[0mparts\u001b[0m \u001b[0;34m=\u001b[0m \u001b[0;34m[\u001b[0m\u001b[0mself\u001b[0m\u001b[0;34m.\u001b[0m\u001b[0mrecv\u001b[0m\u001b[0;34m(\u001b[0m\u001b[0mflags\u001b[0m\u001b[0;34m,\u001b[0m \u001b[0mcopy\u001b[0m\u001b[0;34m=\u001b[0m\u001b[0mcopy\u001b[0m\u001b[0;34m,\u001b[0m \u001b[0mtrack\u001b[0m\u001b[0;34m=\u001b[0m\u001b[0mtrack\u001b[0m\u001b[0;34m)\u001b[0m\u001b[0;34m]\u001b[0m\u001b[0;34m\u001b[0m\u001b[0;34m\u001b[0m\u001b[0m\n\u001b[0m\u001b[1;32m    584\u001b[0m         \u001b[0;31m# have first part already, only loop while more to receive\u001b[0m\u001b[0;34m\u001b[0m\u001b[0;34m\u001b[0m\u001b[0;34m\u001b[0m\u001b[0m\n",
      "\u001b[0;32mzmq/backend/cython/socket.pyx\u001b[0m in \u001b[0;36mzmq.backend.cython.socket.Socket.recv\u001b[0;34m()\u001b[0m\n",
      "\u001b[0;32mzmq/backend/cython/socket.pyx\u001b[0m in \u001b[0;36mzmq.backend.cython.socket.Socket.recv\u001b[0;34m()\u001b[0m\n",
      "\u001b[0;32mzmq/backend/cython/socket.pyx\u001b[0m in \u001b[0;36mzmq.backend.cython.socket._recv_copy\u001b[0;34m()\u001b[0m\n",
      "\u001b[0;32m/usr/local/lib/python3.7/dist-packages/zmq/backend/cython/checkrc.pxd\u001b[0m in \u001b[0;36mzmq.backend.cython.checkrc._check_rc\u001b[0;34m()\u001b[0m\n",
      "\u001b[0;31mKeyboardInterrupt\u001b[0m: ",
      "\nDuring handling of the above exception, another exception occurred:\n",
      "\u001b[0;31mKeyboardInterrupt\u001b[0m                         Traceback (most recent call last)",
      "\u001b[0;32m<ipython-input-12-80c9c030d41a>\u001b[0m in \u001b[0;36m<module>\u001b[0;34m()\u001b[0m\n\u001b[0;32m----> 1\u001b[0;31m \u001b[0maskforint\u001b[0m\u001b[0;34m(\u001b[0m\u001b[0;34m)\u001b[0m\u001b[0;34m\u001b[0m\u001b[0;34m\u001b[0m\u001b[0m\n\u001b[0m",
      "\u001b[0;32m<ipython-input-11-fefb1faaa538>\u001b[0m in \u001b[0;36maskforint\u001b[0;34m()\u001b[0m\n\u001b[1;32m      2\u001b[0m   \u001b[0;32mwhile\u001b[0m \u001b[0;32mTrue\u001b[0m\u001b[0;34m:\u001b[0m\u001b[0;34m\u001b[0m\u001b[0;34m\u001b[0m\u001b[0m\n\u001b[1;32m      3\u001b[0m     \u001b[0;32mtry\u001b[0m\u001b[0;34m:\u001b[0m\u001b[0;34m\u001b[0m\u001b[0;34m\u001b[0m\u001b[0m\n\u001b[0;32m----> 4\u001b[0;31m       \u001b[0ma\u001b[0m \u001b[0;34m=\u001b[0m \u001b[0mint\u001b[0m\u001b[0;34m(\u001b[0m\u001b[0minput\u001b[0m\u001b[0;34m(\u001b[0m\u001b[0;34m\"enter an integer:\"\u001b[0m\u001b[0;34m)\u001b[0m\u001b[0;34m)\u001b[0m\u001b[0;34m\u001b[0m\u001b[0;34m\u001b[0m\u001b[0m\n\u001b[0m\u001b[1;32m      5\u001b[0m     \u001b[0;32mexcept\u001b[0m \u001b[0mException\u001b[0m \u001b[0;32mas\u001b[0m \u001b[0me\u001b[0m\u001b[0;34m:\u001b[0m\u001b[0;34m\u001b[0m\u001b[0;34m\u001b[0m\u001b[0m\n\u001b[1;32m      6\u001b[0m       \u001b[0mprint\u001b[0m\u001b[0;34m(\u001b[0m\u001b[0;34m\"Please enter a valid input!\"\u001b[0m\u001b[0;34m,\u001b[0m\u001b[0me\u001b[0m\u001b[0;34m)\u001b[0m\u001b[0;34m\u001b[0m\u001b[0;34m\u001b[0m\u001b[0m\n",
      "\u001b[0;32m/usr/local/lib/python3.7/dist-packages/ipykernel/kernelbase.py\u001b[0m in \u001b[0;36mraw_input\u001b[0;34m(self, prompt)\u001b[0m\n\u001b[1;32m    702\u001b[0m             \u001b[0mself\u001b[0m\u001b[0;34m.\u001b[0m\u001b[0m_parent_ident\u001b[0m\u001b[0;34m,\u001b[0m\u001b[0;34m\u001b[0m\u001b[0;34m\u001b[0m\u001b[0m\n\u001b[1;32m    703\u001b[0m             \u001b[0mself\u001b[0m\u001b[0;34m.\u001b[0m\u001b[0m_parent_header\u001b[0m\u001b[0;34m,\u001b[0m\u001b[0;34m\u001b[0m\u001b[0;34m\u001b[0m\u001b[0m\n\u001b[0;32m--> 704\u001b[0;31m             \u001b[0mpassword\u001b[0m\u001b[0;34m=\u001b[0m\u001b[0;32mFalse\u001b[0m\u001b[0;34m,\u001b[0m\u001b[0;34m\u001b[0m\u001b[0;34m\u001b[0m\u001b[0m\n\u001b[0m\u001b[1;32m    705\u001b[0m         )\n\u001b[1;32m    706\u001b[0m \u001b[0;34m\u001b[0m\u001b[0m\n",
      "\u001b[0;32m/usr/local/lib/python3.7/dist-packages/ipykernel/kernelbase.py\u001b[0m in \u001b[0;36m_input_request\u001b[0;34m(self, prompt, ident, parent, password)\u001b[0m\n\u001b[1;32m    732\u001b[0m             \u001b[0;32mexcept\u001b[0m \u001b[0mKeyboardInterrupt\u001b[0m\u001b[0;34m:\u001b[0m\u001b[0;34m\u001b[0m\u001b[0;34m\u001b[0m\u001b[0m\n\u001b[1;32m    733\u001b[0m                 \u001b[0;31m# re-raise KeyboardInterrupt, to truncate traceback\u001b[0m\u001b[0;34m\u001b[0m\u001b[0;34m\u001b[0m\u001b[0;34m\u001b[0m\u001b[0m\n\u001b[0;32m--> 734\u001b[0;31m                 \u001b[0;32mraise\u001b[0m \u001b[0mKeyboardInterrupt\u001b[0m\u001b[0;34m\u001b[0m\u001b[0;34m\u001b[0m\u001b[0m\n\u001b[0m\u001b[1;32m    735\u001b[0m             \u001b[0;32melse\u001b[0m\u001b[0;34m:\u001b[0m\u001b[0;34m\u001b[0m\u001b[0;34m\u001b[0m\u001b[0m\n\u001b[1;32m    736\u001b[0m                 \u001b[0;32mbreak\u001b[0m\u001b[0;34m\u001b[0m\u001b[0;34m\u001b[0m\u001b[0m\n",
      "\u001b[0;31mKeyboardInterrupt\u001b[0m: "
     ]
    }
   ],
   "source": [
    "askforint()"
   ]
  },
  {
   "cell_type": "code",
   "execution_count": 3,
   "id": "c9f1b55d",
   "metadata": {
    "executionInfo": {
     "elapsed": 480,
     "status": "ok",
     "timestamp": 1627745886435,
     "user": {
      "displayName": "Siddharth Swain",
      "photoUrl": "",
      "userId": "12055456511825659152"
     },
     "user_tz": -330
    },
    "id": "fSrVqsCZNNcE"
   },
   "outputs": [],
   "source": [
    "def askforint():\n",
    "  while True:\n",
    "    try:\n",
    "      a = int(input(\"enter an integer:\"))\n",
    "    except Exception as e:\n",
    "      print(\"Please enter a valid input!\",e)\n",
    "    else:\n",
    "      print(\"You have entered a valid integer.\")\n",
    "      break\n",
    "    finally:\n",
    "      print(\"End of program.\")"
   ]
  },
  {
   "cell_type": "code",
   "execution_count": 4,
   "id": "938b735b",
   "metadata": {
    "colab": {
     "base_uri": "https://localhost:8080/"
    },
    "executionInfo": {
     "elapsed": 1608,
     "status": "ok",
     "timestamp": 1627745893491,
     "user": {
      "displayName": "Siddharth Swain",
      "photoUrl": "",
      "userId": "12055456511825659152"
     },
     "user_tz": -330
    },
    "id": "LqJvDO4mNxxb",
    "outputId": "b43d85a2-af23-491c-af24-cf605845117a"
   },
   "outputs": [
    {
     "name": "stdout",
     "output_type": "stream",
     "text": [
      "enter an integer:2\n",
      "You have entered a valid integer.\n",
      "End of program.\n"
     ]
    }
   ],
   "source": [
    "askforint()"
   ]
  },
  {
   "cell_type": "code",
   "execution_count": 18,
   "id": "cdbcceae",
   "metadata": {
    "executionInfo": {
     "elapsed": 453,
     "status": "ok",
     "timestamp": 1627746903882,
     "user": {
      "displayName": "Siddharth Swain",
      "photoUrl": "",
      "userId": "12055456511825659152"
     },
     "user_tz": -330
    },
    "id": "UZvDbVYXNy_M"
   },
   "outputs": [],
   "source": [
    "def askforint():\n",
    "  while True:\n",
    "    try:\n",
    "      a = int(input(\"enter an integer:\"))\n",
    "      c = 8/a\n",
    "    except FileNotFoundError as e:\n",
    "      print(\"Please enter a valid input!\",e)\n",
    "    except IOError as e:\n",
    "      print(e)\n",
    "    except ValueError as e:\n",
    "      print(e)    \n",
    "    except ZeroDivisionError as e:\n",
    "      print(e)\n",
    "    except Exception as e:\n",
    "      print(\"This is coming from parent class\",e)  \n",
    "    except ArithmeticError as e:\n",
    "      print(\"This is an arithmetic error\",e)\n",
    "    else:\n",
    "      print(\"You have entered a valid integer.\")\n",
    "      break\n",
    "    finally:\n",
    "      print(\"End of program.\")"
   ]
  },
  {
   "cell_type": "code",
   "execution_count": 19,
   "id": "399cf335",
   "metadata": {
    "colab": {
     "base_uri": "https://localhost:8080/"
    },
    "executionInfo": {
     "elapsed": 2209,
     "status": "ok",
     "timestamp": 1627746906811,
     "user": {
      "displayName": "Siddharth Swain",
      "photoUrl": "",
      "userId": "12055456511825659152"
     },
     "user_tz": -330
    },
    "id": "TihnV7zpPxyj",
    "outputId": "201b2196-fa68-4463-cd64-83414ef8cf46"
   },
   "outputs": [
    {
     "name": "stdout",
     "output_type": "stream",
     "text": [
      "enter an integer:2\n",
      "You have entered a valid integer.\n",
      "End of program.\n"
     ]
    }
   ],
   "source": [
    "askforint()"
   ]
  },
  {
   "cell_type": "code",
   "execution_count": 20,
   "id": "61b41b63",
   "metadata": {
    "colab": {
     "base_uri": "https://localhost:8080/"
    },
    "executionInfo": {
     "elapsed": 20638,
     "status": "ok",
     "timestamp": 1627746929293,
     "user": {
      "displayName": "Siddharth Swain",
      "photoUrl": "",
      "userId": "12055456511825659152"
     },
     "user_tz": -330
    },
    "id": "6fcBywvkQP_U",
    "outputId": "a41c3b04-cbe9-4220-9ff6-6e3ef1543713"
   },
   "outputs": [
    {
     "name": "stdout",
     "output_type": "stream",
     "text": [
      "enter an integer:st\n",
      "invalid literal for int() with base 10: 'st'\n",
      "End of program.\n",
      "enter an integer:w\n",
      "invalid literal for int() with base 10: 'w'\n",
      "End of program.\n",
      "enter an integer:2\n",
      "You have entered a valid integer.\n",
      "End of program.\n"
     ]
    }
   ],
   "source": [
    "askforint()"
   ]
  },
  {
   "attachments": {
    "image.png": {
     "image/png": "[encoded data removed]"
    }
   },
   "cell_type": "markdown",
   "id": "25d12cd6",
   "metadata": {
    "id": "t7gcKaBmR1Ie"
   },
   "source": [
    "# 8. Custom Exceptions\n",
    "\n",
    "Python has numerous built-in exceptions that force your program to output an error when something in the program goes wrong.\n",
    "\n",
    "However, sometimes you may need to create your own custom exceptions that serve your purpose.\n",
    "\n",
    "## 8.1 Creating Custom Exceptions\n",
    "\n",
    "In Python, users can define custom exceptions by creating a new class. This exception class has to be derived, either directly or indirectly, from the built-in Exception class. Most of the built-in exceptions are also derived from this class.\n",
    "\n",
    "![image.png](attachment:image.png)\n",
    "\n",
    "Here, we have created a user-defined exception called CustomError which inherits from the Exception class. This new exception, like other exceptions, can be raised using the raise statement with an optional error message.\n",
    "\n",
    "When we are developing a large Python program, it is a good practice to place all the user-defined exceptions that our program raises in a separate file. Many standard modules do this. They define their exceptions separately as exceptions.py or errors.py (generally but not always).\n",
    "\n",
    "User-defined exception class can implement everything a normal class can do, but we generally make them simple and concise. Most implementations declare a custom base class and derive others exception classes from this base class. This concept is made clearer in the following example.\n",
    "\n",
    "## 8.2 Example: User-Defined Exception\n",
    "\n",
    "In this example, we will illustrate how user-defined exceptions can be used in a program to raise and catch errors.\n",
    "\n",
    "This program will ask the user to enter a number until they guess a stored number correctly. To help them figure it out, a hint is provided whether their guess is greater than or less than the stored number."
   ]
  },
  {
   "cell_type": "code",
   "execution_count": null,
   "id": "537aa2c7",
   "metadata": {},
   "outputs": [],
   "source": [
    "# define Python user-defined exceptions\n",
    "class Error(Exception):\n",
    "    \"\"\"Base class for other exceptions\"\"\"\n",
    "    pass\n",
    "\n",
    "\n",
    "class ValueTooSmallError(Error):\n",
    "    \"\"\"Raised when the input value is too small\"\"\"\n",
    "    pass\n",
    "\n",
    "\n",
    "class ValueTooLargeError(Error):\n",
    "    \"\"\"Raised when the input value is too large\"\"\"\n",
    "    pass\n",
    "\n",
    "\n",
    "# you need to guess this number\n",
    "number = 10\n",
    "\n",
    "# user guesses a number until he/she gets it right\n",
    "while True:\n",
    "    try:\n",
    "        i_num = int(input(\"Enter a number: \"))\n",
    "        if i_num < number:\n",
    "            raise ValueTooSmallError\n",
    "        elif i_num > number:\n",
    "            raise ValueTooLargeError\n",
    "        break\n",
    "    except ValueTooSmallError:\n",
    "        print(\"This value is too small, try again!\")\n",
    "        print()\n",
    "    except ValueTooLargeError:\n",
    "        print(\"This value is too large, try again!\")\n",
    "        print()\n",
    "\n",
    "print(\"Congratulations! You guessed it correctly.\")"
   ]
  },
  {
   "attachments": {
    "image.png": {
     "image/png": "[encoded data removed]"
    }
   },
   "cell_type": "markdown",
   "id": "d6af0b00",
   "metadata": {},
   "source": [
    "Here is a sample run of this program.\n",
    "\n",
    "![image.png](attachment:image.png)\n",
    "\n",
    "We have defined a base class called Error.\n",
    "\n",
    "The other two exceptions (ValueTooSmallError and ValueTooLargeError) that are actually raised by our program are derived from this class. This is the standard way to define user-defined exceptions in Python programming, but you are not limited to this way only.\n",
    "\n",
    "## 8.3 Customizing Exception Classes\n",
    "\n",
    "We can further customize this class to accept other arguments as per our needs.\n",
    "\n",
    "Let's look at one example:"
   ]
  },
  {
   "cell_type": "code",
   "execution_count": null,
   "id": "81faef43",
   "metadata": {},
   "outputs": [],
   "source": [
    "class SalaryNotInRangeError(Exception):\n",
    "    \"\"\"Exception raised for errors in the input salary.\n",
    "\n",
    "    Attributes:\n",
    "        salary -- input salary which caused the error\n",
    "        message -- explanation of the error\n",
    "    \"\"\"\n",
    "\n",
    "    def __init__(self, salary, message=\"Salary is not in (5000, 15000) range\"):\n",
    "        self.salary = salary\n",
    "        self.message = message\n",
    "        super().__init__(self.message)\n",
    "\n",
    "\n",
    "salary = int(input(\"Enter salary amount: \"))\n",
    "if not 5000 < salary < 15000:\n",
    "    raise SalaryNotInRangeError(salary)"
   ]
  },
  {
   "attachments": {
    "image.png": {
     "image/png": "[encoded data removed]"
    }
   },
   "cell_type": "markdown",
   "id": "1bb6f92a",
   "metadata": {},
   "source": [
    "**Output**\n",
    "\n",
    "![image.png](attachment:image.png)\n",
    "\n",
    "Here, we have overridden the constructor of the Exception class to accept our own custom arguments salary and message. Then, the constructor of the parent Exception class is called manually with the self.message argument using super().\n",
    "\n",
    "The custom self.salary attribute is defined to be used later.\n",
    "\n",
    "The inherited __str__ method of the Exception class is then used to display the corresponding message when SalaryNotInRangeError is raised.\n",
    "\n",
    "We can also customize the __str__ method itself by overriding it."
   ]
  },
  {
   "cell_type": "code",
   "execution_count": null,
   "id": "427a5774",
   "metadata": {},
   "outputs": [],
   "source": [
    "class SalaryNotInRangeError(Exception):\n",
    "    \"\"\"Exception raised for errors in the input salary.\n",
    "\n",
    "    Attributes:\n",
    "        salary -- input salary which caused the error\n",
    "        message -- explanation of the error\n",
    "    \"\"\"\n",
    "\n",
    "    def __init__(self, salary, message=\"Salary is not in (5000, 15000) range\"):\n",
    "        self.salary = salary\n",
    "        self.message = message\n",
    "        super().__init__(self.message)\n",
    "\n",
    "    def __str__(self):\n",
    "        return f'{self.salary} -> {self.message}'\n",
    "\n",
    "\n",
    "salary = int(input(\"Enter salary amount: \"))\n",
    "if not 5000 < salary < 15000:\n",
    "    raise SalaryNotInRangeError(salary)"
   ]
  },
  {
   "attachments": {
    "image.png": {
     "image/png": "[encoded data removed]"
    }
   },
   "cell_type": "markdown",
   "id": "ed96191f",
   "metadata": {},
   "source": [
    "**Output**\n",
    "\n",
    "![image.png](attachment:image.png)"
   ]
  },
  {
   "cell_type": "markdown",
   "id": "7e95dcdd",
   "metadata": {},
   "source": [
    "## Practice"
   ]
  },
  {
   "cell_type": "code",
   "execution_count": 1,
   "id": "b0b41274",
   "metadata": {},
   "outputs": [],
   "source": [
    "def create_your_exception(a):\n",
    "    if a == 6:\n",
    "        raise Exception(a)"
   ]
  },
  {
   "cell_type": "code",
   "execution_count": 2,
   "id": "29860d77",
   "metadata": {},
   "outputs": [],
   "source": [
    "create_your_exception(4)"
   ]
  },
  {
   "cell_type": "code",
   "execution_count": 3,
   "id": "cbf2bcc4",
   "metadata": {},
   "outputs": [
    {
     "ename": "Exception",
     "evalue": "6",
     "output_type": "error",
     "traceback": [
      "\u001b[1;31m---------------------------------------------------------------------------\u001b[0m",
      "\u001b[1;31mException\u001b[0m                                 Traceback (most recent call last)",
      "\u001b[1;32m<ipython-input-3-646dc0bb2e87>\u001b[0m in \u001b[0;36m<module>\u001b[1;34m\u001b[0m\n\u001b[1;32m----> 1\u001b[1;33m \u001b[0mcreate_your_exception\u001b[0m\u001b[1;33m(\u001b[0m\u001b[1;36m6\u001b[0m\u001b[1;33m)\u001b[0m\u001b[1;33m\u001b[0m\u001b[1;33m\u001b[0m\u001b[0m\n\u001b[0m",
      "\u001b[1;32m<ipython-input-1-9f85a39da78a>\u001b[0m in \u001b[0;36mcreate_your_exception\u001b[1;34m(a)\u001b[0m\n\u001b[0;32m      1\u001b[0m \u001b[1;32mdef\u001b[0m \u001b[0mcreate_your_exception\u001b[0m\u001b[1;33m(\u001b[0m\u001b[0ma\u001b[0m\u001b[1;33m)\u001b[0m\u001b[1;33m:\u001b[0m\u001b[1;33m\u001b[0m\u001b[1;33m\u001b[0m\u001b[0m\n\u001b[0;32m      2\u001b[0m     \u001b[1;32mif\u001b[0m \u001b[0ma\u001b[0m \u001b[1;33m==\u001b[0m \u001b[1;36m6\u001b[0m\u001b[1;33m:\u001b[0m\u001b[1;33m\u001b[0m\u001b[1;33m\u001b[0m\u001b[0m\n\u001b[1;32m----> 3\u001b[1;33m         \u001b[1;32mraise\u001b[0m \u001b[0mException\u001b[0m\u001b[1;33m(\u001b[0m\u001b[0ma\u001b[0m\u001b[1;33m)\u001b[0m\u001b[1;33m\u001b[0m\u001b[1;33m\u001b[0m\u001b[0m\n\u001b[0m",
      "\u001b[1;31mException\u001b[0m: 6"
     ]
    }
   ],
   "source": [
    "create_your_exception(6)"
   ]
  },
  {
   "cell_type": "code",
   "execution_count": 4,
   "id": "f04ee69a",
   "metadata": {},
   "outputs": [
    {
     "name": "stdout",
     "output_type": "stream",
     "text": [
      "6\n"
     ]
    }
   ],
   "source": [
    "try:\n",
    "    create_your_exception(6)\n",
    "except Exception as e:\n",
    "    print(e)"
   ]
  },
  {
   "cell_type": "code",
   "execution_count": 1,
   "id": "e463e348",
   "metadata": {
    "colab": {
     "base_uri": "https://localhost:8080/"
    },
    "executionInfo": {
     "elapsed": 1180,
     "status": "ok",
     "timestamp": 1627790844160,
     "user": {
      "displayName": "Siddharth Swain",
      "photoUrl": "",
      "userId": "12055456511825659152"
     },
     "user_tz": -330
    },
    "id": "S2ZOtQg_RSY7",
    "outputId": "2270d6b0-8288-4dc8-a65a-b323739dd0a5"
   },
   "outputs": [
    {
     "data": {
      "text/plain": [
       "0.8333333333333334"
      ]
     },
     "execution_count": 1,
     "metadata": {
      "tags": []
     },
     "output_type": "execute_result"
    }
   ],
   "source": [
    "5/6"
   ]
  },
  {
   "cell_type": "code",
   "execution_count": 5,
   "id": "85f847e2",
   "metadata": {
    "executionInfo": {
     "elapsed": 628,
     "status": "ok",
     "timestamp": 1627790931764,
     "user": {
      "displayName": "Siddharth Swain",
      "photoUrl": "",
      "userId": "12055456511825659152"
     },
     "user_tz": -330
    },
    "id": "wJ74umXESPIa"
   },
   "outputs": [],
   "source": [
    "def createexception(a):\n",
    "  if a == 6:\n",
    "    raise Exception(a)\n",
    "  else:\n",
    "    print(\"Input is okay.\")\n",
    "  return a"
   ]
  },
  {
   "cell_type": "code",
   "execution_count": 7,
   "id": "41b4fb50",
   "metadata": {
    "colab": {
     "base_uri": "https://localhost:8080/"
    },
    "executionInfo": {
     "elapsed": 375,
     "status": "ok",
     "timestamp": 1627790936983,
     "user": {
      "displayName": "Siddharth Swain",
      "photoUrl": "",
      "userId": "12055456511825659152"
     },
     "user_tz": -330
    },
    "id": "zSt3PVc45fRf",
    "outputId": "96085aa3-d3d3-4809-af33-7aca384e3454"
   },
   "outputs": [
    {
     "name": "stdout",
     "output_type": "stream",
     "text": [
      "Input is okay.\n"
     ]
    },
    {
     "data": {
      "text/plain": [
       "5"
      ]
     },
     "execution_count": 7,
     "metadata": {
      "tags": []
     },
     "output_type": "execute_result"
    }
   ],
   "source": [
    "b = createexception(5)\n",
    "b"
   ]
  },
  {
   "cell_type": "code",
   "execution_count": 8,
   "id": "4c626dde",
   "metadata": {
    "colab": {
     "base_uri": "https://localhost:8080/",
     "height": 299
    },
    "executionInfo": {
     "elapsed": 390,
     "status": "error",
     "timestamp": 1627790945231,
     "user": {
      "displayName": "Siddharth Swain",
      "photoUrl": "",
      "userId": "12055456511825659152"
     },
     "user_tz": -330
    },
    "id": "RXtVhItC5kI3",
    "outputId": "36f7c443-4922-4f27-af25-9145b58197ac"
   },
   "outputs": [
    {
     "ename": "Exception",
     "evalue": "ignored",
     "output_type": "error",
     "traceback": [
      "\u001b[0;31m---------------------------------------------------------------------------\u001b[0m",
      "\u001b[0;31mException\u001b[0m                                 Traceback (most recent call last)",
      "\u001b[0;32m<ipython-input-8-bf18962dbdfe>\u001b[0m in \u001b[0;36m<module>\u001b[0;34m()\u001b[0m\n\u001b[0;32m----> 1\u001b[0;31m \u001b[0mb\u001b[0m \u001b[0;34m=\u001b[0m \u001b[0mcreateexception\u001b[0m\u001b[0;34m(\u001b[0m\u001b[0;36m6\u001b[0m\u001b[0;34m)\u001b[0m\u001b[0;34m\u001b[0m\u001b[0;34m\u001b[0m\u001b[0m\n\u001b[0m\u001b[1;32m      2\u001b[0m \u001b[0mb\u001b[0m\u001b[0;34m\u001b[0m\u001b[0;34m\u001b[0m\u001b[0m\n",
      "\u001b[0;32m<ipython-input-5-5e00ccabc969>\u001b[0m in \u001b[0;36mcreateexception\u001b[0;34m(a)\u001b[0m\n\u001b[1;32m      1\u001b[0m \u001b[0;32mdef\u001b[0m \u001b[0mcreateexception\u001b[0m\u001b[0;34m(\u001b[0m\u001b[0ma\u001b[0m\u001b[0;34m)\u001b[0m\u001b[0;34m:\u001b[0m\u001b[0;34m\u001b[0m\u001b[0;34m\u001b[0m\u001b[0m\n\u001b[1;32m      2\u001b[0m   \u001b[0;32mif\u001b[0m \u001b[0ma\u001b[0m \u001b[0;34m==\u001b[0m \u001b[0;36m6\u001b[0m\u001b[0;34m:\u001b[0m\u001b[0;34m\u001b[0m\u001b[0;34m\u001b[0m\u001b[0m\n\u001b[0;32m----> 3\u001b[0;31m     \u001b[0;32mraise\u001b[0m \u001b[0mException\u001b[0m\u001b[0;34m(\u001b[0m\u001b[0ma\u001b[0m\u001b[0;34m)\u001b[0m\u001b[0;34m\u001b[0m\u001b[0;34m\u001b[0m\u001b[0m\n\u001b[0m\u001b[1;32m      4\u001b[0m   \u001b[0;32melse\u001b[0m\u001b[0;34m:\u001b[0m\u001b[0;34m\u001b[0m\u001b[0;34m\u001b[0m\u001b[0m\n\u001b[1;32m      5\u001b[0m     \u001b[0mprint\u001b[0m\u001b[0;34m(\u001b[0m\u001b[0;34m\"Input is okay.\"\u001b[0m\u001b[0;34m)\u001b[0m\u001b[0;34m\u001b[0m\u001b[0;34m\u001b[0m\u001b[0m\n",
      "\u001b[0;31mException\u001b[0m: 6"
     ]
    }
   ],
   "source": [
    "b = createexception(6)\n",
    "b"
   ]
  },
  {
   "cell_type": "code",
   "execution_count": 1,
   "id": "8a4c8b1f",
   "metadata": {},
   "outputs": [],
   "source": [
    "# Create own exception\n",
    "\n",
    "def createyourexception(a):\n",
    "    if a>6:\n",
    "        raise Exception(\"Error is: \",a)\n",
    "    else:\n",
    "        print(\"Input is okay.\")\n",
    "    return a"
   ]
  },
  {
   "cell_type": "code",
   "execution_count": 2,
   "id": "3762f2f7",
   "metadata": {},
   "outputs": [
    {
     "name": "stdout",
     "output_type": "stream",
     "text": [
      "('Error is: ', 10)\n"
     ]
    }
   ],
   "source": [
    "try:\n",
    "    createyourexception(10)\n",
    "except Exception as e:\n",
    "    print(e)"
   ]
  },
  {
   "cell_type": "markdown",
   "id": "942ae836",
   "metadata": {
    "id": "WBgzprwL7RFR"
   },
   "source": [
    "## Question\n",
    "\n",
    "- Write a program to take input from user and print even numbers from 0 to range."
   ]
  },
  {
   "cell_type": "code",
   "execution_count": 9,
   "id": "4d82259d",
   "metadata": {
    "executionInfo": {
     "elapsed": 380,
     "status": "ok",
     "timestamp": 1627791759765,
     "user": {
      "displayName": "Siddharth Swain",
      "photoUrl": "",
      "userId": "12055456511825659152"
     },
     "user_tz": -330
    },
    "id": "L2LSMNtP5qfH"
   },
   "outputs": [],
   "source": [
    "def evennum(a):\n",
    "  for i in range(0,a+1):\n",
    "    if i % 2 == 0:\n",
    "      print(\"The number {} is an even number.\".format(i))"
   ]
  },
  {
   "cell_type": "code",
   "execution_count": 10,
   "id": "e6592979",
   "metadata": {
    "colab": {
     "base_uri": "https://localhost:8080/"
    },
    "executionInfo": {
     "elapsed": 369,
     "status": "ok",
     "timestamp": 1627791765722,
     "user": {
      "displayName": "Siddharth Swain",
      "photoUrl": "",
      "userId": "12055456511825659152"
     },
     "user_tz": -330
    },
    "id": "sJipJBht8xWf",
    "outputId": "ad0b0a4d-d5e2-441e-e5ef-55f362c690d0"
   },
   "outputs": [
    {
     "name": "stdout",
     "output_type": "stream",
     "text": [
      "The number 0 is an even number.\n",
      "The number 2 is an even number.\n",
      "The number 4 is an even number.\n",
      "The number 6 is an even number.\n",
      "The number 8 is an even number.\n",
      "The number 10 is an even number.\n"
     ]
    }
   ],
   "source": [
    "evennum(10)"
   ]
  },
  {
   "cell_type": "code",
   "execution_count": 4,
   "id": "d3b752fd",
   "metadata": {
    "colab": {
     "base_uri": "https://localhost:8080/",
     "height": 231
    },
    "executionInfo": {
     "elapsed": 485,
     "status": "error",
     "timestamp": 1627793718492,
     "user": {
      "displayName": "Siddharth Swain",
      "photoUrl": "",
      "userId": "12055456511825659152"
     },
     "user_tz": -330
    },
    "id": "FzxaFKJm8ypu",
    "outputId": "1319ec0b-5213-460d-828e-b1dfaae52a52"
   },
   "outputs": [
    {
     "name": "stderr",
     "output_type": "stream",
     "text": [
      "2021-11-08 11:23:41,200 - root - INFO - Start of Program.\n",
      "2021-11-08 11:23:41,200 - root - INFO - Start of Program.\n"
     ]
    },
    {
     "name": "stdout",
     "output_type": "stream",
     "text": [
      "Enter the range limit:df\n"
     ]
    },
    {
     "name": "stderr",
     "output_type": "stream",
     "text": [
      "2021-11-08 11:23:44,986 - Siddharth Swain - WARNING - Sorry, Invalid Input! Please enter an integer as your input.\n",
      "2021-11-08 11:23:44,986 - Siddharth Swain - WARNING - Sorry, Invalid Input! Please enter an integer as your input.\n"
     ]
    },
    {
     "name": "stdout",
     "output_type": "stream",
     "text": [
      "Enter the range limit:w\n"
     ]
    },
    {
     "name": "stderr",
     "output_type": "stream",
     "text": [
      "2021-11-08 11:23:49,619 - Siddharth Swain - WARNING - Sorry, Invalid Input! Please enter an integer as your input.\n",
      "2021-11-08 11:23:49,619 - Siddharth Swain - WARNING - Sorry, Invalid Input! Please enter an integer as your input.\n"
     ]
    },
    {
     "name": "stdout",
     "output_type": "stream",
     "text": [
      "Enter the range limit:2\n"
     ]
    },
    {
     "name": "stderr",
     "output_type": "stream",
     "text": [
      "2021-11-08 11:23:51,651 - Siddharth Swain - INFO - Thanks! Your input is valid.\n",
      "2021-11-08 11:23:51,651 - Siddharth Swain - INFO - Thanks! Your input is valid.\n",
      "2021-11-08 11:23:51,653 - root - INFO - End of Program.\n",
      "2021-11-08 11:23:51,653 - root - INFO - End of Program.\n"
     ]
    },
    {
     "name": "stdout",
     "output_type": "stream",
     "text": [
      "The number 0 is an even number.\n",
      "The number 2 is an even number.\n"
     ]
    }
   ],
   "source": [
    "# Program to take input from user and print even numbers from 0 to range\n",
    "\n",
    "# Importing all modules\n",
    "import os\n",
    "\n",
    "# Changing the directory to module3 (Function to return all even number)\n",
    "os.chdir(\"C://Users//Siddharth Swain//Documents//Data//test\")\n",
    "\n",
    "from mod4 import evennum\n",
    "import logging\n",
    "\n",
    "# Create log file\n",
    "logging.basicConfig(filename = \"testrun.log\" , level = logging.DEBUG , format = '%(asctime)s - %(name)s - %(levelname)s -  %(message)s')\n",
    "\n",
    "# Create Handlers\n",
    "console_log = logging.StreamHandler()\n",
    "console_log.setLevel(logging.DEBUG)\n",
    "format = logging.Formatter('%(asctime)s - %(name)s - %(levelname)s - %(message)s')\n",
    "console_log.setFormatter(format)\n",
    "\n",
    "# Create a Custom Handler\n",
    "logging.getLogger('').addHandler(console_log)\n",
    "logging.info(\"Start of Program.\")\n",
    "logger = logging.getLogger('Siddharth Swain')\n",
    "\n",
    "while True:\n",
    "    try:\n",
    "        a = int(input(\"Enter the range limit:\"))\n",
    "        logger.info(\"Thanks! Your input is valid.\")\n",
    "        evennum(a)\n",
    "        break\n",
    "    except Exception as e:\n",
    "        logger.warning(\"Sorry, Invalid Input! Please enter an integer as your input.\")\n",
    "\n",
    "logging.info(\"End of Program.\")"
   ]
  }
 ],
 "metadata": {
  "kernelspec": {
   "display_name": "Python 3",
   "language": "python",
   "name": "python3"
  },
  "language_info": {
   "codemirror_mode": {
    "name": "ipython",
    "version": 3
   },
   "file_extension": ".py",
   "mimetype": "text/x-python",
   "name": "python",
   "nbconvert_exporter": "python",
   "pygments_lexer": "ipython3",
   "version": "3.8.8"
  }
 },
 "nbformat": 4,
 "nbformat_minor": 5
}
