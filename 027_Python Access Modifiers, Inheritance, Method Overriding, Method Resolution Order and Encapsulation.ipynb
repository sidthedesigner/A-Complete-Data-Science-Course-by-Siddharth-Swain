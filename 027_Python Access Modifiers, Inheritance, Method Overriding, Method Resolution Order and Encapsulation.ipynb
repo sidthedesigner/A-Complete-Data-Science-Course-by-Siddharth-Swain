{
 "cells": [
  {
   "cell_type": "markdown",
   "id": "8cd59bb6",
   "metadata": {},
   "source": [
    "## Python Access Modifiers\n",
    "\n",
    "Various object-oriented languages like C++, Java, Python control access modifications which are used to restrict access to the variables and methods of the class. **Most programming languages have three forms of access modifiers, which are Public, Protected and Private in a class.**\n",
    "\n",
    "Python uses ‘_’ symbol to determine the access control for a specific data member or a member function of a class. Access specifiers in Python have an important role to play in securing data from unauthorized access and in preventing it from being exploited.\n",
    "\n",
    "A class in Python has three types of access modifiers:\n",
    "\n",
    "- Public Access Modifier\n",
    "- Protected Access Modifier\n",
    "- Private Access Modifier\n",
    "\n",
    "## Public Access Modifier\n",
    "\n",
    "The members of a class that are declared public are easily accessible from any part of the program. All data members and member functions of a class are public by default. "
   ]
  },
  {
   "cell_type": "code",
   "execution_count": 1,
   "id": "3edd8366",
   "metadata": {},
   "outputs": [
    {
     "name": "stdout",
     "output_type": "stream",
     "text": [
      "Name:  R2J\n",
      "Age:  20\n"
     ]
    }
   ],
   "source": [
    "# Program to illustrate public access modifier in a class.\n",
    "\n",
    "class Geek:\n",
    "\t\n",
    "\t# constructor\n",
    "\tdef __init__(self, name, age):\n",
    "\t\t\n",
    "\t\t# public data members\n",
    "\t\tself.geekName = name\n",
    "\t\tself.geekAge = age\n",
    "\n",
    "\t# public member function\t\n",
    "\tdef displayAge(self):\n",
    "\t\t\n",
    "\t\t# accessing public data member\n",
    "\t\tprint(\"Age: \", self.geekAge)\n",
    "\n",
    "# creating object of the class\n",
    "obj = Geek(\"R2J\", 20)\n",
    "\n",
    "# accessing public data member\n",
    "print(\"Name: \", obj.geekName)\n",
    "\n",
    "# calling public member function of the class\n",
    "obj.displayAge()\n"
   ]
  },
  {
   "cell_type": "markdown",
   "id": "f9790c87",
   "metadata": {},
   "source": [
    "In the above program, geekName and geekAge are public data members and displayAge() method is a public member function of the class Geek. These data members of the class Geek can be accessed from anywhere in the program.\n",
    "\n",
    "## Protected Access Modifier\n",
    "\n",
    "The members of a class that are declared protected are only accessible to a class derived from it. Data members of a class are declared protected by adding a single underscore ‘_’ symbol before the data member of that class. "
   ]
  },
  {
   "cell_type": "code",
   "execution_count": 2,
   "id": "e6ec2ff6",
   "metadata": {},
   "outputs": [
    {
     "name": "stdout",
     "output_type": "stream",
     "text": [
      "Name:  R2J\n",
      "Roll:  1706256\n",
      "Branch:  Information Technology\n"
     ]
    }
   ],
   "source": [
    "# Program to illustrate protected access modifier in a class.\n",
    "\n",
    "# super class\n",
    "class Student:\n",
    "\t\n",
    "\t# protected data members\n",
    "\t_name = None\n",
    "\t_roll = None\n",
    "\t_branch = None\n",
    "\t\n",
    "\t# constructor\n",
    "\tdef __init__(self, name, roll, branch):\n",
    "\t\tself._name = name\n",
    "\t\tself._roll = roll\n",
    "\t\tself._branch = branch\n",
    "\t\n",
    "\t# protected member function\n",
    "\tdef _displayRollAndBranch(self):\n",
    "\n",
    "\t\t# accessing protected data members\n",
    "\t\tprint(\"Roll: \", self._roll)\n",
    "\t\tprint(\"Branch: \", self._branch)\n",
    "\n",
    "\n",
    "# derived class\n",
    "class Geek(Student):\n",
    "\n",
    "\t# constructor\n",
    "\tdef __init__(self, name, roll, branch):\n",
    "\t\t\t\tStudent.__init__(self, name, roll, branch)\n",
    "\t\t\n",
    "\t# public member function\n",
    "\tdef displayDetails(self):\n",
    "\t\t\t\t\n",
    "\t\t\t\t# accessing protected data members of super class\n",
    "\t\t\t\tprint(\"Name: \", self._name)\n",
    "\t\t\t\t\n",
    "\t\t\t\t# accessing protected member functions of super class\n",
    "\t\t\t\tself._displayRollAndBranch()\n",
    "\n",
    "# creating objects of the derived class\t\n",
    "obj = Geek(\"R2J\", 1706256, \"Information Technology\")\n",
    "\n",
    "# calling public member functions of the class\n",
    "obj.displayDetails()"
   ]
  },
  {
   "cell_type": "markdown",
   "id": "e307558d",
   "metadata": {},
   "source": [
    "In the above program, _name, _roll, and _branch are protected data members and _displayRollAndBranch() method is a protected method of the super class Student. \n",
    "\n",
    "The displayDetails() method is a public member function of the class Geek which is derived from the Student class, the displayDetails() method in Geek class accesses the protected data members of the Student class. \n",
    "\n",
    "## Private Access Modifier\n",
    "\n",
    "The members of a class that are declared private are accessible within the class only, private access modifier is the most secure access modifier. Data members of a class are declared private by adding a double underscore ‘__’ symbol before the data member of that class. "
   ]
  },
  {
   "cell_type": "code",
   "execution_count": 34,
   "id": "03ddf538",
   "metadata": {},
   "outputs": [
    {
     "name": "stdout",
     "output_type": "stream",
     "text": [
      "Name:  R2J\n",
      "Roll:  1706256\n",
      "Branch:  Information Technology\n"
     ]
    }
   ],
   "source": [
    "# Program to illustrate private access modifier in a class.\n",
    "\n",
    "class Geek:\n",
    "\t\n",
    "\t# private members\n",
    "\t__name = None\n",
    "\t__roll = None\n",
    "\t__branch = None\n",
    "\n",
    "\t# constructor\n",
    "\tdef __init__(self, name, roll, branch):\n",
    "\t\tself.__name = name\n",
    "\t\tself.__roll = roll\n",
    "\t\tself.__branch = branch\n",
    "\n",
    "\t# private member function\n",
    "\tdef __displayDetails(self):\n",
    "\t\t\n",
    "\t\t# accessing private data members\n",
    "\t\tprint(\"Name: \", self.__name)\n",
    "\t\tprint(\"Roll: \", self.__roll)\n",
    "\t\tprint(\"Branch: \", self.__branch)\n",
    "\t\n",
    "\t# public member function\n",
    "\tdef accessPrivateFunction(self):\n",
    "\t\t\t\n",
    "\t\t# accessing private member function\n",
    "\t\tself.__displayDetails()\n",
    "\n",
    "# creating object\n",
    "obj = Geek(\"R2J\", 1706256, \"Information Technology\")\n",
    "\n",
    "# calling public member function of the class\n",
    "obj.accessPrivateFunction()"
   ]
  },
  {
   "cell_type": "markdown",
   "id": "d717ea67",
   "metadata": {},
   "source": [
    "In the above program, __name, __roll and __branch are private members, __displayDetails() method is a private member function (these can only be accessed within the class) and accessPrivateFunction() method is a public member function of the class Geek which can be accessed from anywhere within the program. The accessPrivateFunction() method accesses the private members of the class Geek.\n",
    " \n",
    "\n",
    "Below is a program to illustrate the use of all the above three access modifiers (public, protected, and private) of a class in Python: "
   ]
  },
  {
   "cell_type": "code",
   "execution_count": 4,
   "id": "c7d852ad",
   "metadata": {},
   "outputs": [
    {
     "name": "stdout",
     "output_type": "stream",
     "text": [
      "Public Data Member:  Geeks\n",
      "Protected Data Member:  4\n",
      "Private Data Member:  Geeks !\n",
      "Object is accessing protected member: 4\n"
     ]
    }
   ],
   "source": [
    "# Program to illustrate access modifiers of a class.\n",
    "\n",
    "# super class\n",
    "class Super:\n",
    "\t\n",
    "\t# public data member\n",
    "\tvar1 = None\n",
    "\n",
    "\t# protected data member\n",
    "\t_var2 = None\n",
    "\t\n",
    "\t# private data member\n",
    "\t__var3 = None\n",
    "\t\n",
    "\t# constructor\n",
    "\tdef __init__(self, var1, var2, var3):\n",
    "\t\tself.var1 = var1\n",
    "\t\tself._var2 = var2\n",
    "\t\tself.__var3 = var3\n",
    "\t\n",
    "\t# public member function\n",
    "\tdef displayPublicMembers(self):\n",
    "\n",
    "\t\t# accessing public data members\n",
    "\t\tprint(\"Public Data Member: \", self.var1)\n",
    "\t\t\n",
    "\t# protected member function\n",
    "\tdef _displayProtectedMembers(self):\n",
    "\n",
    "\t\t# accessing protected data members\n",
    "\t\tprint(\"Protected Data Member: \", self._var2)\n",
    "\t\n",
    "\t# private member function\n",
    "\tdef __displayPrivateMembers(self):\n",
    "\n",
    "\t\t# accessing private data members\n",
    "\t\tprint(\"Private Data Member: \", self.__var3)\n",
    "\n",
    "\t# public member function\n",
    "\tdef accessPrivateMembers(self):\t\n",
    "\t\t\n",
    "\t\t# accessing private member function\n",
    "\t\tself.__displayPrivateMembers()\n",
    "\n",
    "# derived class\n",
    "class Sub(Super):\n",
    "\n",
    "\t# constructor\n",
    "\tdef __init__(self, var1, var2, var3):\n",
    "\t\t\t\tSuper.__init__(self, var1, var2, var3)\n",
    "\t\t\n",
    "\t# public member function\n",
    "\tdef accessProtectedMembers(self):\n",
    "\t\t\t\t\n",
    "\t\t\t\t# accessing protected member functions of super class\n",
    "\t\t\t\tself._displayProtectedMembers()\n",
    "\n",
    "# creating objects of the derived class\t\n",
    "obj = Sub(\"Geeks\", 4, \"Geeks !\")\n",
    "\n",
    "# calling public member functions of the class\n",
    "obj.displayPublicMembers()\n",
    "obj.accessProtectedMembers()\n",
    "obj.accessPrivateMembers()\n",
    "\n",
    "# Object can access protected member\n",
    "print(\"Object is accessing protected member:\", obj._var2)\n",
    "\n",
    "# object can not access private member, so it will generate Attribute error\n",
    "#print(obj.__var3)"
   ]
  },
  {
   "cell_type": "code",
   "execution_count": 5,
   "id": "d599d8e9",
   "metadata": {},
   "outputs": [
    {
     "data": {
      "text/plain": [
       "4"
      ]
     },
     "execution_count": 5,
     "metadata": {},
     "output_type": "execute_result"
    }
   ],
   "source": [
    "obj._var2"
   ]
  },
  {
   "cell_type": "code",
   "execution_count": 6,
   "id": "d1a88115",
   "metadata": {},
   "outputs": [
    {
     "ename": "AttributeError",
     "evalue": "'Sub' object has no attribute '__var3'",
     "output_type": "error",
     "traceback": [
      "\u001b[1;31m---------------------------------------------------------------------------\u001b[0m",
      "\u001b[1;31mAttributeError\u001b[0m                            Traceback (most recent call last)",
      "\u001b[1;32m<ipython-input-6-6b29438f2313>\u001b[0m in \u001b[0;36m<module>\u001b[1;34m\u001b[0m\n\u001b[1;32m----> 1\u001b[1;33m \u001b[0mobj\u001b[0m\u001b[1;33m.\u001b[0m\u001b[0m__var3\u001b[0m\u001b[1;33m\u001b[0m\u001b[1;33m\u001b[0m\u001b[0m\n\u001b[0m",
      "\u001b[1;31mAttributeError\u001b[0m: 'Sub' object has no attribute '__var3'"
     ]
    }
   ],
   "source": [
    "obj.__var3"
   ]
  },
  {
   "cell_type": "markdown",
   "id": "7e182c8a",
   "metadata": {},
   "source": [
    "In the above program, the accessProtectedMembers() method is a public member function of the class Sub accesses the _displayProtectedMembers() method which is protected member function of the class Super and the accessPrivateMembers() method is a public member function of the class Super which accesses the __displayPrivateMembers() method which is a private member function of the class Super."
   ]
  },
  {
   "cell_type": "markdown",
   "id": "f1aa5ef9",
   "metadata": {
    "id": "InRIuiX6TPvG"
   },
   "source": [
    "## Practice\n",
    "\n",
    "**Note :**\n",
    "\n",
    "- No underscore means public.\n",
    "- Single underscore _ means protected.\n",
    "- Double underscore __ means private."
   ]
  },
  {
   "cell_type": "code",
   "execution_count": 7,
   "id": "d68d1a0d",
   "metadata": {},
   "outputs": [],
   "source": [
    "class test:\n",
    "  def __init__(self, a, b, c):\n",
    "    self.__a = a  #Private\n",
    "    self._b = b   #Protected\n",
    "    self.c = c    #Public\n",
    "  def test_custom(self,v):\n",
    "    return v - self.__a\n",
    "  def __str__(self):\n",
    "    return \"This is my test code for abstraction\"\n",
    "\n",
    "o = test(4,5,6)"
   ]
  },
  {
   "cell_type": "code",
   "execution_count": 8,
   "id": "3890699a",
   "metadata": {},
   "outputs": [
    {
     "data": {
      "text/plain": [
       "6"
      ]
     },
     "execution_count": 8,
     "metadata": {},
     "output_type": "execute_result"
    }
   ],
   "source": [
    "o.c"
   ]
  },
  {
   "cell_type": "code",
   "execution_count": 9,
   "id": "17b7610e",
   "metadata": {},
   "outputs": [
    {
     "data": {
      "text/plain": [
       "5"
      ]
     },
     "execution_count": 9,
     "metadata": {},
     "output_type": "execute_result"
    }
   ],
   "source": [
    "o._b"
   ]
  },
  {
   "cell_type": "code",
   "execution_count": 10,
   "id": "1aa29d7b",
   "metadata": {},
   "outputs": [
    {
     "ename": "AttributeError",
     "evalue": "'test' object has no attribute '__a'",
     "output_type": "error",
     "traceback": [
      "\u001b[1;31m---------------------------------------------------------------------------\u001b[0m",
      "\u001b[1;31mAttributeError\u001b[0m                            Traceback (most recent call last)",
      "\u001b[1;32m<ipython-input-10-1e42657c998a>\u001b[0m in \u001b[0;36m<module>\u001b[1;34m\u001b[0m\n\u001b[1;32m----> 1\u001b[1;33m \u001b[0mo\u001b[0m\u001b[1;33m.\u001b[0m\u001b[0m__a\u001b[0m\u001b[1;33m\u001b[0m\u001b[1;33m\u001b[0m\u001b[0m\n\u001b[0m",
      "\u001b[1;31mAttributeError\u001b[0m: 'test' object has no attribute '__a'"
     ]
    }
   ],
   "source": [
    "o.__a"
   ]
  },
  {
   "cell_type": "code",
   "execution_count": 4,
   "id": "56f00c57",
   "metadata": {},
   "outputs": [
    {
     "data": {
      "text/plain": [
       "4"
      ]
     },
     "execution_count": 4,
     "metadata": {},
     "output_type": "execute_result"
    }
   ],
   "source": [
    "o._test__a"
   ]
  },
  {
   "cell_type": "code",
   "execution_count": null,
   "id": "f403ed01",
   "metadata": {
    "id": "06UT6XyQREch"
   },
   "outputs": [],
   "source": [
    "class test:\n",
    "  def __init__(self, a, b, c, d):\n",
    "    self.a = a\n",
    "    self.b = b\n",
    "    self.c = c\n",
    "    self.d = d\n",
    "  def test_custom(self,v):\n",
    "    return v - self.a\n",
    "  def __str__(self):\n",
    "    return \"This is my test code for abstraction\""
   ]
  },
  {
   "cell_type": "code",
   "execution_count": null,
   "id": "fb0de9f7",
   "metadata": {
    "id": "udEFhxtITifw"
   },
   "outputs": [],
   "source": [
    "o = test(4,5,6,7)"
   ]
  },
  {
   "cell_type": "code",
   "execution_count": null,
   "id": "3a7a7ba8",
   "metadata": {
    "colab": {
     "base_uri": "https://localhost:8080/"
    },
    "executionInfo": {
     "elapsed": 11,
     "status": "ok",
     "timestamp": 1627915186322,
     "user": {
      "displayName": "Siddharth Swain",
      "photoUrl": "",
      "userId": "12055456511825659152"
     },
     "user_tz": -330
    },
    "id": "qgpeD_GlTkOp",
    "outputId": "056a514f-ef65-41c2-fee9-9d46ad2a81ad"
   },
   "outputs": [
    {
     "data": {
      "text/plain": [
       "4"
      ]
     },
     "execution_count": 3,
     "metadata": {
      "tags": []
     },
     "output_type": "execute_result"
    }
   ],
   "source": [
    "o.a"
   ]
  },
  {
   "cell_type": "code",
   "execution_count": null,
   "id": "06dd03fb",
   "metadata": {
    "colab": {
     "base_uri": "https://localhost:8080/"
    },
    "executionInfo": {
     "elapsed": 10,
     "status": "ok",
     "timestamp": 1627915186323,
     "user": {
      "displayName": "Siddharth Swain",
      "photoUrl": "",
      "userId": "12055456511825659152"
     },
     "user_tz": -330
    },
    "id": "4Jt6rUuiTlSQ",
    "outputId": "2662f97d-7049-4c7f-c73f-35eb2fa0e3b5"
   },
   "outputs": [
    {
     "data": {
      "text/plain": [
       "5"
      ]
     },
     "execution_count": 4,
     "metadata": {
      "tags": []
     },
     "output_type": "execute_result"
    }
   ],
   "source": [
    "o.b"
   ]
  },
  {
   "cell_type": "code",
   "execution_count": null,
   "id": "fe5cb411",
   "metadata": {
    "colab": {
     "base_uri": "https://localhost:8080/"
    },
    "executionInfo": {
     "elapsed": 4,
     "status": "ok",
     "timestamp": 1627915188595,
     "user": {
      "displayName": "Siddharth Swain",
      "photoUrl": "",
      "userId": "12055456511825659152"
     },
     "user_tz": -330
    },
    "id": "DL8webuXTl9w",
    "outputId": "ee681bc5-d5da-44ab-e4c4-d96be024b9e4"
   },
   "outputs": [
    {
     "data": {
      "text/plain": [
       "6"
      ]
     },
     "execution_count": 5,
     "metadata": {
      "tags": []
     },
     "output_type": "execute_result"
    }
   ],
   "source": [
    "o.c"
   ]
  },
  {
   "cell_type": "code",
   "execution_count": null,
   "id": "3d123086",
   "metadata": {
    "colab": {
     "base_uri": "https://localhost:8080/"
    },
    "executionInfo": {
     "elapsed": 3,
     "status": "ok",
     "timestamp": 1627915194426,
     "user": {
      "displayName": "Siddharth Swain",
      "photoUrl": "",
      "userId": "12055456511825659152"
     },
     "user_tz": -330
    },
    "id": "iWNvjjXsTmhQ",
    "outputId": "ec9fa754-4acb-495c-aecb-f7c6777009d6"
   },
   "outputs": [
    {
     "data": {
      "text/plain": [
       "7"
      ]
     },
     "execution_count": 6,
     "metadata": {
      "tags": []
     },
     "output_type": "execute_result"
    }
   ],
   "source": [
    "o.d"
   ]
  },
  {
   "cell_type": "code",
   "execution_count": null,
   "id": "8caedc78",
   "metadata": {
    "colab": {
     "base_uri": "https://localhost:8080/"
    },
    "executionInfo": {
     "elapsed": 381,
     "status": "ok",
     "timestamp": 1627915211491,
     "user": {
      "displayName": "Siddharth Swain",
      "photoUrl": "",
      "userId": "12055456511825659152"
     },
     "user_tz": -330
    },
    "id": "RPj855osToH4",
    "outputId": "8b806fb8-eb10-4929-b5f0-a4f3ec06ad09"
   },
   "outputs": [
    {
     "data": {
      "text/plain": [
       "96"
      ]
     },
     "execution_count": 8,
     "metadata": {
      "tags": []
     },
     "output_type": "execute_result"
    }
   ],
   "source": [
    "o.test_custom(100)"
   ]
  },
  {
   "cell_type": "code",
   "execution_count": 2,
   "id": "515db451",
   "metadata": {
    "id": "N7ibR5TwTrxY"
   },
   "outputs": [],
   "source": [
    "class test:\n",
    "  def __init__(self, a, b, c, d):\n",
    "    self.__a = a\n",
    "    self.b = b\n",
    "    self.c = c\n",
    "    self.d = d\n",
    "  def test_custom(self,v):\n",
    "    return v - self.__a\n",
    "  def __str__(self):\n",
    "    return \"This is my test code for abstraction\""
   ]
  },
  {
   "cell_type": "code",
   "execution_count": 3,
   "id": "d40952a4",
   "metadata": {
    "id": "YKxO5N8LU-Gh"
   },
   "outputs": [],
   "source": [
    "o = test(4,5,6,7)"
   ]
  },
  {
   "cell_type": "code",
   "execution_count": 4,
   "id": "75897012",
   "metadata": {
    "colab": {
     "base_uri": "https://localhost:8080/"
    },
    "executionInfo": {
     "elapsed": 368,
     "status": "ok",
     "timestamp": 1627915559378,
     "user": {
      "displayName": "Siddharth Swain",
      "photoUrl": "",
      "userId": "12055456511825659152"
     },
     "user_tz": -330
    },
    "id": "6mJcXfFlVAOX",
    "outputId": "fe400fa7-446c-4093-ffda-8d448286cf02"
   },
   "outputs": [
    {
     "data": {
      "text/plain": [
       "3"
      ]
     },
     "execution_count": 4,
     "metadata": {},
     "output_type": "execute_result"
    }
   ],
   "source": [
    "o.test_custom(7)"
   ]
  },
  {
   "cell_type": "code",
   "execution_count": 5,
   "id": "71499715",
   "metadata": {
    "colab": {
     "base_uri": "https://localhost:8080/",
     "height": 163
    },
    "executionInfo": {
     "elapsed": 657,
     "status": "error",
     "timestamp": 1627915565638,
     "user": {
      "displayName": "Siddharth Swain",
      "photoUrl": "",
      "userId": "12055456511825659152"
     },
     "user_tz": -330
    },
    "id": "f4VXfqVvVB3g",
    "outputId": "3f78fc2e-c1a6-4d4a-a1be-699fcd477eb0"
   },
   "outputs": [
    {
     "ename": "AttributeError",
     "evalue": "'test' object has no attribute 'test__a'",
     "output_type": "error",
     "traceback": [
      "\u001b[1;31m---------------------------------------------------------------------------\u001b[0m",
      "\u001b[1;31mAttributeError\u001b[0m                            Traceback (most recent call last)",
      "\u001b[1;32m<ipython-input-5-a0c7c56955c7>\u001b[0m in \u001b[0;36m<module>\u001b[1;34m\u001b[0m\n\u001b[1;32m----> 1\u001b[1;33m \u001b[0mo\u001b[0m\u001b[1;33m.\u001b[0m\u001b[0mtest__a\u001b[0m\u001b[1;33m\u001b[0m\u001b[1;33m\u001b[0m\u001b[0m\n\u001b[0m",
      "\u001b[1;31mAttributeError\u001b[0m: 'test' object has no attribute 'test__a'"
     ]
    }
   ],
   "source": [
    "o.test__a"
   ]
  },
  {
   "cell_type": "code",
   "execution_count": 6,
   "id": "d28dec68",
   "metadata": {
    "colab": {
     "base_uri": "https://localhost:8080/"
    },
    "executionInfo": {
     "elapsed": 639,
     "status": "ok",
     "timestamp": 1627915571017,
     "user": {
      "displayName": "Siddharth Swain",
      "photoUrl": "",
      "userId": "12055456511825659152"
     },
     "user_tz": -330
    },
    "id": "0PKB-VbfVDPf",
    "outputId": "e89d052a-bc0f-434e-ad12-903373825597"
   },
   "outputs": [
    {
     "data": {
      "text/plain": [
       "4"
      ]
     },
     "execution_count": 6,
     "metadata": {},
     "output_type": "execute_result"
    }
   ],
   "source": [
    "o._test__a"
   ]
  },
  {
   "cell_type": "code",
   "execution_count": 17,
   "id": "957baab1",
   "metadata": {},
   "outputs": [
    {
     "data": {
      "text/plain": [
       "6"
      ]
     },
     "execution_count": 17,
     "metadata": {},
     "output_type": "execute_result"
    }
   ],
   "source": [
    "# Child class inherits properties of the parent class.\n",
    "\n",
    "class test1(test):\n",
    "    def __init__(self, j, *args):\n",
    "        super(test1,self).__init__(*args)\n",
    "        self.j = j\n",
    "        \n",
    "m = test1(14,15,16,17,18)\n",
    "m.b"
   ]
  },
  {
   "cell_type": "code",
   "execution_count": 23,
   "id": "9db7a2d4",
   "metadata": {},
   "outputs": [
    {
     "data": {
      "text/plain": [
       "4"
      ]
     },
     "execution_count": 23,
     "metadata": {},
     "output_type": "execute_result"
    }
   ],
   "source": [
    "m.j"
   ]
  },
  {
   "cell_type": "code",
   "execution_count": 18,
   "id": "210a80c6",
   "metadata": {},
   "outputs": [
    {
     "ename": "AttributeError",
     "evalue": "'test1' object has no attribute 'a'",
     "output_type": "error",
     "traceback": [
      "\u001b[1;31m---------------------------------------------------------------------------\u001b[0m",
      "\u001b[1;31mAttributeError\u001b[0m                            Traceback (most recent call last)",
      "\u001b[1;32m<ipython-input-18-f0b741c52f94>\u001b[0m in \u001b[0;36m<module>\u001b[1;34m\u001b[0m\n\u001b[1;32m----> 1\u001b[1;33m \u001b[0mm\u001b[0m\u001b[1;33m.\u001b[0m\u001b[0ma\u001b[0m\u001b[1;33m\u001b[0m\u001b[1;33m\u001b[0m\u001b[0m\n\u001b[0m",
      "\u001b[1;31mAttributeError\u001b[0m: 'test1' object has no attribute 'a'"
     ]
    }
   ],
   "source": [
    "m.a"
   ]
  },
  {
   "cell_type": "code",
   "execution_count": 19,
   "id": "8d60297a",
   "metadata": {},
   "outputs": [
    {
     "data": {
      "text/plain": [
       "6"
      ]
     },
     "execution_count": 19,
     "metadata": {},
     "output_type": "execute_result"
    }
   ],
   "source": [
    "m.b"
   ]
  },
  {
   "cell_type": "code",
   "execution_count": 20,
   "id": "ebe18d6d",
   "metadata": {},
   "outputs": [
    {
     "data": {
      "text/plain": [
       "7"
      ]
     },
     "execution_count": 20,
     "metadata": {},
     "output_type": "execute_result"
    }
   ],
   "source": [
    "m.c"
   ]
  },
  {
   "cell_type": "code",
   "execution_count": 21,
   "id": "85a583e4",
   "metadata": {},
   "outputs": [
    {
     "data": {
      "text/plain": [
       "8"
      ]
     },
     "execution_count": 21,
     "metadata": {},
     "output_type": "execute_result"
    }
   ],
   "source": [
    "m.d"
   ]
  },
  {
   "cell_type": "code",
   "execution_count": 22,
   "id": "3e0dcb61",
   "metadata": {
    "scrolled": true
   },
   "outputs": [
    {
     "data": {
      "text/plain": [
       "5"
      ]
     },
     "execution_count": 22,
     "metadata": {},
     "output_type": "execute_result"
    }
   ],
   "source": [
    "m._test__a"
   ]
  },
  {
   "cell_type": "markdown",
   "id": "ba53f1c5",
   "metadata": {
    "id": "CcPfBGnWVGeJ"
   },
   "source": [
    "## Python Inheritance\n",
    "\n",
    "Inheritance enables us to define a class that takes all the functionality from a parent class and allows us to add more. It is a powerful feature in object oriented programming.\n",
    "\n",
    "It refers to defining a new class with little or no modification to an existing class. The new class is called derived (or child) class and the one from which it inherits is called the base (or parent) class.\n",
    "\n",
    "## Python Inheritance Syntax\n",
    "\n",
    "Derived class inherits features from the base class where new features can be added to it. This results in re-usability of code.\n",
    "\n",
    "To demonstrate the use of inheritance, let us take an example.\n",
    "\n",
    "A polygon is a closed figure with 3 or more sides. Say, we have a class called Polygon defined as follows."
   ]
  },
  {
   "cell_type": "code",
   "execution_count": 13,
   "id": "2dd6a749",
   "metadata": {},
   "outputs": [],
   "source": [
    "class Polygon:\n",
    "    def __init__(self, no_of_sides):\n",
    "        self.n = no_of_sides\n",
    "        self.sides = [0 for i in range(no_of_sides)]\n",
    "\n",
    "    def inputSides(self):\n",
    "        self.sides = [float(input(\"Enter side \"+str(i+1)+\" : \")) for i in range(self.n)]\n",
    "\n",
    "    def dispSides(self):\n",
    "        for i in range(self.n):\n",
    "            print(\"Side\",i+1,\"is\",self.sides[i])"
   ]
  },
  {
   "cell_type": "markdown",
   "id": "cb6b21db",
   "metadata": {},
   "source": [
    "This class has data attributes to store the number of sides n and magnitude of each side as a list called sides.\n",
    "\n",
    "The inputSides() method takes in the magnitude of each side and dispSides() displays these side lengths.\n",
    "\n",
    "A triangle is a polygon with 3 sides. So, we can create a class called Triangle which inherits from Polygon. This makes all the attributes of Polygon class available to the Triangle class.\n",
    "\n",
    "We don't need to define them again (code reusability). Triangle can be defined as follows."
   ]
  },
  {
   "cell_type": "code",
   "execution_count": 14,
   "id": "fd566bf5",
   "metadata": {},
   "outputs": [],
   "source": [
    "class Triangle(Polygon):\n",
    "    def __init__(self):\n",
    "        Polygon.__init__(self,3)\n",
    "\n",
    "    def findArea(self):\n",
    "        a, b, c = self.sides\n",
    "        # calculate the semi-perimeter\n",
    "        s = (a + b + c) / 2\n",
    "        area = (s*(s-a)*(s-b)*(s-c)) ** 0.5\n",
    "        print('The area of the triangle is %0.2f' %area)"
   ]
  },
  {
   "cell_type": "markdown",
   "id": "598494db",
   "metadata": {},
   "source": [
    "However, class Triangle has a new method findArea() to find and print the area of the triangle. Here is a sample run."
   ]
  },
  {
   "cell_type": "code",
   "execution_count": 15,
   "id": "39a31173",
   "metadata": {},
   "outputs": [],
   "source": [
    "t = Triangle()"
   ]
  },
  {
   "cell_type": "code",
   "execution_count": 16,
   "id": "de4f3fc3",
   "metadata": {},
   "outputs": [
    {
     "name": "stdout",
     "output_type": "stream",
     "text": [
      "Enter side 1 : 3\n",
      "Enter side 2 : 5\n",
      "Enter side 3 : 4\n"
     ]
    }
   ],
   "source": [
    "t.inputSides()"
   ]
  },
  {
   "cell_type": "code",
   "execution_count": 10,
   "id": "b186916f",
   "metadata": {},
   "outputs": [
    {
     "name": "stdout",
     "output_type": "stream",
     "text": [
      "Side 1 is 3.0\n",
      "Side 2 is 5.0\n",
      "Side 3 is 4.0\n"
     ]
    }
   ],
   "source": [
    "t.dispSides()"
   ]
  },
  {
   "cell_type": "code",
   "execution_count": 11,
   "id": "c011dbec",
   "metadata": {},
   "outputs": [
    {
     "name": "stdout",
     "output_type": "stream",
     "text": [
      "The area of the triangle is 6.00\n"
     ]
    }
   ],
   "source": [
    "t.findArea()"
   ]
  },
  {
   "cell_type": "markdown",
   "id": "c97cfe54",
   "metadata": {},
   "source": [
    "We can see that even though we did not define methods like inputSides() or dispSides() for class Triangle separately, we were able to use them.\n",
    "\n",
    "If an attribute is not found in the class itself, the search continues to the base class. This repeats recursively, if the base class is itself derived from other classes."
   ]
  },
  {
   "cell_type": "markdown",
   "id": "534c1f91",
   "metadata": {},
   "source": [
    "## Practice"
   ]
  },
  {
   "cell_type": "code",
   "execution_count": null,
   "id": "62b40577",
   "metadata": {
    "id": "346n0bwCVEpP"
   },
   "outputs": [],
   "source": [
    "class test:\n",
    "  def __init__(self, a, b, c, d):\n",
    "    self.a = a\n",
    "    self.b = b\n",
    "    self.c = c\n",
    "    self.d = d\n",
    "  def test_custom(self,v):\n",
    "    return v - self.a\n",
    "  def __str__(self):\n",
    "    return \"This is my test code for abstraction\""
   ]
  },
  {
   "cell_type": "code",
   "execution_count": null,
   "id": "22889d18",
   "metadata": {
    "id": "9C6THfOGd8Cg"
   },
   "outputs": [],
   "source": [
    "class test1(test):\n",
    "  def __init__(self, j, *args):\n",
    "    super(test1,self).__init__(*args)\n",
    "    self.j = j"
   ]
  },
  {
   "cell_type": "code",
   "execution_count": null,
   "id": "22d46503",
   "metadata": {
    "id": "hapqceX9efyv"
   },
   "outputs": [],
   "source": [
    "m = test1(4,5,6,7,8)"
   ]
  },
  {
   "cell_type": "code",
   "execution_count": null,
   "id": "313526b5",
   "metadata": {
    "colab": {
     "base_uri": "https://localhost:8080/"
    },
    "executionInfo": {
     "elapsed": 9,
     "status": "ok",
     "timestamp": 1627968778469,
     "user": {
      "displayName": "Siddharth Swain",
      "photoUrl": "",
      "userId": "12055456511825659152"
     },
     "user_tz": -330
    },
    "id": "PbgTr9NiehsP",
    "outputId": "fdcfd3ab-8140-49bd-d3a6-64e96d421d28"
   },
   "outputs": [
    {
     "data": {
      "text/plain": [
       "6"
      ]
     },
     "execution_count": 19,
     "metadata": {
      "tags": []
     },
     "output_type": "execute_result"
    }
   ],
   "source": [
    "m.b"
   ]
  },
  {
   "cell_type": "code",
   "execution_count": null,
   "id": "6adaad5c",
   "metadata": {
    "colab": {
     "base_uri": "https://localhost:8080/"
    },
    "executionInfo": {
     "elapsed": 9,
     "status": "ok",
     "timestamp": 1627968778470,
     "user": {
      "displayName": "Siddharth Swain",
      "photoUrl": "",
      "userId": "12055456511825659152"
     },
     "user_tz": -330
    },
    "id": "dVKj9gG7eiKf",
    "outputId": "6b0b5f87-15b0-45d0-a0a2-8799e882f227"
   },
   "outputs": [
    {
     "data": {
      "text/plain": [
       "95"
      ]
     },
     "execution_count": 20,
     "metadata": {
      "tags": []
     },
     "output_type": "execute_result"
    }
   ],
   "source": [
    "m.test_custom(100)"
   ]
  },
  {
   "cell_type": "code",
   "execution_count": null,
   "id": "91cbce62",
   "metadata": {
    "colab": {
     "base_uri": "https://localhost:8080/"
    },
    "executionInfo": {
     "elapsed": 2,
     "status": "ok",
     "timestamp": 1627968779056,
     "user": {
      "displayName": "Siddharth Swain",
      "photoUrl": "",
      "userId": "12055456511825659152"
     },
     "user_tz": -330
    },
    "id": "a72ph5yRfUK-",
    "outputId": "50d47211-6083-412e-8f33-204bc75fdca0"
   },
   "outputs": [
    {
     "data": {
      "text/plain": [
       "4"
      ]
     },
     "execution_count": 21,
     "metadata": {
      "tags": []
     },
     "output_type": "execute_result"
    }
   ],
   "source": [
    "m.j"
   ]
  },
  {
   "cell_type": "code",
   "execution_count": null,
   "id": "f4d11b9b",
   "metadata": {
    "colab": {
     "base_uri": "https://localhost:8080/"
    },
    "executionInfo": {
     "elapsed": 5,
     "status": "ok",
     "timestamp": 1627968779617,
     "user": {
      "displayName": "Siddharth Swain",
      "photoUrl": "",
      "userId": "12055456511825659152"
     },
     "user_tz": -330
    },
    "id": "NmX-XS0ZfxOD",
    "outputId": "6d90b5fd-0525-406d-a9d4-eda52b3dcfaa"
   },
   "outputs": [
    {
     "data": {
      "text/plain": [
       "7"
      ]
     },
     "execution_count": 22,
     "metadata": {
      "tags": []
     },
     "output_type": "execute_result"
    }
   ],
   "source": [
    "m.c"
   ]
  },
  {
   "cell_type": "code",
   "execution_count": null,
   "id": "cce1a965",
   "metadata": {
    "colab": {
     "base_uri": "https://localhost:8080/"
    },
    "executionInfo": {
     "elapsed": 3,
     "status": "ok",
     "timestamp": 1627968780176,
     "user": {
      "displayName": "Siddharth Swain",
      "photoUrl": "",
      "userId": "12055456511825659152"
     },
     "user_tz": -330
    },
    "id": "IiTF_qzef4fv",
    "outputId": "2caef316-1e6c-4247-9825-f32966239c45"
   },
   "outputs": [
    {
     "data": {
      "text/plain": [
       "8"
      ]
     },
     "execution_count": 23,
     "metadata": {
      "tags": []
     },
     "output_type": "execute_result"
    }
   ],
   "source": [
    "m.d"
   ]
  },
  {
   "cell_type": "code",
   "execution_count": null,
   "id": "20aaca44",
   "metadata": {
    "colab": {
     "base_uri": "https://localhost:8080/"
    },
    "executionInfo": {
     "elapsed": 354,
     "status": "ok",
     "timestamp": 1627968783454,
     "user": {
      "displayName": "Siddharth Swain",
      "photoUrl": "",
      "userId": "12055456511825659152"
     },
     "user_tz": -330
    },
    "id": "YOntF0Y5f-ku",
    "outputId": "aed3b69d-4c3d-42f1-b526-a08a5bebf867"
   },
   "outputs": [
    {
     "data": {
      "text/plain": [
       "5"
      ]
     },
     "execution_count": 24,
     "metadata": {
      "tags": []
     },
     "output_type": "execute_result"
    }
   ],
   "source": [
    "m.a"
   ]
  },
  {
   "cell_type": "markdown",
   "id": "98e9790b",
   "metadata": {},
   "source": [
    "## Practice"
   ]
  },
  {
   "cell_type": "code",
   "execution_count": 37,
   "id": "ea2a0289",
   "metadata": {},
   "outputs": [
    {
     "name": "stdout",
     "output_type": "stream",
     "text": [
      "10\n"
     ]
    }
   ],
   "source": [
    "# If I am able to access my parent class variables in child class it is called as inheritance.\n",
    "\n",
    "class parent:\n",
    "    a = 10\n",
    "    b = 40\n",
    "    def __init__(self,parent_a,parent_b):\n",
    "        self.parent_a = parent_a\n",
    "        self.parent_b - parent_b\n",
    "\n",
    "class child(parent):\n",
    "    print(parent.a)"
   ]
  },
  {
   "cell_type": "code",
   "execution_count": 38,
   "id": "527fa8c3",
   "metadata": {},
   "outputs": [],
   "source": [
    "class parent:\n",
    "    a = 10\n",
    "    b = 40\n",
    "    def __init__(self,parent_a,parent_b):\n",
    "        self.parent_a = parent_a\n",
    "        self.parent_b = parent_b\n",
    "\n",
    "class child(parent):\n",
    "    def __init__(self, *args):\n",
    "        super(child,self).__init__(*args)"
   ]
  },
  {
   "cell_type": "code",
   "execution_count": 39,
   "id": "58f23f8c",
   "metadata": {},
   "outputs": [],
   "source": [
    "c = child(1,2)"
   ]
  },
  {
   "cell_type": "code",
   "execution_count": 40,
   "id": "c75a48cd",
   "metadata": {},
   "outputs": [
    {
     "data": {
      "text/plain": [
       "10"
      ]
     },
     "execution_count": 40,
     "metadata": {},
     "output_type": "execute_result"
    }
   ],
   "source": [
    "c.a"
   ]
  },
  {
   "cell_type": "code",
   "execution_count": 41,
   "id": "9b24625f",
   "metadata": {},
   "outputs": [
    {
     "data": {
      "text/plain": [
       "40"
      ]
     },
     "execution_count": 41,
     "metadata": {},
     "output_type": "execute_result"
    }
   ],
   "source": [
    "c.b"
   ]
  },
  {
   "cell_type": "code",
   "execution_count": 1,
   "id": "c4e59744",
   "metadata": {
    "colab": {
     "base_uri": "https://localhost:8080/"
    },
    "executionInfo": {
     "elapsed": 388,
     "status": "ok",
     "timestamp": 1627986214965,
     "user": {
      "displayName": "Siddharth Swain",
      "photoUrl": "",
      "userId": "12055456511825659152"
     },
     "user_tz": -330
    },
    "id": "Vc3J6lLEh2F8",
    "outputId": "2554ec0d-d3a1-4f22-f809-37f7469e6b24"
   },
   "outputs": [
    {
     "name": "stdout",
     "output_type": "stream",
     "text": [
      "ha\n",
      "hahaha\n"
     ]
    }
   ],
   "source": [
    "# Without using Inheritance.\n",
    "\n",
    "class test:\n",
    "  def a(self):\n",
    "    print(\"ha\")\n",
    "\n",
    "class test1:\n",
    "  def a(self):\n",
    "    print(\"hahaha\")\n",
    "\n",
    "class test2():\n",
    "  t = test()\n",
    "  t.a()\n",
    "  t1 = test1()\n",
    "  t1.a()\n",
    "  #print(\"test2 class\")\n",
    "\n",
    "t2 = test2()"
   ]
  },
  {
   "cell_type": "code",
   "execution_count": null,
   "id": "bbc4b8cc",
   "metadata": {
    "colab": {
     "base_uri": "https://localhost:8080/"
    },
    "executionInfo": {
     "elapsed": 494,
     "status": "ok",
     "timestamp": 1628006327941,
     "user": {
      "displayName": "Siddharth Swain",
      "photoUrl": "",
      "userId": "12055456511825659152"
     },
     "user_tz": -330
    },
    "id": "xTu50o5OiMCb",
    "outputId": "df088f82-c734-4734-830c-3350aec6ab91"
   },
   "outputs": [
    {
     "name": "stdout",
     "output_type": "stream",
     "text": [
      "Multi_Task\n",
      "Name: Ineuron\n"
     ]
    }
   ],
   "source": [
    "# Using Inheritance.\n",
    "\n",
    "class Ineuron:\n",
    "  company_website = \"https://esri.com\"\n",
    "  name = 'Ineuron'\n",
    "\n",
    "  def contact_details(self):\n",
    "    print('Contact us at:',self.company_website)\n",
    "\n",
    "class OS:\n",
    "  multi_task = True\n",
    "  os_name = \"Windows OS\"\n",
    "\n",
    "class windows(OS, Ineuron):\n",
    "  def __init__(self):\n",
    "    if self.multi_task is True:\n",
    "      print('Multi_Task')\n",
    "    print('Name: {}'.format(self.name))\n",
    "\n",
    "var = windows()"
   ]
  },
  {
   "cell_type": "markdown",
   "id": "72d81171",
   "metadata": {},
   "source": [
    "**Note :**\n",
    "\n",
    "Two built-in functions isinstance() and issubclass() are used to check inheritances.\n",
    "\n",
    "The function isinstance() returns True if the object is an instance of the class or other classes derived from it. Each and every class in Python inherits from the base class object."
   ]
  },
  {
   "cell_type": "code",
   "execution_count": 17,
   "id": "0c6e41bf",
   "metadata": {},
   "outputs": [
    {
     "data": {
      "text/plain": [
       "True"
      ]
     },
     "execution_count": 17,
     "metadata": {},
     "output_type": "execute_result"
    }
   ],
   "source": [
    "isinstance(t,Triangle)"
   ]
  },
  {
   "cell_type": "code",
   "execution_count": 18,
   "id": "3e33f690",
   "metadata": {},
   "outputs": [
    {
     "data": {
      "text/plain": [
       "True"
      ]
     },
     "execution_count": 18,
     "metadata": {},
     "output_type": "execute_result"
    }
   ],
   "source": [
    "isinstance(t,Polygon)"
   ]
  },
  {
   "cell_type": "code",
   "execution_count": 19,
   "id": "013a861d",
   "metadata": {},
   "outputs": [
    {
     "data": {
      "text/plain": [
       "False"
      ]
     },
     "execution_count": 19,
     "metadata": {},
     "output_type": "execute_result"
    }
   ],
   "source": [
    "isinstance(t,int)"
   ]
  },
  {
   "cell_type": "code",
   "execution_count": 20,
   "id": "51c77f39",
   "metadata": {},
   "outputs": [
    {
     "data": {
      "text/plain": [
       "True"
      ]
     },
     "execution_count": 20,
     "metadata": {},
     "output_type": "execute_result"
    }
   ],
   "source": [
    "isinstance(t,object)"
   ]
  },
  {
   "cell_type": "markdown",
   "id": "5d04553d",
   "metadata": {},
   "source": [
    "Similarly, issubclass() is used to check for class inheritance."
   ]
  },
  {
   "cell_type": "code",
   "execution_count": 21,
   "id": "7341617e",
   "metadata": {},
   "outputs": [
    {
     "data": {
      "text/plain": [
       "False"
      ]
     },
     "execution_count": 21,
     "metadata": {},
     "output_type": "execute_result"
    }
   ],
   "source": [
    "issubclass(Polygon,Triangle)"
   ]
  },
  {
   "cell_type": "code",
   "execution_count": 22,
   "id": "87bf9eef",
   "metadata": {},
   "outputs": [
    {
     "data": {
      "text/plain": [
       "True"
      ]
     },
     "execution_count": 22,
     "metadata": {},
     "output_type": "execute_result"
    }
   ],
   "source": [
    "issubclass(Triangle,Polygon)"
   ]
  },
  {
   "cell_type": "code",
   "execution_count": 23,
   "id": "894821b0",
   "metadata": {},
   "outputs": [
    {
     "data": {
      "text/plain": [
       "True"
      ]
     },
     "execution_count": 23,
     "metadata": {},
     "output_type": "execute_result"
    }
   ],
   "source": [
    "issubclass(bool,int)"
   ]
  },
  {
   "cell_type": "markdown",
   "id": "bee01267",
   "metadata": {},
   "source": [
    "## Python Multiple Inheritance\n",
    "\n",
    "A class can be derived from more than one base class in Python, similar to C++. This is called multiple inheritance.\n",
    "\n",
    "In multiple inheritance, the features of all the base classes are inherited into the derived class. The syntax for multiple inheritance is similar to single inheritance."
   ]
  },
  {
   "cell_type": "code",
   "execution_count": 24,
   "id": "b87a5658",
   "metadata": {},
   "outputs": [],
   "source": [
    "# Example\n",
    "\n",
    "class Base1:\n",
    "    pass\n",
    "\n",
    "class Base2:\n",
    "    pass\n",
    "\n",
    "class MultiDerived(Base1, Base2):\n",
    "    pass"
   ]
  },
  {
   "attachments": {
    "image.png": {
     "image/png": "[encoded data removed]"
    }
   },
   "cell_type": "markdown",
   "id": "709aa1b0",
   "metadata": {},
   "source": [
    "Here, the MultiDerived class is derived from Base1 and Base2 classes.\n",
    "\n",
    "![image.png](attachment:image.png)\n",
    "\n",
    "The MultiDerived class inherits from both Base1 and Base2 classes."
   ]
  },
  {
   "cell_type": "markdown",
   "id": "03294293",
   "metadata": {},
   "source": [
    "## Practice"
   ]
  },
  {
   "cell_type": "code",
   "execution_count": 26,
   "id": "e1cc8736",
   "metadata": {},
   "outputs": [
    {
     "name": "stdout",
     "output_type": "stream",
     "text": [
      "Multi_Task\n",
      "Name: Ineuron\n"
     ]
    }
   ],
   "source": [
    "# Sample Code\n",
    "\n",
    "class Ineuron:\n",
    "  company_website = \"https://esri.com\"\n",
    "  name = 'Ineuron'\n",
    "\n",
    "  def contact_details(self):\n",
    "    print('Contact us at:',self.company_website)\n",
    "\n",
    "class OS:\n",
    "  multi_task = True\n",
    "  os_name = \"Windows OS\"\n",
    "  name = \"sudh\"\n",
    "\n",
    "class windows(Ineuron, OS):\n",
    "  def __init__(self):\n",
    "    if self.multi_task is True:\n",
    "      print('Multi_Task')\n",
    "    print('Name: {}'.format(self.name))\n",
    "\n",
    "var = windows()"
   ]
  },
  {
   "cell_type": "markdown",
   "id": "03019db0",
   "metadata": {},
   "source": [
    "## Python Multilevel Inheritance\n",
    "\n",
    "We can also inherit from a derived class. This is called multilevel inheritance. It can be of any depth in Python.\n",
    "\n",
    "In multilevel inheritance, features of the base class and the derived class are inherited into the new derived class.\n",
    "\n",
    "An example with corresponding visualization is given below."
   ]
  },
  {
   "cell_type": "code",
   "execution_count": 25,
   "id": "2d68fe2f",
   "metadata": {},
   "outputs": [],
   "source": [
    "class Base:\n",
    "    pass\n",
    "\n",
    "class Derived1(Base):\n",
    "    pass\n",
    "\n",
    "class Derived2(Derived1):\n",
    "    pass"
   ]
  },
  {
   "attachments": {
    "image.png": {
     "image/png": "[encoded data removed]"
    }
   },
   "cell_type": "markdown",
   "id": "4ded95d5",
   "metadata": {},
   "source": [
    "Here, the Derived1 class is derived from the Base class, and the Derived2 class is derived from the Derived1 class.\n",
    "\n",
    "![image.png](attachment:image.png)"
   ]
  },
  {
   "cell_type": "markdown",
   "id": "4cab0309",
   "metadata": {},
   "source": [
    "## Practice"
   ]
  },
  {
   "cell_type": "code",
   "execution_count": 27,
   "id": "dae7769b",
   "metadata": {},
   "outputs": [
    {
     "name": "stdout",
     "output_type": "stream",
     "text": [
      "The company IiNeuron offers total 12 different types of courses. Most trending course is Data-Science.\n"
     ]
    }
   ],
   "source": [
    "# Sample Code\n",
    "\n",
    "class iNeuron:\n",
    "  num_of_courses = 12\n",
    "\n",
    "class Datascience(iNeuron):\n",
    "  course_type = 'Data-Science'\n",
    "\n",
    "class AI(Datascience):\n",
    "  def __init__(self):\n",
    "    self.company = \"IiNeuron\"\n",
    "    print(\"The company {0} offers total {1} different types of courses. Most trending course is {2}.\".format(self.company , self.num_of_courses , self.course_type))\n",
    "\n",
    "AI = AI()"
   ]
  },
  {
   "attachments": {
    "image.png": {
     "image/png": "[encoded data removed]"
    }
   },
   "cell_type": "markdown",
   "id": "47b96cd0",
   "metadata": {},
   "source": [
    "## Method Overriding in Python\n",
    "\n",
    "Method overriding is an ability of any object-oriented programming language that allows a subclass or child class to provide a specific implementation of a method that is already provided by one of its super-classes or parent classes. \n",
    "\n",
    "When a method in a subclass has the same name, same parameters or signature and same return type(or sub-type) as a method in its super-class, then the method in the subclass is said to override the method in the super-class.\n",
    "\n",
    "![image.png](attachment:image.png)\n",
    "\n",
    "The version of a method that is executed will be determined by the object that is used to invoke it. If an object of a parent class is used to invoke the method, then the version in the parent class will be executed, but if an object of the subclass is used to invoke the method, then the version in the child class will be executed. In other words, it is the type of the object being referred to (not the type of the reference variable) that determines which version of an overridden method will be executed."
   ]
  },
  {
   "cell_type": "code",
   "execution_count": 2,
   "id": "02bbd0c6",
   "metadata": {},
   "outputs": [
    {
     "name": "stdout",
     "output_type": "stream",
     "text": [
      "Inside Parent\n",
      "Inside Child\n"
     ]
    }
   ],
   "source": [
    "# Python program to demonstrate \n",
    "# method overriding\n",
    "  \n",
    "  \n",
    "# Defining parent class\n",
    "class Parent():\n",
    "      \n",
    "    # Constructor\n",
    "    def __init__(self):\n",
    "        self.value = \"Inside Parent\"\n",
    "          \n",
    "    # Parent's show method\n",
    "    def show(self):\n",
    "        print(self.value)\n",
    "          \n",
    "# Defining child class\n",
    "class Child(Parent):\n",
    "      \n",
    "    # Constructor\n",
    "    def __init__(self):\n",
    "        self.value = \"Inside Child\"\n",
    "          \n",
    "    # Child's show method\n",
    "    def show(self):\n",
    "        print(self.value)\n",
    "          \n",
    "          \n",
    "# Driver's code\n",
    "obj1 = Parent()\n",
    "obj2 = Child()\n",
    "  \n",
    "obj1.show()\n",
    "obj2.show()"
   ]
  },
  {
   "cell_type": "markdown",
   "id": "6343a6e5",
   "metadata": {},
   "source": [
    "## Method Resolution Order in Python\n",
    "\n",
    "Every class in Python is derived from the object class. It is the most base type in Python.\n",
    "\n",
    "So technically, all other classes, either built-in or user-defined, are derived classes and all objects are instances of the object class."
   ]
  },
  {
   "cell_type": "code",
   "execution_count": 28,
   "id": "c7869f1c",
   "metadata": {},
   "outputs": [
    {
     "name": "stdout",
     "output_type": "stream",
     "text": [
      "True\n",
      "True\n",
      "True\n"
     ]
    }
   ],
   "source": [
    "# Output: True\n",
    "print(issubclass(list,object))\n",
    "\n",
    "# Output: True\n",
    "print(isinstance(5.5,object))\n",
    "\n",
    "# Output: True\n",
    "print(isinstance(\"Hello\",object))"
   ]
  },
  {
   "cell_type": "markdown",
   "id": "4e4017ff",
   "metadata": {},
   "source": [
    "In the multiple inheritance scenario, any specified attribute is searched first in the current class. If not found, the search continues into parent classes in depth-first, left-right fashion without searching the same class twice.\n",
    "\n",
    "So, in the above example of MultiDerived class the search order is [MultiDerived, Base1, Base2, object]. This order is also called linearization of MultiDerived class and the set of rules used to find this order is called Method Resolution Order (MRO).\n",
    "\n",
    "MRO must prevent local precedence ordering and also provide monotonicity. It ensures that a class always appears before its parents. In case of multiple parents, the order is the same as tuples of base classes.\n",
    "\n",
    "MRO of a class can be viewed as the __mro__ attribute or the mro() method. The former returns a tuple while the latter returns a list."
   ]
  },
  {
   "cell_type": "code",
   "execution_count": 29,
   "id": "0954c1d2",
   "metadata": {},
   "outputs": [
    {
     "data": {
      "text/plain": [
       "(__main__.MultiDerived, __main__.Base1, __main__.Base2, object)"
      ]
     },
     "execution_count": 29,
     "metadata": {},
     "output_type": "execute_result"
    }
   ],
   "source": [
    "MultiDerived.__mro__"
   ]
  },
  {
   "cell_type": "code",
   "execution_count": 30,
   "id": "68c749c0",
   "metadata": {},
   "outputs": [
    {
     "data": {
      "text/plain": [
       "[__main__.MultiDerived, __main__.Base1, __main__.Base2, object]"
      ]
     },
     "execution_count": 30,
     "metadata": {},
     "output_type": "execute_result"
    }
   ],
   "source": [
    "MultiDerived.mro()"
   ]
  },
  {
   "attachments": {
    "image.png": {
     "image/png": "[encoded data removed]"
    }
   },
   "cell_type": "markdown",
   "id": "b82b099c",
   "metadata": {},
   "source": [
    "Here is a little more complex multiple inheritance example and its visualization along with the MRO.\n",
    "\n",
    "![image.png](attachment:image.png)"
   ]
  },
  {
   "cell_type": "code",
   "execution_count": 31,
   "id": "4c6b8baf",
   "metadata": {},
   "outputs": [
    {
     "name": "stdout",
     "output_type": "stream",
     "text": [
      "[<class '__main__.M'>, <class '__main__.B'>, <class '__main__.A'>, <class '__main__.X'>, <class '__main__.Y'>, <class '__main__.Z'>, <class 'object'>]\n"
     ]
    }
   ],
   "source": [
    "# Demonstration of MRO\n",
    "\n",
    "class X:\n",
    "    pass\n",
    "\n",
    "\n",
    "class Y:\n",
    "    pass\n",
    "\n",
    "\n",
    "class Z:\n",
    "    pass\n",
    "\n",
    "\n",
    "class A(X, Y):\n",
    "    pass\n",
    "\n",
    "\n",
    "class B(Y, Z):\n",
    "    pass\n",
    "\n",
    "\n",
    "class M(B, A, Z):\n",
    "    pass\n",
    "\n",
    "# Output:\n",
    "# [<class '__main__.M'>, <class '__main__.B'>,\n",
    "#  <class '__main__.A'>, <class '__main__.X'>,\n",
    "#  <class '__main__.Y'>, <class '__main__.Z'>,\n",
    "#  <class 'object'>]\n",
    "\n",
    "print(M.mro())"
   ]
  },
  {
   "attachments": {
    "image.png": {
     "image/png": "[encoded data removed]"
    }
   },
   "cell_type": "markdown",
   "id": "343ee636",
   "metadata": {},
   "source": [
    "## Encapsulation in Python\n",
    "\n",
    "Encapsulation is one of the fundamental concepts in object-oriented programming (OOP). It describes the idea of wrapping data and the methods that work on data within one unit. \n",
    "\n",
    "This puts restrictions on accessing variables and methods directly and can prevent the accidental modification of data. To prevent accidental change, an object’s variable can only be changed by an object’s method. \n",
    "\n",
    "Those types of variables are known as private variables. A class is an example of encapsulation as it encapsulates all the data that is member functions, variables, etc.\n",
    "\n",
    "![image.png](attachment:image.png)\n",
    "\n",
    "Consider a real-life example of encapsulation, in a company, there are different sections like the accounts section, finance section, sales section etc. The finance section handles all the financial transactions and keeps records of all the data related to finance. Similarly, the sales section handles all the sales-related activities and keeps records of all the sales. \n",
    "\n",
    "Now there may arise a situation when for some reason an official from the finance section needs all the data about sales in a particular month. In this case, he is not allowed to directly access the data of the sales section. He will first have to contact some other officer in the sales section and then request him to give the particular data. This is what encapsulation is. Here the data of the sales section and the employees that can manipulate them are wrapped under a single name “sales section”. Using encapsulation also hides the data. In this example, the data of the sections like sales, finance, or accounts are hidden from any other section.\n",
    "\n",
    "## Protected Members\n",
    "\n",
    "Protected members (in C++ and JAVA) are those members of the class that cannot be accessed outside the class but can be accessed from within the class and its subclasses. To accomplish this in Python, just follow the convention by prefixing the name of the member by a single underscore “_”.\n",
    "\n",
    "Although the protected variable can be accessed out of the class as well as in the derived class(modified too in derived class), it is customary(convention not a rule) to not access the protected out the class body.\n",
    "\n",
    "Note: The __init__ method is a constructor and runs as soon as an object of a class is instantiated.  "
   ]
  },
  {
   "cell_type": "code",
   "execution_count": 32,
   "id": "ca5facaf",
   "metadata": {},
   "outputs": [
    {
     "name": "stdout",
     "output_type": "stream",
     "text": [
      "Calling protected member of base class:  2\n",
      "Calling modified protected member outside class:  3\n",
      "Accessing protected member of obj1:  3\n",
      "Accessing protected member of obj2:  2\n"
     ]
    }
   ],
   "source": [
    "# Python program to\n",
    "# demonstrate protected members\n",
    "\n",
    "# Creating a base class\n",
    "class Base:\n",
    "\tdef __init__(self):\n",
    "\n",
    "\t\t# Protected member\n",
    "\t\tself._a = 2\n",
    "\n",
    "# Creating a derived class\n",
    "class Derived(Base):\n",
    "\tdef __init__(self):\n",
    "\n",
    "\t\t# Calling constructor of\n",
    "\t\t# Base class\n",
    "\t\tBase.__init__(self)\n",
    "\t\tprint(\"Calling protected member of base class: \",\n",
    "\t\t\tself._a)\n",
    "\n",
    "\t\t# Modify the protected variable:\n",
    "\t\tself._a = 3\n",
    "\t\tprint(\"Calling modified protected member outside class: \",\n",
    "\t\t\tself._a)\n",
    "\n",
    "\n",
    "obj1 = Derived()\n",
    "\n",
    "obj2 = Base()\n",
    "\n",
    "# Calling protected member\n",
    "# Can be accessed but should not be done due to convention\n",
    "print(\"Accessing protected member of obj1: \", obj1._a)\n",
    "\n",
    "# Accessing the protected variable outside\n",
    "print(\"Accessing protected member of obj2: \", obj2._a)"
   ]
  },
  {
   "cell_type": "markdown",
   "id": "1553005b",
   "metadata": {},
   "source": [
    "## Private members\n",
    "\n",
    "Private members are similar to protected members, the difference is that the class members declared private should neither be accessed outside the class nor by any base class. In Python, there is no existence of Private instance variables that cannot be accessed except inside a class.\n",
    "\n",
    "However, to define a private member prefix the member name with double underscore “__”.\n",
    "\n",
    "Note: Python’s private and protected members can be accessed outside the class through python name mangling. "
   ]
  },
  {
   "cell_type": "code",
   "execution_count": 33,
   "id": "18bf1b4f",
   "metadata": {},
   "outputs": [
    {
     "name": "stdout",
     "output_type": "stream",
     "text": [
      "GeeksforGeeks\n"
     ]
    }
   ],
   "source": [
    "# Python program to\n",
    "# demonstrate private members\n",
    "\n",
    "# Creating a Base class\n",
    "\n",
    "\n",
    "class Base:\n",
    "\tdef __init__(self):\n",
    "\t\tself.a = \"GeeksforGeeks\"\n",
    "\t\tself.__c = \"GeeksforGeeks\"\n",
    "\n",
    "# Creating a derived class\n",
    "class Derived(Base):\n",
    "\tdef __init__(self):\n",
    "\n",
    "\t\t# Calling constructor of\n",
    "\t\t# Base class\n",
    "\t\tBase.__init__(self)\n",
    "\t\tprint(\"Calling private member of base class: \")\n",
    "\t\tprint(self.__c)\n",
    "\n",
    "\n",
    "# Driver code\n",
    "obj1 = Base()\n",
    "print(obj1.a)\n",
    "\n",
    "# Uncommenting print(obj1.c) will\n",
    "# raise an AttributeError\n",
    "\n",
    "# Uncommenting obj2 = Derived() will\n",
    "# also raise an AtrributeError as\n",
    "# private member of base class\n",
    "# is called inside derived class\n"
   ]
  },
  {
   "cell_type": "markdown",
   "id": "e6b68738",
   "metadata": {
    "id": "ng0DO_xy49AD"
   },
   "source": [
    "## Practice\n",
    "\n",
    "- Encapsulation hides the implementation in capsules."
   ]
  },
  {
   "cell_type": "code",
   "execution_count": 1,
   "id": "ee385d2c",
   "metadata": {
    "id": "HCldjw_03v4O"
   },
   "outputs": [],
   "source": [
    "class test:\n",
    "\n",
    "  def __init__(self,a,b,c):\n",
    "    self.a = a\n",
    "    self.b = b\n",
    "    self.c = c\n",
    "\n",
    "  def __str__(self):\n",
    "    return \"this is the return from my test class\"\n",
    "\n",
    "  def sample(self):\n",
    "    return self.a + self.b + self.c\n",
    "\n",
    "class test1:\n",
    "\n",
    "  def __init__(self,a,b,c):\n",
    "    self.a = a\n",
    "    self.b = b\n",
    "    self.c = c\n",
    "\n",
    "  def __str__(self):\n",
    "    return \"this is the return from my test1 class\"\n",
    "\n",
    "class test2:\n",
    "\n",
    "  def __init__(self,a,b,c):\n",
    "    self.a = a\n",
    "    self.b = b\n",
    "    self.c = c\n",
    "\n",
    "  def __str__(self):\n",
    "    return \"this is the return from my test2 class\"\n",
    "\n",
    "class final:\n",
    "\n",
    "  def __init__(self,x,y,z):\n",
    "    self.x = x\n",
    "    self.y = y\n",
    "    self.z = z\n",
    "\n",
    "  def __str__(self):\n",
    "    return \"This is a print from final class \" + str(self.x) + str(self.y) + str(self.z)\n"
   ]
  },
  {
   "cell_type": "code",
   "execution_count": 2,
   "id": "af19d7cf",
   "metadata": {
    "id": "HgL5gJeGLC2i"
   },
   "outputs": [],
   "source": [
    "t = test(4,5,6)\n",
    "t1 = test1(3,4,5)\n",
    "t2 = test2(5,6,7)\n",
    "f = final(t,t1,t2)"
   ]
  },
  {
   "cell_type": "code",
   "execution_count": 3,
   "id": "15180412",
   "metadata": {},
   "outputs": [
    {
     "name": "stdout",
     "output_type": "stream",
     "text": [
      "This is a print from final class this is the return from my test classthis is the return from my test1 classthis is the return from my test2 class\n"
     ]
    }
   ],
   "source": [
    "print(f)"
   ]
  },
  {
   "cell_type": "code",
   "execution_count": 4,
   "id": "88b25a97",
   "metadata": {},
   "outputs": [
    {
     "data": {
      "text/plain": [
       "<__main__.final at 0x219adac7c40>"
      ]
     },
     "execution_count": 4,
     "metadata": {},
     "output_type": "execute_result"
    }
   ],
   "source": [
    "f"
   ]
  },
  {
   "cell_type": "code",
   "execution_count": 5,
   "id": "ca8db2f9",
   "metadata": {},
   "outputs": [
    {
     "name": "stdout",
     "output_type": "stream",
     "text": [
      "this is the return from my test class\n"
     ]
    }
   ],
   "source": [
    "print(f.x)"
   ]
  },
  {
   "cell_type": "code",
   "execution_count": 6,
   "id": "683bb6dc",
   "metadata": {},
   "outputs": [
    {
     "name": "stdout",
     "output_type": "stream",
     "text": [
      "this is the return from my test1 class\n"
     ]
    }
   ],
   "source": [
    "print(f.y)"
   ]
  },
  {
   "cell_type": "code",
   "execution_count": 7,
   "id": "0ae4b703",
   "metadata": {},
   "outputs": [
    {
     "name": "stdout",
     "output_type": "stream",
     "text": [
      "this is the return from my test2 class\n"
     ]
    }
   ],
   "source": [
    "print(f.z)"
   ]
  },
  {
   "cell_type": "code",
   "execution_count": 8,
   "id": "4b17f476",
   "metadata": {},
   "outputs": [
    {
     "data": {
      "text/plain": [
       "15"
      ]
     },
     "execution_count": 8,
     "metadata": {},
     "output_type": "execute_result"
    }
   ],
   "source": [
    "f.x.sample()"
   ]
  },
  {
   "cell_type": "markdown",
   "id": "529ac3d8",
   "metadata": {},
   "source": [
    "## Practice"
   ]
  },
  {
   "cell_type": "code",
   "execution_count": 1,
   "id": "a5717289",
   "metadata": {},
   "outputs": [
    {
     "name": "stdout",
     "output_type": "stream",
     "text": [
      "Tyres: \n",
      " \tBranch:Pirelli\n",
      " \tBelted-bias: True\n",
      " \tOptimal pressure: 2.0\n",
      "Engine: \n",
      " \tFuel type: Diesel\n",
      " \tNoise level: 3\n",
      "Body:\n",
      " \tSize: Medium\n",
      "Fortuner\n"
     ]
    }
   ],
   "source": [
    "class Tyres:\n",
    "    def __init__(self,branch,belted_bias,opt_pressure):\n",
    "        self.branch = branch\n",
    "        self.belted_bias = belted_bias\n",
    "        self.opt_pressure = opt_pressure\n",
    "    def __str__(self):\n",
    "        return (\"Tyres: \\n \\tBranch:\" + str(self.branch) + \n",
    "                \"\\n \\tBelted-bias: \" + str(self.belted_bias) + \n",
    "                \"\\n \\tOptimal pressure: \" +str(self.opt_pressure))\n",
    "    \n",
    "class Engine:\n",
    "    def __init__(self,fuel_type,noise_level):\n",
    "        self.fuel_type = fuel_type\n",
    "        self.noise_level = noise_level\n",
    "        \n",
    "    def __str__(self):\n",
    "        return (\"Engine: \\n \\tFuel type: \" + self.fuel_type +\n",
    "                \"\\n \\tNoise level: \" + str(self.noise_level))\n",
    "    \n",
    "class Body:\n",
    "    def __init__(self,size):\n",
    "        self.size = size\n",
    "        \n",
    "    def __str__(self):\n",
    "        return \"Body:\\n \\tSize: \" + self.size\n",
    "    \n",
    "class Car:\n",
    "    def __init__(self,n,t,e,b):\n",
    "        self.n = n\n",
    "        self.t = t\n",
    "        self.e = e\n",
    "        self.b = b\n",
    "        \n",
    "    def __str__(self):\n",
    "        return str(self.t) + \"\\n\" + str(self.e) + \"\\n\" + str(self.b) + \"\\n\" + str(self.n)\n",
    "    \n",
    "t = Tyres('Pirelli',True,2.0)\n",
    "e = Engine('Diesel',3)\n",
    "b = Body('Medium')\n",
    "c = Car(\"Fortuner\",t,e,b)   # When passing t e and b objects the Car Class directly calls the classes.\n",
    "print(c)                    # We are passing objects and object will call the classes.      \n",
    "        \n",
    "    "
   ]
  },
  {
   "cell_type": "code",
   "execution_count": 2,
   "id": "75de3b93",
   "metadata": {},
   "outputs": [
    {
     "name": "stdout",
     "output_type": "stream",
     "text": [
      "Tyres: \n",
      " \tBranch:Pirelli\n",
      " \tBelted-bias: True\n",
      " \tOptimal pressure: 2.0\n"
     ]
    }
   ],
   "source": [
    "print(t)"
   ]
  },
  {
   "cell_type": "code",
   "execution_count": 3,
   "id": "24ebf948",
   "metadata": {},
   "outputs": [
    {
     "name": "stdout",
     "output_type": "stream",
     "text": [
      "Engine: \n",
      " \tFuel type: Diesel\n",
      " \tNoise level: 3\n"
     ]
    }
   ],
   "source": [
    "print(e)"
   ]
  },
  {
   "cell_type": "code",
   "execution_count": 4,
   "id": "a67b3242",
   "metadata": {},
   "outputs": [
    {
     "name": "stdout",
     "output_type": "stream",
     "text": [
      "Body:\n",
      " \tSize: Medium\n"
     ]
    }
   ],
   "source": [
    "print(b)"
   ]
  },
  {
   "cell_type": "code",
   "execution_count": 5,
   "id": "58a5a451",
   "metadata": {},
   "outputs": [
    {
     "name": "stdout",
     "output_type": "stream",
     "text": [
      "Tyres: \n",
      " \tBranch:Pirelli\n",
      " \tBelted-bias: True\n",
      " \tOptimal pressure: 2.0\n",
      "Engine: \n",
      " \tFuel type: Diesel\n",
      " \tNoise level: 3\n",
      "Body:\n",
      " \tSize: Medium\n",
      "Fortuner\n"
     ]
    }
   ],
   "source": [
    "print(c)"
   ]
  },
  {
   "cell_type": "code",
   "execution_count": 6,
   "id": "3e94b49b",
   "metadata": {},
   "outputs": [
    {
     "name": "stdout",
     "output_type": "stream",
     "text": [
      "Fortuner\n"
     ]
    }
   ],
   "source": [
    "print(c.n)"
   ]
  },
  {
   "cell_type": "code",
   "execution_count": 7,
   "id": "124142d7",
   "metadata": {},
   "outputs": [
    {
     "name": "stdout",
     "output_type": "stream",
     "text": [
      "Tyres: \n",
      " \tBranch:Pirelli\n",
      " \tBelted-bias: True\n",
      " \tOptimal pressure: 2.0\n"
     ]
    }
   ],
   "source": [
    "print(c.t)"
   ]
  },
  {
   "cell_type": "code",
   "execution_count": 8,
   "id": "61518bb8",
   "metadata": {},
   "outputs": [
    {
     "name": "stdout",
     "output_type": "stream",
     "text": [
      "Engine: \n",
      " \tFuel type: Diesel\n",
      " \tNoise level: 3\n"
     ]
    }
   ],
   "source": [
    "print(c.e)"
   ]
  },
  {
   "cell_type": "code",
   "execution_count": 9,
   "id": "6888253e",
   "metadata": {},
   "outputs": [
    {
     "name": "stdout",
     "output_type": "stream",
     "text": [
      "Body:\n",
      " \tSize: Medium\n"
     ]
    }
   ],
   "source": [
    "print(c.b)"
   ]
  },
  {
   "cell_type": "code",
   "execution_count": 7,
   "id": "b9d19713",
   "metadata": {
    "id": "dUHJv6BeODSv"
   },
   "outputs": [
    {
     "name": "stdout",
     "output_type": "stream",
     "text": [
      "Tyres: \n",
      " \tBranch:Pirelli\n",
      " \tBelted-bias: True\n",
      " \tOptimal pressure: 2.0\n",
      "Engine: \n",
      " \tFuel type: Diesel\n",
      " \tNoise level: 3\n",
      "Body:\n",
      " \tSize: Medium Fortuner\n"
     ]
    }
   ],
   "source": [
    "class Tyres:\n",
    "    def __init__(self,branch,belted_bias,opt_pressure):\n",
    "        self.branch = branch\n",
    "        self.belted_bias = belted_bias\n",
    "        self.opt_pressure = opt_pressure\n",
    "    def __str__(self):\n",
    "        return (\"Tyres: \\n \\tBranch:\" + str(self.branch) + \n",
    "                \"\\n \\tBelted-bias: \" + str(self.belted_bias) + \n",
    "                \"\\n \\tOptimal pressure: \" +str(self.opt_pressure))\n",
    "    \n",
    "class Engine:\n",
    "    def __init__(self,fuel_type,noise_level):\n",
    "        self.fuel_type = fuel_type\n",
    "        self.noise_level = noise_level\n",
    "        \n",
    "    def __str__(self):\n",
    "        return (\"Engine: \\n \\tFuel type: \" + self.fuel_type +\n",
    "                \"\\n \\tNoise level: \" + str(self.noise_level))\n",
    "    \n",
    "class Body:\n",
    "    def __init__(self,size):\n",
    "        self.size = size\n",
    "        \n",
    "    def __str__(self):\n",
    "        return \"Body:\\n \\tSize: \" + self.size\n",
    "    \n",
    "class Car:\n",
    "    def __init__(self,name,tyres,engine,body):\n",
    "        self.name = name\n",
    "        self.tyres = tyres\n",
    "        self.engine = engine\n",
    "        self.body = body\n",
    "        \n",
    "    def __str__(self):\n",
    "        return str(self.tyres) + \"\\n\" + str(self.engine) + \"\\n\" + str(self.body) + \" \" + str(self.name)\n",
    "    \n",
    "t = Tyres('Pirelli',True,2.0)\n",
    "e = Engine('Diesel',3)\n",
    "b = Body('Medium')\n",
    "c = Car(\"Fortuner\",t,e,b)   # When passing t e and b objects the Car Class directly calls the classes.\n",
    "print(c)                    # We are passing objects and object will call the classes.      \n",
    "        \n",
    "    "
   ]
  },
  {
   "cell_type": "markdown",
   "id": "a1f6ee87",
   "metadata": {},
   "source": [
    "## Practice"
   ]
  },
  {
   "cell_type": "code",
   "execution_count": 1,
   "id": "c3f65bd5",
   "metadata": {},
   "outputs": [
    {
     "name": "stdout",
     "output_type": "stream",
     "text": [
      "Kudrjavka is a Laika born in 1954.\n"
     ]
    }
   ],
   "source": [
    "class Dog:\n",
    "    def __init__(self,name,year_of_birth,breed):\n",
    "        self._name = name\n",
    "        self._year_of_birth = year_of_birth\n",
    "        self._breed = breed\n",
    "    def __str__(self):\n",
    "        return \"%s is a %s born in %d.\" % (self._name,self._breed,self._year_of_birth)\n",
    "    \n",
    "kudrjavka = Dog(\"Kudrjavka\",1954,\"Laika\")\n",
    "dog1 = Dog(\"German Sheperd\",565,\"coco\")\n",
    "dog2 = Dog(\"Sheperd\",565,\"coco\")\n",
    "dog3 = Dog(\"German\",565,\"coco\")\n",
    "print(kudrjavka)"
   ]
  },
  {
   "cell_type": "code",
   "execution_count": 2,
   "id": "646ce8da",
   "metadata": {},
   "outputs": [],
   "source": [
    "class student:\n",
    "    def __init__(self,name,student_id,school_name,address):\n",
    "        self.name = name\n",
    "        self.student_id = student_id\n",
    "        self.school_name = school_name\n",
    "        self.address = address\n",
    "    \n",
    "    def __str__(self):\n",
    "        return str(self.name) + \"  \" + str(self.student_id) + \"  \" + str(self.school_name) + \" \" + str(self.address)\n",
    "        "
   ]
  },
  {
   "cell_type": "code",
   "execution_count": 3,
   "id": "71c78845",
   "metadata": {},
   "outputs": [],
   "source": [
    "stu = student(\"sudh\",454,\"iNeuron\",\"sdsdsdsds\")"
   ]
  },
  {
   "cell_type": "code",
   "execution_count": 4,
   "id": "0f6ec594",
   "metadata": {},
   "outputs": [
    {
     "name": "stdout",
     "output_type": "stream",
     "text": [
      "sudh  454  iNeuron sdsdsdsds\n"
     ]
    }
   ],
   "source": [
    "print(stu)"
   ]
  },
  {
   "cell_type": "code",
   "execution_count": 50,
   "id": "2e71afdf",
   "metadata": {},
   "outputs": [],
   "source": [
    "dog1 = student(kudrjavka, 45, \"dog_sch\" , \"ccfccfcfcf\" )"
   ]
  },
  {
   "cell_type": "code",
   "execution_count": 51,
   "id": "7ccd8744",
   "metadata": {},
   "outputs": [
    {
     "name": "stdout",
     "output_type": "stream",
     "text": [
      "Kudrjavka is a Laika born in 1954.  45  dog_sch ccfccfcfcf\n"
     ]
    }
   ],
   "source": [
    "print(dog1)"
   ]
  },
  {
   "cell_type": "code",
   "execution_count": 52,
   "id": "34201a09",
   "metadata": {},
   "outputs": [],
   "source": [
    "dog2 = student(dog3, 45, \"dog_sch\" , \"ccfccfcfcf\" )"
   ]
  },
  {
   "cell_type": "markdown",
   "id": "27849733",
   "metadata": {},
   "source": [
    "## Practice"
   ]
  },
  {
   "cell_type": "code",
   "execution_count": 15,
   "id": "6c772df2",
   "metadata": {},
   "outputs": [],
   "source": [
    "class BonusDistribution:\n",
    "    \n",
    "    def __init__(self,employeeId, employeeRating):\n",
    "        \n",
    "        self.empId = employeeId\n",
    "        self.empRating = employeeRating\n",
    "        self.__bonusforRatingA = \"70%\" #making value private\n",
    "        self.__bonusforRatingB = \"60%\" #making value private\n",
    "        self.__bonusforRatingC = \"50%\" #making value private\n",
    "        self.__bonusforRatingD = \"30%\" #making value private\n",
    "        self.__bonusforRatingForRest = \"No Bonus\" #making value private\n",
    "        \n",
    "    def bonusCalculator(self):\n",
    "        \n",
    "        if self.empRating == 'A':\n",
    "            bonus = self.__bonusforRatingA\n",
    "            msg = \"Bonus for employee is: \" + bonus\n",
    "            return msg\n",
    "        elif self.empRating == 'B':\n",
    "            bonus = self.__bonusforRatingB\n",
    "            msg = \"Bonus for employee is: \" + bonus\n",
    "            return msg\n",
    "        elif self.empRating == 'C':\n",
    "            bonus = self.__bonusforRatingC\n",
    "            msg = \"Bonus for employee is: \" + bonus\n",
    "            return msg\n",
    "        elif self.empRating == 'D':\n",
    "            bonus = self.__bonusforRatingD\n",
    "            msg = \"Bonus for employee is: \" + bonus\n",
    "            return msg\n",
    "        else:\n",
    "            bonus = self.__bonusforRatingForRest\n",
    "            msg = \"Bonus for employee is: \" + bonus\n",
    "            return msg"
   ]
  },
  {
   "cell_type": "code",
   "execution_count": 21,
   "id": "7500c042",
   "metadata": {},
   "outputs": [],
   "source": [
    "emp1 = BonusDistribution(1232,'B')\n",
    "emp2 = BonusDistribution(1111,'A')\n",
    "emp3 = BonusDistribution(1000,'D')\n",
    "emp4 = BonusDistribution(1000,'X')\n",
    "emp5 = BonusDistribution(1232,'B')"
   ]
  },
  {
   "cell_type": "code",
   "execution_count": 17,
   "id": "55d8e232",
   "metadata": {},
   "outputs": [
    {
     "data": {
      "text/plain": [
       "'Bonus for employee is: 60%'"
      ]
     },
     "execution_count": 17,
     "metadata": {},
     "output_type": "execute_result"
    }
   ],
   "source": [
    "emp1.bonusCalculator()"
   ]
  },
  {
   "cell_type": "code",
   "execution_count": 18,
   "id": "e14c9cdf",
   "metadata": {},
   "outputs": [
    {
     "data": {
      "text/plain": [
       "'Bonus for employee is: 70%'"
      ]
     },
     "execution_count": 18,
     "metadata": {},
     "output_type": "execute_result"
    }
   ],
   "source": [
    "emp2.bonusCalculator()"
   ]
  },
  {
   "cell_type": "code",
   "execution_count": 19,
   "id": "b638089b",
   "metadata": {},
   "outputs": [
    {
     "data": {
      "text/plain": [
       "'Bonus for employee is: 30%'"
      ]
     },
     "execution_count": 19,
     "metadata": {},
     "output_type": "execute_result"
    }
   ],
   "source": [
    "emp3.bonusCalculator()"
   ]
  },
  {
   "cell_type": "code",
   "execution_count": 20,
   "id": "93bf1da3",
   "metadata": {},
   "outputs": [
    {
     "data": {
      "text/plain": [
       "'Bonus for employee is: No Bonus'"
      ]
     },
     "execution_count": 20,
     "metadata": {},
     "output_type": "execute_result"
    }
   ],
   "source": [
    "emp4.bonusCalculator()"
   ]
  },
  {
   "cell_type": "code",
   "execution_count": 22,
   "id": "69851318",
   "metadata": {},
   "outputs": [],
   "source": [
    "emp1._BonusDistribution__bonusforRatingB = \"90%\""
   ]
  },
  {
   "cell_type": "code",
   "execution_count": 23,
   "id": "dd410b01",
   "metadata": {},
   "outputs": [
    {
     "data": {
      "text/plain": [
       "'Bonus for employee is: 90%'"
      ]
     },
     "execution_count": 23,
     "metadata": {},
     "output_type": "execute_result"
    }
   ],
   "source": [
    "emp1.bonusCalculator()"
   ]
  },
  {
   "cell_type": "code",
   "execution_count": 24,
   "id": "486fda4b",
   "metadata": {},
   "outputs": [
    {
     "data": {
      "text/plain": [
       "'Bonus for employee is: 60%'"
      ]
     },
     "execution_count": 24,
     "metadata": {},
     "output_type": "execute_result"
    }
   ],
   "source": [
    "emp5.bonusCalculator()"
   ]
  },
  {
   "cell_type": "code",
   "execution_count": 62,
   "id": "d5f07e7f",
   "metadata": {},
   "outputs": [],
   "source": [
    "class BonusDistribution:\n",
    "    \n",
    "    def __init__(self,employeeId, employeeRating):\n",
    "        \n",
    "        self.empId = employeeId\n",
    "        self.empRating = employeeRating\n",
    "        self.__bonusforRatingA = \"70%\" #making value private\n",
    "        self.__bonusforRatingB = \"60%\" #making value private\n",
    "        \n",
    "    def bonusCalculator(self):\n",
    "        \n",
    "        if self.empRating == 'A':\n",
    "            bonus = self.__bonusforRatingA\n",
    "            msg = \"Bonus for employee is: \" + bonus\n",
    "            return msg\n",
    "        else:\n",
    "            bonus = self.__bonusforRatingB\n",
    "            msg = \"Bonus for employee is: \" + bonus\n",
    "            return msg"
   ]
  },
  {
   "cell_type": "code",
   "execution_count": 63,
   "id": "07abd548",
   "metadata": {},
   "outputs": [],
   "source": [
    "emp1 = BonusDistribution(1232,'B')\n",
    "emp2 = BonusDistribution(1111,'A')\n",
    "emp3 = BonusDistribution(1000,'D')"
   ]
  },
  {
   "cell_type": "code",
   "execution_count": 64,
   "id": "9ff53c7b",
   "metadata": {},
   "outputs": [
    {
     "data": {
      "text/plain": [
       "'Bonus for employee is: 60%'"
      ]
     },
     "execution_count": 64,
     "metadata": {},
     "output_type": "execute_result"
    }
   ],
   "source": [
    "emp3.bonusCalculator()"
   ]
  },
  {
   "cell_type": "code",
   "execution_count": 65,
   "id": "e93db2e3",
   "metadata": {},
   "outputs": [
    {
     "data": {
      "text/plain": [
       "'Bonus for employee is: 70%'"
      ]
     },
     "execution_count": 65,
     "metadata": {},
     "output_type": "execute_result"
    }
   ],
   "source": [
    "emp2.bonusCalculator()"
   ]
  },
  {
   "cell_type": "code",
   "execution_count": 66,
   "id": "9e189a2e",
   "metadata": {},
   "outputs": [],
   "source": [
    "emp1 = BonusDistribution(1232,'B')"
   ]
  },
  {
   "cell_type": "code",
   "execution_count": 71,
   "id": "9db5f8af",
   "metadata": {},
   "outputs": [],
   "source": [
    "emp1._BonusDistribution__bonusforRatingB = \"100%\""
   ]
  },
  {
   "cell_type": "code",
   "execution_count": 72,
   "id": "be82d078",
   "metadata": {},
   "outputs": [
    {
     "data": {
      "text/plain": [
       "'Bonus for employee is: 100%'"
      ]
     },
     "execution_count": 72,
     "metadata": {},
     "output_type": "execute_result"
    }
   ],
   "source": [
    "emp1.bonusCalculator()"
   ]
  },
  {
   "cell_type": "code",
   "execution_count": 85,
   "id": "face5073",
   "metadata": {},
   "outputs": [],
   "source": [
    "class BonusDistribution:\n",
    "    \n",
    "    def __init__(self,employeeId, employeeRating):\n",
    "        \n",
    "        self.empId = employeeId\n",
    "        self.empRating = employeeRating\n",
    "        self.__bonusforRatingA = \"70%\" #making value private\n",
    "        self.__bonusforRatingB = \"60%\" #making value private\n",
    "        \n",
    "    def bonusCalculator(self):\n",
    "        \n",
    "        if self.empRating == 'A':\n",
    "            bonus = self.__bonusforRatingA\n",
    "            msg = \"Bonus for employee is: \" + bonus\n",
    "            return msg\n",
    "        else:\n",
    "            bonus = self.__bonusforRatingB\n",
    "            msg = \"Bonus for employee is: \" + bonus\n",
    "            return msg\n",
    "        \n",
    "    def changevariable(self, value):\n",
    "        self.__bonusforRatingB = str(value)+\"%\""
   ]
  },
  {
   "cell_type": "code",
   "execution_count": 86,
   "id": "b5f06cc2",
   "metadata": {},
   "outputs": [],
   "source": [
    "emp2 = BonusDistribution(1111,'D')"
   ]
  },
  {
   "cell_type": "code",
   "execution_count": 87,
   "id": "bf120f87",
   "metadata": {},
   "outputs": [],
   "source": [
    "emp2.changevariable(100)"
   ]
  },
  {
   "cell_type": "code",
   "execution_count": 90,
   "id": "c481b7d2",
   "metadata": {},
   "outputs": [
    {
     "data": {
      "text/plain": [
       "'Bonus for employee is: 100%'"
      ]
     },
     "execution_count": 90,
     "metadata": {},
     "output_type": "execute_result"
    }
   ],
   "source": [
    "emp2.bonusCalculator()"
   ]
  },
  {
   "cell_type": "code",
   "execution_count": 91,
   "id": "e08d62d9",
   "metadata": {},
   "outputs": [],
   "source": [
    "emp1 = BonusDistribution(1232,'D')"
   ]
  },
  {
   "cell_type": "code",
   "execution_count": 92,
   "id": "156d9f47",
   "metadata": {},
   "outputs": [
    {
     "data": {
      "text/plain": [
       "'Bonus for employee is: 60%'"
      ]
     },
     "execution_count": 92,
     "metadata": {},
     "output_type": "execute_result"
    }
   ],
   "source": [
    "emp1.bonusCalculator()"
   ]
  },
  {
   "cell_type": "code",
   "execution_count": 109,
   "id": "6a2ab899",
   "metadata": {},
   "outputs": [],
   "source": [
    "class multiplynumeric():\n",
    "    def __init__(self,a):\n",
    "        self.a = a\n",
    "        "
   ]
  },
  {
   "cell_type": "code",
   "execution_count": 110,
   "id": "98cce97e",
   "metadata": {},
   "outputs": [],
   "source": [
    "mul = multiplynumeric(9)"
   ]
  },
  {
   "cell_type": "code",
   "execution_count": 111,
   "id": "c3bdf109",
   "metadata": {},
   "outputs": [],
   "source": [
    "mul1 = multiplynumeric(2)"
   ]
  },
  {
   "cell_type": "code",
   "execution_count": 112,
   "id": "dee797c4",
   "metadata": {},
   "outputs": [
    {
     "ename": "TypeError",
     "evalue": "unsupported operand type(s) for *: 'multiplynumeric' and 'multiplynumeric'",
     "output_type": "error",
     "traceback": [
      "\u001b[1;31m---------------------------------------------------------------------------\u001b[0m",
      "\u001b[1;31mTypeError\u001b[0m                                 Traceback (most recent call last)",
      "\u001b[1;32m<ipython-input-112-5c2d38e00671>\u001b[0m in \u001b[0;36m<module>\u001b[1;34m\u001b[0m\n\u001b[1;32m----> 1\u001b[1;33m \u001b[0mmul\u001b[0m \u001b[1;33m*\u001b[0m \u001b[0mmul1\u001b[0m\u001b[1;33m\u001b[0m\u001b[1;33m\u001b[0m\u001b[0m\n\u001b[0m",
      "\u001b[1;31mTypeError\u001b[0m: unsupported operand type(s) for *: 'multiplynumeric' and 'multiplynumeric'"
     ]
    }
   ],
   "source": [
    "mul * mul1"
   ]
  },
  {
   "cell_type": "code",
   "execution_count": 113,
   "id": "421429a3",
   "metadata": {},
   "outputs": [
    {
     "data": {
      "text/plain": [
       "__main__.multiplynumeric"
      ]
     },
     "execution_count": 113,
     "metadata": {},
     "output_type": "execute_result"
    }
   ],
   "source": [
    "type(mul)"
   ]
  },
  {
   "cell_type": "code",
   "execution_count": 114,
   "id": "b954eb93",
   "metadata": {},
   "outputs": [
    {
     "data": {
      "text/plain": [
       "__main__.multiplynumeric"
      ]
     },
     "execution_count": 114,
     "metadata": {},
     "output_type": "execute_result"
    }
   ],
   "source": [
    "type(mul1)"
   ]
  },
  {
   "cell_type": "code",
   "execution_count": 115,
   "id": "87379fc5",
   "metadata": {},
   "outputs": [
    {
     "data": {
      "text/plain": [
       "18"
      ]
     },
     "execution_count": 115,
     "metadata": {},
     "output_type": "execute_result"
    }
   ],
   "source": [
    "mul.a * mul1.a"
   ]
  },
  {
   "cell_type": "code",
   "execution_count": 116,
   "id": "966dcba6",
   "metadata": {},
   "outputs": [
    {
     "data": {
      "text/plain": [
       "int"
      ]
     },
     "execution_count": 116,
     "metadata": {},
     "output_type": "execute_result"
    }
   ],
   "source": [
    "type(mul.a)"
   ]
  },
  {
   "cell_type": "code",
   "execution_count": 102,
   "id": "fac01da3",
   "metadata": {},
   "outputs": [
    {
     "data": {
      "text/plain": [
       "int"
      ]
     },
     "execution_count": 102,
     "metadata": {},
     "output_type": "execute_result"
    }
   ],
   "source": [
    "type(mul1.a)"
   ]
  },
  {
   "cell_type": "markdown",
   "id": "f212d278",
   "metadata": {},
   "source": [
    "## Operator Overloading\n",
    "\n",
    "Operator Overloading means giving extended meaning beyond their predefined operational meaning. For example operator + is used to add two integers as well as join two strings and merge two lists. It is achievable because ‘+’ operator is overloaded by int class and str class. You might have noticed that the same built-in operator or function shows different behavior for objects of different classes, this is called Operator Overloading. "
   ]
  },
  {
   "cell_type": "code",
   "execution_count": 3,
   "id": "d9b50473",
   "metadata": {},
   "outputs": [
    {
     "name": "stdout",
     "output_type": "stream",
     "text": [
      "3\n",
      "GeeksFor\n",
      "12\n",
      "GeeksGeeksGeeksGeeks\n"
     ]
    }
   ],
   "source": [
    "# Python program to show use of\n",
    "# + operator for different purposes.\n",
    " \n",
    "print(1 + 2)\n",
    " \n",
    "# concatenate two strings\n",
    "print(\"Geeks\"+\"For\")\n",
    " \n",
    "# Product two numbers\n",
    "print(3 * 4)\n",
    " \n",
    "# Repeat the String\n",
    "print(\"Geeks\"*4)"
   ]
  },
  {
   "cell_type": "markdown",
   "id": "a66eab9a",
   "metadata": {},
   "source": [
    "## How to Overload the Operators in Python?\n",
    "\n",
    "Consider that we have two objects which are a physical representation of a class (user-defined data type) and we have to add two objects with binary ‘+’ operator it throws an error, because compiler don’t know how to add two objects. So we define a method for an operator and that process is called operator overloading. \n",
    "\n",
    "We can overload all existing operators but we can’t create a new operator. To perform operator overloading, Python provides some special function or magic function that is automatically invoked when it is associated with that particular operator. For example, when we use + operator, the magic method __add__ is automatically invoked in which the operation for + operator is defined.\n",
    "\n",
    "## Overloading Binary + Operator in Python\n",
    "\n",
    "When we use an operator on user defined data types then automatically a special function or magic function associated with that operator is invoked. Changing the behavior of operator is as simple as changing the behavior of method or function. \n",
    "\n",
    "You define methods in your class and operators work according to that behavior defined in methods. When we use + operator, the magic method __add__ is automatically invoked in which the operation for + operator is defined. There by changing this magic method’s code, we can give extra meaning to the + operator. \n",
    "\n",
    "**Code 1 :**"
   ]
  },
  {
   "cell_type": "code",
   "execution_count": 4,
   "id": "64c3f422",
   "metadata": {},
   "outputs": [
    {
     "name": "stdout",
     "output_type": "stream",
     "text": [
      "3\n",
      "GeeksFor\n"
     ]
    }
   ],
   "source": [
    "# Python Program illustrate how\n",
    "# to overload an binary + operator\n",
    " \n",
    "class A:\n",
    "    def __init__(self, a):\n",
    "        self.a = a\n",
    " \n",
    "    # adding two objects\n",
    "    def __add__(self, o):\n",
    "        return self.a + o.a\n",
    "ob1 = A(1)\n",
    "ob2 = A(2)\n",
    "ob3 = A(\"Geeks\")\n",
    "ob4 = A(\"For\")\n",
    " \n",
    "print(ob1 + ob2)\n",
    "print(ob3 + ob4)"
   ]
  },
  {
   "cell_type": "markdown",
   "id": "f4d0cb49",
   "metadata": {},
   "source": [
    "**Code 2 :**"
   ]
  },
  {
   "cell_type": "code",
   "execution_count": 9,
   "id": "04e8387b",
   "metadata": {},
   "outputs": [
    {
     "name": "stdout",
     "output_type": "stream",
     "text": [
      "(3, 5)\n"
     ]
    }
   ],
   "source": [
    "# Python Program to perform addition\n",
    "# of two complex numbers using binary\n",
    "# + operator overloading.\n",
    " \n",
    "class complex:\n",
    "    def __init__(self, a, b):\n",
    "        self.a = a\n",
    "        self.b = b\n",
    " \n",
    "     # adding two objects\n",
    "    def __add__(self, other):\n",
    "        return self.a + other.a, self.b + other.b\n",
    " \n",
    "ob1 = complex(1, 2)\n",
    "ob2 = complex(2, 3)\n",
    "ob3 = ob1 + ob2\n",
    "print(ob3)"
   ]
  },
  {
   "cell_type": "markdown",
   "id": "aa3280b9",
   "metadata": {},
   "source": [
    "**Overloading Comparison Operators in Python :**"
   ]
  },
  {
   "cell_type": "code",
   "execution_count": 6,
   "id": "54cf8132",
   "metadata": {},
   "outputs": [
    {
     "name": "stdout",
     "output_type": "stream",
     "text": [
      "ob2 is greater than ob1\n"
     ]
    }
   ],
   "source": [
    "# Python program to overload\n",
    "# a comparison operators\n",
    " \n",
    "class A:\n",
    "    def __init__(self, a):\n",
    "        self.a = a\n",
    "    def __gt__(self, other):\n",
    "        if(self.a>other.a):\n",
    "            return True\n",
    "        else:\n",
    "            return False\n",
    "ob1 = A(2)\n",
    "ob2 = A(3)\n",
    "if(ob1>ob2):\n",
    "    print(\"ob1 is greater than ob2\")\n",
    "else:\n",
    "    print(\"ob2 is greater than ob1\")"
   ]
  },
  {
   "cell_type": "markdown",
   "id": "933d5819",
   "metadata": {},
   "source": [
    "**Overloading Equality and Less than Operators :**"
   ]
  },
  {
   "cell_type": "code",
   "execution_count": 7,
   "id": "e49f3c46",
   "metadata": {},
   "outputs": [
    {
     "name": "stdout",
     "output_type": "stream",
     "text": [
      "ob1 is lessthan ob2\n",
      "Not equal\n"
     ]
    }
   ],
   "source": [
    "# Python program to overload equality\n",
    "# and less than operators\n",
    " \n",
    "class A:\n",
    "    def __init__(self, a):\n",
    "        self.a = a\n",
    "    def __lt__(self, other):\n",
    "        if(self.a<other.a):\n",
    "            return \"ob1 is lessthan ob2\"\n",
    "        else:\n",
    "            return \"ob2 is less than ob1\"\n",
    "    def __eq__(self, other):\n",
    "        if(self.a == other.a):\n",
    "            return \"Both are equal\"\n",
    "        else:\n",
    "            return \"Not equal\"\n",
    "                 \n",
    "ob1 = A(2)\n",
    "ob2 = A(3)\n",
    "print(ob1 < ob2)\n",
    " \n",
    "ob3 = A(4)\n",
    "ob4 = A(4)\n",
    "print(ob1 == ob2)"
   ]
  },
  {
   "cell_type": "markdown",
   "id": "91a8ed20",
   "metadata": {},
   "source": [
    "**Note :** It is not possible to change the number of operands of an operator. For ex. you cannot overload a unary operator as a binary operator. The following code will throw a syntax error."
   ]
  },
  {
   "cell_type": "code",
   "execution_count": 8,
   "id": "91258e9e",
   "metadata": {},
   "outputs": [
    {
     "ename": "SyntaxError",
     "evalue": "invalid syntax (Temp/ipykernel_17424/2478111846.py, line 16)",
     "output_type": "error",
     "traceback": [
      "\u001b[1;36m  File \u001b[1;32m\"C:\\Users\\SIDDHA~1\\AppData\\Local\\Temp/ipykernel_17424/2478111846.py\"\u001b[1;36m, line \u001b[1;32m16\u001b[0m\n\u001b[1;33m    print(ob1~ob2)\u001b[0m\n\u001b[1;37m             ^\u001b[0m\n\u001b[1;31mSyntaxError\u001b[0m\u001b[1;31m:\u001b[0m invalid syntax\n"
     ]
    }
   ],
   "source": [
    "# Python program which attempts to\n",
    "# overload ~ operator as binary operator\n",
    " \n",
    "class A:\n",
    "    def __init__(self, a):\n",
    "        self.a = a\n",
    " \n",
    "    # Overloading ~ operator, but with two operands\n",
    "    def __invert__(self, other):\n",
    "        return \"This is the ~ operator, overloaded as binary operator.\"\n",
    " \n",
    " \n",
    "ob1 = A(2)\n",
    "ob2 = A(3)\n",
    " \n",
    "print(ob1~ob2)"
   ]
  },
  {
   "cell_type": "markdown",
   "id": "52882f3f",
   "metadata": {},
   "source": [
    "## Practice"
   ]
  },
  {
   "cell_type": "code",
   "execution_count": 130,
   "id": "80086221",
   "metadata": {},
   "outputs": [],
   "source": [
    "class multiplynumeric():\n",
    "    def __init__(self,a):\n",
    "        self.a = a\n",
    "        \n",
    "    def __mul__(self,other):\n",
    "        return self.a + other.a"
   ]
  },
  {
   "cell_type": "code",
   "execution_count": 131,
   "id": "5b888558",
   "metadata": {},
   "outputs": [],
   "source": [
    "mul5 = multiplynumeric(10)\n",
    "mul6 = multiplynumeric(9)"
   ]
  },
  {
   "cell_type": "code",
   "execution_count": 132,
   "id": "c362f31e",
   "metadata": {},
   "outputs": [
    {
     "data": {
      "text/plain": [
       "19"
      ]
     },
     "execution_count": 132,
     "metadata": {},
     "output_type": "execute_result"
    }
   ],
   "source": [
    "mul5 * mul6"
   ]
  },
  {
   "cell_type": "code",
   "execution_count": 133,
   "id": "d8cd158b",
   "metadata": {},
   "outputs": [],
   "source": [
    "mu5 = multiplynumeric(10)\n",
    "mu6 = multiplynumeric(9)"
   ]
  },
  {
   "cell_type": "code",
   "execution_count": 136,
   "id": "0999e9db",
   "metadata": {},
   "outputs": [],
   "source": [
    "class multiplynumeric():\n",
    "    def __init__(self,a):\n",
    "        self.a = a\n",
    "        \n",
    "    def __add__(self,other):\n",
    "        return self.a * other.a"
   ]
  },
  {
   "cell_type": "code",
   "execution_count": 137,
   "id": "c2b513fa",
   "metadata": {},
   "outputs": [],
   "source": [
    "mul5 = multiplynumeric(10)\n",
    "mul6 = multiplynumeric(9)"
   ]
  },
  {
   "cell_type": "code",
   "execution_count": 138,
   "id": "0b527301",
   "metadata": {},
   "outputs": [
    {
     "name": "stdout",
     "output_type": "stream",
     "text": [
      "90\n"
     ]
    }
   ],
   "source": [
    "print(mul5 + mul6)"
   ]
  }
 ],
 "metadata": {
  "kernelspec": {
   "display_name": "Python 3 (ipykernel)",
   "language": "python",
   "name": "python3"
  },
  "language_info": {
   "codemirror_mode": {
    "name": "ipython",
    "version": 3
   },
   "file_extension": ".py",
   "mimetype": "text/x-python",
   "name": "python",
   "nbconvert_exporter": "python",
   "pygments_lexer": "ipython3",
   "version": "3.9.7"
  }
 },
 "nbformat": 4,
 "nbformat_minor": 5
}
