{
 "cells": [
  {
   "cell_type": "markdown",
   "id": "af942451",
   "metadata": {},
   "source": [
    "## Python Classes and Objects\n",
    "\n",
    "Python is an object-oriented programming language. Unlike procedure-oriented programming, where the main emphasis is on functions, object-oriented programming stresses on objects.\n",
    "\n",
    "**An object is simply a collection of data (variables) and methods (functions) that act on those data. Similarly, a class is a blueprint for that object.**\n",
    "\n",
    "We can think of a class as a sketch (prototype) of a house. It contains all the details about the floors, doors, windows, etc. Based on these descriptions we build the house. House is the object.\n",
    "\n",
    "As many houses can be made from a house's blueprint, we can create many objects from a class. An object is also called an instance of a class and the process of creating this object is called instantiation.\n",
    "\n",
    "## Defining a Class in Python\n",
    "\n",
    "Like function definitions begin with the def keyword in Python, class definitions begin with a class keyword.\n",
    "\n",
    "The first string inside the class is called docstring and has a brief description of the class. Although not mandatory, this is highly recommended.\n",
    "\n",
    "Here is a simple class definition."
   ]
  },
  {
   "cell_type": "code",
   "execution_count": null,
   "id": "08db7712",
   "metadata": {},
   "outputs": [],
   "source": [
    "class MyNewClass:\n",
    "    '''This is a docstring. I have created a new class'''\n",
    "    pass"
   ]
  },
  {
   "cell_type": "markdown",
   "id": "b05e6157",
   "metadata": {},
   "source": [
    "A class creates a new local namespace where all its attributes are defined. Attributes may be data or functions.\n",
    "\n",
    "There are also special attributes in it that begins with double underscores __. For example, __doc__ gives us the docstring of that class.\n",
    "\n",
    "As soon as we define a class, a new class object is created with the same name. This class object allows us to access the different attributes as well as to instantiate new objects of that class."
   ]
  },
  {
   "cell_type": "code",
   "execution_count": 1,
   "id": "50fbc8a6",
   "metadata": {},
   "outputs": [
    {
     "name": "stdout",
     "output_type": "stream",
     "text": [
      "10\n",
      "<function Person.greet at 0x000002CDBBDD61F0>\n",
      "This is a person class\n"
     ]
    }
   ],
   "source": [
    "class Person:\n",
    "    \"This is a person class\"\n",
    "    age = 10\n",
    "\n",
    "    def greet(self):\n",
    "        print('Hello')\n",
    "\n",
    "\n",
    "# Output: 10\n",
    "print(Person.age)\n",
    "\n",
    "# Output: <function Person.greet>\n",
    "print(Person.greet)\n",
    "\n",
    "# Output: \"This is a person class\"\n",
    "print(Person.__doc__)"
   ]
  },
  {
   "cell_type": "markdown",
   "id": "5a5eba1f",
   "metadata": {},
   "source": [
    "## Creating an Object in Python\n",
    "\n",
    "We saw that the class object could be used to access different attributes.\n",
    "\n",
    "It can also be used to create new object instances (instantiation) of that class. The procedure to create an object is similar to a function call.\n",
    "\n",
    "harry = Person()\n",
    "\n",
    "This will create a new object instance named harry. We can access the attributes of objects using the object name prefix.\n",
    "\n",
    "Attributes may be data or method. Methods of an object are corresponding functions of that class.\n",
    "\n",
    "This means to say, since Person.greet is a function object (attribute of class), Person.greet will be a method object."
   ]
  },
  {
   "cell_type": "code",
   "execution_count": 2,
   "id": "692c355e",
   "metadata": {},
   "outputs": [
    {
     "name": "stdout",
     "output_type": "stream",
     "text": [
      "<function Person.greet at 0x000002CDBBDD6310>\n",
      "<bound method Person.greet of <__main__.Person object at 0x000002CDBBDA8AC0>>\n",
      "Hello\n"
     ]
    }
   ],
   "source": [
    "class Person:\n",
    "    \"This is a person class\"\n",
    "    age = 10\n",
    "\n",
    "    def greet(self):\n",
    "        print('Hello')\n",
    "\n",
    "\n",
    "# create a new object of Person class\n",
    "harry = Person()\n",
    "\n",
    "# Output: <function Person.greet>\n",
    "print(Person.greet)\n",
    "\n",
    "# Output: <bound method Person.greet of <__main__.Person object>>\n",
    "print(harry.greet)\n",
    "\n",
    "# Calling object's greet() method\n",
    "# Output: Hello\n",
    "harry.greet()"
   ]
  },
  {
   "cell_type": "markdown",
   "id": "53a7c20d",
   "metadata": {},
   "source": [
    "You may have noticed the self parameter in function definition inside the class but we called the method simply as harry.greet() without any arguments. It still worked.\n",
    "\n",
    "This is because, whenever an object calls its method, the object itself is passed as the first argument. So, harry.greet() translates into Person.greet(harry).\n",
    "\n",
    "In general, calling a method with a list of n arguments is equivalent to calling the corresponding function with an argument list that is created by inserting the method's object before the first argument.\n",
    "\n",
    "For these reasons, the first argument of the function in class must be the object itself. This is conventionally called self. It can be named otherwise but we highly recommend to follow the convention.\n",
    "\n",
    "Now you must be familiar with class object, instance object, function object, method object and their differences."
   ]
  },
  {
   "cell_type": "markdown",
   "id": "49a66364",
   "metadata": {},
   "source": [
    "## Constructors in Python\n",
    "\n",
    "Class functions that begin with double underscore __ are called special functions as they have special meaning.\n",
    "\n",
    "Of one particular interest is the __init__() function. This special function gets called whenever a new object of that class is instantiated.\n",
    "\n",
    "This type of function is also called constructors in Object Oriented Programming (OOP). We normally use it to initialize all the variables."
   ]
  },
  {
   "cell_type": "code",
   "execution_count": 3,
   "id": "8dbecff7",
   "metadata": {},
   "outputs": [
    {
     "name": "stdout",
     "output_type": "stream",
     "text": [
      "2+3j\n",
      "(5, 0, 10)\n"
     ]
    },
    {
     "ename": "AttributeError",
     "evalue": "'ComplexNumber' object has no attribute 'attr'",
     "output_type": "error",
     "traceback": [
      "\u001b[1;31m---------------------------------------------------------------------------\u001b[0m",
      "\u001b[1;31mAttributeError\u001b[0m                            Traceback (most recent call last)",
      "\u001b[1;32m<ipython-input-3-afa66228e4bc>\u001b[0m in \u001b[0;36m<module>\u001b[1;34m\u001b[0m\n\u001b[0;32m     25\u001b[0m \u001b[1;31m# but c1 object doesn't have attribute 'attr'\u001b[0m\u001b[1;33m\u001b[0m\u001b[1;33m\u001b[0m\u001b[1;33m\u001b[0m\u001b[0m\n\u001b[0;32m     26\u001b[0m \u001b[1;31m# AttributeError: 'ComplexNumber' object has no attribute 'attr'\u001b[0m\u001b[1;33m\u001b[0m\u001b[1;33m\u001b[0m\u001b[1;33m\u001b[0m\u001b[0m\n\u001b[1;32m---> 27\u001b[1;33m \u001b[0mprint\u001b[0m\u001b[1;33m(\u001b[0m\u001b[0mnum1\u001b[0m\u001b[1;33m.\u001b[0m\u001b[0mattr\u001b[0m\u001b[1;33m)\u001b[0m\u001b[1;33m\u001b[0m\u001b[1;33m\u001b[0m\u001b[0m\n\u001b[0m",
      "\u001b[1;31mAttributeError\u001b[0m: 'ComplexNumber' object has no attribute 'attr'"
     ]
    }
   ],
   "source": [
    "class ComplexNumber:\n",
    "    def __init__(self, r=0, i=0):\n",
    "        self.real = r\n",
    "        self.imag = i\n",
    "\n",
    "    def get_data(self):\n",
    "        print(f'{self.real}+{self.imag}j')\n",
    "\n",
    "\n",
    "# Create a new ComplexNumber object\n",
    "num1 = ComplexNumber(2, 3)\n",
    "\n",
    "# Call get_data() method\n",
    "# Output: 2+3j\n",
    "num1.get_data()\n",
    "\n",
    "# Create another ComplexNumber object\n",
    "# and create a new attribute 'attr'\n",
    "num2 = ComplexNumber(5)\n",
    "num2.attr = 10\n",
    "\n",
    "# Output: (5, 0, 10)\n",
    "print((num2.real, num2.imag, num2.attr))\n",
    "\n",
    "# but c1 object doesn't have attribute 'attr'\n",
    "# AttributeError: 'ComplexNumber' object has no attribute 'attr'\n",
    "print(num1.attr)"
   ]
  },
  {
   "attachments": {
    "image-2.png": {
     "image/png": "[encoded data removed]"
    },
    "image.png": {
     "image/png": "[encoded data removed]"
    }
   },
   "cell_type": "markdown",
   "id": "ff63919d",
   "metadata": {},
   "source": [
    "In the above example, we defined a new class to represent complex numbers. It has two functions, __init__() to initialize the variables (defaults to zero) and get_data() to display the number properly.\n",
    "\n",
    "An interesting thing to note in the above step is that attributes of an object can be created on the fly. We created a new attribute attr for object num2 and read it as well. But this does not create that attribute for object num1.\n",
    "\n",
    "## Deleting Attributes and Objects\n",
    "\n",
    "Any attribute of an object can be deleted anytime, using the del statement. Try the following on the Python shell to see the output.\n",
    "\n",
    "![image.png](attachment:image.png)\n",
    "\n",
    "Actually, it is more complicated than that. When we do c1 = ComplexNumber(1,3), a new instance object is created in memory and the name c1 binds with it.\n",
    "\n",
    "On the command del c1, this binding is removed and the name c1 is deleted from the corresponding namespace. The object however continues to exist in memory and if no other name is bound to it, it is later automatically destroyed.\n",
    "\n",
    "This automatic destruction of unreferenced objects in Python is also called garbage collection.\n",
    "\n",
    "![image-2.png](attachment:image-2.png)"
   ]
  },
  {
   "cell_type": "markdown",
   "id": "9fbecddd",
   "metadata": {
    "id": "78rhOF5WLg5e"
   },
   "source": [
    "## Practice\n",
    "\n",
    "- Classes and objects are frequently used in bigger systems or production level code.\n",
    "- Class is a classification of a real world object.\n",
    "- For example car and animal are classes.\n",
    "- Object is a variable of the class.\n",
    "- Audi Q7 is a variable of Car Class.\n",
    "- Ciaz is a variable of Car Class."
   ]
  },
  {
   "cell_type": "code",
   "execution_count": 26,
   "id": "8911d504",
   "metadata": {
    "colab": {
     "base_uri": "https://localhost:8080/",
     "height": 129
    },
    "executionInfo": {
     "elapsed": 621,
     "status": "error",
     "timestamp": 1627797259491,
     "user": {
      "displayName": "Siddharth Swain",
      "photoUrl": "",
      "userId": "12055456511825659152"
     },
     "user_tz": -330
    },
    "id": "mestQMfsEwY4",
    "outputId": "8192e041-8918-4be1-f7f6-ccbfee48387c"
   },
   "outputs": [
    {
     "ename": "SyntaxError",
     "evalue": "ignored",
     "output_type": "error",
     "traceback": [
      "\u001b[0;36m  File \u001b[0;32m\"<ipython-input-26-553f2c3da58e>\"\u001b[0;36m, line \u001b[0;32m1\u001b[0m\n\u001b[0;31m    class car1:\u001b[0m\n\u001b[0m               ^\u001b[0m\n\u001b[0;31mSyntaxError\u001b[0m\u001b[0;31m:\u001b[0m unexpected EOF while parsing\n"
     ]
    }
   ],
   "source": [
    "class car1:\n"
   ]
  },
  {
   "cell_type": "code",
   "execution_count": 27,
   "id": "54730447",
   "metadata": {
    "executionInfo": {
     "elapsed": 3,
     "status": "ok",
     "timestamp": 1627797259894,
     "user": {
      "displayName": "Siddharth Swain",
      "photoUrl": "",
      "userId": "12055456511825659152"
     },
     "user_tz": -330
    },
    "id": "Z-i7RFaFO9i4"
   },
   "outputs": [],
   "source": [
    "class car1:\n",
    "  pass"
   ]
  },
  {
   "cell_type": "code",
   "execution_count": 28,
   "id": "8c1e4d79",
   "metadata": {
    "executionInfo": {
     "elapsed": 2,
     "status": "ok",
     "timestamp": 1627797261099,
     "user": {
      "displayName": "Siddharth Swain",
      "photoUrl": "",
      "userId": "12055456511825659152"
     },
     "user_tz": -330
    },
    "id": "CSNVyCLKPC3v"
   },
   "outputs": [],
   "source": [
    "ciaz = car1()"
   ]
  },
  {
   "cell_type": "code",
   "execution_count": 29,
   "id": "c1f61d06",
   "metadata": {
    "colab": {
     "base_uri": "https://localhost:8080/"
    },
    "executionInfo": {
     "elapsed": 3,
     "status": "ok",
     "timestamp": 1627797261583,
     "user": {
      "displayName": "Siddharth Swain",
      "photoUrl": "",
      "userId": "12055456511825659152"
     },
     "user_tz": -330
    },
    "id": "8hNluLJpPUvt",
    "outputId": "acb1bb62-0527-4e34-bfaf-e6ed0d5ef30a"
   },
   "outputs": [
    {
     "data": {
      "text/plain": [
       "<__main__.car1 at 0x7f58a75ba6d0>"
      ]
     },
     "execution_count": 29,
     "metadata": {
      "tags": []
     },
     "output_type": "execute_result"
    }
   ],
   "source": [
    "# Ciaz is a variable of Car Class.\n",
    "\n",
    "ciaz"
   ]
  },
  {
   "cell_type": "code",
   "execution_count": 30,
   "id": "a7f8e398",
   "metadata": {
    "executionInfo": {
     "elapsed": 2,
     "status": "ok",
     "timestamp": 1627797262112,
     "user": {
      "displayName": "Siddharth Swain",
      "photoUrl": "",
      "userId": "12055456511825659152"
     },
     "user_tz": -330
    },
    "id": "InAIAAXuPVG1"
   },
   "outputs": [],
   "source": [
    "ciaz.mileage = 20\n",
    "ciaz. year = 2019\n",
    "ciaz.model = \"Aplha Petrol\"\n",
    "ciaz.make = \"India\""
   ]
  },
  {
   "cell_type": "code",
   "execution_count": 31,
   "id": "db15c092",
   "metadata": {
    "colab": {
     "base_uri": "https://localhost:8080/",
     "height": 163
    },
    "executionInfo": {
     "elapsed": 5,
     "status": "error",
     "timestamp": 1627797262672,
     "user": {
      "displayName": "Siddharth Swain",
      "photoUrl": "",
      "userId": "12055456511825659152"
     },
     "user_tz": -330
    },
    "id": "TMQStylPP71d",
    "outputId": "98f5a3d2-da52-4c28-8f20-f46bba72b4ec"
   },
   "outputs": [
    {
     "ename": "NameError",
     "evalue": "ignored",
     "output_type": "error",
     "traceback": [
      "\u001b[0;31m---------------------------------------------------------------------------\u001b[0m",
      "\u001b[0;31mNameError\u001b[0m                                 Traceback (most recent call last)",
      "\u001b[0;32m<ipython-input-31-1f8a688cae5d>\u001b[0m in \u001b[0;36m<module>\u001b[0;34m()\u001b[0m\n\u001b[0;32m----> 1\u001b[0;31m \u001b[0mmodel\u001b[0m\u001b[0;34m\u001b[0m\u001b[0;34m\u001b[0m\u001b[0m\n\u001b[0m",
      "\u001b[0;31mNameError\u001b[0m: name 'model' is not defined"
     ]
    }
   ],
   "source": [
    "model"
   ]
  },
  {
   "cell_type": "code",
   "execution_count": 32,
   "id": "a4ac0321",
   "metadata": {
    "colab": {
     "base_uri": "https://localhost:8080/",
     "height": 35
    },
    "executionInfo": {
     "elapsed": 5,
     "status": "ok",
     "timestamp": 1627797264249,
     "user": {
      "displayName": "Siddharth Swain",
      "photoUrl": "",
      "userId": "12055456511825659152"
     },
     "user_tz": -330
    },
    "id": "X-QOjVSDPmhW",
    "outputId": "70b19d1d-804a-4c95-fb4e-938d447d9a2e"
   },
   "outputs": [
    {
     "data": {
      "application/vnd.google.colaboratory.intrinsic+json": {
       "type": "string"
      },
      "text/plain": [
       "'Aplha Petrol'"
      ]
     },
     "execution_count": 32,
     "metadata": {
      "tags": []
     },
     "output_type": "execute_result"
    }
   ],
   "source": [
    "ciaz.model"
   ]
  },
  {
   "cell_type": "code",
   "execution_count": 33,
   "id": "9088ca8e",
   "metadata": {
    "executionInfo": {
     "elapsed": 365,
     "status": "ok",
     "timestamp": 1627797266479,
     "user": {
      "displayName": "Siddharth Swain",
      "photoUrl": "",
      "userId": "12055456511825659152"
     },
     "user_tz": -330
    },
    "id": "X6ZaF2XFP-x9"
   },
   "outputs": [],
   "source": [
    "nano = car1()\n",
    "nano.mileage = 12\n",
    "nano.year = 2016\n",
    "nano.model = \"Petrol Base\"\n",
    "nano.make = \"India\"\n",
    "nano.engineno = 24564763478883484"
   ]
  },
  {
   "cell_type": "code",
   "execution_count": 34,
   "id": "056c5db7",
   "metadata": {
    "colab": {
     "base_uri": "https://localhost:8080/"
    },
    "executionInfo": {
     "elapsed": 506,
     "status": "ok",
     "timestamp": 1627797268939,
     "user": {
      "displayName": "Siddharth Swain",
      "photoUrl": "",
      "userId": "12055456511825659152"
     },
     "user_tz": -330
    },
    "id": "86EMw9AKQRHW",
    "outputId": "25c179ac-3c90-45c9-de85-84da074b669e"
   },
   "outputs": [
    {
     "data": {
      "text/plain": [
       "24564763478883484"
      ]
     },
     "execution_count": 34,
     "metadata": {
      "tags": []
     },
     "output_type": "execute_result"
    }
   ],
   "source": [
    "nano.engineno"
   ]
  },
  {
   "cell_type": "code",
   "execution_count": 35,
   "id": "9532a1a5",
   "metadata": {
    "colab": {
     "base_uri": "https://localhost:8080/"
    },
    "executionInfo": {
     "elapsed": 6,
     "status": "ok",
     "timestamp": 1627797270485,
     "user": {
      "displayName": "Siddharth Swain",
      "photoUrl": "",
      "userId": "12055456511825659152"
     },
     "user_tz": -330
    },
    "id": "VzHOwiB_QZmG",
    "outputId": "bb295233-4e66-405e-afcf-55dddbb82057"
   },
   "outputs": [
    {
     "data": {
      "text/plain": [
       "2019"
      ]
     },
     "execution_count": 35,
     "metadata": {
      "tags": []
     },
     "output_type": "execute_result"
    }
   ],
   "source": [
    "ciaz.year"
   ]
  },
  {
   "cell_type": "code",
   "execution_count": 36,
   "id": "c2a448a1",
   "metadata": {
    "colab": {
     "base_uri": "https://localhost:8080/"
    },
    "executionInfo": {
     "elapsed": 3,
     "status": "ok",
     "timestamp": 1627797271932,
     "user": {
      "displayName": "Siddharth Swain",
      "photoUrl": "",
      "userId": "12055456511825659152"
     },
     "user_tz": -330
    },
    "id": "VGhAP3fPQdWt",
    "outputId": "86d963f3-52f5-4b35-ceab-cec8c1cf49c5"
   },
   "outputs": [
    {
     "data": {
      "text/plain": [
       "2016"
      ]
     },
     "execution_count": 36,
     "metadata": {
      "tags": []
     },
     "output_type": "execute_result"
    }
   ],
   "source": [
    "nano.year"
   ]
  },
  {
   "cell_type": "code",
   "execution_count": 3,
   "id": "b1c3d761",
   "metadata": {
    "executionInfo": {
     "elapsed": 363,
     "status": "ok",
     "timestamp": 1627797532780,
     "user": {
      "displayName": "Siddharth Swain",
      "photoUrl": "",
      "userId": "12055456511825659152"
     },
     "user_tz": -330
    },
    "id": "NYaNBqShQeHk"
   },
   "outputs": [],
   "source": [
    "# Write the class once and utilize many times.\n",
    "\n",
    "# init is an inbuilt function used for the initialization of data.\n",
    "\n",
    "class car2:\n",
    "  def __init__(self , mileage, year, make, model):\n",
    "    self.mileage = mileage\n",
    "    self.year = year\n",
    "    self.make = make\n",
    "    self.model = model"
   ]
  },
  {
   "cell_type": "code",
   "execution_count": 10,
   "id": "d4dc623e",
   "metadata": {
    "executionInfo": {
     "elapsed": 606,
     "status": "ok",
     "timestamp": 1627805548145,
     "user": {
      "displayName": "Siddharth Swain",
      "photoUrl": "",
      "userId": "12055456511825659152"
     },
     "user_tz": -330
    },
    "id": "tCWr8ydRReEu"
   },
   "outputs": [],
   "source": [
    "nano = car2(20,2020,232323,\"24242\")\n",
    "nano1 = car2(20,2020,232323,\"24242\")\n",
    "nano2 = car2(20,2020,232323,\"24242\")\n",
    "nano3 = car2(20,2020,232323,\"24242\")"
   ]
  },
  {
   "cell_type": "code",
   "execution_count": 5,
   "id": "a210492b",
   "metadata": {
    "colab": {
     "base_uri": "https://localhost:8080/"
    },
    "executionInfo": {
     "elapsed": 612,
     "status": "ok",
     "timestamp": 1627797541224,
     "user": {
      "displayName": "Siddharth Swain",
      "photoUrl": "",
      "userId": "12055456511825659152"
     },
     "user_tz": -330
    },
    "id": "Z4geLXxvR5rz",
    "outputId": "b26e4ba4-aba1-43be-cfb7-b3241c791bb2"
   },
   "outputs": [
    {
     "data": {
      "text/plain": [
       "2020"
      ]
     },
     "execution_count": 5,
     "metadata": {
      "tags": []
     },
     "output_type": "execute_result"
    }
   ],
   "source": [
    "nano.year"
   ]
  },
  {
   "cell_type": "code",
   "execution_count": 6,
   "id": "e4b39750",
   "metadata": {
    "colab": {
     "base_uri": "https://localhost:8080/"
    },
    "executionInfo": {
     "elapsed": 360,
     "status": "ok",
     "timestamp": 1627797544739,
     "user": {
      "displayName": "Siddharth Swain",
      "photoUrl": "",
      "userId": "12055456511825659152"
     },
     "user_tz": -330
    },
    "id": "GUsTDIHZS0yd",
    "outputId": "30abac89-5c6e-469e-d8ae-c6ceb6bf783b"
   },
   "outputs": [
    {
     "data": {
      "text/plain": [
       "20"
      ]
     },
     "execution_count": 6,
     "metadata": {
      "tags": []
     },
     "output_type": "execute_result"
    }
   ],
   "source": [
    "nano.mileage"
   ]
  },
  {
   "cell_type": "code",
   "execution_count": 7,
   "id": "cd8c4cb4",
   "metadata": {
    "colab": {
     "base_uri": "https://localhost:8080/"
    },
    "executionInfo": {
     "elapsed": 624,
     "status": "ok",
     "timestamp": 1627797548967,
     "user": {
      "displayName": "Siddharth Swain",
      "photoUrl": "",
      "userId": "12055456511825659152"
     },
     "user_tz": -330
    },
    "id": "8BQjTYz3S1tM",
    "outputId": "e14d2ccf-4ce0-48fd-fd05-e85d0b8974a1"
   },
   "outputs": [
    {
     "data": {
      "text/plain": [
       "232323"
      ]
     },
     "execution_count": 7,
     "metadata": {
      "tags": []
     },
     "output_type": "execute_result"
    }
   ],
   "source": [
    "nano.make"
   ]
  },
  {
   "cell_type": "code",
   "execution_count": 8,
   "id": "180a4633",
   "metadata": {
    "colab": {
     "base_uri": "https://localhost:8080/",
     "height": 35
    },
    "executionInfo": {
     "elapsed": 627,
     "status": "ok",
     "timestamp": 1627797551743,
     "user": {
      "displayName": "Siddharth Swain",
      "photoUrl": "",
      "userId": "12055456511825659152"
     },
     "user_tz": -330
    },
    "id": "Chrxvm5CS2rN",
    "outputId": "ff1e1000-d8e1-40e3-b878-22337a5543c4"
   },
   "outputs": [
    {
     "data": {
      "application/vnd.google.colaboratory.intrinsic+json": {
       "type": "string"
      },
      "text/plain": [
       "'24242'"
      ]
     },
     "execution_count": 8,
     "metadata": {
      "tags": []
     },
     "output_type": "execute_result"
    }
   ],
   "source": [
    "nano.model"
   ]
  },
  {
   "cell_type": "code",
   "execution_count": 11,
   "id": "caaa074a",
   "metadata": {
    "colab": {
     "base_uri": "https://localhost:8080/",
     "height": 35
    },
    "executionInfo": {
     "elapsed": 653,
     "status": "ok",
     "timestamp": 1627805558176,
     "user": {
      "displayName": "Siddharth Swain",
      "photoUrl": "",
      "userId": "12055456511825659152"
     },
     "user_tz": -330
    },
    "id": "EsE-45P7xNjR",
    "outputId": "ba4598ed-214b-4424-d5f6-393507b1e936"
   },
   "outputs": [
    {
     "data": {
      "application/vnd.google.colaboratory.intrinsic+json": {
       "type": "string"
      },
      "text/plain": [
       "'24242'"
      ]
     },
     "execution_count": 11,
     "metadata": {
      "tags": []
     },
     "output_type": "execute_result"
    }
   ],
   "source": [
    "nano3.model"
   ]
  },
  {
   "cell_type": "code",
   "execution_count": 18,
   "id": "a9fe0f43",
   "metadata": {
    "executionInfo": {
     "elapsed": 356,
     "status": "ok",
     "timestamp": 1627805851157,
     "user": {
      "displayName": "Siddharth Swain",
      "photoUrl": "",
      "userId": "12055456511825659152"
     },
     "user_tz": -330
    },
    "id": "mNRsWmOBxaCf"
   },
   "outputs": [],
   "source": [
    "# Here 'a' works as a pointer (or self variable). It is like a convention.\n",
    "\n",
    "class car3:\n",
    "  def __init__(a, mileage, year, make, model):\n",
    "    a.mileage = mileage\n",
    "    a.year = year\n",
    "    a.make = make\n",
    "    a.model = model"
   ]
  },
  {
   "cell_type": "code",
   "execution_count": 15,
   "id": "b5e41b64",
   "metadata": {
    "executionInfo": {
     "elapsed": 3,
     "status": "ok",
     "timestamp": 1627805735844,
     "user": {
      "displayName": "Siddharth Swain",
      "photoUrl": "",
      "userId": "12055456511825659152"
     },
     "user_tz": -330
    },
    "id": "tcLUR2ivxpoI"
   },
   "outputs": [],
   "source": [
    "nano4 = car3(20,2020,232323,\"24242\")"
   ]
  },
  {
   "cell_type": "code",
   "execution_count": 20,
   "id": "c8d5d3e5",
   "metadata": {
    "executionInfo": {
     "elapsed": 375,
     "status": "ok",
     "timestamp": 1627805863606,
     "user": {
      "displayName": "Siddharth Swain",
      "photoUrl": "",
      "userId": "12055456511825659152"
     },
     "user_tz": -330
    },
    "id": "bocRspQVxtvn"
   },
   "outputs": [],
   "source": [
    "class car4:\n",
    "  def __init__(a, m, y, ma, mo):\n",
    "    a.mileage = m\n",
    "    a.year = y\n",
    "    a.make = ma\n",
    "    a.model = mo"
   ]
  },
  {
   "cell_type": "code",
   "execution_count": 21,
   "id": "f405ed87",
   "metadata": {
    "executionInfo": {
     "elapsed": 2,
     "status": "ok",
     "timestamp": 1627805877930,
     "user": {
      "displayName": "Siddharth Swain",
      "photoUrl": "",
      "userId": "12055456511825659152"
     },
     "user_tz": -330
    },
    "id": "4-g46mBhybpX"
   },
   "outputs": [],
   "source": [
    "c1 = car4(1,2,3,4)"
   ]
  },
  {
   "cell_type": "code",
   "execution_count": 22,
   "id": "59ccbd45",
   "metadata": {
    "colab": {
     "base_uri": "https://localhost:8080/"
    },
    "executionInfo": {
     "elapsed": 635,
     "status": "ok",
     "timestamp": 1627805884835,
     "user": {
      "displayName": "Siddharth Swain",
      "photoUrl": "",
      "userId": "12055456511825659152"
     },
     "user_tz": -330
    },
    "id": "N5f2OUBtyoN_",
    "outputId": "cb573fc2-53a4-456d-f2d1-fc7e1573f059"
   },
   "outputs": [
    {
     "data": {
      "text/plain": [
       "4"
      ]
     },
     "execution_count": 22,
     "metadata": {
      "tags": []
     },
     "output_type": "execute_result"
    }
   ],
   "source": [
    "c1.model"
   ]
  },
  {
   "cell_type": "code",
   "execution_count": 24,
   "id": "e05e60c8",
   "metadata": {
    "colab": {
     "base_uri": "https://localhost:8080/",
     "height": 163
    },
    "executionInfo": {
     "elapsed": 384,
     "status": "error",
     "timestamp": 1627805965794,
     "user": {
      "displayName": "Siddharth Swain",
      "photoUrl": "",
      "userId": "12055456511825659152"
     },
     "user_tz": -330
    },
    "id": "eCb1XfykyrC3",
    "outputId": "19f895a9-d874-436e-b283-451ed4cc03ac"
   },
   "outputs": [
    {
     "ename": "AttributeError",
     "evalue": "ignored",
     "output_type": "error",
     "traceback": [
      "\u001b[0;31m---------------------------------------------------------------------------\u001b[0m",
      "\u001b[0;31mAttributeError\u001b[0m                            Traceback (most recent call last)",
      "\u001b[0;32m<ipython-input-24-d42ca9bd0806>\u001b[0m in \u001b[0;36m<module>\u001b[0;34m()\u001b[0m\n\u001b[0;32m----> 1\u001b[0;31m \u001b[0mc1\u001b[0m\u001b[0;34m.\u001b[0m\u001b[0mm\u001b[0m\u001b[0;34m\u001b[0m\u001b[0;34m\u001b[0m\u001b[0m\n\u001b[0m",
      "\u001b[0;31mAttributeError\u001b[0m: 'car4' object has no attribute 'm'"
     ]
    }
   ],
   "source": [
    "c1.m"
   ]
  },
  {
   "cell_type": "markdown",
   "id": "afa52fb0",
   "metadata": {
    "id": "RmOPvq2rC7Lp"
   },
   "source": [
    "## Practice"
   ]
  },
  {
   "cell_type": "code",
   "execution_count": 33,
   "id": "a95a7fd4",
   "metadata": {
    "executionInfo": {
     "elapsed": 660,
     "status": "ok",
     "timestamp": 1627806304311,
     "user": {
      "displayName": "Siddharth Swain",
      "photoUrl": "",
      "userId": "12055456511825659152"
     },
     "user_tz": -330
    },
    "id": "OrKxJUoWy9nv"
   },
   "outputs": [],
   "source": [
    "class car2:\n",
    "  \n",
    "  def __init__(self , mileage, year, make, model):\n",
    "    self.mileage = mileage\n",
    "    self.year = year\n",
    "    self.make = make\n",
    "    self.model = model\n",
    "\n",
    "  def ageofcar(self, currentyear):\n",
    "    return currentyear - self.year"
   ]
  },
  {
   "cell_type": "code",
   "execution_count": 34,
   "id": "74ffcb1d",
   "metadata": {
    "executionInfo": {
     "elapsed": 2,
     "status": "ok",
     "timestamp": 1627806304927,
     "user": {
      "displayName": "Siddharth Swain",
      "photoUrl": "",
      "userId": "12055456511825659152"
     },
     "user_tz": -330
    },
    "id": "N6d7iYM5zV2n"
   },
   "outputs": [],
   "source": [
    "nano = car2(2015,2015,2015,2015)"
   ]
  },
  {
   "cell_type": "code",
   "execution_count": 35,
   "id": "9dbf282d",
   "metadata": {
    "colab": {
     "base_uri": "https://localhost:8080/"
    },
    "executionInfo": {
     "elapsed": 635,
     "status": "ok",
     "timestamp": 1627806331935,
     "user": {
      "displayName": "Siddharth Swain",
      "photoUrl": "",
      "userId": "12055456511825659152"
     },
     "user_tz": -330
    },
    "id": "hJpq1M0ZzgAP",
    "outputId": "ba6652e5-80ee-4224-eeab-6e477ad105eb"
   },
   "outputs": [
    {
     "data": {
      "text/plain": [
       "5"
      ]
     },
     "execution_count": 35,
     "metadata": {
      "tags": []
     },
     "output_type": "execute_result"
    }
   ],
   "source": [
    "nano.ageofcar(2020)"
   ]
  },
  {
   "cell_type": "code",
   "execution_count": 42,
   "id": "fca7c486",
   "metadata": {
    "executionInfo": {
     "elapsed": 641,
     "status": "ok",
     "timestamp": 1627806562536,
     "user": {
      "displayName": "Siddharth Swain",
      "photoUrl": "",
      "userId": "12055456511825659152"
     },
     "user_tz": -330
    },
    "id": "1gF0Omd30W8-"
   },
   "outputs": [],
   "source": [
    "class car2:\n",
    "  \n",
    "  def __init__(self , mileage, year, make, model):\n",
    "    self.mileage = mileage\n",
    "    self.year = year\n",
    "    self.make = make\n",
    "    self.model = model\n",
    "\n",
    "  def ageofcar(self, currentyear):\n",
    "    return currentyear - self.year\n",
    "\n",
    "  def printmileage(self):\n",
    "    print(\"The mileage of the car is {0}.\".format(self.mileage))"
   ]
  },
  {
   "cell_type": "code",
   "execution_count": 43,
   "id": "7cbc424c",
   "metadata": {
    "executionInfo": {
     "elapsed": 1,
     "status": "ok",
     "timestamp": 1627806562895,
     "user": {
      "displayName": "Siddharth Swain",
      "photoUrl": "",
      "userId": "12055456511825659152"
     },
     "user_tz": -330
    },
    "id": "f6KqHfe801QN"
   },
   "outputs": [],
   "source": [
    "nano = car2(2015,2015,2015,2015)"
   ]
  },
  {
   "cell_type": "code",
   "execution_count": 44,
   "id": "76f62ff6",
   "metadata": {
    "colab": {
     "base_uri": "https://localhost:8080/"
    },
    "executionInfo": {
     "elapsed": 375,
     "status": "ok",
     "timestamp": 1627806566725,
     "user": {
      "displayName": "Siddharth Swain",
      "photoUrl": "",
      "userId": "12055456511825659152"
     },
     "user_tz": -330
    },
    "id": "fnAhXt2002fe",
    "outputId": "5df71650-9b0f-4571-892a-13802b62f8cb"
   },
   "outputs": [
    {
     "name": "stdout",
     "output_type": "stream",
     "text": [
      "The mileage of the car is 2015.\n"
     ]
    }
   ],
   "source": [
    "nano.printmileage()"
   ]
  },
  {
   "cell_type": "code",
   "execution_count": 45,
   "id": "27b61b88",
   "metadata": {
    "colab": {
     "base_uri": "https://localhost:8080/"
    },
    "executionInfo": {
     "elapsed": 636,
     "status": "ok",
     "timestamp": 1627806629429,
     "user": {
      "displayName": "Siddharth Swain",
      "photoUrl": "",
      "userId": "12055456511825659152"
     },
     "user_tz": -330
    },
    "id": "1GEGAIRg035-",
    "outputId": "80707a35-178e-472d-fbcc-c28eb9836f69"
   },
   "outputs": [
    {
     "data": {
      "text/plain": [
       "<__main__.car2 at 0x7fc9b8e64c50>"
      ]
     },
     "execution_count": 45,
     "metadata": {
      "tags": []
     },
     "output_type": "execute_result"
    }
   ],
   "source": [
    "nano"
   ]
  },
  {
   "cell_type": "code",
   "execution_count": 46,
   "id": "95ac91fa",
   "metadata": {
    "colab": {
     "base_uri": "https://localhost:8080/"
    },
    "executionInfo": {
     "elapsed": 371,
     "status": "ok",
     "timestamp": 1627806634555,
     "user": {
      "displayName": "Siddharth Swain",
      "photoUrl": "",
      "userId": "12055456511825659152"
     },
     "user_tz": -330
    },
    "id": "mhGhvMcW1fjO",
    "outputId": "3990f5c5-e6b7-4b01-d107-96b36f43b6fd"
   },
   "outputs": [
    {
     "name": "stdout",
     "output_type": "stream",
     "text": [
      "<__main__.car2 object at 0x7fc9b8e64c50>\n"
     ]
    }
   ],
   "source": [
    "print(nano)"
   ]
  },
  {
   "cell_type": "code",
   "execution_count": 52,
   "id": "feeb6a01",
   "metadata": {
    "executionInfo": {
     "elapsed": 623,
     "status": "ok",
     "timestamp": 1627806860906,
     "user": {
      "displayName": "Siddharth Swain",
      "photoUrl": "",
      "userId": "12055456511825659152"
     },
     "user_tz": -330
    },
    "id": "K0nE7RHq1gq9"
   },
   "outputs": [],
   "source": [
    "class car2:\n",
    "  \n",
    "  def __init__(self , mileage, year, make, model):\n",
    "    self.mileage = mileage\n",
    "    self.year = year\n",
    "    self.make = make\n",
    "    self.model = model\n",
    "\n",
    "  def ageofcar(b, currentyear):\n",
    "    return currentyear - b.year\n",
    "\n",
    "  def printmileage(self):\n",
    "    print(\"The mileage of the car is {0}.\".format(self.mileage))\n",
    "\n",
    "  # This is another inbuilt method.  \n",
    "  def __str__(c):\n",
    "    return \"This is my car class.\""
   ]
  },
  {
   "cell_type": "code",
   "execution_count": 53,
   "id": "70b18c5c",
   "metadata": {
    "executionInfo": {
     "elapsed": 1,
     "status": "ok",
     "timestamp": 1627806861478,
     "user": {
      "displayName": "Siddharth Swain",
      "photoUrl": "",
      "userId": "12055456511825659152"
     },
     "user_tz": -330
    },
    "id": "9-xLOeFm10dm"
   },
   "outputs": [],
   "source": [
    "nano = car2(1,2,3,4)"
   ]
  },
  {
   "cell_type": "code",
   "execution_count": 54,
   "id": "d727804a",
   "metadata": {
    "colab": {
     "base_uri": "https://localhost:8080/"
    },
    "executionInfo": {
     "elapsed": 2,
     "status": "ok",
     "timestamp": 1627806861898,
     "user": {
      "displayName": "Siddharth Swain",
      "photoUrl": "",
      "userId": "12055456511825659152"
     },
     "user_tz": -330
    },
    "id": "8IZ1hc0Y12ml",
    "outputId": "341eb280-8258-47c4-f2fe-f1611db59723"
   },
   "outputs": [
    {
     "data": {
      "text/plain": [
       "<__main__.car2 at 0x7fc9b4e048d0>"
      ]
     },
     "execution_count": 54,
     "metadata": {
      "tags": []
     },
     "output_type": "execute_result"
    }
   ],
   "source": [
    "nano"
   ]
  },
  {
   "cell_type": "code",
   "execution_count": 55,
   "id": "9017ca14",
   "metadata": {
    "colab": {
     "base_uri": "https://localhost:8080/"
    },
    "executionInfo": {
     "elapsed": 3,
     "status": "ok",
     "timestamp": 1627806862410,
     "user": {
      "displayName": "Siddharth Swain",
      "photoUrl": "",
      "userId": "12055456511825659152"
     },
     "user_tz": -330
    },
    "id": "rgG6ZHB712-9",
    "outputId": "e0f316a2-5d6b-40b6-986c-d937efd85168"
   },
   "outputs": [
    {
     "name": "stdout",
     "output_type": "stream",
     "text": [
      "This is my car class.\n"
     ]
    }
   ],
   "source": [
    "print(nano)"
   ]
  },
  {
   "cell_type": "markdown",
   "id": "fbd65295",
   "metadata": {
    "id": "Pgnhhn3w3lGl"
   },
   "source": [
    "## Practice"
   ]
  },
  {
   "cell_type": "code",
   "execution_count": 65,
   "id": "1124bb20",
   "metadata": {
    "executionInfo": {
     "elapsed": 706,
     "status": "ok",
     "timestamp": 1627807525052,
     "user": {
      "displayName": "Siddharth Swain",
      "photoUrl": "",
      "userId": "12055456511825659152"
     },
     "user_tz": -330
    },
    "id": "yIfCqz7F18Cl"
   },
   "outputs": [],
   "source": [
    "class student:\n",
    "\n",
    "  def __init__(self, name, rollno, joining_date, current_topic):\n",
    "    self.name = name\n",
    "    self.rollno = rollno\n",
    "    self.joining_date = joining_date\n",
    "    self.current_topic = current_topic\n",
    "\n",
    "  def crt_topic(self):\n",
    "    print(\"This is the current topic: {0}\".format(self.current_topic))\n",
    "\n",
    "  def str_rollno(self):\n",
    "    if type(self.rollno) == str:\n",
    "      print(\"do nothing\")\n",
    "    else:\n",
    "      return str(self.rollno)\n",
    "\n",
    "  def duration(self,current_date):\n",
    "    print(\"Duration is :\",current_date - self.joining_date)\n",
    "\n",
    "  def __str__(self):\n",
    "    return \"hehehehehhehehehehehhee\"\n"
   ]
  },
  {
   "cell_type": "code",
   "execution_count": 66,
   "id": "ab953fa8",
   "metadata": {
    "executionInfo": {
     "elapsed": 8,
     "status": "ok",
     "timestamp": 1627807525697,
     "user": {
      "displayName": "Siddharth Swain",
      "photoUrl": "",
      "userId": "12055456511825659152"
     },
     "user_tz": -330
    },
    "id": "Sl5n0Fvv4Yqu"
   },
   "outputs": [],
   "source": [
    "srini = student(\"Srini\",1001,2021,\"course\")"
   ]
  },
  {
   "cell_type": "code",
   "execution_count": 67,
   "id": "69b10d19",
   "metadata": {
    "colab": {
     "base_uri": "https://localhost:8080/"
    },
    "executionInfo": {
     "elapsed": 10,
     "status": "ok",
     "timestamp": 1627807525700,
     "user": {
      "displayName": "Siddharth Swain",
      "photoUrl": "",
      "userId": "12055456511825659152"
     },
     "user_tz": -330
    },
    "id": "HAKu3hFX4r-0",
    "outputId": "f4fd87f2-5980-45e8-c571-206f4d8b82be"
   },
   "outputs": [
    {
     "name": "stdout",
     "output_type": "stream",
     "text": [
      "Duration is : 1\n"
     ]
    }
   ],
   "source": [
    "srini.duration(2022)"
   ]
  },
  {
   "cell_type": "code",
   "execution_count": 68,
   "id": "3bf22ca2",
   "metadata": {
    "colab": {
     "base_uri": "https://localhost:8080/",
     "height": 35
    },
    "executionInfo": {
     "elapsed": 11,
     "status": "ok",
     "timestamp": 1627807525702,
     "user": {
      "displayName": "Siddharth Swain",
      "photoUrl": "",
      "userId": "12055456511825659152"
     },
     "user_tz": -330
    },
    "id": "R_DEnYSy4ubs",
    "outputId": "18b60e80-7be9-428b-9a55-730d11ae1dd2"
   },
   "outputs": [
    {
     "data": {
      "application/vnd.google.colaboratory.intrinsic+json": {
       "type": "string"
      },
      "text/plain": [
       "'1001'"
      ]
     },
     "execution_count": 68,
     "metadata": {
      "tags": []
     },
     "output_type": "execute_result"
    }
   ],
   "source": [
    "srini.str_rollno()"
   ]
  },
  {
   "cell_type": "code",
   "execution_count": 69,
   "id": "7547a8f4",
   "metadata": {
    "colab": {
     "base_uri": "https://localhost:8080/"
    },
    "executionInfo": {
     "elapsed": 11,
     "status": "ok",
     "timestamp": 1627807525703,
     "user": {
      "displayName": "Siddharth Swain",
      "photoUrl": "",
      "userId": "12055456511825659152"
     },
     "user_tz": -330
    },
    "id": "Upo7JRop4x70",
    "outputId": "a1ea5955-bdea-4c4a-ae93-0a68e6530b85"
   },
   "outputs": [
    {
     "name": "stdout",
     "output_type": "stream",
     "text": [
      "hehehehehhehehehehehhee\n"
     ]
    }
   ],
   "source": [
    "print(srini)"
   ]
  },
  {
   "cell_type": "code",
   "execution_count": 71,
   "id": "5e3227e5",
   "metadata": {
    "colab": {
     "base_uri": "https://localhost:8080/"
    },
    "executionInfo": {
     "elapsed": 620,
     "status": "ok",
     "timestamp": 1627807565417,
     "user": {
      "displayName": "Siddharth Swain",
      "photoUrl": "",
      "userId": "12055456511825659152"
     },
     "user_tz": -330
    },
    "id": "gFKBRLb440y0",
    "outputId": "ba02047b-ea88-43e0-e4a9-08ec9247d38b"
   },
   "outputs": [
    {
     "name": "stdout",
     "output_type": "stream",
     "text": [
      "This is the current topic: course\n"
     ]
    }
   ],
   "source": [
    "srini.crt_topic()"
   ]
  },
  {
   "cell_type": "code",
   "execution_count": 72,
   "id": "d0d4f505",
   "metadata": {
    "executionInfo": {
     "elapsed": 358,
     "status": "ok",
     "timestamp": 1627807593089,
     "user": {
      "displayName": "Siddharth Swain",
      "photoUrl": "",
      "userId": "12055456511825659152"
     },
     "user_tz": -330
    },
    "id": "ZNPDlHsx49ck"
   },
   "outputs": [],
   "source": [
    "marur = student(\"marur\",\"sdsdsd\",45,33)"
   ]
  },
  {
   "cell_type": "code",
   "execution_count": 7,
   "id": "57513463",
   "metadata": {
    "executionInfo": {
     "elapsed": 614,
     "status": "ok",
     "timestamp": 1627826558732,
     "user": {
      "displayName": "Siddharth Swain",
      "photoUrl": "",
      "userId": "12055456511825659152"
     },
     "user_tz": -330
    },
    "id": "kPtdRU9v5K68"
   },
   "outputs": [],
   "source": [
    "class student:\n",
    "\n",
    "  def __init__(self, name, rollno, joining_date, current_topic):\n",
    "    self.name = name\n",
    "    self.rollno = rollno\n",
    "    self.joining_date = joining_date\n",
    "    self.current_topic = current_topic\n",
    "\n",
    "  def name_Parsing(self):\n",
    "\n",
    "    if type(self.name) == list:\n",
    "      for i in self.name:\n",
    "        print(\"Name of student is \",i)\n",
    "    else:\n",
    "      print(\"name is not in form of list.\")\n",
    "          \n",
    "  def crt_topic(self):\n",
    "    print(\"This is the current topic: {0}\".format(self.current_topic))\n",
    "\n",
    "  def str_rollno(self):\n",
    "\n",
    "    try:\n",
    "      if type(self.rollno) == str:\n",
    "        print(\"do nothing\")\n",
    "      else:\n",
    "        return str(self.rollno)\n",
    "    except Exception as e:\n",
    "      print(\"this is my error message \",e)\n",
    "\n",
    "  def duration(self,current_date):\n",
    "    print(\"Duration is :\",current_date - self.joining_date)\n",
    "\n",
    "  def __str__(self):\n",
    "    return \"hehehehehhehehehehehhee\""
   ]
  },
  {
   "cell_type": "code",
   "execution_count": 8,
   "id": "73232583",
   "metadata": {
    "executionInfo": {
     "elapsed": 2,
     "status": "ok",
     "timestamp": 1627826558732,
     "user": {
      "displayName": "Siddharth Swain",
      "photoUrl": "",
      "userId": "12055456511825659152"
     },
     "user_tz": -330
    },
    "id": "cgEqidc-AUq1"
   },
   "outputs": [],
   "source": [
    "pawan =  student([\"naveen\",\"jay\",\"himanshu\",\"prakash\"], [2,3,4,5,6], 100, \"chapter\")"
   ]
  },
  {
   "cell_type": "code",
   "execution_count": 9,
   "id": "4f135898",
   "metadata": {
    "colab": {
     "base_uri": "https://localhost:8080/"
    },
    "executionInfo": {
     "elapsed": 4,
     "status": "ok",
     "timestamp": 1627826559737,
     "user": {
      "displayName": "Siddharth Swain",
      "photoUrl": "",
      "userId": "12055456511825659152"
     },
     "user_tz": -330
    },
    "id": "0JhHdT0AAyrn",
    "outputId": "9fa6e3e4-a183-4e10-a57a-c1b12f2b6231"
   },
   "outputs": [
    {
     "name": "stdout",
     "output_type": "stream",
     "text": [
      "Name of student is  naveen\n",
      "Name of student is  jay\n",
      "Name of student is  himanshu\n",
      "Name of student is  prakash\n"
     ]
    }
   ],
   "source": [
    "pawan.name_Parsing()"
   ]
  },
  {
   "cell_type": "code",
   "execution_count": 10,
   "id": "0c652352",
   "metadata": {
    "executionInfo": {
     "elapsed": 358,
     "status": "ok",
     "timestamp": 1627826585707,
     "user": {
      "displayName": "Siddharth Swain",
      "photoUrl": "",
      "userId": "12055456511825659152"
     },
     "user_tz": -330
    },
    "id": "jWtTHxAWBP1V"
   },
   "outputs": [],
   "source": [
    "pawan = student(\"siddharth\", [2,3,4,5,6], 100, \"chapter\")"
   ]
  },
  {
   "cell_type": "code",
   "execution_count": 11,
   "id": "cc4c916c",
   "metadata": {
    "colab": {
     "base_uri": "https://localhost:8080/"
    },
    "executionInfo": {
     "elapsed": 336,
     "status": "ok",
     "timestamp": 1627826596743,
     "user": {
      "displayName": "Siddharth Swain",
      "photoUrl": "",
      "userId": "12055456511825659152"
     },
     "user_tz": -330
    },
    "id": "5wW3Ul60Bnvt",
    "outputId": "de606ddf-ae3a-4d89-cea2-a1f58196141f"
   },
   "outputs": [
    {
     "name": "stdout",
     "output_type": "stream",
     "text": [
      "name is not in form of list.\n"
     ]
    }
   ],
   "source": [
    "pawan.name_Parsing()"
   ]
  },
  {
   "cell_type": "code",
   "execution_count": 12,
   "id": "d0d7f5bc",
   "metadata": {
    "colab": {
     "base_uri": "https://localhost:8080/"
    },
    "executionInfo": {
     "elapsed": 353,
     "status": "ok",
     "timestamp": 1627826888091,
     "user": {
      "displayName": "Siddharth Swain",
      "photoUrl": "",
      "userId": "12055456511825659152"
     },
     "user_tz": -330
    },
    "id": "QGp-cBPkBqdt",
    "outputId": "ecc6e4f3-6b45-4e29-ed6a-b57114d6abfe"
   },
   "outputs": [
    {
     "name": "stdout",
     "output_type": "stream",
     "text": [
      "hehehehehhehehehehehhee\n"
     ]
    }
   ],
   "source": [
    "print(pawan)"
   ]
  },
  {
   "cell_type": "markdown",
   "id": "900ea593",
   "metadata": {
    "id": "cgWDEjt9C-wx"
   },
   "source": [
    "## Question"
   ]
  },
  {
   "cell_type": "code",
   "execution_count": 1,
   "id": "b03e93be",
   "metadata": {
    "executionInfo": {
     "elapsed": 417,
     "status": "ok",
     "timestamp": 1627832068353,
     "user": {
      "displayName": "Siddharth Swain",
      "photoUrl": "",
      "userId": "12055456511825659152"
     },
     "user_tz": -330
    },
    "id": "R_gTCG0GFzI8"
   },
   "outputs": [],
   "source": [
    "# Successful Run 1\n",
    "\n",
    "import os\n",
    "\n",
    "class data:\n",
    "\n",
    "  def __init__(self, file_name,file_type,date,size):\n",
    "    self.file_name = file_name\n",
    "    self.file_type = file_type\n",
    "    self.date = date\n",
    "    self.size = size\n",
    "\n",
    "  def __str__(self):\n",
    "    return \"Sudanshu's Question Code\"\n",
    "\n",
    "  def file_open(self):\n",
    "    if self.file_name + \".\" + self.file_type in os.listdir():\n",
    "      print(\"File already exists!\")\n",
    "    else:\n",
    "      f = open(str(self.file_name + \".\" + self.file_type),'w')\n",
    "      f.write(\"Siddharth Swain has enrolled for the MBA ISDE Program at NIIT University.\")\n",
    "      f.close()\n",
    "       \n",
    "  def file_read(self):\n",
    "    f = open(str(self.file_name + \".\" + self.file_type),'r')\n",
    "    print(f.read())\n",
    "    f.close()\n",
    "  \n",
    "  def file_append(self):\n",
    "    f = open(str(self.file_name + \".\" + self.file_type),'a')\n",
    "    f.write(\" Appending this content in our file.\")\n",
    "    f.close()\n",
    "    f = open(str(self.file_name + \".\" + self.file_type),'r')\n",
    "    print(f.read())\n",
    "    f.close()"
   ]
  },
  {
   "cell_type": "code",
   "execution_count": 1,
   "id": "e21981e7",
   "metadata": {
    "colab": {
     "base_uri": "https://localhost:8080/"
    },
    "executionInfo": {
     "elapsed": 627,
     "status": "ok",
     "timestamp": 1627834662562,
     "user": {
      "displayName": "Siddharth Swain",
      "photoUrl": "",
      "userId": "12055456511825659152"
     },
     "user_tz": -330
    },
    "id": "ed7k4dIuXWyR",
    "outputId": "b0e6afb7-3015-4988-be49-2d6572fcb996"
   },
   "outputs": [
    {
     "name": "stderr",
     "output_type": "stream",
     "text": [
      "2021-08-01 16:17:41,481 - root - INFO - Start of Program.\n",
      "2021-08-01 16:17:41,485 - root - INFO - End of Program.\n"
     ]
    }
   ],
   "source": [
    "# Successful Run 2 with Exception Handling and Logging\n",
    "\n",
    "import os\n",
    "import logging\n",
    "\n",
    "# Create log file\n",
    "logging.basicConfig(filename = \"testrun.log\" , level = logging.INFO , format = '%(asctime)s - %(name)s - %(levelname)s -  %(message)s')\n",
    "     \n",
    "# Create Handlers\n",
    "console_log = logging.StreamHandler()\n",
    "console_log.setLevel(logging.DEBUG)\n",
    "format = logging.Formatter('%(asctime)s - %(name)s - %(levelname)s - %(message)s')\n",
    "console_log.setFormatter(format)\n",
    "\n",
    "# Create a Custom Handler\n",
    "logging.getLogger('').addHandler(console_log)\n",
    "logging.info(\"Start of Program.\")\n",
    "logger = logging.getLogger('Siddharth Swain')\n",
    "\n",
    "class data:\n",
    "\n",
    "  def __init__(self, file_name,file_type,date,size):\n",
    "    self.file_name = file_name\n",
    "    self.file_type = file_type\n",
    "    self.date = date\n",
    "    self.size = size\n",
    "\n",
    "  def __str__(self):\n",
    "    return \"Sudanshu's Question Code\"\n",
    "\n",
    "  def awesomelogger(self,log):\n",
    "    logger.info(log)\n",
    "  \n",
    "  def file_open(self):\n",
    "    try:\n",
    "      \n",
    "      self.file_name + \".\" + self.file_type\n",
    "      if self.file_name + \".\" + self.file_type in os.listdir():\n",
    "        self.awesomelogger(\"File already exists!\")\n",
    "      else:\n",
    "        f = open(str(self.file_name + \".\" + self.file_type),'w')\n",
    "        f.write(\"Siddharth Swain has enrolled for the MBA ISDE Program at NIIT University.\")\n",
    "        self.awesomelogger(e1)\n",
    "        f.close()\n",
    "    \n",
    "    except:\n",
    "      \n",
    "      self.awesomelogger(\"Invalid Filename or Type!\")\n",
    "              \n",
    "  def file_read(self):\n",
    "    try:\n",
    "      f = open(str(self.file_name + \".\" + self.file_type),'r')\n",
    "      print(f.read())\n",
    "      f.close()\n",
    "      self.awesomelogger(\"Read Successful!\")    \n",
    "    except:\n",
    "      self.awesomelogger(\"Read Unsuccessful! No file found!\")\n",
    "  \n",
    "  def file_append(self):\n",
    "    try:\n",
    "      f = open(str(self.file_name + \".\" + self.file_type),'a')\n",
    "      f.write(\" Appending this content in our file.\")\n",
    "      f.close()\n",
    "      f = open(str(self.file_name + \".\" + self.file_type),'r')\n",
    "      print(f.read())\n",
    "      f.close()\n",
    "    except:\n",
    "      self.awesomelogger(\"Append Unsuccessful! No file found!\")\n",
    "  \n",
    "logging.info(\"End of Program.\")"
   ]
  },
  {
   "cell_type": "code",
   "execution_count": 2,
   "id": "019b651d",
   "metadata": {
    "executionInfo": {
     "elapsed": 3,
     "status": "ok",
     "timestamp": 1627834662563,
     "user": {
      "displayName": "Siddharth Swain",
      "photoUrl": "",
      "userId": "12055456511825659152"
     },
     "user_tz": -330
    },
    "id": "fkTLI-rIILyM"
   },
   "outputs": [],
   "source": [
    "student1 = data(1001,1001,\"19/06/2021\",\"100 MB\")"
   ]
  },
  {
   "cell_type": "code",
   "execution_count": 3,
   "id": "4412dd19",
   "metadata": {
    "colab": {
     "base_uri": "https://localhost:8080/"
    },
    "executionInfo": {
     "elapsed": 3,
     "status": "ok",
     "timestamp": 1627834664642,
     "user": {
      "displayName": "Siddharth Swain",
      "photoUrl": "",
      "userId": "12055456511825659152"
     },
     "user_tz": -330
    },
    "id": "T68Cc1zlItWq",
    "outputId": "6efd9bb0-f4d1-4c0b-8744-445b0b11f96b"
   },
   "outputs": [
    {
     "name": "stdout",
     "output_type": "stream",
     "text": [
      "Sudanshu's Question Code\n"
     ]
    }
   ],
   "source": [
    "print(student1)"
   ]
  },
  {
   "cell_type": "code",
   "execution_count": 4,
   "id": "6333eacc",
   "metadata": {
    "colab": {
     "base_uri": "https://localhost:8080/"
    },
    "executionInfo": {
     "elapsed": 4,
     "status": "ok",
     "timestamp": 1627834665031,
     "user": {
      "displayName": "Siddharth Swain",
      "photoUrl": "",
      "userId": "12055456511825659152"
     },
     "user_tz": -330
    },
    "id": "D1X3nsrbIu16",
    "outputId": "fc0263cd-6707-4ef0-de29-52e5eb3c0d38"
   },
   "outputs": [
    {
     "name": "stderr",
     "output_type": "stream",
     "text": [
      "2021-08-01 16:17:44,313 - Siddharth Swain - INFO - Invalid Filename or Type!\n"
     ]
    }
   ],
   "source": [
    "student1.file_open()"
   ]
  },
  {
   "cell_type": "code",
   "execution_count": 5,
   "id": "639bf924",
   "metadata": {
    "colab": {
     "base_uri": "https://localhost:8080/"
    },
    "executionInfo": {
     "elapsed": 6,
     "status": "ok",
     "timestamp": 1627834665498,
     "user": {
      "displayName": "Siddharth Swain",
      "photoUrl": "",
      "userId": "12055456511825659152"
     },
     "user_tz": -330
    },
    "id": "YfjnjhQHIzGq",
    "outputId": "8160ce0c-566a-46c8-f3ea-52c8c53e1b61"
   },
   "outputs": [
    {
     "name": "stderr",
     "output_type": "stream",
     "text": [
      "2021-08-01 16:17:44,869 - Siddharth Swain - INFO - Read Unsuccessful! No file found!\n"
     ]
    }
   ],
   "source": [
    "student1.file_read()"
   ]
  },
  {
   "cell_type": "code",
   "execution_count": 6,
   "id": "5203e73e",
   "metadata": {
    "colab": {
     "base_uri": "https://localhost:8080/"
    },
    "executionInfo": {
     "elapsed": 4,
     "status": "ok",
     "timestamp": 1627834665498,
     "user": {
      "displayName": "Siddharth Swain",
      "photoUrl": "",
      "userId": "12055456511825659152"
     },
     "user_tz": -330
    },
    "id": "4XJ0JCY2JMfq",
    "outputId": "c6672a1b-4211-4a7e-8d23-5e800a5f4220"
   },
   "outputs": [
    {
     "name": "stderr",
     "output_type": "stream",
     "text": [
      "2021-08-01 16:17:44,888 - Siddharth Swain - INFO - Append Unsuccessful! No file found!\n"
     ]
    }
   ],
   "source": [
    "student1.file_append()"
   ]
  },
  {
   "cell_type": "code",
   "execution_count": 7,
   "id": "8d8674d8",
   "metadata": {
    "colab": {
     "base_uri": "https://localhost:8080/"
    },
    "executionInfo": {
     "elapsed": 2,
     "status": "ok",
     "timestamp": 1627834666030,
     "user": {
      "displayName": "Siddharth Swain",
      "photoUrl": "",
      "userId": "12055456511825659152"
     },
     "user_tz": -330
    },
    "id": "bFZ5OTlpJdCB",
    "outputId": "87740abd-2e5e-471d-b969-88b3ed737509"
   },
   "outputs": [
    {
     "data": {
      "text/plain": [
       "['.config', 'testrun.log', 'sample_data']"
      ]
     },
     "execution_count": 7,
     "metadata": {
      "tags": []
     },
     "output_type": "execute_result"
    }
   ],
   "source": [
    "os.listdir()"
   ]
  },
  {
   "cell_type": "code",
   "execution_count": 8,
   "id": "e948887a",
   "metadata": {
    "executionInfo": {
     "elapsed": 3,
     "status": "ok",
     "timestamp": 1627834667834,
     "user": {
      "displayName": "Siddharth Swain",
      "photoUrl": "",
      "userId": "12055456511825659152"
     },
     "user_tz": -330
    },
    "id": "UX22ITcWJ8Gq"
   },
   "outputs": [],
   "source": [
    "student2 = data(\"siddharth swain\",\"txt\",\"19/06/2021\",\"100 MB\")"
   ]
  },
  {
   "cell_type": "code",
   "execution_count": 9,
   "id": "b5a3b26e",
   "metadata": {
    "colab": {
     "base_uri": "https://localhost:8080/"
    },
    "executionInfo": {
     "elapsed": 4,
     "status": "ok",
     "timestamp": 1627834669182,
     "user": {
      "displayName": "Siddharth Swain",
      "photoUrl": "",
      "userId": "12055456511825659152"
     },
     "user_tz": -330
    },
    "id": "A646_kj6KRoR",
    "outputId": "83235d95-a30f-4622-ecc7-99004d5a8aa7"
   },
   "outputs": [
    {
     "name": "stderr",
     "output_type": "stream",
     "text": [
      "2021-08-01 16:17:48,395 - Siddharth Swain - INFO - Invalid Filename or Type!\n"
     ]
    }
   ],
   "source": [
    "student2.file_open()"
   ]
  },
  {
   "cell_type": "code",
   "execution_count": 10,
   "id": "41774eeb",
   "metadata": {
    "colab": {
     "base_uri": "https://localhost:8080/"
    },
    "executionInfo": {
     "elapsed": 3,
     "status": "ok",
     "timestamp": 1627834671604,
     "user": {
      "displayName": "Siddharth Swain",
      "photoUrl": "",
      "userId": "12055456511825659152"
     },
     "user_tz": -330
    },
    "id": "KdrS6Hnzcic7",
    "outputId": "fb039009-b755-4677-eda0-4148b2c685f1"
   },
   "outputs": [
    {
     "data": {
      "text/plain": [
       "['.config', 'siddharth swain.txt', 'testrun.log', 'sample_data']"
      ]
     },
     "execution_count": 10,
     "metadata": {
      "tags": []
     },
     "output_type": "execute_result"
    }
   ],
   "source": [
    "os.listdir()"
   ]
  },
  {
   "cell_type": "code",
   "execution_count": 11,
   "id": "0c219cb5",
   "metadata": {
    "colab": {
     "base_uri": "https://localhost:8080/"
    },
    "executionInfo": {
     "elapsed": 3,
     "status": "ok",
     "timestamp": 1627834674722,
     "user": {
      "displayName": "Siddharth Swain",
      "photoUrl": "",
      "userId": "12055456511825659152"
     },
     "user_tz": -330
    },
    "id": "57Bx0r5sVgNF",
    "outputId": "fba54818-67d6-4911-b5a0-6662b2a3c3e4"
   },
   "outputs": [
    {
     "name": "stderr",
     "output_type": "stream",
     "text": [
      "2021-08-01 16:17:54,098 - Siddharth Swain - INFO - Read Successful!\n"
     ]
    },
    {
     "name": "stdout",
     "output_type": "stream",
     "text": [
      "Siddharth Swain has enrolled for the MBA ISDE Program at NIIT University.\n"
     ]
    }
   ],
   "source": [
    "student2.file_read()"
   ]
  },
  {
   "cell_type": "code",
   "execution_count": 12,
   "id": "abe8d3d2",
   "metadata": {
    "colab": {
     "base_uri": "https://localhost:8080/"
    },
    "executionInfo": {
     "elapsed": 380,
     "status": "ok",
     "timestamp": 1627834695935,
     "user": {
      "displayName": "Siddharth Swain",
      "photoUrl": "",
      "userId": "12055456511825659152"
     },
     "user_tz": -330
    },
    "id": "xB-jZpoDcfvq",
    "outputId": "845f71a6-2e3f-43fc-a733-e7465bb312a1"
   },
   "outputs": [
    {
     "name": "stdout",
     "output_type": "stream",
     "text": [
      "Siddharth Swain has enrolled for the MBA ISDE Program at NIIT University. Appending this content in our file.\n"
     ]
    }
   ],
   "source": [
    "student2.file_append()"
   ]
  },
  {
   "cell_type": "code",
   "execution_count": 13,
   "id": "3389622c",
   "metadata": {
    "executionInfo": {
     "elapsed": 377,
     "status": "ok",
     "timestamp": 1627834716899,
     "user": {
      "displayName": "Siddharth Swain",
      "photoUrl": "",
      "userId": "12055456511825659152"
     },
     "user_tz": -330
    },
    "id": "TxtLo34FgjoI"
   },
   "outputs": [],
   "source": [
    "student3 = data(\"siddharth swain\",\"txt\",\"19/06/2021\",\"100 MB\")"
   ]
  },
  {
   "cell_type": "code",
   "execution_count": 14,
   "id": "fe14bd4d",
   "metadata": {
    "colab": {
     "base_uri": "https://localhost:8080/"
    },
    "executionInfo": {
     "elapsed": 379,
     "status": "ok",
     "timestamp": 1627834738039,
     "user": {
      "displayName": "Siddharth Swain",
      "photoUrl": "",
      "userId": "12055456511825659152"
     },
     "user_tz": -330
    },
    "id": "P027hxsxgo4o",
    "outputId": "869c2afe-74af-4399-fae9-87c770304df9"
   },
   "outputs": [
    {
     "name": "stderr",
     "output_type": "stream",
     "text": [
      "2021-08-01 16:18:57,174 - Siddharth Swain - INFO - File already exists!\n"
     ]
    }
   ],
   "source": [
    "student3.file_open()"
   ]
  },
  {
   "cell_type": "code",
   "execution_count": 15,
   "id": "4379c2c7",
   "metadata": {
    "colab": {
     "base_uri": "https://localhost:8080/"
    },
    "executionInfo": {
     "elapsed": 607,
     "status": "ok",
     "timestamp": 1627834750695,
     "user": {
      "displayName": "Siddharth Swain",
      "photoUrl": "",
      "userId": "12055456511825659152"
     },
     "user_tz": -330
    },
    "id": "w1aEcxyJguBX",
    "outputId": "4e513e3d-b69e-4dc2-e93c-69f6b0f32282"
   },
   "outputs": [
    {
     "name": "stderr",
     "output_type": "stream",
     "text": [
      "2021-08-01 16:19:09,607 - Siddharth Swain - INFO - Read Successful!\n"
     ]
    },
    {
     "name": "stdout",
     "output_type": "stream",
     "text": [
      "Siddharth Swain has enrolled for the MBA ISDE Program at NIIT University. Appending this content in our file.\n"
     ]
    }
   ],
   "source": [
    "student3.file_read()"
   ]
  },
  {
   "cell_type": "code",
   "execution_count": 17,
   "id": "b2392f01",
   "metadata": {
    "colab": {
     "base_uri": "https://localhost:8080/"
    },
    "executionInfo": {
     "elapsed": 369,
     "status": "ok",
     "timestamp": 1627834767932,
     "user": {
      "displayName": "Siddharth Swain",
      "photoUrl": "",
      "userId": "12055456511825659152"
     },
     "user_tz": -330
    },
    "id": "-aihzRjwgxD3",
    "outputId": "6bf44e69-c95c-4b4a-99f2-a49531b74e30"
   },
   "outputs": [
    {
     "name": "stdout",
     "output_type": "stream",
     "text": [
      "Siddharth Swain has enrolled for the MBA ISDE Program at NIIT University. Appending this content in our file. Appending this content in our file.\n"
     ]
    }
   ],
   "source": [
    "student3.file_append()"
   ]
  }
 ],
 "metadata": {
  "kernelspec": {
   "display_name": "Python 3",
   "language": "python",
   "name": "python3"
  },
  "language_info": {
   "codemirror_mode": {
    "name": "ipython",
    "version": 3
   },
   "file_extension": ".py",
   "mimetype": "text/x-python",
   "name": "python",
   "nbconvert_exporter": "python",
   "pygments_lexer": "ipython3",
   "version": "3.8.8"
  }
 },
 "nbformat": 4,
 "nbformat_minor": 5
}
