{
 "cells": [
  {
   "cell_type": "markdown",
   "id": "8d1c5c04",
   "metadata": {},
   "source": [
    "## 001_Python Introduction\n",
    "\n",
    "- Introduction to Computers\n",
    "- Input Process Output Model\n",
    "- Basic Parts of Computers\n",
    "- CPU, RAM & Hard Drive\n",
    "- What is CPU?\n",
    "- What is RAM?\n",
    "- What is a Hard Drive?\n",
    "- Characteristics of Computers\n",
    "- Advantages of Using Computers\n",
    "- Disadvantages of Using Computers\n",
    "- Software Concepts\n",
    "- System Software\n",
    "- Operating System\n",
    "- Computer Languages\n",
    "- Machine Language (Low Level Language)\n",
    "- Assembly Language (Middle Level Language)\n",
    "- High Level Language\n",
    "- Language Processor\n",
    "- Device Drivers\n",
    "- Application Software\n",
    "- Utility Software\n",
    "- What is Python?\n",
    "- What is Python used for?\n",
    "- What can Python do?\n",
    "- Why Python?\n",
    "- Why Learn Python?\n",
    "- Why is Python Popular despite being (Super) Slow?\n",
    "- What are 7 Reasons behind Python's Popularity?\n",
    "- Good to Know\n",
    "- Python is a High Level Language\n",
    "- Python is an Interpreted Language\n",
    "- Python is a Strongly Typed and Dynamically Typed Language\n",
    "- Python has Dynamic Semantics\n",
    "- Python Variables are Pointers\n",
    "- 7 Best Python IDE For Developers in 2021\n",
    "- Why Python is preferred for Machine Learning and AI?\n",
    "- Best Python Libraries for Machine Learning and AI"
   ]
  }
 ],
 "metadata": {
  "kernelspec": {
   "display_name": "Python 3",
   "language": "python",
   "name": "python3"
  },
  "language_info": {
   "codemirror_mode": {
    "name": "ipython",
    "version": 3
   },
   "file_extension": ".py",
   "mimetype": "text/x-python",
   "name": "python",
   "nbconvert_exporter": "python",
   "pygments_lexer": "ipython3",
   "version": "3.8.8"
  }
 },
 "nbformat": 4,
 "nbformat_minor": 5
}
