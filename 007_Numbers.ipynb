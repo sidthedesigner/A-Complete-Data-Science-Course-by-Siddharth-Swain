{
 "cells": [
  {
   "cell_type": "markdown",
   "id": "9fd78da3",
   "metadata": {},
   "source": [
    "# 1. Numbers\n",
    "\n",
    "There are three numeric types in Python.\n",
    "\n",
    "- int\n",
    "- float\n",
    "- complex\n",
    "\n",
    "Variables of numeric types are created when you assign a value to them."
   ]
  },
  {
   "cell_type": "code",
   "execution_count": 1,
   "id": "38f1adf2",
   "metadata": {},
   "outputs": [],
   "source": [
    "# Examples\n",
    "\n",
    "x = 1    # int\n",
    "y = 2.8  # float\n",
    "z = 1j   # complex"
   ]
  },
  {
   "cell_type": "code",
   "execution_count": 2,
   "id": "dac88134",
   "metadata": {},
   "outputs": [
    {
     "name": "stdout",
     "output_type": "stream",
     "text": [
      "<class 'int'>\n",
      "<class 'float'>\n",
      "<class 'complex'>\n"
     ]
    }
   ],
   "source": [
    "# To verify the type of any object in Python, use the type() function.\n",
    "\n",
    "print(type(x))\n",
    "print(type(y))\n",
    "print(type(z))"
   ]
  },
  {
   "cell_type": "markdown",
   "id": "3fa833e5",
   "metadata": {},
   "source": [
    "## 1.1 Int\n",
    "\n",
    "Int, or integer, is a whole number, positive or negative, without decimals, of unlimited length."
   ]
  },
  {
   "cell_type": "code",
   "execution_count": 3,
   "id": "359b98e3",
   "metadata": {},
   "outputs": [
    {
     "name": "stdout",
     "output_type": "stream",
     "text": [
      "<class 'int'>\n",
      "<class 'int'>\n",
      "<class 'int'>\n"
     ]
    }
   ],
   "source": [
    "# Integers.\n",
    "\n",
    "x = 1\n",
    "y = 35656222554887711\n",
    "z = -3255522\n",
    "\n",
    "print(type(x))\n",
    "print(type(y))\n",
    "print(type(z))"
   ]
  },
  {
   "cell_type": "markdown",
   "id": "ef34ff08",
   "metadata": {},
   "source": [
    "## 1.2 Float\n",
    "\n",
    "Float, or \"floating point number\" is a number, positive or negative, containing one or more decimals."
   ]
  },
  {
   "cell_type": "code",
   "execution_count": 4,
   "id": "3f658814",
   "metadata": {},
   "outputs": [
    {
     "name": "stdout",
     "output_type": "stream",
     "text": [
      "<class 'float'>\n",
      "<class 'float'>\n",
      "<class 'float'>\n"
     ]
    }
   ],
   "source": [
    "# Floats.\n",
    "\n",
    "x = 1.10\n",
    "y = 1.0\n",
    "z = -35.59\n",
    "\n",
    "print(type(x))\n",
    "print(type(y))\n",
    "print(type(z))"
   ]
  },
  {
   "cell_type": "markdown",
   "id": "039d1c6d",
   "metadata": {},
   "source": [
    "Float can also be scientific numbers with an \"e\" to indicate the power of 10."
   ]
  },
  {
   "cell_type": "code",
   "execution_count": 5,
   "id": "4608179b",
   "metadata": {},
   "outputs": [
    {
     "name": "stdout",
     "output_type": "stream",
     "text": [
      "<class 'float'>\n",
      "<class 'float'>\n",
      "<class 'float'>\n"
     ]
    }
   ],
   "source": [
    "# Floats.\n",
    "\n",
    "x = 35e3\n",
    "y = 12E4\n",
    "z = -87.7e100\n",
    "\n",
    "print(type(x))\n",
    "print(type(y))\n",
    "print(type(z))"
   ]
  },
  {
   "cell_type": "markdown",
   "id": "0c0a8385",
   "metadata": {},
   "source": [
    "## 1.3 Complex\n",
    "\n",
    "A complex number is created from real numbers. Python complex number can be created either using direct assignment statement or by using complex() function.\n",
    "\n",
    "Complex numbers which are mostly used where we are using two real numbers. \n",
    "\n",
    "For instance, an electric circuit which is defined by voltage(V) and current(C) are used in geometry, scientific calculations and calculus.\n",
    "\n",
    "Complex numbers are written with a \"j\" as the imaginary part."
   ]
  },
  {
   "cell_type": "code",
   "execution_count": 6,
   "id": "b730d739",
   "metadata": {},
   "outputs": [
    {
     "name": "stdout",
     "output_type": "stream",
     "text": [
      "<class 'complex'>\n",
      "<class 'complex'>\n",
      "<class 'complex'>\n"
     ]
    }
   ],
   "source": [
    "# Complex.\n",
    "\n",
    "x = 3+5j\n",
    "y = 5j\n",
    "z = -5j\n",
    "\n",
    "print(type(x))\n",
    "print(type(y))\n",
    "print(type(z))"
   ]
  },
  {
   "cell_type": "code",
   "execution_count": 7,
   "id": "af08358e",
   "metadata": {},
   "outputs": [
    {
     "data": {
      "text/plain": [
       "(5+10j)"
      ]
     },
     "execution_count": 7,
     "metadata": {},
     "output_type": "execute_result"
    }
   ],
   "source": [
    "m = 5 + 10j\n",
    "\n",
    "m"
   ]
  },
  {
   "cell_type": "code",
   "execution_count": 8,
   "id": "a2ed7f69",
   "metadata": {},
   "outputs": [
    {
     "data": {
      "text/plain": [
       "5.0"
      ]
     },
     "execution_count": 8,
     "metadata": {},
     "output_type": "execute_result"
    }
   ],
   "source": [
    "# Real Part.\n",
    "\n",
    "m.real"
   ]
  },
  {
   "cell_type": "code",
   "execution_count": 9,
   "id": "f0944a5d",
   "metadata": {},
   "outputs": [
    {
     "data": {
      "text/plain": [
       "10.0"
      ]
     },
     "execution_count": 9,
     "metadata": {},
     "output_type": "execute_result"
    }
   ],
   "source": [
    "# Imaginary Part.\n",
    "\n",
    "m.imag"
   ]
  },
  {
   "cell_type": "code",
   "execution_count": 10,
   "id": "fb9f457e",
   "metadata": {},
   "outputs": [
    {
     "name": "stdout",
     "output_type": "stream",
     "text": [
      "Complex Number: Real Part is =  3.0\n",
      "Complex Number: Imaginary Part is =  6.0\n",
      "Complex Number: conjugate Part =  (3-6j)\n"
     ]
    }
   ],
   "source": [
    "c = (3 + 6j)\n",
    "\n",
    "print('Complex Number: Real Part is = ', c. real)\n",
    "print('Complex Number: Imaginary Part is = ', c. imag)\n",
    "print('Complex Number: conjugate Part = ', c. conjugate())"
   ]
  },
  {
   "cell_type": "code",
   "execution_count": 11,
   "id": "def439a5",
   "metadata": {},
   "outputs": [
    {
     "name": "stdout",
     "output_type": "stream",
     "text": [
      "(7-2j)\n",
      "(3+14j)\n",
      "(58-28j)\n",
      "(-0.5588235294117647+0.7647058823529411j)\n"
     ]
    }
   ],
   "source": [
    "m = 5 + 6j\n",
    "n = 2 - 8j\n",
    "\n",
    "print(m+n)\n",
    "print(m-n)\n",
    "print(m*n)\n",
    "print(m/n)"
   ]
  },
  {
   "cell_type": "markdown",
   "id": "d7c0c7cc",
   "metadata": {},
   "source": [
    "# 2. Complex Function\n",
    "\n",
    "The complex() function returns a complex number by specifying a real number and an imaginary number."
   ]
  },
  {
   "cell_type": "code",
   "execution_count": 12,
   "id": "b7b31ffb",
   "metadata": {},
   "outputs": [
    {
     "data": {
      "text/plain": [
       "(3+5j)"
      ]
     },
     "execution_count": 12,
     "metadata": {},
     "output_type": "execute_result"
    }
   ],
   "source": [
    "# Convert the number 3 and imaginary number 5 into a complex number.\n",
    "\n",
    "x = complex(3, 5)\n",
    "x"
   ]
  },
  {
   "cell_type": "code",
   "execution_count": 13,
   "id": "c94b1aca",
   "metadata": {},
   "outputs": [
    {
     "data": {
      "text/plain": [
       "(3+5j)"
      ]
     },
     "execution_count": 13,
     "metadata": {},
     "output_type": "execute_result"
    }
   ],
   "source": [
    "# Convert a string into a complex number.\n",
    "\n",
    "y = complex('3+5j')\n",
    "y"
   ]
  },
  {
   "cell_type": "markdown",
   "id": "ae610e46",
   "metadata": {},
   "source": [
    "# 3. Type Conversion\n",
    "\n",
    "You can convert from one type to another with the int(), float(), and complex() methods."
   ]
  },
  {
   "cell_type": "code",
   "execution_count": 14,
   "id": "2582dd7c",
   "metadata": {},
   "outputs": [
    {
     "name": "stdout",
     "output_type": "stream",
     "text": [
      "1.0\n",
      "2\n",
      "(1+0j)\n",
      "<class 'float'>\n",
      "<class 'int'>\n",
      "<class 'complex'>\n"
     ]
    }
   ],
   "source": [
    "# Convert from one type to another.\n",
    "\n",
    "x = 1    # int\n",
    "y = 2.8  # float\n",
    "z = 1j   # complex\n",
    "\n",
    "# Convert from int to float.\n",
    "a = float(x)\n",
    "\n",
    "# Convert from float to int.\n",
    "b = int(y)\n",
    "\n",
    "# Convert from int to complex.\n",
    "c = complex(x)\n",
    "\n",
    "print(a)\n",
    "print(b)\n",
    "print(c)\n",
    "\n",
    "print(type(a))\n",
    "print(type(b))\n",
    "print(type(c))"
   ]
  },
  {
   "cell_type": "markdown",
   "id": "4de9a0db",
   "metadata": {},
   "source": [
    "**Note : You cannot convert complex numbers into another number type.**\n",
    "\n",
    "# 4. Random Number\n",
    "\n",
    "Python does not have a random() function to make a random number, but Python has a built-in module called random that can be used to make random numbers."
   ]
  },
  {
   "cell_type": "code",
   "execution_count": 15,
   "id": "8f033dca",
   "metadata": {},
   "outputs": [
    {
     "name": "stdout",
     "output_type": "stream",
     "text": [
      "1\n"
     ]
    }
   ],
   "source": [
    "# Import the random module, and display a random number between 1 and 9.\n",
    "\n",
    "import random\n",
    "\n",
    "print(random.randrange(1, 10))"
   ]
  }
 ],
 "metadata": {
  "kernelspec": {
   "display_name": "Python 3",
   "language": "python",
   "name": "python3"
  },
  "language_info": {
   "codemirror_mode": {
    "name": "ipython",
    "version": 3
   },
   "file_extension": ".py",
   "mimetype": "text/x-python",
   "name": "python",
   "nbconvert_exporter": "python",
   "pygments_lexer": "ipython3",
   "version": "3.8.8"
  }
 },
 "nbformat": 4,
 "nbformat_minor": 5
}
