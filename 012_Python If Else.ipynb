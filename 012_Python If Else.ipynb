{
 "cells": [
  {
   "cell_type": "markdown",
   "id": "d3c11926",
   "metadata": {},
   "source": [
    "## Python Conditions and If Statements"
   ]
  },
  {
   "cell_type": "markdown",
   "id": "f9734a8a",
   "metadata": {},
   "source": [
    "Python supports the usual logical conditions from mathematics.\n",
    "\n",
    "- Equals: a == b\n",
    "- Not Equals: a != b\n",
    "- Less than: a < b\n",
    "- Less than or equal to: a <= b\n",
    "- Greater than: a > b\n",
    "- Greater than or equal to: a >= b\n",
    "\n",
    "These conditions can be used in several ways, most commonly in \"if statements\" and loops.\n",
    "\n",
    "An \"if statement\" is written by using the if keyword."
   ]
  },
  {
   "cell_type": "code",
   "execution_count": 110,
   "id": "bdb36438",
   "metadata": {},
   "outputs": [
    {
     "name": "stdout",
     "output_type": "stream",
     "text": [
      "b is greater than a\n"
     ]
    }
   ],
   "source": [
    "# If statement.\n",
    "\n",
    "a = 33\n",
    "b = 200\n",
    "if b > a:\n",
    "  print(\"b is greater than a\")"
   ]
  },
  {
   "cell_type": "markdown",
   "id": "00755047",
   "metadata": {},
   "source": [
    "In this example we use two variables, a and b, which are used as part of the if statement to test whether b is greater than a. \n",
    "\n",
    "As a is 33, and b is 200, we know that 200 is greater than 33, and so we print to screen that \"b is greater than a\"."
   ]
  },
  {
   "cell_type": "markdown",
   "id": "036a4f56",
   "metadata": {},
   "source": [
    "## Indentation\n",
    "\n",
    "Python relies on indentation (whitespace at the beginning of a line) to define scope in the code. \n",
    "\n",
    "Other programming languages often use curly-brackets for this purpose."
   ]
  },
  {
   "cell_type": "code",
   "execution_count": 111,
   "id": "8711ca56",
   "metadata": {},
   "outputs": [
    {
     "ename": "IndentationError",
     "evalue": "expected an indented block (<ipython-input-111-d13553f5d87b>, line 6)",
     "output_type": "error",
     "traceback": [
      "\u001b[1;36m  File \u001b[1;32m\"<ipython-input-111-d13553f5d87b>\"\u001b[1;36m, line \u001b[1;32m6\u001b[0m\n\u001b[1;33m    print(\"b is greater than a\") # you will get an error\u001b[0m\n\u001b[1;37m    ^\u001b[0m\n\u001b[1;31mIndentationError\u001b[0m\u001b[1;31m:\u001b[0m expected an indented block\n"
     ]
    }
   ],
   "source": [
    "# If statement, without indentation (will raise an error).\n",
    "\n",
    "a = 33\n",
    "b = 200\n",
    "if b > a:\n",
    "print(\"b is greater than a\")  # you will get an error"
   ]
  },
  {
   "cell_type": "markdown",
   "id": "878bdddc",
   "metadata": {},
   "source": [
    "## Elif\n",
    "\n",
    "The elif keyword is pythons way of saying \"if the previous conditions were not true, then try this condition\"."
   ]
  },
  {
   "cell_type": "code",
   "execution_count": 112,
   "id": "66e389cc",
   "metadata": {},
   "outputs": [
    {
     "name": "stdout",
     "output_type": "stream",
     "text": [
      "a and b are equal\n"
     ]
    }
   ],
   "source": [
    "a = 33\n",
    "b = 33\n",
    "if b > a:\n",
    "  print(\"b is greater than a\")\n",
    "elif a == b:\n",
    "  print(\"a and b are equal\")"
   ]
  },
  {
   "cell_type": "markdown",
   "id": "8a372fb1",
   "metadata": {},
   "source": [
    "In this example a is equal to b, so the first condition is not true, but the elif condition is true, so we print to screen that \"a and b are equal\".\n",
    "\n"
   ]
  },
  {
   "cell_type": "markdown",
   "id": "573039cb",
   "metadata": {},
   "source": [
    "## Else\n",
    "\n",
    "The else keyword catches anything which isn't caught by the preceding conditions."
   ]
  },
  {
   "cell_type": "code",
   "execution_count": 113,
   "id": "abe133ab",
   "metadata": {},
   "outputs": [
    {
     "name": "stdout",
     "output_type": "stream",
     "text": [
      "a is greater than b\n"
     ]
    }
   ],
   "source": [
    "a = 200\n",
    "b = 33\n",
    "if b > a:\n",
    "  print(\"b is greater than a\")\n",
    "elif a == b:\n",
    "  print(\"a and b are equal\")\n",
    "else:\n",
    "  print(\"a is greater than b\")"
   ]
  },
  {
   "cell_type": "markdown",
   "id": "ad32091f",
   "metadata": {},
   "source": [
    "In this example a is greater than b, so the first condition is not true, also the elif condition is not true, so we go to the else condition and print to screen that \"a is greater than b\".\n",
    "\n",
    "You can also have an else without the elif."
   ]
  },
  {
   "cell_type": "code",
   "execution_count": 114,
   "id": "bafc283f",
   "metadata": {},
   "outputs": [
    {
     "name": "stdout",
     "output_type": "stream",
     "text": [
      "b is not greater than a\n"
     ]
    }
   ],
   "source": [
    "a = 200\n",
    "b = 33\n",
    "if b > a:\n",
    "  print(\"b is greater than a\")\n",
    "else:\n",
    "  print(\"b is not greater than a\")"
   ]
  },
  {
   "cell_type": "markdown",
   "id": "452cd8b3",
   "metadata": {},
   "source": [
    "## Short Hand If\n",
    "\n",
    "If you have only one statement to execute, you can put it on the same line as the if statement."
   ]
  },
  {
   "cell_type": "code",
   "execution_count": 115,
   "id": "d144620d",
   "metadata": {},
   "outputs": [
    {
     "name": "stdout",
     "output_type": "stream",
     "text": [
      "a is greater than b\n"
     ]
    }
   ],
   "source": [
    "# One line if statement.\n",
    "\n",
    "if a > b: print(\"a is greater than b\")\n"
   ]
  },
  {
   "cell_type": "markdown",
   "id": "b9ea3f8c",
   "metadata": {},
   "source": [
    "## Short Hand If ... Else\n",
    "\n",
    "If you have only one statement to execute, one for if, and one for else, you can put it all on the same line."
   ]
  },
  {
   "cell_type": "code",
   "execution_count": 116,
   "id": "27954d57",
   "metadata": {},
   "outputs": [
    {
     "name": "stdout",
     "output_type": "stream",
     "text": [
      "B\n"
     ]
    }
   ],
   "source": [
    "# One line if else statement.\n",
    "\n",
    "a = 2\n",
    "b = 330\n",
    "print(\"A\") if a > b else print(\"B\")"
   ]
  },
  {
   "cell_type": "markdown",
   "id": "1299e98c",
   "metadata": {},
   "source": [
    "This technique is known as **Ternary Operators, or Conditional Expressions.**\n",
    "\n",
    "You can also have multiple else statements on the same line."
   ]
  },
  {
   "cell_type": "code",
   "execution_count": 117,
   "id": "6513d0ca",
   "metadata": {},
   "outputs": [
    {
     "name": "stdout",
     "output_type": "stream",
     "text": [
      "=\n"
     ]
    }
   ],
   "source": [
    "# One line if else statement, with 3 conditions.\n",
    "\n",
    "a = 330\n",
    "b = 330\n",
    "print(\"A\") if a > b else print(\"=\") if a == b else print(\"B\")"
   ]
  },
  {
   "cell_type": "markdown",
   "id": "0a5a6517",
   "metadata": {},
   "source": [
    "## And\n",
    "\n",
    "The and keyword is a logical operator, and is used to combine conditional statements."
   ]
  },
  {
   "cell_type": "code",
   "execution_count": 118,
   "id": "7ae3a8d7",
   "metadata": {},
   "outputs": [
    {
     "name": "stdout",
     "output_type": "stream",
     "text": [
      "Both conditions are True\n"
     ]
    }
   ],
   "source": [
    "# Test if a is greater than b, and if c is greater than a.\n",
    "\n",
    "a = 200\n",
    "b = 33\n",
    "c = 500\n",
    "if a > b and c > a:\n",
    "  print(\"Both conditions are True\")"
   ]
  },
  {
   "cell_type": "markdown",
   "id": "13da00e2",
   "metadata": {},
   "source": [
    "## Or\n",
    "\n",
    "The or keyword is a logical operator, and is used to combine conditional statements.\n",
    "\n",
    "Test if a is greater than b, OR if a is greater than c."
   ]
  },
  {
   "cell_type": "code",
   "execution_count": 119,
   "id": "4969d6d8",
   "metadata": {},
   "outputs": [
    {
     "name": "stdout",
     "output_type": "stream",
     "text": [
      "At least one of the conditions is True\n"
     ]
    }
   ],
   "source": [
    "a = 200\n",
    "b = 33\n",
    "c = 500\n",
    "if a > b or a > c:\n",
    "  print(\"At least one of the conditions is True\")"
   ]
  },
  {
   "cell_type": "markdown",
   "id": "be0bf616",
   "metadata": {},
   "source": [
    "## Nested If\n",
    "\n",
    "You can have if statements inside if statements, this is called nested if statements."
   ]
  },
  {
   "cell_type": "code",
   "execution_count": 120,
   "id": "c75fba8e",
   "metadata": {},
   "outputs": [
    {
     "name": "stdout",
     "output_type": "stream",
     "text": [
      "Above ten,\n",
      "and also above 20!\n"
     ]
    }
   ],
   "source": [
    "x = 41\n",
    "\n",
    "if x > 10:\n",
    "  print(\"Above ten,\")\n",
    "  if x > 20:\n",
    "    print(\"and also above 20!\")\n",
    "  else:\n",
    "    print(\"but not above 20.\")"
   ]
  },
  {
   "cell_type": "markdown",
   "id": "9f27fbc7",
   "metadata": {},
   "source": [
    "## Pass Statement\n",
    "\n",
    "The pass statement is a null statement. **But the difference between pass and comment is that comment is ignored by the interpreter whereas pass is not ignored.** \n",
    "\n",
    "The pass statement is generally used as a placeholder i.e. when the user does not know what code to write. So user simply places pass at that line. \n",
    "\n",
    "Sometimes, pass is used when the user doesn’t want any code to execute. So user can simply place pass where empty code is not allowed, like in loops, function definitions, class definitions, or in if statements. \n",
    "\n",
    "So using pass statement user avoids this error."
   ]
  },
  {
   "cell_type": "markdown",
   "id": "e381a5df",
   "metadata": {},
   "source": [
    "**Example 1: Pass statement can be used in empty functions.**"
   ]
  },
  {
   "cell_type": "code",
   "execution_count": 105,
   "id": "77c31df4",
   "metadata": {},
   "outputs": [],
   "source": [
    "def geekFunction():\n",
    "  pass"
   ]
  },
  {
   "cell_type": "markdown",
   "id": "f5a0cc2e",
   "metadata": {},
   "source": [
    "**Example 2: Pass statement can also be used in empty class.**"
   ]
  },
  {
   "cell_type": "code",
   "execution_count": 106,
   "id": "670f184c",
   "metadata": {},
   "outputs": [],
   "source": [
    "class geekClass:\n",
    "  pass"
   ]
  },
  {
   "cell_type": "markdown",
   "id": "d7086773",
   "metadata": {},
   "source": [
    "**Example 3: Pass statement can be used in for loop when user doesn’t know what to code inside the loop.**"
   ]
  },
  {
   "cell_type": "code",
   "execution_count": 107,
   "id": "12ddac89",
   "metadata": {},
   "outputs": [],
   "source": [
    "n = 10\n",
    "for i in range(n):\n",
    "   \n",
    "  # pass can be used as placeholder\n",
    "  # when code is to added later\n",
    "  pass"
   ]
  },
  {
   "cell_type": "markdown",
   "id": "29b8b8ff",
   "metadata": {},
   "source": [
    "**Example 4: Pass statement can be used with conditional statements.** "
   ]
  },
  {
   "cell_type": "code",
   "execution_count": 108,
   "id": "a2dbaa3f",
   "metadata": {},
   "outputs": [],
   "source": [
    "a = 10\n",
    "b = 20\n",
    " \n",
    "if(a<b):\n",
    "  pass\n",
    "else:\n",
    "  print(\"b<a\")"
   ]
  },
  {
   "cell_type": "markdown",
   "id": "c88a5bdb",
   "metadata": {},
   "source": [
    "**Example 5: Let us take another example in which the pass statement get executed when the condition is true.**"
   ]
  },
  {
   "cell_type": "code",
   "execution_count": 109,
   "id": "b20e7f1e",
   "metadata": {},
   "outputs": [
    {
     "name": "stdout",
     "output_type": "stream",
     "text": [
      "b\n",
      "c\n",
      "d\n"
     ]
    }
   ],
   "source": [
    "li =['a', 'b', 'c', 'd']\n",
    " \n",
    "for i in li:\n",
    "    if(i =='a'):\n",
    "        pass\n",
    "    else:\n",
    "        print(i)"
   ]
  },
  {
   "cell_type": "markdown",
   "id": "223519f4",
   "metadata": {},
   "source": [
    "## Practice"
   ]
  },
  {
   "cell_type": "code",
   "execution_count": 124,
   "id": "dcf18546",
   "metadata": {},
   "outputs": [
    {
     "name": "stdout",
     "output_type": "stream",
     "text": [
      "Enter your salary:10\n",
      "Buy a cycle!\n"
     ]
    }
   ],
   "source": [
    "sal = int(input(\"Enter your salary:\"))\n",
    "\n",
    "if sal > 150000:\n",
    "    print(\"Buy a Tata Harrier!\")\n",
    "elif sal > 100000:\n",
    "    print(\"Buy an Innova!\")\n",
    "elif sal > 50000:\n",
    "  print(\"Buy a bike!\")\n",
    "else:\n",
    "  print(\"Buy a cycle!\")"
   ]
  },
  {
   "cell_type": "code",
   "execution_count": 125,
   "id": "63606612",
   "metadata": {},
   "outputs": [
    {
     "name": "stdout",
     "output_type": "stream",
     "text": [
      "Enter your salary:50001\n",
      "Buy a bike!\n"
     ]
    }
   ],
   "source": [
    "sal = int(input(\"Enter your salary:\"))\n",
    "\n",
    "if sal > 150000:\n",
    "    print(\"Buy a Tata Harrier!\")\n",
    "elif sal > 100000:\n",
    "    print(\"Buy an Innova!\")\n",
    "elif sal > 50000:\n",
    "  print(\"Buy a bike!\")\n",
    "else:\n",
    "  print(\"Buy a cycle!\")"
   ]
  },
  {
   "cell_type": "code",
   "execution_count": 127,
   "id": "881f0521",
   "metadata": {},
   "outputs": [
    {
     "name": "stdout",
     "output_type": "stream",
     "text": [
      "Enter your salary:100000\n",
      "Buy a bike!\n"
     ]
    }
   ],
   "source": [
    "sal = int(input(\"Enter your salary:\"))\n",
    "\n",
    "if sal > 150000:\n",
    "    print(\"Buy a Tata Harrier!\")\n",
    "elif sal > 100000:\n",
    "    print(\"Buy an Innova!\")\n",
    "elif sal > 50000:\n",
    "  print(\"Buy a bike!\")\n",
    "else:\n",
    "  print(\"Buy a cycle!\")"
   ]
  },
  {
   "cell_type": "code",
   "execution_count": 128,
   "id": "431ad92a",
   "metadata": {},
   "outputs": [
    {
     "name": "stdout",
     "output_type": "stream",
     "text": [
      "Enter your salary:100001\n",
      "Buy an Innova!\n"
     ]
    }
   ],
   "source": [
    "sal = int(input(\"Enter your salary:\"))\n",
    "\n",
    "if sal > 150000:\n",
    "    print(\"Buy a Tata Harrier!\")\n",
    "elif sal > 100000:\n",
    "    print(\"Buy an Innova!\")\n",
    "elif sal > 50000:\n",
    "  print(\"Buy a bike!\")\n",
    "else:\n",
    "  print(\"Buy a cycle!\")"
   ]
  },
  {
   "cell_type": "code",
   "execution_count": 129,
   "id": "a2a69918",
   "metadata": {},
   "outputs": [
    {
     "name": "stdout",
     "output_type": "stream",
     "text": [
      "Enter your salary:150001\n",
      "Buy a Tata Harrier!\n"
     ]
    }
   ],
   "source": [
    "sal = int(input(\"Enter your salary:\"))\n",
    "\n",
    "if sal > 150000:\n",
    "    print(\"Buy a Tata Harrier!\")\n",
    "elif sal > 100000:\n",
    "    print(\"Buy an Innova!\")\n",
    "elif sal > 50000:\n",
    "  print(\"Buy a bike!\")\n",
    "else:\n",
    "  print(\"Buy a cycle!\")"
   ]
  },
  {
   "cell_type": "markdown",
   "id": "32d44687",
   "metadata": {},
   "source": [
    "## Practice"
   ]
  },
  {
   "cell_type": "code",
   "execution_count": 130,
   "id": "bd44fe6c",
   "metadata": {},
   "outputs": [
    {
     "name": "stdout",
     "output_type": "stream",
     "text": [
      "This is a valid condition.\n"
     ]
    }
   ],
   "source": [
    "a , b = 10 , 20\n",
    "\n",
    "# True and True evaluates to True.\n",
    "\n",
    "if a == 10 and b == 20:\n",
    "  print(\"This is a valid condition.\")"
   ]
  },
  {
   "cell_type": "code",
   "execution_count": 131,
   "id": "a02cf343",
   "metadata": {},
   "outputs": [],
   "source": [
    "a , b = 10 , 20\n",
    "\n",
    "# False and True evaluates to False.\n",
    "\n",
    "if a == 11 and b == 20:\n",
    "  print(\"This is a valid condition.\")"
   ]
  },
  {
   "cell_type": "code",
   "execution_count": 132,
   "id": "60f26b0d",
   "metadata": {},
   "outputs": [
    {
     "data": {
      "text/plain": [
       "False"
      ]
     },
     "execution_count": 132,
     "metadata": {},
     "output_type": "execute_result"
    }
   ],
   "source": [
    "# This will return False.\n",
    "\n",
    "a == 11"
   ]
  },
  {
   "cell_type": "code",
   "execution_count": 133,
   "id": "da41b95d",
   "metadata": {},
   "outputs": [
    {
     "data": {
      "text/plain": [
       "True"
      ]
     },
     "execution_count": 133,
     "metadata": {},
     "output_type": "execute_result"
    }
   ],
   "source": [
    "# This will return True.\n",
    "\n",
    "b == 20"
   ]
  },
  {
   "cell_type": "code",
   "execution_count": 136,
   "id": "a5e6bfd4",
   "metadata": {},
   "outputs": [
    {
     "data": {
      "text/plain": [
       "False"
      ]
     },
     "execution_count": 136,
     "metadata": {},
     "output_type": "execute_result"
    }
   ],
   "source": [
    "# False and True.\n",
    "\n",
    "a == 11 and b == 20"
   ]
  },
  {
   "cell_type": "code",
   "execution_count": 134,
   "id": "09533288",
   "metadata": {},
   "outputs": [
    {
     "data": {
      "text/plain": [
       "True"
      ]
     },
     "execution_count": 134,
     "metadata": {},
     "output_type": "execute_result"
    }
   ],
   "source": [
    "# True\n",
    "\n",
    "a == 10"
   ]
  },
  {
   "cell_type": "code",
   "execution_count": 135,
   "id": "0a0c6298",
   "metadata": {},
   "outputs": [
    {
     "data": {
      "text/plain": [
       "False"
      ]
     },
     "execution_count": 135,
     "metadata": {},
     "output_type": "execute_result"
    }
   ],
   "source": [
    "# False\n",
    "\n",
    "b == 21"
   ]
  },
  {
   "cell_type": "code",
   "execution_count": 137,
   "id": "59d4171c",
   "metadata": {},
   "outputs": [],
   "source": [
    "# True and False.\n",
    "\n",
    "if a == 10 and b > 20:\n",
    "  print(\"Hello!\")"
   ]
  },
  {
   "cell_type": "code",
   "execution_count": 138,
   "id": "4910598c",
   "metadata": {},
   "outputs": [
    {
     "name": "stdout",
     "output_type": "stream",
     "text": [
      "Hello!\n"
     ]
    }
   ],
   "source": [
    "# True and True.\n",
    "\n",
    "if a == 10 and b > 19:\n",
    "  print(\"Hello!\")"
   ]
  },
  {
   "cell_type": "markdown",
   "id": "9c4b30dd",
   "metadata": {},
   "source": [
    "## Question\n",
    "\n",
    "- Take the first and last name as input from the user and validate it."
   ]
  },
  {
   "cell_type": "code",
   "execution_count": 140,
   "id": "9a7a9fbb",
   "metadata": {},
   "outputs": [
    {
     "name": "stdout",
     "output_type": "stream",
     "text": [
      "Enter first name: SIDDHARTH\n",
      "Enter last name: swain\n",
      "Your name is correct.\n"
     ]
    }
   ],
   "source": [
    "fname = input(\"Enter first name: \")\n",
    "lname = input(\"Enter last name: \")\n",
    "if fname.lower() == \"siddharth\" and lname.lower() == \"swain\":\n",
    "  print(\"Your name is correct.\")\n",
    "else:\n",
    "  print(\"Your name is incorrect.\")"
   ]
  }
 ],
 "metadata": {
  "kernelspec": {
   "display_name": "Python 3",
   "language": "python",
   "name": "python3"
  },
  "language_info": {
   "codemirror_mode": {
    "name": "ipython",
    "version": 3
   },
   "file_extension": ".py",
   "mimetype": "text/x-python",
   "name": "python",
   "nbconvert_exporter": "python",
   "pygments_lexer": "ipython3",
   "version": "3.8.8"
  }
 },
 "nbformat": 4,
 "nbformat_minor": 5
}
