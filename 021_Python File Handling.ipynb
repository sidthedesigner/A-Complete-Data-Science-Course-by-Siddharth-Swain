{
 "cells": [
  {
   "cell_type": "markdown",
   "id": "da3bfbbb",
   "metadata": {
    "id": "98dwuaHQX95b"
   },
   "source": [
    "# 1. File Handling \n",
    "\n",
    "File handling is an important part of any web application.\n",
    "\n",
    "Python has several functions for creating, reading, updating, and deleting files.\n",
    "\n",
    "The key function for working with files in Python is the open() function.\n",
    "\n",
    "The open() function takes two parameters; filename, and mode.\n",
    "\n",
    "There are four different methods (modes) for opening a file.\n",
    "\n",
    "**\"r\"** - Read - Default value. Opens a file for reading, error if the file does not exist\n",
    "\n",
    "**\"a\"** - Append - Opens a file for appending, creates the file if it does not exist\n",
    "\n",
    "**\"w\"** - Write - Opens a file for writing, creates the file if it does not exist\n",
    "\n",
    "**\"x\"** - Create - Creates the specified file, returns an error if the file exists\n",
    "\n",
    "In addition you can specify if the file should be handled as binary or text mode\n",
    "\n",
    "**\"t\"** - Text - Default value. Text mode\n",
    "\n",
    "**\"b\"** - Binary - Binary mode (e.g. images)"
   ]
  },
  {
   "cell_type": "markdown",
   "id": "176e9c7a",
   "metadata": {},
   "source": [
    "**Syntax :**\n",
    "\n",
    "To open a file for reading it is enough to specify the name of the file :\n",
    "\n",
    "f = open(\"demofile.txt\")\n",
    "\n",
    "The code above is the same as :\n",
    "\n",
    "f = open(\"demofile.txt\", \"rt\")\n",
    "\n",
    "Because \"r\" for read, and \"t\" for text are the default values, you do not need to specify them.\n",
    "\n",
    "**Note: Make sure the file exists, or else you will get an error.**"
   ]
  },
  {
   "cell_type": "markdown",
   "id": "5e082426",
   "metadata": {},
   "source": [
    "# 2. File Open\n",
    "\n",
    "## 2.1 Open a File on the Server\n",
    "\n",
    "Assume we have the following file, located in the same folder as Python:\n",
    "\n",
    "- demofile.txt\n",
    "\n",
    "Hello! Welcome to demofile.txt\n",
    "This file is for testing purposes.\n",
    "Good Luck!"
   ]
  },
  {
   "cell_type": "markdown",
   "id": "a5ddcda5",
   "metadata": {},
   "source": [
    "To open the file, use the built-in open() function.\n",
    "\n",
    "The open() function returns a file object, which has a read() method for reading the content of the file."
   ]
  },
  {
   "cell_type": "code",
   "execution_count": null,
   "id": "6813c460",
   "metadata": {},
   "outputs": [],
   "source": [
    "f = open(\"demofile.txt\", \"r\")\n",
    "\n",
    "print(f.read())"
   ]
  },
  {
   "cell_type": "markdown",
   "id": "160d3514",
   "metadata": {},
   "source": [
    "If the file is located in a different location, you will have to specify the file path, like this."
   ]
  },
  {
   "cell_type": "code",
   "execution_count": null,
   "id": "186a5acf",
   "metadata": {},
   "outputs": [],
   "source": [
    "# Open a file on a different location.\n",
    "\n",
    "f = open(\"D:\\\\myfiles\\welcome.txt\", \"r\")\n",
    "\n",
    "print(f.read())"
   ]
  },
  {
   "cell_type": "markdown",
   "id": "db8e0310",
   "metadata": {},
   "source": [
    "## 2.2 Read Only Parts of the File\n",
    "\n",
    "By default the read() method returns the whole text, but you can also specify how many characters you want to return."
   ]
  },
  {
   "cell_type": "code",
   "execution_count": null,
   "id": "c7aa8f23",
   "metadata": {},
   "outputs": [],
   "source": [
    "# Return the 5 first characters of the file.\n",
    "\n",
    "f = open(\"demofile.txt\", \"r\")\n",
    "\n",
    "print(f.read(5))"
   ]
  },
  {
   "cell_type": "markdown",
   "id": "ec5a0d65",
   "metadata": {},
   "source": [
    "## 2.3 Read Lines\n",
    "\n",
    "You can return one line by using the readline() method."
   ]
  },
  {
   "cell_type": "code",
   "execution_count": null,
   "id": "2ad68e2c",
   "metadata": {},
   "outputs": [],
   "source": [
    "# Read one line of the file.\n",
    "\n",
    "f = open(\"demofile.txt\", \"r\")\n",
    "\n",
    "print(f.readline())"
   ]
  },
  {
   "cell_type": "markdown",
   "id": "09576ec4",
   "metadata": {},
   "source": [
    "By calling readline() two times, you can read the two first lines."
   ]
  },
  {
   "cell_type": "code",
   "execution_count": null,
   "id": "411f2512",
   "metadata": {},
   "outputs": [],
   "source": [
    "# Read two lines of the file.\n",
    "\n",
    "f = open(\"demofile.txt\", \"r\")\n",
    "\n",
    "print(f.readline())\n",
    "\n",
    "print(f.readline())"
   ]
  },
  {
   "cell_type": "markdown",
   "id": "c281f031",
   "metadata": {},
   "source": [
    "By looping through the lines of the file, you can read the whole file, line by line."
   ]
  },
  {
   "cell_type": "code",
   "execution_count": null,
   "id": "f461e940",
   "metadata": {},
   "outputs": [],
   "source": [
    "# Loop through the file line by line.\n",
    "\n",
    "f = open(\"demofile.txt\", \"r\")\n",
    "\n",
    "for x in f:\n",
    "  print(x)"
   ]
  },
  {
   "cell_type": "markdown",
   "id": "62dbc564",
   "metadata": {},
   "source": [
    "## 2.4 Close Files\n",
    "\n",
    "It is a good practice to always close the file when you are done with it."
   ]
  },
  {
   "cell_type": "code",
   "execution_count": null,
   "id": "be7f884f",
   "metadata": {},
   "outputs": [],
   "source": [
    "# Close the file when you are finish with it.\n",
    "\n",
    "f = open(\"demofile.txt\", \"r\")\n",
    "\n",
    "print(f.readline())\n",
    "\n",
    "f.close()"
   ]
  },
  {
   "cell_type": "markdown",
   "id": "79364146",
   "metadata": {},
   "source": [
    "**Note :** You should always close your files, in some cases, due to buffering, changes made to a file may not show until you close the file."
   ]
  },
  {
   "cell_type": "markdown",
   "id": "8ab6ecd2",
   "metadata": {},
   "source": [
    "# 3. File Write\n",
    "\n",
    "## 3.1 Write to an Existing File\n",
    "\n",
    "To write to an existing file, you must add a parameter to the open() function.\n",
    "\n",
    "\"a\" - Append - will append to the end of the file\n",
    "\n",
    "\"w\" - Write - will overwrite any existing content\n",
    "\n",
    "**Example: **"
   ]
  },
  {
   "cell_type": "code",
   "execution_count": 119,
   "id": "7ab12eb7",
   "metadata": {},
   "outputs": [
    {
     "name": "stdout",
     "output_type": "stream",
     "text": [
      "Now the file has more content!\n"
     ]
    }
   ],
   "source": [
    "# Open the file \"demofile2.txt\" and append content to the file.\n",
    "\n",
    "f = open(\"demofile2.txt\", \"a\")\n",
    "\n",
    "f.write(\"Now the file has more content!\")\n",
    "\n",
    "f.close()\n",
    "\n",
    "# Open and read the file after the appending.\n",
    "\n",
    "f = open(\"demofile2.txt\", \"r\")\n",
    "\n",
    "print(f.read())"
   ]
  },
  {
   "cell_type": "code",
   "execution_count": 120,
   "id": "aa5aa709",
   "metadata": {},
   "outputs": [
    {
     "name": "stdout",
     "output_type": "stream",
     "text": [
      "Woops! I have deleted the content!\n"
     ]
    }
   ],
   "source": [
    "# Open the file \"demofile3.txt\" and overwrite the content.\n",
    "\n",
    "f = open(\"demofile3.txt\", \"w\")\n",
    "\n",
    "f.write(\"Woops! I have deleted the content!\")\n",
    "\n",
    "f.close()\n",
    "\n",
    "# Open and read the file after the appending.\n",
    "\n",
    "f = open(\"demofile3.txt\", \"r\")\n",
    "\n",
    "print(f.read())"
   ]
  },
  {
   "cell_type": "markdown",
   "id": "b75b0d4d",
   "metadata": {},
   "source": [
    "Note: the \"w\" method will overwrite the entire file.\n",
    "\n",
    "## 3.2 Create a New File\n",
    "\n",
    "To create a new file in Python, use the open() method, with one of the following parameters.\n",
    "\n",
    "\"x\" - Create - will create a file, returns an error if the file exist\n",
    "\n",
    "\"a\" - Append - will create a file if the specified file does not exist\n",
    "\n",
    "\"w\" - Write - will create a file if the specified file does not exist\n",
    "\n",
    "**Example :**"
   ]
  },
  {
   "cell_type": "code",
   "execution_count": 121,
   "id": "e3fa3829",
   "metadata": {},
   "outputs": [
    {
     "ename": "SyntaxError",
     "evalue": "invalid syntax (<ipython-input-121-17899966afc8>, line 5)",
     "output_type": "error",
     "traceback": [
      "\u001b[1;36m  File \u001b[1;32m\"<ipython-input-121-17899966afc8>\"\u001b[1;36m, line \u001b[1;32m5\u001b[0m\n\u001b[1;33m    Result: a new empty file is created!\u001b[0m\n\u001b[1;37m              ^\u001b[0m\n\u001b[1;31mSyntaxError\u001b[0m\u001b[1;31m:\u001b[0m invalid syntax\n"
     ]
    }
   ],
   "source": [
    "# Create a file called \"myfile.txt\".\n",
    "\n",
    "f = open(\"myfile.txt\", \"x\")\n",
    "\n",
    "# Result: a new empty file is created!"
   ]
  },
  {
   "cell_type": "code",
   "execution_count": 122,
   "id": "397f3873",
   "metadata": {},
   "outputs": [],
   "source": [
    "# Create a new file if it does not exist.\n",
    "\n",
    "f = open(\"myfile.txt\", \"w\")"
   ]
  },
  {
   "cell_type": "markdown",
   "id": "a6b89eb0",
   "metadata": {},
   "source": [
    "# 4. Delete Files\n",
    "\n",
    "## 4.1 Delete a File\n",
    "\n",
    "To delete a file, you must import the OS module, and run its os.remove() function.\n",
    "\n",
    "**Example :**"
   ]
  },
  {
   "cell_type": "code",
   "execution_count": 123,
   "id": "badea054",
   "metadata": {},
   "outputs": [
    {
     "ename": "FileNotFoundError",
     "evalue": "[WinError 2] The system cannot find the file specified: 'demofile.txt'",
     "output_type": "error",
     "traceback": [
      "\u001b[1;31m---------------------------------------------------------------------------\u001b[0m",
      "\u001b[1;31mFileNotFoundError\u001b[0m                         Traceback (most recent call last)",
      "\u001b[1;32m<ipython-input-123-5ef3d5724ba4>\u001b[0m in \u001b[0;36m<module>\u001b[1;34m\u001b[0m\n\u001b[0;32m      2\u001b[0m \u001b[1;33m\u001b[0m\u001b[0m\n\u001b[0;32m      3\u001b[0m \u001b[1;32mimport\u001b[0m \u001b[0mos\u001b[0m\u001b[1;33m\u001b[0m\u001b[1;33m\u001b[0m\u001b[0m\n\u001b[1;32m----> 4\u001b[1;33m \u001b[0mos\u001b[0m\u001b[1;33m.\u001b[0m\u001b[0mremove\u001b[0m\u001b[1;33m(\u001b[0m\u001b[1;34m\"demofile.txt\"\u001b[0m\u001b[1;33m)\u001b[0m\u001b[1;33m\u001b[0m\u001b[1;33m\u001b[0m\u001b[0m\n\u001b[0m",
      "\u001b[1;31mFileNotFoundError\u001b[0m: [WinError 2] The system cannot find the file specified: 'demofile.txt'"
     ]
    }
   ],
   "source": [
    "# Remove the file \"demofile.txt\".\n",
    "\n",
    "import os\n",
    "\n",
    "os.remove(\"demofile.txt\")"
   ]
  },
  {
   "cell_type": "markdown",
   "id": "5c4ab656",
   "metadata": {},
   "source": [
    "## 4.2 Check if File Exists\n",
    "\n",
    "To avoid getting an error, you might want to check if the file exists before you try to delete it.\n",
    "\n",
    "**Example :**"
   ]
  },
  {
   "cell_type": "code",
   "execution_count": 124,
   "id": "ac8d2fbc",
   "metadata": {},
   "outputs": [
    {
     "name": "stdout",
     "output_type": "stream",
     "text": [
      "The file does not exist\n"
     ]
    }
   ],
   "source": [
    "# Check if file exists, then delete it.\n",
    "\n",
    "import os\n",
    "\n",
    "if os.path.exists(\"demofile.txt\"):\n",
    "  os.remove(\"demofile.txt\")\n",
    "else:\n",
    "  print(\"The file does not exist\")"
   ]
  },
  {
   "cell_type": "markdown",
   "id": "8d73f0d5",
   "metadata": {},
   "source": [
    "## 4.3 Delete Folder\n",
    "\n",
    "To delete an entire folder, use the os.rmdir() method.\n",
    "\n",
    "**Example :**"
   ]
  },
  {
   "cell_type": "code",
   "execution_count": 125,
   "id": "5240bca0",
   "metadata": {},
   "outputs": [
    {
     "ename": "FileNotFoundError",
     "evalue": "[WinError 2] The system cannot find the file specified: 'myfolder'",
     "output_type": "error",
     "traceback": [
      "\u001b[1;31m---------------------------------------------------------------------------\u001b[0m",
      "\u001b[1;31mFileNotFoundError\u001b[0m                         Traceback (most recent call last)",
      "\u001b[1;32m<ipython-input-125-918c2eb56a3b>\u001b[0m in \u001b[0;36m<module>\u001b[1;34m\u001b[0m\n\u001b[0;32m      2\u001b[0m \u001b[1;33m\u001b[0m\u001b[0m\n\u001b[0;32m      3\u001b[0m \u001b[1;32mimport\u001b[0m \u001b[0mos\u001b[0m\u001b[1;33m\u001b[0m\u001b[1;33m\u001b[0m\u001b[0m\n\u001b[1;32m----> 4\u001b[1;33m \u001b[0mos\u001b[0m\u001b[1;33m.\u001b[0m\u001b[0mrmdir\u001b[0m\u001b[1;33m(\u001b[0m\u001b[1;34m\"myfolder\"\u001b[0m\u001b[1;33m)\u001b[0m\u001b[1;33m\u001b[0m\u001b[1;33m\u001b[0m\u001b[0m\n\u001b[0m\u001b[0;32m      5\u001b[0m \u001b[1;33m\u001b[0m\u001b[0m\n\u001b[0;32m      6\u001b[0m \u001b[1;31m# Note: You can only remove empty folders.\u001b[0m\u001b[1;33m\u001b[0m\u001b[1;33m\u001b[0m\u001b[1;33m\u001b[0m\u001b[0m\n",
      "\u001b[1;31mFileNotFoundError\u001b[0m: [WinError 2] The system cannot find the file specified: 'myfolder'"
     ]
    }
   ],
   "source": [
    "# Remove the folder \"myfolder\".\n",
    "\n",
    "import os\n",
    "\n",
    "os.rmdir(\"myfolder\")\n",
    "\n",
    "# Note: You can only remove empty folders."
   ]
  },
  {
   "cell_type": "markdown",
   "id": "d7c50067",
   "metadata": {},
   "source": [
    "## Practice"
   ]
  },
  {
   "cell_type": "code",
   "execution_count": 126,
   "id": "5e2dc87b",
   "metadata": {},
   "outputs": [],
   "source": [
    "import os\n",
    "os.chdir('D:\\\\INEURON\\\\Jupyter Notebooks\\\\Test')"
   ]
  },
  {
   "cell_type": "code",
   "execution_count": 127,
   "id": "dcc9c71b",
   "metadata": {},
   "outputs": [
    {
     "name": "stdout",
     "output_type": "stream",
     "text": [
      " Volume in drive D is Data\n",
      " Volume Serial Number is F011-FDD9\n",
      "\n",
      " Directory of D:\\INEURON\\Jupyter Notebooks\\Test\n",
      "\n",
      "02/22/2022  12:54 PM    <DIR>          .\n",
      "02/22/2022  12:54 PM    <DIR>          ..\n",
      "               0 File(s)              0 bytes\n",
      "               2 Dir(s)  586,519,175,168 bytes free\n"
     ]
    }
   ],
   "source": [
    "ls"
   ]
  },
  {
   "cell_type": "code",
   "execution_count": 128,
   "id": "dfbf86d7",
   "metadata": {
    "executionInfo": {
     "elapsed": 389,
     "status": "ok",
     "timestamp": 1627277637595,
     "user": {
      "displayName": "Siddharth Swain",
      "photoUrl": "",
      "userId": "12055456511825659152"
     },
     "user_tz": -330
    },
    "id": "yfWeFpQw45gX"
   },
   "outputs": [],
   "source": [
    "f = open(\"test.txt\",\"w\")"
   ]
  },
  {
   "cell_type": "code",
   "execution_count": 129,
   "id": "b6230f29",
   "metadata": {
    "colab": {
     "base_uri": "https://localhost:8080/"
    },
    "executionInfo": {
     "elapsed": 3,
     "status": "ok",
     "timestamp": 1627277638906,
     "user": {
      "displayName": "Siddharth Swain",
      "photoUrl": "",
      "userId": "12055456511825659152"
     },
     "user_tz": -330
    },
    "id": "9dWDqhTj5IEf",
    "outputId": "ba09f0db-af29-4eff-ebb7-cd886bdefde1"
   },
   "outputs": [
    {
     "data": {
      "text/plain": [
       "55"
      ]
     },
     "execution_count": 129,
     "metadata": {},
     "output_type": "execute_result"
    }
   ],
   "source": [
    "f.write(\"fsfsfsfsfsfsf fdfdfdfdfdfd dfdfdfdf ddfdf dfdfd fdfd fd\")"
   ]
  },
  {
   "cell_type": "code",
   "execution_count": 130,
   "id": "780d245f",
   "metadata": {
    "executionInfo": {
     "elapsed": 2,
     "status": "ok",
     "timestamp": 1627277640502,
     "user": {
      "displayName": "Siddharth Swain",
      "photoUrl": "",
      "userId": "12055456511825659152"
     },
     "user_tz": -330
    },
    "id": "RDZ0XZFy5oRP"
   },
   "outputs": [],
   "source": [
    "f.close()"
   ]
  },
  {
   "cell_type": "code",
   "execution_count": 131,
   "id": "48cf8f72",
   "metadata": {
    "executionInfo": {
     "elapsed": 2,
     "status": "ok",
     "timestamp": 1627277641908,
     "user": {
      "displayName": "Siddharth Swain",
      "photoUrl": "",
      "userId": "12055456511825659152"
     },
     "user_tz": -330
    },
    "id": "jG2RkkLV6BVm"
   },
   "outputs": [],
   "source": [
    "f = open(\"test.txt\")"
   ]
  },
  {
   "cell_type": "code",
   "execution_count": 132,
   "id": "d991464e",
   "metadata": {
    "colab": {
     "base_uri": "https://localhost:8080/",
     "height": 35
    },
    "executionInfo": {
     "elapsed": 4,
     "status": "ok",
     "timestamp": 1627277643274,
     "user": {
      "displayName": "Siddharth Swain",
      "photoUrl": "",
      "userId": "12055456511825659152"
     },
     "user_tz": -330
    },
    "id": "CIN9xvnZLnB3",
    "outputId": "0105f80f-95d2-4c3b-9d3a-71ae4b6baece"
   },
   "outputs": [
    {
     "data": {
      "text/plain": [
       "'fsfsfsfsfsfsf fdfdfdfdfdfd dfdfdfdf ddfdf dfdfd fdfd fd'"
      ]
     },
     "execution_count": 132,
     "metadata": {},
     "output_type": "execute_result"
    }
   ],
   "source": [
    "f.read()"
   ]
  },
  {
   "cell_type": "code",
   "execution_count": 133,
   "id": "95c5bd55",
   "metadata": {
    "colab": {
     "base_uri": "https://localhost:8080/",
     "height": 35
    },
    "executionInfo": {
     "elapsed": 399,
     "status": "ok",
     "timestamp": 1627277649593,
     "user": {
      "displayName": "Siddharth Swain",
      "photoUrl": "",
      "userId": "12055456511825659152"
     },
     "user_tz": -330
    },
    "id": "1L0hpQZ7Lnzv",
    "outputId": "0e9ef43e-8869-4aae-a1c9-b848711b3e90"
   },
   "outputs": [
    {
     "data": {
      "text/plain": [
       "''"
      ]
     },
     "execution_count": 133,
     "metadata": {},
     "output_type": "execute_result"
    }
   ],
   "source": [
    "f.read()"
   ]
  },
  {
   "cell_type": "code",
   "execution_count": 134,
   "id": "43145693",
   "metadata": {
    "colab": {
     "base_uri": "https://localhost:8080/"
    },
    "executionInfo": {
     "elapsed": 367,
     "status": "ok",
     "timestamp": 1627277669073,
     "user": {
      "displayName": "Siddharth Swain",
      "photoUrl": "",
      "userId": "12055456511825659152"
     },
     "user_tz": -330
    },
    "id": "t-GFw0xRTmIk",
    "outputId": "6358af34-f0b3-4e98-d2d6-4610a6f456b3"
   },
   "outputs": [
    {
     "data": {
      "text/plain": [
       "10"
      ]
     },
     "execution_count": 134,
     "metadata": {},
     "output_type": "execute_result"
    }
   ],
   "source": [
    "f.seek(10)"
   ]
  },
  {
   "cell_type": "code",
   "execution_count": 135,
   "id": "f329d73c",
   "metadata": {
    "colab": {
     "base_uri": "https://localhost:8080/",
     "height": 35
    },
    "executionInfo": {
     "elapsed": 5,
     "status": "ok",
     "timestamp": 1627277671968,
     "user": {
      "displayName": "Siddharth Swain",
      "photoUrl": "",
      "userId": "12055456511825659152"
     },
     "user_tz": -330
    },
    "id": "43-XIxArTq7j",
    "outputId": "d7a366ef-8ced-414a-fe9a-cb86afe8af0f"
   },
   "outputs": [
    {
     "data": {
      "text/plain": [
       "'fsf fdfdfdfdfdfd dfdfdfdf ddfdf dfdfd fdfd fd'"
      ]
     },
     "execution_count": 135,
     "metadata": {},
     "output_type": "execute_result"
    }
   ],
   "source": [
    "f.read()"
   ]
  },
  {
   "cell_type": "code",
   "execution_count": 136,
   "id": "e7b4a3ae",
   "metadata": {
    "colab": {
     "base_uri": "https://localhost:8080/"
    },
    "executionInfo": {
     "elapsed": 371,
     "status": "ok",
     "timestamp": 1627277677497,
     "user": {
      "displayName": "Siddharth Swain",
      "photoUrl": "",
      "userId": "12055456511825659152"
     },
     "user_tz": -330
    },
    "id": "BTZOyoOeTrk0",
    "outputId": "29a8ad08-20e8-4e8e-e93b-565bfd8db4ca"
   },
   "outputs": [
    {
     "data": {
      "text/plain": [
       "0"
      ]
     },
     "execution_count": 136,
     "metadata": {},
     "output_type": "execute_result"
    }
   ],
   "source": [
    "f.seek(0)"
   ]
  },
  {
   "cell_type": "code",
   "execution_count": 137,
   "id": "e83bae1c",
   "metadata": {
    "colab": {
     "base_uri": "https://localhost:8080/",
     "height": 35
    },
    "executionInfo": {
     "elapsed": 371,
     "status": "ok",
     "timestamp": 1627277679881,
     "user": {
      "displayName": "Siddharth Swain",
      "photoUrl": "",
      "userId": "12055456511825659152"
     },
     "user_tz": -330
    },
    "id": "b11zeO9iTs6z",
    "outputId": "6f2076b6-b4ca-4eee-d9c6-fc2c8a3f95db"
   },
   "outputs": [
    {
     "data": {
      "text/plain": [
       "'fsfsfsfsfsfsf fdfdfdfdfdfd dfdfdfdf ddfdf dfdfd fdfd fd'"
      ]
     },
     "execution_count": 137,
     "metadata": {},
     "output_type": "execute_result"
    }
   ],
   "source": [
    "f.read()"
   ]
  },
  {
   "cell_type": "code",
   "execution_count": 138,
   "id": "1348663f",
   "metadata": {
    "executionInfo": {
     "elapsed": 3,
     "status": "ok",
     "timestamp": 1627277844655,
     "user": {
      "displayName": "Siddharth Swain",
      "photoUrl": "",
      "userId": "12055456511825659152"
     },
     "user_tz": -330
    },
    "id": "SmHPQN22Ttht"
   },
   "outputs": [],
   "source": [
    "f.close()"
   ]
  },
  {
   "cell_type": "code",
   "execution_count": 139,
   "id": "02f1eae2",
   "metadata": {
    "executionInfo": {
     "elapsed": 538,
     "status": "ok",
     "timestamp": 1627278118941,
     "user": {
      "displayName": "Siddharth Swain",
      "photoUrl": "",
      "userId": "12055456511825659152"
     },
     "user_tz": -330
    },
    "id": "l9wM2uUYUVyb"
   },
   "outputs": [],
   "source": [
    "f = open(\"test.txt\",\"r\")"
   ]
  },
  {
   "cell_type": "code",
   "execution_count": 140,
   "id": "79de01aa",
   "metadata": {
    "colab": {
     "base_uri": "https://localhost:8080/",
     "height": 163
    },
    "executionInfo": {
     "elapsed": 396,
     "status": "error",
     "timestamp": 1627278122821,
     "user": {
      "displayName": "Siddharth Swain",
      "photoUrl": "",
      "userId": "12055456511825659152"
     },
     "user_tz": -330
    },
    "id": "R1Vh5MpxUY5K",
    "outputId": "4c1a07c2-c087-4247-cf37-2069b3f2b42d"
   },
   "outputs": [
    {
     "ename": "UnsupportedOperation",
     "evalue": "not writable",
     "output_type": "error",
     "traceback": [
      "\u001b[1;31m---------------------------------------------------------------------------\u001b[0m",
      "\u001b[1;31mUnsupportedOperation\u001b[0m                      Traceback (most recent call last)",
      "\u001b[1;32m<ipython-input-140-7d441e90922d>\u001b[0m in \u001b[0;36m<module>\u001b[1;34m\u001b[0m\n\u001b[1;32m----> 1\u001b[1;33m \u001b[0mf\u001b[0m\u001b[1;33m.\u001b[0m\u001b[0mwrite\u001b[0m\u001b[1;33m(\u001b[0m\u001b[1;34m\"anything\"\u001b[0m\u001b[1;33m)\u001b[0m\u001b[1;33m\u001b[0m\u001b[1;33m\u001b[0m\u001b[0m\n\u001b[0m",
      "\u001b[1;31mUnsupportedOperation\u001b[0m: not writable"
     ]
    }
   ],
   "source": [
    "f.write(\"anything\")"
   ]
  },
  {
   "cell_type": "code",
   "execution_count": 61,
   "id": "02d012a1",
   "metadata": {
    "colab": {
     "base_uri": "https://localhost:8080/",
     "height": 35
    },
    "executionInfo": {
     "elapsed": 372,
     "status": "ok",
     "timestamp": 1627278126805,
     "user": {
      "displayName": "Siddharth Swain",
      "photoUrl": "",
      "userId": "12055456511825659152"
     },
     "user_tz": -330
    },
    "id": "HkYkpByVUcos",
    "outputId": "ac6da151-a7be-46cc-b5e9-08cf47eeb6fd"
   },
   "outputs": [
    {
     "data": {
      "application/vnd.google.colaboratory.intrinsic+json": {
       "type": "string"
      },
      "text/plain": [
       "'fsfsfsfsfsfsf fdfdfdfdfdfd dfdfdfdf ddfdf dfdfd fdfd fd'"
      ]
     },
     "execution_count": 61,
     "metadata": {
      "tags": []
     },
     "output_type": "execute_result"
    }
   ],
   "source": [
    "f.read()"
   ]
  },
  {
   "cell_type": "code",
   "execution_count": 62,
   "id": "00ed38e1",
   "metadata": {
    "colab": {
     "base_uri": "https://localhost:8080/"
    },
    "executionInfo": {
     "elapsed": 363,
     "status": "ok",
     "timestamp": 1627278134284,
     "user": {
      "displayName": "Siddharth Swain",
      "photoUrl": "",
      "userId": "12055456511825659152"
     },
     "user_tz": -330
    },
    "id": "cRxjB1AUVVZL",
    "outputId": "f1c49442-4baf-429c-fea4-a767a85bfd57"
   },
   "outputs": [
    {
     "data": {
      "text/plain": [
       "0"
      ]
     },
     "execution_count": 62,
     "metadata": {
      "tags": []
     },
     "output_type": "execute_result"
    }
   ],
   "source": [
    "f.seek(0)"
   ]
  },
  {
   "cell_type": "code",
   "execution_count": 63,
   "id": "6be29638",
   "metadata": {
    "colab": {
     "base_uri": "https://localhost:8080/",
     "height": 35
    },
    "executionInfo": {
     "elapsed": 404,
     "status": "ok",
     "timestamp": 1627278149712,
     "user": {
      "displayName": "Siddharth Swain",
      "photoUrl": "",
      "userId": "12055456511825659152"
     },
     "user_tz": -330
    },
    "id": "L5_drzQrVcgr",
    "outputId": "164492ca-6bab-4b45-890b-689bd99e85bc"
   },
   "outputs": [
    {
     "data": {
      "application/vnd.google.colaboratory.intrinsic+json": {
       "type": "string"
      },
      "text/plain": [
       "'fsfsf'"
      ]
     },
     "execution_count": 63,
     "metadata": {
      "tags": []
     },
     "output_type": "execute_result"
    }
   ],
   "source": [
    "f.read(5)"
   ]
  },
  {
   "cell_type": "code",
   "execution_count": 64,
   "id": "68670340",
   "metadata": {
    "executionInfo": {
     "elapsed": 395,
     "status": "ok",
     "timestamp": 1627278191259,
     "user": {
      "displayName": "Siddharth Swain",
      "photoUrl": "",
      "userId": "12055456511825659152"
     },
     "user_tz": -330
    },
    "id": "iHwow7U4VgRQ"
   },
   "outputs": [],
   "source": [
    "f.close()"
   ]
  },
  {
   "cell_type": "code",
   "execution_count": 65,
   "id": "5b5eb40a",
   "metadata": {
    "colab": {
     "base_uri": "https://localhost:8080/",
     "height": 163
    },
    "executionInfo": {
     "elapsed": 378,
     "status": "error",
     "timestamp": 1627278199195,
     "user": {
      "displayName": "Siddharth Swain",
      "photoUrl": "",
      "userId": "12055456511825659152"
     },
     "user_tz": -330
    },
    "id": "jhNDPBBEVqTr",
    "outputId": "71bfb92a-3936-4d92-b660-7658376181f4"
   },
   "outputs": [
    {
     "ename": "ValueError",
     "evalue": "ignored",
     "output_type": "error",
     "traceback": [
      "\u001b[0;31m---------------------------------------------------------------------------\u001b[0m",
      "\u001b[0;31mValueError\u001b[0m                                Traceback (most recent call last)",
      "\u001b[0;32m<ipython-input-65-571e9fb02258>\u001b[0m in \u001b[0;36m<module>\u001b[0;34m()\u001b[0m\n\u001b[0;32m----> 1\u001b[0;31m \u001b[0mf\u001b[0m\u001b[0;34m.\u001b[0m\u001b[0mread\u001b[0m\u001b[0;34m(\u001b[0m\u001b[0;34m)\u001b[0m\u001b[0;34m\u001b[0m\u001b[0;34m\u001b[0m\u001b[0m\n\u001b[0m",
      "\u001b[0;31mValueError\u001b[0m: I/O operation on closed file."
     ]
    }
   ],
   "source": [
    "f.read()"
   ]
  },
  {
   "cell_type": "code",
   "execution_count": 66,
   "id": "a5ff4921",
   "metadata": {
    "executionInfo": {
     "elapsed": 370,
     "status": "ok",
     "timestamp": 1627278232398,
     "user": {
      "displayName": "Siddharth Swain",
      "photoUrl": "",
      "userId": "12055456511825659152"
     },
     "user_tz": -330
    },
    "id": "eR7gAg2UVsKz"
   },
   "outputs": [],
   "source": [
    "f = open(\"test.txt\",\"r+\")"
   ]
  },
  {
   "cell_type": "code",
   "execution_count": 67,
   "id": "f2529ddc",
   "metadata": {
    "colab": {
     "base_uri": "https://localhost:8080/",
     "height": 35
    },
    "executionInfo": {
     "elapsed": 366,
     "status": "ok",
     "timestamp": 1627278239548,
     "user": {
      "displayName": "Siddharth Swain",
      "photoUrl": "",
      "userId": "12055456511825659152"
     },
     "user_tz": -330
    },
    "id": "KY1PAjiyV0eC",
    "outputId": "2f0ae5f5-96dd-42eb-e1a9-e50984b1331e"
   },
   "outputs": [
    {
     "data": {
      "application/vnd.google.colaboratory.intrinsic+json": {
       "type": "string"
      },
      "text/plain": [
       "'fsfsfsfsfsfsf fdfdfdfdfdfd dfdfdfdf ddfdf dfdfd fdfd fd'"
      ]
     },
     "execution_count": 67,
     "metadata": {
      "tags": []
     },
     "output_type": "execute_result"
    }
   ],
   "source": [
    "f.read()"
   ]
  },
  {
   "cell_type": "code",
   "execution_count": 68,
   "id": "652d8034",
   "metadata": {
    "colab": {
     "base_uri": "https://localhost:8080/"
    },
    "executionInfo": {
     "elapsed": 399,
     "status": "ok",
     "timestamp": 1627278249693,
     "user": {
      "displayName": "Siddharth Swain",
      "photoUrl": "",
      "userId": "12055456511825659152"
     },
     "user_tz": -330
    },
    "id": "9SgCLXJOV2Nj",
    "outputId": "11f1c644-4102-4597-e964-e2864dde808e"
   },
   "outputs": [
    {
     "data": {
      "text/plain": [
       "8"
      ]
     },
     "execution_count": 68,
     "metadata": {
      "tags": []
     },
     "output_type": "execute_result"
    }
   ],
   "source": [
    "f.write(\"lastLAST\")"
   ]
  },
  {
   "cell_type": "code",
   "execution_count": 69,
   "id": "d5c17adf",
   "metadata": {
    "colab": {
     "base_uri": "https://localhost:8080/"
    },
    "executionInfo": {
     "elapsed": 376,
     "status": "ok",
     "timestamp": 1627278255857,
     "user": {
      "displayName": "Siddharth Swain",
      "photoUrl": "",
      "userId": "12055456511825659152"
     },
     "user_tz": -330
    },
    "id": "sllry26gV4rS",
    "outputId": "f6f67588-2e75-4d24-842e-636eadbc9f24"
   },
   "outputs": [
    {
     "data": {
      "text/plain": [
       "0"
      ]
     },
     "execution_count": 69,
     "metadata": {
      "tags": []
     },
     "output_type": "execute_result"
    }
   ],
   "source": [
    "f.seek(0)"
   ]
  },
  {
   "cell_type": "code",
   "execution_count": 70,
   "id": "aad6a833",
   "metadata": {
    "colab": {
     "base_uri": "https://localhost:8080/",
     "height": 35
    },
    "executionInfo": {
     "elapsed": 7,
     "status": "ok",
     "timestamp": 1627278259021,
     "user": {
      "displayName": "Siddharth Swain",
      "photoUrl": "",
      "userId": "12055456511825659152"
     },
     "user_tz": -330
    },
    "id": "9NekNvvzV6Ai",
    "outputId": "05e0ff95-6683-46fe-eb82-6dfb8004937f"
   },
   "outputs": [
    {
     "data": {
      "application/vnd.google.colaboratory.intrinsic+json": {
       "type": "string"
      },
      "text/plain": [
       "'fsfsfsfsfsfsf fdfdfdfdfdfd dfdfdfdf ddfdf dfdfd fdfd fdlastLAST'"
      ]
     },
     "execution_count": 70,
     "metadata": {
      "tags": []
     },
     "output_type": "execute_result"
    }
   ],
   "source": [
    "f.read()"
   ]
  },
  {
   "cell_type": "code",
   "execution_count": 71,
   "id": "ef19a874",
   "metadata": {
    "executionInfo": {
     "elapsed": 374,
     "status": "ok",
     "timestamp": 1627278330138,
     "user": {
      "displayName": "Siddharth Swain",
      "photoUrl": "",
      "userId": "12055456511825659152"
     },
     "user_tz": -330
    },
    "id": "F2wKtCyHV6zS"
   },
   "outputs": [],
   "source": [
    "f.close()"
   ]
  },
  {
   "cell_type": "code",
   "execution_count": 72,
   "id": "22f7a37f",
   "metadata": {
    "executionInfo": {
     "elapsed": 371,
     "status": "ok",
     "timestamp": 1627278339809,
     "user": {
      "displayName": "Siddharth Swain",
      "photoUrl": "",
      "userId": "12055456511825659152"
     },
     "user_tz": -330
    },
    "id": "LEIkiJZSWMU6"
   },
   "outputs": [],
   "source": [
    "f = open(\"test.txt\",\"a\")"
   ]
  },
  {
   "cell_type": "code",
   "execution_count": 73,
   "id": "213de4f9",
   "metadata": {
    "colab": {
     "base_uri": "https://localhost:8080/"
    },
    "executionInfo": {
     "elapsed": 376,
     "status": "ok",
     "timestamp": 1627278350268,
     "user": {
      "displayName": "Siddharth Swain",
      "photoUrl": "",
      "userId": "12055456511825659152"
     },
     "user_tz": -330
    },
    "id": "ZO3HshZ_WOsR",
    "outputId": "f6ead267-1cc7-43a7-b0a5-98a7705d26c7"
   },
   "outputs": [
    {
     "data": {
      "text/plain": [
       "15"
      ]
     },
     "execution_count": 73,
     "metadata": {
      "tags": []
     },
     "output_type": "execute_result"
    }
   ],
   "source": [
    "f.write(\"isthisAPPENDING\")"
   ]
  },
  {
   "cell_type": "code",
   "execution_count": 75,
   "id": "7e3e0922",
   "metadata": {
    "executionInfo": {
     "elapsed": 370,
     "status": "ok",
     "timestamp": 1627278366983,
     "user": {
      "displayName": "Siddharth Swain",
      "photoUrl": "",
      "userId": "12055456511825659152"
     },
     "user_tz": -330
    },
    "id": "bSiZkjNuWRO7"
   },
   "outputs": [],
   "source": [
    "f.close()"
   ]
  },
  {
   "cell_type": "code",
   "execution_count": 76,
   "id": "d3e4737a",
   "metadata": {
    "executionInfo": {
     "elapsed": 371,
     "status": "ok",
     "timestamp": 1627278377997,
     "user": {
      "displayName": "Siddharth Swain",
      "photoUrl": "",
      "userId": "12055456511825659152"
     },
     "user_tz": -330
    },
    "id": "H8-gNFT9WSAS"
   },
   "outputs": [],
   "source": [
    "f = open(\"test.txt\",\"r\")"
   ]
  },
  {
   "cell_type": "code",
   "execution_count": 77,
   "id": "f1e66aa6",
   "metadata": {
    "colab": {
     "base_uri": "https://localhost:8080/",
     "height": 35
    },
    "executionInfo": {
     "elapsed": 584,
     "status": "ok",
     "timestamp": 1627278381259,
     "user": {
      "displayName": "Siddharth Swain",
      "photoUrl": "",
      "userId": "12055456511825659152"
     },
     "user_tz": -330
    },
    "id": "7HpTbDtvWYAy",
    "outputId": "ec373849-5f48-4277-ec80-76de504a965c"
   },
   "outputs": [
    {
     "data": {
      "application/vnd.google.colaboratory.intrinsic+json": {
       "type": "string"
      },
      "text/plain": [
       "'fsfsfsfsfsfsf fdfdfdfdfdfd dfdfdfdf ddfdf dfdfd fdfd fdlastLASTisthisAPPENDING'"
      ]
     },
     "execution_count": 77,
     "metadata": {
      "tags": []
     },
     "output_type": "execute_result"
    }
   ],
   "source": [
    "f.read()"
   ]
  },
  {
   "cell_type": "code",
   "execution_count": 78,
   "id": "48510087",
   "metadata": {
    "executionInfo": {
     "elapsed": 392,
     "status": "ok",
     "timestamp": 1627278395173,
     "user": {
      "displayName": "Siddharth Swain",
      "photoUrl": "",
      "userId": "12055456511825659152"
     },
     "user_tz": -330
    },
    "id": "KnAjnyhDWYsb"
   },
   "outputs": [],
   "source": [
    "f.close()"
   ]
  },
  {
   "cell_type": "code",
   "execution_count": 79,
   "id": "2ce7912f",
   "metadata": {
    "executionInfo": {
     "elapsed": 371,
     "status": "ok",
     "timestamp": 1627278461410,
     "user": {
      "displayName": "Siddharth Swain",
      "photoUrl": "",
      "userId": "12055456511825659152"
     },
     "user_tz": -330
    },
    "id": "p0miU158WcCi"
   },
   "outputs": [],
   "source": [
    "f = open(\"test.txt\",\"wb\")"
   ]
  },
  {
   "cell_type": "code",
   "execution_count": 80,
   "id": "0a668008",
   "metadata": {
    "colab": {
     "base_uri": "https://localhost:8080/",
     "height": 163
    },
    "executionInfo": {
     "elapsed": 367,
     "status": "error",
     "timestamp": 1627278475969,
     "user": {
      "displayName": "Siddharth Swain",
      "photoUrl": "",
      "userId": "12055456511825659152"
     },
     "user_tz": -330
    },
    "id": "sqOzKes5WsYC",
    "outputId": "a805199b-f7fb-4b27-f746-6726c3da082d"
   },
   "outputs": [
    {
     "ename": "TypeError",
     "evalue": "ignored",
     "output_type": "error",
     "traceback": [
      "\u001b[0;31m---------------------------------------------------------------------------\u001b[0m",
      "\u001b[0;31mTypeError\u001b[0m                                 Traceback (most recent call last)",
      "\u001b[0;32m<ipython-input-80-9179f58f742d>\u001b[0m in \u001b[0;36m<module>\u001b[0;34m()\u001b[0m\n\u001b[0;32m----> 1\u001b[0;31m \u001b[0mf\u001b[0m\u001b[0;34m.\u001b[0m\u001b[0mwrite\u001b[0m\u001b[0;34m(\u001b[0m\u001b[0;34m'sdsdsdsdsdd'\u001b[0m\u001b[0;34m)\u001b[0m\u001b[0;34m\u001b[0m\u001b[0;34m\u001b[0m\u001b[0m\n\u001b[0m",
      "\u001b[0;31mTypeError\u001b[0m: a bytes-like object is required, not 'str'"
     ]
    }
   ],
   "source": [
    "f.write('sdsdsdsdsdd')"
   ]
  },
  {
   "cell_type": "code",
   "execution_count": 81,
   "id": "1e5da297",
   "metadata": {
    "colab": {
     "base_uri": "https://localhost:8080/"
    },
    "executionInfo": {
     "elapsed": 387,
     "status": "ok",
     "timestamp": 1627278491380,
     "user": {
      "displayName": "Siddharth Swain",
      "photoUrl": "",
      "userId": "12055456511825659152"
     },
     "user_tz": -330
    },
    "id": "muFFPVJ6Wv7T",
    "outputId": "c6e8ac54-f0cd-4ca0-a845-b057593e6602"
   },
   "outputs": [
    {
     "data": {
      "text/plain": [
       "16"
      ]
     },
     "execution_count": 81,
     "metadata": {
      "tags": []
     },
     "output_type": "execute_result"
    }
   ],
   "source": [
    "f.write(b\"dfdfdfdfdfdfdffd\")"
   ]
  },
  {
   "cell_type": "code",
   "execution_count": 82,
   "id": "dbe817aa",
   "metadata": {
    "executionInfo": {
     "elapsed": 368,
     "status": "ok",
     "timestamp": 1627278506016,
     "user": {
      "displayName": "Siddharth Swain",
      "photoUrl": "",
      "userId": "12055456511825659152"
     },
     "user_tz": -330
    },
    "id": "-5z62ipAWzdD"
   },
   "outputs": [],
   "source": [
    "f.close()"
   ]
  },
  {
   "cell_type": "code",
   "execution_count": 88,
   "id": "080e7755",
   "metadata": {
    "executionInfo": {
     "elapsed": 390,
     "status": "ok",
     "timestamp": 1627278727905,
     "user": {
      "displayName": "Siddharth Swain",
      "photoUrl": "",
      "userId": "12055456511825659152"
     },
     "user_tz": -330
    },
    "id": "K-yRgIFSW3Ki"
   },
   "outputs": [],
   "source": [
    "f = open(\"test.txt\",\"rb\")"
   ]
  },
  {
   "cell_type": "code",
   "execution_count": 84,
   "id": "dc1168aa",
   "metadata": {
    "colab": {
     "base_uri": "https://localhost:8080/",
     "height": 35
    },
    "executionInfo": {
     "elapsed": 382,
     "status": "ok",
     "timestamp": 1627278554238,
     "user": {
      "displayName": "Siddharth Swain",
      "photoUrl": "",
      "userId": "12055456511825659152"
     },
     "user_tz": -330
    },
    "id": "RJ-iK1nSXB_j",
    "outputId": "e6f78b96-4013-4a84-c22e-8b218297438c"
   },
   "outputs": [
    {
     "data": {
      "application/vnd.google.colaboratory.intrinsic+json": {
       "type": "string"
      },
      "text/plain": [
       "'dfdfdfdfdfdfdffd'"
      ]
     },
     "execution_count": 84,
     "metadata": {
      "tags": []
     },
     "output_type": "execute_result"
    }
   ],
   "source": [
    "f.read()"
   ]
  },
  {
   "cell_type": "code",
   "execution_count": 85,
   "id": "bd7667ca",
   "metadata": {
    "colab": {
     "base_uri": "https://localhost:8080/"
    },
    "executionInfo": {
     "elapsed": 387,
     "status": "ok",
     "timestamp": 1627278567246,
     "user": {
      "displayName": "Siddharth Swain",
      "photoUrl": "",
      "userId": "12055456511825659152"
     },
     "user_tz": -330
    },
    "id": "sEL0ELkqXC-y",
    "outputId": "8249b450-a77b-4a73-c8e4-0e918aedbf5e"
   },
   "outputs": [
    {
     "data": {
      "text/plain": [
       "2"
      ]
     },
     "execution_count": 85,
     "metadata": {
      "tags": []
     },
     "output_type": "execute_result"
    }
   ],
   "source": [
    "f.seek(2)"
   ]
  },
  {
   "cell_type": "code",
   "execution_count": 86,
   "id": "a98be4b1",
   "metadata": {
    "colab": {
     "base_uri": "https://localhost:8080/",
     "height": 35
    },
    "executionInfo": {
     "elapsed": 379,
     "status": "ok",
     "timestamp": 1627278570483,
     "user": {
      "displayName": "Siddharth Swain",
      "photoUrl": "",
      "userId": "12055456511825659152"
     },
     "user_tz": -330
    },
    "id": "v4FNz1kaXF9S",
    "outputId": "36639626-d7e1-4d63-89ed-43175974c5c0"
   },
   "outputs": [
    {
     "data": {
      "application/vnd.google.colaboratory.intrinsic+json": {
       "type": "string"
      },
      "text/plain": [
       "'d'"
      ]
     },
     "execution_count": 86,
     "metadata": {
      "tags": []
     },
     "output_type": "execute_result"
    }
   ],
   "source": [
    "f.read(1)"
   ]
  },
  {
   "cell_type": "code",
   "execution_count": 93,
   "id": "d68c0f5e",
   "metadata": {
    "colab": {
     "base_uri": "https://localhost:8080/"
    },
    "executionInfo": {
     "elapsed": 377,
     "status": "ok",
     "timestamp": 1627278771872,
     "user": {
      "displayName": "Siddharth Swain",
      "photoUrl": "",
      "userId": "12055456511825659152"
     },
     "user_tz": -330
    },
    "id": "-5arhFArXG-q",
    "outputId": "67159f2d-d781-41fa-c3b1-fa8792b3858c"
   },
   "outputs": [
    {
     "data": {
      "text/plain": [
       "13"
      ]
     },
     "execution_count": 93,
     "metadata": {
      "tags": []
     },
     "output_type": "execute_result"
    }
   ],
   "source": [
    "f.seek(-3,2)"
   ]
  },
  {
   "cell_type": "code",
   "execution_count": 2,
   "id": "49e130c6",
   "metadata": {
    "executionInfo": {
     "elapsed": 375,
     "status": "ok",
     "timestamp": 1627278821900,
     "user": {
      "displayName": "Siddharth Swain",
      "photoUrl": "",
      "userId": "12055456511825659152"
     },
     "user_tz": -330
    },
    "id": "CE1p5x01XJhS"
   },
   "outputs": [],
   "source": [
    "f = open(\"test1.txt\",\"w\")"
   ]
  },
  {
   "cell_type": "code",
   "execution_count": 3,
   "id": "dbbf54d9",
   "metadata": {
    "colab": {
     "base_uri": "https://localhost:8080/"
    },
    "executionInfo": {
     "elapsed": 375,
     "status": "ok",
     "timestamp": 1627278833205,
     "user": {
      "displayName": "Siddharth Swain",
      "photoUrl": "",
      "userId": "12055456511825659152"
     },
     "user_tz": -330
    },
    "id": "jgwRs9olYEYa",
    "outputId": "048d2104-656f-48ad-84c7-9379f7fa5171"
   },
   "outputs": [
    {
     "data": {
      "text/plain": [
       "72"
      ]
     },
     "execution_count": 3,
     "metadata": {},
     "output_type": "execute_result"
    }
   ],
   "source": [
    "f.write(\"dfdf dfd fdf dfd fd d fdfd fd d df df dfd d d d d ddfdfdfdfd fdf df dfdf\")"
   ]
  },
  {
   "cell_type": "code",
   "execution_count": 4,
   "id": "02c57844",
   "metadata": {
    "executionInfo": {
     "elapsed": 398,
     "status": "ok",
     "timestamp": 1627278836915,
     "user": {
      "displayName": "Siddharth Swain",
      "photoUrl": "",
      "userId": "12055456511825659152"
     },
     "user_tz": -330
    },
    "id": "rIcsPTfmYHIC"
   },
   "outputs": [],
   "source": [
    "f.close()"
   ]
  },
  {
   "cell_type": "code",
   "execution_count": 97,
   "id": "f31fb134",
   "metadata": {
    "executionInfo": {
     "elapsed": 375,
     "status": "ok",
     "timestamp": 1627278847721,
     "user": {
      "displayName": "Siddharth Swain",
      "photoUrl": "",
      "userId": "12055456511825659152"
     },
     "user_tz": -330
    },
    "id": "avyb9CpWYH-y"
   },
   "outputs": [],
   "source": [
    "f = open(\"test1.txt\",\"r\")"
   ]
  },
  {
   "cell_type": "code",
   "execution_count": 98,
   "id": "da691d3f",
   "metadata": {
    "colab": {
     "base_uri": "https://localhost:8080/",
     "height": 35
    },
    "executionInfo": {
     "elapsed": 379,
     "status": "ok",
     "timestamp": 1627278855219,
     "user": {
      "displayName": "Siddharth Swain",
      "photoUrl": "",
      "userId": "12055456511825659152"
     },
     "user_tz": -330
    },
    "id": "dcxn59Z8YKsC",
    "outputId": "e46db396-2564-426b-cc9e-44da1494fa17"
   },
   "outputs": [
    {
     "data": {
      "application/vnd.google.colaboratory.intrinsic+json": {
       "type": "string"
      },
      "text/plain": [
       "'dfdf dfd fdf dfd fd d fdfd fd d df df dfd d d d d ddfdfdfdfd fdf df dfdf'"
      ]
     },
     "execution_count": 98,
     "metadata": {
      "tags": []
     },
     "output_type": "execute_result"
    }
   ],
   "source": [
    "f.read()"
   ]
  },
  {
   "cell_type": "code",
   "execution_count": 99,
   "id": "4258bc53",
   "metadata": {
    "colab": {
     "base_uri": "https://localhost:8080/",
     "height": 35
    },
    "executionInfo": {
     "elapsed": 386,
     "status": "ok",
     "timestamp": 1627278885142,
     "user": {
      "displayName": "Siddharth Swain",
      "photoUrl": "",
      "userId": "12055456511825659152"
     },
     "user_tz": -330
    },
    "id": "3FqPAOrPYMax",
    "outputId": "ac544cea-d9ad-4c64-faa1-0be1390e5fe1"
   },
   "outputs": [
    {
     "data": {
      "application/vnd.google.colaboratory.intrinsic+json": {
       "type": "string"
      },
      "text/plain": [
       "''"
      ]
     },
     "execution_count": 99,
     "metadata": {
      "tags": []
     },
     "output_type": "execute_result"
    }
   ],
   "source": [
    "f.readline()"
   ]
  },
  {
   "cell_type": "code",
   "execution_count": 105,
   "id": "9ccf93fc",
   "metadata": {
    "colab": {
     "base_uri": "https://localhost:8080/"
    },
    "executionInfo": {
     "elapsed": 387,
     "status": "ok",
     "timestamp": 1627278975808,
     "user": {
      "displayName": "Siddharth Swain",
      "photoUrl": "",
      "userId": "12055456511825659152"
     },
     "user_tz": -330
    },
    "id": "HYzOm52KYT0h",
    "outputId": "313b3be0-2770-4da4-f13c-d766e2719192"
   },
   "outputs": [
    {
     "data": {
      "text/plain": [
       "0"
      ]
     },
     "execution_count": 105,
     "metadata": {
      "tags": []
     },
     "output_type": "execute_result"
    }
   ],
   "source": [
    "f.seek(0)"
   ]
  },
  {
   "cell_type": "code",
   "execution_count": 101,
   "id": "76bc292c",
   "metadata": {
    "colab": {
     "base_uri": "https://localhost:8080/",
     "height": 35
    },
    "executionInfo": {
     "elapsed": 370,
     "status": "ok",
     "timestamp": 1627278896032,
     "user": {
      "displayName": "Siddharth Swain",
      "photoUrl": "",
      "userId": "12055456511825659152"
     },
     "user_tz": -330
    },
    "id": "NFWgiHJBYVe5",
    "outputId": "b8a621c8-bef7-4d9b-dc19-94c69bd04291"
   },
   "outputs": [
    {
     "data": {
      "application/vnd.google.colaboratory.intrinsic+json": {
       "type": "string"
      },
      "text/plain": [
       "'dfdf dfd fdf dfd fd d fdfd fd d df df dfd d d d d ddfdfdfdfd fdf df dfdf'"
      ]
     },
     "execution_count": 101,
     "metadata": {
      "tags": []
     },
     "output_type": "execute_result"
    }
   ],
   "source": [
    "f.readline()"
   ]
  },
  {
   "cell_type": "code",
   "execution_count": 106,
   "id": "f9a67a4c",
   "metadata": {
    "colab": {
     "base_uri": "https://localhost:8080/",
     "height": 35
    },
    "executionInfo": {
     "elapsed": 4,
     "status": "ok",
     "timestamp": 1627278977284,
     "user": {
      "displayName": "Siddharth Swain",
      "photoUrl": "",
      "userId": "12055456511825659152"
     },
     "user_tz": -330
    },
    "id": "2LgAKkYpYWbq",
    "outputId": "8ad14afb-ad5c-47f0-ed3a-ef78e25dc5bc"
   },
   "outputs": [
    {
     "data": {
      "application/vnd.google.colaboratory.intrinsic+json": {
       "type": "string"
      },
      "text/plain": [
       "'dfd'"
      ]
     },
     "execution_count": 106,
     "metadata": {
      "tags": []
     },
     "output_type": "execute_result"
    }
   ],
   "source": [
    "f.readline(3)"
   ]
  },
  {
   "cell_type": "code",
   "execution_count": 107,
   "id": "1a7cb938",
   "metadata": {
    "colab": {
     "base_uri": "https://localhost:8080/",
     "height": 35
    },
    "executionInfo": {
     "elapsed": 6,
     "status": "ok",
     "timestamp": 1627278978750,
     "user": {
      "displayName": "Siddharth Swain",
      "photoUrl": "",
      "userId": "12055456511825659152"
     },
     "user_tz": -330
    },
    "id": "RErpIDWAYlyy",
    "outputId": "bbf84aec-5328-471d-92c9-01266388b3e9"
   },
   "outputs": [
    {
     "data": {
      "application/vnd.google.colaboratory.intrinsic+json": {
       "type": "string"
      },
      "text/plain": [
       "'f'"
      ]
     },
     "execution_count": 107,
     "metadata": {
      "tags": []
     },
     "output_type": "execute_result"
    }
   ],
   "source": [
    "f.readline(1)"
   ]
  },
  {
   "cell_type": "code",
   "execution_count": 108,
   "id": "a87d9233",
   "metadata": {
    "colab": {
     "base_uri": "https://localhost:8080/",
     "height": 35
    },
    "executionInfo": {
     "elapsed": 4,
     "status": "ok",
     "timestamp": 1627278980231,
     "user": {
      "displayName": "Siddharth Swain",
      "photoUrl": "",
      "userId": "12055456511825659152"
     },
     "user_tz": -330
    },
    "id": "xj0bFvygYnGy",
    "outputId": "9c026215-efaa-4239-8e21-5462a9be5b62"
   },
   "outputs": [
    {
     "data": {
      "application/vnd.google.colaboratory.intrinsic+json": {
       "type": "string"
      },
      "text/plain": [
       "''"
      ]
     },
     "execution_count": 108,
     "metadata": {
      "tags": []
     },
     "output_type": "execute_result"
    }
   ],
   "source": [
    "f.readline(0)"
   ]
  },
  {
   "cell_type": "code",
   "execution_count": 109,
   "id": "5fbece65",
   "metadata": {
    "executionInfo": {
     "elapsed": 362,
     "status": "ok",
     "timestamp": 1627278995745,
     "user": {
      "displayName": "Siddharth Swain",
      "photoUrl": "",
      "userId": "12055456511825659152"
     },
     "user_tz": -330
    },
    "id": "RHuRu4m3YoT6"
   },
   "outputs": [],
   "source": [
    "f.close()"
   ]
  },
  {
   "cell_type": "code",
   "execution_count": 153,
   "id": "5a107c98",
   "metadata": {
    "colab": {
     "base_uri": "https://localhost:8080/",
     "height": 163
    },
    "executionInfo": {
     "elapsed": 372,
     "status": "error",
     "timestamp": 1627289362980,
     "user": {
      "displayName": "Siddharth Swain",
      "photoUrl": "",
      "userId": "12055456511825659152"
     },
     "user_tz": -330
    },
    "id": "ANq4vXgEYurC",
    "outputId": "46b404ec-148f-426e-f29d-2ce93ac9ddf1"
   },
   "outputs": [
    {
     "ename": "FileNotFoundError",
     "evalue": "ignored",
     "output_type": "error",
     "traceback": [
      "\u001b[0;31m---------------------------------------------------------------------------\u001b[0m",
      "\u001b[0;31mFileNotFoundError\u001b[0m                         Traceback (most recent call last)",
      "\u001b[0;32m<ipython-input-153-80987ec8936a>\u001b[0m in \u001b[0;36m<module>\u001b[0;34m()\u001b[0m\n\u001b[0;32m----> 1\u001b[0;31m \u001b[0mf\u001b[0m \u001b[0;34m=\u001b[0m \u001b[0mopen\u001b[0m\u001b[0;34m(\u001b[0m\u001b[0;34m\"test1.txt\"\u001b[0m\u001b[0;34m,\u001b[0m\u001b[0;34m\"r\"\u001b[0m\u001b[0;34m)\u001b[0m\u001b[0;34m\u001b[0m\u001b[0;34m\u001b[0m\u001b[0m\n\u001b[0m",
      "\u001b[0;31mFileNotFoundError\u001b[0m: [Errno 2] No such file or directory: 'test1.txt'"
     ]
    }
   ],
   "source": [
    "f = open(\"test1.txt\",\"r\")"
   ]
  },
  {
   "cell_type": "code",
   "execution_count": 111,
   "id": "1ab78222",
   "metadata": {
    "colab": {
     "base_uri": "https://localhost:8080/"
    },
    "executionInfo": {
     "elapsed": 5,
     "status": "ok",
     "timestamp": 1627279010286,
     "user": {
      "displayName": "Siddharth Swain",
      "photoUrl": "",
      "userId": "12055456511825659152"
     },
     "user_tz": -330
    },
    "id": "xsCJXiCNYwp5",
    "outputId": "0b61ad99-4e45-4017-a59e-a273f0b066aa"
   },
   "outputs": [
    {
     "name": "stdout",
     "output_type": "stream",
     "text": [
      "dfdf dfd fdf dfd fd d fdfd fd d df df dfd d d d d ddfdfdfdfd fdf df dfdf\n"
     ]
    }
   ],
   "source": [
    "for i in f:\n",
    "  print(i)"
   ]
  },
  {
   "cell_type": "code",
   "execution_count": 116,
   "id": "e9fa40c7",
   "metadata": {
    "colab": {
     "base_uri": "https://localhost:8080/"
    },
    "executionInfo": {
     "elapsed": 378,
     "status": "ok",
     "timestamp": 1627279057549,
     "user": {
      "displayName": "Siddharth Swain",
      "photoUrl": "",
      "userId": "12055456511825659152"
     },
     "user_tz": -330
    },
    "id": "q71cR8rSY3LB",
    "outputId": "b50d09d6-c26a-40a5-de2f-5c7dbdcc3c60"
   },
   "outputs": [
    {
     "data": {
      "text/plain": [
       "0"
      ]
     },
     "execution_count": 116,
     "metadata": {
      "tags": []
     },
     "output_type": "execute_result"
    }
   ],
   "source": [
    "f.seek(0)"
   ]
  },
  {
   "cell_type": "code",
   "execution_count": 117,
   "id": "51e02b5e",
   "metadata": {
    "colab": {
     "base_uri": "https://localhost:8080/"
    },
    "executionInfo": {
     "elapsed": 2,
     "status": "ok",
     "timestamp": 1627279058182,
     "user": {
      "displayName": "Siddharth Swain",
      "photoUrl": "",
      "userId": "12055456511825659152"
     },
     "user_tz": -330
    },
    "id": "ypzfap-PYyVY",
    "outputId": "29ebafd5-65c6-4b70-93c0-09b99c1c0144"
   },
   "outputs": [
    {
     "name": "stdout",
     "output_type": "stream",
     "text": [
      "dfdf dfd fdf dfd fd d fdfd fd d df df dfd d d d d ddfdfdfdfd fdf df dfdf "
     ]
    }
   ],
   "source": [
    "for i in f:\n",
    "  print(i, end = \" \")"
   ]
  },
  {
   "cell_type": "code",
   "execution_count": 118,
   "id": "98683678",
   "metadata": {
    "colab": {
     "base_uri": "https://localhost:8080/"
    },
    "executionInfo": {
     "elapsed": 370,
     "status": "ok",
     "timestamp": 1627279073686,
     "user": {
      "displayName": "Siddharth Swain",
      "photoUrl": "",
      "userId": "12055456511825659152"
     },
     "user_tz": -330
    },
    "id": "GjXK7d6yY9wJ",
    "outputId": "1d2c4cbd-9f6f-4a04-83b5-96b3dd3e453f"
   },
   "outputs": [
    {
     "data": {
      "text/plain": [
       "0"
      ]
     },
     "execution_count": 118,
     "metadata": {
      "tags": []
     },
     "output_type": "execute_result"
    }
   ],
   "source": [
    "f.seek(0)"
   ]
  },
  {
   "cell_type": "code",
   "execution_count": 119,
   "id": "6e868a67",
   "metadata": {
    "colab": {
     "base_uri": "https://localhost:8080/"
    },
    "executionInfo": {
     "elapsed": 404,
     "status": "ok",
     "timestamp": 1627279079711,
     "user": {
      "displayName": "Siddharth Swain",
      "photoUrl": "",
      "userId": "12055456511825659152"
     },
     "user_tz": -330
    },
    "id": "rRNk8JtFZB2p",
    "outputId": "e83cd4ff-3f25-4dbd-bb12-33fab3429d22"
   },
   "outputs": [
    {
     "data": {
      "text/plain": [
       "['dfdf dfd fdf dfd fd d fdfd fd d df df dfd d d d d ddfdfdfdfd fdf df dfdf']"
      ]
     },
     "execution_count": 119,
     "metadata": {
      "tags": []
     },
     "output_type": "execute_result"
    }
   ],
   "source": [
    "list(f)"
   ]
  },
  {
   "cell_type": "code",
   "execution_count": 120,
   "id": "b0744d7d",
   "metadata": {
    "executionInfo": {
     "elapsed": 3,
     "status": "ok",
     "timestamp": 1627279106434,
     "user": {
      "displayName": "Siddharth Swain",
      "photoUrl": "",
      "userId": "12055456511825659152"
     },
     "user_tz": -330
    },
    "id": "b2gKeBTWZDJ1"
   },
   "outputs": [],
   "source": [
    "f.close()"
   ]
  },
  {
   "cell_type": "code",
   "execution_count": 122,
   "id": "8797b749",
   "metadata": {
    "executionInfo": {
     "elapsed": 394,
     "status": "ok",
     "timestamp": 1627279162015,
     "user": {
      "displayName": "Siddharth Swain",
      "photoUrl": "",
      "userId": "12055456511825659152"
     },
     "user_tz": -330
    },
    "id": "QSg_5muuZJwx"
   },
   "outputs": [],
   "source": [
    "f = open(\"test1.txt\",\"r+\")"
   ]
  },
  {
   "cell_type": "code",
   "execution_count": 123,
   "id": "47fb1f80",
   "metadata": {
    "colab": {
     "base_uri": "https://localhost:8080/"
    },
    "executionInfo": {
     "elapsed": 362,
     "status": "ok",
     "timestamp": 1627279169983,
     "user": {
      "displayName": "Siddharth Swain",
      "photoUrl": "",
      "userId": "12055456511825659152"
     },
     "user_tz": -330
    },
    "id": "X0Osa8_lZNYw",
    "outputId": "9079da28-b10c-4670-af9b-b137048cbfd4"
   },
   "outputs": [
    {
     "data": {
      "text/plain": [
       "4"
      ]
     },
     "execution_count": 123,
     "metadata": {
      "tags": []
     },
     "output_type": "execute_result"
    }
   ],
   "source": [
    "f.write(\"SPAM\")"
   ]
  },
  {
   "cell_type": "code",
   "execution_count": 124,
   "id": "b682a201",
   "metadata": {
    "executionInfo": {
     "elapsed": 405,
     "status": "ok",
     "timestamp": 1627280350543,
     "user": {
      "displayName": "Siddharth Swain",
      "photoUrl": "",
      "userId": "12055456511825659152"
     },
     "user_tz": -330
    },
    "id": "REf0EQklZZXh"
   },
   "outputs": [],
   "source": [
    "f.close()"
   ]
  },
  {
   "cell_type": "code",
   "execution_count": 150,
   "id": "35b99753",
   "metadata": {
    "colab": {
     "base_uri": "https://localhost:8080/",
     "height": 163
    },
    "executionInfo": {
     "elapsed": 451,
     "status": "error",
     "timestamp": 1627289350168,
     "user": {
      "displayName": "Siddharth Swain",
      "photoUrl": "",
      "userId": "12055456511825659152"
     },
     "user_tz": -330
    },
    "id": "r7eQLNOOd5iI",
    "outputId": "d6a453bb-9cd5-4b29-d5dc-f90797397aef"
   },
   "outputs": [
    {
     "ename": "FileNotFoundError",
     "evalue": "ignored",
     "output_type": "error",
     "traceback": [
      "\u001b[0;31m---------------------------------------------------------------------------\u001b[0m",
      "\u001b[0;31mFileNotFoundError\u001b[0m                         Traceback (most recent call last)",
      "\u001b[0;32m<ipython-input-150-f7874ccc26fc>\u001b[0m in \u001b[0;36m<module>\u001b[0;34m()\u001b[0m\n\u001b[0;32m----> 1\u001b[0;31m \u001b[0mf\u001b[0m \u001b[0;34m=\u001b[0m \u001b[0mopen\u001b[0m\u001b[0;34m(\u001b[0m\u001b[0;34m\"test1.txt\"\u001b[0m\u001b[0;34m,\u001b[0m\u001b[0;34m\"r+\"\u001b[0m\u001b[0;34m)\u001b[0m\u001b[0;34m\u001b[0m\u001b[0;34m\u001b[0m\u001b[0m\n\u001b[0m",
      "\u001b[0;31mFileNotFoundError\u001b[0m: [Errno 2] No such file or directory: 'test1.txt'"
     ]
    }
   ],
   "source": [
    "f = open(\"test1.txt\",\"r+\")"
   ]
  },
  {
   "cell_type": "code",
   "execution_count": 151,
   "id": "89112661",
   "metadata": {
    "colab": {
     "base_uri": "https://localhost:8080/",
     "height": 163
    },
    "executionInfo": {
     "elapsed": 4,
     "status": "error",
     "timestamp": 1627289350805,
     "user": {
      "displayName": "Siddharth Swain",
      "photoUrl": "",
      "userId": "12055456511825659152"
     },
     "user_tz": -330
    },
    "id": "-NCh7EKod8tX",
    "outputId": "ef61c644-0ac3-4ce6-b1cd-215015ca341d"
   },
   "outputs": [
    {
     "ename": "UnsupportedOperation",
     "evalue": "ignored",
     "output_type": "error",
     "traceback": [
      "\u001b[0;31m---------------------------------------------------------------------------\u001b[0m",
      "\u001b[0;31mUnsupportedOperation\u001b[0m                      Traceback (most recent call last)",
      "\u001b[0;32m<ipython-input-151-2d2c4b5b78c7>\u001b[0m in \u001b[0;36m<module>\u001b[0;34m()\u001b[0m\n\u001b[0;32m----> 1\u001b[0;31m \u001b[0mf\u001b[0m\u001b[0;34m.\u001b[0m\u001b[0mwritelines\u001b[0m\u001b[0;34m(\u001b[0m\u001b[0;34m\"fff fff fff\"\u001b[0m\u001b[0;34m)\u001b[0m\u001b[0;34m\u001b[0m\u001b[0;34m\u001b[0m\u001b[0m\n\u001b[0m",
      "\u001b[0;31mUnsupportedOperation\u001b[0m: not writable"
     ]
    }
   ],
   "source": [
    "f.writelines(\"fff fff fff\")"
   ]
  },
  {
   "cell_type": "code",
   "execution_count": 152,
   "id": "c145ae8b",
   "metadata": {
    "executionInfo": {
     "elapsed": 2,
     "status": "ok",
     "timestamp": 1627289351377,
     "user": {
      "displayName": "Siddharth Swain",
      "photoUrl": "",
      "userId": "12055456511825659152"
     },
     "user_tz": -330
    },
    "id": "m_boMsXueA93"
   },
   "outputs": [],
   "source": [
    "f.close()"
   ]
  },
  {
   "cell_type": "code",
   "execution_count": 129,
   "id": "658dfb66",
   "metadata": {
    "executionInfo": {
     "elapsed": 390,
     "status": "ok",
     "timestamp": 1627280402442,
     "user": {
      "displayName": "Siddharth Swain",
      "photoUrl": "",
      "userId": "12055456511825659152"
     },
     "user_tz": -330
    },
    "id": "L-sE9iO7eB0X"
   },
   "outputs": [],
   "source": [
    "f = open(\"test1.txt\",\"r\")"
   ]
  },
  {
   "cell_type": "code",
   "execution_count": 131,
   "id": "35f55929",
   "metadata": {
    "colab": {
     "base_uri": "https://localhost:8080/"
    },
    "executionInfo": {
     "elapsed": 4,
     "status": "ok",
     "timestamp": 1627280418433,
     "user": {
      "displayName": "Siddharth Swain",
      "photoUrl": "",
      "userId": "12055456511825659152"
     },
     "user_tz": -330
    },
    "id": "H_KM67dVeGQP",
    "outputId": "7aefb376-ad3b-469a-e861-acd573689822"
   },
   "outputs": [
    {
     "data": {
      "text/plain": [
       "0"
      ]
     },
     "execution_count": 131,
     "metadata": {
      "tags": []
     },
     "output_type": "execute_result"
    }
   ],
   "source": [
    "f.seek(0)"
   ]
  },
  {
   "cell_type": "code",
   "execution_count": 133,
   "id": "1d6559f8",
   "metadata": {
    "colab": {
     "base_uri": "https://localhost:8080/",
     "height": 35
    },
    "executionInfo": {
     "elapsed": 386,
     "status": "ok",
     "timestamp": 1627280425645,
     "user": {
      "displayName": "Siddharth Swain",
      "photoUrl": "",
      "userId": "12055456511825659152"
     },
     "user_tz": -330
    },
    "id": "hD_LCvMaeHDv",
    "outputId": "16a5b652-41fc-48b1-9e56-7c1d502659ef"
   },
   "outputs": [
    {
     "data": {
      "application/vnd.google.colaboratory.intrinsic+json": {
       "type": "string"
      },
      "text/plain": [
       "'fff fff ffff dfd fd d fdfd fd d df df dfd d d d d ddfdfdfdfd fdf df dfdf'"
      ]
     },
     "execution_count": 133,
     "metadata": {
      "tags": []
     },
     "output_type": "execute_result"
    }
   ],
   "source": [
    "f.read()"
   ]
  },
  {
   "cell_type": "code",
   "execution_count": 134,
   "id": "e980c6ba",
   "metadata": {
    "colab": {
     "base_uri": "https://localhost:8080/"
    },
    "executionInfo": {
     "elapsed": 374,
     "status": "ok",
     "timestamp": 1627280500573,
     "user": {
      "displayName": "Siddharth Swain",
      "photoUrl": "",
      "userId": "12055456511825659152"
     },
     "user_tz": -330
    },
    "id": "nZOKsj6EeK6H",
    "outputId": "96f8e9fc-005c-47ea-e995-32f54df35976"
   },
   "outputs": [
    {
     "data": {
      "text/plain": [
       "54"
      ]
     },
     "execution_count": 134,
     "metadata": {
      "tags": []
     },
     "output_type": "execute_result"
    }
   ],
   "source": [
    "f.fileno()"
   ]
  },
  {
   "cell_type": "code",
   "execution_count": 136,
   "id": "6092020e",
   "metadata": {
    "colab": {
     "base_uri": "https://localhost:8080/"
    },
    "executionInfo": {
     "elapsed": 690,
     "status": "ok",
     "timestamp": 1627280662044,
     "user": {
      "displayName": "Siddharth Swain",
      "photoUrl": "",
      "userId": "12055456511825659152"
     },
     "user_tz": -330
    },
    "id": "VvVElxFEeeDn",
    "outputId": "7b0f9775-65b7-4e81-e172-9ea79ea853a1"
   },
   "outputs": [
    {
     "name": "stdout",
     "output_type": "stream",
     "text": [
      "Writing test5.txt\n"
     ]
    }
   ],
   "source": [
    "# Another way \n",
    "\n",
    "%%writefile test5.txt\n",
    "my name is siddharth"
   ]
  },
  {
   "cell_type": "markdown",
   "id": "61d431e4",
   "metadata": {
    "id": "IxaX5WhIfklY"
   },
   "source": [
    "# 5. OS Module in Python\n",
    "\n",
    "The OS module in Python provides functions for interacting with the operating system. OS comes under Python’s standard utility modules. \n",
    "\n",
    "This module provides a portable way of using operating system-dependent functionality. The *os* and *os.path* modules include many functions to interact with the file system."
   ]
  },
  {
   "attachments": {
    "image-2.png": {
     "image/png": "[encoded data removed]"
    },
    "image-3.png": {
     "image/png": "[encoded data removed]"
    },
    "image-4.png": {
     "image/png": "[encoded data removed]"
    },
    "image-5.png": {
     "image/png": "[encoded data removed]"
    },
    "image-6.png": {
     "image/png": "[encoded data removed]"
    },
    "image-7.png": {
     "image/png": "[encoded data removed]"
    },
    "image.png": {
     "image/png": "[encoded data removed]"
    }
   },
   "cell_type": "markdown",
   "id": "22b567cc",
   "metadata": {},
   "source": [
    "You first need to import the os module to interact with the underlying operating system. So, import it using the import os statement before using its functions.\n",
    "\n",
    "## 5.1 Getting Current Working Directory\n",
    "\n",
    "The getcwd() function confirms returns the current working directory.\n",
    "\n",
    "![image.png](attachment:image.png)\n",
    "\n",
    "## 5.2 Creating a Directory\n",
    "\n",
    "We can create a new directory using the os.mkdir() function, as shown below.\n",
    "\n",
    "![image-2.png](attachment:image-2.png)\n",
    "\n",
    "A new directory corresponding to the path in the string argument of the function will be created. If you open the C:\\ drive, then you will see the MyPythonProject folder has been created.\n",
    "\n",
    "By default, if you don't specify the whole path in the mkdir() function, it will create the specified directory in the current working directory or drive. The following will create MyPythonProject in the C:\\Python37 directory.\n",
    "\n",
    "![image-3.png](attachment:image-3.png)\n",
    "\n",
    "## 5.3 Changing the Current Working Directory\n",
    "\n",
    "We must first change the current working directory to a newly created one before doing any operations in it. This is done using the chdir() function. The following change current working directory to C:\\MyPythonProject.\n",
    "\n",
    "![image-4.png](attachment:image-4.png)\n",
    "\n",
    "You can change the current working directory to a drive. The following makes the C:\\ drive as the current working directory.\n",
    "\n",
    "![image-5.png](attachment:image-5.png)\n",
    "\n",
    "In order to set the current directory to the parent directory use \"..\" as the argument in the chdir() function.\n",
    "\n",
    "![image-6.png](attachment:image-6.png)\n",
    "\n",
    "## 5.4 Removing a Directory\n",
    "\n",
    "The rmdir() function in the OS module removes the specified directory either with an absolute or relative path. Note that, for a directory to be removed, it should be empty.\n",
    "\n",
    "![image-7.png](attachment:image-7.png)\n",
    "\n",
    "However, you can not remove the current working directory. To remove it, you must change the current working directory, as shown below."
   ]
  },
  {
   "cell_type": "code",
   "execution_count": null,
   "id": "6f464140",
   "metadata": {},
   "outputs": [],
   "source": [
    ">>> import os\n",
    ">>> os.getcwd()\n",
    "'C:\\\\MyPythonProject'\n",
    ">>> os.rmdir(\"C:\\\\MyPythonProject\")\n",
    "PermissionError: [WinError 32] The process cannot access the file because it is being used by another process: 'd:\\\\MyPythonProject'\n",
    ">>> os.chdir(\"..\")\n",
    ">>> os.rmdir(\"MyPythonProject\")"
   ]
  },
  {
   "cell_type": "markdown",
   "id": "16db08fa",
   "metadata": {},
   "source": [
    "Above, the MyPythonProject will not be removed because it is the current directory. We changed the current working directory to the parent directory using os.chdir(\"..\") and then remove it using the rmdir() function.\n",
    "\n",
    "## 5.5 List Files and Sub-Directories\n",
    "\n",
    "The listdir() function returns the list of all files and directories in the specified directory."
   ]
  },
  {
   "attachments": {
    "image-2.png": {
     "image/png": "[encoded data removed]"
    },
    "image.png": {
     "image/png": "[encoded data removed]"
    }
   },
   "cell_type": "markdown",
   "id": "bfa0382e",
   "metadata": {},
   "source": [
    "![image.png](attachment:image.png)\n",
    "\n",
    "If we don't specify any directory, then list of files and directories in the current working directory will be returned.\n",
    "\n",
    "![image-2.png](attachment:image-2.png)"
   ]
  },
  {
   "cell_type": "markdown",
   "id": "91a6c500",
   "metadata": {},
   "source": [
    "## Practice"
   ]
  },
  {
   "cell_type": "code",
   "execution_count": 141,
   "id": "540c3b1e",
   "metadata": {
    "executionInfo": {
     "elapsed": 369,
     "status": "ok",
     "timestamp": 1627283898831,
     "user": {
      "displayName": "Siddharth Swain",
      "photoUrl": "",
      "userId": "12055456511825659152"
     },
     "user_tz": -330
    },
    "id": "rzr0MmOafJ1O"
   },
   "outputs": [],
   "source": [
    "import os"
   ]
  },
  {
   "cell_type": "code",
   "execution_count": 142,
   "id": "4a5addf4",
   "metadata": {
    "colab": {
     "base_uri": "https://localhost:8080/",
     "height": 35
    },
    "executionInfo": {
     "elapsed": 5,
     "status": "ok",
     "timestamp": 1627283900213,
     "user": {
      "displayName": "Siddharth Swain",
      "photoUrl": "",
      "userId": "12055456511825659152"
     },
     "user_tz": -330
    },
    "id": "00Jx6KKQrb1L",
    "outputId": "1e13bef9-db29-418f-e020-4291a9faf788"
   },
   "outputs": [
    {
     "data": {
      "text/plain": [
       "'D:\\\\INEURON\\\\Jupyter Notebooks\\\\Test'"
      ]
     },
     "execution_count": 142,
     "metadata": {},
     "output_type": "execute_result"
    }
   ],
   "source": [
    "pwd()"
   ]
  },
  {
   "cell_type": "code",
   "execution_count": 143,
   "id": "dd3e4e7c",
   "metadata": {
    "colab": {
     "base_uri": "https://localhost:8080/",
     "height": 35
    },
    "executionInfo": {
     "elapsed": 390,
     "status": "ok",
     "timestamp": 1627283910859,
     "user": {
      "displayName": "Siddharth Swain",
      "photoUrl": "",
      "userId": "12055456511825659152"
     },
     "user_tz": -330
    },
    "id": "Ku_wa4ufrcNS",
    "outputId": "1e6e6ea0-f0de-4054-e600-6c3cf5d1206e"
   },
   "outputs": [
    {
     "data": {
      "text/plain": [
       "'D:\\\\INEURON\\\\Jupyter Notebooks\\\\Test'"
      ]
     },
     "execution_count": 143,
     "metadata": {},
     "output_type": "execute_result"
    }
   ],
   "source": [
    "os.getcwd()"
   ]
  },
  {
   "cell_type": "code",
   "execution_count": 141,
   "id": "c99c04af",
   "metadata": {
    "colab": {
     "base_uri": "https://localhost:8080/"
    },
    "executionInfo": {
     "elapsed": 469,
     "status": "ok",
     "timestamp": 1627283925196,
     "user": {
      "displayName": "Siddharth Swain",
      "photoUrl": "",
      "userId": "12055456511825659152"
     },
     "user_tz": -330
    },
    "id": "T9i4clbbreua",
    "outputId": "8e8756a8-b167-4c1c-ee0a-c466cab5eb31"
   },
   "outputs": [
    {
     "data": {
      "text/plain": [
       "['.config', 'test1.txt', 'test5.5x5', 'test5.txt', 'test.txt', 'sample_data']"
      ]
     },
     "execution_count": 141,
     "metadata": {
      "tags": []
     },
     "output_type": "execute_result"
    }
   ],
   "source": [
    "os.listdir()"
   ]
  },
  {
   "cell_type": "code",
   "execution_count": 143,
   "id": "4923376c",
   "metadata": {
    "colab": {
     "base_uri": "https://localhost:8080/",
     "height": 163
    },
    "executionInfo": {
     "elapsed": 365,
     "status": "error",
     "timestamp": 1627284079105,
     "user": {
      "displayName": "Siddharth Swain",
      "photoUrl": "",
      "userId": "12055456511825659152"
     },
     "user_tz": -330
    },
    "id": "aiF5Cnz4riSA",
    "outputId": "181d93a8-cc86-4624-f911-3176a3edaaf0"
   },
   "outputs": [
    {
     "ename": "TypeError",
     "evalue": "ignored",
     "output_type": "error",
     "traceback": [
      "\u001b[0;31m---------------------------------------------------------------------------\u001b[0m",
      "\u001b[0;31mTypeError\u001b[0m                                 Traceback (most recent call last)",
      "\u001b[0;32m<ipython-input-143-f96d23f60c03>\u001b[0m in \u001b[0;36m<module>\u001b[0;34m()\u001b[0m\n\u001b[0;32m----> 1\u001b[0;31m \u001b[0mos\u001b[0m\u001b[0;34m.\u001b[0m\u001b[0mchdir\u001b[0m\u001b[0;34m(\u001b[0m\u001b[0;34m)\u001b[0m\u001b[0;34m\u001b[0m\u001b[0;34m\u001b[0m\u001b[0m\n\u001b[0m",
      "\u001b[0;31mTypeError\u001b[0m: chdir() missing required argument 'path' (pos 1)"
     ]
    }
   ],
   "source": [
    "os.chdir()"
   ]
  },
  {
   "cell_type": "code",
   "execution_count": 144,
   "id": "7ad9f9c2",
   "metadata": {
    "colab": {
     "base_uri": "https://localhost:8080/",
     "height": 35
    },
    "executionInfo": {
     "elapsed": 409,
     "status": "ok",
     "timestamp": 1627284508423,
     "user": {
      "displayName": "Siddharth Swain",
      "photoUrl": "",
      "userId": "12055456511825659152"
     },
     "user_tz": -330
    },
    "id": "mAR0rU1-sDL5",
    "outputId": "9559eea5-4213-4c24-9f3f-a0eb53bc9409"
   },
   "outputs": [
    {
     "data": {
      "text/plain": [
       "'D:\\\\INEURON\\\\Jupyter Notebooks\\\\Test'"
      ]
     },
     "execution_count": 144,
     "metadata": {},
     "output_type": "execute_result"
    }
   ],
   "source": [
    "pwd()"
   ]
  },
  {
   "cell_type": "code",
   "execution_count": 145,
   "id": "a2dc9a80",
   "metadata": {
    "executionInfo": {
     "elapsed": 376,
     "status": "ok",
     "timestamp": 1627284519639,
     "user": {
      "displayName": "Siddharth Swain",
      "photoUrl": "",
      "userId": "12055456511825659152"
     },
     "user_tz": -330
    },
    "id": "7_HUAwJPtwiJ"
   },
   "outputs": [],
   "source": [
    "os.mkdir(\"sudh\")"
   ]
  },
  {
   "cell_type": "code",
   "execution_count": 146,
   "id": "32bcbe27",
   "metadata": {
    "colab": {
     "base_uri": "https://localhost:8080/"
    },
    "executionInfo": {
     "elapsed": 387,
     "status": "ok",
     "timestamp": 1627284529013,
     "user": {
      "displayName": "Siddharth Swain",
      "photoUrl": "",
      "userId": "12055456511825659152"
     },
     "user_tz": -330
    },
    "id": "U4fJ-9r5tzbx",
    "outputId": "1333f9bf-3d61-464c-83e7-9e44349607a1"
   },
   "outputs": [
    {
     "data": {
      "text/plain": [
       "['desktop.ini', 'NU BDA MiniMapReduce.py', 'sudh', 'test.txt']"
      ]
     },
     "execution_count": 146,
     "metadata": {},
     "output_type": "execute_result"
    }
   ],
   "source": [
    "os.listdir()"
   ]
  },
  {
   "cell_type": "code",
   "execution_count": 147,
   "id": "8dcbc25c",
   "metadata": {
    "executionInfo": {
     "elapsed": 402,
     "status": "ok",
     "timestamp": 1627289378809,
     "user": {
      "displayName": "Siddharth Swain",
      "photoUrl": "",
      "userId": "12055456511825659152"
     },
     "user_tz": -330
    },
    "id": "Kw5CqdLot1oQ"
   },
   "outputs": [
    {
     "ename": "FileNotFoundError",
     "evalue": "[WinError 2] The system cannot find the file specified: '/content'",
     "output_type": "error",
     "traceback": [
      "\u001b[1;31m---------------------------------------------------------------------------\u001b[0m",
      "\u001b[1;31mFileNotFoundError\u001b[0m                         Traceback (most recent call last)",
      "\u001b[1;32m<ipython-input-147-379167a5d814>\u001b[0m in \u001b[0;36m<module>\u001b[1;34m\u001b[0m\n\u001b[1;32m----> 1\u001b[1;33m \u001b[0mos\u001b[0m\u001b[1;33m.\u001b[0m\u001b[0mchdir\u001b[0m\u001b[1;33m(\u001b[0m\u001b[1;34m'/content'\u001b[0m\u001b[1;33m)\u001b[0m\u001b[1;33m\u001b[0m\u001b[1;33m\u001b[0m\u001b[0m\n\u001b[0m",
      "\u001b[1;31mFileNotFoundError\u001b[0m: [WinError 2] The system cannot find the file specified: '/content'"
     ]
    }
   ],
   "source": [
    "os.chdir('/content')"
   ]
  },
  {
   "cell_type": "code",
   "execution_count": 148,
   "id": "8b93c115",
   "metadata": {
    "colab": {
     "base_uri": "https://localhost:8080/",
     "height": 35
    },
    "executionInfo": {
     "elapsed": 6,
     "status": "ok",
     "timestamp": 1627289380465,
     "user": {
      "displayName": "Siddharth Swain",
      "photoUrl": "",
      "userId": "12055456511825659152"
     },
     "user_tz": -330
    },
    "id": "aEsScrU1t6Yp",
    "outputId": "87b1dc5c-1fdc-4c76-add4-4eb6c202ddfd"
   },
   "outputs": [
    {
     "data": {
      "text/plain": [
       "'D:\\\\INEURON\\\\Jupyter Notebooks\\\\Test'"
      ]
     },
     "execution_count": 148,
     "metadata": {},
     "output_type": "execute_result"
    }
   ],
   "source": [
    "pwd()"
   ]
  },
  {
   "cell_type": "code",
   "execution_count": 150,
   "id": "37234d1e",
   "metadata": {
    "colab": {
     "base_uri": "https://localhost:8080/"
    },
    "executionInfo": {
     "elapsed": 369,
     "status": "ok",
     "timestamp": 1627289412787,
     "user": {
      "displayName": "Siddharth Swain",
      "photoUrl": "",
      "userId": "12055456511825659152"
     },
     "user_tz": -330
    },
    "id": "mlRWgbSwt7_V",
    "outputId": "0e4d60e9-8cfe-4b1b-a8da-ab0ba33155c8"
   },
   "outputs": [
    {
     "name": "stdout",
     "output_type": "stream",
     "text": [
      "my file is available in this dir.\n",
      "<_io.TextIOWrapper name='test.txt' mode='r+' encoding='cp1252'>\n"
     ]
    }
   ],
   "source": [
    "if \"test.txt\" in os.listdir():\n",
    "  print(\"my file is available in this dir.\")\n",
    "  f = open(\"test.txt\",\"r+\")\n",
    "  print(f)\n",
    "else:\n",
    "  print(\"no this file is not available in my current dir.\")"
   ]
  },
  {
   "cell_type": "code",
   "execution_count": 151,
   "id": "870e21f4",
   "metadata": {
    "colab": {
     "base_uri": "https://localhost:8080/"
    },
    "executionInfo": {
     "elapsed": 372,
     "status": "ok",
     "timestamp": 1627289464360,
     "user": {
      "displayName": "Siddharth Swain",
      "photoUrl": "",
      "userId": "12055456511825659152"
     },
     "user_tz": -330
    },
    "id": "lZ4PkdkUALjh",
    "outputId": "b2738b4f-fed5-4aee-a3ab-d6c19addb26a"
   },
   "outputs": [
    {
     "name": "stdout",
     "output_type": "stream",
     "text": [
      "my file is available in this dir.\n",
      "fsfsfsfsfsfsf fdfdfdfdfdfd dfdfdfdf ddfdf dfdfd fdfd fd\n"
     ]
    }
   ],
   "source": [
    "if \"test.txt\" in os.listdir():\n",
    "  print(\"my file is available in this dir.\")\n",
    "  f = open(\"test.txt\",\"r+\")\n",
    "  for i in f:\n",
    "    print(i)\n",
    "else:\n",
    "  print(\"no this file is not available in my current dir.\")"
   ]
  },
  {
   "cell_type": "code",
   "execution_count": 159,
   "id": "21831fe5",
   "metadata": {
    "colab": {
     "base_uri": "https://localhost:8080/"
    },
    "executionInfo": {
     "elapsed": 380,
     "status": "ok",
     "timestamp": 1627289576327,
     "user": {
      "displayName": "Siddharth Swain",
      "photoUrl": "",
      "userId": "12055456511825659152"
     },
     "user_tz": -330
    },
    "id": "Rg8GicwrAql5",
    "outputId": "56745a27-4ff7-4603-88dc-6e5a8fd6e50e"
   },
   "outputs": [
    {
     "data": {
      "text/plain": [
       "['.config',\n",
       " 'test1.txt',\n",
       " 'test5.5x5',\n",
       " 'test5.txt',\n",
       " 'test.txt',\n",
       " 'sudh',\n",
       " 'sample_data']"
      ]
     },
     "execution_count": 159,
     "metadata": {
      "tags": []
     },
     "output_type": "execute_result"
    }
   ],
   "source": [
    "os.listdir()"
   ]
  },
  {
   "cell_type": "code",
   "execution_count": 152,
   "id": "9d962397",
   "metadata": {
    "colab": {
     "base_uri": "https://localhost:8080/",
     "height": 163
    },
    "executionInfo": {
     "elapsed": 407,
     "status": "error",
     "timestamp": 1627289583318,
     "user": {
      "displayName": "Siddharth Swain",
      "photoUrl": "",
      "userId": "12055456511825659152"
     },
     "user_tz": -330
    },
    "id": "HCt_W--2BF0A",
    "outputId": "dd58f07c-714e-4c89-a1c5-6fbcb6e84751"
   },
   "outputs": [
    {
     "ename": "FileExistsError",
     "evalue": "[WinError 183] Cannot create a file when that file already exists: 'sudh'",
     "output_type": "error",
     "traceback": [
      "\u001b[1;31m---------------------------------------------------------------------------\u001b[0m",
      "\u001b[1;31mFileExistsError\u001b[0m                           Traceback (most recent call last)",
      "\u001b[1;32m<ipython-input-152-9c4d0633de93>\u001b[0m in \u001b[0;36m<module>\u001b[1;34m\u001b[0m\n\u001b[1;32m----> 1\u001b[1;33m \u001b[0mos\u001b[0m\u001b[1;33m.\u001b[0m\u001b[0mmkdir\u001b[0m\u001b[1;33m(\u001b[0m\u001b[1;34m\"sudh\"\u001b[0m\u001b[1;33m)\u001b[0m\u001b[1;33m\u001b[0m\u001b[1;33m\u001b[0m\u001b[0m\n\u001b[0m",
      "\u001b[1;31mFileExistsError\u001b[0m: [WinError 183] Cannot create a file when that file already exists: 'sudh'"
     ]
    }
   ],
   "source": [
    "os.mkdir(\"sudh\")"
   ]
  },
  {
   "cell_type": "code",
   "execution_count": 161,
   "id": "268a8a96",
   "metadata": {
    "executionInfo": {
     "elapsed": 378,
     "status": "ok",
     "timestamp": 1627293527519,
     "user": {
      "displayName": "Siddharth Swain",
      "photoUrl": "",
      "userId": "12055456511825659152"
     },
     "user_tz": -330
    },
    "id": "myPR6hxUBHrY"
   },
   "outputs": [],
   "source": [
    "if not os.path.isdir(\"sudh\"):\n",
    "  os.mkdir(\"sudh\")"
   ]
  },
  {
   "cell_type": "code",
   "execution_count": 154,
   "id": "1216b5eb",
   "metadata": {
    "executionInfo": {
     "elapsed": 382,
     "status": "ok",
     "timestamp": 1627293580802,
     "user": {
      "displayName": "Siddharth Swain",
      "photoUrl": "",
      "userId": "12055456511825659152"
     },
     "user_tz": -330
    },
    "id": "uCQ9bLbNQKny"
   },
   "outputs": [
    {
     "ename": "PermissionError",
     "evalue": "[WinError 32] The process cannot access the file because it is being used by another process: 'test.txt' -> 'xyz.txt'",
     "output_type": "error",
     "traceback": [
      "\u001b[1;31m---------------------------------------------------------------------------\u001b[0m",
      "\u001b[1;31mPermissionError\u001b[0m                           Traceback (most recent call last)",
      "\u001b[1;32m<ipython-input-154-e975d4426106>\u001b[0m in \u001b[0;36m<module>\u001b[1;34m\u001b[0m\n\u001b[1;32m----> 1\u001b[1;33m \u001b[0mos\u001b[0m\u001b[1;33m.\u001b[0m\u001b[0mrename\u001b[0m\u001b[1;33m(\u001b[0m\u001b[1;34m\"test.txt\"\u001b[0m\u001b[1;33m,\u001b[0m\u001b[1;34m\"xyz.txt\"\u001b[0m\u001b[1;33m)\u001b[0m\u001b[1;33m\u001b[0m\u001b[1;33m\u001b[0m\u001b[0m\n\u001b[0m",
      "\u001b[1;31mPermissionError\u001b[0m: [WinError 32] The process cannot access the file because it is being used by another process: 'test.txt' -> 'xyz.txt'"
     ]
    }
   ],
   "source": [
    "os.rename(\"test.txt\",\"xyz.txt\")"
   ]
  },
  {
   "cell_type": "code",
   "execution_count": 163,
   "id": "94a0359f",
   "metadata": {
    "colab": {
     "base_uri": "https://localhost:8080/"
    },
    "executionInfo": {
     "elapsed": 381,
     "status": "ok",
     "timestamp": 1627293669634,
     "user": {
      "displayName": "Siddharth Swain",
      "photoUrl": "",
      "userId": "12055456511825659152"
     },
     "user_tz": -330
    },
    "id": "8J-4mozRQXoK",
    "outputId": "ae8b4e3c-bdda-4c12-e0c3-68bb677bf5b1"
   },
   "outputs": [
    {
     "data": {
      "text/plain": [
       "['.config',\n",
       " 'test5.5x5',\n",
       " 'test5.txt',\n",
       " 'test.txt',\n",
       " 'sudh',\n",
       " 'xyz.txt',\n",
       " 'sample_data']"
      ]
     },
     "execution_count": 163,
     "metadata": {
      "tags": []
     },
     "output_type": "execute_result"
    }
   ],
   "source": [
    "os.listdir()"
   ]
  },
  {
   "cell_type": "code",
   "execution_count": 155,
   "id": "ce7ce51a",
   "metadata": {
    "executionInfo": {
     "elapsed": 387,
     "status": "ok",
     "timestamp": 1627293750894,
     "user": {
      "displayName": "Siddharth Swain",
      "photoUrl": "",
      "userId": "12055456511825659152"
     },
     "user_tz": -330
    },
    "id": "1IWDYeEFQtND"
   },
   "outputs": [
    {
     "ename": "PermissionError",
     "evalue": "[WinError 5] Access is denied: 'sudh'",
     "output_type": "error",
     "traceback": [
      "\u001b[1;31m---------------------------------------------------------------------------\u001b[0m",
      "\u001b[1;31mPermissionError\u001b[0m                           Traceback (most recent call last)",
      "\u001b[1;32m<ipython-input-155-167a1617da70>\u001b[0m in \u001b[0;36m<module>\u001b[1;34m\u001b[0m\n\u001b[1;32m----> 1\u001b[1;33m \u001b[0mos\u001b[0m\u001b[1;33m.\u001b[0m\u001b[0mrmdir\u001b[0m\u001b[1;33m(\u001b[0m\u001b[1;34m\"sudh\"\u001b[0m\u001b[1;33m)\u001b[0m\u001b[1;33m\u001b[0m\u001b[1;33m\u001b[0m\u001b[0m\n\u001b[0m",
      "\u001b[1;31mPermissionError\u001b[0m: [WinError 5] Access is denied: 'sudh'"
     ]
    }
   ],
   "source": [
    "os.rmdir(\"sudh\")"
   ]
  },
  {
   "cell_type": "code",
   "execution_count": 167,
   "id": "4adb597a",
   "metadata": {
    "colab": {
     "base_uri": "https://localhost:8080/"
    },
    "executionInfo": {
     "elapsed": 362,
     "status": "ok",
     "timestamp": 1627293822121,
     "user": {
      "displayName": "Siddharth Swain",
      "photoUrl": "",
      "userId": "12055456511825659152"
     },
     "user_tz": -330
    },
    "id": "FrfjY8CoRBJy",
    "outputId": "71bfbd2b-1291-48f7-9c9e-4dca71997cf7"
   },
   "outputs": [
    {
     "data": {
      "text/plain": [
       "['.config', 'test5.5x5', 'test5.txt', 'test.txt', 'xyz.txt', 'sample_data']"
      ]
     },
     "execution_count": 167,
     "metadata": {
      "tags": []
     },
     "output_type": "execute_result"
    }
   ],
   "source": [
    "os.listdir()"
   ]
  },
  {
   "cell_type": "code",
   "execution_count": 169,
   "id": "76653b5d",
   "metadata": {
    "colab": {
     "base_uri": "https://localhost:8080/",
     "height": 180
    },
    "executionInfo": {
     "elapsed": 385,
     "status": "error",
     "timestamp": 1627293841649,
     "user": {
      "displayName": "Siddharth Swain",
      "photoUrl": "",
      "userId": "12055456511825659152"
     },
     "user_tz": -330
    },
    "id": "2wykIcfSRTnN",
    "outputId": "18a6af77-4abb-470d-d0e1-c811b0e664c4"
   },
   "outputs": [
    {
     "ename": "FileExistsError",
     "evalue": "ignored",
     "output_type": "error",
     "traceback": [
      "\u001b[0;31m---------------------------------------------------------------------------\u001b[0m",
      "\u001b[0;31mFileExistsError\u001b[0m                           Traceback (most recent call last)",
      "\u001b[0;32m<ipython-input-169-392eb3c37fc8>\u001b[0m in \u001b[0;36m<module>\u001b[0;34m()\u001b[0m\n\u001b[0;32m----> 1\u001b[0;31m \u001b[0mos\u001b[0m\u001b[0;34m.\u001b[0m\u001b[0mmkdir\u001b[0m\u001b[0;34m(\u001b[0m\u001b[0;34m\"sample\"\u001b[0m\u001b[0;34m)\u001b[0m\u001b[0;34m\u001b[0m\u001b[0;34m\u001b[0m\u001b[0m\n\u001b[0m\u001b[1;32m      2\u001b[0m \u001b[0mos\u001b[0m\u001b[0;34m.\u001b[0m\u001b[0mlistdir\u001b[0m\u001b[0;34m(\u001b[0m\u001b[0;34m)\u001b[0m\u001b[0;34m\u001b[0m\u001b[0;34m\u001b[0m\u001b[0m\n",
      "\u001b[0;31mFileExistsError\u001b[0m: [Errno 17] File exists: 'sample'"
     ]
    }
   ],
   "source": [
    "os.mkdir(\"sample\")"
   ]
  },
  {
   "cell_type": "code",
   "execution_count": 170,
   "id": "95ee29e7",
   "metadata": {
    "colab": {
     "base_uri": "https://localhost:8080/"
    },
    "executionInfo": {
     "elapsed": 379,
     "status": "ok",
     "timestamp": 1627293858123,
     "user": {
      "displayName": "Siddharth Swain",
      "photoUrl": "",
      "userId": "12055456511825659152"
     },
     "user_tz": -330
    },
    "id": "F_YIYZq4Ra0Q",
    "outputId": "cf49c3e1-3ee8-474a-9fc4-703a7dad52f6"
   },
   "outputs": [
    {
     "data": {
      "text/plain": [
       "['.config',\n",
       " 'test5.5x5',\n",
       " 'sample',\n",
       " 'test5.txt',\n",
       " 'test.txt',\n",
       " 'xyz.txt',\n",
       " 'sample_data']"
      ]
     },
     "execution_count": 170,
     "metadata": {
      "tags": []
     },
     "output_type": "execute_result"
    }
   ],
   "source": [
    "os.listdir()"
   ]
  },
  {
   "cell_type": "code",
   "execution_count": 166,
   "id": "5adab170",
   "metadata": {
    "executionInfo": {
     "elapsed": 392,
     "status": "ok",
     "timestamp": 1627293780237,
     "user": {
      "displayName": "Siddharth Swain",
      "photoUrl": "",
      "userId": "12055456511825659152"
     },
     "user_tz": -330
    },
    "id": "pMeFV6EDRCJe"
   },
   "outputs": [],
   "source": [
    "import shutil"
   ]
  },
  {
   "cell_type": "code",
   "execution_count": 171,
   "id": "49e39005",
   "metadata": {
    "colab": {
     "base_uri": "https://localhost:8080/",
     "height": 35
    },
    "executionInfo": {
     "elapsed": 382,
     "status": "ok",
     "timestamp": 1627294193206,
     "user": {
      "displayName": "Siddharth Swain",
      "photoUrl": "",
      "userId": "12055456511825659152"
     },
     "user_tz": -330
    },
    "id": "LO9E1UpbRIKS",
    "outputId": "6a07ce2c-0027-48e9-e5b4-0f8b93ac4249"
   },
   "outputs": [
    {
     "data": {
      "application/vnd.google.colaboratory.intrinsic+json": {
       "type": "string"
      },
      "text/plain": [
       "'/content/sample/xyz.txt'"
      ]
     },
     "execution_count": 171,
     "metadata": {
      "tags": []
     },
     "output_type": "execute_result"
    }
   ],
   "source": [
    "shutil.move(\"/content/xyz.txt\" , \"/content/sample/xyz.txt\")"
   ]
  },
  {
   "cell_type": "code",
   "execution_count": 172,
   "id": "0b992900",
   "metadata": {
    "colab": {
     "base_uri": "https://localhost:8080/"
    },
    "executionInfo": {
     "elapsed": 565,
     "status": "ok",
     "timestamp": 1627294201329,
     "user": {
      "displayName": "Siddharth Swain",
      "photoUrl": "",
      "userId": "12055456511825659152"
     },
     "user_tz": -330
    },
    "id": "E2GSJcZvStI5",
    "outputId": "959a0f59-a551-4662-acfa-7575d559fc69"
   },
   "outputs": [
    {
     "data": {
      "text/plain": [
       "['.config', 'test5.5x5', 'sample', 'test5.txt', 'test.txt', 'sample_data']"
      ]
     },
     "execution_count": 172,
     "metadata": {
      "tags": []
     },
     "output_type": "execute_result"
    }
   ],
   "source": [
    "os.listdir()"
   ]
  },
  {
   "cell_type": "code",
   "execution_count": 173,
   "id": "79e03de3",
   "metadata": {
    "executionInfo": {
     "elapsed": 386,
     "status": "ok",
     "timestamp": 1627294231130,
     "user": {
      "displayName": "Siddharth Swain",
      "photoUrl": "",
      "userId": "12055456511825659152"
     },
     "user_tz": -330
    },
    "id": "s3Th8pFfSu5g"
   },
   "outputs": [],
   "source": [
    "os.chdir('/content/sample/')"
   ]
  },
  {
   "cell_type": "code",
   "execution_count": 174,
   "id": "3c1d6c48",
   "metadata": {
    "colab": {
     "base_uri": "https://localhost:8080/"
    },
    "executionInfo": {
     "elapsed": 376,
     "status": "ok",
     "timestamp": 1627294235853,
     "user": {
      "displayName": "Siddharth Swain",
      "photoUrl": "",
      "userId": "12055456511825659152"
     },
     "user_tz": -330
    },
    "id": "RK3GDPQdS2ZB",
    "outputId": "5fe559d1-9c07-4e15-d671-9b820a6f627f"
   },
   "outputs": [
    {
     "data": {
      "text/plain": [
       "['xyz.txt']"
      ]
     },
     "execution_count": 174,
     "metadata": {
      "tags": []
     },
     "output_type": "execute_result"
    }
   ],
   "source": [
    "os.listdir()"
   ]
  },
  {
   "cell_type": "markdown",
   "id": "72811828",
   "metadata": {
    "id": "hChN8I6RTXm5"
   },
   "source": [
    "## Questions\n",
    "\n",
    "1. Create a new dir.\n",
    "2. Create 10 txt files and write same data in all text at one time.\n",
    "3. Read all the data from this dir/file and print in console.\n",
    "4. Hold all the data in a list.\n",
    "5. Write all the data in a new file from list.\n",
    "6. Keep only a new file in present dir and move rest in new dir."
   ]
  },
  {
   "cell_type": "code",
   "execution_count": 156,
   "id": "8ba84f05",
   "metadata": {
    "colab": {
     "base_uri": "https://localhost:8080/",
     "height": 214
    },
    "executionInfo": {
     "elapsed": 369,
     "status": "error",
     "timestamp": 1627319038641,
     "user": {
      "displayName": "Siddharth Swain",
      "photoUrl": "",
      "userId": "12055456511825659152"
     },
     "user_tz": -330
    },
    "id": "wPVSxmP8S3fY",
    "outputId": "a14c1022-b8f5-489e-cfde-cd85853b2178"
   },
   "outputs": [
    {
     "ename": "FileNotFoundError",
     "evalue": "[WinError 2] The system cannot find the file specified: '/content'",
     "output_type": "error",
     "traceback": [
      "\u001b[1;31m---------------------------------------------------------------------------\u001b[0m",
      "\u001b[1;31mFileNotFoundError\u001b[0m                         Traceback (most recent call last)",
      "\u001b[1;32m<ipython-input-156-daeb66e4eff0>\u001b[0m in \u001b[0;36m<module>\u001b[1;34m\u001b[0m\n\u001b[0;32m      1\u001b[0m \u001b[1;31m# 1\u001b[0m\u001b[1;33m\u001b[0m\u001b[1;33m\u001b[0m\u001b[1;33m\u001b[0m\u001b[0m\n\u001b[0;32m      2\u001b[0m \u001b[1;32mimport\u001b[0m \u001b[0mos\u001b[0m\u001b[1;33m\u001b[0m\u001b[1;33m\u001b[0m\u001b[0m\n\u001b[1;32m----> 3\u001b[1;33m \u001b[0mos\u001b[0m\u001b[1;33m.\u001b[0m\u001b[0mchdir\u001b[0m\u001b[1;33m(\u001b[0m\u001b[1;34m'/content'\u001b[0m\u001b[1;33m)\u001b[0m\u001b[1;33m\u001b[0m\u001b[1;33m\u001b[0m\u001b[0m\n\u001b[0m\u001b[0;32m      4\u001b[0m \u001b[0mos\u001b[0m\u001b[1;33m.\u001b[0m\u001b[0mmkdir\u001b[0m\u001b[1;33m(\u001b[0m\u001b[1;34m'new'\u001b[0m\u001b[1;33m)\u001b[0m\u001b[1;33m\u001b[0m\u001b[1;33m\u001b[0m\u001b[0m\n\u001b[0;32m      5\u001b[0m \u001b[0mos\u001b[0m\u001b[1;33m.\u001b[0m\u001b[0mlistdir\u001b[0m\u001b[1;33m(\u001b[0m\u001b[1;33m)\u001b[0m\u001b[1;33m\u001b[0m\u001b[1;33m\u001b[0m\u001b[0m\n",
      "\u001b[1;31mFileNotFoundError\u001b[0m: [WinError 2] The system cannot find the file specified: '/content'"
     ]
    }
   ],
   "source": [
    "#1\n",
    "\n",
    "import os\n",
    "os.chdir('/content')\n",
    "os.mkdir('new')\n",
    "os.listdir()"
   ]
  },
  {
   "cell_type": "code",
   "execution_count": 14,
   "id": "19d0cb66",
   "metadata": {
    "executionInfo": {
     "elapsed": 389,
     "status": "ok",
     "timestamp": 1627319040950,
     "user": {
      "displayName": "Siddharth Swain",
      "photoUrl": "",
      "userId": "12055456511825659152"
     },
     "user_tz": -330
    },
    "id": "_a0i3S6HTjwI"
   },
   "outputs": [],
   "source": [
    "#2\n",
    "\n",
    "import os\n",
    "os.chdir('/content/new/')\n",
    "for i in range(1,11,1):\n",
    "  var = \"File\" + str(i) + \".txt\"\n",
    "  f = open(var,\"w\")\n",
    "  f.write(\"Siddharth Swain has enrolled for the MBA ISDE Program at NIIT University.\")\n",
    "  f.close()"
   ]
  },
  {
   "cell_type": "code",
   "execution_count": 15,
   "id": "ca119c54",
   "metadata": {
    "colab": {
     "base_uri": "https://localhost:8080/"
    },
    "executionInfo": {
     "elapsed": 388,
     "status": "ok",
     "timestamp": 1627319044872,
     "user": {
      "displayName": "Siddharth Swain",
      "photoUrl": "",
      "userId": "12055456511825659152"
     },
     "user_tz": -330
    },
    "id": "nn10KaWSyv1B",
    "outputId": "2d3887b8-11ec-4dfc-f07e-c34e2ba3e670"
   },
   "outputs": [
    {
     "data": {
      "text/plain": [
       "['File9.txt',\n",
       " 'File1.txt',\n",
       " 'File2.txt',\n",
       " 'File8.txt',\n",
       " 'File3.txt',\n",
       " 'File5.txt',\n",
       " 'File6.txt',\n",
       " 'File10.txt',\n",
       " 'File4.txt',\n",
       " 'File7.txt']"
      ]
     },
     "execution_count": 15,
     "metadata": {
      "tags": []
     },
     "output_type": "execute_result"
    }
   ],
   "source": [
    "os.listdir()"
   ]
  },
  {
   "cell_type": "code",
   "execution_count": 7,
   "id": "a62ed86c",
   "metadata": {
    "colab": {
     "base_uri": "https://localhost:8080/"
    },
    "executionInfo": {
     "elapsed": 406,
     "status": "ok",
     "timestamp": 1627318265383,
     "user": {
      "displayName": "Siddharth Swain",
      "photoUrl": "",
      "userId": "12055456511825659152"
     },
     "user_tz": -330
    },
    "id": "Kd6jXGROT6__",
    "outputId": "85cf514a-d57d-4da5-e4e4-112fb8fdc590"
   },
   "outputs": [
    {
     "name": "stdout",
     "output_type": "stream",
     "text": [
      "Siddharth Swain has enrolled for the MBA ISDE Program at NIIT University.\n",
      "Siddharth Swain has enrolled for the MBA ISDE Program at NIIT University.\n",
      "Siddharth Swain has enrolled for the MBA ISDE Program at NIIT University.\n",
      "Siddharth Swain has enrolled for the MBA ISDE Program at NIIT University.\n",
      "Siddharth Swain has enrolled for the MBA ISDE Program at NIIT University.\n",
      "Siddharth Swain has enrolled for the MBA ISDE Program at NIIT University.\n",
      "Siddharth Swain has enrolled for the MBA ISDE Program at NIIT University.\n",
      "Siddharth Swain has enrolled for the MBA ISDE Program at NIIT University.\n",
      "Siddharth Swain has enrolled for the MBA ISDE Program at NIIT University.\n",
      "Siddharth Swain has enrolled for the MBA ISDE Program at NIIT University.\n"
     ]
    }
   ],
   "source": [
    "#3\n",
    "\n",
    "for i in os.listdir():\n",
    "  f = open(i,\"r\")\n",
    "  for j in f:\n",
    "    print(j)"
   ]
  },
  {
   "cell_type": "code",
   "execution_count": 20,
   "id": "36325ca7",
   "metadata": {
    "colab": {
     "base_uri": "https://localhost:8080/"
    },
    "executionInfo": {
     "elapsed": 377,
     "status": "ok",
     "timestamp": 1627320533788,
     "user": {
      "displayName": "Siddharth Swain",
      "photoUrl": "",
      "userId": "12055456511825659152"
     },
     "user_tz": -330
    },
    "id": "q2z29vDlyUJL",
    "outputId": "efb3c5e1-7de5-4caf-92dd-07c19b1ae043"
   },
   "outputs": [
    {
     "data": {
      "text/plain": [
       "['Siddharth Swain has enrolled for the MBA ISDE Program at NIIT University.',\n",
       " 'Siddharth Swain has enrolled for the MBA ISDE Program at NIIT University.',\n",
       " 'Siddharth Swain has enrolled for the MBA ISDE Program at NIIT University.',\n",
       " 'Siddharth Swain has enrolled for the MBA ISDE Program at NIIT University.',\n",
       " 'Siddharth Swain has enrolled for the MBA ISDE Program at NIIT University.',\n",
       " 'Siddharth Swain has enrolled for the MBA ISDE Program at NIIT University.',\n",
       " 'Siddharth Swain has enrolled for the MBA ISDE Program at NIIT University.',\n",
       " 'Siddharth Swain has enrolled for the MBA ISDE Program at NIIT University.',\n",
       " 'Siddharth Swain has enrolled for the MBA ISDE Program at NIIT University.',\n",
       " 'Siddharth Swain has enrolled for the MBA ISDE Program at NIIT University.']"
      ]
     },
     "execution_count": 20,
     "metadata": {
      "tags": []
     },
     "output_type": "execute_result"
    }
   ],
   "source": [
    "#4\n",
    "\n",
    "l = []\n",
    "for i in os.listdir():\n",
    "  f = open(i,\"r+\")\n",
    "  l.append(f.read())\n",
    "  f.close()\n",
    "l"
   ]
  },
  {
   "cell_type": "code",
   "execution_count": 21,
   "id": "663a2ea1",
   "metadata": {
    "executionInfo": {
     "elapsed": 389,
     "status": "ok",
     "timestamp": 1627320587213,
     "user": {
      "displayName": "Siddharth Swain",
      "photoUrl": "",
      "userId": "12055456511825659152"
     },
     "user_tz": -330
    },
    "id": "UirASj92u7Ht"
   },
   "outputs": [],
   "source": [
    "#5\n",
    "\n",
    "f = open(\"new_file.txt\",'w')\n",
    "for i in l:\n",
    "  f.write(i)\n",
    "f.close()"
   ]
  },
  {
   "cell_type": "code",
   "execution_count": 23,
   "id": "245c1faa",
   "metadata": {
    "colab": {
     "base_uri": "https://localhost:8080/",
     "height": 86
    },
    "executionInfo": {
     "elapsed": 375,
     "status": "ok",
     "timestamp": 1627320616946,
     "user": {
      "displayName": "Siddharth Swain",
      "photoUrl": "",
      "userId": "12055456511825659152"
     },
     "user_tz": -330
    },
    "id": "QQRZAmCr3Y-9",
    "outputId": "4de30dd4-0d0f-45bc-c051-f09eabd6ea93"
   },
   "outputs": [
    {
     "data": {
      "application/vnd.google.colaboratory.intrinsic+json": {
       "type": "string"
      },
      "text/plain": [
       "'Siddharth Swain has enrolled for the MBA ISDE Program at NIIT University.Siddharth Swain has enrolled for the MBA ISDE Program at NIIT University.Siddharth Swain has enrolled for the MBA ISDE Program at NIIT University.Siddharth Swain has enrolled for the MBA ISDE Program at NIIT University.Siddharth Swain has enrolled for the MBA ISDE Program at NIIT University.Siddharth Swain has enrolled for the MBA ISDE Program at NIIT University.Siddharth Swain has enrolled for the MBA ISDE Program at NIIT University.Siddharth Swain has enrolled for the MBA ISDE Program at NIIT University.Siddharth Swain has enrolled for the MBA ISDE Program at NIIT University.Siddharth Swain has enrolled for the MBA ISDE Program at NIIT University.'"
      ]
     },
     "execution_count": 23,
     "metadata": {
      "tags": []
     },
     "output_type": "execute_result"
    }
   ],
   "source": [
    "f = open(\"new_file.txt\",'r')\n",
    "f.read()"
   ]
  }
 ],
 "metadata": {
  "kernelspec": {
   "display_name": "Python 3",
   "language": "python",
   "name": "python3"
  },
  "language_info": {
   "codemirror_mode": {
    "name": "ipython",
    "version": 3
   },
   "file_extension": ".py",
   "mimetype": "text/x-python",
   "name": "python",
   "nbconvert_exporter": "python",
   "pygments_lexer": "ipython3",
   "version": "3.8.8"
  }
 },
 "nbformat": 4,
 "nbformat_minor": 5
}
