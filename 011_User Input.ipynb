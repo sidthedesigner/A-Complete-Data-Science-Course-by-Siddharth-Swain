{
 "cells": [
  {
   "cell_type": "markdown",
   "id": "6bac27fe",
   "metadata": {},
   "source": [
    "# 1. User Input\n",
    "\n",
    "Developers often need to interact with users, either to get data or to provide some sort of result. Most programs today use a dialog box as a way of asking the user to provide some type of input. While Python provides us with two inbuilt functions to read the input from the keyboard. \n",
    "\n",
    "- **input (prompt)**\n",
    "- **raw_input (prompt)**"
   ]
  },
  {
   "cell_type": "markdown",
   "id": "986063b4",
   "metadata": {},
   "source": [
    "# 2. Input Function\n",
    "\n",
    "This function first takes the input from the user and converts it into a string. The type of the returned object always will be <type ‘str’>. It does not evaluate the expression, it just returns the complete statement as String. \n",
    "\n",
    "For example, Python provides a built-in function called input, which takes the input from the user. When the input function is called, it stops the program and waits for the user’s input. When the user presses enter, the program resumes and returns what the user typed.\n",
    "\n",
    "**Syntax:** \n",
    "\n",
    "inp = input('STATEMENT')"
   ]
  },
  {
   "cell_type": "code",
   "execution_count": 1,
   "id": "86c26651",
   "metadata": {},
   "outputs": [
    {
     "name": "stdout",
     "output_type": "stream",
     "text": [
      "Enter your value: 123\n",
      "123\n"
     ]
    }
   ],
   "source": [
    "# Python program showing\n",
    "# a use of input()\n",
    "\n",
    "val = input(\"Enter your value: \")\n",
    "print(val)"
   ]
  },
  {
   "cell_type": "code",
   "execution_count": 2,
   "id": "55b5a149",
   "metadata": {},
   "outputs": [
    {
     "name": "stdout",
     "output_type": "stream",
     "text": [
      "What is your name?\n",
      "Sid\n",
      "Sid\n"
     ]
    }
   ],
   "source": [
    "# Taking String as an input.\n",
    "\n",
    "name = input('What is your name?\\n')\t # \\n ---> newline ---> It causes a line break\n",
    "print(name)"
   ]
  },
  {
   "cell_type": "markdown",
   "id": "11361594",
   "metadata": {},
   "source": [
    "**How the Input Function works in Python?** \n",
    "\n",
    "- When input() function executes, program flow will be stopped until the user has given input.\n",
    "\n",
    "- The text or message displayed on the output screen to ask a user to enter an input value is optional, i.e. the prompt, which will be printed on the screen is optional.\n",
    "\n",
    "- Whatever you enter as input, the input function converts it into a string. If you enter an integer value, still input() function converts it into a string. You need to explicitly convert it into an integer in your code using typecasting. "
   ]
  },
  {
   "cell_type": "code",
   "execution_count": 3,
   "id": "7662db86",
   "metadata": {},
   "outputs": [
    {
     "name": "stdout",
     "output_type": "stream",
     "text": [
      "Enter number :123\n",
      "123\n",
      "Enter name : Sid\n",
      "Sid\n",
      "type of number <class 'str'>\n",
      "type of name <class 'str'>\n"
     ]
    }
   ],
   "source": [
    "# Program to check input\n",
    "# type in Python\n",
    "\n",
    "num = input (\"Enter number :\")\n",
    "print(num)\n",
    "name1 = input(\"Enter name : \")\n",
    "print(name1)\n",
    "\n",
    "# Printing type of input value\n",
    "print (\"type of number\", type(num))\n",
    "print (\"type of name\", type(name1))"
   ]
  },
  {
   "cell_type": "markdown",
   "id": "da71f5f7",
   "metadata": {},
   "source": [
    "# 3. Raw Input Function\n",
    "\n",
    "This function works in an older version (like Python 2.x). This function takes exactly what is typed from the keyboard, converts it to string, and then returns it to the variable in which we want to store it."
   ]
  },
  {
   "cell_type": "code",
   "execution_count": 5,
   "id": "53310db9",
   "metadata": {},
   "outputs": [
    {
     "ename": "NameError",
     "evalue": "name 'raw_input' is not defined",
     "output_type": "error",
     "traceback": [
      "\u001b[1;31m---------------------------------------------------------------------------\u001b[0m",
      "\u001b[1;31mNameError\u001b[0m                                 Traceback (most recent call last)",
      "\u001b[1;32m~\\AppData\\Local\\Temp\\ipykernel_13620\\1919952112.py\u001b[0m in \u001b[0;36m<module>\u001b[1;34m\u001b[0m\n\u001b[0;32m      2\u001b[0m \u001b[1;31m# a use of raw_input()\u001b[0m\u001b[1;33m\u001b[0m\u001b[1;33m\u001b[0m\u001b[0m\n\u001b[0;32m      3\u001b[0m \u001b[1;33m\u001b[0m\u001b[0m\n\u001b[1;32m----> 4\u001b[1;33m \u001b[0mg\u001b[0m \u001b[1;33m=\u001b[0m \u001b[0mraw_input\u001b[0m\u001b[1;33m(\u001b[0m\u001b[1;34m\"Enter your name : \"\u001b[0m\u001b[1;33m)\u001b[0m\u001b[1;33m\u001b[0m\u001b[1;33m\u001b[0m\u001b[0m\n\u001b[0m\u001b[0;32m      5\u001b[0m \u001b[0mprint\u001b[0m\u001b[1;33m(\u001b[0m\u001b[0mg\u001b[0m\u001b[1;33m)\u001b[0m\u001b[1;33m\u001b[0m\u001b[1;33m\u001b[0m\u001b[0m\n",
      "\u001b[1;31mNameError\u001b[0m: name 'raw_input' is not defined"
     ]
    }
   ],
   "source": [
    "# Python program showing\n",
    "# a use of raw_input()\n",
    "\n",
    "g = raw_input(\"Enter your name : \")\n",
    "print(g)"
   ]
  },
  {
   "cell_type": "markdown",
   "id": "da6730da",
   "metadata": {},
   "source": [
    "Here, g is a variable that will get the string value typed by the user during the execution of the program. Typing of data for the raw_input() function is terminated by the enter key. We can use raw_input() to enter numeric data as well. In that case, we use typecasting."
   ]
  },
  {
   "cell_type": "markdown",
   "id": "95624619",
   "metadata": {},
   "source": [
    "# Question\n",
    "\n",
    "Take three inputs, a,b & c from the user.\n",
    "\n",
    "1. Store (a+b)/c in variable d. \n",
    "2. Store the sum of d and a complex number in variable e. \n",
    "3. Calculate the sum of your name and e (concatenate it) and display the output."
   ]
  },
  {
   "cell_type": "code",
   "execution_count": 4,
   "id": "1a1ec5d6",
   "metadata": {},
   "outputs": [
    {
     "name": "stdout",
     "output_type": "stream",
     "text": [
      "Enter a:10\n",
      "Enter b:5\n",
      "Enter c:2\n",
      "7.5\n",
      "(12.5+3j)\n",
      "Siddharth Swain(12.5+3j)\n"
     ]
    }
   ],
   "source": [
    "# Answer\n",
    "\n",
    "a = int(input(\"Enter a:\"))\n",
    "b = int(input(\"Enter b:\"))\n",
    "c = int(input(\"Enter c:\"))\n",
    "\n",
    "d = (a+b)/c\n",
    "\n",
    "e = d + (5 + 3j)\n",
    "\n",
    "print(d)\n",
    "print(e)\n",
    "print(\"Siddharth Swain\"+str(e))"
   ]
  }
 ],
 "metadata": {
  "kernelspec": {
   "display_name": "Python 3 (ipykernel)",
   "language": "python",
   "name": "python3"
  },
  "language_info": {
   "codemirror_mode": {
    "name": "ipython",
    "version": 3
   },
   "file_extension": ".py",
   "mimetype": "text/x-python",
   "name": "python",
   "nbconvert_exporter": "python",
   "pygments_lexer": "ipython3",
   "version": "3.9.13"
  }
 },
 "nbformat": 4,
 "nbformat_minor": 5
}
