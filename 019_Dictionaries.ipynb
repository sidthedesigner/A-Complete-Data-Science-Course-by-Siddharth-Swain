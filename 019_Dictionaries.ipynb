{
 "cells": [
  {
   "cell_type": "markdown",
   "id": "fbbc48da",
   "metadata": {},
   "source": [
    "# 1. Dictionaries\n",
    "\n",
    "thisdict = {\n",
    "  \"brand\": \"Ford\",\n",
    "  \"model\": \"Mustang\",\n",
    "  \"year\": 1964\n",
    "}\n",
    "\n",
    "## 1.1 Introduction\n",
    "\n",
    "Dictionaries are used to store data values in key and value pairs. A dictionary is a collection which is ordered, changeable and do not allow duplicates.\n",
    "\n",
    "As of Python version 3.7, dictionaries are ordered. In Python 3.6 and earlier, dictionaries are unordered. Dictionaries are written with curly brackets, and have keys and values."
   ]
  },
  {
   "cell_type": "code",
   "execution_count": 64,
   "id": "d11eb5ae",
   "metadata": {},
   "outputs": [
    {
     "name": "stdout",
     "output_type": "stream",
     "text": [
      "{'brand': 'Ford', 'model': 'Mustang', 'year': 1964}\n"
     ]
    }
   ],
   "source": [
    "# Create and print a dictionary.\n",
    "\n",
    "thisdict = {\n",
    "  \"brand\": \"Ford\",\n",
    "  \"model\": \"Mustang\",\n",
    "  \"year\": 1964\n",
    "}\n",
    "\n",
    "print(thisdict)"
   ]
  },
  {
   "cell_type": "markdown",
   "id": "1ad10a74",
   "metadata": {},
   "source": [
    "## 1.2 Dictionary Items\n",
    "\n",
    "Dictionary items are ordered, changeable, and does not allow duplicates.\n",
    "\n",
    "Dictionary items are presented in key:value pairs, and can be referred to by using the key name."
   ]
  },
  {
   "cell_type": "code",
   "execution_count": 65,
   "id": "1add8dce",
   "metadata": {},
   "outputs": [
    {
     "name": "stdout",
     "output_type": "stream",
     "text": [
      "Ford\n"
     ]
    }
   ],
   "source": [
    "# Print the \"brand\" value of the dictionary.\n",
    "\n",
    "thisdict = {\n",
    "  \"brand\": \"Ford\",\n",
    "  \"model\": \"Mustang\",\n",
    "  \"year\": 1964\n",
    "}\n",
    "\n",
    "print(thisdict[\"brand\"])"
   ]
  },
  {
   "cell_type": "markdown",
   "id": "c653eef3",
   "metadata": {},
   "source": [
    "## 1.3 Ordered or Unordered?\n",
    "\n",
    "As of Python version 3.7, dictionaries are ordered. In Python 3.6 and earlier, dictionaries are unordered.\n",
    "\n",
    "When we say that dictionaries are ordered, it means that the items have a defined order, and that order will not change.\n",
    "\n",
    "Unordered means that the items does not have a defined order, you cannot refer to an item by using an index.\n",
    "\n",
    "## 1.4 Changeable\n",
    "\n",
    "Dictionaries are changeable, meaning that we can change, add or remove items after the dictionary has been created.\n",
    "\n",
    "## 1.5 Duplicates Not Allowed\n",
    "\n",
    "Dictionaries cannot have two items with the same key."
   ]
  },
  {
   "cell_type": "code",
   "execution_count": 66,
   "id": "71a400df",
   "metadata": {},
   "outputs": [
    {
     "name": "stdout",
     "output_type": "stream",
     "text": [
      "{'brand': 'Ford', 'model': 'Mustang', 'year': 2020}\n"
     ]
    }
   ],
   "source": [
    "# Duplicate values will overwrite existing values.\n",
    "\n",
    "thisdict = {\n",
    "  \"brand\": \"Ford\",\n",
    "  \"model\": \"Mustang\",\n",
    "  \"year\": 1964,\n",
    "  \"year\": 2020\n",
    "}\n",
    "\n",
    "print(thisdict)"
   ]
  },
  {
   "cell_type": "markdown",
   "id": "20f194c1",
   "metadata": {},
   "source": [
    "## 1.6 Dictionary Length\n",
    "\n",
    "To determine how many items a dictionary has, use the len() function."
   ]
  },
  {
   "cell_type": "code",
   "execution_count": 67,
   "id": "f40d7c5c",
   "metadata": {},
   "outputs": [
    {
     "name": "stdout",
     "output_type": "stream",
     "text": [
      "3\n"
     ]
    }
   ],
   "source": [
    "# Print the number of items in the dictionary.\n",
    "\n",
    "print(len(thisdict))"
   ]
  },
  {
   "cell_type": "markdown",
   "id": "407aecdc",
   "metadata": {},
   "source": [
    "## 1.7 Dictionary Items - Data Types\n",
    "\n",
    "The values in dictionary items can be of any data type."
   ]
  },
  {
   "cell_type": "code",
   "execution_count": 68,
   "id": "9c115098",
   "metadata": {},
   "outputs": [],
   "source": [
    "# String, int, boolean, and list data types.\n",
    "\n",
    "thisdict = {\n",
    "  \"brand\": \"Ford\",\n",
    "  \"electric\": False,\n",
    "  \"year\": 1964,\n",
    "  \"colors\": [\"red\", \"white\", \"blue\"]\n",
    "}"
   ]
  },
  {
   "cell_type": "markdown",
   "id": "2c544ac6",
   "metadata": {},
   "source": [
    "## 1.8 type()\n",
    "\n",
    "From Python's perspective, dictionaries are defined as objects with the data type 'dict'."
   ]
  },
  {
   "cell_type": "code",
   "execution_count": 69,
   "id": "a65df006",
   "metadata": {},
   "outputs": [
    {
     "name": "stdout",
     "output_type": "stream",
     "text": [
      "<class 'dict'>\n"
     ]
    }
   ],
   "source": [
    "# Print the data type of a dictionary.\n",
    "\n",
    "thisdict = {\n",
    "  \"brand\": \"Ford\",\n",
    "  \"model\": \"Mustang\",\n",
    "  \"year\": 1964\n",
    "}\n",
    "\n",
    "print(type(thisdict))"
   ]
  },
  {
   "cell_type": "markdown",
   "id": "4fbbb5e7",
   "metadata": {},
   "source": [
    "# 2. Accessing Dictionary Items\n",
    "\n",
    "## 2.1 Accessing Items\n",
    "\n",
    "You can access the items of a dictionary by referring to its key name, inside square brackets."
   ]
  },
  {
   "cell_type": "code",
   "execution_count": 1,
   "id": "18cadda3",
   "metadata": {},
   "outputs": [],
   "source": [
    "# Get the value of the \"model\" key.\n",
    "\n",
    "thisdict = {\n",
    "  \"brand\": \"Ford\",\n",
    "  \"model\": \"Mustang\",\n",
    "  \"year\": 1964\n",
    "}\n",
    "\n",
    "x = thisdict[\"model\"]"
   ]
  },
  {
   "cell_type": "code",
   "execution_count": 2,
   "id": "641bea28",
   "metadata": {},
   "outputs": [
    {
     "data": {
      "text/plain": [
       "'Mustang'"
      ]
     },
     "execution_count": 2,
     "metadata": {},
     "output_type": "execute_result"
    }
   ],
   "source": [
    "# There is also a method called get() that will give you the same result.\n",
    "\n",
    "# Get the value of the \"model\" key.\n",
    "\n",
    "x = thisdict.get(\"model\")\n",
    "\n",
    "x"
   ]
  },
  {
   "cell_type": "markdown",
   "id": "b9eed040",
   "metadata": {},
   "source": [
    "## 2.2 Getting Keys\n",
    "\n",
    "The keys() method will return a list of all the keys in the dictionary."
   ]
  },
  {
   "cell_type": "code",
   "execution_count": 3,
   "id": "bc52e354",
   "metadata": {},
   "outputs": [
    {
     "data": {
      "text/plain": [
       "dict_keys(['brand', 'model', 'year'])"
      ]
     },
     "execution_count": 3,
     "metadata": {},
     "output_type": "execute_result"
    }
   ],
   "source": [
    "# Get a list of the keys.\n",
    "\n",
    "x = thisdict.keys()\n",
    "\n",
    "x"
   ]
  },
  {
   "cell_type": "markdown",
   "id": "0f42e9e3",
   "metadata": {},
   "source": [
    "The list of the keys is a view of the dictionary, meaning that any changes done to the dictionary will be reflected in the keys list."
   ]
  },
  {
   "cell_type": "code",
   "execution_count": 4,
   "id": "1f8ee559",
   "metadata": {},
   "outputs": [
    {
     "name": "stdout",
     "output_type": "stream",
     "text": [
      "dict_keys(['brand', 'model', 'year'])\n",
      "dict_keys(['brand', 'model', 'year', 'color'])\n"
     ]
    }
   ],
   "source": [
    "# Add a new item to the original dictionary, and see that the keys list gets updated as well.\n",
    "\n",
    "car = {\n",
    "\"brand\": \"Ford\",\n",
    "\"model\": \"Mustang\",\n",
    "\"year\": 1964\n",
    "}\n",
    "\n",
    "x = car.keys()\n",
    "\n",
    "print(x)     # before the change.\n",
    "\n",
    "car[\"color\"] = \"white\"\n",
    "\n",
    "print(x)     # after the change."
   ]
  },
  {
   "cell_type": "markdown",
   "id": "46649b7d",
   "metadata": {},
   "source": [
    "## 2.3 Getting Values\n",
    "\n",
    "The values() method will return a list of all the values in the dictionary."
   ]
  },
  {
   "cell_type": "code",
   "execution_count": 5,
   "id": "21618510",
   "metadata": {},
   "outputs": [
    {
     "data": {
      "text/plain": [
       "dict_values(['Ford', 'Mustang', 1964])"
      ]
     },
     "execution_count": 5,
     "metadata": {},
     "output_type": "execute_result"
    }
   ],
   "source": [
    "# Get a list of the values.\n",
    "\n",
    "x = thisdict.values()\n",
    "x"
   ]
  },
  {
   "cell_type": "markdown",
   "id": "09f94131",
   "metadata": {},
   "source": [
    "The list of the values is a view of the dictionary, meaning that any changes done to the dictionary will be reflected in the values list."
   ]
  },
  {
   "cell_type": "code",
   "execution_count": 75,
   "id": "c621f476",
   "metadata": {},
   "outputs": [
    {
     "name": "stdout",
     "output_type": "stream",
     "text": [
      "dict_values(['Ford', 'Mustang', 1964])\n",
      "dict_values(['Ford', 'Mustang', 2020])\n"
     ]
    }
   ],
   "source": [
    "# Make a change in the original dictionary, and see that the values list gets updated as well.\n",
    "\n",
    "car = {\n",
    "\"brand\": \"Ford\",\n",
    "\"model\": \"Mustang\",\n",
    "\"year\": 1964\n",
    "}\n",
    "\n",
    "x = car.values()\n",
    "\n",
    "print(x)    # before the change.\n",
    "\n",
    "car[\"year\"] = 2020\n",
    "\n",
    "print(x)    # after the change."
   ]
  },
  {
   "cell_type": "code",
   "execution_count": 76,
   "id": "fe170040",
   "metadata": {},
   "outputs": [
    {
     "name": "stdout",
     "output_type": "stream",
     "text": [
      "dict_values(['Ford', 'Mustang', 1964])\n",
      "dict_values(['Ford', 'Mustang', 1964, 'red'])\n"
     ]
    }
   ],
   "source": [
    "# Add a new item to the original dictionary, and see that the values list gets updated as well.\n",
    "\n",
    "car = {\n",
    "\"brand\": \"Ford\",\n",
    "\"model\": \"Mustang\",\n",
    "\"year\": 1964\n",
    "}\n",
    "\n",
    "x = car.values()\n",
    "\n",
    "print(x)    # before the change.\n",
    "\n",
    "car[\"color\"] = \"red\"\n",
    "\n",
    "print(x)    # after the change."
   ]
  },
  {
   "cell_type": "markdown",
   "id": "5bf2b840",
   "metadata": {},
   "source": [
    "## 2.4 Getting Items\n",
    "\n",
    "The items() method will return each item in a dictionary, as tuples in a list."
   ]
  },
  {
   "cell_type": "code",
   "execution_count": 77,
   "id": "7d0e3135",
   "metadata": {},
   "outputs": [],
   "source": [
    "# Get a list of the key and value pairs.\n",
    "\n",
    "x = thisdict.items()"
   ]
  },
  {
   "cell_type": "markdown",
   "id": "3c02fad7",
   "metadata": {},
   "source": [
    "The returned list is a view of the items of the dictionary, meaning that any changes done to the dictionary will be reflected in the items list."
   ]
  },
  {
   "cell_type": "code",
   "execution_count": 78,
   "id": "a2f18325",
   "metadata": {},
   "outputs": [
    {
     "name": "stdout",
     "output_type": "stream",
     "text": [
      "dict_items([('brand', 'Ford'), ('model', 'Mustang'), ('year', 1964)])\n",
      "dict_items([('brand', 'Ford'), ('model', 'Mustang'), ('year', 2020)])\n"
     ]
    }
   ],
   "source": [
    "# Make a change in the original dictionary, and see that the items list gets updated as well.\n",
    "\n",
    "car = {\n",
    "\"brand\": \"Ford\",\n",
    "\"model\": \"Mustang\",\n",
    "\"year\": 1964\n",
    "}\n",
    "\n",
    "x = car.items()\n",
    "\n",
    "print(x)    # before the change.\n",
    "\n",
    "car[\"year\"] = 2020\n",
    "\n",
    "print(x)    # after the change."
   ]
  },
  {
   "cell_type": "code",
   "execution_count": 79,
   "id": "c4b25609",
   "metadata": {},
   "outputs": [
    {
     "name": "stdout",
     "output_type": "stream",
     "text": [
      "dict_items([('brand', 'Ford'), ('model', 'Mustang'), ('year', 1964)])\n",
      "dict_items([('brand', 'Ford'), ('model', 'Mustang'), ('year', 1964), ('color', 'red')])\n"
     ]
    }
   ],
   "source": [
    "# Add a new item to the original dictionary, and see that the items list gets updated as well.\n",
    "\n",
    "car = {\n",
    "\"brand\": \"Ford\",\n",
    "\"model\": \"Mustang\",\n",
    "\"year\": 1964\n",
    "}\n",
    "\n",
    "x = car.items()\n",
    "\n",
    "print(x)   # before the change.\n",
    "\n",
    "car[\"color\"] = \"red\"\n",
    "\n",
    "print(x)   # after the change."
   ]
  },
  {
   "cell_type": "markdown",
   "id": "6fbe422e",
   "metadata": {},
   "source": [
    "## 2.5 Checking if Key Exists\n",
    "\n",
    "To determine if a specified key is present in a dictionary use the in keyword."
   ]
  },
  {
   "cell_type": "code",
   "execution_count": 80,
   "id": "ab9e62f7",
   "metadata": {},
   "outputs": [
    {
     "name": "stdout",
     "output_type": "stream",
     "text": [
      "Yes, 'model' is one of the keys in the thisdict dictionary\n"
     ]
    }
   ],
   "source": [
    "# Check if \"model\" is present in the dictionary.\n",
    "\n",
    "thisdict = {\n",
    "  \"brand\": \"Ford\",\n",
    "  \"model\": \"Mustang\",\n",
    "  \"year\": 1964\n",
    "}\n",
    "\n",
    "if \"model\" in thisdict:\n",
    "  print(\"Yes, 'model' is one of the keys in the thisdict dictionary\")"
   ]
  },
  {
   "cell_type": "markdown",
   "id": "5246e53f",
   "metadata": {},
   "source": [
    "# 3. Changing Dictionary Items\n",
    "\n",
    "## 3.1 Changing Values\n",
    "\n",
    "You can change the value of a specific item by referring to its key name."
   ]
  },
  {
   "cell_type": "code",
   "execution_count": 81,
   "id": "77b86a90",
   "metadata": {},
   "outputs": [],
   "source": [
    "# Change the \"year\" to 2018.\n",
    "\n",
    "thisdict = {\n",
    "  \"brand\": \"Ford\",\n",
    "  \"model\": \"Mustang\",\n",
    "  \"year\": 1964\n",
    "}\n",
    "\n",
    "thisdict[\"year\"] = 2018"
   ]
  },
  {
   "cell_type": "markdown",
   "id": "c3002ccc",
   "metadata": {},
   "source": [
    "## 3.2 Updating Dictionary\n",
    "\n",
    "The update() method will update the dictionary with the items from the given argument.\n",
    "\n",
    "The argument must be a dictionary, or an iterable object with key : value pairs."
   ]
  },
  {
   "cell_type": "code",
   "execution_count": 82,
   "id": "251ff21b",
   "metadata": {},
   "outputs": [],
   "source": [
    "# Update the \"year\" of the car by using the update() method.\n",
    "\n",
    "thisdict = {\n",
    "  \"brand\": \"Ford\",\n",
    "  \"model\": \"Mustang\",\n",
    "  \"year\": 1964\n",
    "}\n",
    "\n",
    "thisdict.update({\"year\": 2020})"
   ]
  },
  {
   "cell_type": "markdown",
   "id": "c78356e0",
   "metadata": {},
   "source": [
    "# 4. Adding Dictionary Items\n",
    "\n",
    "## 4.1 Adding Items\n",
    "\n",
    "Adding an item to the dictionary is done by using a new index key and assigning a value to it."
   ]
  },
  {
   "cell_type": "code",
   "execution_count": 83,
   "id": "64fedd73",
   "metadata": {},
   "outputs": [
    {
     "name": "stdout",
     "output_type": "stream",
     "text": [
      "{'brand': 'Ford', 'model': 'Mustang', 'year': 1964, 'color': 'red'}\n"
     ]
    }
   ],
   "source": [
    "thisdict = {\n",
    "  \"brand\": \"Ford\",\n",
    "  \"model\": \"Mustang\",\n",
    "  \"year\": 1964\n",
    "}\n",
    "\n",
    "thisdict[\"color\"] = \"red\"\n",
    "\n",
    "print(thisdict)"
   ]
  },
  {
   "cell_type": "markdown",
   "id": "132ff648",
   "metadata": {},
   "source": [
    "## 4.2 Updating Dictionary\n",
    "\n",
    "The update() method will update the dictionary with the items from a given argument. If the item does not exist, the item will be added.\n",
    "\n",
    "The argument must be a dictionary, or an iterable object with key : value pairs."
   ]
  },
  {
   "cell_type": "code",
   "execution_count": 84,
   "id": "73a64b3c",
   "metadata": {},
   "outputs": [],
   "source": [
    "# Add a color item to the dictionary by using the update() method.\n",
    "\n",
    "thisdict = {\n",
    "  \"brand\": \"Ford\",\n",
    "  \"model\": \"Mustang\",\n",
    "  \"year\": 1964\n",
    "}\n",
    "\n",
    "thisdict.update({\"color\": \"red\"})"
   ]
  },
  {
   "cell_type": "markdown",
   "id": "f7840562",
   "metadata": {},
   "source": [
    "# 5. Removing Dictionary Items\n",
    "\n",
    "There are several methods to remove items from a dictionary."
   ]
  },
  {
   "cell_type": "code",
   "execution_count": 85,
   "id": "9bc73687",
   "metadata": {},
   "outputs": [
    {
     "name": "stdout",
     "output_type": "stream",
     "text": [
      "{'brand': 'Ford', 'year': 1964}\n"
     ]
    }
   ],
   "source": [
    "# The pop() method removes the item with the specified key name.\n",
    "\n",
    "thisdict = {\n",
    "  \"brand\": \"Ford\",\n",
    "  \"model\": \"Mustang\",\n",
    "  \"year\": 1964\n",
    "}\n",
    "\n",
    "thisdict.pop(\"model\")\n",
    "\n",
    "print(thisdict)"
   ]
  },
  {
   "cell_type": "code",
   "execution_count": 86,
   "id": "83aa980d",
   "metadata": {},
   "outputs": [
    {
     "name": "stdout",
     "output_type": "stream",
     "text": [
      "{'brand': 'Ford', 'model': 'Mustang'}\n"
     ]
    }
   ],
   "source": [
    "# The popitem() method removes the last inserted item \n",
    "\n",
    "# (in versions before 3.7, a random item is removed instead).\n",
    "\n",
    "thisdict = {\n",
    "  \"brand\": \"Ford\",\n",
    "  \"model\": \"Mustang\",\n",
    "  \"year\": 1964\n",
    "}\n",
    "\n",
    "thisdict.popitem()\n",
    "\n",
    "print(thisdict)"
   ]
  },
  {
   "cell_type": "code",
   "execution_count": 87,
   "id": "d340fc72",
   "metadata": {},
   "outputs": [
    {
     "name": "stdout",
     "output_type": "stream",
     "text": [
      "{'brand': 'Ford', 'year': 1964}\n"
     ]
    }
   ],
   "source": [
    "# The del keyword removes the item with the specified key name.\n",
    "\n",
    "thisdict = {\n",
    "  \"brand\": \"Ford\",\n",
    "  \"model\": \"Mustang\",\n",
    "  \"year\": 1964\n",
    "}\n",
    "\n",
    "del thisdict[\"model\"]\n",
    "\n",
    "print(thisdict)"
   ]
  },
  {
   "cell_type": "code",
   "execution_count": 88,
   "id": "d23e5b20",
   "metadata": {},
   "outputs": [
    {
     "ename": "NameError",
     "evalue": "name 'thisdict' is not defined",
     "output_type": "error",
     "traceback": [
      "\u001b[1;31m---------------------------------------------------------------------------\u001b[0m",
      "\u001b[1;31mNameError\u001b[0m                                 Traceback (most recent call last)",
      "\u001b[1;32m<ipython-input-88-8e032e22d498>\u001b[0m in \u001b[0;36m<module>\u001b[1;34m\u001b[0m\n\u001b[0;32m      7\u001b[0m }\n\u001b[0;32m      8\u001b[0m \u001b[1;32mdel\u001b[0m \u001b[0mthisdict\u001b[0m\u001b[1;33m\u001b[0m\u001b[1;33m\u001b[0m\u001b[0m\n\u001b[1;32m----> 9\u001b[1;33m \u001b[0mprint\u001b[0m\u001b[1;33m(\u001b[0m\u001b[0mthisdict\u001b[0m\u001b[1;33m)\u001b[0m \u001b[1;31m#this will cause an error because \"thisdict\" no longer exists.\u001b[0m\u001b[1;33m\u001b[0m\u001b[1;33m\u001b[0m\u001b[0m\n\u001b[0m",
      "\u001b[1;31mNameError\u001b[0m: name 'thisdict' is not defined"
     ]
    }
   ],
   "source": [
    "# The del keyword can also delete the dictionary completely.\n",
    "\n",
    "thisdict = {\n",
    "  \"brand\": \"Ford\",\n",
    "  \"model\": \"Mustang\",\n",
    "  \"year\": 1964\n",
    "}\n",
    "\n",
    "del thisdict\n",
    "\n",
    "print(thisdict) # This will cause an error because \"thisdict\" no longer exists."
   ]
  },
  {
   "cell_type": "code",
   "execution_count": 89,
   "id": "a385691d",
   "metadata": {},
   "outputs": [
    {
     "name": "stdout",
     "output_type": "stream",
     "text": [
      "{}\n"
     ]
    }
   ],
   "source": [
    "# The clear() method empties the dictionary.\n",
    "\n",
    "thisdict = {\n",
    "  \"brand\": \"Ford\",\n",
    "  \"model\": \"Mustang\",\n",
    "  \"year\": 1964\n",
    "}\n",
    "\n",
    "thisdict.clear()\n",
    "\n",
    "print(thisdict)"
   ]
  },
  {
   "cell_type": "markdown",
   "id": "dd4bf125",
   "metadata": {},
   "source": [
    "# 6. Looping Dictionaries\n",
    "\n",
    "You can loop through a dictionary by using a for loop.\n",
    "\n",
    "When looping through a dictionary, the return value are the keys of the dictionary, but there are methods to return the values as well."
   ]
  },
  {
   "cell_type": "code",
   "execution_count": 91,
   "id": "9ed98159",
   "metadata": {},
   "outputs": [
    {
     "name": "stdout",
     "output_type": "stream",
     "text": [
      "brand\n",
      "model\n",
      "year\n"
     ]
    }
   ],
   "source": [
    "# Print all key names in the dictionary, one by one.\n",
    "\n",
    "thisdict = {\n",
    "  \"brand\": \"Ford\",\n",
    "  \"model\": \"Mustang\",\n",
    "  \"year\": 1964\n",
    "}\n",
    "\n",
    "for x in thisdict:\n",
    "  print(x)"
   ]
  },
  {
   "cell_type": "code",
   "execution_count": 92,
   "id": "b488c8f0",
   "metadata": {},
   "outputs": [
    {
     "name": "stdout",
     "output_type": "stream",
     "text": [
      "Ford\n",
      "Mustang\n",
      "1964\n"
     ]
    }
   ],
   "source": [
    "# Print all values in the dictionary, one by one.\n",
    "\n",
    "for x in thisdict:\n",
    "  print(thisdict[x])"
   ]
  },
  {
   "cell_type": "code",
   "execution_count": 93,
   "id": "5b988028",
   "metadata": {},
   "outputs": [
    {
     "name": "stdout",
     "output_type": "stream",
     "text": [
      "Ford\n",
      "Mustang\n",
      "1964\n"
     ]
    }
   ],
   "source": [
    "# You can also use the values() method to return values of a dictionary.\n",
    "\n",
    "for x in thisdict.values():\n",
    "  print(x)"
   ]
  },
  {
   "cell_type": "code",
   "execution_count": 94,
   "id": "19537e60",
   "metadata": {},
   "outputs": [
    {
     "name": "stdout",
     "output_type": "stream",
     "text": [
      "brand\n",
      "model\n",
      "year\n"
     ]
    }
   ],
   "source": [
    "# You can use the keys() method to return the keys of a dictionary.\n",
    "\n",
    "for x in thisdict.keys():\n",
    "  print(x)"
   ]
  },
  {
   "cell_type": "code",
   "execution_count": 95,
   "id": "f1312968",
   "metadata": {},
   "outputs": [
    {
     "name": "stdout",
     "output_type": "stream",
     "text": [
      "brand Ford\n",
      "model Mustang\n",
      "year 1964\n"
     ]
    }
   ],
   "source": [
    "# Loop through both keys and values, by using the items() method.\n",
    "\n",
    "for x, y in thisdict.items():\n",
    "  print(x, y)"
   ]
  },
  {
   "cell_type": "markdown",
   "id": "49326931",
   "metadata": {},
   "source": [
    "# 7. Copying Dictionaries\n",
    "\n",
    "You cannot copy a dictionary simply by typing dict 2 = dict 1, because: dict 2 will only be a reference to dict 1, and changes made in dict 1 will automatically also be made in dict 2.\n",
    "\n",
    "There are ways to make a copy, one way is to use the built-in Dictionary method copy()."
   ]
  },
  {
   "cell_type": "code",
   "execution_count": 96,
   "id": "488cc1a8",
   "metadata": {},
   "outputs": [
    {
     "name": "stdout",
     "output_type": "stream",
     "text": [
      "{'brand': 'Ford', 'model': 'Mustang', 'year': 1964}\n"
     ]
    }
   ],
   "source": [
    "# Make a copy of a dictionary with the copy() method.\n",
    "\n",
    "thisdict = {\n",
    "  \"brand\": \"Ford\",\n",
    "  \"model\": \"Mustang\",\n",
    "  \"year\": 1964\n",
    "}\n",
    "\n",
    "mydict = thisdict.copy()\n",
    "\n",
    "print(mydict)"
   ]
  },
  {
   "cell_type": "code",
   "execution_count": 97,
   "id": "63706eec",
   "metadata": {},
   "outputs": [
    {
     "name": "stdout",
     "output_type": "stream",
     "text": [
      "{'brand': 'Ford', 'model': 'Mustang', 'year': 1964}\n"
     ]
    }
   ],
   "source": [
    "# Another way to make a copy is to use the built-in function dict().\n",
    "\n",
    "# Make a copy of a dictionary with the dict() function.\n",
    "\n",
    "thisdict = {\n",
    "  \"brand\": \"Ford\",\n",
    "  \"model\": \"Mustang\",\n",
    "  \"year\": 1964\n",
    "}\n",
    "\n",
    "mydict = dict(thisdict)\n",
    "\n",
    "print(mydict)"
   ]
  },
  {
   "cell_type": "markdown",
   "id": "37c5117d",
   "metadata": {},
   "source": [
    "# 8. Nested Dictionaries\n",
    "\n",
    "A dictionary can contain dictionaries, this is called nested dictionaries."
   ]
  },
  {
   "cell_type": "code",
   "execution_count": 98,
   "id": "45b8c1de",
   "metadata": {},
   "outputs": [],
   "source": [
    "# Create a dictionary that contain three dictionaries.\n",
    "\n",
    "myfamily = {\n",
    "  \"child1\" : {\n",
    "    \"name\" : \"Emil\",\n",
    "    \"year\" : 2004\n",
    "  },\n",
    "  \"child2\" : {\n",
    "    \"name\" : \"Tobias\",\n",
    "    \"year\" : 2007\n",
    "  },\n",
    "  \"child3\" : {\n",
    "    \"name\" : \"Linus\",\n",
    "    \"year\" : 2011\n",
    "  }\n",
    "}"
   ]
  },
  {
   "cell_type": "code",
   "execution_count": 99,
   "id": "d9136408",
   "metadata": {},
   "outputs": [],
   "source": [
    "# Or, if you want to add three dictionaries into a new dictionary.\n",
    "\n",
    "# Create three dictionaries, \n",
    "\n",
    "# then create one dictionary that will contain the other three dictionaries.\n",
    "\n",
    "child1 = {\n",
    "  \"name\" : \"Emil\",\n",
    "  \"year\" : 2004\n",
    "}\n",
    "child2 = {\n",
    "  \"name\" : \"Tobias\",\n",
    "  \"year\" : 2007\n",
    "}\n",
    "child3 = {\n",
    "  \"name\" : \"Linus\",\n",
    "  \"year\" : 2011\n",
    "}\n",
    "\n",
    "myfamily = {\n",
    "  \"child1\" : child1,\n",
    "  \"child2\" : child2,\n",
    "  \"child3\" : child3\n",
    "}"
   ]
  },
  {
   "attachments": {
    "image-2.png": {
     "image/png": "[encoded data removed]"
    }
   },
   "cell_type": "markdown",
   "id": "a6f6826a",
   "metadata": {},
   "source": [
    "# 9. Dictionary Methods\n",
    "\n",
    "![image-2.png](attachment:image-2.png)"
   ]
  },
  {
   "cell_type": "markdown",
   "id": "5e6deecc",
   "metadata": {
    "id": "2cF69Ht_W3EQ"
   },
   "source": [
    "## Practice"
   ]
  },
  {
   "cell_type": "code",
   "execution_count": 90,
   "id": "ac2d3ccb",
   "metadata": {
    "colab": {
     "base_uri": "https://localhost:8080/"
    },
    "executionInfo": {
     "elapsed": 401,
     "status": "ok",
     "timestamp": 1627060663542,
     "user": {
      "displayName": "Siddharth Swain",
      "photoUrl": "",
      "userId": "12055456511825659152"
     },
     "user_tz": -330
    },
    "id": "Mviiyxy_WwoO",
    "outputId": "08fae8e2-6ccb-42b3-db60-f2fca7fed20b"
   },
   "outputs": [
    {
     "data": {
      "text/plain": [
       "dict"
      ]
     },
     "execution_count": 90,
     "metadata": {},
     "output_type": "execute_result"
    }
   ],
   "source": [
    "x = {}\n",
    "type(x)"
   ]
  },
  {
   "cell_type": "code",
   "execution_count": 91,
   "id": "24ba1f1d",
   "metadata": {
    "colab": {
     "base_uri": "https://localhost:8080/"
    },
    "executionInfo": {
     "elapsed": 397,
     "status": "ok",
     "timestamp": 1627060685075,
     "user": {
      "displayName": "Siddharth Swain",
      "photoUrl": "",
      "userId": "12055456511825659152"
     },
     "user_tz": -330
    },
    "id": "E8xCXEXCX23-",
    "outputId": "ad34e965-3170-419c-962f-8bc2c7ab4c5d"
   },
   "outputs": [
    {
     "data": {
      "text/plain": [
       "set"
      ]
     },
     "execution_count": 91,
     "metadata": {},
     "output_type": "execute_result"
    }
   ],
   "source": [
    "x1 = {34,56}\n",
    "type(x1)"
   ]
  },
  {
   "cell_type": "code",
   "execution_count": 92,
   "id": "3cb59bf7",
   "metadata": {
    "id": "htzSrGN5X8PW"
   },
   "outputs": [],
   "source": [
    "x2 = {1:\"hello\",2:23,\"hehe\":\"heheheheheheh\",2:333333}"
   ]
  },
  {
   "cell_type": "code",
   "execution_count": 93,
   "id": "da3cebef",
   "metadata": {
    "colab": {
     "base_uri": "https://localhost:8080/"
    },
    "executionInfo": {
     "elapsed": 4,
     "status": "ok",
     "timestamp": 1627065279792,
     "user": {
      "displayName": "Siddharth Swain",
      "photoUrl": "",
      "userId": "12055456511825659152"
     },
     "user_tz": -330
    },
    "id": "ScyM0pUmpYMH",
    "outputId": "ade46f36-1abc-4714-8b02-d3abce02e343"
   },
   "outputs": [
    {
     "data": {
      "text/plain": [
       "dict"
      ]
     },
     "execution_count": 93,
     "metadata": {},
     "output_type": "execute_result"
    }
   ],
   "source": [
    "type(x2)"
   ]
  },
  {
   "cell_type": "code",
   "execution_count": 94,
   "id": "76b4d0da",
   "metadata": {
    "colab": {
     "base_uri": "https://localhost:8080/",
     "height": 35
    },
    "executionInfo": {
     "elapsed": 395,
     "status": "ok",
     "timestamp": 1627065297521,
     "user": {
      "displayName": "Siddharth Swain",
      "photoUrl": "",
      "userId": "12055456511825659152"
     },
     "user_tz": -330
    },
    "id": "MHxREgcFpZSf",
    "outputId": "40ec33ab-3040-4a88-b7bf-e8db0efb8270"
   },
   "outputs": [
    {
     "data": {
      "text/plain": [
       "'hello'"
      ]
     },
     "execution_count": 94,
     "metadata": {},
     "output_type": "execute_result"
    }
   ],
   "source": [
    "x2[1]"
   ]
  },
  {
   "cell_type": "code",
   "execution_count": 95,
   "id": "6734117d",
   "metadata": {
    "colab": {
     "base_uri": "https://localhost:8080/",
     "height": 35
    },
    "executionInfo": {
     "elapsed": 407,
     "status": "ok",
     "timestamp": 1627065305376,
     "user": {
      "displayName": "Siddharth Swain",
      "photoUrl": "",
      "userId": "12055456511825659152"
     },
     "user_tz": -330
    },
    "id": "INoLj8OApiWP",
    "outputId": "4f8dd0bf-fc6e-4627-8e8c-4b857df9488d"
   },
   "outputs": [
    {
     "data": {
      "text/plain": [
       "'heheheheheheh'"
      ]
     },
     "execution_count": 95,
     "metadata": {},
     "output_type": "execute_result"
    }
   ],
   "source": [
    "x2[\"hehe\"]"
   ]
  },
  {
   "cell_type": "code",
   "execution_count": 96,
   "id": "3ae8a541",
   "metadata": {
    "colab": {
     "base_uri": "https://localhost:8080/"
    },
    "executionInfo": {
     "elapsed": 388,
     "status": "ok",
     "timestamp": 1627065374775,
     "user": {
      "displayName": "Siddharth Swain",
      "photoUrl": "",
      "userId": "12055456511825659152"
     },
     "user_tz": -330
    },
    "id": "DasEogPypkUH",
    "outputId": "167f00b4-9cfe-4164-c69d-77cf7d6debff"
   },
   "outputs": [
    {
     "data": {
      "text/plain": [
       "333333"
      ]
     },
     "execution_count": 96,
     "metadata": {},
     "output_type": "execute_result"
    }
   ],
   "source": [
    "x2[2]"
   ]
  },
  {
   "cell_type": "code",
   "execution_count": 97,
   "id": "5caf5022",
   "metadata": {
    "id": "YjdiGY0Sp1PP"
   },
   "outputs": [],
   "source": [
    "x = {\"name\": \"sudh\" , \"age\": 25, 3 : 0}"
   ]
  },
  {
   "cell_type": "code",
   "execution_count": 98,
   "id": "1be0ee91",
   "metadata": {
    "colab": {
     "base_uri": "https://localhost:8080/"
    },
    "executionInfo": {
     "elapsed": 380,
     "status": "ok",
     "timestamp": 1627065421198,
     "user": {
      "displayName": "Siddharth Swain",
      "photoUrl": "",
      "userId": "12055456511825659152"
     },
     "user_tz": -330
    },
    "id": "D06r5ooZp_jm",
    "outputId": "257e683c-1074-4cdb-88bb-8d918d285ee4"
   },
   "outputs": [
    {
     "data": {
      "text/plain": [
       "{'name': 'sudh', 'age': 25, 3: 0}"
      ]
     },
     "execution_count": 98,
     "metadata": {},
     "output_type": "execute_result"
    }
   ],
   "source": [
    "x"
   ]
  },
  {
   "cell_type": "code",
   "execution_count": 99,
   "id": "c9c360fe",
   "metadata": {
    "colab": {
     "base_uri": "https://localhost:8080/"
    },
    "executionInfo": {
     "elapsed": 4,
     "status": "ok",
     "timestamp": 1627065508133,
     "user": {
      "displayName": "Siddharth Swain",
      "photoUrl": "",
      "userId": "12055456511825659152"
     },
     "user_tz": -330
    },
    "id": "SJeD9n0pqAb-",
    "outputId": "985020e9-b3cb-446d-ea75-cdaba3a7fdb7"
   },
   "outputs": [
    {
     "data": {
      "text/plain": [
       "dict"
      ]
     },
     "execution_count": 99,
     "metadata": {},
     "output_type": "execute_result"
    }
   ],
   "source": [
    "type(x)"
   ]
  },
  {
   "cell_type": "code",
   "execution_count": 100,
   "id": "a9788ddb",
   "metadata": {
    "id": "LstEHgh3qVwO"
   },
   "outputs": [],
   "source": [
    "x1 = {\"name\": \"sudh\" , \"age\": 3455 , \"name\" : \"siddharth\", True: \"wewewewew\" , \"key\" : False, 34:34}"
   ]
  },
  {
   "cell_type": "code",
   "execution_count": 101,
   "id": "15a5267f",
   "metadata": {
    "colab": {
     "base_uri": "https://localhost:8080/"
    },
    "executionInfo": {
     "elapsed": 413,
     "status": "ok",
     "timestamp": 1627065608469,
     "user": {
      "displayName": "Siddharth Swain",
      "photoUrl": "",
      "userId": "12055456511825659152"
     },
     "user_tz": -330
    },
    "id": "fWhohOyxqq2e",
    "outputId": "3cf0452d-2f8c-4533-8697-04015dc21f5c"
   },
   "outputs": [
    {
     "data": {
      "text/plain": [
       "{'name': 'siddharth', 'age': 3455, True: 'wewewewew', 'key': False, 34: 34}"
      ]
     },
     "execution_count": 101,
     "metadata": {},
     "output_type": "execute_result"
    }
   ],
   "source": [
    "x1"
   ]
  },
  {
   "cell_type": "code",
   "execution_count": 102,
   "id": "d1f76ae2",
   "metadata": {
    "id": "RkZCEWvyquSO"
   },
   "outputs": [],
   "source": [
    "x1 = {\"name\": \"sudh\" , \"_age\": 3455 , \"name\" : \"siddharth\", True: \"wewewewew\" , \"key\" : False, 34:34}"
   ]
  },
  {
   "cell_type": "code",
   "execution_count": 103,
   "id": "f23a3013",
   "metadata": {
    "colab": {
     "base_uri": "https://localhost:8080/"
    },
    "executionInfo": {
     "elapsed": 419,
     "status": "ok",
     "timestamp": 1627065752679,
     "user": {
      "displayName": "Siddharth Swain",
      "photoUrl": "",
      "userId": "12055456511825659152"
     },
     "user_tz": -330
    },
    "id": "3EBC2kVArML2",
    "outputId": "171dee63-7d79-4f12-b21e-d60b112b943b"
   },
   "outputs": [
    {
     "data": {
      "text/plain": [
       "{'name': 'siddharth', '_age': 3455, True: 'wewewewew', 'key': False, 34: 34}"
      ]
     },
     "execution_count": 103,
     "metadata": {},
     "output_type": "execute_result"
    }
   ],
   "source": [
    "x1"
   ]
  },
  {
   "cell_type": "code",
   "execution_count": 104,
   "id": "2435c05c",
   "metadata": {
    "id": "2rOyHdIDrRhO"
   },
   "outputs": [],
   "source": [
    "# In a dictionary, values can be a set, list, etc. (anything).\n",
    "\n",
    "x1 = {\"name\": \"sudh\" , \"_age\": 3455 , \"name\" : (3,4,5,6,7) , True: [1,2,3,4,5,6] , \"key\" : {\"a\" : 10 , \"b\" : 20}}"
   ]
  },
  {
   "cell_type": "code",
   "execution_count": 105,
   "id": "ea1c70e5",
   "metadata": {
    "colab": {
     "base_uri": "https://localhost:8080/"
    },
    "executionInfo": {
     "elapsed": 6,
     "status": "ok",
     "timestamp": 1627065876434,
     "user": {
      "displayName": "Siddharth Swain",
      "photoUrl": "",
      "userId": "12055456511825659152"
     },
     "user_tz": -330
    },
    "id": "PiueBnyZrk69",
    "outputId": "a9def6c9-191c-4858-b078-0595f22d1c5c"
   },
   "outputs": [
    {
     "data": {
      "text/plain": [
       "{'name': (3, 4, 5, 6, 7),\n",
       " '_age': 3455,\n",
       " True: [1, 2, 3, 4, 5, 6],\n",
       " 'key': {'a': 10, 'b': 20}}"
      ]
     },
     "execution_count": 105,
     "metadata": {},
     "output_type": "execute_result"
    }
   ],
   "source": [
    "x1"
   ]
  },
  {
   "cell_type": "code",
   "execution_count": 106,
   "id": "ebae245b",
   "metadata": {
    "id": "G09r2qRxrsC-"
   },
   "outputs": [],
   "source": [
    "# In a dictionary, the keys can be tuples.\n",
    "\n",
    "x1 = {(2,3,4): \"sudh\" , \"_age\": 3455 , \"name\" : (3,4,5,6,7) , True: [1,2,3,4,5,6] , \"key\" : {\"a\" : 10 , \"b\" : 20}}"
   ]
  },
  {
   "cell_type": "code",
   "execution_count": 107,
   "id": "feb1adcd",
   "metadata": {
    "colab": {
     "base_uri": "https://localhost:8080/"
    },
    "executionInfo": {
     "elapsed": 2,
     "status": "ok",
     "timestamp": 1627066022948,
     "user": {
      "displayName": "Siddharth Swain",
      "photoUrl": "",
      "userId": "12055456511825659152"
     },
     "user_tz": -330
    },
    "id": "nblM-ootsTEG",
    "outputId": "dd0a48ff-08e6-4876-b8a7-c1e6661f2405"
   },
   "outputs": [
    {
     "data": {
      "text/plain": [
       "{(2, 3, 4): 'sudh',\n",
       " '_age': 3455,\n",
       " 'name': (3, 4, 5, 6, 7),\n",
       " True: [1, 2, 3, 4, 5, 6],\n",
       " 'key': {'a': 10, 'b': 20}}"
      ]
     },
     "execution_count": 107,
     "metadata": {},
     "output_type": "execute_result"
    }
   ],
   "source": [
    "x1"
   ]
  },
  {
   "cell_type": "code",
   "execution_count": 108,
   "id": "c702f285",
   "metadata": {
    "colab": {
     "base_uri": "https://localhost:8080/"
    },
    "executionInfo": {
     "elapsed": 408,
     "status": "ok",
     "timestamp": 1627066079497,
     "user": {
      "displayName": "Siddharth Swain",
      "photoUrl": "",
      "userId": "12055456511825659152"
     },
     "user_tz": -330
    },
    "id": "H3lg_GlHsTcd",
    "outputId": "ed07e9db-341f-4df2-9b5d-c4efa99c34f2"
   },
   "outputs": [
    {
     "data": {
      "text/plain": [
       "dict_keys([(2, 3, 4), '_age', 'name', True, 'key'])"
      ]
     },
     "execution_count": 108,
     "metadata": {},
     "output_type": "execute_result"
    }
   ],
   "source": [
    "x1.keys()"
   ]
  },
  {
   "cell_type": "code",
   "execution_count": 109,
   "id": "509c7320",
   "metadata": {
    "colab": {
     "base_uri": "https://localhost:8080/"
    },
    "executionInfo": {
     "elapsed": 448,
     "status": "ok",
     "timestamp": 1627066083422,
     "user": {
      "displayName": "Siddharth Swain",
      "photoUrl": "",
      "userId": "12055456511825659152"
     },
     "user_tz": -330
    },
    "id": "mO0t6jvbshT1",
    "outputId": "4b9029e5-e073-45ec-8109-ee6f2c2d15af"
   },
   "outputs": [
    {
     "data": {
      "text/plain": [
       "dict_values(['sudh', 3455, (3, 4, 5, 6, 7), [1, 2, 3, 4, 5, 6], {'a': 10, 'b': 20}])"
      ]
     },
     "execution_count": 109,
     "metadata": {},
     "output_type": "execute_result"
    }
   ],
   "source": [
    "x1.values()"
   ]
  },
  {
   "cell_type": "code",
   "execution_count": 110,
   "id": "c5dfd3b1",
   "metadata": {
    "colab": {
     "base_uri": "https://localhost:8080/"
    },
    "executionInfo": {
     "elapsed": 386,
     "status": "ok",
     "timestamp": 1627066115052,
     "user": {
      "displayName": "Siddharth Swain",
      "photoUrl": "",
      "userId": "12055456511825659152"
     },
     "user_tz": -330
    },
    "id": "Nnox4_dTsiN9",
    "outputId": "63dda7d1-cb43-4af9-d389-cc58c40c0f30"
   },
   "outputs": [
    {
     "data": {
      "text/plain": [
       "[1, 2, 3, 4, 5, 6]"
      ]
     },
     "execution_count": 110,
     "metadata": {},
     "output_type": "execute_result"
    }
   ],
   "source": [
    "x1[True]"
   ]
  },
  {
   "cell_type": "code",
   "execution_count": 111,
   "id": "b0b2a557",
   "metadata": {
    "colab": {
     "base_uri": "https://localhost:8080/",
     "height": 35
    },
    "executionInfo": {
     "elapsed": 381,
     "status": "ok",
     "timestamp": 1627066154981,
     "user": {
      "displayName": "Siddharth Swain",
      "photoUrl": "",
      "userId": "12055456511825659152"
     },
     "user_tz": -330
    },
    "id": "7PjzmXRlsmgl",
    "outputId": "9e4fce4a-5bad-478e-8787-5724ff13215a"
   },
   "outputs": [
    {
     "data": {
      "text/plain": [
       "'sudh'"
      ]
     },
     "execution_count": 111,
     "metadata": {},
     "output_type": "execute_result"
    }
   ],
   "source": [
    "x1[(2,3,4)]"
   ]
  },
  {
   "cell_type": "markdown",
   "id": "6d3bb720",
   "metadata": {
    "id": "ORC30n5ps1tf"
   },
   "source": [
    "## Practice"
   ]
  },
  {
   "cell_type": "code",
   "execution_count": 112,
   "id": "1578a6d7",
   "metadata": {
    "id": "kYKHJmvlszv0"
   },
   "outputs": [],
   "source": [
    "x2 = { \"aaaa\": 23 , \"_sfsdf\" : [34,45,454,54,545] }"
   ]
  },
  {
   "cell_type": "code",
   "execution_count": 113,
   "id": "03deb1f1",
   "metadata": {
    "colab": {
     "base_uri": "https://localhost:8080/"
    },
    "executionInfo": {
     "elapsed": 410,
     "status": "ok",
     "timestamp": 1627066320946,
     "user": {
      "displayName": "Siddharth Swain",
      "photoUrl": "",
      "userId": "12055456511825659152"
     },
     "user_tz": -330
    },
    "id": "a1RCFW-2tUgl",
    "outputId": "2b58de91-535b-4ee2-9d0d-3c2e6017a16c"
   },
   "outputs": [
    {
     "data": {
      "text/plain": [
       "54"
      ]
     },
     "execution_count": 113,
     "metadata": {},
     "output_type": "execute_result"
    }
   ],
   "source": [
    "x2[\"_sfsdf\"][3]"
   ]
  },
  {
   "cell_type": "code",
   "execution_count": 114,
   "id": "e518d833",
   "metadata": {
    "colab": {
     "base_uri": "https://localhost:8080/"
    },
    "executionInfo": {
     "elapsed": 387,
     "status": "ok",
     "timestamp": 1627066334174,
     "user": {
      "displayName": "Siddharth Swain",
      "photoUrl": "",
      "userId": "12055456511825659152"
     },
     "user_tz": -330
    },
    "id": "L4SI-7ULtcF9",
    "outputId": "55fb0588-562d-46cd-a742-3aa817d9140d"
   },
   "outputs": [
    {
     "data": {
      "text/plain": [
       "23"
      ]
     },
     "execution_count": 114,
     "metadata": {},
     "output_type": "execute_result"
    }
   ],
   "source": [
    "x2[\"aaaa\"]"
   ]
  },
  {
   "cell_type": "code",
   "execution_count": 115,
   "id": "85230ff2",
   "metadata": {
    "colab": {
     "base_uri": "https://localhost:8080/",
     "height": 163
    },
    "executionInfo": {
     "elapsed": 395,
     "status": "error",
     "timestamp": 1627066357313,
     "user": {
      "displayName": "Siddharth Swain",
      "photoUrl": "",
      "userId": "12055456511825659152"
     },
     "user_tz": -330
    },
    "id": "BKwADB-YtffF",
    "outputId": "d91629bd-78cb-43d7-8f26-68ffb0222d3a"
   },
   "outputs": [
    {
     "ename": "TypeError",
     "evalue": "'int' object is not subscriptable",
     "output_type": "error",
     "traceback": [
      "\u001b[1;31m---------------------------------------------------------------------------\u001b[0m",
      "\u001b[1;31mTypeError\u001b[0m                                 Traceback (most recent call last)",
      "\u001b[1;32m<ipython-input-115-038af1c80370>\u001b[0m in \u001b[0;36m<module>\u001b[1;34m\u001b[0m\n\u001b[1;32m----> 1\u001b[1;33m \u001b[0mx2\u001b[0m\u001b[1;33m[\u001b[0m\u001b[1;34m\"aaaa\"\u001b[0m\u001b[1;33m]\u001b[0m\u001b[1;33m[\u001b[0m\u001b[1;36m0\u001b[0m\u001b[1;33m]\u001b[0m\u001b[1;33m\u001b[0m\u001b[1;33m\u001b[0m\u001b[0m\n\u001b[0m",
      "\u001b[1;31mTypeError\u001b[0m: 'int' object is not subscriptable"
     ]
    }
   ],
   "source": [
    "x2[\"aaaa\"][0]"
   ]
  },
  {
   "cell_type": "code",
   "execution_count": 116,
   "id": "b0a87aba",
   "metadata": {
    "colab": {
     "base_uri": "https://localhost:8080/"
    },
    "executionInfo": {
     "elapsed": 431,
     "status": "ok",
     "timestamp": 1627066367895,
     "user": {
      "displayName": "Siddharth Swain",
      "photoUrl": "",
      "userId": "12055456511825659152"
     },
     "user_tz": -330
    },
    "id": "j1G5L1ixtiYN",
    "outputId": "c8d11153-bbac-4712-b29b-ed33aed322fc"
   },
   "outputs": [
    {
     "data": {
      "text/plain": [
       "{'aaaa': 23, '_sfsdf': [34, 45, 454, 54, 545]}"
      ]
     },
     "execution_count": 116,
     "metadata": {},
     "output_type": "execute_result"
    }
   ],
   "source": [
    "x2"
   ]
  },
  {
   "cell_type": "code",
   "execution_count": 117,
   "id": "d83435bb",
   "metadata": {
    "id": "e1vNoICjtnod"
   },
   "outputs": [],
   "source": [
    "x1 = {(2,3,4): \"sudh\" , \"_age\": 3455 , \"name\" : (3,4,5,6,7) , True: [1,2,3,4,5,6] , \"key\" : {\"a\" : 10 , \"b\" : 20}}"
   ]
  },
  {
   "cell_type": "code",
   "execution_count": 118,
   "id": "bd75bff9",
   "metadata": {
    "colab": {
     "base_uri": "https://localhost:8080/"
    },
    "executionInfo": {
     "elapsed": 455,
     "status": "ok",
     "timestamp": 1627066443128,
     "user": {
      "displayName": "Siddharth Swain",
      "photoUrl": "",
      "userId": "12055456511825659152"
     },
     "user_tz": -330
    },
    "id": "7zReQgihtydd",
    "outputId": "58993a6d-a12d-414e-8910-7d652d8dfb0f"
   },
   "outputs": [
    {
     "data": {
      "text/plain": [
       "20"
      ]
     },
     "execution_count": 118,
     "metadata": {},
     "output_type": "execute_result"
    }
   ],
   "source": [
    "x1[\"key\"][\"b\"]"
   ]
  },
  {
   "cell_type": "markdown",
   "id": "ce4f85f5",
   "metadata": {
    "id": "YG7WlEo_urk9"
   },
   "source": [
    "## Practice"
   ]
  },
  {
   "cell_type": "code",
   "execution_count": 119,
   "id": "06fe9be1",
   "metadata": {
    "id": "hzSR7Ebxt2B9"
   },
   "outputs": [],
   "source": [
    "x1 = {(2,3,4): \"sudh\" , \"_age\": 3455 , \"name\" : (3,4,5,6,7) , True: [1,2,3,4,5,6] , \"key\" : {\"a\" : 10 , \"b\" : 20}}"
   ]
  },
  {
   "cell_type": "code",
   "execution_count": 120,
   "id": "d2efa059",
   "metadata": {
    "executionInfo": {
     "elapsed": 361,
     "status": "ok",
     "timestamp": 1627124099506,
     "user": {
      "displayName": "Siddharth Swain",
      "photoUrl": "",
      "userId": "12055456511825659152"
     },
     "user_tz": -330
    },
    "id": "7PGxDl1Ru0dk"
   },
   "outputs": [],
   "source": [
    "x2 = { \"k4\": \"Fssfsfsfsfsfsf\", 5 : \"wer\" }"
   ]
  },
  {
   "cell_type": "code",
   "execution_count": 121,
   "id": "7a89d97a",
   "metadata": {
    "colab": {
     "base_uri": "https://localhost:8080/",
     "height": 163
    },
    "executionInfo": {
     "elapsed": 380,
     "status": "error",
     "timestamp": 1627066730067,
     "user": {
      "displayName": "Siddharth Swain",
      "photoUrl": "",
      "userId": "12055456511825659152"
     },
     "user_tz": -330
    },
    "id": "FsuFwq_6u-wM",
    "outputId": "da058fc0-03a9-4273-a67e-957e5c3067e4"
   },
   "outputs": [
    {
     "ename": "TypeError",
     "evalue": "unsupported operand type(s) for +: 'dict' and 'dict'",
     "output_type": "error",
     "traceback": [
      "\u001b[1;31m---------------------------------------------------------------------------\u001b[0m",
      "\u001b[1;31mTypeError\u001b[0m                                 Traceback (most recent call last)",
      "\u001b[1;32m<ipython-input-121-17ca5ab06151>\u001b[0m in \u001b[0;36m<module>\u001b[1;34m\u001b[0m\n\u001b[1;32m----> 1\u001b[1;33m \u001b[0mx1\u001b[0m \u001b[1;33m+\u001b[0m \u001b[0mx2\u001b[0m\u001b[1;33m\u001b[0m\u001b[1;33m\u001b[0m\u001b[0m\n\u001b[0m",
      "\u001b[1;31mTypeError\u001b[0m: unsupported operand type(s) for +: 'dict' and 'dict'"
     ]
    }
   ],
   "source": [
    "x1 + x2"
   ]
  },
  {
   "cell_type": "code",
   "execution_count": 122,
   "id": "2b233d65",
   "metadata": {
    "colab": {
     "base_uri": "https://localhost:8080/",
     "height": 162
    },
    "executionInfo": {
     "elapsed": 408,
     "status": "error",
     "timestamp": 1627066748689,
     "user": {
      "displayName": "Siddharth Swain",
      "photoUrl": "",
      "userId": "12055456511825659152"
     },
     "user_tz": -330
    },
    "id": "EFW2yqtkvAJM",
    "outputId": "074f3832-1d64-40de-ae7a-62293b4e4e19"
   },
   "outputs": [
    {
     "ename": "TypeError",
     "evalue": "unsupported operand type(s) for *: 'dict' and 'int'",
     "output_type": "error",
     "traceback": [
      "\u001b[1;31m---------------------------------------------------------------------------\u001b[0m",
      "\u001b[1;31mTypeError\u001b[0m                                 Traceback (most recent call last)",
      "\u001b[1;32m<ipython-input-122-50e3cef61e74>\u001b[0m in \u001b[0;36m<module>\u001b[1;34m\u001b[0m\n\u001b[1;32m----> 1\u001b[1;33m \u001b[0mx1\u001b[0m \u001b[1;33m*\u001b[0m \u001b[1;36m3\u001b[0m\u001b[1;33m\u001b[0m\u001b[1;33m\u001b[0m\u001b[0m\n\u001b[0m",
      "\u001b[1;31mTypeError\u001b[0m: unsupported operand type(s) for *: 'dict' and 'int'"
     ]
    }
   ],
   "source": [
    "x1 * 3"
   ]
  },
  {
   "cell_type": "code",
   "execution_count": 123,
   "id": "413fefd7",
   "metadata": {
    "colab": {
     "base_uri": "https://localhost:8080/"
    },
    "executionInfo": {
     "elapsed": 371,
     "status": "ok",
     "timestamp": 1627066796194,
     "user": {
      "displayName": "Siddharth Swain",
      "photoUrl": "",
      "userId": "12055456511825659152"
     },
     "user_tz": -330
    },
    "id": "FubEStatvErs",
    "outputId": "0632d1bf-fa3d-4287-9f88-2e1dd00d7e05"
   },
   "outputs": [
    {
     "data": {
      "text/plain": [
       "{'k4': 'Fssfsfsfsfsfsf', 5: 'wer'}"
      ]
     },
     "execution_count": 123,
     "metadata": {},
     "output_type": "execute_result"
    }
   ],
   "source": [
    "x2"
   ]
  },
  {
   "cell_type": "code",
   "execution_count": 124,
   "id": "5a892899",
   "metadata": {
    "id": "flVnvPtTvQQM"
   },
   "outputs": [],
   "source": [
    "x2[5] = \"siddharth\""
   ]
  },
  {
   "cell_type": "code",
   "execution_count": 125,
   "id": "1197221f",
   "metadata": {
    "id": "8nqR-QpivSuQ"
   },
   "outputs": [],
   "source": [
    "x2['k4'] = \"KKKKKKKKKKKKKKKKK444444444444444444\""
   ]
  },
  {
   "cell_type": "code",
   "execution_count": 126,
   "id": "fd61c92e",
   "metadata": {
    "colab": {
     "base_uri": "https://localhost:8080/"
    },
    "executionInfo": {
     "elapsed": 4,
     "status": "ok",
     "timestamp": 1627066819856,
     "user": {
      "displayName": "Siddharth Swain",
      "photoUrl": "",
      "userId": "12055456511825659152"
     },
     "user_tz": -330
    },
    "id": "XZFIDw8DvVo7",
    "outputId": "d5752d7c-1536-42c0-ff66-7bf8133fea73"
   },
   "outputs": [
    {
     "data": {
      "text/plain": [
       "{'k4': 'KKKKKKKKKKKKKKKKK444444444444444444', 5: 'siddharth'}"
      ]
     },
     "execution_count": 126,
     "metadata": {},
     "output_type": "execute_result"
    }
   ],
   "source": [
    "x2"
   ]
  },
  {
   "cell_type": "code",
   "execution_count": 127,
   "id": "2f4b9fb0",
   "metadata": {
    "colab": {
     "base_uri": "https://localhost:8080/"
    },
    "executionInfo": {
     "elapsed": 3,
     "status": "ok",
     "timestamp": 1627124103294,
     "user": {
      "displayName": "Siddharth Swain",
      "photoUrl": "",
      "userId": "12055456511825659152"
     },
     "user_tz": -330
    },
    "id": "ptJPz6mlvV47",
    "outputId": "df629d23-e822-49ba-982c-695ea53f5e0a"
   },
   "outputs": [
    {
     "data": {
      "text/plain": [
       "{'k4': 'KKKKKKKKKKKKKKKKK444444444444444444', 5: 10}"
      ]
     },
     "execution_count": 127,
     "metadata": {},
     "output_type": "execute_result"
    }
   ],
   "source": [
    "x2[5] = 10\n",
    "x2"
   ]
  },
  {
   "cell_type": "code",
   "execution_count": 128,
   "id": "cbc7a192",
   "metadata": {
    "colab": {
     "base_uri": "https://localhost:8080/"
    },
    "executionInfo": {
     "elapsed": 359,
     "status": "ok",
     "timestamp": 1627124115748,
     "user": {
      "displayName": "Siddharth Swain",
      "photoUrl": "",
      "userId": "12055456511825659152"
     },
     "user_tz": -330
    },
    "id": "F4X5gJCrJu0x",
    "outputId": "79682208-8d87-4db2-8fd0-27bc492f4c66"
   },
   "outputs": [
    {
     "data": {
      "text/plain": [
       "{'k4': 'KKKKKKKKKKKKKKKKK444444444444444444', 5: 8}"
      ]
     },
     "execution_count": 128,
     "metadata": {},
     "output_type": "execute_result"
    }
   ],
   "source": [
    "x2[5] -= 2\n",
    "x2"
   ]
  },
  {
   "cell_type": "code",
   "execution_count": 129,
   "id": "cc5f00a9",
   "metadata": {
    "colab": {
     "base_uri": "https://localhost:8080/"
    },
    "executionInfo": {
     "elapsed": 381,
     "status": "ok",
     "timestamp": 1627124147676,
     "user": {
      "displayName": "Siddharth Swain",
      "photoUrl": "",
      "userId": "12055456511825659152"
     },
     "user_tz": -330
    },
    "id": "SF2rTx4pJ3IQ",
    "outputId": "d1d7bfd8-eb2b-4bdf-b7ee-deabbb39ce1e"
   },
   "outputs": [
    {
     "data": {
      "text/plain": [
       "dict_keys(['k4', 5])"
      ]
     },
     "execution_count": 129,
     "metadata": {},
     "output_type": "execute_result"
    }
   ],
   "source": [
    "x2.keys()"
   ]
  },
  {
   "cell_type": "code",
   "execution_count": 130,
   "id": "e2ee9a5f",
   "metadata": {
    "colab": {
     "base_uri": "https://localhost:8080/"
    },
    "executionInfo": {
     "elapsed": 385,
     "status": "ok",
     "timestamp": 1627124156124,
     "user": {
      "displayName": "Siddharth Swain",
      "photoUrl": "",
      "userId": "12055456511825659152"
     },
     "user_tz": -330
    },
    "id": "kQaDIN9nKCHu",
    "outputId": "e6f21d20-3fc3-47d1-82db-978f2dfc2821"
   },
   "outputs": [
    {
     "data": {
      "text/plain": [
       "True"
      ]
     },
     "execution_count": 130,
     "metadata": {},
     "output_type": "execute_result"
    }
   ],
   "source": [
    "5 in x2.keys()"
   ]
  },
  {
   "cell_type": "code",
   "execution_count": 131,
   "id": "6563822d",
   "metadata": {
    "colab": {
     "base_uri": "https://localhost:8080/"
    },
    "executionInfo": {
     "elapsed": 361,
     "status": "ok",
     "timestamp": 1627124168413,
     "user": {
      "displayName": "Siddharth Swain",
      "photoUrl": "",
      "userId": "12055456511825659152"
     },
     "user_tz": -330
    },
    "id": "bmB5SSj1KEB2",
    "outputId": "0f8d8b63-c2e3-4e95-94ed-d54d5d6f5690"
   },
   "outputs": [
    {
     "data": {
      "text/plain": [
       "False"
      ]
     },
     "execution_count": 131,
     "metadata": {},
     "output_type": "execute_result"
    }
   ],
   "source": [
    "-2 in x2.values()"
   ]
  },
  {
   "cell_type": "code",
   "execution_count": 132,
   "id": "890eca68",
   "metadata": {
    "colab": {
     "base_uri": "https://localhost:8080/"
    },
    "executionInfo": {
     "elapsed": 520,
     "status": "ok",
     "timestamp": 1627124176770,
     "user": {
      "displayName": "Siddharth Swain",
      "photoUrl": "",
      "userId": "12055456511825659152"
     },
     "user_tz": -330
    },
    "id": "tiDbLRSPKHJe",
    "outputId": "103b7eb3-6e67-4fcd-f37a-93fc44ae7ef1"
   },
   "outputs": [
    {
     "data": {
      "text/plain": [
       "False"
      ]
     },
     "execution_count": 132,
     "metadata": {},
     "output_type": "execute_result"
    }
   ],
   "source": [
    "-4 in x2.values()"
   ]
  },
  {
   "cell_type": "code",
   "execution_count": 133,
   "id": "69aca6b1",
   "metadata": {
    "colab": {
     "base_uri": "https://localhost:8080/"
    },
    "executionInfo": {
     "elapsed": 399,
     "status": "ok",
     "timestamp": 1627124180151,
     "user": {
      "displayName": "Siddharth Swain",
      "photoUrl": "",
      "userId": "12055456511825659152"
     },
     "user_tz": -330
    },
    "id": "iQRqlX9ZKJCG",
    "outputId": "cee9e15d-2b13-4c44-f33e-1dd891c05d80"
   },
   "outputs": [
    {
     "data": {
      "text/plain": [
       "{'k4': 'KKKKKKKKKKKKKKKKK444444444444444444', 5: 8}"
      ]
     },
     "execution_count": 133,
     "metadata": {},
     "output_type": "execute_result"
    }
   ],
   "source": [
    "x2"
   ]
  },
  {
   "cell_type": "code",
   "execution_count": 134,
   "id": "e158f956",
   "metadata": {
    "colab": {
     "base_uri": "https://localhost:8080/"
    },
    "executionInfo": {
     "elapsed": 359,
     "status": "ok",
     "timestamp": 1627124218585,
     "user": {
      "displayName": "Siddharth Swain",
      "photoUrl": "",
      "userId": "12055456511825659152"
     },
     "user_tz": -330
    },
    "id": "hQc6emJoKJ5O",
    "outputId": "a96cc7c2-3199-42ee-c28f-bb829f71e261"
   },
   "outputs": [
    {
     "name": "stdout",
     "output_type": "stream",
     "text": [
      "KKKKKKKKKKKKKKKKK444444444444444444\n",
      "8\n"
     ]
    }
   ],
   "source": [
    "for i in x2.values():\n",
    "  print(i)"
   ]
  },
  {
   "cell_type": "code",
   "execution_count": 135,
   "id": "d93ecc7c",
   "metadata": {
    "colab": {
     "base_uri": "https://localhost:8080/"
    },
    "executionInfo": {
     "elapsed": 362,
     "status": "ok",
     "timestamp": 1627124234181,
     "user": {
      "displayName": "Siddharth Swain",
      "photoUrl": "",
      "userId": "12055456511825659152"
     },
     "user_tz": -330
    },
    "id": "2GVxPbQcKMh1",
    "outputId": "c93014e5-70ae-49fb-d03f-675a85f6db4c"
   },
   "outputs": [
    {
     "name": "stdout",
     "output_type": "stream",
     "text": [
      "k4\n",
      "5\n"
     ]
    }
   ],
   "source": [
    "for i in x2.keys():\n",
    "  print(i)"
   ]
  },
  {
   "cell_type": "code",
   "execution_count": 136,
   "id": "8984495b",
   "metadata": {
    "colab": {
     "base_uri": "https://localhost:8080/"
    },
    "executionInfo": {
     "elapsed": 5,
     "status": "ok",
     "timestamp": 1627124262741,
     "user": {
      "displayName": "Siddharth Swain",
      "photoUrl": "",
      "userId": "12055456511825659152"
     },
     "user_tz": -330
    },
    "id": "xzIFX2GbKXMe",
    "outputId": "13bb5c68-b569-407c-eb2c-eba9998e93aa"
   },
   "outputs": [
    {
     "name": "stdout",
     "output_type": "stream",
     "text": [
      "KKKKKKKKKKKKKKKKK444444444444444444\n",
      "8\n"
     ]
    }
   ],
   "source": [
    "for i in x2.keys():\n",
    "  print(x2[i])"
   ]
  },
  {
   "cell_type": "markdown",
   "id": "3dffbde9",
   "metadata": {
    "id": "d_7Ng8OxLKW9"
   },
   "source": [
    "## Practice"
   ]
  },
  {
   "cell_type": "code",
   "execution_count": 137,
   "id": "17d7c6fd",
   "metadata": {
    "colab": {
     "base_uri": "https://localhost:8080/"
    },
    "executionInfo": {
     "elapsed": 377,
     "status": "ok",
     "timestamp": 1627124452590,
     "user": {
      "displayName": "Siddharth Swain",
      "photoUrl": "",
      "userId": "12055456511825659152"
     },
     "user_tz": -330
    },
    "id": "clJkpfctKeEv",
    "outputId": "af40a608-a1d2-470b-a142-ef0c09671370"
   },
   "outputs": [
    {
     "data": {
      "text/plain": [
       "{'k4': 'KKKKKKKKKKKKKKKKK444444444444444444', 5: 8}"
      ]
     },
     "execution_count": 137,
     "metadata": {},
     "output_type": "execute_result"
    }
   ],
   "source": [
    "x2"
   ]
  },
  {
   "cell_type": "code",
   "execution_count": 138,
   "id": "27d3f060",
   "metadata": {
    "colab": {
     "base_uri": "https://localhost:8080/"
    },
    "executionInfo": {
     "elapsed": 368,
     "status": "ok",
     "timestamp": 1627124470745,
     "user": {
      "displayName": "Siddharth Swain",
      "photoUrl": "",
      "userId": "12055456511825659152"
     },
     "user_tz": -330
    },
    "id": "hyT3J-vfLMh2",
    "outputId": "f8544b74-13e8-4a4c-9aee-e5d22802ca6d"
   },
   "outputs": [
    {
     "name": "stdout",
     "output_type": "stream",
     "text": [
      "<class 'str'>\n",
      "<class 'int'>\n"
     ]
    }
   ],
   "source": [
    "for i in x2.keys():\n",
    "  print(type(x2[i]))"
   ]
  },
  {
   "cell_type": "code",
   "execution_count": 139,
   "id": "26a14498",
   "metadata": {
    "colab": {
     "base_uri": "https://localhost:8080/"
    },
    "executionInfo": {
     "elapsed": 520,
     "status": "ok",
     "timestamp": 1627124555068,
     "user": {
      "displayName": "Siddharth Swain",
      "photoUrl": "",
      "userId": "12055456511825659152"
     },
     "user_tz": -330
    },
    "id": "s6Z9LNgULQ6e",
    "outputId": "ce64fdae-82a6-4c46-8f00-c8686bf34995"
   },
   "outputs": [
    {
     "data": {
      "text/plain": [
       "dict_items([('k4', 'KKKKKKKKKKKKKKKKK444444444444444444'), (5, 8)])"
      ]
     },
     "execution_count": 139,
     "metadata": {},
     "output_type": "execute_result"
    }
   ],
   "source": [
    "x2.items()"
   ]
  },
  {
   "cell_type": "code",
   "execution_count": 140,
   "id": "2024b89b",
   "metadata": {
    "colab": {
     "base_uri": "https://localhost:8080/"
    },
    "executionInfo": {
     "elapsed": 3,
     "status": "ok",
     "timestamp": 1627124586934,
     "user": {
      "displayName": "Siddharth Swain",
      "photoUrl": "",
      "userId": "12055456511825659152"
     },
     "user_tz": -330
    },
    "id": "UBdetIzqLlhm",
    "outputId": "3b9f4eec-317d-4e22-e965-b8844e3e689f"
   },
   "outputs": [
    {
     "name": "stdout",
     "output_type": "stream",
     "text": [
      "k4\n",
      "5\n"
     ]
    }
   ],
   "source": [
    "for i in x2.items():\n",
    "  print(i[0])"
   ]
  },
  {
   "cell_type": "code",
   "execution_count": 141,
   "id": "d42ba476",
   "metadata": {
    "colab": {
     "base_uri": "https://localhost:8080/"
    },
    "executionInfo": {
     "elapsed": 377,
     "status": "ok",
     "timestamp": 1627124603086,
     "user": {
      "displayName": "Siddharth Swain",
      "photoUrl": "",
      "userId": "12055456511825659152"
     },
     "user_tz": -330
    },
    "id": "CQJYKPHBLtTY",
    "outputId": "7ce2c2bf-4ade-4600-d36d-3ae45f4abf50"
   },
   "outputs": [
    {
     "name": "stdout",
     "output_type": "stream",
     "text": [
      "KKKKKKKKKKKKKKKKK444444444444444444\n",
      "8\n"
     ]
    }
   ],
   "source": [
    "for i in x2.items():\n",
    "  print(i[1])"
   ]
  },
  {
   "cell_type": "code",
   "execution_count": 142,
   "id": "4742b28b",
   "metadata": {
    "executionInfo": {
     "elapsed": 367,
     "status": "ok",
     "timestamp": 1627124668883,
     "user": {
      "displayName": "Siddharth Swain",
      "photoUrl": "",
      "userId": "12055456511825659152"
     },
     "user_tz": -330
    },
    "id": "t9-NUUtXLxTm"
   },
   "outputs": [],
   "source": [
    "x3 = {(34,56,56) : \"Fsfsfsfsfsfsd\"}"
   ]
  },
  {
   "cell_type": "code",
   "execution_count": 143,
   "id": "9e0ef1ef",
   "metadata": {
    "colab": {
     "base_uri": "https://localhost:8080/",
     "height": 35
    },
    "executionInfo": {
     "elapsed": 627,
     "status": "ok",
     "timestamp": 1627124682580,
     "user": {
      "displayName": "Siddharth Swain",
      "photoUrl": "",
      "userId": "12055456511825659152"
     },
     "user_tz": -330
    },
    "id": "Y4_gAVRUL-HG",
    "outputId": "2b45c60f-11e1-45d2-a25a-f289c9a131cc"
   },
   "outputs": [
    {
     "data": {
      "text/plain": [
       "'Fsfsfsfsfsfsd'"
      ]
     },
     "execution_count": 143,
     "metadata": {},
     "output_type": "execute_result"
    }
   ],
   "source": [
    "x3[(34,56,56)]"
   ]
  },
  {
   "cell_type": "code",
   "execution_count": 144,
   "id": "525998ab",
   "metadata": {
    "colab": {
     "base_uri": "https://localhost:8080/"
    },
    "executionInfo": {
     "elapsed": 365,
     "status": "ok",
     "timestamp": 1627124720618,
     "user": {
      "displayName": "Siddharth Swain",
      "photoUrl": "",
      "userId": "12055456511825659152"
     },
     "user_tz": -330
    },
    "id": "WX8FrqIUMEpm",
    "outputId": "45811b4c-e41a-4756-fed4-234fab27bfd7"
   },
   "outputs": [
    {
     "data": {
      "text/plain": [
       "1"
      ]
     },
     "execution_count": 144,
     "metadata": {},
     "output_type": "execute_result"
    }
   ],
   "source": [
    "len(x3)"
   ]
  },
  {
   "cell_type": "markdown",
   "id": "079a3e97",
   "metadata": {
    "id": "7nGl-uStMXFg"
   },
   "source": [
    "## Questions\n",
    "\n",
    "Take input as a paragraph from the user.\n",
    "\n",
    "1. Convert all this input into a list.\n",
    "\n",
    "2. Remove all the duplicate element from the list\n",
    "\n",
    "3. Use above distinct element as a key for dictionary and assign your name as all key for dictionary.\n",
    "\n",
    "4. Try to print tuple of all the values.\n",
    "\n",
    "5. Try to print list of all the keys."
   ]
  },
  {
   "cell_type": "code",
   "execution_count": 159,
   "id": "c997ce14",
   "metadata": {
    "colab": {
     "base_uri": "https://localhost:8080/"
    },
    "executionInfo": {
     "elapsed": 11430,
     "status": "ok",
     "timestamp": 1627125110843,
     "user": {
      "displayName": "Siddharth Swain",
      "photoUrl": "",
      "userId": "12055456511825659152"
     },
     "user_tz": -330
    },
    "id": "hofXbbqVMN2e",
    "outputId": "18e62139-f751-4190-ac01-dd3a117241b8"
   },
   "outputs": [
    {
     "name": "stdout",
     "output_type": "stream",
     "text": [
      "Enter the paragraph:hhch chhc hch hch ch hch ch hc hchchchhchchchcc\n"
     ]
    }
   ],
   "source": [
    "p1 = input(\"Enter the paragraph:\")"
   ]
  },
  {
   "cell_type": "code",
   "execution_count": 160,
   "id": "d117d93f",
   "metadata": {
    "colab": {
     "base_uri": "https://localhost:8080/"
    },
    "executionInfo": {
     "elapsed": 5,
     "status": "ok",
     "timestamp": 1627125110844,
     "user": {
      "displayName": "Siddharth Swain",
      "photoUrl": "",
      "userId": "12055456511825659152"
     },
     "user_tz": -330
    },
    "id": "_Zm8E5ECNmg2",
    "outputId": "6a3af5d5-7cd4-4c9f-c58c-8314aaa4bd37"
   },
   "outputs": [
    {
     "data": {
      "text/plain": [
       "['hhch', 'chhc', 'hch', 'hch', 'ch', 'hch', 'ch', 'hc', 'hchchchhchchchcc']"
      ]
     },
     "execution_count": 160,
     "metadata": {},
     "output_type": "execute_result"
    }
   ],
   "source": [
    "#1\n",
    "\n",
    "p2 = p1.split()\n",
    "p2"
   ]
  },
  {
   "cell_type": "code",
   "execution_count": 161,
   "id": "4a7092d4",
   "metadata": {
    "colab": {
     "base_uri": "https://localhost:8080/"
    },
    "executionInfo": {
     "elapsed": 589,
     "status": "ok",
     "timestamp": 1627125118763,
     "user": {
      "displayName": "Siddharth Swain",
      "photoUrl": "",
      "userId": "12055456511825659152"
     },
     "user_tz": -330
    },
    "id": "D4HlNOu8M81m",
    "outputId": "324a568c-960f-4162-dcd8-b398d476cb09"
   },
   "outputs": [
    {
     "data": {
      "text/plain": [
       "{'ch', 'chhc', 'hc', 'hch', 'hchchchhchchchcc', 'hhch'}"
      ]
     },
     "execution_count": 161,
     "metadata": {},
     "output_type": "execute_result"
    }
   ],
   "source": [
    "#2\n",
    "\n",
    "p3 = set(p2)\n",
    "p3"
   ]
  },
  {
   "cell_type": "code",
   "execution_count": 162,
   "id": "f655e562",
   "metadata": {
    "colab": {
     "base_uri": "https://localhost:8080/"
    },
    "executionInfo": {
     "elapsed": 383,
     "status": "ok",
     "timestamp": 1627125322504,
     "user": {
      "displayName": "Siddharth Swain",
      "photoUrl": "",
      "userId": "12055456511825659152"
     },
     "user_tz": -330
    },
    "id": "mgD_15XLNJRw",
    "outputId": "4c86e632-7dda-4506-f79f-0da06933dc62"
   },
   "outputs": [
    {
     "data": {
      "text/plain": [
       "{'ch': 'Siddharth',\n",
       " 'hc': 'Siddharth',\n",
       " 'chhc': 'Siddharth',\n",
       " 'hchchchhchchchcc': 'Siddharth',\n",
       " 'hhch': 'Siddharth',\n",
       " 'hch': 'Siddharth'}"
      ]
     },
     "execution_count": 162,
     "metadata": {},
     "output_type": "execute_result"
    }
   ],
   "source": [
    "#3\n",
    "\n",
    "p4 = dict()\n",
    "\n",
    "for i in p3:\n",
    "  p4[i] = \"Siddharth\"\n",
    "p4"
   ]
  },
  {
   "cell_type": "code",
   "execution_count": 163,
   "id": "3cce5c35",
   "metadata": {
    "colab": {
     "base_uri": "https://localhost:8080/"
    },
    "executionInfo": {
     "elapsed": 360,
     "status": "ok",
     "timestamp": 1627125355650,
     "user": {
      "displayName": "Siddharth Swain",
      "photoUrl": "",
      "userId": "12055456511825659152"
     },
     "user_tz": -330
    },
    "id": "K4NA5r7jN2Hl",
    "outputId": "10108878-82ca-47de-c83e-788b34e4f5a9"
   },
   "outputs": [
    {
     "data": {
      "text/plain": [
       "('Siddharth', 'Siddharth', 'Siddharth', 'Siddharth', 'Siddharth', 'Siddharth')"
      ]
     },
     "execution_count": 163,
     "metadata": {},
     "output_type": "execute_result"
    }
   ],
   "source": [
    "#4\n",
    "\n",
    "p5 = tuple(p4.values())\n",
    "p5"
   ]
  },
  {
   "cell_type": "code",
   "execution_count": 164,
   "id": "e25404d9",
   "metadata": {
    "colab": {
     "base_uri": "https://localhost:8080/"
    },
    "executionInfo": {
     "elapsed": 369,
     "status": "ok",
     "timestamp": 1627125378849,
     "user": {
      "displayName": "Siddharth Swain",
      "photoUrl": "",
      "userId": "12055456511825659152"
     },
     "user_tz": -330
    },
    "id": "Tp3NwxtnOpCt",
    "outputId": "219e4c56-caba-4cb8-d951-20614f51323b"
   },
   "outputs": [
    {
     "data": {
      "text/plain": [
       "['ch', 'hc', 'chhc', 'hchchchhchchchcc', 'hhch', 'hch']"
      ]
     },
     "execution_count": 164,
     "metadata": {},
     "output_type": "execute_result"
    }
   ],
   "source": [
    "#5\n",
    "\n",
    "p6 = list(p4.keys())\n",
    "p6"
   ]
  },
  {
   "cell_type": "markdown",
   "id": "3b63917d",
   "metadata": {
    "id": "r5iCCZvn0JkU"
   },
   "source": [
    "## Practice"
   ]
  },
  {
   "cell_type": "code",
   "execution_count": 1,
   "id": "44d139af",
   "metadata": {
    "executionInfo": {
     "elapsed": 358,
     "status": "ok",
     "timestamp": 1627135237139,
     "user": {
      "displayName": "Siddharth Swain",
      "photoUrl": "",
      "userId": "12055456511825659152"
     },
     "user_tz": -330
    },
    "id": "MBOgTaNS0NJU"
   },
   "outputs": [],
   "source": [
    "d = {\"company\":\"ineuron\", \"course\":\"full stack data science\",\"year\":2021}"
   ]
  },
  {
   "cell_type": "code",
   "execution_count": 2,
   "id": "fa1ff195",
   "metadata": {
    "colab": {
     "base_uri": "https://localhost:8080/"
    },
    "executionInfo": {
     "elapsed": 369,
     "status": "ok",
     "timestamp": 1627135239679,
     "user": {
      "displayName": "Siddharth Swain",
      "photoUrl": "",
      "userId": "12055456511825659152"
     },
     "user_tz": -330
    },
    "id": "RqRMWDOI0Vg8",
    "outputId": "08148bfd-1f46-460e-90af-f4bec1e970b4"
   },
   "outputs": [
    {
     "data": {
      "text/plain": [
       "{'company': 'ineuron', 'course': 'full stack data science', 'year': 2021}"
      ]
     },
     "execution_count": 2,
     "metadata": {},
     "output_type": "execute_result"
    }
   ],
   "source": [
    "d"
   ]
  },
  {
   "cell_type": "code",
   "execution_count": 3,
   "id": "5fc0f1fa",
   "metadata": {},
   "outputs": [
    {
     "name": "stdout",
     "output_type": "stream",
     "text": [
      "company\n",
      "course\n",
      "year\n"
     ]
    }
   ],
   "source": [
    "for i in d:\n",
    "    print(i)"
   ]
  },
  {
   "cell_type": "code",
   "execution_count": 4,
   "id": "aea93886",
   "metadata": {},
   "outputs": [
    {
     "name": "stdout",
     "output_type": "stream",
     "text": [
      "ineuron\n",
      "full stack data science\n",
      "2021\n"
     ]
    }
   ],
   "source": [
    "for i in d:\n",
    "    print(d[i])"
   ]
  },
  {
   "cell_type": "code",
   "execution_count": 153,
   "id": "23780ea0",
   "metadata": {
    "colab": {
     "base_uri": "https://localhost:8080/"
    },
    "executionInfo": {
     "elapsed": 441,
     "status": "ok",
     "timestamp": 1627135343781,
     "user": {
      "displayName": "Siddharth Swain",
      "photoUrl": "",
      "userId": "12055456511825659152"
     },
     "user_tz": -330
    },
    "id": "mMmioSNM0V-k",
    "outputId": "7d32fe3d-7d6c-420a-d13d-0f9a178065e4"
   },
   "outputs": [
    {
     "name": "stdout",
     "output_type": "stream",
     "text": [
      " The key is 'company' and value is 'ineuron'.\n",
      " The key is 'course' and value is 'full stack data science'.\n",
      " The key is 'year' and value is '2021'.\n"
     ]
    }
   ],
   "source": [
    "for i in d:\n",
    "  print(\" The key is '{0}' and value is '{1}'.\".format(i,d[i]))"
   ]
  },
  {
   "cell_type": "code",
   "execution_count": 2,
   "id": "4b8906f7",
   "metadata": {},
   "outputs": [
    {
     "name": "stdout",
     "output_type": "stream",
     "text": [
      " The key is company and value is ineuron.\n",
      " The key is course and value is full stack data science.\n",
      " The key is year and value is 2021.\n"
     ]
    }
   ],
   "source": [
    "for i in d:\n",
    "  print(\" The key is {0} and value is {1}.\".format(i,d[i]))"
   ]
  },
  {
   "cell_type": "code",
   "execution_count": 154,
   "id": "e6374eb8",
   "metadata": {
    "colab": {
     "base_uri": "https://localhost:8080/"
    },
    "executionInfo": {
     "elapsed": 426,
     "status": "ok",
     "timestamp": 1627135381727,
     "user": {
      "displayName": "Siddharth Swain",
      "photoUrl": "",
      "userId": "12055456511825659152"
     },
     "user_tz": -330
    },
    "id": "UH3kztlm0rH_",
    "outputId": "a28cb931-efdc-4e16-a51b-7285cd159b9c"
   },
   "outputs": [
    {
     "data": {
      "text/plain": [
       "True"
      ]
     },
     "execution_count": 154,
     "metadata": {},
     "output_type": "execute_result"
    }
   ],
   "source": [
    "\"course\" in d"
   ]
  },
  {
   "cell_type": "code",
   "execution_count": 155,
   "id": "32792e82",
   "metadata": {
    "executionInfo": {
     "elapsed": 371,
     "status": "ok",
     "timestamp": 1627135439756,
     "user": {
      "displayName": "Siddharth Swain",
      "photoUrl": "",
      "userId": "12055456511825659152"
     },
     "user_tz": -330
    },
    "id": "3k_t65cE04oU"
   },
   "outputs": [],
   "source": [
    "for i in d:\n",
    "  if i == 'year':\n",
    "    if d[i] > 2021:\n",
    "      print(\"Year is fine!\")\n",
    "    else:\n",
    "      d[i] = 2022"
   ]
  },
  {
   "cell_type": "code",
   "execution_count": 156,
   "id": "e81b1b7c",
   "metadata": {
    "colab": {
     "base_uri": "https://localhost:8080/"
    },
    "executionInfo": {
     "elapsed": 4,
     "status": "ok",
     "timestamp": 1627135441275,
     "user": {
      "displayName": "Siddharth Swain",
      "photoUrl": "",
      "userId": "12055456511825659152"
     },
     "user_tz": -330
    },
    "id": "nv9ZwAsK1G-V",
    "outputId": "7742e68c-7c02-4b30-bdee-af5511172ae8"
   },
   "outputs": [
    {
     "data": {
      "text/plain": [
       "{'company': 'ineuron', 'course': 'full stack data science', 'year': 2022}"
      ]
     },
     "execution_count": 156,
     "metadata": {},
     "output_type": "execute_result"
    }
   ],
   "source": [
    "d"
   ]
  },
  {
   "cell_type": "markdown",
   "id": "24e14f09",
   "metadata": {
    "id": "2I0opZlN1aZf"
   },
   "source": [
    "## Practice \n",
    "\n",
    "- Dictionary Comprehension"
   ]
  },
  {
   "cell_type": "code",
   "execution_count": 157,
   "id": "78c7fd05",
   "metadata": {
    "colab": {
     "base_uri": "https://localhost:8080/"
    },
    "executionInfo": {
     "elapsed": 349,
     "status": "ok",
     "timestamp": 1627135574628,
     "user": {
      "displayName": "Siddharth Swain",
      "photoUrl": "",
      "userId": "12055456511825659152"
     },
     "user_tz": -330
    },
    "id": "ZyES9y241HKU",
    "outputId": "1a1e8272-7c82-47c1-c22d-bb3a8b7ff932"
   },
   "outputs": [
    {
     "data": {
      "text/plain": [
       "{0: 0, 1: 1, 2: 4, 3: 9, 4: 16, 5: 25, 6: 36, 7: 49, 8: 64, 9: 81}"
      ]
     },
     "execution_count": 157,
     "metadata": {},
     "output_type": "execute_result"
    }
   ],
   "source": [
    "my_dict = {}\n",
    "for i in range(10):\n",
    "  my_dict[i] = i * i\n",
    "my_dict"
   ]
  },
  {
   "cell_type": "code",
   "execution_count": 158,
   "id": "225a32e8",
   "metadata": {
    "colab": {
     "base_uri": "https://localhost:8080/"
    },
    "executionInfo": {
     "elapsed": 629,
     "status": "ok",
     "timestamp": 1627135679064,
     "user": {
      "displayName": "Siddharth Swain",
      "photoUrl": "",
      "userId": "12055456511825659152"
     },
     "user_tz": -330
    },
    "id": "1T-ouOaH1n6j",
    "outputId": "225e18cc-d5dc-4c81-f47d-c66bc9110e24"
   },
   "outputs": [
    {
     "data": {
      "text/plain": [
       "{0: 0, 1: 1, 2: 4, 3: 9, 4: 16, 5: 25, 6: 36, 7: 49, 8: 64, 9: 81}"
      ]
     },
     "execution_count": 158,
     "metadata": {},
     "output_type": "execute_result"
    }
   ],
   "source": [
    "{i: i*i for i in range(10)}"
   ]
  }
 ],
 "metadata": {
  "kernelspec": {
   "display_name": "Python 3",
   "language": "python",
   "name": "python3"
  },
  "language_info": {
   "codemirror_mode": {
    "name": "ipython",
    "version": 3
   },
   "file_extension": ".py",
   "mimetype": "text/x-python",
   "name": "python",
   "nbconvert_exporter": "python",
   "pygments_lexer": "ipython3",
   "version": "3.8.8"
  }
 },
 "nbformat": 4,
 "nbformat_minor": 5
}
