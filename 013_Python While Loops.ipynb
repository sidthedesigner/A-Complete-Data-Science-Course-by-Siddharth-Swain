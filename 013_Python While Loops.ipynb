{
 "cells": [
  {
   "cell_type": "markdown",
   "id": "cf1db2c9",
   "metadata": {},
   "source": [
    "## Python Loops\n",
    "\n",
    "Python has two primitive loop commands :\n",
    "\n",
    "- while loops\n",
    "- for loops"
   ]
  },
  {
   "cell_type": "markdown",
   "id": "95887b73",
   "metadata": {},
   "source": [
    "## The while Loop\n",
    "\n",
    "With the while loop we can execute a set of statements as long as a condition is true."
   ]
  },
  {
   "cell_type": "code",
   "execution_count": 141,
   "id": "5ccb9314",
   "metadata": {},
   "outputs": [
    {
     "name": "stdout",
     "output_type": "stream",
     "text": [
      "1\n",
      "2\n",
      "3\n",
      "4\n",
      "5\n"
     ]
    }
   ],
   "source": [
    "# Print i as long as i is less than 6.\n",
    "\n",
    "i = 1\n",
    "while i < 6:\n",
    "  print(i)\n",
    "  i += 1"
   ]
  },
  {
   "cell_type": "code",
   "execution_count": 146,
   "id": "45a626e0",
   "metadata": {},
   "outputs": [
    {
     "name": "stdout",
     "output_type": "stream",
     "text": [
      "1\n",
      "2\n",
      "3\n",
      "4\n",
      "5\n"
     ]
    }
   ],
   "source": [
    "# Infinite Loop.\n",
    "\n",
    "i = 1\n",
    "while i < 6:\n",
    "  print(i)\n",
    "  #i+=1"
   ]
  },
  {
   "cell_type": "markdown",
   "id": "51b88f58",
   "metadata": {},
   "source": [
    "**Note : remember to increment i, or else the loop will continue forever.**\n",
    "\n",
    "The while loop requires relevant variables to be ready, in this example we need to define an indexing variable, i, which we set to 1."
   ]
  },
  {
   "cell_type": "markdown",
   "id": "cd32e307",
   "metadata": {},
   "source": [
    "## The break Statement\n",
    "\n",
    "\n",
    "With the break statement we can stop the loop even if the while condition is true."
   ]
  },
  {
   "cell_type": "code",
   "execution_count": 142,
   "id": "8e7ddea4",
   "metadata": {},
   "outputs": [
    {
     "name": "stdout",
     "output_type": "stream",
     "text": [
      "1\n",
      "2\n",
      "3\n"
     ]
    }
   ],
   "source": [
    "# Exit the loop when i is 3.\n",
    "\n",
    "i = 1\n",
    "while i < 6:\n",
    "  print(i)\n",
    "  if i == 3:\n",
    "    break\n",
    "  i += 1"
   ]
  },
  {
   "cell_type": "markdown",
   "id": "ee7b66d2",
   "metadata": {},
   "source": [
    "## The continue Statement\n",
    "\n",
    "With the continue statement we can stop the current iteration, and continue with the next."
   ]
  },
  {
   "cell_type": "code",
   "execution_count": 143,
   "id": "8b19a07a",
   "metadata": {},
   "outputs": [
    {
     "name": "stdout",
     "output_type": "stream",
     "text": [
      "1\n",
      "2\n",
      "4\n",
      "5\n",
      "6\n"
     ]
    }
   ],
   "source": [
    "# Continue to the next iteration if i is 3.\n",
    "\n",
    "i = 0\n",
    "while i < 6:\n",
    "  i += 1\n",
    "  if i == 3:\n",
    "    continue\n",
    "  print(i)"
   ]
  },
  {
   "cell_type": "markdown",
   "id": "6d9a8da1",
   "metadata": {},
   "source": [
    "## The else Statement\n",
    "\n",
    "With the else statement we can run a block of code once when the condition no longer is true."
   ]
  },
  {
   "cell_type": "code",
   "execution_count": 144,
   "id": "dca49473",
   "metadata": {},
   "outputs": [
    {
     "name": "stdout",
     "output_type": "stream",
     "text": [
      "1\n",
      "2\n",
      "3\n",
      "4\n",
      "5\n",
      "i is no longer less than 6\n"
     ]
    }
   ],
   "source": [
    "# Print a message once the condition is false.\n",
    "\n",
    "i = 1\n",
    "while i < 6:\n",
    "  print(i)\n",
    "  i += 1\n",
    "else:\n",
    "  print(\"i is no longer less than 6\")"
   ]
  },
  {
   "cell_type": "markdown",
   "id": "8144ec89",
   "metadata": {},
   "source": [
    "## Practice"
   ]
  },
  {
   "cell_type": "code",
   "execution_count": 147,
   "id": "f31942ad",
   "metadata": {},
   "outputs": [
    {
     "name": "stdout",
     "output_type": "stream",
     "text": [
      "My speed is 0.\n",
      "My speed is 1.\n",
      "My speed is 2.\n",
      "My speed is 3.\n",
      "My speed is 4.\n",
      "My speed is 5.\n",
      "My speed is 6.\n",
      "My speed is 7.\n",
      "My speed is 8.\n",
      "My speed is 9.\n",
      "My speed is 10.\n",
      "My speed is 11.\n",
      "My speed is 12.\n",
      "My speed is 13.\n",
      "My speed is 14.\n",
      "My speed is 15.\n",
      "My speed is 16.\n",
      "My speed is 17.\n",
      "My speed is 18.\n",
      "My speed is 19.\n"
     ]
    }
   ],
   "source": [
    "initial_speed, final_speed = 0 , 100\n",
    "\n",
    "# It will print my speed is 19, then initial speed updates to 20 and breaks out.\n",
    "\n",
    "while initial_speed < final_speed:\n",
    "  print(\"My speed is {0}.\".format(initial_speed))\n",
    "  initial_speed = initial_speed + 1\n",
    "  if initial_speed == 20:\n",
    "    break"
   ]
  },
  {
   "cell_type": "code",
   "execution_count": 148,
   "id": "d2083f1e",
   "metadata": {},
   "outputs": [
    {
     "name": "stdout",
     "output_type": "stream",
     "text": [
      "My speed is 1.\n",
      "xxxx\n",
      "My speed is 2.\n",
      "xxxx\n",
      "My speed is 3.\n",
      "xxxx\n",
      "My speed is 4.\n",
      "xxxx\n",
      "My speed is 5.\n",
      "My speed is 6.\n",
      "xxxx\n",
      "My speed is 7.\n",
      "xxxx\n",
      "My speed is 8.\n",
      "xxxx\n",
      "My speed is 9.\n",
      "xxxx\n"
     ]
    }
   ],
   "source": [
    "a, b = 1 , 10\n",
    "\n",
    "# It will print my speed is 5, a updates to 6 and condition is true, and print xxxx gets skipped.\n",
    "\n",
    "while a < b:\n",
    "  print(\"My speed is {0}.\".format(a))\n",
    "  a = a + 1\n",
    "  if a-1 == 5:\n",
    "    continue\n",
    "  print(\"xxxx\")"
   ]
  },
  {
   "cell_type": "code",
   "execution_count": 149,
   "id": "b4ff71b2",
   "metadata": {},
   "outputs": [
    {
     "name": "stdout",
     "output_type": "stream",
     "text": [
      "1\n",
      "2\n",
      "3\n",
      "4\n",
      "5\n"
     ]
    }
   ],
   "source": [
    "i, j = 1, 5\n",
    "\n",
    "# Prints till 5 since there is less than or equal to.\n",
    "\n",
    "while i <= j:\n",
    "  print(i)\n",
    "  i = i + 1"
   ]
  },
  {
   "cell_type": "code",
   "execution_count": 150,
   "id": "faca43bc",
   "metadata": {},
   "outputs": [
    {
     "name": "stdout",
     "output_type": "stream",
     "text": [
      "1\n",
      "2\n",
      "3\n",
      "4\n"
     ]
    }
   ],
   "source": [
    "i, j = 1, 5\n",
    "\n",
    "# Prints till 4 since there is less than.\n",
    "\n",
    "while i < j:\n",
    "  print(i)\n",
    "  i = i + 1"
   ]
  },
  {
   "cell_type": "code",
   "execution_count": 151,
   "id": "5e13a1a5",
   "metadata": {},
   "outputs": [
    {
     "name": "stdout",
     "output_type": "stream",
     "text": [
      "1\n",
      "2\n",
      "3\n",
      "4\n",
      "No 10 Rs. Notes are available!\n"
     ]
    }
   ],
   "source": [
    "notes = 5\n",
    "i = 1\n",
    "\n",
    "# While finishes execution once 4 is less than 5 and then else block gets executed.\n",
    "\n",
    "while i < notes:\n",
    "  print(i)\n",
    "  i += 1\n",
    "else:\n",
    "  print(\"No 10 Rs. Notes are available!\")"
   ]
  },
  {
   "cell_type": "code",
   "execution_count": 152,
   "id": "12ced061",
   "metadata": {},
   "outputs": [
    {
     "name": "stdout",
     "output_type": "stream",
     "text": [
      "1\n",
      "2\n",
      "3\n",
      "4\n",
      "1\n",
      "2\n",
      "3\n",
      "No 10 Rs. Notes are available!\n"
     ]
    }
   ],
   "source": [
    "notes = 5\n",
    "i = 1\n",
    "j = 1\n",
    "\n",
    "# First while block executes till 4 is less than 5 and then control flows to the else block.\n",
    "\n",
    "# Second while block executes till 3 is less than 4 and then final statement is printed.\n",
    "\n",
    "while i < notes:\n",
    "  print(i)\n",
    "  i += 1\n",
    "else:\n",
    "  while j < 4:\n",
    "    print(j)\n",
    "    j = j +1\n",
    "  print(\"No 10 Rs. Notes are available!\")"
   ]
  }
 ],
 "metadata": {
  "kernelspec": {
   "display_name": "Python 3",
   "language": "python",
   "name": "python3"
  },
  "language_info": {
   "codemirror_mode": {
    "name": "ipython",
    "version": 3
   },
   "file_extension": ".py",
   "mimetype": "text/x-python",
   "name": "python",
   "nbconvert_exporter": "python",
   "pygments_lexer": "ipython3",
   "version": "3.8.8"
  }
 },
 "nbformat": 4,
 "nbformat_minor": 5
}
