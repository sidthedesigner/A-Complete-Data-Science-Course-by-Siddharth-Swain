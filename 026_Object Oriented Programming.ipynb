{
 "cells": [
  {
   "attachments": {
    "image-2.png": {
     "image/png": "[encoded data removed]"
    },
    "image.png": {
     "image/png": "[encoded data removed]"
    }
   },
   "cell_type": "markdown",
   "id": "58a9ca5e",
   "metadata": {},
   "source": [
    "# 1. Introduction\n",
    "\n",
    "## 1.1 Object Oriented Programming\n",
    "\n",
    "Python is a multi-paradigm programming language. It supports different programming approaches. One of the popular approaches to solve a programming problem is by creating objects. This is known as Object-Oriented Programming (OOP).\n",
    "\n",
    "An object has two characteristics:\n",
    "\n",
    "- Attributes\n",
    "- Behavior\n",
    "\n",
    "Let's take an example. A parrot is an object, as it has the following properties:\n",
    "\n",
    "- Name, age, color as attributes.\n",
    "- Singing, dancing as behavior.\n",
    "\n",
    "The concept of OOP in Python focuses on creating reusable code. This concept is also known as DRY (Don't Repeat Yourself). In Python, the concept of OOP follows some basic principles.\n",
    "\n",
    "## 1.2 Class\n",
    "\n",
    "A class is a blueprint for the object. We can think of class as a sketch of a parrot with labels. It contains all the details about the name, colors, size, etc. Based on these descriptions, we can study about the parrot. Here, a parrot is an object.\n",
    "\n",
    "The example for the class of parrot can be:\n",
    "\n",
    "![image.png](attachment:image.png)\n",
    "\n",
    "Here, we use the class keyword to define an empty class Parrot. From class, we construct instances. An instance is a specific object created from a particular class.\n",
    "\n",
    "## 1.3 Object\n",
    "\n",
    "An object (instance) is an instantiation of a class. When class is defined, only the description for the object is defined. Therefore, no memory or storage is allocated.\n",
    "\n",
    "The example for the object of parrot class can be:\n",
    "\n",
    "![image-2.png](attachment:image-2.png)\n",
    "\n",
    "Here, obj is an object of class Parrot.\n",
    "\n",
    "Suppose we have details of parrots. Now, we are going to show how to build the class and objects of parrots.\n",
    "\n",
    "**Example: Creating Class and Object in Python**"
   ]
  },
  {
   "cell_type": "code",
   "execution_count": 7,
   "id": "0a028454",
   "metadata": {},
   "outputs": [
    {
     "name": "stdout",
     "output_type": "stream",
     "text": [
      "Blu is a bird\n",
      "Woo is also a bird\n",
      "Blu is 10 years old\n",
      "Woo is 15 years old\n"
     ]
    }
   ],
   "source": [
    "class Parrot:\n",
    "\n",
    "    # class attribute\n",
    "    species = \"bird\"\n",
    "\n",
    "    # instance attribute\n",
    "    def __init__(self, name, age):\n",
    "        self.name = name\n",
    "        self.age = age\n",
    "\n",
    "# instantiate the Parrot class\n",
    "blu = Parrot(\"Blu\", 10)\n",
    "woo = Parrot(\"Woo\", 15)\n",
    "\n",
    "# access the class attributes\n",
    "print(\"Blu is a {}\".format(blu.__class__.species))\n",
    "print(\"Woo is also a {}\".format(woo.__class__.species))\n",
    "\n",
    "# access the instance attributes\n",
    "print(\"{} is {} years old\".format(blu.name, blu.age))\n",
    "print(\"{} is {} years old\".format(woo.name, woo.age))"
   ]
  },
  {
   "cell_type": "markdown",
   "id": "b7d4f377",
   "metadata": {},
   "source": [
    "In the above program, we created a class with the name Parrot. Then, we define attributes. The attributes are a characteristic of an object.\n",
    "\n",
    "We define these attributes inside the __init__ method of the class. It is the initializer method that is first run as soon as the object is created.\n",
    "\n",
    "Then, we create instances of the Parrot class. Here, blu and woo are references (value) to our new objects.\n",
    "\n",
    "We can access the class attribute using __class__.species. Class attributes are the same for all instances of a class. Similarly, we access the instance attributes using blu.name and blu.age. However, instance attributes are different for every instance of a class.\n",
    "\n",
    "## 1.4 Methods\n",
    "\n",
    "Methods are functions defined inside the body of a class. They are used to define the behaviors of an object.\n",
    "\n",
    "**Example: Creating Methods in Python**"
   ]
  },
  {
   "cell_type": "code",
   "execution_count": 2,
   "id": "1c95a7a1",
   "metadata": {},
   "outputs": [
    {
     "name": "stdout",
     "output_type": "stream",
     "text": [
      "Blu sings 'Happy'\n",
      "Blu is now dancing\n"
     ]
    }
   ],
   "source": [
    "class Parrot:\n",
    "    \n",
    "    # instance attributes\n",
    "    def __init__(self, name, age):\n",
    "        self.name = name\n",
    "        self.age = age\n",
    "    \n",
    "    # instance method\n",
    "    def sing(self, song):\n",
    "        return \"{} sings {}\".format(self.name, song)\n",
    "\n",
    "    def dance(self):\n",
    "        return \"{} is now dancing\".format(self.name)\n",
    "\n",
    "# instantiate the object\n",
    "blu = Parrot(\"Blu\", 10)\n",
    "\n",
    "# call our instance methods\n",
    "print(blu.sing(\"'Happy'\"))\n",
    "print(blu.dance())"
   ]
  },
  {
   "cell_type": "markdown",
   "id": "658f545f",
   "metadata": {},
   "source": [
    "In the above program, we define two methods i.e sing() and dance(). These are called instance methods because they are called on an instance object, i.e. blu.\n",
    "\n",
    "## 1.5 Inheritance\n",
    "\n",
    "Inheritance is a way of creating a new class for using details of an existing class without modifying it. The newly formed class is a derived class (or child class). Similarly, the existing class is a base class (or parent class).\n",
    "\n",
    "**Example: Use of Inheritance in Python**"
   ]
  },
  {
   "cell_type": "code",
   "execution_count": 3,
   "id": "661785a1",
   "metadata": {},
   "outputs": [
    {
     "name": "stdout",
     "output_type": "stream",
     "text": [
      "Bird is ready\n",
      "Penguin is ready\n",
      "Penguin\n",
      "Swim faster\n",
      "Run faster\n"
     ]
    }
   ],
   "source": [
    "# parent class\n",
    "class Bird:\n",
    "    \n",
    "    def __init__(self):\n",
    "        print(\"Bird is ready\")\n",
    "\n",
    "    def whoisThis(self):\n",
    "        print(\"Bird\")\n",
    "\n",
    "    def swim(self):\n",
    "        print(\"Swim faster\")\n",
    "\n",
    "# child class\n",
    "class Penguin(Bird):\n",
    "\n",
    "    def __init__(self):\n",
    "        # call super() function\n",
    "        super().__init__()\n",
    "        print(\"Penguin is ready\")\n",
    "\n",
    "    def whoisThis(self):\n",
    "        print(\"Penguin\")\n",
    "\n",
    "    def run(self):\n",
    "        print(\"Run faster\")\n",
    "\n",
    "peggy = Penguin()\n",
    "peggy.whoisThis()\n",
    "peggy.swim()\n",
    "peggy.run()"
   ]
  },
  {
   "cell_type": "markdown",
   "id": "b11449ea",
   "metadata": {},
   "source": [
    "In the above program, we created two classes, i.e. Bird (parent class) and Penguin (child class). The child class inherits the functions of the parent class. We can see this from the swim() method.\n",
    "\n",
    "Again, the child class modified the behavior of the parent class. We can see this from the whoisThis() method. Furthermore, we extend the functions of the parent class by creating a new run() method.\n",
    "\n",
    "Additionally, we use the super() function inside the __init__() method. This allows us to run the __init__() method of the parent class inside the child class.\n",
    "\n",
    "## 1.6 Encapsulation\n",
    "\n",
    "Using OOP in Python, we can restrict access to methods and variables. This prevents data from direct modification, which is called encapsulation. In Python, we denote private attributes using underscore as the prefix, i.e. single _ or double __.\n",
    "\n",
    "**Example: Data Encapsulation in Python**"
   ]
  },
  {
   "cell_type": "code",
   "execution_count": 4,
   "id": "51e5ac6f",
   "metadata": {},
   "outputs": [
    {
     "name": "stdout",
     "output_type": "stream",
     "text": [
      "Selling Price: 900\n",
      "Selling Price: 900\n",
      "Selling Price: 1000\n"
     ]
    }
   ],
   "source": [
    "class Computer:\n",
    "\n",
    "    def __init__(self):\n",
    "        self.__maxprice = 900\n",
    "\n",
    "    def sell(self):\n",
    "        print(\"Selling Price: {}\".format(self.__maxprice))\n",
    "\n",
    "    def setMaxPrice(self, price):\n",
    "        self.__maxprice = price\n",
    "\n",
    "c = Computer()\n",
    "c.sell()\n",
    "\n",
    "# change the price\n",
    "c.__maxprice = 1000\n",
    "c.sell()\n",
    "\n",
    "# using setter function\n",
    "c.setMaxPrice(1000)\n",
    "c.sell()"
   ]
  },
  {
   "cell_type": "markdown",
   "id": "f131d487",
   "metadata": {},
   "source": [
    "In the above program, we defined a Computer class. We used init() method to store the maximum selling price of Computer. Here, notice the code:\n",
    "\n",
    "**c.__maxprice = 1000**\n",
    "\n",
    "Here, we have tried to modify the value of maxprice outside of the class. However, since maxprice is a private variable, this modification is not seen on the output.\n",
    "\n",
    "As shown, to change the value, we have to use a setter function, i.e. setMaxPrice() which takes price as a parameter.\n",
    "\n",
    "## 1.7 Polymorphism\n",
    "\n",
    "Polymorphism is an ability (in OOP) to use a common interface for multiple forms (data types).\n",
    "\n",
    "Suppose we need to color a shape, there are multiple shape options (rectangle, square, circle). However, we could use the same method to color any shape. This concept is called as Polymorphism.\n",
    "\n",
    "**Example: Using Polymorphism in Python**"
   ]
  },
  {
   "cell_type": "code",
   "execution_count": 5,
   "id": "0c2f73a8",
   "metadata": {},
   "outputs": [
    {
     "name": "stdout",
     "output_type": "stream",
     "text": [
      "Parrot can fly\n",
      "Penguin can't fly\n"
     ]
    }
   ],
   "source": [
    "class Parrot:\n",
    "\n",
    "    def fly(self):\n",
    "        print(\"Parrot can fly\")\n",
    "    \n",
    "    def swim(self):\n",
    "        print(\"Parrot can't swim\")\n",
    "\n",
    "class Penguin:\n",
    "\n",
    "    def fly(self):\n",
    "        print(\"Penguin can't fly\")\n",
    "    \n",
    "    def swim(self):\n",
    "        print(\"Penguin can swim\")\n",
    "\n",
    "# common interface\n",
    "def flying_test(bird):\n",
    "    bird.fly()\n",
    "\n",
    "#instantiate objects\n",
    "blu = Parrot()\n",
    "peggy = Penguin()\n",
    "\n",
    "# passing the object\n",
    "flying_test(blu)\n",
    "flying_test(peggy)"
   ]
  },
  {
   "cell_type": "markdown",
   "id": "955a5c8a",
   "metadata": {},
   "source": [
    "In the above program, we defined two classes: Parrot and Penguin. Each of them has a common fly() method. However, their functions are different.\n",
    "\n",
    "To use polymorphism, we created a common interface, i.e. flying_test() function that takes any object and calls the object's fly() method. Thus, when we passed the blu and peggy objects in the flying_test() function, it ran effectively."
   ]
  },
  {
   "cell_type": "markdown",
   "id": "f927baf5",
   "metadata": {},
   "source": [
    "# Practice"
   ]
  },
  {
   "cell_type": "code",
   "execution_count": 25,
   "id": "d5f2df01",
   "metadata": {},
   "outputs": [],
   "source": [
    "def test(a,b):\n",
    "    return a + b"
   ]
  },
  {
   "cell_type": "code",
   "execution_count": 26,
   "id": "d05e7ce5",
   "metadata": {},
   "outputs": [
    {
     "name": "stdout",
     "output_type": "stream",
     "text": [
      "11\n",
      "sudhtest\n",
      "[1, 2, 3, 4, 5, 6, 7, 8]\n"
     ]
    }
   ],
   "source": [
    "print(test(5,6))\n",
    "print(test(\"sudh\",\"test\"))\n",
    "print(test([1,2,3,4],[5,6,7,8]))"
   ]
  },
  {
   "cell_type": "code",
   "execution_count": 2,
   "id": "99d7337c",
   "metadata": {},
   "outputs": [],
   "source": [
    "class ineuron:\n",
    "    def msg(self):\n",
    "        print(\"This is a message to ineuron.\")\n",
    "    \n",
    "class xyz:\n",
    "    def msg(self):\n",
    "        print(\"This is a message to xyz.\")       "
   ]
  },
  {
   "cell_type": "code",
   "execution_count": 3,
   "id": "5640f4a7",
   "metadata": {},
   "outputs": [],
   "source": [
    "def test(notes):\n",
    "    notes.msg()"
   ]
  },
  {
   "cell_type": "code",
   "execution_count": 4,
   "id": "19273546",
   "metadata": {},
   "outputs": [],
   "source": [
    "i = ineuron()\n",
    "x = xyz()"
   ]
  },
  {
   "cell_type": "code",
   "execution_count": 5,
   "id": "583ab638",
   "metadata": {},
   "outputs": [
    {
     "name": "stdout",
     "output_type": "stream",
     "text": [
      "This is a message to ineuron.\n"
     ]
    }
   ],
   "source": [
    "test(i)"
   ]
  },
  {
   "cell_type": "code",
   "execution_count": 6,
   "id": "76136748",
   "metadata": {},
   "outputs": [
    {
     "name": "stdout",
     "output_type": "stream",
     "text": [
      "This is a message to xyz.\n"
     ]
    }
   ],
   "source": [
    "test(x)"
   ]
  },
  {
   "cell_type": "code",
   "execution_count": 1,
   "id": "390000d4",
   "metadata": {},
   "outputs": [
    {
     "name": "stdout",
     "output_type": "stream",
     "text": [
      "11\n",
      "sudhtest\n",
      "[1, 2, 3, 4, 5, 6, 7, 8]\n",
      "This is a message to ineuron.\n",
      "This is a message to xyz.\n"
     ]
    }
   ],
   "source": [
    "def test(a,b):\n",
    "    return a + b\n",
    "\n",
    "print(test(5,6))\n",
    "print(test(\"sudh\",\"test\"))\n",
    "print(test([1,2,3,4],[5,6,7,8]))\n",
    "\n",
    "class ineuron:\n",
    "    def msg(self):\n",
    "        print(\"This is a message to ineuron.\")\n",
    "    \n",
    "class xyz:\n",
    "    def msg(self):\n",
    "        print(\"This is a message to xyz.\")\n",
    "        \n",
    "\n",
    "def test(notes):\n",
    "    notes.msg()\n",
    "\n",
    "i = ineuron()\n",
    "x = xyz()\n",
    "\n",
    "test(i)\n",
    "\n",
    "test(x)"
   ]
  },
  {
   "cell_type": "markdown",
   "id": "ac5d1498",
   "metadata": {},
   "source": [
    "## 1.8 Key Points\n",
    "\n",
    "- Object-Oriented Programming makes the program easy to understand as well as efficient.\n",
    "- Since the class is sharable, we can reuse the code.\n",
    "- Data is safe and secure with data abstraction.\n",
    "- Polymorphism allows the same interface for different objects, so programmers can write efficient code."
   ]
  },
  {
   "cell_type": "markdown",
   "id": "af942451",
   "metadata": {},
   "source": [
    "# 2. Basic Concepts\n",
    "\n",
    "## 2.1 Classes and Objects\n",
    "\n",
    "Python is an object-oriented programming language. Unlike procedure-oriented programming, where the main emphasis is on functions, object-oriented programming stresses on objects.\n",
    "\n",
    "An object is simply a collection of data (variables) and methods (functions) that act on those data. Similarly, a class is a blueprint for that object. \n",
    "\n",
    "We can think of a class as a sketch (prototype) of a house. It contains all the details about the floors, doors, windows, etc. Based on these descriptions, we build the house. House is the object.\n",
    "\n",
    "As we can make many houses from a house’s blueprint, we can create many objects from a class. An object is also called an instance of a class, and the process of creating this object is called instantiation.\n",
    "\n",
    "## 2.2 Defining a Class\n",
    "\n",
    "Like function definitions, begin with the def keyword in Python, class definitions begin with a class keyword.\n",
    "\n",
    "The first string inside the class is called docstring and has a brief description of the class. Although not mandatory, this is highly recommended.\n",
    "\n",
    "Here is a simple class definition."
   ]
  },
  {
   "cell_type": "code",
   "execution_count": null,
   "id": "08db7712",
   "metadata": {},
   "outputs": [],
   "source": [
    "class MyNewClass:\n",
    "    '''This is a docstring. I have created a new class'''\n",
    "    pass"
   ]
  },
  {
   "cell_type": "markdown",
   "id": "b05e6157",
   "metadata": {},
   "source": [
    "A class creates a new local namespace where all its attributes are defined. Attributes may be data or functions.\n",
    "\n",
    "There are also special attributes in it that begin with double underscores __. For example, __doc__ gives us the docstring of that class.\n",
    "\n",
    "As soon as we define a class, a new class object is created with the same name. This class object allows us to access the different attributes as well as to instantiate new objects of that class."
   ]
  },
  {
   "cell_type": "code",
   "execution_count": 1,
   "id": "50fbc8a6",
   "metadata": {},
   "outputs": [
    {
     "name": "stdout",
     "output_type": "stream",
     "text": [
      "10\n",
      "<function Person.greet at 0x000002CDBBDD61F0>\n",
      "This is a person class\n"
     ]
    }
   ],
   "source": [
    "class Person:\n",
    "    \"This is a person class\"\n",
    "    age = 10\n",
    "\n",
    "    def greet(self):\n",
    "        print('Hello')\n",
    "\n",
    "\n",
    "# Output: 10\n",
    "print(Person.age)\n",
    "\n",
    "# Output: <function Person.greet>\n",
    "print(Person.greet)\n",
    "\n",
    "# Output: \"This is a person class\"\n",
    "print(Person.__doc__)"
   ]
  },
  {
   "cell_type": "markdown",
   "id": "5a5eba1f",
   "metadata": {},
   "source": [
    "## 2.3 Creating an Object\n",
    "\n",
    "We saw that the class object could be used to access different attributes. It can also be used to create new object instances (instantiation) of that class. The procedure for creating an object is similar to a function call.\n",
    "\n",
    "harry = Person()\n",
    "\n",
    "This will create a new object instance named harry. We can access the attributes of objects using the object name prefix. Attributes may be data or method. Methods of an object are corresponding functions of that class.\n",
    "\n",
    "This means to say, since Person.greet is a function object (attribute of class), Person.greet will be a method object."
   ]
  },
  {
   "cell_type": "code",
   "execution_count": 2,
   "id": "692c355e",
   "metadata": {},
   "outputs": [
    {
     "name": "stdout",
     "output_type": "stream",
     "text": [
      "<function Person.greet at 0x000002CDBBDD6310>\n",
      "<bound method Person.greet of <__main__.Person object at 0x000002CDBBDA8AC0>>\n",
      "Hello\n"
     ]
    }
   ],
   "source": [
    "class Person:\n",
    "    \"This is a person class\"\n",
    "    age = 10\n",
    "\n",
    "    def greet(self):\n",
    "        print('Hello')\n",
    "\n",
    "\n",
    "# create a new object of Person class\n",
    "harry = Person()\n",
    "\n",
    "# Output: <function Person.greet>\n",
    "print(Person.greet)\n",
    "\n",
    "# Output: <bound method Person.greet of <__main__.Person object>>\n",
    "print(harry.greet)\n",
    "\n",
    "# Calling object's greet() method\n",
    "# Output: Hello\n",
    "harry.greet()"
   ]
  },
  {
   "cell_type": "markdown",
   "id": "53a7c20d",
   "metadata": {},
   "source": [
    "You may have noticed the self parameter in function definition inside the class but we called the method simply as harry.greet() without any arguments. It still worked.\n",
    "\n",
    "This is because, whenever an object calls its method, the object itself is passed as the first argument. So, harry.greet() translates into Person.greet(harry).\n",
    "\n",
    "In general, calling a method with a list of n arguments is equivalent to calling the corresponding function with an argument list that is created by inserting the method's object before the first argument.\n",
    "\n",
    "For these reasons, the first argument of the function in class must be the object itself. This is conventionally called self. It can be named otherwise, but we highly recommend following the convention.\n",
    "\n",
    "Now you must be familiar with class object, instance object, function object, method object and their differences."
   ]
  },
  {
   "cell_type": "markdown",
   "id": "49a66364",
   "metadata": {},
   "source": [
    "## 2.4 Constructors\n",
    "\n",
    "Class functions that begin with double underscore __ are called special functions, as they have special meaning.\n",
    "\n",
    "Of one particular interest is the __init__() function. This special function gets called whenever a new object of that class is instantiated.\n",
    "\n",
    "This type of function is also called constructors in Object Oriented Programming (OOP). We normally use it to initialize all the variables."
   ]
  },
  {
   "cell_type": "code",
   "execution_count": 3,
   "id": "8dbecff7",
   "metadata": {},
   "outputs": [
    {
     "name": "stdout",
     "output_type": "stream",
     "text": [
      "2+3j\n",
      "(5, 0, 10)\n"
     ]
    },
    {
     "ename": "AttributeError",
     "evalue": "'ComplexNumber' object has no attribute 'attr'",
     "output_type": "error",
     "traceback": [
      "\u001b[1;31m---------------------------------------------------------------------------\u001b[0m",
      "\u001b[1;31mAttributeError\u001b[0m                            Traceback (most recent call last)",
      "\u001b[1;32m<ipython-input-3-afa66228e4bc>\u001b[0m in \u001b[0;36m<module>\u001b[1;34m\u001b[0m\n\u001b[0;32m     25\u001b[0m \u001b[1;31m# but c1 object doesn't have attribute 'attr'\u001b[0m\u001b[1;33m\u001b[0m\u001b[1;33m\u001b[0m\u001b[1;33m\u001b[0m\u001b[0m\n\u001b[0;32m     26\u001b[0m \u001b[1;31m# AttributeError: 'ComplexNumber' object has no attribute 'attr'\u001b[0m\u001b[1;33m\u001b[0m\u001b[1;33m\u001b[0m\u001b[1;33m\u001b[0m\u001b[0m\n\u001b[1;32m---> 27\u001b[1;33m \u001b[0mprint\u001b[0m\u001b[1;33m(\u001b[0m\u001b[0mnum1\u001b[0m\u001b[1;33m.\u001b[0m\u001b[0mattr\u001b[0m\u001b[1;33m)\u001b[0m\u001b[1;33m\u001b[0m\u001b[1;33m\u001b[0m\u001b[0m\n\u001b[0m",
      "\u001b[1;31mAttributeError\u001b[0m: 'ComplexNumber' object has no attribute 'attr'"
     ]
    }
   ],
   "source": [
    "class ComplexNumber:\n",
    "    def __init__(self, r=0, i=0):\n",
    "        self.real = r\n",
    "        self.imag = i\n",
    "\n",
    "    def get_data(self):\n",
    "        print(f'{self.real}+{self.imag}j')\n",
    "\n",
    "\n",
    "# Create a new ComplexNumber object\n",
    "num1 = ComplexNumber(2, 3)\n",
    "\n",
    "# Call get_data() method\n",
    "# Output: 2+3j\n",
    "num1.get_data()\n",
    "\n",
    "# Create another ComplexNumber object\n",
    "# and create a new attribute 'attr'\n",
    "num2 = ComplexNumber(5)\n",
    "num2.attr = 10\n",
    "\n",
    "# Output: (5, 0, 10)\n",
    "print((num2.real, num2.imag, num2.attr))\n",
    "\n",
    "# but c1 object doesn't have attribute 'attr'\n",
    "# AttributeError: 'ComplexNumber' object has no attribute 'attr'\n",
    "print(num1.attr)"
   ]
  },
  {
   "attachments": {
    "image-2.png": {
     "image/png": "[encoded data removed]"
    },
    "image.png": {
     "image/png": "[encoded data removed]"
    }
   },
   "cell_type": "markdown",
   "id": "ff63919d",
   "metadata": {},
   "source": [
    "In the above example, we defined a new class to represent complex numbers. It has two functions, __init__() to initialize the variables (defaults to zero) and get_data() to display the number properly.\n",
    "\n",
    "An interesting thing to note in the above step is that attributes of an object can be created on the fly. We created a new attribute attr for object num2 and read it as well. But this does not create that attribute for object num1.\n",
    "\n",
    "## 2.5 Deleting Attributes and Objects\n",
    "\n",
    "Any attribute of an object can be deleted anytime, using the del statement. Try the following on the Python shell to see the output.\n",
    "\n",
    "![image.png](attachment:image.png)\n",
    "\n",
    "Actually, it is more complicated than that. When we do c1 = ComplexNumber(1,3), a new instance object is created in memory and the name c1 binds with it.\n",
    "\n",
    "On the command del c1, this binding is removed and the name c1 is deleted from the corresponding namespace. The object, however continues to exist in memory and if no other name is bound to it, it is later automatically destroyed.\n",
    "\n",
    "This automatic destruction of unreferenced objects in Python is also called garbage collection.\n",
    "\n",
    "![image-2.png](attachment:image-2.png)"
   ]
  },
  {
   "cell_type": "markdown",
   "id": "9fbecddd",
   "metadata": {
    "id": "78rhOF5WLg5e"
   },
   "source": [
    "# Practice\n",
    "\n",
    "- Classes and objects are frequently used in bigger systems or production level code.\n",
    "- Class is a classification of a real-world object.\n",
    "- For example, car and animal are classes.\n",
    "- Object is a variable of the class.\n",
    "- Audi Q7 is a variable of Car Class.\n",
    "- Ciaz is a variable of Car Class."
   ]
  },
  {
   "cell_type": "code",
   "execution_count": 26,
   "id": "8911d504",
   "metadata": {
    "colab": {
     "base_uri": "https://localhost:8080/",
     "height": 129
    },
    "executionInfo": {
     "elapsed": 621,
     "status": "error",
     "timestamp": 1627797259491,
     "user": {
      "displayName": "Siddharth Swain",
      "photoUrl": "",
      "userId": "12055456511825659152"
     },
     "user_tz": -330
    },
    "id": "mestQMfsEwY4",
    "outputId": "8192e041-8918-4be1-f7f6-ccbfee48387c"
   },
   "outputs": [
    {
     "ename": "SyntaxError",
     "evalue": "ignored",
     "output_type": "error",
     "traceback": [
      "\u001b[0;36m  File \u001b[0;32m\"<ipython-input-26-553f2c3da58e>\"\u001b[0;36m, line \u001b[0;32m1\u001b[0m\n\u001b[0;31m    class car1:\u001b[0m\n\u001b[0m               ^\u001b[0m\n\u001b[0;31mSyntaxError\u001b[0m\u001b[0;31m:\u001b[0m unexpected EOF while parsing\n"
     ]
    }
   ],
   "source": [
    "class car1:\n"
   ]
  },
  {
   "cell_type": "code",
   "execution_count": 27,
   "id": "54730447",
   "metadata": {
    "executionInfo": {
     "elapsed": 3,
     "status": "ok",
     "timestamp": 1627797259894,
     "user": {
      "displayName": "Siddharth Swain",
      "photoUrl": "",
      "userId": "12055456511825659152"
     },
     "user_tz": -330
    },
    "id": "Z-i7RFaFO9i4"
   },
   "outputs": [],
   "source": [
    "class car1:\n",
    "  pass"
   ]
  },
  {
   "cell_type": "code",
   "execution_count": 28,
   "id": "8c1e4d79",
   "metadata": {
    "executionInfo": {
     "elapsed": 2,
     "status": "ok",
     "timestamp": 1627797261099,
     "user": {
      "displayName": "Siddharth Swain",
      "photoUrl": "",
      "userId": "12055456511825659152"
     },
     "user_tz": -330
    },
    "id": "CSNVyCLKPC3v"
   },
   "outputs": [],
   "source": [
    "ciaz = car1()"
   ]
  },
  {
   "cell_type": "code",
   "execution_count": 29,
   "id": "c1f61d06",
   "metadata": {
    "colab": {
     "base_uri": "https://localhost:8080/"
    },
    "executionInfo": {
     "elapsed": 3,
     "status": "ok",
     "timestamp": 1627797261583,
     "user": {
      "displayName": "Siddharth Swain",
      "photoUrl": "",
      "userId": "12055456511825659152"
     },
     "user_tz": -330
    },
    "id": "8hNluLJpPUvt",
    "outputId": "acb1bb62-0527-4e34-bfaf-e6ed0d5ef30a"
   },
   "outputs": [
    {
     "data": {
      "text/plain": [
       "<__main__.car1 at 0x7f58a75ba6d0>"
      ]
     },
     "execution_count": 29,
     "metadata": {
      "tags": []
     },
     "output_type": "execute_result"
    }
   ],
   "source": [
    "# Ciaz is a variable of Car Class.\n",
    "\n",
    "ciaz"
   ]
  },
  {
   "cell_type": "code",
   "execution_count": 30,
   "id": "a7f8e398",
   "metadata": {
    "executionInfo": {
     "elapsed": 2,
     "status": "ok",
     "timestamp": 1627797262112,
     "user": {
      "displayName": "Siddharth Swain",
      "photoUrl": "",
      "userId": "12055456511825659152"
     },
     "user_tz": -330
    },
    "id": "InAIAAXuPVG1"
   },
   "outputs": [],
   "source": [
    "ciaz.mileage = 20\n",
    "ciaz. year = 2019\n",
    "ciaz.model = \"Aplha Petrol\"\n",
    "ciaz.make = \"India\""
   ]
  },
  {
   "cell_type": "code",
   "execution_count": 31,
   "id": "db15c092",
   "metadata": {
    "colab": {
     "base_uri": "https://localhost:8080/",
     "height": 163
    },
    "executionInfo": {
     "elapsed": 5,
     "status": "error",
     "timestamp": 1627797262672,
     "user": {
      "displayName": "Siddharth Swain",
      "photoUrl": "",
      "userId": "12055456511825659152"
     },
     "user_tz": -330
    },
    "id": "TMQStylPP71d",
    "outputId": "98f5a3d2-da52-4c28-8f20-f46bba72b4ec"
   },
   "outputs": [
    {
     "ename": "NameError",
     "evalue": "ignored",
     "output_type": "error",
     "traceback": [
      "\u001b[0;31m---------------------------------------------------------------------------\u001b[0m",
      "\u001b[0;31mNameError\u001b[0m                                 Traceback (most recent call last)",
      "\u001b[0;32m<ipython-input-31-1f8a688cae5d>\u001b[0m in \u001b[0;36m<module>\u001b[0;34m()\u001b[0m\n\u001b[0;32m----> 1\u001b[0;31m \u001b[0mmodel\u001b[0m\u001b[0;34m\u001b[0m\u001b[0;34m\u001b[0m\u001b[0m\n\u001b[0m",
      "\u001b[0;31mNameError\u001b[0m: name 'model' is not defined"
     ]
    }
   ],
   "source": [
    "model"
   ]
  },
  {
   "cell_type": "code",
   "execution_count": 32,
   "id": "a4ac0321",
   "metadata": {
    "colab": {
     "base_uri": "https://localhost:8080/",
     "height": 35
    },
    "executionInfo": {
     "elapsed": 5,
     "status": "ok",
     "timestamp": 1627797264249,
     "user": {
      "displayName": "Siddharth Swain",
      "photoUrl": "",
      "userId": "12055456511825659152"
     },
     "user_tz": -330
    },
    "id": "X-QOjVSDPmhW",
    "outputId": "70b19d1d-804a-4c95-fb4e-938d447d9a2e"
   },
   "outputs": [
    {
     "data": {
      "application/vnd.google.colaboratory.intrinsic+json": {
       "type": "string"
      },
      "text/plain": [
       "'Aplha Petrol'"
      ]
     },
     "execution_count": 32,
     "metadata": {
      "tags": []
     },
     "output_type": "execute_result"
    }
   ],
   "source": [
    "ciaz.model"
   ]
  },
  {
   "cell_type": "code",
   "execution_count": 33,
   "id": "9088ca8e",
   "metadata": {
    "executionInfo": {
     "elapsed": 365,
     "status": "ok",
     "timestamp": 1627797266479,
     "user": {
      "displayName": "Siddharth Swain",
      "photoUrl": "",
      "userId": "12055456511825659152"
     },
     "user_tz": -330
    },
    "id": "X6ZaF2XFP-x9"
   },
   "outputs": [],
   "source": [
    "nano = car1()\n",
    "nano.mileage = 12\n",
    "nano.year = 2016\n",
    "nano.model = \"Petrol Base\"\n",
    "nano.make = \"India\"\n",
    "nano.engineno = 24564763478883484"
   ]
  },
  {
   "cell_type": "code",
   "execution_count": 34,
   "id": "056c5db7",
   "metadata": {
    "colab": {
     "base_uri": "https://localhost:8080/"
    },
    "executionInfo": {
     "elapsed": 506,
     "status": "ok",
     "timestamp": 1627797268939,
     "user": {
      "displayName": "Siddharth Swain",
      "photoUrl": "",
      "userId": "12055456511825659152"
     },
     "user_tz": -330
    },
    "id": "86EMw9AKQRHW",
    "outputId": "25c179ac-3c90-45c9-de85-84da074b669e"
   },
   "outputs": [
    {
     "data": {
      "text/plain": [
       "24564763478883484"
      ]
     },
     "execution_count": 34,
     "metadata": {
      "tags": []
     },
     "output_type": "execute_result"
    }
   ],
   "source": [
    "nano.engineno"
   ]
  },
  {
   "cell_type": "code",
   "execution_count": 35,
   "id": "9532a1a5",
   "metadata": {
    "colab": {
     "base_uri": "https://localhost:8080/"
    },
    "executionInfo": {
     "elapsed": 6,
     "status": "ok",
     "timestamp": 1627797270485,
     "user": {
      "displayName": "Siddharth Swain",
      "photoUrl": "",
      "userId": "12055456511825659152"
     },
     "user_tz": -330
    },
    "id": "VzHOwiB_QZmG",
    "outputId": "bb295233-4e66-405e-afcf-55dddbb82057"
   },
   "outputs": [
    {
     "data": {
      "text/plain": [
       "2019"
      ]
     },
     "execution_count": 35,
     "metadata": {
      "tags": []
     },
     "output_type": "execute_result"
    }
   ],
   "source": [
    "ciaz.year"
   ]
  },
  {
   "cell_type": "code",
   "execution_count": 36,
   "id": "c2a448a1",
   "metadata": {
    "colab": {
     "base_uri": "https://localhost:8080/"
    },
    "executionInfo": {
     "elapsed": 3,
     "status": "ok",
     "timestamp": 1627797271932,
     "user": {
      "displayName": "Siddharth Swain",
      "photoUrl": "",
      "userId": "12055456511825659152"
     },
     "user_tz": -330
    },
    "id": "VGhAP3fPQdWt",
    "outputId": "86d963f3-52f5-4b35-ceab-cec8c1cf49c5"
   },
   "outputs": [
    {
     "data": {
      "text/plain": [
       "2016"
      ]
     },
     "execution_count": 36,
     "metadata": {
      "tags": []
     },
     "output_type": "execute_result"
    }
   ],
   "source": [
    "nano.year"
   ]
  },
  {
   "cell_type": "code",
   "execution_count": 3,
   "id": "b1c3d761",
   "metadata": {
    "executionInfo": {
     "elapsed": 363,
     "status": "ok",
     "timestamp": 1627797532780,
     "user": {
      "displayName": "Siddharth Swain",
      "photoUrl": "",
      "userId": "12055456511825659152"
     },
     "user_tz": -330
    },
    "id": "NYaNBqShQeHk"
   },
   "outputs": [],
   "source": [
    "# Write the class once and utilize many times.\n",
    "\n",
    "# Init is an inbuilt function used for the initialization of data.\n",
    "\n",
    "class car2:\n",
    "  def __init__(self , mileage, year, make, model):\n",
    "    self.mileage = mileage\n",
    "    self.year = year\n",
    "    self.make = make\n",
    "    self.model = model"
   ]
  },
  {
   "cell_type": "code",
   "execution_count": 10,
   "id": "d4dc623e",
   "metadata": {
    "executionInfo": {
     "elapsed": 606,
     "status": "ok",
     "timestamp": 1627805548145,
     "user": {
      "displayName": "Siddharth Swain",
      "photoUrl": "",
      "userId": "12055456511825659152"
     },
     "user_tz": -330
    },
    "id": "tCWr8ydRReEu"
   },
   "outputs": [],
   "source": [
    "nano = car2(20,2020,232323,\"24242\")\n",
    "nano1 = car2(20,2020,232323,\"24242\")\n",
    "nano2 = car2(20,2020,232323,\"24242\")\n",
    "nano3 = car2(20,2020,232323,\"24242\")"
   ]
  },
  {
   "cell_type": "code",
   "execution_count": 5,
   "id": "a210492b",
   "metadata": {
    "colab": {
     "base_uri": "https://localhost:8080/"
    },
    "executionInfo": {
     "elapsed": 612,
     "status": "ok",
     "timestamp": 1627797541224,
     "user": {
      "displayName": "Siddharth Swain",
      "photoUrl": "",
      "userId": "12055456511825659152"
     },
     "user_tz": -330
    },
    "id": "Z4geLXxvR5rz",
    "outputId": "b26e4ba4-aba1-43be-cfb7-b3241c791bb2"
   },
   "outputs": [
    {
     "data": {
      "text/plain": [
       "2020"
      ]
     },
     "execution_count": 5,
     "metadata": {
      "tags": []
     },
     "output_type": "execute_result"
    }
   ],
   "source": [
    "nano.year"
   ]
  },
  {
   "cell_type": "code",
   "execution_count": 6,
   "id": "e4b39750",
   "metadata": {
    "colab": {
     "base_uri": "https://localhost:8080/"
    },
    "executionInfo": {
     "elapsed": 360,
     "status": "ok",
     "timestamp": 1627797544739,
     "user": {
      "displayName": "Siddharth Swain",
      "photoUrl": "",
      "userId": "12055456511825659152"
     },
     "user_tz": -330
    },
    "id": "GUsTDIHZS0yd",
    "outputId": "30abac89-5c6e-469e-d8ae-c6ceb6bf783b"
   },
   "outputs": [
    {
     "data": {
      "text/plain": [
       "20"
      ]
     },
     "execution_count": 6,
     "metadata": {
      "tags": []
     },
     "output_type": "execute_result"
    }
   ],
   "source": [
    "nano.mileage"
   ]
  },
  {
   "cell_type": "code",
   "execution_count": 7,
   "id": "cd8c4cb4",
   "metadata": {
    "colab": {
     "base_uri": "https://localhost:8080/"
    },
    "executionInfo": {
     "elapsed": 624,
     "status": "ok",
     "timestamp": 1627797548967,
     "user": {
      "displayName": "Siddharth Swain",
      "photoUrl": "",
      "userId": "12055456511825659152"
     },
     "user_tz": -330
    },
    "id": "8BQjTYz3S1tM",
    "outputId": "e14d2ccf-4ce0-48fd-fd05-e85d0b8974a1"
   },
   "outputs": [
    {
     "data": {
      "text/plain": [
       "232323"
      ]
     },
     "execution_count": 7,
     "metadata": {
      "tags": []
     },
     "output_type": "execute_result"
    }
   ],
   "source": [
    "nano.make"
   ]
  },
  {
   "cell_type": "code",
   "execution_count": 8,
   "id": "180a4633",
   "metadata": {
    "colab": {
     "base_uri": "https://localhost:8080/",
     "height": 35
    },
    "executionInfo": {
     "elapsed": 627,
     "status": "ok",
     "timestamp": 1627797551743,
     "user": {
      "displayName": "Siddharth Swain",
      "photoUrl": "",
      "userId": "12055456511825659152"
     },
     "user_tz": -330
    },
    "id": "Chrxvm5CS2rN",
    "outputId": "ff1e1000-d8e1-40e3-b878-22337a5543c4"
   },
   "outputs": [
    {
     "data": {
      "application/vnd.google.colaboratory.intrinsic+json": {
       "type": "string"
      },
      "text/plain": [
       "'24242'"
      ]
     },
     "execution_count": 8,
     "metadata": {
      "tags": []
     },
     "output_type": "execute_result"
    }
   ],
   "source": [
    "nano.model"
   ]
  },
  {
   "cell_type": "code",
   "execution_count": 11,
   "id": "caaa074a",
   "metadata": {
    "colab": {
     "base_uri": "https://localhost:8080/",
     "height": 35
    },
    "executionInfo": {
     "elapsed": 653,
     "status": "ok",
     "timestamp": 1627805558176,
     "user": {
      "displayName": "Siddharth Swain",
      "photoUrl": "",
      "userId": "12055456511825659152"
     },
     "user_tz": -330
    },
    "id": "EsE-45P7xNjR",
    "outputId": "ba4598ed-214b-4424-d5f6-393507b1e936"
   },
   "outputs": [
    {
     "data": {
      "application/vnd.google.colaboratory.intrinsic+json": {
       "type": "string"
      },
      "text/plain": [
       "'24242'"
      ]
     },
     "execution_count": 11,
     "metadata": {
      "tags": []
     },
     "output_type": "execute_result"
    }
   ],
   "source": [
    "nano3.model"
   ]
  },
  {
   "cell_type": "code",
   "execution_count": 18,
   "id": "a9fe0f43",
   "metadata": {
    "executionInfo": {
     "elapsed": 356,
     "status": "ok",
     "timestamp": 1627805851157,
     "user": {
      "displayName": "Siddharth Swain",
      "photoUrl": "",
      "userId": "12055456511825659152"
     },
     "user_tz": -330
    },
    "id": "mNRsWmOBxaCf"
   },
   "outputs": [],
   "source": [
    "# Here 'a' works as a pointer (or self variable). It is like a convention.\n",
    "\n",
    "class car3:\n",
    "  def __init__(a, mileage, year, make, model):\n",
    "    a.mileage = mileage\n",
    "    a.year = year\n",
    "    a.make = make\n",
    "    a.model = model"
   ]
  },
  {
   "cell_type": "code",
   "execution_count": 15,
   "id": "b5e41b64",
   "metadata": {
    "executionInfo": {
     "elapsed": 3,
     "status": "ok",
     "timestamp": 1627805735844,
     "user": {
      "displayName": "Siddharth Swain",
      "photoUrl": "",
      "userId": "12055456511825659152"
     },
     "user_tz": -330
    },
    "id": "tcLUR2ivxpoI"
   },
   "outputs": [],
   "source": [
    "nano4 = car3(20,2020,232323,\"24242\")"
   ]
  },
  {
   "cell_type": "code",
   "execution_count": 20,
   "id": "c8d5d3e5",
   "metadata": {
    "executionInfo": {
     "elapsed": 375,
     "status": "ok",
     "timestamp": 1627805863606,
     "user": {
      "displayName": "Siddharth Swain",
      "photoUrl": "",
      "userId": "12055456511825659152"
     },
     "user_tz": -330
    },
    "id": "bocRspQVxtvn"
   },
   "outputs": [],
   "source": [
    "class car4:\n",
    "  def __init__(a, m, y, ma, mo):\n",
    "    a.mileage = m\n",
    "    a.year = y\n",
    "    a.make = ma\n",
    "    a.model = mo"
   ]
  },
  {
   "cell_type": "code",
   "execution_count": 21,
   "id": "f405ed87",
   "metadata": {
    "executionInfo": {
     "elapsed": 2,
     "status": "ok",
     "timestamp": 1627805877930,
     "user": {
      "displayName": "Siddharth Swain",
      "photoUrl": "",
      "userId": "12055456511825659152"
     },
     "user_tz": -330
    },
    "id": "4-g46mBhybpX"
   },
   "outputs": [],
   "source": [
    "c1 = car4(1,2,3,4)"
   ]
  },
  {
   "cell_type": "code",
   "execution_count": 22,
   "id": "59ccbd45",
   "metadata": {
    "colab": {
     "base_uri": "https://localhost:8080/"
    },
    "executionInfo": {
     "elapsed": 635,
     "status": "ok",
     "timestamp": 1627805884835,
     "user": {
      "displayName": "Siddharth Swain",
      "photoUrl": "",
      "userId": "12055456511825659152"
     },
     "user_tz": -330
    },
    "id": "N5f2OUBtyoN_",
    "outputId": "cb573fc2-53a4-456d-f2d1-fc7e1573f059"
   },
   "outputs": [
    {
     "data": {
      "text/plain": [
       "4"
      ]
     },
     "execution_count": 22,
     "metadata": {
      "tags": []
     },
     "output_type": "execute_result"
    }
   ],
   "source": [
    "c1.model"
   ]
  },
  {
   "cell_type": "code",
   "execution_count": 24,
   "id": "e05e60c8",
   "metadata": {
    "colab": {
     "base_uri": "https://localhost:8080/",
     "height": 163
    },
    "executionInfo": {
     "elapsed": 384,
     "status": "error",
     "timestamp": 1627805965794,
     "user": {
      "displayName": "Siddharth Swain",
      "photoUrl": "",
      "userId": "12055456511825659152"
     },
     "user_tz": -330
    },
    "id": "eCb1XfykyrC3",
    "outputId": "19f895a9-d874-436e-b283-451ed4cc03ac"
   },
   "outputs": [
    {
     "ename": "AttributeError",
     "evalue": "ignored",
     "output_type": "error",
     "traceback": [
      "\u001b[0;31m---------------------------------------------------------------------------\u001b[0m",
      "\u001b[0;31mAttributeError\u001b[0m                            Traceback (most recent call last)",
      "\u001b[0;32m<ipython-input-24-d42ca9bd0806>\u001b[0m in \u001b[0;36m<module>\u001b[0;34m()\u001b[0m\n\u001b[0;32m----> 1\u001b[0;31m \u001b[0mc1\u001b[0m\u001b[0;34m.\u001b[0m\u001b[0mm\u001b[0m\u001b[0;34m\u001b[0m\u001b[0;34m\u001b[0m\u001b[0m\n\u001b[0m",
      "\u001b[0;31mAttributeError\u001b[0m: 'car4' object has no attribute 'm'"
     ]
    }
   ],
   "source": [
    "c1.m"
   ]
  },
  {
   "cell_type": "markdown",
   "id": "afa52fb0",
   "metadata": {
    "id": "RmOPvq2rC7Lp"
   },
   "source": [
    "# Practice"
   ]
  },
  {
   "cell_type": "code",
   "execution_count": 33,
   "id": "a95a7fd4",
   "metadata": {
    "executionInfo": {
     "elapsed": 660,
     "status": "ok",
     "timestamp": 1627806304311,
     "user": {
      "displayName": "Siddharth Swain",
      "photoUrl": "",
      "userId": "12055456511825659152"
     },
     "user_tz": -330
    },
    "id": "OrKxJUoWy9nv"
   },
   "outputs": [],
   "source": [
    "class car2:\n",
    "  \n",
    "  def __init__(self , mileage, year, make, model):\n",
    "    self.mileage = mileage\n",
    "    self.year = year\n",
    "    self.make = make\n",
    "    self.model = model\n",
    "\n",
    "  def ageofcar(self, currentyear):\n",
    "    return currentyear - self.year"
   ]
  },
  {
   "cell_type": "code",
   "execution_count": 34,
   "id": "74ffcb1d",
   "metadata": {
    "executionInfo": {
     "elapsed": 2,
     "status": "ok",
     "timestamp": 1627806304927,
     "user": {
      "displayName": "Siddharth Swain",
      "photoUrl": "",
      "userId": "12055456511825659152"
     },
     "user_tz": -330
    },
    "id": "N6d7iYM5zV2n"
   },
   "outputs": [],
   "source": [
    "nano = car2(2015,2015,2015,2015)"
   ]
  },
  {
   "cell_type": "code",
   "execution_count": 35,
   "id": "9dbf282d",
   "metadata": {
    "colab": {
     "base_uri": "https://localhost:8080/"
    },
    "executionInfo": {
     "elapsed": 635,
     "status": "ok",
     "timestamp": 1627806331935,
     "user": {
      "displayName": "Siddharth Swain",
      "photoUrl": "",
      "userId": "12055456511825659152"
     },
     "user_tz": -330
    },
    "id": "hJpq1M0ZzgAP",
    "outputId": "ba6652e5-80ee-4224-eeab-6e477ad105eb"
   },
   "outputs": [
    {
     "data": {
      "text/plain": [
       "5"
      ]
     },
     "execution_count": 35,
     "metadata": {
      "tags": []
     },
     "output_type": "execute_result"
    }
   ],
   "source": [
    "nano.ageofcar(2020)"
   ]
  },
  {
   "cell_type": "code",
   "execution_count": 42,
   "id": "fca7c486",
   "metadata": {
    "executionInfo": {
     "elapsed": 641,
     "status": "ok",
     "timestamp": 1627806562536,
     "user": {
      "displayName": "Siddharth Swain",
      "photoUrl": "",
      "userId": "12055456511825659152"
     },
     "user_tz": -330
    },
    "id": "1gF0Omd30W8-"
   },
   "outputs": [],
   "source": [
    "class car2:\n",
    "  \n",
    "  def __init__(self , mileage, year, make, model):\n",
    "    self.mileage = mileage\n",
    "    self.year = year\n",
    "    self.make = make\n",
    "    self.model = model\n",
    "\n",
    "  def ageofcar(self, currentyear):\n",
    "    return currentyear - self.year\n",
    "\n",
    "  def printmileage(self):\n",
    "    print(\"The mileage of the car is {0}.\".format(self.mileage))"
   ]
  },
  {
   "cell_type": "code",
   "execution_count": 43,
   "id": "7cbc424c",
   "metadata": {
    "executionInfo": {
     "elapsed": 1,
     "status": "ok",
     "timestamp": 1627806562895,
     "user": {
      "displayName": "Siddharth Swain",
      "photoUrl": "",
      "userId": "12055456511825659152"
     },
     "user_tz": -330
    },
    "id": "f6KqHfe801QN"
   },
   "outputs": [],
   "source": [
    "nano = car2(2015,2015,2015,2015)"
   ]
  },
  {
   "cell_type": "code",
   "execution_count": 44,
   "id": "76f62ff6",
   "metadata": {
    "colab": {
     "base_uri": "https://localhost:8080/"
    },
    "executionInfo": {
     "elapsed": 375,
     "status": "ok",
     "timestamp": 1627806566725,
     "user": {
      "displayName": "Siddharth Swain",
      "photoUrl": "",
      "userId": "12055456511825659152"
     },
     "user_tz": -330
    },
    "id": "fnAhXt2002fe",
    "outputId": "5df71650-9b0f-4571-892a-13802b62f8cb"
   },
   "outputs": [
    {
     "name": "stdout",
     "output_type": "stream",
     "text": [
      "The mileage of the car is 2015.\n"
     ]
    }
   ],
   "source": [
    "nano.printmileage()"
   ]
  },
  {
   "cell_type": "code",
   "execution_count": 45,
   "id": "27b61b88",
   "metadata": {
    "colab": {
     "base_uri": "https://localhost:8080/"
    },
    "executionInfo": {
     "elapsed": 636,
     "status": "ok",
     "timestamp": 1627806629429,
     "user": {
      "displayName": "Siddharth Swain",
      "photoUrl": "",
      "userId": "12055456511825659152"
     },
     "user_tz": -330
    },
    "id": "1GEGAIRg035-",
    "outputId": "80707a35-178e-472d-fbcc-c28eb9836f69"
   },
   "outputs": [
    {
     "data": {
      "text/plain": [
       "<__main__.car2 at 0x7fc9b8e64c50>"
      ]
     },
     "execution_count": 45,
     "metadata": {
      "tags": []
     },
     "output_type": "execute_result"
    }
   ],
   "source": [
    "nano"
   ]
  },
  {
   "cell_type": "code",
   "execution_count": 46,
   "id": "95ac91fa",
   "metadata": {
    "colab": {
     "base_uri": "https://localhost:8080/"
    },
    "executionInfo": {
     "elapsed": 371,
     "status": "ok",
     "timestamp": 1627806634555,
     "user": {
      "displayName": "Siddharth Swain",
      "photoUrl": "",
      "userId": "12055456511825659152"
     },
     "user_tz": -330
    },
    "id": "mhGhvMcW1fjO",
    "outputId": "3990f5c5-e6b7-4b01-d107-96b36f43b6fd"
   },
   "outputs": [
    {
     "name": "stdout",
     "output_type": "stream",
     "text": [
      "<__main__.car2 object at 0x7fc9b8e64c50>\n"
     ]
    }
   ],
   "source": [
    "print(nano)"
   ]
  },
  {
   "cell_type": "code",
   "execution_count": 52,
   "id": "feeb6a01",
   "metadata": {
    "executionInfo": {
     "elapsed": 623,
     "status": "ok",
     "timestamp": 1627806860906,
     "user": {
      "displayName": "Siddharth Swain",
      "photoUrl": "",
      "userId": "12055456511825659152"
     },
     "user_tz": -330
    },
    "id": "K0nE7RHq1gq9"
   },
   "outputs": [],
   "source": [
    "class car2:\n",
    "  \n",
    "  def __init__(self , mileage, year, make, model):\n",
    "    self.mileage = mileage\n",
    "    self.year = year\n",
    "    self.make = make\n",
    "    self.model = model\n",
    "\n",
    "  def ageofcar(b, currentyear):\n",
    "    return currentyear - b.year\n",
    "\n",
    "  def printmileage(self):\n",
    "    print(\"The mileage of the car is {0}.\".format(self.mileage))\n",
    "\n",
    "  # This is another inbuilt method.  \n",
    "  def __str__(c):\n",
    "    return \"This is my car class.\""
   ]
  },
  {
   "cell_type": "code",
   "execution_count": 53,
   "id": "70b18c5c",
   "metadata": {
    "executionInfo": {
     "elapsed": 1,
     "status": "ok",
     "timestamp": 1627806861478,
     "user": {
      "displayName": "Siddharth Swain",
      "photoUrl": "",
      "userId": "12055456511825659152"
     },
     "user_tz": -330
    },
    "id": "9-xLOeFm10dm"
   },
   "outputs": [],
   "source": [
    "nano = car2(1,2,3,4)"
   ]
  },
  {
   "cell_type": "code",
   "execution_count": 54,
   "id": "d727804a",
   "metadata": {
    "colab": {
     "base_uri": "https://localhost:8080/"
    },
    "executionInfo": {
     "elapsed": 2,
     "status": "ok",
     "timestamp": 1627806861898,
     "user": {
      "displayName": "Siddharth Swain",
      "photoUrl": "",
      "userId": "12055456511825659152"
     },
     "user_tz": -330
    },
    "id": "8IZ1hc0Y12ml",
    "outputId": "341eb280-8258-47c4-f2fe-f1611db59723"
   },
   "outputs": [
    {
     "data": {
      "text/plain": [
       "<__main__.car2 at 0x7fc9b4e048d0>"
      ]
     },
     "execution_count": 54,
     "metadata": {
      "tags": []
     },
     "output_type": "execute_result"
    }
   ],
   "source": [
    "nano"
   ]
  },
  {
   "cell_type": "code",
   "execution_count": 55,
   "id": "9017ca14",
   "metadata": {
    "colab": {
     "base_uri": "https://localhost:8080/"
    },
    "executionInfo": {
     "elapsed": 3,
     "status": "ok",
     "timestamp": 1627806862410,
     "user": {
      "displayName": "Siddharth Swain",
      "photoUrl": "",
      "userId": "12055456511825659152"
     },
     "user_tz": -330
    },
    "id": "rgG6ZHB712-9",
    "outputId": "e0f316a2-5d6b-40b6-986c-d937efd85168"
   },
   "outputs": [
    {
     "name": "stdout",
     "output_type": "stream",
     "text": [
      "This is my car class.\n"
     ]
    }
   ],
   "source": [
    "print(nano)"
   ]
  },
  {
   "cell_type": "markdown",
   "id": "fbd65295",
   "metadata": {
    "id": "Pgnhhn3w3lGl"
   },
   "source": [
    "# Practice"
   ]
  },
  {
   "cell_type": "code",
   "execution_count": 65,
   "id": "1124bb20",
   "metadata": {
    "executionInfo": {
     "elapsed": 706,
     "status": "ok",
     "timestamp": 1627807525052,
     "user": {
      "displayName": "Siddharth Swain",
      "photoUrl": "",
      "userId": "12055456511825659152"
     },
     "user_tz": -330
    },
    "id": "yIfCqz7F18Cl"
   },
   "outputs": [],
   "source": [
    "class student:\n",
    "\n",
    "  def __init__(self, name, rollno, joining_date, current_topic):\n",
    "    self.name = name\n",
    "    self.rollno = rollno\n",
    "    self.joining_date = joining_date\n",
    "    self.current_topic = current_topic\n",
    "\n",
    "  def crt_topic(self):\n",
    "    print(\"This is the current topic: {0}\".format(self.current_topic))\n",
    "\n",
    "  def str_rollno(self):\n",
    "    if type(self.rollno) == str:\n",
    "      print(\"do nothing\")\n",
    "    else:\n",
    "      return str(self.rollno)\n",
    "\n",
    "  def duration(self,current_date):\n",
    "    print(\"Duration is :\",current_date - self.joining_date)\n",
    "\n",
    "  def __str__(self):\n",
    "    return \"hehehehehhehehehehehhee\"\n"
   ]
  },
  {
   "cell_type": "code",
   "execution_count": 66,
   "id": "ab953fa8",
   "metadata": {
    "executionInfo": {
     "elapsed": 8,
     "status": "ok",
     "timestamp": 1627807525697,
     "user": {
      "displayName": "Siddharth Swain",
      "photoUrl": "",
      "userId": "12055456511825659152"
     },
     "user_tz": -330
    },
    "id": "Sl5n0Fvv4Yqu"
   },
   "outputs": [],
   "source": [
    "srini = student(\"Srini\",1001,2021,\"course\")"
   ]
  },
  {
   "cell_type": "code",
   "execution_count": 67,
   "id": "69b10d19",
   "metadata": {
    "colab": {
     "base_uri": "https://localhost:8080/"
    },
    "executionInfo": {
     "elapsed": 10,
     "status": "ok",
     "timestamp": 1627807525700,
     "user": {
      "displayName": "Siddharth Swain",
      "photoUrl": "",
      "userId": "12055456511825659152"
     },
     "user_tz": -330
    },
    "id": "HAKu3hFX4r-0",
    "outputId": "f4fd87f2-5980-45e8-c571-206f4d8b82be"
   },
   "outputs": [
    {
     "name": "stdout",
     "output_type": "stream",
     "text": [
      "Duration is : 1\n"
     ]
    }
   ],
   "source": [
    "srini.duration(2022)"
   ]
  },
  {
   "cell_type": "code",
   "execution_count": 68,
   "id": "3bf22ca2",
   "metadata": {
    "colab": {
     "base_uri": "https://localhost:8080/",
     "height": 35
    },
    "executionInfo": {
     "elapsed": 11,
     "status": "ok",
     "timestamp": 1627807525702,
     "user": {
      "displayName": "Siddharth Swain",
      "photoUrl": "",
      "userId": "12055456511825659152"
     },
     "user_tz": -330
    },
    "id": "R_DEnYSy4ubs",
    "outputId": "18b60e80-7be9-428b-9a55-730d11ae1dd2"
   },
   "outputs": [
    {
     "data": {
      "application/vnd.google.colaboratory.intrinsic+json": {
       "type": "string"
      },
      "text/plain": [
       "'1001'"
      ]
     },
     "execution_count": 68,
     "metadata": {
      "tags": []
     },
     "output_type": "execute_result"
    }
   ],
   "source": [
    "srini.str_rollno()"
   ]
  },
  {
   "cell_type": "code",
   "execution_count": 69,
   "id": "7547a8f4",
   "metadata": {
    "colab": {
     "base_uri": "https://localhost:8080/"
    },
    "executionInfo": {
     "elapsed": 11,
     "status": "ok",
     "timestamp": 1627807525703,
     "user": {
      "displayName": "Siddharth Swain",
      "photoUrl": "",
      "userId": "12055456511825659152"
     },
     "user_tz": -330
    },
    "id": "Upo7JRop4x70",
    "outputId": "a1ea5955-bdea-4c4a-ae93-0a68e6530b85"
   },
   "outputs": [
    {
     "name": "stdout",
     "output_type": "stream",
     "text": [
      "hehehehehhehehehehehhee\n"
     ]
    }
   ],
   "source": [
    "print(srini)"
   ]
  },
  {
   "cell_type": "code",
   "execution_count": 71,
   "id": "5e3227e5",
   "metadata": {
    "colab": {
     "base_uri": "https://localhost:8080/"
    },
    "executionInfo": {
     "elapsed": 620,
     "status": "ok",
     "timestamp": 1627807565417,
     "user": {
      "displayName": "Siddharth Swain",
      "photoUrl": "",
      "userId": "12055456511825659152"
     },
     "user_tz": -330
    },
    "id": "gFKBRLb440y0",
    "outputId": "ba02047b-ea88-43e0-e4a9-08ec9247d38b"
   },
   "outputs": [
    {
     "name": "stdout",
     "output_type": "stream",
     "text": [
      "This is the current topic: course\n"
     ]
    }
   ],
   "source": [
    "srini.crt_topic()"
   ]
  },
  {
   "cell_type": "code",
   "execution_count": 72,
   "id": "d0d4f505",
   "metadata": {
    "executionInfo": {
     "elapsed": 358,
     "status": "ok",
     "timestamp": 1627807593089,
     "user": {
      "displayName": "Siddharth Swain",
      "photoUrl": "",
      "userId": "12055456511825659152"
     },
     "user_tz": -330
    },
    "id": "ZNPDlHsx49ck"
   },
   "outputs": [],
   "source": [
    "marur = student(\"marur\",\"sdsdsd\",45,33)"
   ]
  },
  {
   "cell_type": "code",
   "execution_count": 7,
   "id": "57513463",
   "metadata": {
    "executionInfo": {
     "elapsed": 614,
     "status": "ok",
     "timestamp": 1627826558732,
     "user": {
      "displayName": "Siddharth Swain",
      "photoUrl": "",
      "userId": "12055456511825659152"
     },
     "user_tz": -330
    },
    "id": "kPtdRU9v5K68"
   },
   "outputs": [],
   "source": [
    "class student:\n",
    "\n",
    "  def __init__(self, name, rollno, joining_date, current_topic):\n",
    "    self.name = name\n",
    "    self.rollno = rollno\n",
    "    self.joining_date = joining_date\n",
    "    self.current_topic = current_topic\n",
    "\n",
    "  def name_Parsing(self):\n",
    "\n",
    "    if type(self.name) == list:\n",
    "      for i in self.name:\n",
    "        print(\"Name of student is \",i)\n",
    "    else:\n",
    "      print(\"name is not in form of list.\")\n",
    "          \n",
    "  def crt_topic(self):\n",
    "    print(\"This is the current topic: {0}\".format(self.current_topic))\n",
    "\n",
    "  def str_rollno(self):\n",
    "\n",
    "    try:\n",
    "      if type(self.rollno) == str:\n",
    "        print(\"do nothing\")\n",
    "      else:\n",
    "        return str(self.rollno)\n",
    "    except Exception as e:\n",
    "      print(\"this is my error message \",e)\n",
    "\n",
    "  def duration(self,current_date):\n",
    "    print(\"Duration is :\",current_date - self.joining_date)\n",
    "\n",
    "  def __str__(self):\n",
    "    return \"hehehehehhehehehehehhee\""
   ]
  },
  {
   "cell_type": "code",
   "execution_count": 8,
   "id": "73232583",
   "metadata": {
    "executionInfo": {
     "elapsed": 2,
     "status": "ok",
     "timestamp": 1627826558732,
     "user": {
      "displayName": "Siddharth Swain",
      "photoUrl": "",
      "userId": "12055456511825659152"
     },
     "user_tz": -330
    },
    "id": "cgEqidc-AUq1"
   },
   "outputs": [],
   "source": [
    "pawan =  student([\"naveen\",\"jay\",\"himanshu\",\"prakash\"], [2,3,4,5,6], 100, \"chapter\")"
   ]
  },
  {
   "cell_type": "code",
   "execution_count": 9,
   "id": "4f135898",
   "metadata": {
    "colab": {
     "base_uri": "https://localhost:8080/"
    },
    "executionInfo": {
     "elapsed": 4,
     "status": "ok",
     "timestamp": 1627826559737,
     "user": {
      "displayName": "Siddharth Swain",
      "photoUrl": "",
      "userId": "12055456511825659152"
     },
     "user_tz": -330
    },
    "id": "0JhHdT0AAyrn",
    "outputId": "9fa6e3e4-a183-4e10-a57a-c1b12f2b6231"
   },
   "outputs": [
    {
     "name": "stdout",
     "output_type": "stream",
     "text": [
      "Name of student is  naveen\n",
      "Name of student is  jay\n",
      "Name of student is  himanshu\n",
      "Name of student is  prakash\n"
     ]
    }
   ],
   "source": [
    "pawan.name_Parsing()"
   ]
  },
  {
   "cell_type": "code",
   "execution_count": 10,
   "id": "0c652352",
   "metadata": {
    "executionInfo": {
     "elapsed": 358,
     "status": "ok",
     "timestamp": 1627826585707,
     "user": {
      "displayName": "Siddharth Swain",
      "photoUrl": "",
      "userId": "12055456511825659152"
     },
     "user_tz": -330
    },
    "id": "jWtTHxAWBP1V"
   },
   "outputs": [],
   "source": [
    "pawan = student(\"siddharth\", [2,3,4,5,6], 100, \"chapter\")"
   ]
  },
  {
   "cell_type": "code",
   "execution_count": 11,
   "id": "cc4c916c",
   "metadata": {
    "colab": {
     "base_uri": "https://localhost:8080/"
    },
    "executionInfo": {
     "elapsed": 336,
     "status": "ok",
     "timestamp": 1627826596743,
     "user": {
      "displayName": "Siddharth Swain",
      "photoUrl": "",
      "userId": "12055456511825659152"
     },
     "user_tz": -330
    },
    "id": "5wW3Ul60Bnvt",
    "outputId": "de606ddf-ae3a-4d89-cea2-a1f58196141f"
   },
   "outputs": [
    {
     "name": "stdout",
     "output_type": "stream",
     "text": [
      "name is not in form of list.\n"
     ]
    }
   ],
   "source": [
    "pawan.name_Parsing()"
   ]
  },
  {
   "cell_type": "code",
   "execution_count": 12,
   "id": "d0d7f5bc",
   "metadata": {
    "colab": {
     "base_uri": "https://localhost:8080/"
    },
    "executionInfo": {
     "elapsed": 353,
     "status": "ok",
     "timestamp": 1627826888091,
     "user": {
      "displayName": "Siddharth Swain",
      "photoUrl": "",
      "userId": "12055456511825659152"
     },
     "user_tz": -330
    },
    "id": "QGp-cBPkBqdt",
    "outputId": "ecc6e4f3-6b45-4e29-ed6a-b57114d6abfe"
   },
   "outputs": [
    {
     "name": "stdout",
     "output_type": "stream",
     "text": [
      "hehehehehhehehehehehhee\n"
     ]
    }
   ],
   "source": [
    "print(pawan)"
   ]
  },
  {
   "cell_type": "markdown",
   "id": "900ea593",
   "metadata": {
    "id": "cgWDEjt9C-wx"
   },
   "source": [
    "# Question"
   ]
  },
  {
   "cell_type": "code",
   "execution_count": 1,
   "id": "b03e93be",
   "metadata": {
    "executionInfo": {
     "elapsed": 417,
     "status": "ok",
     "timestamp": 1627832068353,
     "user": {
      "displayName": "Siddharth Swain",
      "photoUrl": "",
      "userId": "12055456511825659152"
     },
     "user_tz": -330
    },
    "id": "R_gTCG0GFzI8"
   },
   "outputs": [],
   "source": [
    "# Successful Run 1\n",
    "\n",
    "import os\n",
    "\n",
    "class data:\n",
    "\n",
    "  def __init__(self, file_name,file_type,date,size):\n",
    "    self.file_name = file_name\n",
    "    self.file_type = file_type\n",
    "    self.date = date\n",
    "    self.size = size\n",
    "\n",
    "  def __str__(self):\n",
    "    return \"Sudanshu's Question Code\"\n",
    "\n",
    "  def file_open(self):\n",
    "    if self.file_name + \".\" + self.file_type in os.listdir():\n",
    "      print(\"File already exists!\")\n",
    "    else:\n",
    "      f = open(str(self.file_name + \".\" + self.file_type),'w')\n",
    "      f.write(\"Siddharth Swain has enrolled for the MBA ISDE Program at NIIT University.\")\n",
    "      f.close()\n",
    "       \n",
    "  def file_read(self):\n",
    "    f = open(str(self.file_name + \".\" + self.file_type),'r')\n",
    "    print(f.read())\n",
    "    f.close()\n",
    "  \n",
    "  def file_append(self):\n",
    "    f = open(str(self.file_name + \".\" + self.file_type),'a')\n",
    "    f.write(\" Appending this content in our file.\")\n",
    "    f.close()\n",
    "    f = open(str(self.file_name + \".\" + self.file_type),'r')\n",
    "    print(f.read())\n",
    "    f.close()"
   ]
  },
  {
   "cell_type": "code",
   "execution_count": 1,
   "id": "e21981e7",
   "metadata": {
    "colab": {
     "base_uri": "https://localhost:8080/"
    },
    "executionInfo": {
     "elapsed": 627,
     "status": "ok",
     "timestamp": 1627834662562,
     "user": {
      "displayName": "Siddharth Swain",
      "photoUrl": "",
      "userId": "12055456511825659152"
     },
     "user_tz": -330
    },
    "id": "ed7k4dIuXWyR",
    "outputId": "b0e6afb7-3015-4988-be49-2d6572fcb996"
   },
   "outputs": [
    {
     "name": "stderr",
     "output_type": "stream",
     "text": [
      "2021-08-01 16:17:41,481 - root - INFO - Start of Program.\n",
      "2021-08-01 16:17:41,485 - root - INFO - End of Program.\n"
     ]
    }
   ],
   "source": [
    "# Successful Run 2 with Exception Handling and Logging\n",
    "\n",
    "import os\n",
    "import logging\n",
    "\n",
    "# Create log file\n",
    "logging.basicConfig(filename = \"testrun.log\" , level = logging.INFO , format = '%(asctime)s - %(name)s - %(levelname)s -  %(message)s')\n",
    "     \n",
    "# Create Handlers\n",
    "console_log = logging.StreamHandler()\n",
    "console_log.setLevel(logging.DEBUG)\n",
    "format = logging.Formatter('%(asctime)s - %(name)s - %(levelname)s - %(message)s')\n",
    "console_log.setFormatter(format)\n",
    "\n",
    "# Create a Custom Handler\n",
    "logging.getLogger('').addHandler(console_log)\n",
    "logging.info(\"Start of Program.\")\n",
    "logger = logging.getLogger('Siddharth Swain')\n",
    "\n",
    "class data:\n",
    "\n",
    "  def __init__(self, file_name,file_type,date,size):\n",
    "    self.file_name = file_name\n",
    "    self.file_type = file_type\n",
    "    self.date = date\n",
    "    self.size = size\n",
    "\n",
    "  def __str__(self):\n",
    "    return \"Sudanshu's Question Code\"\n",
    "\n",
    "  def awesomelogger(self,log):\n",
    "    logger.info(log)\n",
    "  \n",
    "  def file_open(self):\n",
    "    try:\n",
    "      \n",
    "      self.file_name + \".\" + self.file_type\n",
    "      if self.file_name + \".\" + self.file_type in os.listdir():\n",
    "        self.awesomelogger(\"File already exists!\")\n",
    "      else:\n",
    "        f = open(str(self.file_name + \".\" + self.file_type),'w')\n",
    "        f.write(\"Siddharth Swain has enrolled for the MBA ISDE Program at NIIT University.\")\n",
    "        self.awesomelogger(e1)\n",
    "        f.close()\n",
    "    \n",
    "    except:\n",
    "      \n",
    "      self.awesomelogger(\"Invalid Filename or Type!\")\n",
    "              \n",
    "  def file_read(self):\n",
    "    try:\n",
    "      f = open(str(self.file_name + \".\" + self.file_type),'r')\n",
    "      print(f.read())\n",
    "      f.close()\n",
    "      self.awesomelogger(\"Read Successful!\")    \n",
    "    except:\n",
    "      self.awesomelogger(\"Read Unsuccessful! No file found!\")\n",
    "  \n",
    "  def file_append(self):\n",
    "    try:\n",
    "      f = open(str(self.file_name + \".\" + self.file_type),'a')\n",
    "      f.write(\" Appending this content in our file.\")\n",
    "      f.close()\n",
    "      f = open(str(self.file_name + \".\" + self.file_type),'r')\n",
    "      print(f.read())\n",
    "      f.close()\n",
    "    except:\n",
    "      self.awesomelogger(\"Append Unsuccessful! No file found!\")\n",
    "  \n",
    "logging.info(\"End of Program.\")"
   ]
  },
  {
   "cell_type": "code",
   "execution_count": 2,
   "id": "019b651d",
   "metadata": {
    "executionInfo": {
     "elapsed": 3,
     "status": "ok",
     "timestamp": 1627834662563,
     "user": {
      "displayName": "Siddharth Swain",
      "photoUrl": "",
      "userId": "12055456511825659152"
     },
     "user_tz": -330
    },
    "id": "fkTLI-rIILyM"
   },
   "outputs": [],
   "source": [
    "student1 = data(1001,1001,\"19/06/2021\",\"100 MB\")"
   ]
  },
  {
   "cell_type": "code",
   "execution_count": 3,
   "id": "4412dd19",
   "metadata": {
    "colab": {
     "base_uri": "https://localhost:8080/"
    },
    "executionInfo": {
     "elapsed": 3,
     "status": "ok",
     "timestamp": 1627834664642,
     "user": {
      "displayName": "Siddharth Swain",
      "photoUrl": "",
      "userId": "12055456511825659152"
     },
     "user_tz": -330
    },
    "id": "T68Cc1zlItWq",
    "outputId": "6efd9bb0-f4d1-4c0b-8744-445b0b11f96b"
   },
   "outputs": [
    {
     "name": "stdout",
     "output_type": "stream",
     "text": [
      "Sudanshu's Question Code\n"
     ]
    }
   ],
   "source": [
    "print(student1)"
   ]
  },
  {
   "cell_type": "code",
   "execution_count": 4,
   "id": "6333eacc",
   "metadata": {
    "colab": {
     "base_uri": "https://localhost:8080/"
    },
    "executionInfo": {
     "elapsed": 4,
     "status": "ok",
     "timestamp": 1627834665031,
     "user": {
      "displayName": "Siddharth Swain",
      "photoUrl": "",
      "userId": "12055456511825659152"
     },
     "user_tz": -330
    },
    "id": "D1X3nsrbIu16",
    "outputId": "fc0263cd-6707-4ef0-de29-52e5eb3c0d38"
   },
   "outputs": [
    {
     "name": "stderr",
     "output_type": "stream",
     "text": [
      "2021-08-01 16:17:44,313 - Siddharth Swain - INFO - Invalid Filename or Type!\n"
     ]
    }
   ],
   "source": [
    "student1.file_open()"
   ]
  },
  {
   "cell_type": "code",
   "execution_count": 5,
   "id": "639bf924",
   "metadata": {
    "colab": {
     "base_uri": "https://localhost:8080/"
    },
    "executionInfo": {
     "elapsed": 6,
     "status": "ok",
     "timestamp": 1627834665498,
     "user": {
      "displayName": "Siddharth Swain",
      "photoUrl": "",
      "userId": "12055456511825659152"
     },
     "user_tz": -330
    },
    "id": "YfjnjhQHIzGq",
    "outputId": "8160ce0c-566a-46c8-f3ea-52c8c53e1b61"
   },
   "outputs": [
    {
     "name": "stderr",
     "output_type": "stream",
     "text": [
      "2021-08-01 16:17:44,869 - Siddharth Swain - INFO - Read Unsuccessful! No file found!\n"
     ]
    }
   ],
   "source": [
    "student1.file_read()"
   ]
  },
  {
   "cell_type": "code",
   "execution_count": 6,
   "id": "5203e73e",
   "metadata": {
    "colab": {
     "base_uri": "https://localhost:8080/"
    },
    "executionInfo": {
     "elapsed": 4,
     "status": "ok",
     "timestamp": 1627834665498,
     "user": {
      "displayName": "Siddharth Swain",
      "photoUrl": "",
      "userId": "12055456511825659152"
     },
     "user_tz": -330
    },
    "id": "4XJ0JCY2JMfq",
    "outputId": "c6672a1b-4211-4a7e-8d23-5e800a5f4220"
   },
   "outputs": [
    {
     "name": "stderr",
     "output_type": "stream",
     "text": [
      "2021-08-01 16:17:44,888 - Siddharth Swain - INFO - Append Unsuccessful! No file found!\n"
     ]
    }
   ],
   "source": [
    "student1.file_append()"
   ]
  },
  {
   "cell_type": "code",
   "execution_count": 7,
   "id": "8d8674d8",
   "metadata": {
    "colab": {
     "base_uri": "https://localhost:8080/"
    },
    "executionInfo": {
     "elapsed": 2,
     "status": "ok",
     "timestamp": 1627834666030,
     "user": {
      "displayName": "Siddharth Swain",
      "photoUrl": "",
      "userId": "12055456511825659152"
     },
     "user_tz": -330
    },
    "id": "bFZ5OTlpJdCB",
    "outputId": "87740abd-2e5e-471d-b969-88b3ed737509"
   },
   "outputs": [
    {
     "data": {
      "text/plain": [
       "['.config', 'testrun.log', 'sample_data']"
      ]
     },
     "execution_count": 7,
     "metadata": {
      "tags": []
     },
     "output_type": "execute_result"
    }
   ],
   "source": [
    "os.listdir()"
   ]
  },
  {
   "cell_type": "code",
   "execution_count": 8,
   "id": "e948887a",
   "metadata": {
    "executionInfo": {
     "elapsed": 3,
     "status": "ok",
     "timestamp": 1627834667834,
     "user": {
      "displayName": "Siddharth Swain",
      "photoUrl": "",
      "userId": "12055456511825659152"
     },
     "user_tz": -330
    },
    "id": "UX22ITcWJ8Gq"
   },
   "outputs": [],
   "source": [
    "student2 = data(\"siddharth swain\",\"txt\",\"19/06/2021\",\"100 MB\")"
   ]
  },
  {
   "cell_type": "code",
   "execution_count": 9,
   "id": "b5a3b26e",
   "metadata": {
    "colab": {
     "base_uri": "https://localhost:8080/"
    },
    "executionInfo": {
     "elapsed": 4,
     "status": "ok",
     "timestamp": 1627834669182,
     "user": {
      "displayName": "Siddharth Swain",
      "photoUrl": "",
      "userId": "12055456511825659152"
     },
     "user_tz": -330
    },
    "id": "A646_kj6KRoR",
    "outputId": "83235d95-a30f-4622-ecc7-99004d5a8aa7"
   },
   "outputs": [
    {
     "name": "stderr",
     "output_type": "stream",
     "text": [
      "2021-08-01 16:17:48,395 - Siddharth Swain - INFO - Invalid Filename or Type!\n"
     ]
    }
   ],
   "source": [
    "student2.file_open()"
   ]
  },
  {
   "cell_type": "code",
   "execution_count": 10,
   "id": "41774eeb",
   "metadata": {
    "colab": {
     "base_uri": "https://localhost:8080/"
    },
    "executionInfo": {
     "elapsed": 3,
     "status": "ok",
     "timestamp": 1627834671604,
     "user": {
      "displayName": "Siddharth Swain",
      "photoUrl": "",
      "userId": "12055456511825659152"
     },
     "user_tz": -330
    },
    "id": "KdrS6Hnzcic7",
    "outputId": "fb039009-b755-4677-eda0-4148b2c685f1"
   },
   "outputs": [
    {
     "data": {
      "text/plain": [
       "['.config', 'siddharth swain.txt', 'testrun.log', 'sample_data']"
      ]
     },
     "execution_count": 10,
     "metadata": {
      "tags": []
     },
     "output_type": "execute_result"
    }
   ],
   "source": [
    "os.listdir()"
   ]
  },
  {
   "cell_type": "code",
   "execution_count": 11,
   "id": "0c219cb5",
   "metadata": {
    "colab": {
     "base_uri": "https://localhost:8080/"
    },
    "executionInfo": {
     "elapsed": 3,
     "status": "ok",
     "timestamp": 1627834674722,
     "user": {
      "displayName": "Siddharth Swain",
      "photoUrl": "",
      "userId": "12055456511825659152"
     },
     "user_tz": -330
    },
    "id": "57Bx0r5sVgNF",
    "outputId": "fba54818-67d6-4911-b5a0-6662b2a3c3e4"
   },
   "outputs": [
    {
     "name": "stderr",
     "output_type": "stream",
     "text": [
      "2021-08-01 16:17:54,098 - Siddharth Swain - INFO - Read Successful!\n"
     ]
    },
    {
     "name": "stdout",
     "output_type": "stream",
     "text": [
      "Siddharth Swain has enrolled for the MBA ISDE Program at NIIT University.\n"
     ]
    }
   ],
   "source": [
    "student2.file_read()"
   ]
  },
  {
   "cell_type": "code",
   "execution_count": 12,
   "id": "abe8d3d2",
   "metadata": {
    "colab": {
     "base_uri": "https://localhost:8080/"
    },
    "executionInfo": {
     "elapsed": 380,
     "status": "ok",
     "timestamp": 1627834695935,
     "user": {
      "displayName": "Siddharth Swain",
      "photoUrl": "",
      "userId": "12055456511825659152"
     },
     "user_tz": -330
    },
    "id": "xB-jZpoDcfvq",
    "outputId": "845f71a6-2e3f-43fc-a733-e7465bb312a1"
   },
   "outputs": [
    {
     "name": "stdout",
     "output_type": "stream",
     "text": [
      "Siddharth Swain has enrolled for the MBA ISDE Program at NIIT University. Appending this content in our file.\n"
     ]
    }
   ],
   "source": [
    "student2.file_append()"
   ]
  },
  {
   "cell_type": "code",
   "execution_count": 13,
   "id": "3389622c",
   "metadata": {
    "executionInfo": {
     "elapsed": 377,
     "status": "ok",
     "timestamp": 1627834716899,
     "user": {
      "displayName": "Siddharth Swain",
      "photoUrl": "",
      "userId": "12055456511825659152"
     },
     "user_tz": -330
    },
    "id": "TxtLo34FgjoI"
   },
   "outputs": [],
   "source": [
    "student3 = data(\"siddharth swain\",\"txt\",\"19/06/2021\",\"100 MB\")"
   ]
  },
  {
   "cell_type": "code",
   "execution_count": 14,
   "id": "fe14bd4d",
   "metadata": {
    "colab": {
     "base_uri": "https://localhost:8080/"
    },
    "executionInfo": {
     "elapsed": 379,
     "status": "ok",
     "timestamp": 1627834738039,
     "user": {
      "displayName": "Siddharth Swain",
      "photoUrl": "",
      "userId": "12055456511825659152"
     },
     "user_tz": -330
    },
    "id": "P027hxsxgo4o",
    "outputId": "869c2afe-74af-4399-fae9-87c770304df9"
   },
   "outputs": [
    {
     "name": "stderr",
     "output_type": "stream",
     "text": [
      "2021-08-01 16:18:57,174 - Siddharth Swain - INFO - File already exists!\n"
     ]
    }
   ],
   "source": [
    "student3.file_open()"
   ]
  },
  {
   "cell_type": "code",
   "execution_count": 15,
   "id": "4379c2c7",
   "metadata": {
    "colab": {
     "base_uri": "https://localhost:8080/"
    },
    "executionInfo": {
     "elapsed": 607,
     "status": "ok",
     "timestamp": 1627834750695,
     "user": {
      "displayName": "Siddharth Swain",
      "photoUrl": "",
      "userId": "12055456511825659152"
     },
     "user_tz": -330
    },
    "id": "w1aEcxyJguBX",
    "outputId": "4e513e3d-b69e-4dc2-e93c-69f6b0f32282"
   },
   "outputs": [
    {
     "name": "stderr",
     "output_type": "stream",
     "text": [
      "2021-08-01 16:19:09,607 - Siddharth Swain - INFO - Read Successful!\n"
     ]
    },
    {
     "name": "stdout",
     "output_type": "stream",
     "text": [
      "Siddharth Swain has enrolled for the MBA ISDE Program at NIIT University. Appending this content in our file.\n"
     ]
    }
   ],
   "source": [
    "student3.file_read()"
   ]
  },
  {
   "cell_type": "code",
   "execution_count": 17,
   "id": "b2392f01",
   "metadata": {
    "colab": {
     "base_uri": "https://localhost:8080/"
    },
    "executionInfo": {
     "elapsed": 369,
     "status": "ok",
     "timestamp": 1627834767932,
     "user": {
      "displayName": "Siddharth Swain",
      "photoUrl": "",
      "userId": "12055456511825659152"
     },
     "user_tz": -330
    },
    "id": "-aihzRjwgxD3",
    "outputId": "6bf44e69-c95c-4b4a-99f2-a49531b74e30"
   },
   "outputs": [
    {
     "name": "stdout",
     "output_type": "stream",
     "text": [
      "Siddharth Swain has enrolled for the MBA ISDE Program at NIIT University. Appending this content in our file. Appending this content in our file.\n"
     ]
    }
   ],
   "source": [
    "student3.file_append()"
   ]
  },
  {
   "cell_type": "markdown",
   "id": "8cd59bb6",
   "metadata": {},
   "source": [
    "# 3. Advanced Concepts\n",
    "\n",
    "## 3.1 Access Modifiers\n",
    "\n",
    "Various object-oriented languages like C++, Java, Python control access modifications which are used to restrict access to the variables and methods of the class. Most programming languages have three forms of access modifiers, which are Public, Protected and Private in a class.\n",
    "\n",
    "Python uses ‘_’ symbol to determine the access control for a specific data member or a member function of a class. Access specifiers in Python have an important role to play in securing data from unauthorized access and in preventing it from being exploited.\n",
    "\n",
    "A class in Python has three types of access modifiers:\n",
    "\n",
    "- Public Access Modifier\n",
    "- Protected Access Modifier\n",
    "- Private Access Modifier\n",
    "\n",
    "### 3.1.1 Public Access Modifier\n",
    "\n",
    "The members of a class that are declared public are easily accessible from any part of the program. All data members and member functions of a class are public by default. "
   ]
  },
  {
   "cell_type": "code",
   "execution_count": 1,
   "id": "3edd8366",
   "metadata": {},
   "outputs": [
    {
     "name": "stdout",
     "output_type": "stream",
     "text": [
      "Name:  R2J\n",
      "Age:  20\n"
     ]
    }
   ],
   "source": [
    "# Program to illustrate public access modifier in a class.\n",
    "\n",
    "class Geek:\n",
    "\t\n",
    "\t# constructor\n",
    "\tdef __init__(self, name, age):\n",
    "\t\t\n",
    "\t\t# public data members\n",
    "\t\tself.geekName = name\n",
    "\t\tself.geekAge = age\n",
    "\n",
    "\t# public member function\t\n",
    "\tdef displayAge(self):\n",
    "\t\t\n",
    "\t\t# accessing public data member\n",
    "\t\tprint(\"Age: \", self.geekAge)\n",
    "\n",
    "# creating object of the class\n",
    "obj = Geek(\"R2J\", 20)\n",
    "\n",
    "# accessing public data member\n",
    "print(\"Name: \", obj.geekName)\n",
    "\n",
    "# calling public member function of the class\n",
    "obj.displayAge()\n"
   ]
  },
  {
   "cell_type": "markdown",
   "id": "f9790c87",
   "metadata": {},
   "source": [
    "In the above program, geekName and geekAge are public data members and displayAge() method is a public member function of the class Geek. These data members of the class Geek can be accessed from anywhere in the program.\n",
    "\n",
    "### 3.1.2 Protected Access Modifier\n",
    "\n",
    "The members of a class that are declared protected are accessible within the class and the classes derived from that class. Data members of a class are declared protected by adding a single underscore ‘_’ symbol before the data member of that class. "
   ]
  },
  {
   "cell_type": "code",
   "execution_count": 2,
   "id": "e6ec2ff6",
   "metadata": {},
   "outputs": [
    {
     "name": "stdout",
     "output_type": "stream",
     "text": [
      "Name:  R2J\n",
      "Roll:  1706256\n",
      "Branch:  Information Technology\n"
     ]
    }
   ],
   "source": [
    "# Program to illustrate protected access modifier in a class.\n",
    "\n",
    "# super class\n",
    "class Student:\n",
    "\t\n",
    "\t# protected data members\n",
    "\t_name = None\n",
    "\t_roll = None\n",
    "\t_branch = None\n",
    "\t\n",
    "\t# constructor\n",
    "\tdef __init__(self, name, roll, branch):\n",
    "\t\tself._name = name\n",
    "\t\tself._roll = roll\n",
    "\t\tself._branch = branch\n",
    "\t\n",
    "\t# protected member function\n",
    "\tdef _displayRollAndBranch(self):\n",
    "\n",
    "\t\t# accessing protected data members\n",
    "\t\tprint(\"Roll: \", self._roll)\n",
    "\t\tprint(\"Branch: \", self._branch)\n",
    "\n",
    "\n",
    "# derived class\n",
    "class Geek(Student):\n",
    "\n",
    "\t# constructor\n",
    "\tdef __init__(self, name, roll, branch):\n",
    "\t\t\t\tStudent.__init__(self, name, roll, branch)\n",
    "\t\t\n",
    "\t# public member function\n",
    "\tdef displayDetails(self):\n",
    "\t\t\t\t\n",
    "\t\t\t\t# accessing protected data members of super class\n",
    "\t\t\t\tprint(\"Name: \", self._name)\n",
    "\t\t\t\t\n",
    "\t\t\t\t# accessing protected member functions of super class\n",
    "\t\t\t\tself._displayRollAndBranch()\n",
    "\n",
    "# creating objects of the derived class\t\n",
    "obj = Geek(\"R2J\", 1706256, \"Information Technology\")\n",
    "\n",
    "# calling public member functions of the class\n",
    "obj.displayDetails()"
   ]
  },
  {
   "cell_type": "markdown",
   "id": "e307558d",
   "metadata": {},
   "source": [
    "In the above program, _name, _roll, and _branch are protected data members and _displayRollAndBranch() method is a protected method of the super class Student. \n",
    "\n",
    "The displayDetails() method is a public member function of the class Geek which is derived from the Student class, the displayDetails() method in Geek class accesses the protected data members of the Student class."
   ]
  },
  {
   "cell_type": "code",
   "execution_count": 1,
   "id": "cde4803a",
   "metadata": {},
   "outputs": [
    {
     "name": "stdout",
     "output_type": "stream",
     "text": [
      "Name:  R2J\n",
      "Roll:  1706256\n"
     ]
    }
   ],
   "source": [
    "# program to illustrate protected\n",
    "# data members in a class\n",
    "\n",
    "\n",
    "# Defining a class\n",
    "class Geek:\n",
    "\t\n",
    "\t# protected data members\n",
    "\t_name = \"R2J\"\n",
    "\t_roll = 1706256\n",
    "\t\n",
    "\t# public member function\n",
    "\tdef displayNameAndRoll(self):\n",
    "\n",
    "\t\t# accessing protected data members\n",
    "\t\tprint(\"Name: \", self._name)\n",
    "\t\tprint(\"Roll: \", self._roll)\n",
    "\n",
    "\n",
    "# creating objects of the class\t\t\n",
    "obj = Geek()\n",
    "\n",
    "# calling public member\n",
    "# functions of the class\n",
    "obj.displayNameAndRoll()"
   ]
  },
  {
   "cell_type": "code",
   "execution_count": 2,
   "id": "f70ed869",
   "metadata": {},
   "outputs": [
    {
     "name": "stdout",
     "output_type": "stream",
     "text": [
      "Length:  80\n",
      "Breadth:  50\n",
      "Area:  4000\n"
     ]
    }
   ],
   "source": [
    "# program to illustrate protected\n",
    "# data members in a class\n",
    "\n",
    "\n",
    "# super class\n",
    "class Shape:\n",
    "\t\n",
    "\t# constructor\n",
    "\tdef __init__(self, length, breadth):\n",
    "\t\tself._length = length\n",
    "\t\tself._breadth = breadth\n",
    "\t\t\n",
    "\t# public member function\n",
    "\tdef displaySides(self):\n",
    "\n",
    "\t\t# accessing protected data members\n",
    "\t\tprint(\"Length: \", self._length)\n",
    "\t\tprint(\"Breadth: \", self._breadth)\n",
    "\n",
    "\n",
    "# derived class\n",
    "class Rectangle(Shape):\n",
    "\n",
    "\t# constructor\n",
    "\tdef __init__(self, length, breadth):\n",
    "\n",
    "\t\t# Calling the constructor of\n",
    "\t\t# Super class\n",
    "\t\tShape.__init__(self, length, breadth)\n",
    "\t\t\n",
    "\t# public member function\n",
    "\tdef calculateArea(self):\n",
    "\t\t\t\t\t\n",
    "\t\t# accessing protected data members of super class\n",
    "\t\tprint(\"Area: \", self._length * self._breadth)\n",
    "\t\t\t\t\t\n",
    "\n",
    "# creating objects of the\n",
    "# derived class\t\t\n",
    "obj = Rectangle(80, 50)\n",
    "\n",
    "# calling derived member\n",
    "# functions of the class\n",
    "obj.displaySides()\n",
    "\n",
    "# calling public member\n",
    "# functions of the class\n",
    "obj.calculateArea()"
   ]
  },
  {
   "cell_type": "markdown",
   "id": "7bc6acef",
   "metadata": {},
   "source": [
    "In the above example, the protected variables _length and _breadth of the super class Shape are accessed within the class by a member function displaySides() and can be accessed from class Rectangle which is derived from the Shape class. The member function calculateArea() of class Rectangle accesses the protected data members _length and _breadth of the super class Shape to calculate the area of the rectangle."
   ]
  },
  {
   "cell_type": "markdown",
   "id": "72a69b56",
   "metadata": {},
   "source": [
    "### 3.1.3 Private Access Modifier\n",
    "\n",
    "The members of a class that are declared private are accessible within the class only, private access modifier is the most secure access modifier. Data members of a class are declared private by adding a double underscore ‘__’ symbol before the data member of that class. "
   ]
  },
  {
   "cell_type": "code",
   "execution_count": 34,
   "id": "03ddf538",
   "metadata": {},
   "outputs": [
    {
     "name": "stdout",
     "output_type": "stream",
     "text": [
      "Name:  R2J\n",
      "Roll:  1706256\n",
      "Branch:  Information Technology\n"
     ]
    }
   ],
   "source": [
    "# Program to illustrate private access modifier in a class.\n",
    "\n",
    "class Geek:\n",
    "\t\n",
    "\t# Private members.\n",
    "\t__name = None\n",
    "\t__roll = None\n",
    "\t__branch = None\n",
    "\n",
    "\t# Constructor.\n",
    "\tdef __init__(self, name, roll, branch):\n",
    "\t\tself.__name = name\n",
    "\t\tself.__roll = roll\n",
    "\t\tself.__branch = branch\n",
    "\n",
    "\t# Private member function.\n",
    "\tdef __displayDetails(self):\n",
    "\t\t\n",
    "\t\t# Accessing private data members.\n",
    "\t\tprint(\"Name: \", self.__name)\n",
    "\t\tprint(\"Roll: \", self.__roll)\n",
    "\t\tprint(\"Branch: \", self.__branch)\n",
    "\t\n",
    "\t# Public member function.\n",
    "\tdef accessPrivateFunction(self):\n",
    "\t\t\t\n",
    "\t\t# Accessing private member function.\n",
    "\t\tself.__displayDetails()\n",
    "\n",
    "# Creating object.\n",
    "obj = Geek(\"R2J\", 1706256, \"Information Technology\")\n",
    "\n",
    "# Calling public member function of the class.\n",
    "obj.accessPrivateFunction()"
   ]
  },
  {
   "cell_type": "markdown",
   "id": "d717ea67",
   "metadata": {},
   "source": [
    "In the above program, __name, __roll and __branch are private members, __displayDetails() method is a private member function (these can only be accessed within the class) and accessPrivateFunction() method is a public member function of the class Geek which can be accessed from anywhere within the program. The accessPrivateFunction() method accesses the private members of the class Geek.\n",
    " \n",
    "\n",
    "Below is a program to illustrate the use of all the above three access modifiers (public, protected, and private) of a class in Python: "
   ]
  },
  {
   "cell_type": "code",
   "execution_count": 4,
   "id": "c7d852ad",
   "metadata": {},
   "outputs": [
    {
     "name": "stdout",
     "output_type": "stream",
     "text": [
      "Public Data Member:  Geeks\n",
      "Protected Data Member:  4\n",
      "Private Data Member:  Geeks !\n",
      "Object is accessing protected member: 4\n"
     ]
    }
   ],
   "source": [
    "# Program to illustrate access modifiers of a class.\n",
    "\n",
    "# Super class.\n",
    "class Super:\n",
    "\t\n",
    "\t# Public data member.\n",
    "\tvar1 = None\n",
    "\n",
    "\t# Protected data member.\n",
    "\t_var2 = None\n",
    "\t\n",
    "\t# Private data member.\n",
    "\t__var3 = None\n",
    "\t\n",
    "\t# Constructor.\n",
    "\tdef __init__(self, var1, var2, var3):\n",
    "\t\tself.var1 = var1\n",
    "\t\tself._var2 = var2\n",
    "\t\tself.__var3 = var3\n",
    "\t\n",
    "\t# Public member function.\n",
    "\tdef displayPublicMembers(self):\n",
    "\n",
    "\t\t# Accessing public data members.\n",
    "\t\tprint(\"Public Data Member: \", self.var1)\n",
    "\t\t\n",
    "\t# Protected member function.\n",
    "\tdef _displayProtectedMembers(self):\n",
    "\n",
    "\t\t# Accessing protected data members.\n",
    "\t\tprint(\"Protected Data Member: \", self._var2)\n",
    "\t\n",
    "\t# Private member function.\n",
    "\tdef __displayPrivateMembers(self):\n",
    "\n",
    "\t\t# Accessing private data members.\n",
    "\t\tprint(\"Private Data Member: \", self.__var3)\n",
    "\n",
    "\t# Public member function.\n",
    "\tdef accessPrivateMembers(self):\t\n",
    "\t\t\n",
    "\t\t# Accessing private member function.\n",
    "\t\tself.__displayPrivateMembers()\n",
    "\n",
    "# Derived class.\n",
    "class Sub(Super):\n",
    "\n",
    "\t# Constructor.\n",
    "\tdef __init__(self, var1, var2, var3):\n",
    "\t\t\t\tSuper.__init__(self, var1, var2, var3)\n",
    "\t\t\n",
    "\t# Public member function.\n",
    "\tdef accessProtectedMembers(self):\n",
    "\t\t\t\t\n",
    "\t\t\t\t# Accessing protected member functions of super class.\n",
    "\t\t\t\tself._displayProtectedMembers()\n",
    "\n",
    "# Creating objects of the derived class\t.\n",
    "obj = Sub(\"Geeks\", 4, \"Geeks !\")\n",
    "\n",
    "# Calling public member functions of the class.\n",
    "obj.displayPublicMembers()\n",
    "obj.accessProtectedMembers()\n",
    "obj.accessPrivateMembers()\n",
    "\n",
    "# Object can access protected member.\n",
    "print(\"Object is accessing protected member:\", obj._var2)\n",
    "\n",
    "# Object can not access private member, so it will generate Attribute error.\n",
    "#print(obj.__var3)"
   ]
  },
  {
   "cell_type": "code",
   "execution_count": 5,
   "id": "d599d8e9",
   "metadata": {},
   "outputs": [
    {
     "data": {
      "text/plain": [
       "4"
      ]
     },
     "execution_count": 5,
     "metadata": {},
     "output_type": "execute_result"
    }
   ],
   "source": [
    "obj._var2"
   ]
  },
  {
   "cell_type": "code",
   "execution_count": 6,
   "id": "d1a88115",
   "metadata": {},
   "outputs": [
    {
     "ename": "AttributeError",
     "evalue": "'Sub' object has no attribute '__var3'",
     "output_type": "error",
     "traceback": [
      "\u001b[1;31m---------------------------------------------------------------------------\u001b[0m",
      "\u001b[1;31mAttributeError\u001b[0m                            Traceback (most recent call last)",
      "\u001b[1;32m<ipython-input-6-6b29438f2313>\u001b[0m in \u001b[0;36m<module>\u001b[1;34m\u001b[0m\n\u001b[1;32m----> 1\u001b[1;33m \u001b[0mobj\u001b[0m\u001b[1;33m.\u001b[0m\u001b[0m__var3\u001b[0m\u001b[1;33m\u001b[0m\u001b[1;33m\u001b[0m\u001b[0m\n\u001b[0m",
      "\u001b[1;31mAttributeError\u001b[0m: 'Sub' object has no attribute '__var3'"
     ]
    }
   ],
   "source": [
    "obj.__var3"
   ]
  },
  {
   "cell_type": "markdown",
   "id": "7e182c8a",
   "metadata": {},
   "source": [
    "In the above program, the accessProtectedMembers() method is a public member function of the class Sub accesses the _displayProtectedMembers() method which is a protected member function of the class Super and the accessPrivateMembers() method is a public member function of the class Super which accesses the __displayPrivateMembers() method which is a private member function of the class Super."
   ]
  },
  {
   "cell_type": "markdown",
   "id": "f1aa5ef9",
   "metadata": {
    "id": "InRIuiX6TPvG"
   },
   "source": [
    "# Practice\n",
    "\n",
    "- No underscore means public.\n",
    "- Single underscore _ means protected.\n",
    "- Double underscore __ means private."
   ]
  },
  {
   "cell_type": "code",
   "execution_count": 7,
   "id": "d68d1a0d",
   "metadata": {},
   "outputs": [],
   "source": [
    "class test:\n",
    "  def __init__(self, a, b, c):\n",
    "    self.__a = a  #Private\n",
    "    self._b = b   #Protected\n",
    "    self.c = c    #Public\n",
    "  def test_custom(self,v):\n",
    "    return v - self.__a\n",
    "  def __str__(self):\n",
    "    return \"This is my test code for abstraction\"\n",
    "\n",
    "o = test(4,5,6)"
   ]
  },
  {
   "cell_type": "code",
   "execution_count": 8,
   "id": "3890699a",
   "metadata": {},
   "outputs": [
    {
     "data": {
      "text/plain": [
       "6"
      ]
     },
     "execution_count": 8,
     "metadata": {},
     "output_type": "execute_result"
    }
   ],
   "source": [
    "o.c"
   ]
  },
  {
   "cell_type": "code",
   "execution_count": 9,
   "id": "17b7610e",
   "metadata": {},
   "outputs": [
    {
     "data": {
      "text/plain": [
       "5"
      ]
     },
     "execution_count": 9,
     "metadata": {},
     "output_type": "execute_result"
    }
   ],
   "source": [
    "o._b"
   ]
  },
  {
   "cell_type": "code",
   "execution_count": 10,
   "id": "1aa29d7b",
   "metadata": {},
   "outputs": [
    {
     "ename": "AttributeError",
     "evalue": "'test' object has no attribute '__a'",
     "output_type": "error",
     "traceback": [
      "\u001b[1;31m---------------------------------------------------------------------------\u001b[0m",
      "\u001b[1;31mAttributeError\u001b[0m                            Traceback (most recent call last)",
      "\u001b[1;32m<ipython-input-10-1e42657c998a>\u001b[0m in \u001b[0;36m<module>\u001b[1;34m\u001b[0m\n\u001b[1;32m----> 1\u001b[1;33m \u001b[0mo\u001b[0m\u001b[1;33m.\u001b[0m\u001b[0m__a\u001b[0m\u001b[1;33m\u001b[0m\u001b[1;33m\u001b[0m\u001b[0m\n\u001b[0m",
      "\u001b[1;31mAttributeError\u001b[0m: 'test' object has no attribute '__a'"
     ]
    }
   ],
   "source": [
    "o.__a"
   ]
  },
  {
   "cell_type": "code",
   "execution_count": 4,
   "id": "56f00c57",
   "metadata": {},
   "outputs": [
    {
     "data": {
      "text/plain": [
       "4"
      ]
     },
     "execution_count": 4,
     "metadata": {},
     "output_type": "execute_result"
    }
   ],
   "source": [
    "o._test__a"
   ]
  },
  {
   "cell_type": "code",
   "execution_count": null,
   "id": "f403ed01",
   "metadata": {
    "id": "06UT6XyQREch"
   },
   "outputs": [],
   "source": [
    "class test:\n",
    "  def __init__(self, a, b, c, d):\n",
    "    self.a = a\n",
    "    self.b = b\n",
    "    self.c = c\n",
    "    self.d = d\n",
    "  def test_custom(self,v):\n",
    "    return v - self.a\n",
    "  def __str__(self):\n",
    "    return \"This is my test code for abstraction\""
   ]
  },
  {
   "cell_type": "code",
   "execution_count": null,
   "id": "fb0de9f7",
   "metadata": {
    "id": "udEFhxtITifw"
   },
   "outputs": [],
   "source": [
    "o = test(4,5,6,7)"
   ]
  },
  {
   "cell_type": "code",
   "execution_count": null,
   "id": "3a7a7ba8",
   "metadata": {
    "colab": {
     "base_uri": "https://localhost:8080/"
    },
    "executionInfo": {
     "elapsed": 11,
     "status": "ok",
     "timestamp": 1627915186322,
     "user": {
      "displayName": "Siddharth Swain",
      "photoUrl": "",
      "userId": "12055456511825659152"
     },
     "user_tz": -330
    },
    "id": "qgpeD_GlTkOp",
    "outputId": "056a514f-ef65-41c2-fee9-9d46ad2a81ad"
   },
   "outputs": [
    {
     "data": {
      "text/plain": [
       "4"
      ]
     },
     "execution_count": 3,
     "metadata": {
      "tags": []
     },
     "output_type": "execute_result"
    }
   ],
   "source": [
    "o.a"
   ]
  },
  {
   "cell_type": "code",
   "execution_count": null,
   "id": "06dd03fb",
   "metadata": {
    "colab": {
     "base_uri": "https://localhost:8080/"
    },
    "executionInfo": {
     "elapsed": 10,
     "status": "ok",
     "timestamp": 1627915186323,
     "user": {
      "displayName": "Siddharth Swain",
      "photoUrl": "",
      "userId": "12055456511825659152"
     },
     "user_tz": -330
    },
    "id": "4Jt6rUuiTlSQ",
    "outputId": "2662f97d-7049-4c7f-c73f-35eb2fa0e3b5"
   },
   "outputs": [
    {
     "data": {
      "text/plain": [
       "5"
      ]
     },
     "execution_count": 4,
     "metadata": {
      "tags": []
     },
     "output_type": "execute_result"
    }
   ],
   "source": [
    "o.b"
   ]
  },
  {
   "cell_type": "code",
   "execution_count": null,
   "id": "fe5cb411",
   "metadata": {
    "colab": {
     "base_uri": "https://localhost:8080/"
    },
    "executionInfo": {
     "elapsed": 4,
     "status": "ok",
     "timestamp": 1627915188595,
     "user": {
      "displayName": "Siddharth Swain",
      "photoUrl": "",
      "userId": "12055456511825659152"
     },
     "user_tz": -330
    },
    "id": "DL8webuXTl9w",
    "outputId": "ee681bc5-d5da-44ab-e4c4-d96be024b9e4"
   },
   "outputs": [
    {
     "data": {
      "text/plain": [
       "6"
      ]
     },
     "execution_count": 5,
     "metadata": {
      "tags": []
     },
     "output_type": "execute_result"
    }
   ],
   "source": [
    "o.c"
   ]
  },
  {
   "cell_type": "code",
   "execution_count": null,
   "id": "3d123086",
   "metadata": {
    "colab": {
     "base_uri": "https://localhost:8080/"
    },
    "executionInfo": {
     "elapsed": 3,
     "status": "ok",
     "timestamp": 1627915194426,
     "user": {
      "displayName": "Siddharth Swain",
      "photoUrl": "",
      "userId": "12055456511825659152"
     },
     "user_tz": -330
    },
    "id": "iWNvjjXsTmhQ",
    "outputId": "ec9fa754-4acb-495c-aecb-f7c6777009d6"
   },
   "outputs": [
    {
     "data": {
      "text/plain": [
       "7"
      ]
     },
     "execution_count": 6,
     "metadata": {
      "tags": []
     },
     "output_type": "execute_result"
    }
   ],
   "source": [
    "o.d"
   ]
  },
  {
   "cell_type": "code",
   "execution_count": null,
   "id": "8caedc78",
   "metadata": {
    "colab": {
     "base_uri": "https://localhost:8080/"
    },
    "executionInfo": {
     "elapsed": 381,
     "status": "ok",
     "timestamp": 1627915211491,
     "user": {
      "displayName": "Siddharth Swain",
      "photoUrl": "",
      "userId": "12055456511825659152"
     },
     "user_tz": -330
    },
    "id": "RPj855osToH4",
    "outputId": "8b806fb8-eb10-4929-b5f0-a4f3ec06ad09"
   },
   "outputs": [
    {
     "data": {
      "text/plain": [
       "96"
      ]
     },
     "execution_count": 8,
     "metadata": {
      "tags": []
     },
     "output_type": "execute_result"
    }
   ],
   "source": [
    "o.test_custom(100)"
   ]
  },
  {
   "cell_type": "code",
   "execution_count": 2,
   "id": "515db451",
   "metadata": {
    "id": "N7ibR5TwTrxY"
   },
   "outputs": [],
   "source": [
    "class test:\n",
    "  def __init__(self, a, b, c, d):\n",
    "    self.__a = a\n",
    "    self.b = b\n",
    "    self.c = c\n",
    "    self.d = d\n",
    "  def test_custom(self,v):\n",
    "    return v - self.__a\n",
    "  def __str__(self):\n",
    "    return \"This is my test code for abstraction\""
   ]
  },
  {
   "cell_type": "code",
   "execution_count": 3,
   "id": "d40952a4",
   "metadata": {
    "id": "YKxO5N8LU-Gh"
   },
   "outputs": [],
   "source": [
    "o = test(4,5,6,7)"
   ]
  },
  {
   "cell_type": "code",
   "execution_count": 4,
   "id": "75897012",
   "metadata": {
    "colab": {
     "base_uri": "https://localhost:8080/"
    },
    "executionInfo": {
     "elapsed": 368,
     "status": "ok",
     "timestamp": 1627915559378,
     "user": {
      "displayName": "Siddharth Swain",
      "photoUrl": "",
      "userId": "12055456511825659152"
     },
     "user_tz": -330
    },
    "id": "6mJcXfFlVAOX",
    "outputId": "fe400fa7-446c-4093-ffda-8d448286cf02"
   },
   "outputs": [
    {
     "data": {
      "text/plain": [
       "3"
      ]
     },
     "execution_count": 4,
     "metadata": {},
     "output_type": "execute_result"
    }
   ],
   "source": [
    "o.test_custom(7)"
   ]
  },
  {
   "cell_type": "code",
   "execution_count": 5,
   "id": "71499715",
   "metadata": {
    "colab": {
     "base_uri": "https://localhost:8080/",
     "height": 163
    },
    "executionInfo": {
     "elapsed": 657,
     "status": "error",
     "timestamp": 1627915565638,
     "user": {
      "displayName": "Siddharth Swain",
      "photoUrl": "",
      "userId": "12055456511825659152"
     },
     "user_tz": -330
    },
    "id": "f4VXfqVvVB3g",
    "outputId": "3f78fc2e-c1a6-4d4a-a1be-699fcd477eb0"
   },
   "outputs": [
    {
     "ename": "AttributeError",
     "evalue": "'test' object has no attribute 'test__a'",
     "output_type": "error",
     "traceback": [
      "\u001b[1;31m---------------------------------------------------------------------------\u001b[0m",
      "\u001b[1;31mAttributeError\u001b[0m                            Traceback (most recent call last)",
      "\u001b[1;32m<ipython-input-5-a0c7c56955c7>\u001b[0m in \u001b[0;36m<module>\u001b[1;34m\u001b[0m\n\u001b[1;32m----> 1\u001b[1;33m \u001b[0mo\u001b[0m\u001b[1;33m.\u001b[0m\u001b[0mtest__a\u001b[0m\u001b[1;33m\u001b[0m\u001b[1;33m\u001b[0m\u001b[0m\n\u001b[0m",
      "\u001b[1;31mAttributeError\u001b[0m: 'test' object has no attribute 'test__a'"
     ]
    }
   ],
   "source": [
    "o.test__a"
   ]
  },
  {
   "cell_type": "code",
   "execution_count": 6,
   "id": "d28dec68",
   "metadata": {
    "colab": {
     "base_uri": "https://localhost:8080/"
    },
    "executionInfo": {
     "elapsed": 639,
     "status": "ok",
     "timestamp": 1627915571017,
     "user": {
      "displayName": "Siddharth Swain",
      "photoUrl": "",
      "userId": "12055456511825659152"
     },
     "user_tz": -330
    },
    "id": "0PKB-VbfVDPf",
    "outputId": "e89d052a-bc0f-434e-ad12-903373825597"
   },
   "outputs": [
    {
     "data": {
      "text/plain": [
       "4"
      ]
     },
     "execution_count": 6,
     "metadata": {},
     "output_type": "execute_result"
    }
   ],
   "source": [
    "o._test__a"
   ]
  },
  {
   "cell_type": "code",
   "execution_count": 17,
   "id": "957baab1",
   "metadata": {},
   "outputs": [
    {
     "data": {
      "text/plain": [
       "6"
      ]
     },
     "execution_count": 17,
     "metadata": {},
     "output_type": "execute_result"
    }
   ],
   "source": [
    "# Child class inherits properties of the parent class.\n",
    "\n",
    "class test1(test):\n",
    "    def __init__(self, j, *args):\n",
    "        super(test1,self).__init__(*args)\n",
    "        self.j = j\n",
    "        \n",
    "m = test1(14,15,16,17,18)\n",
    "m.b"
   ]
  },
  {
   "cell_type": "code",
   "execution_count": 23,
   "id": "9db7a2d4",
   "metadata": {},
   "outputs": [
    {
     "data": {
      "text/plain": [
       "4"
      ]
     },
     "execution_count": 23,
     "metadata": {},
     "output_type": "execute_result"
    }
   ],
   "source": [
    "m.j"
   ]
  },
  {
   "cell_type": "code",
   "execution_count": 18,
   "id": "210a80c6",
   "metadata": {},
   "outputs": [
    {
     "ename": "AttributeError",
     "evalue": "'test1' object has no attribute 'a'",
     "output_type": "error",
     "traceback": [
      "\u001b[1;31m---------------------------------------------------------------------------\u001b[0m",
      "\u001b[1;31mAttributeError\u001b[0m                            Traceback (most recent call last)",
      "\u001b[1;32m<ipython-input-18-f0b741c52f94>\u001b[0m in \u001b[0;36m<module>\u001b[1;34m\u001b[0m\n\u001b[1;32m----> 1\u001b[1;33m \u001b[0mm\u001b[0m\u001b[1;33m.\u001b[0m\u001b[0ma\u001b[0m\u001b[1;33m\u001b[0m\u001b[1;33m\u001b[0m\u001b[0m\n\u001b[0m",
      "\u001b[1;31mAttributeError\u001b[0m: 'test1' object has no attribute 'a'"
     ]
    }
   ],
   "source": [
    "m.a"
   ]
  },
  {
   "cell_type": "code",
   "execution_count": 19,
   "id": "8d60297a",
   "metadata": {},
   "outputs": [
    {
     "data": {
      "text/plain": [
       "6"
      ]
     },
     "execution_count": 19,
     "metadata": {},
     "output_type": "execute_result"
    }
   ],
   "source": [
    "m.b"
   ]
  },
  {
   "cell_type": "code",
   "execution_count": 20,
   "id": "ebe18d6d",
   "metadata": {},
   "outputs": [
    {
     "data": {
      "text/plain": [
       "7"
      ]
     },
     "execution_count": 20,
     "metadata": {},
     "output_type": "execute_result"
    }
   ],
   "source": [
    "m.c"
   ]
  },
  {
   "cell_type": "code",
   "execution_count": 21,
   "id": "85a583e4",
   "metadata": {},
   "outputs": [
    {
     "data": {
      "text/plain": [
       "8"
      ]
     },
     "execution_count": 21,
     "metadata": {},
     "output_type": "execute_result"
    }
   ],
   "source": [
    "m.d"
   ]
  },
  {
   "cell_type": "code",
   "execution_count": 22,
   "id": "3e0dcb61",
   "metadata": {
    "scrolled": true
   },
   "outputs": [
    {
     "data": {
      "text/plain": [
       "5"
      ]
     },
     "execution_count": 22,
     "metadata": {},
     "output_type": "execute_result"
    }
   ],
   "source": [
    "m._test__a"
   ]
  },
  {
   "cell_type": "markdown",
   "id": "ba53f1c5",
   "metadata": {
    "id": "CcPfBGnWVGeJ"
   },
   "source": [
    "## 3.2 Inheritance\n",
    "\n",
    "Inheritance enables us to define a class that takes all the functionality from a parent class and allows us to add more. It is a powerful feature in object-oriented programming.\n",
    "\n",
    "It refers to defining a new class with little or no modification to an existing class. The new class is called the derived (or child) class and the one from which it inherits is called the base (or parent) class.\n",
    "\n",
    "### 3.2.1 Inheritance Syntax\n",
    "\n",
    "Derived class inherits features from the base class where new features can be added to it. This results in re-usability of code.\n",
    "\n",
    "To demonstrate the use of inheritance, let us take an example.\n",
    "\n",
    "A polygon is a closed figure with 3 or more sides. Say, we have a class called Polygon defined as follows."
   ]
  },
  {
   "cell_type": "code",
   "execution_count": 13,
   "id": "2dd6a749",
   "metadata": {},
   "outputs": [],
   "source": [
    "class Polygon:\n",
    "    def __init__(self, no_of_sides):\n",
    "        self.n = no_of_sides\n",
    "        self.sides = [0 for i in range(no_of_sides)]\n",
    "\n",
    "    def inputSides(self):\n",
    "        self.sides = [float(input(\"Enter side \"+str(i+1)+\" : \")) for i in range(self.n)]\n",
    "\n",
    "    def dispSides(self):\n",
    "        for i in range(self.n):\n",
    "            print(\"Side\",i+1,\"is\",self.sides[i])"
   ]
  },
  {
   "cell_type": "markdown",
   "id": "cb6b21db",
   "metadata": {},
   "source": [
    "This class has data attributes to store the number of sides n and magnitude of each side as a list called sides.\n",
    "\n",
    "The inputSides() method takes in the magnitude of each side and dispSides() displays these side lengths.\n",
    "\n",
    "A triangle is a polygon with 3 sides. So, we can create a class called Triangle which inherits from Polygon. This makes all the attributes of Polygon class available to the Triangle class.\n",
    "\n",
    "We don't need to define them again (code reusability). Triangle can be defined as follows."
   ]
  },
  {
   "cell_type": "code",
   "execution_count": 14,
   "id": "fd566bf5",
   "metadata": {},
   "outputs": [],
   "source": [
    "class Triangle(Polygon):\n",
    "    def __init__(self):\n",
    "        Polygon.__init__(self,3)\n",
    "\n",
    "    def findArea(self):\n",
    "        a, b, c = self.sides\n",
    "        # calculate the semi-perimeter\n",
    "        s = (a + b + c) / 2\n",
    "        area = (s*(s-a)*(s-b)*(s-c)) ** 0.5\n",
    "        print('The area of the triangle is %0.2f' %area)"
   ]
  },
  {
   "cell_type": "markdown",
   "id": "598494db",
   "metadata": {},
   "source": [
    "However, class Triangle has a new method findArea() to find and print the area of the triangle. Here is a sample run."
   ]
  },
  {
   "cell_type": "code",
   "execution_count": 15,
   "id": "39a31173",
   "metadata": {},
   "outputs": [],
   "source": [
    "t = Triangle()"
   ]
  },
  {
   "cell_type": "code",
   "execution_count": 16,
   "id": "de4f3fc3",
   "metadata": {},
   "outputs": [
    {
     "name": "stdout",
     "output_type": "stream",
     "text": [
      "Enter side 1 : 3\n",
      "Enter side 2 : 5\n",
      "Enter side 3 : 4\n"
     ]
    }
   ],
   "source": [
    "t.inputSides()"
   ]
  },
  {
   "cell_type": "code",
   "execution_count": 10,
   "id": "b186916f",
   "metadata": {},
   "outputs": [
    {
     "name": "stdout",
     "output_type": "stream",
     "text": [
      "Side 1 is 3.0\n",
      "Side 2 is 5.0\n",
      "Side 3 is 4.0\n"
     ]
    }
   ],
   "source": [
    "t.dispSides()"
   ]
  },
  {
   "cell_type": "code",
   "execution_count": 11,
   "id": "c011dbec",
   "metadata": {},
   "outputs": [
    {
     "name": "stdout",
     "output_type": "stream",
     "text": [
      "The area of the triangle is 6.00\n"
     ]
    }
   ],
   "source": [
    "t.findArea()"
   ]
  },
  {
   "cell_type": "markdown",
   "id": "c97cfe54",
   "metadata": {},
   "source": [
    "We can see that even though we did not define methods like inputSides() or dispSides() for class Triangle separately, we were able to use them.\n",
    "\n",
    "If an attribute is not found in the class itself, the search continues to the base class. This repeats recursively, if the base class is itself derived from other classes."
   ]
  },
  {
   "cell_type": "markdown",
   "id": "534c1f91",
   "metadata": {},
   "source": [
    "# Practice"
   ]
  },
  {
   "cell_type": "code",
   "execution_count": null,
   "id": "62b40577",
   "metadata": {
    "id": "346n0bwCVEpP"
   },
   "outputs": [],
   "source": [
    "class test:\n",
    "  def __init__(self, a, b, c, d):\n",
    "    self.a = a\n",
    "    self.b = b\n",
    "    self.c = c\n",
    "    self.d = d\n",
    "  def test_custom(self,v):\n",
    "    return v - self.a\n",
    "  def __str__(self):\n",
    "    return \"This is my test code for abstraction\""
   ]
  },
  {
   "cell_type": "code",
   "execution_count": null,
   "id": "22889d18",
   "metadata": {
    "id": "9C6THfOGd8Cg"
   },
   "outputs": [],
   "source": [
    "class test1(test):\n",
    "  def __init__(self, j, *args):\n",
    "    super(test1,self).__init__(*args)\n",
    "    self.j = j"
   ]
  },
  {
   "cell_type": "code",
   "execution_count": null,
   "id": "22d46503",
   "metadata": {
    "id": "hapqceX9efyv"
   },
   "outputs": [],
   "source": [
    "m = test1(4,5,6,7,8)"
   ]
  },
  {
   "cell_type": "code",
   "execution_count": null,
   "id": "313526b5",
   "metadata": {
    "colab": {
     "base_uri": "https://localhost:8080/"
    },
    "executionInfo": {
     "elapsed": 9,
     "status": "ok",
     "timestamp": 1627968778469,
     "user": {
      "displayName": "Siddharth Swain",
      "photoUrl": "",
      "userId": "12055456511825659152"
     },
     "user_tz": -330
    },
    "id": "PbgTr9NiehsP",
    "outputId": "fdcfd3ab-8140-49bd-d3a6-64e96d421d28"
   },
   "outputs": [
    {
     "data": {
      "text/plain": [
       "6"
      ]
     },
     "execution_count": 19,
     "metadata": {
      "tags": []
     },
     "output_type": "execute_result"
    }
   ],
   "source": [
    "m.b"
   ]
  },
  {
   "cell_type": "code",
   "execution_count": null,
   "id": "6adaad5c",
   "metadata": {
    "colab": {
     "base_uri": "https://localhost:8080/"
    },
    "executionInfo": {
     "elapsed": 9,
     "status": "ok",
     "timestamp": 1627968778470,
     "user": {
      "displayName": "Siddharth Swain",
      "photoUrl": "",
      "userId": "12055456511825659152"
     },
     "user_tz": -330
    },
    "id": "dVKj9gG7eiKf",
    "outputId": "6b0b5f87-15b0-45d0-a0a2-8799e882f227"
   },
   "outputs": [
    {
     "data": {
      "text/plain": [
       "95"
      ]
     },
     "execution_count": 20,
     "metadata": {
      "tags": []
     },
     "output_type": "execute_result"
    }
   ],
   "source": [
    "m.test_custom(100)"
   ]
  },
  {
   "cell_type": "code",
   "execution_count": null,
   "id": "91cbce62",
   "metadata": {
    "colab": {
     "base_uri": "https://localhost:8080/"
    },
    "executionInfo": {
     "elapsed": 2,
     "status": "ok",
     "timestamp": 1627968779056,
     "user": {
      "displayName": "Siddharth Swain",
      "photoUrl": "",
      "userId": "12055456511825659152"
     },
     "user_tz": -330
    },
    "id": "a72ph5yRfUK-",
    "outputId": "50d47211-6083-412e-8f33-204bc75fdca0"
   },
   "outputs": [
    {
     "data": {
      "text/plain": [
       "4"
      ]
     },
     "execution_count": 21,
     "metadata": {
      "tags": []
     },
     "output_type": "execute_result"
    }
   ],
   "source": [
    "m.j"
   ]
  },
  {
   "cell_type": "code",
   "execution_count": null,
   "id": "f4d11b9b",
   "metadata": {
    "colab": {
     "base_uri": "https://localhost:8080/"
    },
    "executionInfo": {
     "elapsed": 5,
     "status": "ok",
     "timestamp": 1627968779617,
     "user": {
      "displayName": "Siddharth Swain",
      "photoUrl": "",
      "userId": "12055456511825659152"
     },
     "user_tz": -330
    },
    "id": "NmX-XS0ZfxOD",
    "outputId": "6d90b5fd-0525-406d-a9d4-eda52b3dcfaa"
   },
   "outputs": [
    {
     "data": {
      "text/plain": [
       "7"
      ]
     },
     "execution_count": 22,
     "metadata": {
      "tags": []
     },
     "output_type": "execute_result"
    }
   ],
   "source": [
    "m.c"
   ]
  },
  {
   "cell_type": "code",
   "execution_count": null,
   "id": "cce1a965",
   "metadata": {
    "colab": {
     "base_uri": "https://localhost:8080/"
    },
    "executionInfo": {
     "elapsed": 3,
     "status": "ok",
     "timestamp": 1627968780176,
     "user": {
      "displayName": "Siddharth Swain",
      "photoUrl": "",
      "userId": "12055456511825659152"
     },
     "user_tz": -330
    },
    "id": "IiTF_qzef4fv",
    "outputId": "2caef316-1e6c-4247-9825-f32966239c45"
   },
   "outputs": [
    {
     "data": {
      "text/plain": [
       "8"
      ]
     },
     "execution_count": 23,
     "metadata": {
      "tags": []
     },
     "output_type": "execute_result"
    }
   ],
   "source": [
    "m.d"
   ]
  },
  {
   "cell_type": "code",
   "execution_count": null,
   "id": "20aaca44",
   "metadata": {
    "colab": {
     "base_uri": "https://localhost:8080/"
    },
    "executionInfo": {
     "elapsed": 354,
     "status": "ok",
     "timestamp": 1627968783454,
     "user": {
      "displayName": "Siddharth Swain",
      "photoUrl": "",
      "userId": "12055456511825659152"
     },
     "user_tz": -330
    },
    "id": "YOntF0Y5f-ku",
    "outputId": "aed3b69d-4c3d-42f1-b526-a08a5bebf867"
   },
   "outputs": [
    {
     "data": {
      "text/plain": [
       "5"
      ]
     },
     "execution_count": 24,
     "metadata": {
      "tags": []
     },
     "output_type": "execute_result"
    }
   ],
   "source": [
    "m.a"
   ]
  },
  {
   "cell_type": "markdown",
   "id": "98e9790b",
   "metadata": {},
   "source": [
    "# Practice"
   ]
  },
  {
   "cell_type": "code",
   "execution_count": 37,
   "id": "ea2a0289",
   "metadata": {},
   "outputs": [
    {
     "name": "stdout",
     "output_type": "stream",
     "text": [
      "10\n"
     ]
    }
   ],
   "source": [
    "# If the parent class variables are accessible in child class, it is called as inheritance.\n",
    "\n",
    "class parent:\n",
    "    a = 10\n",
    "    b = 40\n",
    "    def __init__(self,parent_a,parent_b):\n",
    "        self.parent_a = parent_a\n",
    "        self.parent_b - parent_b\n",
    "\n",
    "class child(parent):\n",
    "    print(parent.a)"
   ]
  },
  {
   "cell_type": "code",
   "execution_count": 38,
   "id": "527fa8c3",
   "metadata": {},
   "outputs": [],
   "source": [
    "class parent:\n",
    "    a = 10\n",
    "    b = 40\n",
    "    def __init__(self,parent_a,parent_b):\n",
    "        self.parent_a = parent_a\n",
    "        self.parent_b = parent_b\n",
    "\n",
    "class child(parent):\n",
    "    def __init__(self, *args):\n",
    "        super(child,self).__init__(*args)"
   ]
  },
  {
   "cell_type": "code",
   "execution_count": 39,
   "id": "58f23f8c",
   "metadata": {},
   "outputs": [],
   "source": [
    "c = child(1,2)"
   ]
  },
  {
   "cell_type": "code",
   "execution_count": 40,
   "id": "c75a48cd",
   "metadata": {},
   "outputs": [
    {
     "data": {
      "text/plain": [
       "10"
      ]
     },
     "execution_count": 40,
     "metadata": {},
     "output_type": "execute_result"
    }
   ],
   "source": [
    "c.a"
   ]
  },
  {
   "cell_type": "code",
   "execution_count": 41,
   "id": "9b24625f",
   "metadata": {},
   "outputs": [
    {
     "data": {
      "text/plain": [
       "40"
      ]
     },
     "execution_count": 41,
     "metadata": {},
     "output_type": "execute_result"
    }
   ],
   "source": [
    "c.b"
   ]
  },
  {
   "cell_type": "code",
   "execution_count": 1,
   "id": "c4e59744",
   "metadata": {
    "colab": {
     "base_uri": "https://localhost:8080/"
    },
    "executionInfo": {
     "elapsed": 388,
     "status": "ok",
     "timestamp": 1627986214965,
     "user": {
      "displayName": "Siddharth Swain",
      "photoUrl": "",
      "userId": "12055456511825659152"
     },
     "user_tz": -330
    },
    "id": "Vc3J6lLEh2F8",
    "outputId": "2554ec0d-d3a1-4f22-f809-37f7469e6b24"
   },
   "outputs": [
    {
     "name": "stdout",
     "output_type": "stream",
     "text": [
      "ha\n",
      "hahaha\n"
     ]
    }
   ],
   "source": [
    "# Without using Inheritance.\n",
    "\n",
    "class test:\n",
    "  def a(self):\n",
    "    print(\"ha\")\n",
    "\n",
    "class test1:\n",
    "  def a(self):\n",
    "    print(\"hahaha\")\n",
    "\n",
    "class test2():\n",
    "  t = test()\n",
    "  t.a()\n",
    "  t1 = test1()\n",
    "  t1.a()\n",
    "  #print(\"test2 class\")\n",
    "\n",
    "t2 = test2()"
   ]
  },
  {
   "cell_type": "code",
   "execution_count": null,
   "id": "bbc4b8cc",
   "metadata": {
    "colab": {
     "base_uri": "https://localhost:8080/"
    },
    "executionInfo": {
     "elapsed": 494,
     "status": "ok",
     "timestamp": 1628006327941,
     "user": {
      "displayName": "Siddharth Swain",
      "photoUrl": "",
      "userId": "12055456511825659152"
     },
     "user_tz": -330
    },
    "id": "xTu50o5OiMCb",
    "outputId": "df088f82-c734-4734-830c-3350aec6ab91"
   },
   "outputs": [
    {
     "name": "stdout",
     "output_type": "stream",
     "text": [
      "Multi_Task\n",
      "Name: Ineuron\n"
     ]
    }
   ],
   "source": [
    "# Using Inheritance.\n",
    "\n",
    "class Ineuron:\n",
    "  company_website = \"https://esri.com\"\n",
    "  name = 'Ineuron'\n",
    "\n",
    "  def contact_details(self):\n",
    "    print('Contact us at:',self.company_website)\n",
    "\n",
    "class OS:\n",
    "  multi_task = True\n",
    "  os_name = \"Windows OS\"\n",
    "\n",
    "class windows(OS, Ineuron):\n",
    "  def __init__(self):\n",
    "    if self.multi_task is True:\n",
    "      print('Multi_Task')\n",
    "    print('Name: {}'.format(self.name))\n",
    "\n",
    "var = windows()"
   ]
  },
  {
   "cell_type": "markdown",
   "id": "72d81171",
   "metadata": {},
   "source": [
    "**Note:** Two built-in functions, isinstance() and issubclass() are used to check inheritances. The function isinstance() returns True if the object is an instance of the class or other classes derived from it. Each and every class in Python inherits from the base class object."
   ]
  },
  {
   "cell_type": "code",
   "execution_count": 17,
   "id": "0c6e41bf",
   "metadata": {},
   "outputs": [
    {
     "data": {
      "text/plain": [
       "True"
      ]
     },
     "execution_count": 17,
     "metadata": {},
     "output_type": "execute_result"
    }
   ],
   "source": [
    "isinstance(t,Triangle)"
   ]
  },
  {
   "cell_type": "code",
   "execution_count": 18,
   "id": "3e33f690",
   "metadata": {},
   "outputs": [
    {
     "data": {
      "text/plain": [
       "True"
      ]
     },
     "execution_count": 18,
     "metadata": {},
     "output_type": "execute_result"
    }
   ],
   "source": [
    "isinstance(t,Polygon)"
   ]
  },
  {
   "cell_type": "code",
   "execution_count": 19,
   "id": "013a861d",
   "metadata": {},
   "outputs": [
    {
     "data": {
      "text/plain": [
       "False"
      ]
     },
     "execution_count": 19,
     "metadata": {},
     "output_type": "execute_result"
    }
   ],
   "source": [
    "isinstance(t,int)"
   ]
  },
  {
   "cell_type": "code",
   "execution_count": 20,
   "id": "51c77f39",
   "metadata": {},
   "outputs": [
    {
     "data": {
      "text/plain": [
       "True"
      ]
     },
     "execution_count": 20,
     "metadata": {},
     "output_type": "execute_result"
    }
   ],
   "source": [
    "isinstance(t,object)"
   ]
  },
  {
   "cell_type": "markdown",
   "id": "5d04553d",
   "metadata": {},
   "source": [
    "Similarly, issubclass() is used to check for class inheritance."
   ]
  },
  {
   "cell_type": "code",
   "execution_count": 21,
   "id": "7341617e",
   "metadata": {},
   "outputs": [
    {
     "data": {
      "text/plain": [
       "False"
      ]
     },
     "execution_count": 21,
     "metadata": {},
     "output_type": "execute_result"
    }
   ],
   "source": [
    "issubclass(Polygon,Triangle)"
   ]
  },
  {
   "cell_type": "code",
   "execution_count": 22,
   "id": "87bf9eef",
   "metadata": {},
   "outputs": [
    {
     "data": {
      "text/plain": [
       "True"
      ]
     },
     "execution_count": 22,
     "metadata": {},
     "output_type": "execute_result"
    }
   ],
   "source": [
    "issubclass(Triangle,Polygon)"
   ]
  },
  {
   "cell_type": "code",
   "execution_count": 23,
   "id": "894821b0",
   "metadata": {},
   "outputs": [
    {
     "data": {
      "text/plain": [
       "True"
      ]
     },
     "execution_count": 23,
     "metadata": {},
     "output_type": "execute_result"
    }
   ],
   "source": [
    "issubclass(bool,int)"
   ]
  },
  {
   "cell_type": "markdown",
   "id": "bee01267",
   "metadata": {},
   "source": [
    "### 3.2.2 Multiple Inheritance\n",
    "\n",
    "We can derive a class from more than one base class in Python, similar to C++. This is called multiple inheritance. In multiple inheritance, the features of all the base classes are inherited into the derived class. The syntax for multiple inheritance is similar to single inheritance."
   ]
  },
  {
   "cell_type": "code",
   "execution_count": 24,
   "id": "b87a5658",
   "metadata": {},
   "outputs": [],
   "source": [
    "# Example\n",
    "\n",
    "class Base1:\n",
    "    pass\n",
    "\n",
    "class Base2:\n",
    "    pass\n",
    "\n",
    "class MultiDerived(Base1, Base2):\n",
    "    pass"
   ]
  },
  {
   "attachments": {
    "image.png": {
     "image/png": "[encoded data removed]"
    }
   },
   "cell_type": "markdown",
   "id": "709aa1b0",
   "metadata": {},
   "source": [
    "Here, the MultiDerived class is derived from Base1 and Base2 classes.\n",
    "\n",
    "![image.png](attachment:image.png)\n",
    "\n",
    "The MultiDerived class inherits from both Base1 and Base2 classes."
   ]
  },
  {
   "cell_type": "markdown",
   "id": "03294293",
   "metadata": {},
   "source": [
    "# Practice"
   ]
  },
  {
   "cell_type": "code",
   "execution_count": 26,
   "id": "e1cc8736",
   "metadata": {},
   "outputs": [
    {
     "name": "stdout",
     "output_type": "stream",
     "text": [
      "Multi_Task\n",
      "Name: Ineuron\n"
     ]
    }
   ],
   "source": [
    "# Sample Code\n",
    "\n",
    "class Ineuron:\n",
    "  company_website = \"https://esri.com\"\n",
    "  name = 'Ineuron'\n",
    "\n",
    "  def contact_details(self):\n",
    "    print('Contact us at:',self.company_website)\n",
    "\n",
    "class OS:\n",
    "  multi_task = True\n",
    "  os_name = \"Windows OS\"\n",
    "  name = \"sudh\"\n",
    "\n",
    "class windows(Ineuron, OS):\n",
    "  def __init__(self):\n",
    "    if self.multi_task is True:\n",
    "      print('Multi_Task')\n",
    "    print('Name: {}'.format(self.name))\n",
    "\n",
    "var = windows()"
   ]
  },
  {
   "cell_type": "markdown",
   "id": "03019db0",
   "metadata": {},
   "source": [
    "### 3.2.3 Multilevel Inheritance\n",
    "\n",
    "We can also inherit from a derived class. This is called multilevel inheritance. It can be of any depth in Python. In multilevel inheritance, features of the base class and the derived class are inherited into the newly derived class. An example with corresponding visualization is given below."
   ]
  },
  {
   "cell_type": "code",
   "execution_count": 25,
   "id": "2d68fe2f",
   "metadata": {},
   "outputs": [],
   "source": [
    "class Base:\n",
    "    pass\n",
    "\n",
    "class Derived1(Base):\n",
    "    pass\n",
    "\n",
    "class Derived2(Derived1):\n",
    "    pass"
   ]
  },
  {
   "attachments": {
    "image.png": {
     "image/png": "[encoded data removed]"
    }
   },
   "cell_type": "markdown",
   "id": "4ded95d5",
   "metadata": {},
   "source": [
    "Here, the Derived1 class is derived from the Base class, and the Derived2 class is derived from the Derived1 class.\n",
    "\n",
    "![image.png](attachment:image.png)"
   ]
  },
  {
   "cell_type": "markdown",
   "id": "4cab0309",
   "metadata": {},
   "source": [
    "# Practice"
   ]
  },
  {
   "cell_type": "code",
   "execution_count": 27,
   "id": "dae7769b",
   "metadata": {},
   "outputs": [
    {
     "name": "stdout",
     "output_type": "stream",
     "text": [
      "The company IiNeuron offers total 12 different types of courses. Most trending course is Data-Science.\n"
     ]
    }
   ],
   "source": [
    "# Sample Code\n",
    "\n",
    "class iNeuron:\n",
    "  num_of_courses = 12\n",
    "\n",
    "class Datascience(iNeuron):\n",
    "  course_type = 'Data-Science'\n",
    "\n",
    "class AI(Datascience):\n",
    "  def __init__(self):\n",
    "    self.company = \"IiNeuron\"\n",
    "    print(\"The company {0} offers total {1} different types of courses. Most trending course is {2}.\".format(self.company , self.num_of_courses , self.course_type))\n",
    "\n",
    "AI = AI()"
   ]
  },
  {
   "attachments": {
    "image.png": {
     "image/png": "[encoded data removed]"
    }
   },
   "cell_type": "markdown",
   "id": "47b96cd0",
   "metadata": {},
   "source": [
    "## 3.3 Method Overriding\n",
    "\n",
    "Method overriding is an ability of any object-oriented programming language that allows a subclass or child class to provide a specific implementation of a method that is already provided by one of its super-classes or parent classes. \n",
    "\n",
    "When a method in a subclass has the same name, same parameters or signature and same return type(or sub-type) as a method in its super-class, then the method in the subclass is said to override the method in the super-class.\n",
    "\n",
    "![image.png](attachment:image.png)\n",
    "\n",
    "The version of a method that is executed will be determined by the object that is used to invoke it. If an object of a parent class is used to invoke the method, then the version in the parent class will be executed, but if an object of the subclass is used to invoke the method, then the version in the child class will be executed. In other words, it is the type of the object being referred to (not the type of the reference variable) that determines which version of an overridden method will be executed."
   ]
  },
  {
   "cell_type": "code",
   "execution_count": 2,
   "id": "02bbd0c6",
   "metadata": {},
   "outputs": [
    {
     "name": "stdout",
     "output_type": "stream",
     "text": [
      "Inside Parent\n",
      "Inside Child\n"
     ]
    }
   ],
   "source": [
    "# Python program to demonstrate method overriding.\n",
    "    \n",
    "# Defining parent class.\n",
    "class Parent():\n",
    "      \n",
    "    # Constructor.\n",
    "    def __init__(self):\n",
    "        self.value = \"Inside Parent\"\n",
    "          \n",
    "    # Parent's show method.\n",
    "    def show(self):\n",
    "        print(self.value)\n",
    "          \n",
    "# Defining child class.\n",
    "class Child(Parent):\n",
    "      \n",
    "    # Constructor.\n",
    "    def __init__(self):\n",
    "        self.value = \"Inside Child\"\n",
    "          \n",
    "    # Child's show method.\n",
    "    def show(self):\n",
    "        print(self.value)\n",
    "          \n",
    "          \n",
    "# Driver's code\n",
    "obj1 = Parent()\n",
    "obj2 = Child()\n",
    "  \n",
    "obj1.show()\n",
    "obj2.show()"
   ]
  },
  {
   "cell_type": "markdown",
   "id": "6343a6e5",
   "metadata": {},
   "source": [
    "## 3.4 Method Resolution Order\n",
    "\n",
    "Every class in Python is derived from the object class. It is the most base type in Python.\n",
    "\n",
    "So technically, all other classes, either built-in or user-defined, are derived classes and all objects are instances of the object class."
   ]
  },
  {
   "cell_type": "code",
   "execution_count": 28,
   "id": "c7869f1c",
   "metadata": {},
   "outputs": [
    {
     "name": "stdout",
     "output_type": "stream",
     "text": [
      "True\n",
      "True\n",
      "True\n"
     ]
    }
   ],
   "source": [
    "# Output: True\n",
    "print(issubclass(list,object))\n",
    "\n",
    "# Output: True\n",
    "print(isinstance(5.5,object))\n",
    "\n",
    "# Output: True\n",
    "print(isinstance(\"Hello\",object))"
   ]
  },
  {
   "cell_type": "markdown",
   "id": "4e4017ff",
   "metadata": {},
   "source": [
    "In the multiple inheritance scenario, any specified attribute is searched first in the current class. If not found, the search continues into parent classes in depth-first, left-right fashion without searching the same class twice.\n",
    "\n",
    "So, in the above example of MultiDerived class, the search order is [MultiDerived, Base1, Base2, object]. This order is also called the linearization of MultiDerived class and the set of rules used to find this order is called the Method Resolution Order (MRO).\n",
    "\n",
    "MRO must prevent local precedence ordering and also provide monotonicity. It ensures that a class always appears before its parents. In the case of multiple parents, the order is the same as tuples of base classes.\n",
    "\n",
    "MRO of a class can be viewed as the __mro__ attribute or the mro() method. The former returns a tuple while the latter returns a list."
   ]
  },
  {
   "cell_type": "code",
   "execution_count": 29,
   "id": "0954c1d2",
   "metadata": {},
   "outputs": [
    {
     "data": {
      "text/plain": [
       "(__main__.MultiDerived, __main__.Base1, __main__.Base2, object)"
      ]
     },
     "execution_count": 29,
     "metadata": {},
     "output_type": "execute_result"
    }
   ],
   "source": [
    "MultiDerived.__mro__"
   ]
  },
  {
   "cell_type": "code",
   "execution_count": 30,
   "id": "68c749c0",
   "metadata": {},
   "outputs": [
    {
     "data": {
      "text/plain": [
       "[__main__.MultiDerived, __main__.Base1, __main__.Base2, object]"
      ]
     },
     "execution_count": 30,
     "metadata": {},
     "output_type": "execute_result"
    }
   ],
   "source": [
    "MultiDerived.mro()"
   ]
  },
  {
   "attachments": {
    "image.png": {
     "image/png": "[encoded data removed]"
    }
   },
   "cell_type": "markdown",
   "id": "b82b099c",
   "metadata": {},
   "source": [
    "Here is a little more complex multiple inheritance example and its visualization along with the MRO.\n",
    "\n",
    "![image.png](attachment:image.png)"
   ]
  },
  {
   "cell_type": "code",
   "execution_count": 31,
   "id": "4c6b8baf",
   "metadata": {},
   "outputs": [
    {
     "name": "stdout",
     "output_type": "stream",
     "text": [
      "[<class '__main__.M'>, <class '__main__.B'>, <class '__main__.A'>, <class '__main__.X'>, <class '__main__.Y'>, <class '__main__.Z'>, <class 'object'>]\n"
     ]
    }
   ],
   "source": [
    "# Demonstration of MRO.\n",
    "\n",
    "class X:\n",
    "    pass\n",
    "\n",
    "\n",
    "class Y:\n",
    "    pass\n",
    "\n",
    "\n",
    "class Z:\n",
    "    pass\n",
    "\n",
    "\n",
    "class A(X, Y):\n",
    "    pass\n",
    "\n",
    "\n",
    "class B(Y, Z):\n",
    "    pass\n",
    "\n",
    "\n",
    "class M(B, A, Z):\n",
    "    pass\n",
    "\n",
    "# Output:\n",
    "# [<class '__main__.M'>, <class '__main__.B'>,\n",
    "#  <class '__main__.A'>, <class '__main__.X'>,\n",
    "#  <class '__main__.Y'>, <class '__main__.Z'>,\n",
    "#  <class 'object'>]\n",
    "\n",
    "print(M.mro())"
   ]
  },
  {
   "attachments": {
    "image.png": {
     "image/png": "[encoded data removed]"
    }
   },
   "cell_type": "markdown",
   "id": "343ee636",
   "metadata": {},
   "source": [
    "## 3.5 Encapsulation\n",
    "\n",
    "Encapsulation is one of the fundamental concepts in object-oriented programming (OOP). It describes the idea of wrapping data and the methods that work on data within one unit. \n",
    "\n",
    "This puts restrictions on accessing variables and methods directly and can prevent the accidental modification of data. To prevent accidental change, an object’s variable can only be changed by an object’s method. \n",
    "\n",
    "Those types of variables are known as private variables. A class is an example of encapsulation as it encapsulates all the data that is member functions, variables, etc.\n",
    "\n",
    "![image.png](attachment:image.png)\n",
    "\n",
    "Consider a real-life example of encapsulation, in a company, there are different sections like the accounts section, finance section, sales section, etc. The finance section handles all the financial transactions and keeps records of all the data related to finance. Similarly, the sales section handles all the sales-related activities and keeps records of all the sales. \n",
    "\n",
    "Now there may arise a situation when, for some reason, an official from the finance section needs all the data about sales in a particular month. In this case, he is not allowed to directly access the data of the sales section. He will first have to contact some other officer in the sales section and then request him to give the particular data. This is what encapsulation is. Here, the data of the sales section and the employees that can manipulate them are wrapped under a single name “sales section”. Using encapsulation also hides the data. In this example, the data of the sections, like sales, finance, or accounts, are hidden from any other section.\n",
    "\n",
    "### 3.5.1 Protected Members\n",
    "\n",
    "Protected members (in C++ and JAVA) are those members of the class that cannot be accessed outside the class but can be accessed from within the class and its subclasses. To accomplish this in Python, just follow the convention by prefixing the name of the member by a single underscore “_”.\n",
    "\n",
    "Although the protected variable can be accessed out of the class as well as in the derived class(modified too in derived class), it is customary(convention not a rule) to not access the protected out the class body.\n",
    "\n",
    "**Note:** The __init__ method is a constructor and runs as soon as an object of a class is instantiated.  "
   ]
  },
  {
   "cell_type": "code",
   "execution_count": 32,
   "id": "ca5facaf",
   "metadata": {},
   "outputs": [
    {
     "name": "stdout",
     "output_type": "stream",
     "text": [
      "Calling protected member of base class:  2\n",
      "Calling modified protected member outside class:  3\n",
      "Accessing protected member of obj1:  3\n",
      "Accessing protected member of obj2:  2\n"
     ]
    }
   ],
   "source": [
    "# Python program to demonstrate protected members.\n",
    "\n",
    "# Creating a base class.\n",
    "\n",
    "class Base:\n",
    "\tdef __init__(self):\n",
    "\n",
    "\t\t# Protected member.\n",
    "\t\tself._a = 2\n",
    "\n",
    "# Creating a derived class.\n",
    "\n",
    "class Derived(Base):\n",
    "\tdef __init__(self):\n",
    "\n",
    "\t\t# Calling constructor of\n",
    "\t\t# Base class.\n",
    "\t\tBase.__init__(self)\n",
    "\t\tprint(\"Calling protected member of base class: \",\n",
    "\t\t\tself._a)\n",
    "\n",
    "\t\t# Modify the protected variable:\n",
    "\t\tself._a = 3\n",
    "\t\tprint(\"Calling modified protected member outside class: \",\n",
    "\t\t\tself._a)\n",
    "\n",
    "\n",
    "obj1 = Derived()\n",
    "\n",
    "obj2 = Base()\n",
    "\n",
    "# Calling protected member.\n",
    "# Can be accessed but should not be done due to convention.\n",
    "\n",
    "print(\"Accessing protected member of obj1: \", obj1._a)\n",
    "\n",
    "# Accessing the protected variable outside.\n",
    "\n",
    "print(\"Accessing protected member of obj2: \", obj2._a)"
   ]
  },
  {
   "cell_type": "markdown",
   "id": "1553005b",
   "metadata": {},
   "source": [
    "### 3.5.2 Private Members\n",
    "\n",
    "Private members are similar to protected members, the difference is that the class members declared private should neither be accessed outside the class nor by any base class. In Python, there is no existence of Private instance variables that cannot be accessed except inside a class.\n",
    "\n",
    "However, to define a private member, prefix the member's name with double underscore “__”.\n",
    "\n",
    "**Note:** Python’s private and protected members can be accessed outside the class through python name mangling. "
   ]
  },
  {
   "cell_type": "code",
   "execution_count": 33,
   "id": "18bf1b4f",
   "metadata": {},
   "outputs": [
    {
     "name": "stdout",
     "output_type": "stream",
     "text": [
      "GeeksforGeeks\n"
     ]
    }
   ],
   "source": [
    "# Python program to demonstrate private members.\n",
    "\n",
    "# Creating a base class.\n",
    "\n",
    "\n",
    "class Base:\n",
    "\tdef __init__(self):\n",
    "\t\tself.a = \"GeeksforGeeks\"\n",
    "\t\tself.__c = \"GeeksforGeeks\"\n",
    "\n",
    "# Creating a derived class.\n",
    "\n",
    "class Derived(Base):\n",
    "\tdef __init__(self):\n",
    "\n",
    "\t\t# Calling constructor of\n",
    "\t\t# Base class.\n",
    "\t\tBase.__init__(self)\n",
    "\t\tprint(\"Calling private member of base class: \")\n",
    "\t\tprint(self.__c)\n",
    "\n",
    "\n",
    "# Driver code.\n",
    "\n",
    "obj1 = Base()\n",
    "print(obj1.a)\n",
    "\n",
    "# Uncommenting print(obj1.c) will\n",
    "# raise an AttributeError.\n",
    "\n",
    "# Uncommenting obj2 = Derived() will\n",
    "# also raise an AtrributeError as\n",
    "# private member of base class\n",
    "# is called inside derived class."
   ]
  },
  {
   "cell_type": "markdown",
   "id": "e6b68738",
   "metadata": {
    "id": "ng0DO_xy49AD"
   },
   "source": [
    "# Practice\n",
    "\n",
    "- Encapsulation hides the implementation in capsules."
   ]
  },
  {
   "cell_type": "code",
   "execution_count": 1,
   "id": "ee385d2c",
   "metadata": {
    "id": "HCldjw_03v4O"
   },
   "outputs": [],
   "source": [
    "class test:\n",
    "\n",
    "  def __init__(self,a,b,c):\n",
    "    self.a = a\n",
    "    self.b = b\n",
    "    self.c = c\n",
    "\n",
    "  def __str__(self):\n",
    "    return \"this is the return from my test class\"\n",
    "\n",
    "  def sample(self):\n",
    "    return self.a + self.b + self.c\n",
    "\n",
    "class test1:\n",
    "\n",
    "  def __init__(self,a,b,c):\n",
    "    self.a = a\n",
    "    self.b = b\n",
    "    self.c = c\n",
    "\n",
    "  def __str__(self):\n",
    "    return \"this is the return from my test1 class\"\n",
    "\n",
    "class test2:\n",
    "\n",
    "  def __init__(self,a,b,c):\n",
    "    self.a = a\n",
    "    self.b = b\n",
    "    self.c = c\n",
    "\n",
    "  def __str__(self):\n",
    "    return \"this is the return from my test2 class\"\n",
    "\n",
    "class final:\n",
    "\n",
    "  def __init__(self,x,y,z):\n",
    "    self.x = x\n",
    "    self.y = y\n",
    "    self.z = z\n",
    "\n",
    "  def __str__(self):\n",
    "    return \"This is a print from final class \" + str(self.x) + str(self.y) + str(self.z)\n"
   ]
  },
  {
   "cell_type": "code",
   "execution_count": 2,
   "id": "af19d7cf",
   "metadata": {
    "id": "HgL5gJeGLC2i"
   },
   "outputs": [],
   "source": [
    "t = test(4,5,6)\n",
    "t1 = test1(3,4,5)\n",
    "t2 = test2(5,6,7)\n",
    "f = final(t,t1,t2)"
   ]
  },
  {
   "cell_type": "code",
   "execution_count": 3,
   "id": "15180412",
   "metadata": {},
   "outputs": [
    {
     "name": "stdout",
     "output_type": "stream",
     "text": [
      "This is a print from final class this is the return from my test classthis is the return from my test1 classthis is the return from my test2 class\n"
     ]
    }
   ],
   "source": [
    "print(f)"
   ]
  },
  {
   "cell_type": "code",
   "execution_count": 4,
   "id": "88b25a97",
   "metadata": {},
   "outputs": [
    {
     "data": {
      "text/plain": [
       "<__main__.final at 0x219adac7c40>"
      ]
     },
     "execution_count": 4,
     "metadata": {},
     "output_type": "execute_result"
    }
   ],
   "source": [
    "f"
   ]
  },
  {
   "cell_type": "code",
   "execution_count": 5,
   "id": "ca8db2f9",
   "metadata": {},
   "outputs": [
    {
     "name": "stdout",
     "output_type": "stream",
     "text": [
      "this is the return from my test class\n"
     ]
    }
   ],
   "source": [
    "print(f.x)"
   ]
  },
  {
   "cell_type": "code",
   "execution_count": 6,
   "id": "683bb6dc",
   "metadata": {},
   "outputs": [
    {
     "name": "stdout",
     "output_type": "stream",
     "text": [
      "this is the return from my test1 class\n"
     ]
    }
   ],
   "source": [
    "print(f.y)"
   ]
  },
  {
   "cell_type": "code",
   "execution_count": 7,
   "id": "0ae4b703",
   "metadata": {},
   "outputs": [
    {
     "name": "stdout",
     "output_type": "stream",
     "text": [
      "this is the return from my test2 class\n"
     ]
    }
   ],
   "source": [
    "print(f.z)"
   ]
  },
  {
   "cell_type": "code",
   "execution_count": 8,
   "id": "4b17f476",
   "metadata": {},
   "outputs": [
    {
     "data": {
      "text/plain": [
       "15"
      ]
     },
     "execution_count": 8,
     "metadata": {},
     "output_type": "execute_result"
    }
   ],
   "source": [
    "f.x.sample()"
   ]
  },
  {
   "cell_type": "markdown",
   "id": "529ac3d8",
   "metadata": {},
   "source": [
    "# Practice"
   ]
  },
  {
   "cell_type": "code",
   "execution_count": 1,
   "id": "a5717289",
   "metadata": {},
   "outputs": [
    {
     "name": "stdout",
     "output_type": "stream",
     "text": [
      "Tyres: \n",
      " \tBranch:Pirelli\n",
      " \tBelted-bias: True\n",
      " \tOptimal pressure: 2.0\n",
      "Engine: \n",
      " \tFuel type: Diesel\n",
      " \tNoise level: 3\n",
      "Body:\n",
      " \tSize: Medium\n",
      "Fortuner\n"
     ]
    }
   ],
   "source": [
    "class Tyres:\n",
    "    def __init__(self,branch,belted_bias,opt_pressure):\n",
    "        self.branch = branch\n",
    "        self.belted_bias = belted_bias\n",
    "        self.opt_pressure = opt_pressure\n",
    "    def __str__(self):\n",
    "        return (\"Tyres: \\n \\tBranch:\" + str(self.branch) + \n",
    "                \"\\n \\tBelted-bias: \" + str(self.belted_bias) + \n",
    "                \"\\n \\tOptimal pressure: \" +str(self.opt_pressure))\n",
    "    \n",
    "class Engine:\n",
    "    def __init__(self,fuel_type,noise_level):\n",
    "        self.fuel_type = fuel_type\n",
    "        self.noise_level = noise_level\n",
    "        \n",
    "    def __str__(self):\n",
    "        return (\"Engine: \\n \\tFuel type: \" + self.fuel_type +\n",
    "                \"\\n \\tNoise level: \" + str(self.noise_level))\n",
    "    \n",
    "class Body:\n",
    "    def __init__(self,size):\n",
    "        self.size = size\n",
    "        \n",
    "    def __str__(self):\n",
    "        return \"Body:\\n \\tSize: \" + self.size\n",
    "    \n",
    "class Car:\n",
    "    def __init__(self,n,t,e,b):\n",
    "        self.n = n\n",
    "        self.t = t\n",
    "        self.e = e\n",
    "        self.b = b\n",
    "        \n",
    "    def __str__(self):\n",
    "        return str(self.t) + \"\\n\" + str(self.e) + \"\\n\" + str(self.b) + \"\\n\" + str(self.n)\n",
    "    \n",
    "t = Tyres('Pirelli',True,2.0)\n",
    "e = Engine('Diesel',3)\n",
    "b = Body('Medium')\n",
    "c = Car(\"Fortuner\",t,e,b)   # When passing t e and b objects the Car Class directly calls the classes.\n",
    "print(c)                    # We are passing objects and object will call the classes.      \n",
    "        \n",
    "    "
   ]
  },
  {
   "cell_type": "code",
   "execution_count": 2,
   "id": "75de3b93",
   "metadata": {},
   "outputs": [
    {
     "name": "stdout",
     "output_type": "stream",
     "text": [
      "Tyres: \n",
      " \tBranch:Pirelli\n",
      " \tBelted-bias: True\n",
      " \tOptimal pressure: 2.0\n"
     ]
    }
   ],
   "source": [
    "print(t)"
   ]
  },
  {
   "cell_type": "code",
   "execution_count": 3,
   "id": "24ebf948",
   "metadata": {},
   "outputs": [
    {
     "name": "stdout",
     "output_type": "stream",
     "text": [
      "Engine: \n",
      " \tFuel type: Diesel\n",
      " \tNoise level: 3\n"
     ]
    }
   ],
   "source": [
    "print(e)"
   ]
  },
  {
   "cell_type": "code",
   "execution_count": 4,
   "id": "a67b3242",
   "metadata": {},
   "outputs": [
    {
     "name": "stdout",
     "output_type": "stream",
     "text": [
      "Body:\n",
      " \tSize: Medium\n"
     ]
    }
   ],
   "source": [
    "print(b)"
   ]
  },
  {
   "cell_type": "code",
   "execution_count": 5,
   "id": "58a5a451",
   "metadata": {},
   "outputs": [
    {
     "name": "stdout",
     "output_type": "stream",
     "text": [
      "Tyres: \n",
      " \tBranch:Pirelli\n",
      " \tBelted-bias: True\n",
      " \tOptimal pressure: 2.0\n",
      "Engine: \n",
      " \tFuel type: Diesel\n",
      " \tNoise level: 3\n",
      "Body:\n",
      " \tSize: Medium\n",
      "Fortuner\n"
     ]
    }
   ],
   "source": [
    "print(c)"
   ]
  },
  {
   "cell_type": "code",
   "execution_count": 6,
   "id": "3e94b49b",
   "metadata": {},
   "outputs": [
    {
     "name": "stdout",
     "output_type": "stream",
     "text": [
      "Fortuner\n"
     ]
    }
   ],
   "source": [
    "print(c.n)"
   ]
  },
  {
   "cell_type": "code",
   "execution_count": 7,
   "id": "124142d7",
   "metadata": {},
   "outputs": [
    {
     "name": "stdout",
     "output_type": "stream",
     "text": [
      "Tyres: \n",
      " \tBranch:Pirelli\n",
      " \tBelted-bias: True\n",
      " \tOptimal pressure: 2.0\n"
     ]
    }
   ],
   "source": [
    "print(c.t)"
   ]
  },
  {
   "cell_type": "code",
   "execution_count": 8,
   "id": "61518bb8",
   "metadata": {},
   "outputs": [
    {
     "name": "stdout",
     "output_type": "stream",
     "text": [
      "Engine: \n",
      " \tFuel type: Diesel\n",
      " \tNoise level: 3\n"
     ]
    }
   ],
   "source": [
    "print(c.e)"
   ]
  },
  {
   "cell_type": "code",
   "execution_count": 9,
   "id": "6888253e",
   "metadata": {},
   "outputs": [
    {
     "name": "stdout",
     "output_type": "stream",
     "text": [
      "Body:\n",
      " \tSize: Medium\n"
     ]
    }
   ],
   "source": [
    "print(c.b)"
   ]
  },
  {
   "cell_type": "code",
   "execution_count": 7,
   "id": "b9d19713",
   "metadata": {
    "id": "dUHJv6BeODSv"
   },
   "outputs": [
    {
     "name": "stdout",
     "output_type": "stream",
     "text": [
      "Tyres: \n",
      " \tBranch:Pirelli\n",
      " \tBelted-bias: True\n",
      " \tOptimal pressure: 2.0\n",
      "Engine: \n",
      " \tFuel type: Diesel\n",
      " \tNoise level: 3\n",
      "Body:\n",
      " \tSize: Medium Fortuner\n"
     ]
    }
   ],
   "source": [
    "class Tyres:\n",
    "    def __init__(self,branch,belted_bias,opt_pressure):\n",
    "        self.branch = branch\n",
    "        self.belted_bias = belted_bias\n",
    "        self.opt_pressure = opt_pressure\n",
    "    def __str__(self):\n",
    "        return (\"Tyres: \\n \\tBranch:\" + str(self.branch) + \n",
    "                \"\\n \\tBelted-bias: \" + str(self.belted_bias) + \n",
    "                \"\\n \\tOptimal pressure: \" +str(self.opt_pressure))\n",
    "    \n",
    "class Engine:\n",
    "    def __init__(self,fuel_type,noise_level):\n",
    "        self.fuel_type = fuel_type\n",
    "        self.noise_level = noise_level\n",
    "        \n",
    "    def __str__(self):\n",
    "        return (\"Engine: \\n \\tFuel type: \" + self.fuel_type +\n",
    "                \"\\n \\tNoise level: \" + str(self.noise_level))\n",
    "    \n",
    "class Body:\n",
    "    def __init__(self,size):\n",
    "        self.size = size\n",
    "        \n",
    "    def __str__(self):\n",
    "        return \"Body:\\n \\tSize: \" + self.size\n",
    "    \n",
    "class Car:\n",
    "    def __init__(self,name,tyres,engine,body):\n",
    "        self.name = name\n",
    "        self.tyres = tyres\n",
    "        self.engine = engine\n",
    "        self.body = body\n",
    "        \n",
    "    def __str__(self):\n",
    "        return str(self.tyres) + \"\\n\" + str(self.engine) + \"\\n\" + str(self.body) + \" \" + str(self.name)\n",
    "    \n",
    "t = Tyres('Pirelli',True,2.0)\n",
    "e = Engine('Diesel',3)\n",
    "b = Body('Medium')\n",
    "c = Car(\"Fortuner\",t,e,b)   # When passing t e and b objects the Car Class directly calls the classes.\n",
    "print(c)                    # We are passing objects and object will call the classes.      \n",
    "        \n",
    "    "
   ]
  },
  {
   "cell_type": "markdown",
   "id": "a1f6ee87",
   "metadata": {},
   "source": [
    "# Practice"
   ]
  },
  {
   "cell_type": "code",
   "execution_count": 1,
   "id": "c3f65bd5",
   "metadata": {},
   "outputs": [
    {
     "name": "stdout",
     "output_type": "stream",
     "text": [
      "Kudrjavka is a Laika born in 1954.\n"
     ]
    }
   ],
   "source": [
    "class Dog:\n",
    "    def __init__(self,name,year_of_birth,breed):\n",
    "        self._name = name\n",
    "        self._year_of_birth = year_of_birth\n",
    "        self._breed = breed\n",
    "    def __str__(self):\n",
    "        return \"%s is a %s born in %d.\" % (self._name,self._breed,self._year_of_birth)\n",
    "    \n",
    "kudrjavka = Dog(\"Kudrjavka\",1954,\"Laika\")\n",
    "dog1 = Dog(\"German Sheperd\",565,\"coco\")\n",
    "dog2 = Dog(\"Sheperd\",565,\"coco\")\n",
    "dog3 = Dog(\"German\",565,\"coco\")\n",
    "print(kudrjavka)"
   ]
  },
  {
   "cell_type": "code",
   "execution_count": 2,
   "id": "646ce8da",
   "metadata": {},
   "outputs": [],
   "source": [
    "class student:\n",
    "    def __init__(self,name,student_id,school_name,address):\n",
    "        self.name = name\n",
    "        self.student_id = student_id\n",
    "        self.school_name = school_name\n",
    "        self.address = address\n",
    "    \n",
    "    def __str__(self):\n",
    "        return str(self.name) + \"  \" + str(self.student_id) + \"  \" + str(self.school_name) + \" \" + str(self.address)\n",
    "        "
   ]
  },
  {
   "cell_type": "code",
   "execution_count": 3,
   "id": "71c78845",
   "metadata": {},
   "outputs": [],
   "source": [
    "stu = student(\"sudh\",454,\"iNeuron\",\"sdsdsdsds\")"
   ]
  },
  {
   "cell_type": "code",
   "execution_count": 4,
   "id": "0f6ec594",
   "metadata": {},
   "outputs": [
    {
     "name": "stdout",
     "output_type": "stream",
     "text": [
      "sudh  454  iNeuron sdsdsdsds\n"
     ]
    }
   ],
   "source": [
    "print(stu)"
   ]
  },
  {
   "cell_type": "code",
   "execution_count": 50,
   "id": "2e71afdf",
   "metadata": {},
   "outputs": [],
   "source": [
    "dog1 = student(kudrjavka, 45, \"dog_sch\" , \"ccfccfcfcf\" )"
   ]
  },
  {
   "cell_type": "code",
   "execution_count": 51,
   "id": "7ccd8744",
   "metadata": {},
   "outputs": [
    {
     "name": "stdout",
     "output_type": "stream",
     "text": [
      "Kudrjavka is a Laika born in 1954.  45  dog_sch ccfccfcfcf\n"
     ]
    }
   ],
   "source": [
    "print(dog1)"
   ]
  },
  {
   "cell_type": "code",
   "execution_count": 52,
   "id": "34201a09",
   "metadata": {},
   "outputs": [],
   "source": [
    "dog2 = student(dog3, 45, \"dog_sch\" , \"ccfccfcfcf\" )"
   ]
  },
  {
   "cell_type": "markdown",
   "id": "27849733",
   "metadata": {},
   "source": [
    "# Practice"
   ]
  },
  {
   "cell_type": "code",
   "execution_count": 15,
   "id": "6c772df2",
   "metadata": {},
   "outputs": [],
   "source": [
    "class BonusDistribution:\n",
    "    \n",
    "    def __init__(self,employeeId, employeeRating):\n",
    "        \n",
    "        self.empId = employeeId\n",
    "        self.empRating = employeeRating\n",
    "        self.__bonusforRatingA = \"70%\" #making value private\n",
    "        self.__bonusforRatingB = \"60%\" #making value private\n",
    "        self.__bonusforRatingC = \"50%\" #making value private\n",
    "        self.__bonusforRatingD = \"30%\" #making value private\n",
    "        self.__bonusforRatingForRest = \"No Bonus\" #making value private\n",
    "        \n",
    "    def bonusCalculator(self):\n",
    "        \n",
    "        if self.empRating == 'A':\n",
    "            bonus = self.__bonusforRatingA\n",
    "            msg = \"Bonus for employee is: \" + bonus\n",
    "            return msg\n",
    "        elif self.empRating == 'B':\n",
    "            bonus = self.__bonusforRatingB\n",
    "            msg = \"Bonus for employee is: \" + bonus\n",
    "            return msg\n",
    "        elif self.empRating == 'C':\n",
    "            bonus = self.__bonusforRatingC\n",
    "            msg = \"Bonus for employee is: \" + bonus\n",
    "            return msg\n",
    "        elif self.empRating == 'D':\n",
    "            bonus = self.__bonusforRatingD\n",
    "            msg = \"Bonus for employee is: \" + bonus\n",
    "            return msg\n",
    "        else:\n",
    "            bonus = self.__bonusforRatingForRest\n",
    "            msg = \"Bonus for employee is: \" + bonus\n",
    "            return msg"
   ]
  },
  {
   "cell_type": "code",
   "execution_count": 21,
   "id": "7500c042",
   "metadata": {},
   "outputs": [],
   "source": [
    "emp1 = BonusDistribution(1232,'B')\n",
    "emp2 = BonusDistribution(1111,'A')\n",
    "emp3 = BonusDistribution(1000,'D')\n",
    "emp4 = BonusDistribution(1000,'X')\n",
    "emp5 = BonusDistribution(1232,'B')"
   ]
  },
  {
   "cell_type": "code",
   "execution_count": 17,
   "id": "55d8e232",
   "metadata": {},
   "outputs": [
    {
     "data": {
      "text/plain": [
       "'Bonus for employee is: 60%'"
      ]
     },
     "execution_count": 17,
     "metadata": {},
     "output_type": "execute_result"
    }
   ],
   "source": [
    "emp1.bonusCalculator()"
   ]
  },
  {
   "cell_type": "code",
   "execution_count": 18,
   "id": "e14c9cdf",
   "metadata": {},
   "outputs": [
    {
     "data": {
      "text/plain": [
       "'Bonus for employee is: 70%'"
      ]
     },
     "execution_count": 18,
     "metadata": {},
     "output_type": "execute_result"
    }
   ],
   "source": [
    "emp2.bonusCalculator()"
   ]
  },
  {
   "cell_type": "code",
   "execution_count": 19,
   "id": "b638089b",
   "metadata": {},
   "outputs": [
    {
     "data": {
      "text/plain": [
       "'Bonus for employee is: 30%'"
      ]
     },
     "execution_count": 19,
     "metadata": {},
     "output_type": "execute_result"
    }
   ],
   "source": [
    "emp3.bonusCalculator()"
   ]
  },
  {
   "cell_type": "code",
   "execution_count": 20,
   "id": "93bf1da3",
   "metadata": {},
   "outputs": [
    {
     "data": {
      "text/plain": [
       "'Bonus for employee is: No Bonus'"
      ]
     },
     "execution_count": 20,
     "metadata": {},
     "output_type": "execute_result"
    }
   ],
   "source": [
    "emp4.bonusCalculator()"
   ]
  },
  {
   "cell_type": "code",
   "execution_count": 22,
   "id": "69851318",
   "metadata": {},
   "outputs": [],
   "source": [
    "emp1._BonusDistribution__bonusforRatingB = \"90%\""
   ]
  },
  {
   "cell_type": "code",
   "execution_count": 23,
   "id": "dd410b01",
   "metadata": {},
   "outputs": [
    {
     "data": {
      "text/plain": [
       "'Bonus for employee is: 90%'"
      ]
     },
     "execution_count": 23,
     "metadata": {},
     "output_type": "execute_result"
    }
   ],
   "source": [
    "emp1.bonusCalculator()"
   ]
  },
  {
   "cell_type": "code",
   "execution_count": 24,
   "id": "486fda4b",
   "metadata": {},
   "outputs": [
    {
     "data": {
      "text/plain": [
       "'Bonus for employee is: 60%'"
      ]
     },
     "execution_count": 24,
     "metadata": {},
     "output_type": "execute_result"
    }
   ],
   "source": [
    "emp5.bonusCalculator()"
   ]
  },
  {
   "cell_type": "code",
   "execution_count": 62,
   "id": "d5f07e7f",
   "metadata": {},
   "outputs": [],
   "source": [
    "class BonusDistribution:\n",
    "    \n",
    "    def __init__(self,employeeId, employeeRating):\n",
    "        \n",
    "        self.empId = employeeId\n",
    "        self.empRating = employeeRating\n",
    "        self.__bonusforRatingA = \"70%\" #making value private\n",
    "        self.__bonusforRatingB = \"60%\" #making value private\n",
    "        \n",
    "    def bonusCalculator(self):\n",
    "        \n",
    "        if self.empRating == 'A':\n",
    "            bonus = self.__bonusforRatingA\n",
    "            msg = \"Bonus for employee is: \" + bonus\n",
    "            return msg\n",
    "        else:\n",
    "            bonus = self.__bonusforRatingB\n",
    "            msg = \"Bonus for employee is: \" + bonus\n",
    "            return msg"
   ]
  },
  {
   "cell_type": "code",
   "execution_count": 63,
   "id": "07abd548",
   "metadata": {},
   "outputs": [],
   "source": [
    "emp1 = BonusDistribution(1232,'B')\n",
    "emp2 = BonusDistribution(1111,'A')\n",
    "emp3 = BonusDistribution(1000,'D')"
   ]
  },
  {
   "cell_type": "code",
   "execution_count": 64,
   "id": "9ff53c7b",
   "metadata": {},
   "outputs": [
    {
     "data": {
      "text/plain": [
       "'Bonus for employee is: 60%'"
      ]
     },
     "execution_count": 64,
     "metadata": {},
     "output_type": "execute_result"
    }
   ],
   "source": [
    "emp3.bonusCalculator()"
   ]
  },
  {
   "cell_type": "code",
   "execution_count": 65,
   "id": "e93db2e3",
   "metadata": {},
   "outputs": [
    {
     "data": {
      "text/plain": [
       "'Bonus for employee is: 70%'"
      ]
     },
     "execution_count": 65,
     "metadata": {},
     "output_type": "execute_result"
    }
   ],
   "source": [
    "emp2.bonusCalculator()"
   ]
  },
  {
   "cell_type": "code",
   "execution_count": 66,
   "id": "9e189a2e",
   "metadata": {},
   "outputs": [],
   "source": [
    "emp1 = BonusDistribution(1232,'B')"
   ]
  },
  {
   "cell_type": "code",
   "execution_count": 71,
   "id": "9db5f8af",
   "metadata": {},
   "outputs": [],
   "source": [
    "emp1._BonusDistribution__bonusforRatingB = \"100%\""
   ]
  },
  {
   "cell_type": "code",
   "execution_count": 72,
   "id": "be82d078",
   "metadata": {},
   "outputs": [
    {
     "data": {
      "text/plain": [
       "'Bonus for employee is: 100%'"
      ]
     },
     "execution_count": 72,
     "metadata": {},
     "output_type": "execute_result"
    }
   ],
   "source": [
    "emp1.bonusCalculator()"
   ]
  },
  {
   "cell_type": "code",
   "execution_count": 85,
   "id": "face5073",
   "metadata": {},
   "outputs": [],
   "source": [
    "class BonusDistribution:\n",
    "    \n",
    "    def __init__(self,employeeId, employeeRating):\n",
    "        \n",
    "        self.empId = employeeId\n",
    "        self.empRating = employeeRating\n",
    "        self.__bonusforRatingA = \"70%\" #making value private\n",
    "        self.__bonusforRatingB = \"60%\" #making value private\n",
    "        \n",
    "    def bonusCalculator(self):\n",
    "        \n",
    "        if self.empRating == 'A':\n",
    "            bonus = self.__bonusforRatingA\n",
    "            msg = \"Bonus for employee is: \" + bonus\n",
    "            return msg\n",
    "        else:\n",
    "            bonus = self.__bonusforRatingB\n",
    "            msg = \"Bonus for employee is: \" + bonus\n",
    "            return msg\n",
    "        \n",
    "    def changevariable(self, value):\n",
    "        self.__bonusforRatingB = str(value)+\"%\""
   ]
  },
  {
   "cell_type": "code",
   "execution_count": 86,
   "id": "b5f06cc2",
   "metadata": {},
   "outputs": [],
   "source": [
    "emp2 = BonusDistribution(1111,'D')"
   ]
  },
  {
   "cell_type": "code",
   "execution_count": 87,
   "id": "bf120f87",
   "metadata": {},
   "outputs": [],
   "source": [
    "emp2.changevariable(100)"
   ]
  },
  {
   "cell_type": "code",
   "execution_count": 90,
   "id": "c481b7d2",
   "metadata": {},
   "outputs": [
    {
     "data": {
      "text/plain": [
       "'Bonus for employee is: 100%'"
      ]
     },
     "execution_count": 90,
     "metadata": {},
     "output_type": "execute_result"
    }
   ],
   "source": [
    "emp2.bonusCalculator()"
   ]
  },
  {
   "cell_type": "code",
   "execution_count": 91,
   "id": "e08d62d9",
   "metadata": {},
   "outputs": [],
   "source": [
    "emp1 = BonusDistribution(1232,'D')"
   ]
  },
  {
   "cell_type": "code",
   "execution_count": 92,
   "id": "156d9f47",
   "metadata": {},
   "outputs": [
    {
     "data": {
      "text/plain": [
       "'Bonus for employee is: 60%'"
      ]
     },
     "execution_count": 92,
     "metadata": {},
     "output_type": "execute_result"
    }
   ],
   "source": [
    "emp1.bonusCalculator()"
   ]
  },
  {
   "cell_type": "code",
   "execution_count": 109,
   "id": "6a2ab899",
   "metadata": {},
   "outputs": [],
   "source": [
    "class multiplynumeric():\n",
    "    def __init__(self,a):\n",
    "        self.a = a\n",
    "        "
   ]
  },
  {
   "cell_type": "code",
   "execution_count": 110,
   "id": "98cce97e",
   "metadata": {},
   "outputs": [],
   "source": [
    "mul = multiplynumeric(9)"
   ]
  },
  {
   "cell_type": "code",
   "execution_count": 111,
   "id": "c3bdf109",
   "metadata": {},
   "outputs": [],
   "source": [
    "mul1 = multiplynumeric(2)"
   ]
  },
  {
   "cell_type": "code",
   "execution_count": 112,
   "id": "dee797c4",
   "metadata": {},
   "outputs": [
    {
     "ename": "TypeError",
     "evalue": "unsupported operand type(s) for *: 'multiplynumeric' and 'multiplynumeric'",
     "output_type": "error",
     "traceback": [
      "\u001b[1;31m---------------------------------------------------------------------------\u001b[0m",
      "\u001b[1;31mTypeError\u001b[0m                                 Traceback (most recent call last)",
      "\u001b[1;32m<ipython-input-112-5c2d38e00671>\u001b[0m in \u001b[0;36m<module>\u001b[1;34m\u001b[0m\n\u001b[1;32m----> 1\u001b[1;33m \u001b[0mmul\u001b[0m \u001b[1;33m*\u001b[0m \u001b[0mmul1\u001b[0m\u001b[1;33m\u001b[0m\u001b[1;33m\u001b[0m\u001b[0m\n\u001b[0m",
      "\u001b[1;31mTypeError\u001b[0m: unsupported operand type(s) for *: 'multiplynumeric' and 'multiplynumeric'"
     ]
    }
   ],
   "source": [
    "mul * mul1"
   ]
  },
  {
   "cell_type": "code",
   "execution_count": 113,
   "id": "421429a3",
   "metadata": {},
   "outputs": [
    {
     "data": {
      "text/plain": [
       "__main__.multiplynumeric"
      ]
     },
     "execution_count": 113,
     "metadata": {},
     "output_type": "execute_result"
    }
   ],
   "source": [
    "type(mul)"
   ]
  },
  {
   "cell_type": "code",
   "execution_count": 114,
   "id": "b954eb93",
   "metadata": {},
   "outputs": [
    {
     "data": {
      "text/plain": [
       "__main__.multiplynumeric"
      ]
     },
     "execution_count": 114,
     "metadata": {},
     "output_type": "execute_result"
    }
   ],
   "source": [
    "type(mul1)"
   ]
  },
  {
   "cell_type": "code",
   "execution_count": 115,
   "id": "87379fc5",
   "metadata": {},
   "outputs": [
    {
     "data": {
      "text/plain": [
       "18"
      ]
     },
     "execution_count": 115,
     "metadata": {},
     "output_type": "execute_result"
    }
   ],
   "source": [
    "mul.a * mul1.a"
   ]
  },
  {
   "cell_type": "code",
   "execution_count": 116,
   "id": "966dcba6",
   "metadata": {},
   "outputs": [
    {
     "data": {
      "text/plain": [
       "int"
      ]
     },
     "execution_count": 116,
     "metadata": {},
     "output_type": "execute_result"
    }
   ],
   "source": [
    "type(mul.a)"
   ]
  },
  {
   "cell_type": "code",
   "execution_count": 102,
   "id": "fac01da3",
   "metadata": {},
   "outputs": [
    {
     "data": {
      "text/plain": [
       "int"
      ]
     },
     "execution_count": 102,
     "metadata": {},
     "output_type": "execute_result"
    }
   ],
   "source": [
    "type(mul1.a)"
   ]
  },
  {
   "cell_type": "markdown",
   "id": "f212d278",
   "metadata": {},
   "source": [
    "## 3.6 Operator Overloading\n",
    "\n",
    "Operator Overloading means giving extended meaning beyond their predefined operational meaning. For example, operator + is used to add two integers as well as join two strings and merge two lists. It is achievable because ‘+’ operator is overloaded by int class and str class. You might have noticed that the same built-in operator or function shows different behavior for objects of different classes. This is called Operator Overloading. "
   ]
  },
  {
   "cell_type": "code",
   "execution_count": 3,
   "id": "d9b50473",
   "metadata": {},
   "outputs": [
    {
     "name": "stdout",
     "output_type": "stream",
     "text": [
      "3\n",
      "GeeksFor\n",
      "12\n",
      "GeeksGeeksGeeksGeeks\n"
     ]
    }
   ],
   "source": [
    "# Python program to show use of + operator for different purposes.\n",
    " \n",
    "print(1 + 2)\n",
    " \n",
    "# Concatenate two strings.\n",
    "\n",
    "print(\"Geeks\"+\"For\")\n",
    " \n",
    "# Product two numbers.\n",
    "print(3 * 4)\n",
    " \n",
    "# Repeat the string.\n",
    "\n",
    "print(\"Geeks\"*4)"
   ]
  },
  {
   "cell_type": "markdown",
   "id": "a66eab9a",
   "metadata": {},
   "source": [
    "**How to Overload the Operators?**\n",
    "\n",
    "Consider that we have two objects which are a physical representation of a class (user-defined data type) and we have to add two objects with binary ‘+’ operator it throws an error, because compiler don’t know how to add two objects. So we define a method for an operator and that process is called operator overloading. \n",
    "\n",
    "We can overload all existing operators, but we can’t create a new operator. To perform operator overloading, Python provides some special function or magic function that is automatically invoked when it is associated with that particular operator. For example, when we use + operator, the magic method __add__ is automatically invoked in which the operation for + operator is defined.\n",
    "\n",
    "**Overloading Binary + Operator:**\n",
    "\n",
    "When we use an operator on user-defined data types, then automatically a special function or magic function associated with that operator is invoked. Changing the behavior of the operator is as simple as changing the behavior of method or function. \n",
    "\n",
    "You define methods in your class and operators work according to that behavior defined in methods. When we use + operator, the magic method __add__ is automatically invoked in which the operation for + operator is defined. There by changing this magic method’s code, we can give extra meaning to the + operator. \n",
    "\n",
    "**Code 1:**"
   ]
  },
  {
   "cell_type": "code",
   "execution_count": 4,
   "id": "64c3f422",
   "metadata": {},
   "outputs": [
    {
     "name": "stdout",
     "output_type": "stream",
     "text": [
      "3\n",
      "GeeksFor\n"
     ]
    }
   ],
   "source": [
    "# Python Program illustrate how to overload an binary + operator.\n",
    " \n",
    "class A:\n",
    "    def __init__(self, a):\n",
    "        self.a = a\n",
    " \n",
    "    # Adding two objects.\n",
    "    def __add__(self, o):\n",
    "        return self.a + o.a\n",
    "ob1 = A(1)\n",
    "ob2 = A(2)\n",
    "ob3 = A(\"Geeks\")\n",
    "ob4 = A(\"For\")\n",
    " \n",
    "print(ob1 + ob2)\n",
    "print(ob3 + ob4)"
   ]
  },
  {
   "cell_type": "markdown",
   "id": "f4d0cb49",
   "metadata": {},
   "source": [
    "**Code 2:**"
   ]
  },
  {
   "cell_type": "code",
   "execution_count": 9,
   "id": "04e8387b",
   "metadata": {},
   "outputs": [
    {
     "name": "stdout",
     "output_type": "stream",
     "text": [
      "(3, 5)\n"
     ]
    }
   ],
   "source": [
    "# Python Program to perform addition of two complex numbers using binary + operator overloading.\n",
    " \n",
    "class complex:\n",
    "    def __init__(self, a, b):\n",
    "        self.a = a\n",
    "        self.b = b\n",
    " \n",
    "     # Adding two objects.\n",
    "    def __add__(self, other):\n",
    "        return self.a + other.a, self.b + other.b\n",
    " \n",
    "ob1 = complex(1, 2)\n",
    "ob2 = complex(2, 3)\n",
    "ob3 = ob1 + ob2\n",
    "print(ob3)"
   ]
  },
  {
   "cell_type": "markdown",
   "id": "aa3280b9",
   "metadata": {},
   "source": [
    "**Overloading Comparison Operators:**"
   ]
  },
  {
   "cell_type": "code",
   "execution_count": 6,
   "id": "54cf8132",
   "metadata": {},
   "outputs": [
    {
     "name": "stdout",
     "output_type": "stream",
     "text": [
      "ob2 is greater than ob1\n"
     ]
    }
   ],
   "source": [
    "# Python program to overload a comparison operators.\n",
    " \n",
    "class A:\n",
    "    def __init__(self, a):\n",
    "        self.a = a\n",
    "    def __gt__(self, other):\n",
    "        if(self.a>other.a):\n",
    "            return True\n",
    "        else:\n",
    "            return False\n",
    "ob1 = A(2)\n",
    "ob2 = A(3)\n",
    "if(ob1>ob2):\n",
    "    print(\"ob1 is greater than ob2\")\n",
    "else:\n",
    "    print(\"ob2 is greater than ob1\")"
   ]
  },
  {
   "cell_type": "markdown",
   "id": "933d5819",
   "metadata": {},
   "source": [
    "**Overloading Equality and Less than Operators:**"
   ]
  },
  {
   "cell_type": "code",
   "execution_count": 7,
   "id": "e49f3c46",
   "metadata": {},
   "outputs": [
    {
     "name": "stdout",
     "output_type": "stream",
     "text": [
      "ob1 is lessthan ob2\n",
      "Not equal\n"
     ]
    }
   ],
   "source": [
    "# Python program to overload equality and less than operators.\n",
    " \n",
    "class A:\n",
    "    def __init__(self, a):\n",
    "        self.a = a\n",
    "    def __lt__(self, other):\n",
    "        if(self.a<other.a):\n",
    "            return \"ob1 is lessthan ob2\"\n",
    "        else:\n",
    "            return \"ob2 is less than ob1\"\n",
    "    def __eq__(self, other):\n",
    "        if(self.a == other.a):\n",
    "            return \"Both are equal\"\n",
    "        else:\n",
    "            return \"Not equal\"\n",
    "                 \n",
    "ob1 = A(2)\n",
    "ob2 = A(3)\n",
    "print(ob1 < ob2)\n",
    " \n",
    "ob3 = A(4)\n",
    "ob4 = A(4)\n",
    "print(ob1 == ob2)"
   ]
  },
  {
   "cell_type": "markdown",
   "id": "91a8ed20",
   "metadata": {},
   "source": [
    "**Note:** It is not possible to change the number of operands of an operator. For example, you cannot overload an unary operator as a binary operator. The following code will throw a syntax error."
   ]
  },
  {
   "cell_type": "code",
   "execution_count": 8,
   "id": "91258e9e",
   "metadata": {},
   "outputs": [
    {
     "ename": "SyntaxError",
     "evalue": "invalid syntax (Temp/ipykernel_17424/2478111846.py, line 16)",
     "output_type": "error",
     "traceback": [
      "\u001b[1;36m  File \u001b[1;32m\"C:\\Users\\SIDDHA~1\\AppData\\Local\\Temp/ipykernel_17424/2478111846.py\"\u001b[1;36m, line \u001b[1;32m16\u001b[0m\n\u001b[1;33m    print(ob1~ob2)\u001b[0m\n\u001b[1;37m             ^\u001b[0m\n\u001b[1;31mSyntaxError\u001b[0m\u001b[1;31m:\u001b[0m invalid syntax\n"
     ]
    }
   ],
   "source": [
    "# Python program which attempts to overload ~ operator as binary operator.\n",
    " \n",
    "class A:\n",
    "    def __init__(self, a):\n",
    "        self.a = a\n",
    " \n",
    "    # Overloading ~ operator, but with two operands.\n",
    "    def __invert__(self, other):\n",
    "        return \"This is the ~ operator, overloaded as binary operator.\"\n",
    " \n",
    " \n",
    "ob1 = A(2)\n",
    "ob2 = A(3)\n",
    " \n",
    "print(ob1~ob2)"
   ]
  },
  {
   "cell_type": "markdown",
   "id": "52882f3f",
   "metadata": {},
   "source": [
    "# Practice"
   ]
  },
  {
   "cell_type": "code",
   "execution_count": 130,
   "id": "80086221",
   "metadata": {},
   "outputs": [],
   "source": [
    "class multiplynumeric():\n",
    "    def __init__(self,a):\n",
    "        self.a = a\n",
    "        \n",
    "    def __mul__(self,other):\n",
    "        return self.a + other.a"
   ]
  },
  {
   "cell_type": "code",
   "execution_count": 131,
   "id": "5b888558",
   "metadata": {},
   "outputs": [],
   "source": [
    "mul5 = multiplynumeric(10)\n",
    "mul6 = multiplynumeric(9)"
   ]
  },
  {
   "cell_type": "code",
   "execution_count": 132,
   "id": "c362f31e",
   "metadata": {},
   "outputs": [
    {
     "data": {
      "text/plain": [
       "19"
      ]
     },
     "execution_count": 132,
     "metadata": {},
     "output_type": "execute_result"
    }
   ],
   "source": [
    "mul5 * mul6"
   ]
  },
  {
   "cell_type": "code",
   "execution_count": 133,
   "id": "d8cd158b",
   "metadata": {},
   "outputs": [],
   "source": [
    "mu5 = multiplynumeric(10)\n",
    "mu6 = multiplynumeric(9)"
   ]
  },
  {
   "cell_type": "code",
   "execution_count": 136,
   "id": "0999e9db",
   "metadata": {},
   "outputs": [],
   "source": [
    "class multiplynumeric():\n",
    "    def __init__(self,a):\n",
    "        self.a = a\n",
    "        \n",
    "    def __add__(self,other):\n",
    "        return self.a * other.a"
   ]
  },
  {
   "cell_type": "code",
   "execution_count": 137,
   "id": "c2b513fa",
   "metadata": {},
   "outputs": [],
   "source": [
    "mul5 = multiplynumeric(10)\n",
    "mul6 = multiplynumeric(9)"
   ]
  },
  {
   "cell_type": "code",
   "execution_count": 138,
   "id": "0b527301",
   "metadata": {},
   "outputs": [
    {
     "name": "stdout",
     "output_type": "stream",
     "text": [
      "90\n"
     ]
    }
   ],
   "source": [
    "print(mul5 + mul6)"
   ]
  }
 ],
 "metadata": {
  "kernelspec": {
   "display_name": "Python 3 (ipykernel)",
   "language": "python",
   "name": "python3"
  },
  "language_info": {
   "codemirror_mode": {
    "name": "ipython",
    "version": 3
   },
   "file_extension": ".py",
   "mimetype": "text/x-python",
   "name": "python",
   "nbconvert_exporter": "python",
   "pygments_lexer": "ipython3",
   "version": "3.9.13"
  }
 },
 "nbformat": 4,
 "nbformat_minor": 5
}
