{
 "cells": [
  {
   "cell_type": "markdown",
   "id": "b6615c3b",
   "metadata": {},
   "source": [
    "# 1. Strings\n",
    "\n",
    "## 1.1 Introduction\n",
    "\n",
    "Strings in python are surrounded by either single quotation marks, or double quotation marks.\n",
    "\n",
    "'hello' is the same as \"hello\".\n",
    "\n",
    "You can display a string literal with the print() function."
   ]
  },
  {
   "cell_type": "code",
   "execution_count": 153,
   "id": "b67a81f0",
   "metadata": {},
   "outputs": [
    {
     "name": "stdout",
     "output_type": "stream",
     "text": [
      "Hello\n",
      "Hello\n"
     ]
    }
   ],
   "source": [
    "print(\"Hello\")\n",
    "\n",
    "print('Hello')"
   ]
  },
  {
   "cell_type": "markdown",
   "id": "da23b316",
   "metadata": {},
   "source": [
    "## 1.2 Assigning String to a Variable\n",
    "\n",
    "Assigning a string to a variable is done with the variable name followed by an equal sign and the string."
   ]
  },
  {
   "cell_type": "code",
   "execution_count": 154,
   "id": "afe66c6f",
   "metadata": {},
   "outputs": [
    {
     "name": "stdout",
     "output_type": "stream",
     "text": [
      "Hello\n"
     ]
    }
   ],
   "source": [
    "a = \"Hello\"\n",
    "\n",
    "print(a)"
   ]
  },
  {
   "cell_type": "markdown",
   "id": "2acac9a1",
   "metadata": {},
   "source": [
    "## 1.3 Multiline Strings\n",
    "\n",
    "You can assign a multiline string to a variable by using three quotes."
   ]
  },
  {
   "cell_type": "code",
   "execution_count": 1,
   "id": "4c49920b",
   "metadata": {},
   "outputs": [
    {
     "name": "stdout",
     "output_type": "stream",
     "text": [
      "Lorem ipsum dolor sit amet,\n",
      "consectetur adipiscing elit,\n",
      "sed do eiusmod tempor incididunt\n",
      "ut labore et dolore magna aliqua.\n"
     ]
    }
   ],
   "source": [
    "# You can use three double quotes.\n",
    "\n",
    "a = \"\"\"Lorem ipsum dolor sit amet,\n",
    "consectetur adipiscing elit,\n",
    "sed do eiusmod tempor incididunt\n",
    "ut labore et dolore magna aliqua.\"\"\"\n",
    "\n",
    "print(a)"
   ]
  },
  {
   "cell_type": "markdown",
   "id": "28337d9b",
   "metadata": {},
   "source": [
    "Or three single quotes."
   ]
  },
  {
   "cell_type": "code",
   "execution_count": 156,
   "id": "38662c72",
   "metadata": {},
   "outputs": [
    {
     "name": "stdout",
     "output_type": "stream",
     "text": [
      "Lorem ipsum dolor sit amet,\n",
      "consectetur adipiscing elit,\n",
      "sed do eiusmod tempor incididunt\n",
      "ut labore et dolore magna aliqua.\n"
     ]
    }
   ],
   "source": [
    "a = '''Lorem ipsum dolor sit amet,\n",
    "consectetur adipiscing elit,\n",
    "sed do eiusmod tempor incididunt\n",
    "ut labore et dolore magna aliqua.'''\n",
    "\n",
    "print(a)"
   ]
  },
  {
   "cell_type": "code",
   "execution_count": 157,
   "id": "46ccb500",
   "metadata": {},
   "outputs": [
    {
     "data": {
      "text/plain": [
       "'Lorem ipsum dolor sit amet,\\nconsectetur adipiscing elit,\\nsed do eiusmod tempor incididunt\\nut labore et dolore magna aliqua.'"
      ]
     },
     "execution_count": 157,
     "metadata": {},
     "output_type": "execute_result"
    }
   ],
   "source": [
    "a"
   ]
  },
  {
   "cell_type": "markdown",
   "id": "f1866029",
   "metadata": {},
   "source": [
    "**Note : in the result, the line breaks are inserted at the same position as in the code.**"
   ]
  },
  {
   "cell_type": "markdown",
   "id": "9cbd714c",
   "metadata": {},
   "source": [
    "## 1.4 Strings are Arrays\n",
    "\n",
    "Like many other popular programming languages, strings in Python are arrays of bytes representing unicode characters.\n",
    "\n",
    "However, Python does not have a character data type, a single character is simply a string with a length of 1.\n",
    "\n",
    "Square brackets can be used to access elements of the string."
   ]
  },
  {
   "cell_type": "code",
   "execution_count": 158,
   "id": "ab6446d2",
   "metadata": {},
   "outputs": [
    {
     "name": "stdout",
     "output_type": "stream",
     "text": [
      "e\n"
     ]
    }
   ],
   "source": [
    "# Get the character at position 1 (remember that the first character has the position 0).\n",
    "\n",
    "a = \"Hello, World!\"\n",
    "\n",
    "print(a[1])"
   ]
  },
  {
   "cell_type": "markdown",
   "id": "120b1abe",
   "metadata": {},
   "source": [
    "## 1.5 Looping Through a String\n",
    "\n",
    "Since strings are arrays, we can loop through the characters in a string, with a for loop."
   ]
  },
  {
   "cell_type": "code",
   "execution_count": 159,
   "id": "1d8ecbfc",
   "metadata": {},
   "outputs": [
    {
     "name": "stdout",
     "output_type": "stream",
     "text": [
      "b\n",
      "a\n",
      "n\n",
      "a\n",
      "n\n",
      "a\n"
     ]
    }
   ],
   "source": [
    "# Loop through the letters in the word \"banana\".\n",
    "\n",
    "for x in \"banana\":\n",
    "  print(x)"
   ]
  },
  {
   "cell_type": "markdown",
   "id": "09b45964",
   "metadata": {},
   "source": [
    "## 1.6 String Length\n",
    "\n",
    "To get the length of a string, use the len() function."
   ]
  },
  {
   "cell_type": "code",
   "execution_count": 160,
   "id": "cafa7651",
   "metadata": {},
   "outputs": [
    {
     "name": "stdout",
     "output_type": "stream",
     "text": [
      "13\n"
     ]
    }
   ],
   "source": [
    "# The len() function returns the length of a string.\n",
    "\n",
    "a = \"Hello, World!\"\n",
    "\n",
    "print(len(a))"
   ]
  },
  {
   "cell_type": "markdown",
   "id": "cfb4795c",
   "metadata": {},
   "source": [
    "## 1.7 Check String\n",
    "\n",
    "To check if a certain phrase or character is present in a string, we can use the keyword in."
   ]
  },
  {
   "cell_type": "code",
   "execution_count": 161,
   "id": "be8e8fcd",
   "metadata": {},
   "outputs": [
    {
     "name": "stdout",
     "output_type": "stream",
     "text": [
      "True\n"
     ]
    }
   ],
   "source": [
    "# Check if \"free\" is present in the following text.\n",
    "\n",
    "txt = \"The best things in life are free!\"\n",
    "\n",
    "print(\"free\" in txt)"
   ]
  },
  {
   "cell_type": "markdown",
   "id": "925c0e07",
   "metadata": {},
   "source": [
    "Use it in an if statement."
   ]
  },
  {
   "cell_type": "code",
   "execution_count": 162,
   "id": "8f319eef",
   "metadata": {},
   "outputs": [
    {
     "name": "stdout",
     "output_type": "stream",
     "text": [
      "Yes, 'free' is present.\n"
     ]
    }
   ],
   "source": [
    "# Print only if \"free\" is present.\n",
    "\n",
    "txt = \"The best things in life are free!\"\n",
    "\n",
    "if \"free\" in txt:\n",
    "  print(\"Yes, 'free' is present.\")"
   ]
  },
  {
   "cell_type": "markdown",
   "id": "7f8dfe19",
   "metadata": {},
   "source": [
    "## 1.8 Check if NOT\n",
    "\n",
    "To check if a certain phrase or character is NOT present in a string, we can use the keyword not in."
   ]
  },
  {
   "cell_type": "code",
   "execution_count": 163,
   "id": "fe0b72b5",
   "metadata": {},
   "outputs": [
    {
     "name": "stdout",
     "output_type": "stream",
     "text": [
      "True\n"
     ]
    }
   ],
   "source": [
    "# Check if \"expensive\" is NOT present in the following text.\n",
    "\n",
    "txt = \"The best things in life are free!\"\n",
    "\n",
    "print(\"expensive\" not in txt)"
   ]
  },
  {
   "cell_type": "markdown",
   "id": "79e490c1",
   "metadata": {},
   "source": [
    "Use it in an if statement."
   ]
  },
  {
   "cell_type": "code",
   "execution_count": 164,
   "id": "613b931f",
   "metadata": {},
   "outputs": [
    {
     "name": "stdout",
     "output_type": "stream",
     "text": [
      "No, 'expensive' is NOT present.\n"
     ]
    }
   ],
   "source": [
    "# print only if \"expensive\" is NOT present.\n",
    "\n",
    "txt = \"The best things in life are free!\"\n",
    "\n",
    "if \"expensive\" not in txt:\n",
    "  print(\"No, 'expensive' is NOT present.\")"
   ]
  },
  {
   "cell_type": "markdown",
   "id": "7143943b",
   "metadata": {},
   "source": [
    "# 2. Slicing Strings\n",
    "\n",
    "## 2.1 Slicing\n",
    "\n",
    "You can return a range of characters by using the slice syntax.\n",
    "\n",
    "Specify the start index and the end index, separated by a colon, to return a part of the string."
   ]
  },
  {
   "cell_type": "code",
   "execution_count": 166,
   "id": "a0b17924",
   "metadata": {},
   "outputs": [
    {
     "name": "stdout",
     "output_type": "stream",
     "text": [
      "llo\n"
     ]
    }
   ],
   "source": [
    "# Get the characters from position 2 to position 5 (not included).\n",
    "\n",
    "# Note: The first character has index 0.\n",
    "\n",
    "b = \"Hello, World!\"\n",
    "\n",
    "print(b[2:5])"
   ]
  },
  {
   "cell_type": "markdown",
   "id": "273c837a",
   "metadata": {},
   "source": [
    "## 2.2 From the Start\n",
    "\n",
    "By leaving out the start index, the range will start at the first character."
   ]
  },
  {
   "cell_type": "code",
   "execution_count": 167,
   "id": "35fbb396",
   "metadata": {},
   "outputs": [
    {
     "name": "stdout",
     "output_type": "stream",
     "text": [
      "Hello\n"
     ]
    }
   ],
   "source": [
    "# Get the characters from the start to position 5 (not included).\n",
    "\n",
    "b = \"Hello, World!\"\n",
    "\n",
    "print(b[:5])"
   ]
  },
  {
   "cell_type": "markdown",
   "id": "baef5374",
   "metadata": {},
   "source": [
    "## 2.3 To the End\n",
    "\n",
    "By leaving out the end index, the range will go to the end."
   ]
  },
  {
   "cell_type": "code",
   "execution_count": 168,
   "id": "f31c9bbc",
   "metadata": {},
   "outputs": [
    {
     "name": "stdout",
     "output_type": "stream",
     "text": [
      "llo, World!\n"
     ]
    }
   ],
   "source": [
    "# Get the characters from position 2, and all the way to the end.\n",
    "\n",
    "b = \"Hello, World!\"\n",
    "\n",
    "print(b[2:])"
   ]
  },
  {
   "cell_type": "markdown",
   "id": "bdb5513e",
   "metadata": {},
   "source": [
    "## 2.4 Negative Indexing\n",
    "\n",
    "Use negative indexes to start the slice from the end of the string.\n",
    "\n",
    "Get the characters from \"o\" in \"World!\" (position -5) to, but not included: \"d\" in \"World!\" (position -2)."
   ]
  },
  {
   "cell_type": "code",
   "execution_count": 169,
   "id": "3fc872d3",
   "metadata": {},
   "outputs": [
    {
     "name": "stdout",
     "output_type": "stream",
     "text": [
      "orl\n"
     ]
    }
   ],
   "source": [
    "b = \"Hello, World!\"\n",
    "\n",
    "print(b[-5:-2])"
   ]
  },
  {
   "cell_type": "markdown",
   "id": "47f6da0f",
   "metadata": {},
   "source": [
    "# 3. Modifying Strings\n",
    "\n",
    "Python has a set of built-in methods that you can use on strings."
   ]
  },
  {
   "cell_type": "markdown",
   "id": "e6d2599f",
   "metadata": {},
   "source": [
    "## 3.1 Upper Case\n",
    "\n",
    "The upper() method returns the string in upper case."
   ]
  },
  {
   "cell_type": "code",
   "execution_count": 170,
   "id": "b96c0907",
   "metadata": {},
   "outputs": [
    {
     "name": "stdout",
     "output_type": "stream",
     "text": [
      "HELLO, WORLD!\n"
     ]
    }
   ],
   "source": [
    "a = \"Hello, World!\"\n",
    "\n",
    "print(a.upper())"
   ]
  },
  {
   "cell_type": "markdown",
   "id": "447fc907",
   "metadata": {},
   "source": [
    "## 3.2 Lower Case\n",
    "\n",
    "The lower() method returns the string in lower case."
   ]
  },
  {
   "cell_type": "code",
   "execution_count": 171,
   "id": "461b3c70",
   "metadata": {},
   "outputs": [
    {
     "name": "stdout",
     "output_type": "stream",
     "text": [
      "hello, world!\n"
     ]
    }
   ],
   "source": [
    "a = \"Hello, World!\"\n",
    "\n",
    "print(a.lower())"
   ]
  },
  {
   "cell_type": "markdown",
   "id": "2395d469",
   "metadata": {},
   "source": [
    "## 3.3 Removing Whitespace\n",
    "\n",
    "Whitespace is the space before and/or after the actual text, and very often you want to remove this space."
   ]
  },
  {
   "cell_type": "code",
   "execution_count": 172,
   "id": "366d2f74",
   "metadata": {},
   "outputs": [
    {
     "name": "stdout",
     "output_type": "stream",
     "text": [
      "Hello, World!\n"
     ]
    }
   ],
   "source": [
    "# The strip() method removes any whitespace from the beginning or the end.\n",
    "\n",
    "a = \" Hello, World! \"\n",
    "\n",
    "print(a.strip()) # returns \"Hello, World!\""
   ]
  },
  {
   "cell_type": "markdown",
   "id": "001eca23",
   "metadata": {},
   "source": [
    "## 3.4 Replacing String\n",
    "\n",
    "The replace() method replaces a string with another string."
   ]
  },
  {
   "cell_type": "code",
   "execution_count": 173,
   "id": "f54dcb9f",
   "metadata": {},
   "outputs": [
    {
     "name": "stdout",
     "output_type": "stream",
     "text": [
      "Jello, World!\n"
     ]
    }
   ],
   "source": [
    "a = \"Hello, World!\"\n",
    "\n",
    "print(a.replace(\"H\", \"J\"))"
   ]
  },
  {
   "cell_type": "markdown",
   "id": "1fbaf5b4",
   "metadata": {},
   "source": [
    "## 3.5 Splitting String\n",
    "\n",
    "The split() method returns a list where the text between the specified separator becomes the list items.\n",
    "\n",
    "It splits the string into substrings if it finds instances of the separator."
   ]
  },
  {
   "cell_type": "code",
   "execution_count": 174,
   "id": "38479a95",
   "metadata": {},
   "outputs": [
    {
     "name": "stdout",
     "output_type": "stream",
     "text": [
      "['Hello', ' World!']\n"
     ]
    }
   ],
   "source": [
    "a = \"Hello, World!\"\n",
    "\n",
    "print(a.split(\",\")) # returns ['Hello', ' World!']"
   ]
  },
  {
   "cell_type": "markdown",
   "id": "430723ab",
   "metadata": {},
   "source": [
    "# 4. String Concatenation\n",
    "\n",
    "To concatenate, or combine, two strings you can use the + operator.\n",
    "\n"
   ]
  },
  {
   "cell_type": "code",
   "execution_count": 175,
   "id": "b30bcbe6",
   "metadata": {},
   "outputs": [
    {
     "name": "stdout",
     "output_type": "stream",
     "text": [
      "HelloWorld\n"
     ]
    }
   ],
   "source": [
    "# Merge variable a with variable b into variable c.\n",
    "\n",
    "a = \"Hello\"\n",
    "\n",
    "b = \"World\"\n",
    "\n",
    "c = a + b\n",
    "\n",
    "print(c)"
   ]
  },
  {
   "cell_type": "code",
   "execution_count": 176,
   "id": "f9250519",
   "metadata": {},
   "outputs": [
    {
     "name": "stdout",
     "output_type": "stream",
     "text": [
      "Hello World\n"
     ]
    }
   ],
   "source": [
    "# To add a space between them, add a \" \".\n",
    "\n",
    "a = \"Hello\"\n",
    "\n",
    "b = \"World\"\n",
    "\n",
    "c = a + \" \" + b\n",
    "\n",
    "print(c)"
   ]
  },
  {
   "cell_type": "code",
   "execution_count": 86,
   "id": "a1f319aa",
   "metadata": {},
   "outputs": [
    {
     "name": "stdout",
     "output_type": "stream",
     "text": [
      "15\n"
     ]
    }
   ],
   "source": [
    "# For numbers, the + character works as a mathematical operator.\n",
    "\n",
    "x = 5\n",
    "\n",
    "y = 10\n",
    "\n",
    "print(x + y)"
   ]
  },
  {
   "cell_type": "code",
   "execution_count": 87,
   "id": "cc2ff8a6",
   "metadata": {},
   "outputs": [
    {
     "ename": "TypeError",
     "evalue": "unsupported operand type(s) for +: 'int' and 'str'",
     "output_type": "error",
     "traceback": [
      "\u001b[1;31m---------------------------------------------------------------------------\u001b[0m",
      "\u001b[1;31mTypeError\u001b[0m                                 Traceback (most recent call last)",
      "\u001b[1;32m<ipython-input-87-4a2a4b3f0db3>\u001b[0m in \u001b[0;36m<module>\u001b[1;34m\u001b[0m\n\u001b[0;32m      3\u001b[0m \u001b[0mx\u001b[0m \u001b[1;33m=\u001b[0m \u001b[1;36m5\u001b[0m\u001b[1;33m\u001b[0m\u001b[1;33m\u001b[0m\u001b[0m\n\u001b[0;32m      4\u001b[0m \u001b[0my\u001b[0m \u001b[1;33m=\u001b[0m \u001b[1;34m\"John\"\u001b[0m\u001b[1;33m\u001b[0m\u001b[1;33m\u001b[0m\u001b[0m\n\u001b[1;32m----> 5\u001b[1;33m \u001b[0mprint\u001b[0m\u001b[1;33m(\u001b[0m\u001b[0mx\u001b[0m \u001b[1;33m+\u001b[0m \u001b[0my\u001b[0m\u001b[1;33m)\u001b[0m\u001b[1;33m\u001b[0m\u001b[1;33m\u001b[0m\u001b[0m\n\u001b[0m",
      "\u001b[1;31mTypeError\u001b[0m: unsupported operand type(s) for +: 'int' and 'str'"
     ]
    }
   ],
   "source": [
    "# If you try to combine a string and a number, Python will give you an error.\n",
    "\n",
    "x = 5\n",
    "\n",
    "y = \"John\"\n",
    "\n",
    "print(x + y)"
   ]
  },
  {
   "cell_type": "code",
   "execution_count": 1,
   "id": "8a949465",
   "metadata": {},
   "outputs": [
    {
     "ename": "TypeError",
     "evalue": "unsupported operand type(s) for +: 'int' and 'str'",
     "output_type": "error",
     "traceback": [
      "\u001b[1;31m---------------------------------------------------------------------------\u001b[0m",
      "\u001b[1;31mTypeError\u001b[0m                                 Traceback (most recent call last)",
      "\u001b[1;32m<ipython-input-1-9ff9c55dba19>\u001b[0m in \u001b[0;36m<module>\u001b[1;34m\u001b[0m\n\u001b[1;32m----> 1\u001b[1;33m \u001b[1;36m1\u001b[0m \u001b[1;33m+\u001b[0m \u001b[1;34m\"23\"\u001b[0m\u001b[1;33m\u001b[0m\u001b[1;33m\u001b[0m\u001b[0m\n\u001b[0m",
      "\u001b[1;31mTypeError\u001b[0m: unsupported operand type(s) for +: 'int' and 'str'"
     ]
    }
   ],
   "source": [
    "1 + \"23\""
   ]
  },
  {
   "cell_type": "code",
   "execution_count": null,
   "id": "43600f04",
   "metadata": {},
   "outputs": [],
   "source": [
    "# You solve this by converting all strings to integers using the int() method \n",
    "# before performing a mathematical operation.\n",
    "\n",
    "1 + int(\"23\")"
   ]
  },
  {
   "cell_type": "code",
   "execution_count": 89,
   "id": "d5c9c923",
   "metadata": {},
   "outputs": [
    {
     "data": {
      "text/plain": [
       "'HelloHelloHelloHelloHello'"
      ]
     },
     "execution_count": 89,
     "metadata": {},
     "output_type": "execute_result"
    }
   ],
   "source": [
    "a = \"Hello\"\n",
    "\n",
    "a * 5"
   ]
  },
  {
   "cell_type": "code",
   "execution_count": 91,
   "id": "fbcd67b0",
   "metadata": {
    "scrolled": true
   },
   "outputs": [
    {
     "ename": "TypeError",
     "evalue": "unsupported operand type(s) for -: 'str' and 'str'",
     "output_type": "error",
     "traceback": [
      "\u001b[1;31m---------------------------------------------------------------------------\u001b[0m",
      "\u001b[1;31mTypeError\u001b[0m                                 Traceback (most recent call last)",
      "\u001b[1;32m<ipython-input-91-f8e1d2e136a8>\u001b[0m in \u001b[0;36m<module>\u001b[1;34m\u001b[0m\n\u001b[0;32m      1\u001b[0m \u001b[0ma\u001b[0m \u001b[1;33m=\u001b[0m \u001b[1;34m\"Hello\"\u001b[0m\u001b[1;33m\u001b[0m\u001b[1;33m\u001b[0m\u001b[0m\n\u001b[0;32m      2\u001b[0m \u001b[0mb\u001b[0m \u001b[1;33m=\u001b[0m \u001b[1;34m\"Bye\"\u001b[0m\u001b[1;33m\u001b[0m\u001b[1;33m\u001b[0m\u001b[0m\n\u001b[1;32m----> 3\u001b[1;33m \u001b[0ma\u001b[0m \u001b[1;33m-\u001b[0m \u001b[0mb\u001b[0m\u001b[1;33m\u001b[0m\u001b[1;33m\u001b[0m\u001b[0m\n\u001b[0m",
      "\u001b[1;31mTypeError\u001b[0m: unsupported operand type(s) for -: 'str' and 'str'"
     ]
    }
   ],
   "source": [
    "a = \"Hello\"\n",
    "\n",
    "b = \"Bye\"\n",
    "\n",
    "a - b"
   ]
  },
  {
   "cell_type": "markdown",
   "id": "7c47adf8",
   "metadata": {},
   "source": [
    "# 5. String Format\n",
    "\n",
    "Strings and numbers cannot be combined like this."
   ]
  },
  {
   "cell_type": "code",
   "execution_count": 177,
   "id": "1724ebf6",
   "metadata": {},
   "outputs": [
    {
     "ename": "TypeError",
     "evalue": "can only concatenate str (not \"int\") to str",
     "output_type": "error",
     "traceback": [
      "\u001b[1;31m---------------------------------------------------------------------------\u001b[0m",
      "\u001b[1;31mTypeError\u001b[0m                                 Traceback (most recent call last)",
      "\u001b[1;32m<ipython-input-177-4d1b227cff41>\u001b[0m in \u001b[0;36m<module>\u001b[1;34m\u001b[0m\n\u001b[0;32m      1\u001b[0m \u001b[0mage\u001b[0m \u001b[1;33m=\u001b[0m \u001b[1;36m36\u001b[0m\u001b[1;33m\u001b[0m\u001b[1;33m\u001b[0m\u001b[0m\n\u001b[1;32m----> 2\u001b[1;33m \u001b[0mtxt\u001b[0m \u001b[1;33m=\u001b[0m \u001b[1;34m\"My name is John, I am \"\u001b[0m \u001b[1;33m+\u001b[0m \u001b[0mage\u001b[0m\u001b[1;33m\u001b[0m\u001b[1;33m\u001b[0m\u001b[0m\n\u001b[0m\u001b[0;32m      3\u001b[0m \u001b[0mprint\u001b[0m\u001b[1;33m(\u001b[0m\u001b[0mtxt\u001b[0m\u001b[1;33m)\u001b[0m\u001b[1;33m\u001b[0m\u001b[1;33m\u001b[0m\u001b[0m\n",
      "\u001b[1;31mTypeError\u001b[0m: can only concatenate str (not \"int\") to str"
     ]
    }
   ],
   "source": [
    "age = 36\n",
    "\n",
    "txt = \"My name is John, I am \" + age\n",
    "\n",
    "print(txt)"
   ]
  },
  {
   "cell_type": "markdown",
   "id": "e5e86960",
   "metadata": {},
   "source": [
    "But we can combine strings and numbers by using the format() method!\n",
    "\n",
    "The format() method takes the passed arguments, formats them, and places them in the string where the placeholders {} are."
   ]
  },
  {
   "cell_type": "code",
   "execution_count": 178,
   "id": "83fa9cb0",
   "metadata": {},
   "outputs": [
    {
     "name": "stdout",
     "output_type": "stream",
     "text": [
      "My name is John, and I am 36\n"
     ]
    }
   ],
   "source": [
    "# Use the format() method to insert numbers into strings.\n",
    "\n",
    "age = 36\n",
    "\n",
    "txt = \"My name is John, and I am {}\"\n",
    "\n",
    "print(txt.format(age))"
   ]
  },
  {
   "cell_type": "markdown",
   "id": "b655563a",
   "metadata": {},
   "source": [
    "The format() method takes unlimited number of arguments, and are placed into the respective placeholders."
   ]
  },
  {
   "cell_type": "code",
   "execution_count": 179,
   "id": "5e40119e",
   "metadata": {},
   "outputs": [
    {
     "name": "stdout",
     "output_type": "stream",
     "text": [
      "I want 3 pieces of item 567 for 49.95 dollars.\n"
     ]
    }
   ],
   "source": [
    "quantity = 3\n",
    "\n",
    "itemno = 567\n",
    "\n",
    "price = 49.95\n",
    "\n",
    "myorder = \"I want {} pieces of item {} for {} dollars.\"\n",
    "\n",
    "print(myorder.format(quantity, itemno, price))"
   ]
  },
  {
   "cell_type": "markdown",
   "id": "8c97cddb",
   "metadata": {},
   "source": [
    "You can use index numbers {0} to be sure the arguments are placed in the correct placeholders."
   ]
  },
  {
   "cell_type": "code",
   "execution_count": 180,
   "id": "287a5605",
   "metadata": {},
   "outputs": [
    {
     "name": "stdout",
     "output_type": "stream",
     "text": [
      "I want to pay 49.95 dollars for 3 pieces of item 567.\n"
     ]
    }
   ],
   "source": [
    "quantity = 3\n",
    "\n",
    "itemno = 567\n",
    "\n",
    "price = 49.95\n",
    "\n",
    "myorder = \"I want to pay {2} dollars for {0} pieces of item {1}.\"\n",
    "\n",
    "print(myorder.format(quantity, itemno, price))"
   ]
  },
  {
   "cell_type": "markdown",
   "id": "d0d74d77",
   "metadata": {},
   "source": [
    "# 6. Escape Character\n",
    "\n",
    "To insert characters that are illegal in a string, use an escape character.\n",
    "\n",
    "An escape character is a backslash \\ followed by the character you want to insert.\n",
    "\n",
    "An example of an illegal character is a double quote inside a string that is surrounded by double quotes.\n",
    "\n",
    "You will get an error if you use double quotes inside a string that is surrounded by double quotes."
   ]
  },
  {
   "cell_type": "code",
   "execution_count": 181,
   "id": "0873885a",
   "metadata": {},
   "outputs": [
    {
     "ename": "SyntaxError",
     "evalue": "invalid syntax (<ipython-input-181-56cdf4283a8e>, line 1)",
     "output_type": "error",
     "traceback": [
      "\u001b[1;36m  File \u001b[1;32m\"<ipython-input-181-56cdf4283a8e>\"\u001b[1;36m, line \u001b[1;32m1\u001b[0m\n\u001b[1;33m    txt = \"We are the so-called \"Vikings\" from the north.\"\u001b[0m\n\u001b[1;37m                                 ^\u001b[0m\n\u001b[1;31mSyntaxError\u001b[0m\u001b[1;31m:\u001b[0m invalid syntax\n"
     ]
    }
   ],
   "source": [
    "txt = \"We are the so-called \"Vikings\" from the north.\""
   ]
  },
  {
   "cell_type": "markdown",
   "id": "6e753ab7",
   "metadata": {},
   "source": [
    "To fix this problem, use the escape character.\n",
    "\n",
    "The escape character allows you to use double quotes when you normally would not be allowed."
   ]
  },
  {
   "cell_type": "code",
   "execution_count": 182,
   "id": "2e6e6d38",
   "metadata": {},
   "outputs": [
    {
     "data": {
      "text/plain": [
       "'We are the so-called \"Vikings\" from the north.'"
      ]
     },
     "execution_count": 182,
     "metadata": {},
     "output_type": "execute_result"
    }
   ],
   "source": [
    "txt = \"We are the so-called \\\"Vikings\\\" from the north.\"\n",
    "\n",
    "txt"
   ]
  },
  {
   "attachments": {
    "image-2.png": {
     "image/png": "[encoded data removed]"
    }
   },
   "cell_type": "markdown",
   "id": "fa00b4e0",
   "metadata": {},
   "source": [
    "![image-2.png](attachment:image-2.png)"
   ]
  },
  {
   "cell_type": "markdown",
   "id": "7b4d1d0a",
   "metadata": {},
   "source": [
    "# 7. String Methods\n",
    "\n",
    "Python has a set of built-in methods that you can use on strings.\n",
    "\n",
    "**Note : All string methods returns new values. They do not change the original string.**"
   ]
  },
  {
   "attachments": {
    "image.png": {
     "image/png": "[encoded data removed]"
    }
   },
   "cell_type": "markdown",
   "id": "cee97290",
   "metadata": {},
   "source": [
    "![image.png](attachment:image.png)"
   ]
  },
  {
   "attachments": {
    "image.png": {
     "image/png": "[encoded data removed]"
    }
   },
   "cell_type": "markdown",
   "id": "d073889c",
   "metadata": {},
   "source": [
    "![image.png](attachment:image.png)"
   ]
  },
  {
   "cell_type": "markdown",
   "id": "7ee0db1b",
   "metadata": {},
   "source": [
    "## Practice"
   ]
  },
  {
   "cell_type": "code",
   "execution_count": 15,
   "id": "75b18a2c",
   "metadata": {},
   "outputs": [],
   "source": [
    "# Create a string.\n",
    "\n",
    "s = \"siddharth\""
   ]
  },
  {
   "cell_type": "code",
   "execution_count": 16,
   "id": "152794a9",
   "metadata": {},
   "outputs": [
    {
     "data": {
      "text/plain": [
       "str"
      ]
     },
     "execution_count": 16,
     "metadata": {},
     "output_type": "execute_result"
    }
   ],
   "source": [
    "# Type of variable s.\n",
    "\n",
    "type(s)"
   ]
  },
  {
   "cell_type": "code",
   "execution_count": 17,
   "id": "6968f0fa",
   "metadata": {},
   "outputs": [
    {
     "data": {
      "text/plain": [
       "9"
      ]
     },
     "execution_count": 17,
     "metadata": {},
     "output_type": "execute_result"
    }
   ],
   "source": [
    "# Length of string.\n",
    "\n",
    "len(s)"
   ]
  },
  {
   "cell_type": "code",
   "execution_count": 18,
   "id": "2ae50304",
   "metadata": {},
   "outputs": [
    {
     "data": {
      "text/plain": [
       "'s'"
      ]
     },
     "execution_count": 18,
     "metadata": {},
     "output_type": "execute_result"
    }
   ],
   "source": [
    "# Character at first position of string.\n",
    "\n",
    "s[0]"
   ]
  },
  {
   "cell_type": "code",
   "execution_count": 19,
   "id": "3c641984",
   "metadata": {},
   "outputs": [
    {
     "data": {
      "text/plain": [
       "'h'"
      ]
     },
     "execution_count": 19,
     "metadata": {},
     "output_type": "execute_result"
    }
   ],
   "source": [
    "# Character at last position of string.\n",
    "\n",
    "s[8]"
   ]
  },
  {
   "cell_type": "code",
   "execution_count": 20,
   "id": "323cce34",
   "metadata": {},
   "outputs": [
    {
     "data": {
      "text/plain": [
       "'htrahddis'"
      ]
     },
     "execution_count": 20,
     "metadata": {},
     "output_type": "execute_result"
    }
   ],
   "source": [
    "# String in reverse.\n",
    "\n",
    "s[::-1]"
   ]
  },
  {
   "cell_type": "code",
   "execution_count": 21,
   "id": "23409cb1",
   "metadata": {},
   "outputs": [],
   "source": [
    "s = \"My name is Siddharth.\""
   ]
  },
  {
   "cell_type": "code",
   "execution_count": 22,
   "id": "f8cf892d",
   "metadata": {},
   "outputs": [
    {
     "data": {
      "text/plain": [
       "'My name'"
      ]
     },
     "execution_count": 22,
     "metadata": {},
     "output_type": "execute_result"
    }
   ],
   "source": [
    "# Slicing of string.\n",
    "\n",
    "s[0:7]"
   ]
  },
  {
   "cell_type": "code",
   "execution_count": 23,
   "id": "a1736b51",
   "metadata": {},
   "outputs": [
    {
     "data": {
      "text/plain": [
       "'name is Sidd'"
      ]
     },
     "execution_count": 23,
     "metadata": {},
     "output_type": "execute_result"
    }
   ],
   "source": [
    "s[3:15:1]"
   ]
  },
  {
   "cell_type": "code",
   "execution_count": 24,
   "id": "2567e650",
   "metadata": {},
   "outputs": [
    {
     "data": {
      "text/plain": [
       "'nm sSd'"
      ]
     },
     "execution_count": 24,
     "metadata": {},
     "output_type": "execute_result"
    }
   ],
   "source": [
    "s[3:15:2]"
   ]
  },
  {
   "cell_type": "code",
   "execution_count": 25,
   "id": "15f042e0",
   "metadata": {},
   "outputs": [
    {
     "data": {
      "text/plain": [
       "'nesi'"
      ]
     },
     "execution_count": 25,
     "metadata": {},
     "output_type": "execute_result"
    }
   ],
   "source": [
    "s[3:15:3]"
   ]
  },
  {
   "cell_type": "code",
   "execution_count": 26,
   "id": "e3da46ae",
   "metadata": {},
   "outputs": [
    {
     "data": {
      "text/plain": [
       "'.htrahddiS si eman y'"
      ]
     },
     "execution_count": 26,
     "metadata": {},
     "output_type": "execute_result"
    }
   ],
   "source": [
    "s[23 : 0 : -1]"
   ]
  },
  {
   "cell_type": "code",
   "execution_count": 27,
   "id": "d1f63add",
   "metadata": {},
   "outputs": [
    {
     "data": {
      "text/plain": [
       "'.htrahddiS si eman yM'"
      ]
     },
     "execution_count": 27,
     "metadata": {},
     "output_type": "execute_result"
    }
   ],
   "source": [
    "s[::-1]"
   ]
  },
  {
   "cell_type": "code",
   "execution_count": 28,
   "id": "c9af1913",
   "metadata": {},
   "outputs": [
    {
     "data": {
      "text/plain": [
       "' name is Sidd'"
      ]
     },
     "execution_count": 28,
     "metadata": {},
     "output_type": "execute_result"
    }
   ],
   "source": [
    "s[2:-6]"
   ]
  },
  {
   "cell_type": "markdown",
   "id": "82cd5cc8",
   "metadata": {},
   "source": [
    "## Practice"
   ]
  },
  {
   "cell_type": "code",
   "execution_count": 39,
   "id": "4d1cb49c",
   "metadata": {},
   "outputs": [
    {
     "name": "stdout",
     "output_type": "stream",
     "text": [
      "4\n",
      "5\n",
      "6\n",
      "7\n"
     ]
    }
   ],
   "source": [
    "# Range generates values between 4 and 7.\n",
    "\n",
    "for i in range(4,8):\n",
    "  print(i)"
   ]
  },
  {
   "cell_type": "code",
   "execution_count": 29,
   "id": "870e05a8",
   "metadata": {},
   "outputs": [],
   "source": [
    "s = \"my name is sid\""
   ]
  },
  {
   "cell_type": "code",
   "execution_count": 30,
   "id": "00230ff9",
   "metadata": {},
   "outputs": [
    {
     "name": "stdout",
     "output_type": "stream",
     "text": [
      "m\n",
      "y\n",
      " \n",
      "n\n",
      "a\n",
      "m\n",
      "e\n",
      " \n",
      "i\n",
      "s\n",
      " \n",
      "s\n",
      "i\n",
      "d\n"
     ]
    }
   ],
   "source": [
    "# Iterate through the string.\n",
    "\n",
    "for i in s:\n",
    "  print(i)"
   ]
  },
  {
   "cell_type": "code",
   "execution_count": 31,
   "id": "68edf892",
   "metadata": {},
   "outputs": [
    {
     "name": "stdout",
     "output_type": "stream",
     "text": [
      "my name is sid"
     ]
    }
   ],
   "source": [
    "for i in s:\n",
    "  print(i,end=\"\")"
   ]
  },
  {
   "cell_type": "code",
   "execution_count": 32,
   "id": "bc2eeba3",
   "metadata": {},
   "outputs": [
    {
     "name": "stdout",
     "output_type": "stream",
     "text": [
      "m y   n a m e   i s   s i d "
     ]
    }
   ],
   "source": [
    "for i in s:\n",
    "  print(i,end=\" \")"
   ]
  },
  {
   "cell_type": "code",
   "execution_count": 33,
   "id": "5ef28f10",
   "metadata": {},
   "outputs": [
    {
     "name": "stdout",
     "output_type": "stream",
     "text": [
      "m\n",
      "y\n",
      " \n",
      "n\n",
      "a\n",
      "m\n",
      "e\n",
      " \n",
      "i\n",
      "s\n",
      " \n",
      "s\n",
      "i\n",
      "d\n"
     ]
    }
   ],
   "source": [
    "for i in s:\n",
    "  print(i,end=\"\\n\")"
   ]
  },
  {
   "cell_type": "code",
   "execution_count": 34,
   "id": "b62b6439",
   "metadata": {},
   "outputs": [
    {
     "name": "stdout",
     "output_type": "stream",
     "text": [
      "m\n",
      "y\n",
      " \n",
      "n\n",
      "a\n",
      "m\n",
      "e\n",
      " \n",
      "i\n",
      "I got s as a string\n",
      "s\n",
      " \n",
      "I got s as a string\n",
      "s\n",
      "i\n",
      "d\n"
     ]
    }
   ],
   "source": [
    "# Print the text if the variable is equal to 's'.\n",
    "\n",
    "for i in s:\n",
    "  if i == 's':\n",
    "    print(\"I got s as a string\")\n",
    "  print(i)"
   ]
  },
  {
   "cell_type": "markdown",
   "id": "42daae4f",
   "metadata": {},
   "source": [
    "## Practice"
   ]
  },
  {
   "cell_type": "code",
   "execution_count": 35,
   "id": "11b8c175",
   "metadata": {},
   "outputs": [
    {
     "data": {
      "text/plain": [
       "'ieuro'"
      ]
     },
     "execution_count": 35,
     "metadata": {},
     "output_type": "execute_result"
    }
   ],
   "source": [
    "# Append characters which are not n to string ss.\n",
    "\n",
    "s = \"ineuron\"\n",
    "ss= \"\"\n",
    "\n",
    "for i in range(len(s)):\n",
    "  if s[i] == \"n\":\n",
    "    continue\n",
    "  else:\n",
    "    ss = ss + s[i]\n",
    "\n",
    "ss  "
   ]
  },
  {
   "cell_type": "markdown",
   "id": "9014918c",
   "metadata": {},
   "source": [
    "## Practice"
   ]
  },
  {
   "cell_type": "code",
   "execution_count": 92,
   "id": "eed4ccaa",
   "metadata": {},
   "outputs": [],
   "source": [
    "a = \"sudh\""
   ]
  },
  {
   "cell_type": "code",
   "execution_count": 93,
   "id": "a120e63a",
   "metadata": {},
   "outputs": [],
   "source": [
    "b = 'sudh'"
   ]
  },
  {
   "cell_type": "code",
   "execution_count": 94,
   "id": "d59ebc6c",
   "metadata": {},
   "outputs": [
    {
     "data": {
      "text/plain": [
       "'sudh'"
      ]
     },
     "execution_count": 94,
     "metadata": {},
     "output_type": "execute_result"
    }
   ],
   "source": [
    "a"
   ]
  },
  {
   "cell_type": "code",
   "execution_count": 95,
   "id": "6f543eae",
   "metadata": {},
   "outputs": [
    {
     "data": {
      "text/plain": [
       "'sudh'"
      ]
     },
     "execution_count": 95,
     "metadata": {},
     "output_type": "execute_result"
    }
   ],
   "source": [
    "b"
   ]
  },
  {
   "cell_type": "code",
   "execution_count": 96,
   "id": "220b61f0",
   "metadata": {},
   "outputs": [],
   "source": [
    "c = \"this is my first class for full stack data science, that's why I have joined this class.\""
   ]
  },
  {
   "cell_type": "code",
   "execution_count": 97,
   "id": "931043e1",
   "metadata": {},
   "outputs": [
    {
     "data": {
      "text/plain": [
       "['this',\n",
       " 'is',\n",
       " 'my',\n",
       " 'first',\n",
       " 'class',\n",
       " 'for',\n",
       " 'full',\n",
       " 'stack',\n",
       " 'data',\n",
       " 'science,',\n",
       " \"that's\",\n",
       " 'why',\n",
       " 'I',\n",
       " 'have',\n",
       " 'joined',\n",
       " 'this',\n",
       " 'class.']"
      ]
     },
     "execution_count": 97,
     "metadata": {},
     "output_type": "execute_result"
    }
   ],
   "source": [
    "# The split() method splits a string into a list. \n",
    "\n",
    "# You can specify the separator, default separator is any whitespace.\n",
    "\n",
    "You can specify the separator, default separator is any whitespace.\n",
    "c.split()"
   ]
  },
  {
   "cell_type": "markdown",
   "id": "1c56adea",
   "metadata": {},
   "source": [
    "## Practice"
   ]
  },
  {
   "cell_type": "code",
   "execution_count": 98,
   "id": "09cd16e5",
   "metadata": {},
   "outputs": [],
   "source": [
    "# Single quote within a \"\" string is okay.\n",
    "\n",
    "s1 = \"helkndkgndkngkdnkgd kgn'kdng kdkgndkngkdngkdng\""
   ]
  },
  {
   "cell_type": "code",
   "execution_count": 99,
   "id": "8bc487f8",
   "metadata": {},
   "outputs": [
    {
     "ename": "SyntaxError",
     "evalue": "invalid syntax (<ipython-input-99-0d786028d5f7>, line 3)",
     "output_type": "error",
     "traceback": [
      "\u001b[1;36m  File \u001b[1;32m\"<ipython-input-99-0d786028d5f7>\"\u001b[1;36m, line \u001b[1;32m3\u001b[0m\n\u001b[1;33m    s1 = \"helkndkgndkngkdnkgd kgn\"kdng kdkgndkngkdngkdng\"\u001b[0m\n\u001b[1;37m                                  ^\u001b[0m\n\u001b[1;31mSyntaxError\u001b[0m\u001b[1;31m:\u001b[0m invalid syntax\n"
     ]
    }
   ],
   "source": [
    "# Double quote within a \"\" string is not okay.\n",
    "\n",
    "s1 = \"helkndkgndkngkdnkgd kgn\"kdng kdkgndkngkdngkdng\""
   ]
  },
  {
   "cell_type": "code",
   "execution_count": 100,
   "id": "e570a2f9",
   "metadata": {},
   "outputs": [
    {
     "ename": "SyntaxError",
     "evalue": "invalid syntax (<ipython-input-100-6fc65de7bfb3>, line 3)",
     "output_type": "error",
     "traceback": [
      "\u001b[1;36m  File \u001b[1;32m\"<ipython-input-100-6fc65de7bfb3>\"\u001b[1;36m, line \u001b[1;32m3\u001b[0m\n\u001b[1;33m    s2 = 'ddgdgdgdgd'gdgdgdg'\u001b[0m\n\u001b[1;37m                     ^\u001b[0m\n\u001b[1;31mSyntaxError\u001b[0m\u001b[1;31m:\u001b[0m invalid syntax\n"
     ]
    }
   ],
   "source": [
    "# Single quote within a '' is not okay.\n",
    "\n",
    "s2 = 'ddgdgdgdgd'gdgdgdg'"
   ]
  },
  {
   "cell_type": "code",
   "execution_count": 101,
   "id": "b3f7ce81",
   "metadata": {},
   "outputs": [],
   "source": [
    "# Double quote within a '' is okay.\n",
    "\n",
    "s2 = 'fffffffffffffffffffffffffff\"ffffffffffffffff'"
   ]
  },
  {
   "cell_type": "markdown",
   "id": "a489ed56",
   "metadata": {},
   "source": [
    "## Practice"
   ]
  },
  {
   "cell_type": "code",
   "execution_count": 102,
   "id": "2e05c54b",
   "metadata": {},
   "outputs": [],
   "source": [
    "s = \"this is a full stack class \""
   ]
  },
  {
   "cell_type": "code",
   "execution_count": 103,
   "id": "213b1e8a",
   "metadata": {},
   "outputs": [
    {
     "data": {
      "text/plain": [
       "'t'"
      ]
     },
     "execution_count": 103,
     "metadata": {},
     "output_type": "execute_result"
    }
   ],
   "source": [
    "s[0]"
   ]
  },
  {
   "cell_type": "code",
   "execution_count": 104,
   "id": "9833e4f0",
   "metadata": {},
   "outputs": [
    {
     "data": {
      "text/plain": [
       "' '"
      ]
     },
     "execution_count": 104,
     "metadata": {},
     "output_type": "execute_result"
    }
   ],
   "source": [
    "s[-1]"
   ]
  },
  {
   "cell_type": "code",
   "execution_count": 105,
   "id": "c1cf286f",
   "metadata": {},
   "outputs": [
    {
     "data": {
      "text/plain": [
       "'s'"
      ]
     },
     "execution_count": 105,
     "metadata": {},
     "output_type": "execute_result"
    }
   ],
   "source": [
    "s[-2]"
   ]
  },
  {
   "cell_type": "code",
   "execution_count": 106,
   "id": "93b5d5d7",
   "metadata": {},
   "outputs": [
    {
     "data": {
      "text/plain": [
       "27"
      ]
     },
     "execution_count": 106,
     "metadata": {},
     "output_type": "execute_result"
    }
   ],
   "source": [
    "len(s)"
   ]
  },
  {
   "cell_type": "code",
   "execution_count": 107,
   "id": "573a41aa",
   "metadata": {},
   "outputs": [
    {
     "ename": "IndexError",
     "evalue": "string index out of range",
     "output_type": "error",
     "traceback": [
      "\u001b[1;31m---------------------------------------------------------------------------\u001b[0m",
      "\u001b[1;31mIndexError\u001b[0m                                Traceback (most recent call last)",
      "\u001b[1;32m<ipython-input-107-2a138df92e52>\u001b[0m in \u001b[0;36m<module>\u001b[1;34m\u001b[0m\n\u001b[1;32m----> 1\u001b[1;33m \u001b[0ms\u001b[0m\u001b[1;33m[\u001b[0m\u001b[1;36m100\u001b[0m\u001b[1;33m]\u001b[0m\u001b[1;33m\u001b[0m\u001b[1;33m\u001b[0m\u001b[0m\n\u001b[0m",
      "\u001b[1;31mIndexError\u001b[0m: string index out of range"
     ]
    }
   ],
   "source": [
    "s[100]"
   ]
  },
  {
   "cell_type": "code",
   "execution_count": 108,
   "id": "72e68b0d",
   "metadata": {},
   "outputs": [
    {
     "data": {
      "text/plain": [
       "' is a '"
      ]
     },
     "execution_count": 108,
     "metadata": {},
     "output_type": "execute_result"
    }
   ],
   "source": [
    "s[4:10:1]"
   ]
  },
  {
   "cell_type": "code",
   "execution_count": 109,
   "id": "05bf2b6f",
   "metadata": {},
   "outputs": [
    {
     "data": {
      "text/plain": [
       "' sa'"
      ]
     },
     "execution_count": 109,
     "metadata": {},
     "output_type": "execute_result"
    }
   ],
   "source": [
    "s[4:10:2]"
   ]
  },
  {
   "cell_type": "code",
   "execution_count": 110,
   "id": "08ff5b8b",
   "metadata": {},
   "outputs": [
    {
     "data": {
      "text/plain": [
       "'  '"
      ]
     },
     "execution_count": 110,
     "metadata": {},
     "output_type": "execute_result"
    }
   ],
   "source": [
    "s[4:10:3]"
   ]
  },
  {
   "cell_type": "code",
   "execution_count": 111,
   "id": "b3953f03",
   "metadata": {},
   "outputs": [
    {
     "data": {
      "text/plain": [
       "' ssalc kcats lluf a si siht'"
      ]
     },
     "execution_count": 111,
     "metadata": {},
     "output_type": "execute_result"
    }
   ],
   "source": [
    "s[-1:-28:-1]"
   ]
  },
  {
   "cell_type": "code",
   "execution_count": 112,
   "id": "98fbb831",
   "metadata": {},
   "outputs": [
    {
     "name": "stdout",
     "output_type": "stream",
     "text": [
      "t\n",
      "h\n",
      "i\n",
      "s\n",
      " \n",
      "i\n",
      "s\n",
      " \n",
      "a\n",
      " \n",
      "f\n",
      "u\n",
      "l\n",
      "l\n",
      " \n",
      "s\n",
      "t\n",
      "a\n",
      "c\n",
      "k\n",
      " \n",
      "c\n",
      "l\n",
      "a\n",
      "s\n",
      "s\n",
      " \n"
     ]
    }
   ],
   "source": [
    "for i in s:\n",
    "  print(i)"
   ]
  },
  {
   "cell_type": "code",
   "execution_count": 113,
   "id": "ef967b44",
   "metadata": {},
   "outputs": [
    {
     "name": "stdout",
     "output_type": "stream",
     "text": [
      " \n",
      "s\n",
      "s\n",
      "a\n",
      "l\n",
      "c\n",
      " \n",
      "k\n",
      "c\n",
      "a\n",
      "t\n",
      "s\n",
      " \n",
      "l\n",
      "l\n",
      "u\n",
      "f\n",
      " \n",
      "a\n",
      " \n",
      "s\n",
      "i\n",
      " \n",
      "s\n",
      "i\n",
      "h\n",
      "t\n"
     ]
    }
   ],
   "source": [
    "for i in range(26,-1,-1):\n",
    "  print(s[i])"
   ]
  },
  {
   "cell_type": "markdown",
   "id": "f37b434c",
   "metadata": {},
   "source": [
    "## Practice"
   ]
  },
  {
   "cell_type": "code",
   "execution_count": 114,
   "id": "063fe211",
   "metadata": {},
   "outputs": [],
   "source": [
    "s = \"my name is siddharht\""
   ]
  },
  {
   "cell_type": "code",
   "execution_count": 115,
   "id": "313e6fc2",
   "metadata": {},
   "outputs": [
    {
     "data": {
      "text/plain": [
       "0"
      ]
     },
     "execution_count": 115,
     "metadata": {},
     "output_type": "execute_result"
    }
   ],
   "source": [
    "# The find() method finds the first occurrence of the specified value.\n",
    "\n",
    "# The find() method returns -1 if the value is not found.\n",
    "\n",
    "s.find(\"m\")"
   ]
  },
  {
   "cell_type": "code",
   "execution_count": 116,
   "id": "5589fb74",
   "metadata": {},
   "outputs": [
    {
     "data": {
      "text/plain": [
       "8"
      ]
     },
     "execution_count": 116,
     "metadata": {},
     "output_type": "execute_result"
    }
   ],
   "source": [
    "s.find('i')"
   ]
  },
  {
   "cell_type": "code",
   "execution_count": 117,
   "id": "21960085",
   "metadata": {},
   "outputs": [
    {
     "data": {
      "text/plain": [
       "11"
      ]
     },
     "execution_count": 117,
     "metadata": {},
     "output_type": "execute_result"
    }
   ],
   "source": [
    "s.find('sidd')"
   ]
  },
  {
   "cell_type": "code",
   "execution_count": 118,
   "id": "436a3ef7",
   "metadata": {},
   "outputs": [
    {
     "data": {
      "text/plain": [
       "'my name is siddharhtmy name is siddharht'"
      ]
     },
     "execution_count": 118,
     "metadata": {},
     "output_type": "execute_result"
    }
   ],
   "source": [
    "# Concatenates both the strings.\n",
    "\n",
    "s*2"
   ]
  },
  {
   "cell_type": "code",
   "execution_count": 119,
   "id": "1d30c9d3",
   "metadata": {},
   "outputs": [],
   "source": [
    "s = \"my name is siddharhtmy name is siddharht\""
   ]
  },
  {
   "cell_type": "code",
   "execution_count": 121,
   "id": "8f6bd4d7",
   "metadata": {},
   "outputs": [],
   "source": [
    "a = 3"
   ]
  },
  {
   "cell_type": "code",
   "execution_count": 122,
   "id": "d5ed2732",
   "metadata": {},
   "outputs": [
    {
     "name": "stdout",
     "output_type": "stream",
     "text": [
      "3\n",
      "4\n",
      "5\n",
      "6\n"
     ]
    }
   ],
   "source": [
    "a = s.find(\"name\")\n",
    "\n",
    "for i in range(len(\"name\")):\n",
    "  print(a + i)"
   ]
  },
  {
   "cell_type": "markdown",
   "id": "ae0479d1",
   "metadata": {},
   "source": [
    "## Practice"
   ]
  },
  {
   "cell_type": "code",
   "execution_count": 123,
   "id": "3d295305",
   "metadata": {},
   "outputs": [],
   "source": [
    "s = \"my name is siddharhtmy name is siddharht\""
   ]
  },
  {
   "cell_type": "code",
   "execution_count": 124,
   "id": "fd4a264f",
   "metadata": {},
   "outputs": [
    {
     "data": {
      "text/plain": [
       "2"
      ]
     },
     "execution_count": 124,
     "metadata": {},
     "output_type": "execute_result"
    }
   ],
   "source": [
    "# The count() method returns the number of times a specified value appears in the string.\n",
    "\n",
    "s.count(\"name\")"
   ]
  },
  {
   "cell_type": "code",
   "execution_count": 125,
   "id": "17fdd67a",
   "metadata": {},
   "outputs": [
    {
     "data": {
      "text/plain": [
       "2"
      ]
     },
     "execution_count": 125,
     "metadata": {},
     "output_type": "execute_result"
    }
   ],
   "source": [
    "s.count(\"is\")"
   ]
  },
  {
   "cell_type": "code",
   "execution_count": 126,
   "id": "69b419cf",
   "metadata": {},
   "outputs": [
    {
     "data": {
      "text/plain": [
       "0"
      ]
     },
     "execution_count": 126,
     "metadata": {},
     "output_type": "execute_result"
    }
   ],
   "source": [
    "s.count(\"Name\")"
   ]
  },
  {
   "cell_type": "code",
   "execution_count": 127,
   "id": "6d5e61d9",
   "metadata": {},
   "outputs": [
    {
     "data": {
      "text/plain": [
       "['my', 'name', 'is', 'siddharhtmy', 'name', 'is', 'siddharht']"
      ]
     },
     "execution_count": 127,
     "metadata": {},
     "output_type": "execute_result"
    }
   ],
   "source": [
    "s.split()"
   ]
  },
  {
   "cell_type": "code",
   "execution_count": 128,
   "id": "ba5fe992",
   "metadata": {},
   "outputs": [
    {
     "data": {
      "text/plain": [
       "['my ', ' is siddharhtmy ', ' is siddharht']"
      ]
     },
     "execution_count": 128,
     "metadata": {},
     "output_type": "execute_result"
    }
   ],
   "source": [
    "s.split('name')"
   ]
  },
  {
   "cell_type": "code",
   "execution_count": 129,
   "id": "1de44304",
   "metadata": {},
   "outputs": [
    {
     "data": {
      "text/plain": [
       "['my name ', ' siddharhtmy name ', ' siddharht']"
      ]
     },
     "execution_count": 129,
     "metadata": {},
     "output_type": "execute_result"
    }
   ],
   "source": [
    "s.split('is')"
   ]
  },
  {
   "cell_type": "code",
   "execution_count": 130,
   "id": "a42d057d",
   "metadata": {},
   "outputs": [
    {
     "data": {
      "text/plain": [
       "['my ', ' siddharhtmy ', ' siddharht']"
      ]
     },
     "execution_count": 130,
     "metadata": {},
     "output_type": "execute_result"
    }
   ],
   "source": [
    "s.split('name is')"
   ]
  },
  {
   "cell_type": "code",
   "execution_count": 131,
   "id": "353297c7",
   "metadata": {},
   "outputs": [
    {
     "data": {
      "text/plain": [
       "list"
      ]
     },
     "execution_count": 131,
     "metadata": {},
     "output_type": "execute_result"
    }
   ],
   "source": [
    "type(s.split('name is'))"
   ]
  },
  {
   "cell_type": "markdown",
   "id": "3d5babf3",
   "metadata": {},
   "source": [
    "## Practice"
   ]
  },
  {
   "cell_type": "code",
   "execution_count": 132,
   "id": "06d9a6c6",
   "metadata": {},
   "outputs": [],
   "source": [
    "s = \"my name is siddharhtmy name is siddharht\""
   ]
  },
  {
   "cell_type": "code",
   "execution_count": 133,
   "id": "e1cc9f7d",
   "metadata": {},
   "outputs": [
    {
     "data": {
      "text/plain": [
       "'MY NAME IS SIDDHARHTMY NAME IS SIDDHARHT'"
      ]
     },
     "execution_count": 133,
     "metadata": {},
     "output_type": "execute_result"
    }
   ],
   "source": [
    "# The upper() method returns a string where all characters are in upper case.\n",
    "\n",
    "# Symbols and numbers are ignored.\n",
    "\n",
    "s.upper()"
   ]
  },
  {
   "cell_type": "code",
   "execution_count": 134,
   "id": "f97d431a",
   "metadata": {},
   "outputs": [
    {
     "data": {
      "text/plain": [
       "'my name is siddharhtmy name is siddharht'"
      ]
     },
     "execution_count": 134,
     "metadata": {},
     "output_type": "execute_result"
    }
   ],
   "source": [
    "# The lower() method returns a string where all characters are lower case.\n",
    "\n",
    "# Symbols and numbers are ignored.\n",
    "\n",
    "s.lower()"
   ]
  },
  {
   "cell_type": "code",
   "execution_count": 135,
   "id": "ffa1364f",
   "metadata": {},
   "outputs": [],
   "source": [
    "s = \"MY name IS siddharhtmy NAME IS siddharht\""
   ]
  },
  {
   "cell_type": "code",
   "execution_count": 136,
   "id": "12b17a2e",
   "metadata": {},
   "outputs": [
    {
     "data": {
      "text/plain": [
       "'my NAME is SIDDHARHTMY name is SIDDHARHT'"
      ]
     },
     "execution_count": 136,
     "metadata": {},
     "output_type": "execute_result"
    }
   ],
   "source": [
    "# The swapcase() method returns a string where all the \n",
    "\n",
    "# upper case letters are lower case and vice versa.\n",
    "\n",
    "s.swapcase()"
   ]
  },
  {
   "cell_type": "code",
   "execution_count": 137,
   "id": "e2d1edf9",
   "metadata": {},
   "outputs": [
    {
     "data": {
      "text/plain": [
       "'M Y   n a m e   I S   s i d d h a r h t m y   N A M E   I S   s i d d h a r h t'"
      ]
     },
     "execution_count": 137,
     "metadata": {},
     "output_type": "execute_result"
    }
   ],
   "source": [
    "# The join() method takes all items in an iterable and joins them into one string.\n",
    "\n",
    "\" \".join(s)"
   ]
  },
  {
   "cell_type": "code",
   "execution_count": 138,
   "id": "43336dad",
   "metadata": {},
   "outputs": [
    {
     "data": {
      "text/plain": [
       "'M@Y@ @n@a@m@e@ @I@S@ @s@i@d@d@h@a@r@h@t@m@y@ @N@A@M@E@ @I@S@ @s@i@d@d@h@a@r@h@t'"
      ]
     },
     "execution_count": 138,
     "metadata": {},
     "output_type": "execute_result"
    }
   ],
   "source": [
    "\"@\".join(s)"
   ]
  },
  {
   "cell_type": "markdown",
   "id": "f5145593",
   "metadata": {},
   "source": [
    "## Practice"
   ]
  },
  {
   "cell_type": "code",
   "execution_count": 139,
   "id": "f5406f54",
   "metadata": {},
   "outputs": [],
   "source": [
    "s = \"my name is siddharhtmy name is siddharht\""
   ]
  },
  {
   "cell_type": "code",
   "execution_count": 140,
   "id": "8f55f914",
   "metadata": {},
   "outputs": [
    {
     "data": {
      "text/plain": [
       "<reversed at 0x1e7db41c910>"
      ]
     },
     "execution_count": 140,
     "metadata": {},
     "output_type": "execute_result"
    }
   ],
   "source": [
    "reversed(s)"
   ]
  },
  {
   "cell_type": "code",
   "execution_count": 141,
   "id": "dce9655b",
   "metadata": {},
   "outputs": [
    {
     "data": {
      "text/plain": [
       "['t',\n",
       " 'h',\n",
       " 'r',\n",
       " 'a',\n",
       " 'h',\n",
       " 'd',\n",
       " 'd',\n",
       " 'i',\n",
       " 's',\n",
       " ' ',\n",
       " 's',\n",
       " 'i',\n",
       " ' ',\n",
       " 'e',\n",
       " 'm',\n",
       " 'a',\n",
       " 'n',\n",
       " ' ',\n",
       " 'y',\n",
       " 'm',\n",
       " 't',\n",
       " 'h',\n",
       " 'r',\n",
       " 'a',\n",
       " 'h',\n",
       " 'd',\n",
       " 'd',\n",
       " 'i',\n",
       " 's',\n",
       " ' ',\n",
       " 's',\n",
       " 'i',\n",
       " ' ',\n",
       " 'e',\n",
       " 'm',\n",
       " 'a',\n",
       " 'n',\n",
       " ' ',\n",
       " 'y',\n",
       " 'm']"
      ]
     },
     "execution_count": 141,
     "metadata": {},
     "output_type": "execute_result"
    }
   ],
   "source": [
    "list(reversed(s))"
   ]
  },
  {
   "cell_type": "code",
   "execution_count": 142,
   "id": "a9e2a2a1",
   "metadata": {},
   "outputs": [
    {
     "name": "stdout",
     "output_type": "stream",
     "text": [
      "t\n",
      "h\n",
      "r\n",
      "a\n",
      "h\n",
      "d\n",
      "d\n",
      "i\n",
      "s\n",
      " \n",
      "s\n",
      "i\n",
      " \n",
      "e\n",
      "m\n",
      "a\n",
      "n\n",
      " \n",
      "y\n",
      "m\n",
      "t\n",
      "h\n",
      "r\n",
      "a\n",
      "h\n",
      "d\n",
      "d\n",
      "i\n",
      "s\n",
      " \n",
      "s\n",
      "i\n",
      " \n",
      "e\n",
      "m\n",
      "a\n",
      "n\n",
      " \n",
      "y\n",
      "m\n"
     ]
    }
   ],
   "source": [
    "for i in reversed(s):\n",
    "  print(i)"
   ]
  },
  {
   "cell_type": "code",
   "execution_count": 143,
   "id": "d4c07633",
   "metadata": {},
   "outputs": [],
   "source": [
    "s = \" sudh \""
   ]
  },
  {
   "cell_type": "code",
   "execution_count": 144,
   "id": "a87fe09e",
   "metadata": {},
   "outputs": [
    {
     "data": {
      "text/plain": [
       "'sudh'"
      ]
     },
     "execution_count": 144,
     "metadata": {},
     "output_type": "execute_result"
    }
   ],
   "source": [
    "# Returns a trimmed version of the string.\n",
    "\n",
    "s.strip()"
   ]
  },
  {
   "cell_type": "code",
   "execution_count": 145,
   "id": "673c516c",
   "metadata": {},
   "outputs": [
    {
     "data": {
      "text/plain": [
       "'sudh '"
      ]
     },
     "execution_count": 145,
     "metadata": {},
     "output_type": "execute_result"
    }
   ],
   "source": [
    "# Returns a left trim version of the string.\n",
    "\n",
    "s.lstrip()"
   ]
  },
  {
   "cell_type": "code",
   "execution_count": 146,
   "id": "9076bdb0",
   "metadata": {},
   "outputs": [
    {
     "data": {
      "text/plain": [
       "' sudh'"
      ]
     },
     "execution_count": 146,
     "metadata": {},
     "output_type": "execute_result"
    }
   ],
   "source": [
    "# Returns a right trim version of the string.\n",
    "\n",
    "s.rstrip()"
   ]
  },
  {
   "cell_type": "code",
   "execution_count": 147,
   "id": "903c9c30",
   "metadata": {},
   "outputs": [],
   "source": [
    "s = \"greetings from ineuron\""
   ]
  },
  {
   "cell_type": "code",
   "execution_count": 148,
   "id": "1465261e",
   "metadata": {},
   "outputs": [
    {
     "data": {
      "text/plain": [
       "'meetings from ineuron'"
      ]
     },
     "execution_count": 148,
     "metadata": {},
     "output_type": "execute_result"
    }
   ],
   "source": [
    "# Returns a string where a specified value is replaced with a specified value.\n",
    "\n",
    "s.replace(\"greet\",\"meet\")"
   ]
  },
  {
   "cell_type": "code",
   "execution_count": 149,
   "id": "c2ec0dc7",
   "metadata": {},
   "outputs": [
    {
     "data": {
      "text/plain": [
       "'1111reetin1111s from ineuron'"
      ]
     },
     "execution_count": 149,
     "metadata": {},
     "output_type": "execute_result"
    }
   ],
   "source": [
    "s.replace('g','1111')"
   ]
  },
  {
   "cell_type": "code",
   "execution_count": 150,
   "id": "8ec981c0",
   "metadata": {},
   "outputs": [],
   "source": [
    "s = \"greetings from ineuron\""
   ]
  },
  {
   "cell_type": "code",
   "execution_count": 151,
   "id": "921c50a2",
   "metadata": {},
   "outputs": [
    {
     "data": {
      "text/plain": [
       "'swereetings from ineuron'"
      ]
     },
     "execution_count": 151,
     "metadata": {},
     "output_type": "execute_result"
    }
   ],
   "source": [
    "s.replace(\"gr\",\"swer\")"
   ]
  },
  {
   "cell_type": "code",
   "execution_count": 152,
   "id": "96d81596",
   "metadata": {},
   "outputs": [],
   "source": [
    "s = \"greetings from ineuron\""
   ]
  },
  {
   "cell_type": "markdown",
   "id": "f896eef5",
   "metadata": {},
   "source": [
    "## Practice"
   ]
  },
  {
   "cell_type": "code",
   "execution_count": 153,
   "id": "1f81aaeb",
   "metadata": {},
   "outputs": [
    {
     "ename": "TypeError",
     "evalue": "'str' object does not support item assignment",
     "output_type": "error",
     "traceback": [
      "\u001b[1;31m---------------------------------------------------------------------------\u001b[0m",
      "\u001b[1;31mTypeError\u001b[0m                                 Traceback (most recent call last)",
      "\u001b[1;32m<ipython-input-153-3a69c6d901ea>\u001b[0m in \u001b[0;36m<module>\u001b[1;34m\u001b[0m\n\u001b[0;32m      1\u001b[0m \u001b[1;31m# String is immutable\u001b[0m\u001b[1;33m\u001b[0m\u001b[1;33m\u001b[0m\u001b[1;33m\u001b[0m\u001b[0m\n\u001b[0;32m      2\u001b[0m \u001b[1;33m\u001b[0m\u001b[0m\n\u001b[1;32m----> 3\u001b[1;33m \u001b[0ms\u001b[0m\u001b[1;33m[\u001b[0m\u001b[1;36m0\u001b[0m\u001b[1;33m]\u001b[0m \u001b[1;33m=\u001b[0m \u001b[1;34m'x'\u001b[0m\u001b[1;33m\u001b[0m\u001b[1;33m\u001b[0m\u001b[0m\n\u001b[0m",
      "\u001b[1;31mTypeError\u001b[0m: 'str' object does not support item assignment"
     ]
    }
   ],
   "source": [
    "# String is immutable.\n",
    "\n",
    "s[0] = 'x'"
   ]
  },
  {
   "cell_type": "markdown",
   "id": "145f477e",
   "metadata": {},
   "source": [
    "**Note:** \n",
    "\n",
    "Python Strings are immutable. In Python, strings are made immutable so that programmers cannot alter the contents of the object (even by mistake). This avoids unnecessary bugs. Some other immutable objects are integer, float, tuple, and bool."
   ]
  },
  {
   "cell_type": "markdown",
   "id": "29a872f6",
   "metadata": {},
   "source": [
    "## Practice"
   ]
  },
  {
   "cell_type": "code",
   "execution_count": 154,
   "id": "ad445015",
   "metadata": {},
   "outputs": [],
   "source": [
    "s = \"sudh\""
   ]
  },
  {
   "cell_type": "code",
   "execution_count": 155,
   "id": "f5da83d3",
   "metadata": {},
   "outputs": [
    {
     "data": {
      "text/plain": [
       "'bbbbbbbbsudhbbbbbbbb'"
      ]
     },
     "execution_count": 155,
     "metadata": {},
     "output_type": "execute_result"
    }
   ],
   "source": [
    "# Returns a centered string.\n",
    "\n",
    "s.center(20,'b')"
   ]
  },
  {
   "cell_type": "code",
   "execution_count": 156,
   "id": "7289d0e3",
   "metadata": {},
   "outputs": [
    {
     "data": {
      "text/plain": [
       "'        sudh        '"
      ]
     },
     "execution_count": 156,
     "metadata": {},
     "output_type": "execute_result"
    }
   ],
   "source": [
    "s.center(20,' ')"
   ]
  },
  {
   "cell_type": "code",
   "execution_count": 157,
   "id": "ab810e31",
   "metadata": {},
   "outputs": [
    {
     "ename": "TypeError",
     "evalue": "The fill character must be exactly one character long",
     "output_type": "error",
     "traceback": [
      "\u001b[1;31m---------------------------------------------------------------------------\u001b[0m",
      "\u001b[1;31mTypeError\u001b[0m                                 Traceback (most recent call last)",
      "\u001b[1;32m<ipython-input-157-0df324358b84>\u001b[0m in \u001b[0;36m<module>\u001b[1;34m\u001b[0m\n\u001b[1;32m----> 1\u001b[1;33m \u001b[0ms\u001b[0m\u001b[1;33m.\u001b[0m\u001b[0mcenter\u001b[0m\u001b[1;33m(\u001b[0m\u001b[1;36m23\u001b[0m\u001b[1;33m,\u001b[0m\u001b[1;34m'ty'\u001b[0m\u001b[1;33m)\u001b[0m\u001b[1;33m\u001b[0m\u001b[1;33m\u001b[0m\u001b[0m\n\u001b[0m",
      "\u001b[1;31mTypeError\u001b[0m: The fill character must be exactly one character long"
     ]
    }
   ],
   "source": [
    "s.center(23,'ty')"
   ]
  },
  {
   "cell_type": "code",
   "execution_count": 158,
   "id": "72db4aa9",
   "metadata": {},
   "outputs": [
    {
     "data": {
      "text/plain": [
       "'xxxxxxxxxxsudhxxxxxxxxx'"
      ]
     },
     "execution_count": 158,
     "metadata": {},
     "output_type": "execute_result"
    }
   ],
   "source": [
    "s.center(23,'x')"
   ]
  },
  {
   "cell_type": "code",
   "execution_count": 159,
   "id": "ef853b2f",
   "metadata": {},
   "outputs": [
    {
     "data": {
      "text/plain": [
       "'@@@@@@@@@@@@@@@@@@@@@@@sudh@@@@@@@@@@@@@@@@@@@@@@@'"
      ]
     },
     "execution_count": 159,
     "metadata": {},
     "output_type": "execute_result"
    }
   ],
   "source": [
    "s.center(50,'@')"
   ]
  },
  {
   "cell_type": "code",
   "execution_count": 160,
   "id": "02bc6a73",
   "metadata": {},
   "outputs": [],
   "source": [
    "s = \"sudh\\tkumar\""
   ]
  },
  {
   "cell_type": "code",
   "execution_count": 161,
   "id": "90e763c3",
   "metadata": {},
   "outputs": [
    {
     "data": {
      "text/plain": [
       "'sudh\\tkumar'"
      ]
     },
     "execution_count": 161,
     "metadata": {},
     "output_type": "execute_result"
    }
   ],
   "source": [
    "s"
   ]
  },
  {
   "cell_type": "code",
   "execution_count": 162,
   "id": "85f39467",
   "metadata": {},
   "outputs": [
    {
     "data": {
      "text/plain": [
       "'sudh    kumar'"
      ]
     },
     "execution_count": 162,
     "metadata": {},
     "output_type": "execute_result"
    }
   ],
   "source": [
    "# The expandtabs() method sets the tab size to the specified number of whitespaces.\n",
    "\n",
    "s.expandtabs()"
   ]
  },
  {
   "cell_type": "code",
   "execution_count": 163,
   "id": "d1288e2d",
   "metadata": {},
   "outputs": [],
   "source": [
    "s = \"sudh\\tkuffffff\\tmdddddddddddddddddddddddddddddd\\tar\""
   ]
  },
  {
   "cell_type": "code",
   "execution_count": 164,
   "id": "22ac919b",
   "metadata": {},
   "outputs": [
    {
     "data": {
      "text/plain": [
       "'sudh    kuffffff        mdddddddddddddddddddddddddddddd ar'"
      ]
     },
     "execution_count": 164,
     "metadata": {},
     "output_type": "execute_result"
    }
   ],
   "source": [
    "s.expandtabs()"
   ]
  },
  {
   "cell_type": "markdown",
   "id": "7b18fb31",
   "metadata": {},
   "source": [
    "## Questions\n",
    "\n",
    "1. Normalize all the string in lower case.\n",
    "2. Find the number of occurences of \"a\" in the entire data.\n",
    "3. Find the location or index of \"a\" in the string.\n",
    "4. Replace all the \"a\" with \"iNeuron\".\n",
    "5. Print all the word as a list."
   ]
  },
  {
   "cell_type": "code",
   "execution_count": 165,
   "id": "b79d6abd",
   "metadata": {},
   "outputs": [],
   "source": [
    "a = \"We all are a part of Full Stack\""
   ]
  },
  {
   "cell_type": "code",
   "execution_count": 166,
   "id": "a3c02582",
   "metadata": {},
   "outputs": [
    {
     "data": {
      "text/plain": [
       "'we all are a part of full stack'"
      ]
     },
     "execution_count": 166,
     "metadata": {},
     "output_type": "execute_result"
    }
   ],
   "source": [
    "a.lower()"
   ]
  },
  {
   "cell_type": "code",
   "execution_count": 167,
   "id": "e1691a43",
   "metadata": {},
   "outputs": [
    {
     "data": {
      "text/plain": [
       "5"
      ]
     },
     "execution_count": 167,
     "metadata": {},
     "output_type": "execute_result"
    }
   ],
   "source": [
    "a.count('a')"
   ]
  },
  {
   "cell_type": "code",
   "execution_count": 168,
   "id": "2b7ef3bc",
   "metadata": {},
   "outputs": [
    {
     "name": "stdout",
     "output_type": "stream",
     "text": [
      "3\n",
      "7\n",
      "11\n",
      "14\n",
      "28\n"
     ]
    }
   ],
   "source": [
    "count = 0\n",
    "for i in a:\n",
    "  if i == \"a\":\n",
    "    print(count)\n",
    "  count = count + 1"
   ]
  },
  {
   "cell_type": "code",
   "execution_count": 169,
   "id": "c6aabe1f",
   "metadata": {},
   "outputs": [
    {
     "data": {
      "text/plain": [
       "'We iNeuronll iNeuronre iNeuron piNeuronrt of Full StiNeuronck'"
      ]
     },
     "execution_count": 169,
     "metadata": {},
     "output_type": "execute_result"
    }
   ],
   "source": [
    "a.replace('a','iNeuron')"
   ]
  },
  {
   "cell_type": "code",
   "execution_count": 170,
   "id": "d364c819",
   "metadata": {},
   "outputs": [
    {
     "data": {
      "text/plain": [
       "['We', 'all', 'are', 'a', 'part', 'of', 'Full', 'Stack']"
      ]
     },
     "execution_count": 170,
     "metadata": {},
     "output_type": "execute_result"
    }
   ],
   "source": [
    "a.split()"
   ]
  },
  {
   "cell_type": "markdown",
   "id": "474b131f",
   "metadata": {},
   "source": [
    "## Practice"
   ]
  },
  {
   "cell_type": "code",
   "execution_count": 171,
   "id": "3eef946a",
   "metadata": {},
   "outputs": [],
   "source": [
    "s = \"String\""
   ]
  },
  {
   "cell_type": "code",
   "execution_count": 172,
   "id": "73d0f364",
   "metadata": {},
   "outputs": [
    {
     "data": {
      "text/plain": [
       "False"
      ]
     },
     "execution_count": 172,
     "metadata": {},
     "output_type": "execute_result"
    }
   ],
   "source": [
    "# Returns True if all characters in the string are numeric.\n",
    "\n",
    "s.isnumeric()"
   ]
  },
  {
   "cell_type": "code",
   "execution_count": 173,
   "id": "e2cc80db",
   "metadata": {},
   "outputs": [
    {
     "data": {
      "text/plain": [
       "True"
      ]
     },
     "execution_count": 173,
     "metadata": {},
     "output_type": "execute_result"
    }
   ],
   "source": [
    "# Returns True if all characters in the string are in the alphabet.\n",
    "\n",
    "s.isalpha()"
   ]
  },
  {
   "cell_type": "code",
   "execution_count": 174,
   "id": "4f8bd93d",
   "metadata": {},
   "outputs": [
    {
     "data": {
      "text/plain": [
       "False"
      ]
     },
     "execution_count": 174,
     "metadata": {},
     "output_type": "execute_result"
    }
   ],
   "source": [
    "# Returns True if all characters in the string are upper case.\n",
    "\n",
    "s.isupper()"
   ]
  },
  {
   "cell_type": "code",
   "execution_count": 175,
   "id": "24a05b90",
   "metadata": {},
   "outputs": [
    {
     "data": {
      "text/plain": [
       "False"
      ]
     },
     "execution_count": 175,
     "metadata": {},
     "output_type": "execute_result"
    }
   ],
   "source": [
    "# Returns True if all characters in the string are lower case.\n",
    "\n",
    "s.islower()"
   ]
  },
  {
   "cell_type": "code",
   "execution_count": 176,
   "id": "e72a8140",
   "metadata": {},
   "outputs": [],
   "source": [
    "s = \"     \""
   ]
  },
  {
   "cell_type": "code",
   "execution_count": 177,
   "id": "5e305778",
   "metadata": {},
   "outputs": [
    {
     "data": {
      "text/plain": [
       "True"
      ]
     },
     "execution_count": 177,
     "metadata": {},
     "output_type": "execute_result"
    }
   ],
   "source": [
    "# Returns True if all characters in the string are whitespaces.\n",
    "\n",
    "s.isspace()"
   ]
  },
  {
   "cell_type": "code",
   "execution_count": 178,
   "id": "527dceec",
   "metadata": {},
   "outputs": [],
   "source": [
    "s = \"4242424242424\""
   ]
  },
  {
   "cell_type": "code",
   "execution_count": 179,
   "id": "dcb8d63b",
   "metadata": {},
   "outputs": [
    {
     "data": {
      "text/plain": [
       "True"
      ]
     },
     "execution_count": 179,
     "metadata": {},
     "output_type": "execute_result"
    }
   ],
   "source": [
    "# Returns True if all characters in the string are digits.\n",
    "\n",
    "s.isdigit()"
   ]
  },
  {
   "cell_type": "code",
   "execution_count": 180,
   "id": "fa46bd23",
   "metadata": {},
   "outputs": [
    {
     "data": {
      "text/plain": [
       "False"
      ]
     },
     "execution_count": 180,
     "metadata": {},
     "output_type": "execute_result"
    }
   ],
   "source": [
    "# Returns true if the string ends with the specified value.\n",
    "\n",
    "s.endswith('s')"
   ]
  },
  {
   "cell_type": "code",
   "execution_count": 181,
   "id": "7723d4ee",
   "metadata": {},
   "outputs": [],
   "source": [
    "s = \"sudhs\""
   ]
  },
  {
   "cell_type": "code",
   "execution_count": 182,
   "id": "76b273aa",
   "metadata": {},
   "outputs": [
    {
     "data": {
      "text/plain": [
       "True"
      ]
     },
     "execution_count": 182,
     "metadata": {},
     "output_type": "execute_result"
    }
   ],
   "source": [
    "s.endswith('s')"
   ]
  },
  {
   "cell_type": "code",
   "execution_count": 183,
   "id": "4ec6359f",
   "metadata": {},
   "outputs": [
    {
     "data": {
      "text/plain": [
       "True"
      ]
     },
     "execution_count": 183,
     "metadata": {},
     "output_type": "execute_result"
    }
   ],
   "source": [
    "# Returns true if the string starts with the specified value.\n",
    "\n",
    "s.startswith('s')"
   ]
  },
  {
   "cell_type": "code",
   "execution_count": 184,
   "id": "05f3a887",
   "metadata": {},
   "outputs": [
    {
     "data": {
      "text/plain": [
       "True"
      ]
     },
     "execution_count": 184,
     "metadata": {},
     "output_type": "execute_result"
    }
   ],
   "source": [
    "# Returns True if all characters in the string are in the alphabet.\n",
    "\n",
    "s.isalpha()"
   ]
  },
  {
   "cell_type": "code",
   "execution_count": 185,
   "id": "2aa32cd2",
   "metadata": {},
   "outputs": [
    {
     "data": {
      "text/plain": [
       "True"
      ]
     },
     "execution_count": 185,
     "metadata": {},
     "output_type": "execute_result"
    }
   ],
   "source": [
    "# Returns True if all characters in the string are alphanumeric.\n",
    "\n",
    "s.isalnum()"
   ]
  },
  {
   "cell_type": "code",
   "execution_count": 186,
   "id": "0d43ff1f",
   "metadata": {},
   "outputs": [
    {
     "data": {
      "text/plain": [
       "False"
      ]
     },
     "execution_count": 186,
     "metadata": {},
     "output_type": "execute_result"
    }
   ],
   "source": [
    "# Returns True if the string follows the rules of a title.\n",
    "\n",
    "s.istitle()"
   ]
  },
  {
   "cell_type": "code",
   "execution_count": 187,
   "id": "61c5a913",
   "metadata": {},
   "outputs": [],
   "source": [
    "s = \"Hello\""
   ]
  },
  {
   "cell_type": "code",
   "execution_count": 188,
   "id": "db77aa95",
   "metadata": {},
   "outputs": [
    {
     "data": {
      "text/plain": [
       "True"
      ]
     },
     "execution_count": 188,
     "metadata": {},
     "output_type": "execute_result"
    }
   ],
   "source": [
    "s.istitle()"
   ]
  },
  {
   "cell_type": "markdown",
   "id": "1907ef02",
   "metadata": {},
   "source": [
    "## Practice"
   ]
  },
  {
   "cell_type": "code",
   "execution_count": 189,
   "id": "6a165382",
   "metadata": {},
   "outputs": [],
   "source": [
    "s = \"this is a full stack batch\""
   ]
  },
  {
   "cell_type": "code",
   "execution_count": 190,
   "id": "e93a6cc3",
   "metadata": {},
   "outputs": [
    {
     "name": "stdout",
     "output_type": "stream",
     "text": [
      "t\n",
      "h\n",
      "i\n",
      "s\n",
      " \n",
      "i\n",
      "s\n",
      " \n",
      "a\n",
      " \n",
      "f\n",
      "u\n",
      "l\n",
      "l\n",
      " \n",
      "s\n",
      "t\n",
      "a\n",
      "c\n",
      "k\n",
      " \n",
      "b\n",
      "a\n",
      "t\n",
      "c\n",
      "h\n"
     ]
    }
   ],
   "source": [
    "for i in s:\n",
    "  print(i)"
   ]
  },
  {
   "cell_type": "code",
   "execution_count": 191,
   "id": "0e95180d",
   "metadata": {},
   "outputs": [
    {
     "name": "stdout",
     "output_type": "stream",
     "text": [
      "26\n"
     ]
    }
   ],
   "source": [
    "count = 0\n",
    "for i in s:\n",
    "  count = count + 1\n",
    "print(count)"
   ]
  },
  {
   "cell_type": "code",
   "execution_count": 192,
   "id": "d34a3a06",
   "metadata": {},
   "outputs": [
    {
     "data": {
      "text/plain": [
       "26"
      ]
     },
     "execution_count": 192,
     "metadata": {},
     "output_type": "execute_result"
    }
   ],
   "source": [
    "len(s)"
   ]
  },
  {
   "cell_type": "code",
   "execution_count": 193,
   "id": "87010aed",
   "metadata": {},
   "outputs": [
    {
     "name": "stdout",
     "output_type": "stream",
     "text": [
      "t\n",
      "h\n",
      "i\n",
      "s\n",
      " \n",
      "i\n",
      "s\n",
      " \n",
      "a\n",
      " \n",
      "f\n",
      "u\n",
      "l\n",
      "l\n",
      " \n",
      "s\n",
      "t\n",
      "a\n",
      "c\n",
      "k\n",
      " \n",
      "b\n",
      "a\n",
      "t\n",
      "c\n",
      "h\n"
     ]
    }
   ],
   "source": [
    "for i in range(len(s)):\n",
    "  print(s[i])"
   ]
  },
  {
   "cell_type": "code",
   "execution_count": 194,
   "id": "dca3cf04",
   "metadata": {},
   "outputs": [
    {
     "name": "stdout",
     "output_type": "stream",
     "text": [
      "h\n",
      "c\n",
      "t\n",
      "a\n",
      "b\n",
      " \n",
      "k\n",
      "c\n",
      "a\n",
      "t\n",
      "s\n",
      " \n",
      "l\n",
      "l\n",
      "u\n",
      "f\n",
      " \n",
      "a\n",
      " \n",
      "s\n",
      "i\n",
      " \n",
      "s\n",
      "i\n",
      "h\n",
      "t\n"
     ]
    }
   ],
   "source": [
    "for i in range(1,len(s)+1):\n",
    "  print(s[-i])"
   ]
  },
  {
   "cell_type": "code",
   "execution_count": 195,
   "id": "c2c945fb",
   "metadata": {},
   "outputs": [
    {
     "name": "stdout",
     "output_type": "stream",
     "text": [
      "h\n",
      "d\n",
      "u\n",
      "s\n"
     ]
    }
   ],
   "source": [
    "s = \"sudh\"\n",
    "i = 1\n",
    "while i<len(s)+1:\n",
    "  print(s[-i])\n",
    "  i = i + 1"
   ]
  },
  {
   "cell_type": "markdown",
   "id": "81e6e4a2",
   "metadata": {},
   "source": [
    "## Practice"
   ]
  },
  {
   "cell_type": "code",
   "execution_count": 196,
   "id": "ad03df2e",
   "metadata": {},
   "outputs": [
    {
     "name": "stdout",
     "output_type": "stream",
     "text": [
      "i is a vowel.\n",
      "n is not a vowel.\n",
      "e is a vowel.\n",
      "u is a vowel.\n",
      "r is not a vowel.\n",
      "o is a vowel.\n",
      "n is not a vowel.\n"
     ]
    }
   ],
   "source": [
    "name = \"ineuron\"\n",
    "vowels = \"AaEeIiOoUu\"\n",
    "for i in name:\n",
    "  if i in vowels:\n",
    "    print(\"{0} is a vowel.\".format(i))\n",
    "  else:\n",
    "    print(\"{0} is not a vowel.\".format(i))"
   ]
  },
  {
   "cell_type": "markdown",
   "id": "eb7f68f7",
   "metadata": {},
   "source": [
    "## Question \n",
    "\n",
    "- Check whether the string is a Palindrome."
   ]
  },
  {
   "cell_type": "code",
   "execution_count": 197,
   "id": "0b03c7bd",
   "metadata": {},
   "outputs": [
    {
     "name": "stdout",
     "output_type": "stream",
     "text": [
      "Enter the data to check for palindrome: 1000000000000000001\n",
      "It is a palindrome.\n"
     ]
    }
   ],
   "source": [
    "s1 = input(\"Enter the data to check for palindrome: \")\n",
    "s2 = s1[::-1]\n",
    "if s1 == s2:\n",
    "  print(\"It is a palindrome.\")\n",
    "else:\n",
    "  print(\"It is not a palindrome.\")"
   ]
  },
  {
   "cell_type": "markdown",
   "id": "cf9f37af",
   "metadata": {},
   "source": [
    "## Practice"
   ]
  },
  {
   "cell_type": "code",
   "execution_count": 36,
   "id": "3383973a",
   "metadata": {},
   "outputs": [
    {
     "name": "stdout",
     "output_type": "stream",
     "text": [
      "+ \r\n",
      "+ + \r\n",
      "+ + + \r\n",
      "+ + + + \r\n",
      "+ + + + + \r\n",
      "+ + + + + + \r\n",
      "+ + + + + + + \r\n"
     ]
    }
   ],
   "source": [
    "n = 7\n",
    "for i in range(0,n):\n",
    "  for j in range(0,i+1):\n",
    "    print(\"+ \",end = \"\")\n",
    "  print(\"\\r\")"
   ]
  },
  {
   "cell_type": "code",
   "execution_count": 37,
   "id": "f8058f59",
   "metadata": {},
   "outputs": [
    {
     "name": "stdout",
     "output_type": "stream",
     "text": [
      "Enter number of stars:10\n",
      "* * * * * * * * * * \n",
      " * * * * * * * * * \n",
      "  * * * * * * * * \n",
      "   * * * * * * * \n",
      "    * * * * * * \n",
      "     * * * * * \n",
      "      * * * * \n",
      "       * * * \n",
      "        * * \n",
      "         * \n"
     ]
    }
   ],
   "source": [
    "# Program to print star pattern.\n",
    "\n",
    "stars = int(input(\"Enter number of stars:\"))\n",
    "count = 0\n",
    "for i in range(stars,0,-1):\n",
    "  print(\" \"*count,end=\"\")\n",
    "  count = count + 1\n",
    "  for j in range(1,i+1,1):\n",
    "    print(\"* \",end=\"\")\n",
    "  print(\"\\r\")"
   ]
  },
  {
   "cell_type": "code",
   "execution_count": 38,
   "id": "05e3af71",
   "metadata": {
    "scrolled": true
   },
   "outputs": [
    {
     "name": "stdout",
     "output_type": "stream",
     "text": [
      "Enter number of stars:10\n",
      "          * \n",
      "         * * \n",
      "        * * * \n",
      "       * * * * \n",
      "      * * * * * \n",
      "     * * * * * * \n",
      "    * * * * * * * \n",
      "   * * * * * * * * \n",
      "  * * * * * * * * * \n",
      " * * * * * * * * * * \n"
     ]
    }
   ],
   "source": [
    "# Program to print inverted star pattern.\n",
    "\n",
    "stars = int(input(\"Enter number of stars:\"))\n",
    "count = 0\n",
    "for i in range(stars,0,-1):\n",
    "  print(\" \"*stars,end=\"\")\n",
    "  stars = stars - 1\n",
    "  count = count + 1\n",
    "  for j in range(1,count+1,1):\n",
    "    print(\"* \",end=\"\")\n",
    "  print(\"\\r\")"
   ]
  }
 ],
 "metadata": {
  "kernelspec": {
   "display_name": "Python 3",
   "language": "python",
   "name": "python3"
  },
  "language_info": {
   "codemirror_mode": {
    "name": "ipython",
    "version": 3
   },
   "file_extension": ".py",
   "mimetype": "text/x-python",
   "name": "python",
   "nbconvert_exporter": "python",
   "pygments_lexer": "ipython3",
   "version": "3.8.8"
  }
 },
 "nbformat": 4,
 "nbformat_minor": 5
}
