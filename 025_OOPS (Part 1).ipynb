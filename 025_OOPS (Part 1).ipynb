{
 "cells": [
  {
   "attachments": {
    "image-2.png": {
     "image/png": "[encoded data removed]"
    },
    "image.png": {
     "image/png": "[encoded data removed]"
    }
   },
   "cell_type": "markdown",
   "id": "58a9ca5e",
   "metadata": {},
   "source": [
    "# 1. Object Oriented Programming\n",
    "\n",
    "Python is a multi-paradigm programming language. It supports different programming approaches. One of the popular approaches to solve a programming problem is by creating objects. This is known as Object-Oriented Programming (OOP).\n",
    "\n",
    "An object has two characteristics :\n",
    "\n",
    "- attributes\n",
    "- behavior\n",
    "\n",
    "Let's take an example. A parrot is an object, as it has the following properties :\n",
    "\n",
    "- name, age, color as attributes.\n",
    "- singing, dancing as behavior.\n",
    "\n",
    "The concept of OOP in Python focuses on creating reusable code. This concept is also known as DRY (Don't Repeat Yourself). In Python, the concept of OOP follows some basic principles.\n",
    "\n",
    "# 2. Class\n",
    "\n",
    "A class is a blueprint for the object.\n",
    "\n",
    "We can think of class as a sketch of a parrot with labels. It contains all the details about the name, colors, size etc. Based on these descriptions, we can study about the parrot. Here, a parrot is an object.\n",
    "\n",
    "The example for class of parrot can be :\n",
    "\n",
    "![image.png](attachment:image.png)\n",
    "\n",
    "Here, we use the class keyword to define an empty class Parrot. From class, we construct instances. An instance is a specific object created from a particular class.\n",
    "\n",
    "# 3. Object\n",
    "\n",
    "An object (instance) is an instantiation of a class. When class is defined, only the description for the object is defined. Therefore, no memory or storage is allocated.\n",
    "\n",
    "The example for object of parrot class can be :\n",
    "\n",
    "![image-2.png](attachment:image-2.png)\n",
    "\n",
    "Here, obj is an object of class Parrot.\n",
    "\n",
    "Suppose we have details of parrots. Now, we are going to show how to build the class and objects of parrots.\n",
    "\n",
    "**Example : Creating Class and Object in Python**"
   ]
  },
  {
   "cell_type": "code",
   "execution_count": 7,
   "id": "0a028454",
   "metadata": {},
   "outputs": [
    {
     "name": "stdout",
     "output_type": "stream",
     "text": [
      "Blu is a bird\n",
      "Woo is also a bird\n",
      "Blu is 10 years old\n",
      "Woo is 15 years old\n"
     ]
    }
   ],
   "source": [
    "class Parrot:\n",
    "\n",
    "    # class attribute\n",
    "    species = \"bird\"\n",
    "\n",
    "    # instance attribute\n",
    "    def __init__(self, name, age):\n",
    "        self.name = name\n",
    "        self.age = age\n",
    "\n",
    "# instantiate the Parrot class\n",
    "blu = Parrot(\"Blu\", 10)\n",
    "woo = Parrot(\"Woo\", 15)\n",
    "\n",
    "# access the class attributes\n",
    "print(\"Blu is a {}\".format(blu.__class__.species))\n",
    "print(\"Woo is also a {}\".format(woo.__class__.species))\n",
    "\n",
    "# access the instance attributes\n",
    "print(\"{} is {} years old\".format(blu.name, blu.age))\n",
    "print(\"{} is {} years old\".format(woo.name, woo.age))"
   ]
  },
  {
   "cell_type": "markdown",
   "id": "b7d4f377",
   "metadata": {},
   "source": [
    "In the above program, we created a class with the name Parrot. Then, we define attributes. The attributes are a characteristic of an object.\n",
    "\n",
    "These attributes are defined inside the __init__ method of the class. It is the initializer method that is first run as soon as the object is created.\n",
    "\n",
    "Then, we create instances of the Parrot class. Here, blu and woo are references (value) to our new objects.\n",
    "\n",
    "We can access the class attribute using __class__.species. Class attributes are the same for all instances of a class. Similarly, we access the instance attributes using blu.name and blu.age. However, instance attributes are different for every instance of a class.\n",
    "\n",
    "# 4. Methods\n",
    "\n",
    "Methods are functions defined inside the body of a class. They are used to define the behaviors of an object.\n",
    "\n",
    "**Example : Creating Methods in Python**"
   ]
  },
  {
   "cell_type": "code",
   "execution_count": 2,
   "id": "1c95a7a1",
   "metadata": {},
   "outputs": [
    {
     "name": "stdout",
     "output_type": "stream",
     "text": [
      "Blu sings 'Happy'\n",
      "Blu is now dancing\n"
     ]
    }
   ],
   "source": [
    "class Parrot:\n",
    "    \n",
    "    # instance attributes\n",
    "    def __init__(self, name, age):\n",
    "        self.name = name\n",
    "        self.age = age\n",
    "    \n",
    "    # instance method\n",
    "    def sing(self, song):\n",
    "        return \"{} sings {}\".format(self.name, song)\n",
    "\n",
    "    def dance(self):\n",
    "        return \"{} is now dancing\".format(self.name)\n",
    "\n",
    "# instantiate the object\n",
    "blu = Parrot(\"Blu\", 10)\n",
    "\n",
    "# call our instance methods\n",
    "print(blu.sing(\"'Happy'\"))\n",
    "print(blu.dance())"
   ]
  },
  {
   "cell_type": "markdown",
   "id": "658f545f",
   "metadata": {},
   "source": [
    "In the above program, we define two methods i.e sing() and dance(). These are called instance methods because they are called on an instance object i.e blu.\n",
    "\n",
    "# 5. Inheritance\n",
    "\n",
    "Inheritance is a way of creating a new class for using details of an existing class without modifying it. The newly formed class is a derived class (or child class). Similarly, the existing class is a base class (or parent class).\n",
    "\n",
    "**Example : Use of Inheritance in Python**"
   ]
  },
  {
   "cell_type": "code",
   "execution_count": 3,
   "id": "661785a1",
   "metadata": {},
   "outputs": [
    {
     "name": "stdout",
     "output_type": "stream",
     "text": [
      "Bird is ready\n",
      "Penguin is ready\n",
      "Penguin\n",
      "Swim faster\n",
      "Run faster\n"
     ]
    }
   ],
   "source": [
    "# parent class\n",
    "class Bird:\n",
    "    \n",
    "    def __init__(self):\n",
    "        print(\"Bird is ready\")\n",
    "\n",
    "    def whoisThis(self):\n",
    "        print(\"Bird\")\n",
    "\n",
    "    def swim(self):\n",
    "        print(\"Swim faster\")\n",
    "\n",
    "# child class\n",
    "class Penguin(Bird):\n",
    "\n",
    "    def __init__(self):\n",
    "        # call super() function\n",
    "        super().__init__()\n",
    "        print(\"Penguin is ready\")\n",
    "\n",
    "    def whoisThis(self):\n",
    "        print(\"Penguin\")\n",
    "\n",
    "    def run(self):\n",
    "        print(\"Run faster\")\n",
    "\n",
    "peggy = Penguin()\n",
    "peggy.whoisThis()\n",
    "peggy.swim()\n",
    "peggy.run()"
   ]
  },
  {
   "cell_type": "markdown",
   "id": "b11449ea",
   "metadata": {},
   "source": [
    "In the above program, we created two classes i.e. Bird (parent class) and Penguin (child class). The child class inherits the functions of parent class. We can see this from the swim() method.\n",
    "\n",
    "Again, the child class modified the behavior of the parent class. We can see this from the whoisThis() method. Furthermore, we extend the functions of the parent class, by creating a new run() method.\n",
    "\n",
    "Additionally, we use the super() function inside the __init__() method. This allows us to run the __init__() method of the parent class inside the child class.\n",
    "\n",
    "# 6. Encapsulation\n",
    "\n",
    "Using OOP in Python, we can restrict access to methods and variables. This prevents data from direct modification which is called encapsulation. In Python, we denote private attributes using underscore as the prefix i.e single _ or double __.\n",
    "\n",
    "**Example : Data Encapsulation in Python**"
   ]
  },
  {
   "cell_type": "code",
   "execution_count": 4,
   "id": "51e5ac6f",
   "metadata": {},
   "outputs": [
    {
     "name": "stdout",
     "output_type": "stream",
     "text": [
      "Selling Price: 900\n",
      "Selling Price: 900\n",
      "Selling Price: 1000\n"
     ]
    }
   ],
   "source": [
    "class Computer:\n",
    "\n",
    "    def __init__(self):\n",
    "        self.__maxprice = 900\n",
    "\n",
    "    def sell(self):\n",
    "        print(\"Selling Price: {}\".format(self.__maxprice))\n",
    "\n",
    "    def setMaxPrice(self, price):\n",
    "        self.__maxprice = price\n",
    "\n",
    "c = Computer()\n",
    "c.sell()\n",
    "\n",
    "# change the price\n",
    "c.__maxprice = 1000\n",
    "c.sell()\n",
    "\n",
    "# using setter function\n",
    "c.setMaxPrice(1000)\n",
    "c.sell()"
   ]
  },
  {
   "cell_type": "markdown",
   "id": "f131d487",
   "metadata": {},
   "source": [
    "In the above program, we defined a Computer class. We used init() method to store the maximum selling price of Computer. Here, notice the code :\n",
    "\n",
    "**c.__maxprice = 1000**\n",
    "\n",
    "Here, we have tried to modify the value of maxprice outside of the class. However, since maxprice is a private variable, this modification is not seen on the output.\n",
    "\n",
    "As shown, to change the value, we have to use a setter function i.e setMaxPrice() which takes price as a parameter.\n",
    "\n",
    "# 7. Polymorphism\n",
    "\n",
    "Polymorphism is an ability (in OOP) to use a common interface for multiple forms (data types).\n",
    "\n",
    "Suppose, we need to color a shape, there are multiple shape options (rectangle, square, circle). However we could use the same method to color any shape. This concept is called Polymorphism.\n",
    "\n",
    "**Example : Using Polymorphism in Python**"
   ]
  },
  {
   "cell_type": "code",
   "execution_count": 5,
   "id": "0c2f73a8",
   "metadata": {},
   "outputs": [
    {
     "name": "stdout",
     "output_type": "stream",
     "text": [
      "Parrot can fly\n",
      "Penguin can't fly\n"
     ]
    }
   ],
   "source": [
    "class Parrot:\n",
    "\n",
    "    def fly(self):\n",
    "        print(\"Parrot can fly\")\n",
    "    \n",
    "    def swim(self):\n",
    "        print(\"Parrot can't swim\")\n",
    "\n",
    "class Penguin:\n",
    "\n",
    "    def fly(self):\n",
    "        print(\"Penguin can't fly\")\n",
    "    \n",
    "    def swim(self):\n",
    "        print(\"Penguin can swim\")\n",
    "\n",
    "# common interface\n",
    "def flying_test(bird):\n",
    "    bird.fly()\n",
    "\n",
    "#instantiate objects\n",
    "blu = Parrot()\n",
    "peggy = Penguin()\n",
    "\n",
    "# passing the object\n",
    "flying_test(blu)\n",
    "flying_test(peggy)"
   ]
  },
  {
   "cell_type": "markdown",
   "id": "955a5c8a",
   "metadata": {},
   "source": [
    "In the above program, we defined two classes Parrot and Penguin. Each of them have a common fly() method. However, their functions are different.\n",
    "\n",
    "To use polymorphism, we created a common interface i.e flying_test() function that takes any object and calls the object's fly() method. Thus, when we passed the blu and peggy objects in the flying_test() function, it ran effectively."
   ]
  },
  {
   "cell_type": "markdown",
   "id": "f927baf5",
   "metadata": {},
   "source": [
    "## Practice"
   ]
  },
  {
   "cell_type": "code",
   "execution_count": 25,
   "id": "d5f2df01",
   "metadata": {},
   "outputs": [],
   "source": [
    "def test(a,b):\n",
    "    return a + b"
   ]
  },
  {
   "cell_type": "code",
   "execution_count": 26,
   "id": "d05e7ce5",
   "metadata": {},
   "outputs": [
    {
     "name": "stdout",
     "output_type": "stream",
     "text": [
      "11\n",
      "sudhtest\n",
      "[1, 2, 3, 4, 5, 6, 7, 8]\n"
     ]
    }
   ],
   "source": [
    "print(test(5,6))\n",
    "print(test(\"sudh\",\"test\"))\n",
    "print(test([1,2,3,4],[5,6,7,8]))"
   ]
  },
  {
   "cell_type": "code",
   "execution_count": 2,
   "id": "99d7337c",
   "metadata": {},
   "outputs": [],
   "source": [
    "class ineuron:\n",
    "    def msg(self):\n",
    "        print(\"This is a message to ineuron.\")\n",
    "    \n",
    "class xyz:\n",
    "    def msg(self):\n",
    "        print(\"This is a message to xyz.\")       "
   ]
  },
  {
   "cell_type": "code",
   "execution_count": 3,
   "id": "5640f4a7",
   "metadata": {},
   "outputs": [],
   "source": [
    "def test(notes):\n",
    "    notes.msg()"
   ]
  },
  {
   "cell_type": "code",
   "execution_count": 4,
   "id": "19273546",
   "metadata": {},
   "outputs": [],
   "source": [
    "i = ineuron()\n",
    "x = xyz()"
   ]
  },
  {
   "cell_type": "code",
   "execution_count": 5,
   "id": "583ab638",
   "metadata": {},
   "outputs": [
    {
     "name": "stdout",
     "output_type": "stream",
     "text": [
      "This is a message to ineuron.\n"
     ]
    }
   ],
   "source": [
    "test(i)"
   ]
  },
  {
   "cell_type": "code",
   "execution_count": 6,
   "id": "76136748",
   "metadata": {},
   "outputs": [
    {
     "name": "stdout",
     "output_type": "stream",
     "text": [
      "This is a message to xyz.\n"
     ]
    }
   ],
   "source": [
    "test(x)"
   ]
  },
  {
   "cell_type": "code",
   "execution_count": 1,
   "id": "390000d4",
   "metadata": {},
   "outputs": [
    {
     "name": "stdout",
     "output_type": "stream",
     "text": [
      "11\n",
      "sudhtest\n",
      "[1, 2, 3, 4, 5, 6, 7, 8]\n",
      "This is a message to ineuron.\n",
      "This is a message to xyz.\n"
     ]
    }
   ],
   "source": [
    "def test(a,b):\n",
    "    return a + b\n",
    "\n",
    "print(test(5,6))\n",
    "print(test(\"sudh\",\"test\"))\n",
    "print(test([1,2,3,4],[5,6,7,8]))\n",
    "\n",
    "class ineuron:\n",
    "    def msg(self):\n",
    "        print(\"This is a message to ineuron.\")\n",
    "    \n",
    "class xyz:\n",
    "    def msg(self):\n",
    "        print(\"This is a message to xyz.\")\n",
    "        \n",
    "\n",
    "def test(notes):\n",
    "    notes.msg()\n",
    "\n",
    "i = ineuron()\n",
    "x = xyz()\n",
    "\n",
    "test(i)\n",
    "\n",
    "test(x)"
   ]
  },
  {
   "cell_type": "markdown",
   "id": "ac5d1498",
   "metadata": {},
   "source": [
    "# 8. Key Points\n",
    "\n",
    "- Object-Oriented Programming makes the program easy to understand as well as efficient.\n",
    "- Since the class is sharable, the code can be reused.\n",
    "- Data is safe and secure with data abstraction.\n",
    "- Polymorphism allows the same interface for different objects, so programmers can write efficient code."
   ]
  }
 ],
 "metadata": {
  "kernelspec": {
   "display_name": "Python 3",
   "language": "python",
   "name": "python3"
  },
  "language_info": {
   "codemirror_mode": {
    "name": "ipython",
    "version": 3
   },
   "file_extension": ".py",
   "mimetype": "text/x-python",
   "name": "python",
   "nbconvert_exporter": "python",
   "pygments_lexer": "ipython3",
   "version": "3.8.8"
  }
 },
 "nbformat": 4,
 "nbformat_minor": 5
}
